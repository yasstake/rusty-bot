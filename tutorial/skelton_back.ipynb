{
 "cells": [
  {
   "cell_type": "markdown",
   "metadata": {
    "colab_type": "text",
    "id": "view-in-github"
   },
   "source": [
    "<a href=\"https://colab.research.google.com/github/yasstake/rusty-bot/blob/main/tutorial/skelton_back_test.ipynb\" target=\"_parent\"><img src=\"https://colab.research.google.com/assets/colab-badge.svg\" alt=\"Open In Colab\"/></a>"
   ]
  },
  {
   "cell_type": "markdown",
   "metadata": {
    "id": "zDM8-cMgbz1N"
   },
   "source": [
    "# RustyBot(rbot)のフレームワークスケルトン(BackTest)\n",
    "\n",
    "フレームワークで動かすためのBotの構造サンプルを提供します。\n",
    "\n",
    "`on_init`, `on_tick`, `on_clock`, `on_update`を必要に応じて実装します。\n",
    "\n",
    "バックテストはColabで動きます。試してみてください。\n",
    "\n",
    "参考：\n",
    "forward, real_runはWebSocketが繋げるローカル環境が必要です。\n",
    "* [forward test](./binance_skelton_forward.ipynb)\n",
    "* [real run](./binance_skelton_realrun.ipynb)"
   ]
  },
  {
   "cell_type": "markdown",
   "metadata": {
    "id": "pi97jpFPbz1Q"
   },
   "source": [
    "## バックテストの準備"
   ]
  },
  {
   "cell_type": "code",
   "execution_count": null,
   "metadata": {
    "colab": {
     "base_uri": "https://localhost:8080/"
    },
    "id": "YkyNQ-Pxbz1Q",
    "outputId": "d0acc0b9-5454-4a0b-9daf-283064141eb0"
   },
   "outputs": [],
   "source": [
    "# rbotをインストールします。\n",
    "! pip install --upgrade pip\n",
    "! pip install rbot"
   ]
  },
  {
   "cell_type": "code",
   "execution_count": null,
   "metadata": {
    "id": "iHPUva_0bz1O"
   },
   "outputs": [],
   "source": [
    "\n",
    "from rbot import time_string\n",
    "\n",
    "class SkeltonAgent:      # クラス名は任意です\n",
    "    def __init__(self):\n",
    "        \"\"\"Botの初期化処理です。パラメータなどを設定するといいでしょう。利用しなくても構いません。\n",
    "        \"\"\"\n",
    "        self.tick_count = 0         # on_tickが呼び出された回数をカウントします。\n",
    "\n",
    "    def on_init(self, session):\n",
    "        \"\"\"Botの初期化処理。Botの初期化時に一度だけ呼ばれます。\n",
    "        通常はsession.clock_interval_secを指定しon_clockの呼び出し間隔を設定します。\n",
    "        Args:\n",
    "            session: セッション情報（Botの初期化時用に渡されます）\n",
    "        \"\"\"\n",
    "        session.clock_interval_sec = 60 * 60 * 1        # 1時間ごとにon_clockを呼び出す\n",
    "\n",
    "\n",
    "    def on_tick(self, session, side, price, size):\n",
    "        \"\"\"取引所からの全ての約定イベント毎に呼び出される処理です（高頻度で呼び出されます）\n",
    "        Args:\n",
    "            session: セッション情報（市況情報の取得や注文するために利用します)\n",
    "            side: 売買区分です。\"Buy\"または\"Sell\"が設定されます。\n",
    "            price: 約定価格です。\n",
    "            size: 約定数量です。\n",
    "        \"\"\"\n",
    "\n",
    "        # on_tickは高頻度によびだされるので、１万回に1回だけ内容をプリントします。\n",
    "        if self.tick_count % 10_000 == 0:\n",
    "            print(\"on_tick: \", side, price, size)\n",
    "\n",
    "        self.tick_count += 1\n",
    "\n",
    "    def on_clock(self, session, clock):\n",
    "        \"\"\"定期的にフレームワークから呼び出される処理です。\n",
    "        session.clock_interval_secで指定した間隔で呼び出されます。\n",
    "\n",
    "        Args:\n",
    "            session: セッション情報（市況情報の取得や注文するために利用します)\n",
    "            clock: 現在時刻です。エポック時間からのマイクロ秒で表されます。\n",
    "        \"\"\"\n",
    "        # 現在の時刻をプリントします。\n",
    "        print(\"on_clock: \", clock, \": \", time_string(clock))\n",
    "\n",
    "    def on_update(self, session, updated_order):\n",
    "        \"\"\"自分の注文状態が変化した場合に呼び出される処理です。\n",
    "        Args:\n",
    "            session: セッション情報（市況情報の取得や注文するために利用します)\n",
    "            session: セッション情報（市況情報の取得や注文するために利用します)\n",
    "            updated_order: 注文状態が変化した注文情報です。\n",
    "        \"\"\"\n",
    "        # 注文状態が変化した注文情報をプリントします。オーダーを発行しない限り呼び出されません。\n",
    "        print(\"on_update\", updated_order)\n",
    "\n"
   ]
  },
  {
   "cell_type": "code",
   "execution_count": null,
   "metadata": {},
   "outputs": [],
   "source": [
    "# Google Colabの場合は、GoogleDriveにDBをつくります。\n",
    "if 'google.colab' in str(get_ipython()):\n",
    "    # Google Driveをマウントする\n",
    "    from google.colab import drive\n",
    "    drive.mount('/content/drive')\n",
    "\n",
    "    # DBの保存先をGoogle Driveに変更する\n",
    "    import os\n",
    "    os.environ['RBOT_DB_ROOT'] = '/content/drive/MyDrive'    # MyDrive以下を指定しましたが適宜変更ください\n"
   ]
  },
  {
   "cell_type": "code",
   "execution_count": null,
   "metadata": {
    "colab": {
     "base_uri": "https://localhost:8080/"
    },
    "id": "8jYiqqWNbz1Q",
    "outputId": "db24a4be-b1a2-4652-bd01-bdccb01c71f8"
   },
   "outputs": [],
   "source": [
    "# Binanceマーケットを指定します。(BinanceかBybitのどちらかを選択してください。)\n",
    "from rbot import Binance\n",
    "from rbot import BinanceConfig\n",
    "\n",
    "\n",
    "binance_exchange = Binance(production=True)     # 本番ネットのデータを取得します。\n",
    "\n",
    "config = BinanceConfig.BTCUSDT          # BTC/USDTの市況情報を取得します。\n",
    "binance_market = binance_exchange.open_market(config)   # BTCUSDTの市況情報を取得するためのマーケットを開きます。\n"
   ]
  },
  {
   "cell_type": "code",
   "execution_count": null,
   "metadata": {},
   "outputs": [],
   "source": [
    "# Bybitマーケットを指定します。(binanceかbybitのどちらか一方を選択してください)\n",
    "from rbot import Bybit\n",
    "from rbot import BybitConfig\n",
    "\n",
    "\n",
    "\n",
    "bybit_exchange = Bybit(production=True)     # 本番ネットのデータを取得します。\n",
    "\n",
    "config = BybitConfig.BTCUSDT          # BTC/USDTの市況情報を取得します。\n",
    "bybit_market = bybit_exchange.open_market(config)   # BTCUSDTの市況情報を取得するためのマーケットを開きます。\n"
   ]
  },
  {
   "cell_type": "code",
   "execution_count": null,
   "metadata": {},
   "outputs": [],
   "source": [
    "#exchange = bybit_exchange\n",
    "#market = bybit_market\n",
    "exchange = binance_exchange\n",
    "market = binance_market"
   ]
  },
  {
   "cell_type": "code",
   "execution_count": null,
   "metadata": {},
   "outputs": [],
   "source": [
    "#  アーカイブ以外、WSやRESTからのデータを削除します\n",
    "market.expire_unfix_data(force=True)        "
   ]
  },
  {
   "cell_type": "code",
   "execution_count": null,
   "metadata": {
    "colab": {
     "base_uri": "https://localhost:8080/"
    },
    "id": "IjNoddTGbz1Q",
    "outputId": "dde2e615-e6fd-42f1-9ad1-e615458ac1ed"
   },
   "outputs": [],
   "source": [
    "# 過去ログを１日分ダウンロードします。\n",
    "# また大量のファイルをダウンロードするため、ディスク容量に注意してください。\n",
    "#  環境変数 RBOT_DB_ROOTで保存場所を変更できます。\n",
    "market.download_archive(ndays=1, verbose=True)"
   ]
  },
  {
   "cell_type": "code",
   "execution_count": null,
   "metadata": {
    "colab": {
     "base_uri": "https://localhost:8080/",
     "height": 35
    },
    "id": "GM1PpuLTbz1Q",
    "outputId": "6de872c8-fbb1-432f-e215-9ba7e3a8b043"
   },
   "outputs": [],
   "source": [
    "# DBの場所は以下の場所にあります。ディスクを解放する場合や、古いバージョンのrbotと非互換が発生した場合などDBファイルを一旦削除してください。\n",
    "market.file_name"
   ]
  },
  {
   "cell_type": "markdown",
   "metadata": {
    "id": "G-3kvXLSbz1R"
   },
   "source": []
  },
  {
   "cell_type": "code",
   "execution_count": null,
   "metadata": {
    "colab": {
     "base_uri": "https://localhost:8080/"
    },
    "id": "3GdhFk-Ubz1R",
    "outputId": "076b9ff7-a62c-421d-d32c-c7c514e73e70"
   },
   "outputs": [],
   "source": [
    "from rbot import Runner\n",
    "from rbot import NOW, DAYS\n",
    "\n",
    "agent = SkeltonAgent()\n",
    "runner = Runner()\n",
    "\n",
    "session = runner.back_test(\n",
    "                exchange=exchange,\n",
    "                market=market,\n",
    "                agent=agent,\n",
    "                start_time=0,\n",
    "                end_time=0,\n",
    "                verbose=True\n",
    "            )\n",
    "\n",
    "session"
   ]
  },
  {
   "cell_type": "code",
   "execution_count": null,
   "metadata": {
    "id": "dPXiJr2ybz1R"
   },
   "outputs": [],
   "source": [
    "# 実行したセッションからログオブジェクトを取得して分析します。\n",
    "# 今回はAgentがなにもしていないのでログがありませんが、\n",
    "# 以下流れを示します。\n",
    "log = session.log"
   ]
  },
  {
   "cell_type": "code",
   "execution_count": null,
   "metadata": {
    "colab": {
     "base_uri": "https://localhost:8080/",
     "height": 118
    },
    "id": "67DaN7Bvbz1S",
    "outputId": "280e8ec0-a2e5-40de-f8b1-025cd8ba8b60"
   },
   "outputs": [],
   "source": [
    "# 今回はオーダー発行していないので出力されません。\n",
    "log.orders"
   ]
  },
  {
   "cell_type": "code",
   "execution_count": null,
   "metadata": {
    "colab": {
     "base_uri": "https://localhost:8080/",
     "height": 98
    },
    "id": "P64wUBqebz1S",
    "outputId": "6553646c-4f5b-438b-8225-d67244c49622"
   },
   "outputs": [],
   "source": [
    "# 今回はインジケーターを保存していないので出力されません。\n",
    "# Agent中で session.log_indicator(\"indicator\", 1.0)\n",
    "# のように保存すると、保存時刻と値がDataFrameで取得できます。\n",
    "# キーとなる文字列は任意のものが任意数利用できます。\n",
    "log['indicators']"
   ]
  },
  {
   "cell_type": "code",
   "execution_count": null,
   "metadata": {
    "id": "t_TPpofvbz1S"
   },
   "outputs": [],
   "source": []
  },
  {
   "cell_type": "code",
   "execution_count": null,
   "metadata": {},
   "outputs": [],
   "source": []
  }
 ],
 "metadata": {
  "colab": {
   "include_colab_link": true,
   "provenance": []
  },
  "kernelspec": {
   "display_name": ".venv",
   "language": "python",
   "name": "python3"
  },
  "language_info": {
   "codemirror_mode": {
    "name": "ipython",
    "version": 3
   },
   "file_extension": ".py",
   "mimetype": "text/x-python",
   "name": "python",
   "nbconvert_exporter": "python",
   "pygments_lexer": "ipython3",
   "version": "3.11.6"
  }
 },
 "nbformat": 4,
 "nbformat_minor": 0
}
