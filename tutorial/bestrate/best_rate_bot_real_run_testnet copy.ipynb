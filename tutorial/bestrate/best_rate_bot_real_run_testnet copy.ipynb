{
 "cells": [
  {
   "cell_type": "markdown",
   "metadata": {},
   "source": [
    "# 片道切符まんさんの「取引大会で優勝したときのロジック」を実素してみる。\n",
    "https://note.com/_and_go/n/na62475340756\n",
    "\n",
    "## ロジック概要\n",
    "\n",
    "いくつかパターンがあるみたいですが、今回は以下のパターンを実装します。\n",
    "\n",
    "1. Best rate付近の大きめの板の手前に指値を出す。\n",
    "2. Buy, Sell両方にオーダーを出す。\n",
    "\n",
    "### 考慮事項\n",
    "\n",
    "#### 「大きめの板」の定義はどうするか？\n",
    "\n",
    "1. 板の最初は除外。２番目の板から計算。\n",
    "2. 定数　ignore_size 以下の板を無視\n",
    "3. 最初の ignore_size より大きな板を壁とする。\n",
    "\n",
    "\n",
    "### 執行ロジック\n",
    "1. 1分に１回、もしくはオーダーが執行されたら「大きめの板」の前の価格を計算\n",
    "2. 売り・買いの両方にオーダーを出す（ただし以下のようにして同じ方向のオーダーは１つにする）\n",
    "   1. 売注文残がなく、かつ、買い注文が約定していてポジションがマイナスの場合 →　売り注文\n",
    "   2. 買注文残がなく、かつ、売り注文が約定していてポジションがプラスの場合　→　買注文\n",
    "\n",
    "注：現物にはポジションの概念がありませんが、Bot起動時からのセッションで売り・買いの約定数の差分をポジションとして計算しています。\n",
    "\n",
    "## コード\n",
    "\n",
    "BinanceのBTUCSDTのデータを使いフォーワードテストを行い、結果がグラフ表示するコードです。\n",
    "\n",
    "以下順番に実行していってみてください。\n",
    "\n",
    "テスト用のため、フォーワードテスト時間は１８０秒にしてありますが、適宜変更してみてください。\n",
    "\n",
    "ignore_sizeなど変化させてみるのも面白いとおもいます。"
   ]
  },
  {
   "cell_type": "code",
   "execution_count": null,
   "metadata": {},
   "outputs": [],
   "source": [
    "# rbot拡張ライブラリのインストール（２回目は不要です）\n",
    "! pip install --upgrade pip\n",
    "! pip install --upgrade rbot"
   ]
  },
  {
   "cell_type": "code",
   "execution_count": null,
   "metadata": {},
   "outputs": [],
   "source": [
    "# 関連ライブラリのインストール\n",
    "! pip install pyarrow\n",
    "! pip install polars\n",
    "! pip install plotly\n",
    "! pip install nbformat\n",
    "! pip install numpy\n",
    "! pip install pandas\n",
    "! pip install json2html"
   ]
  },
  {
   "cell_type": "code",
   "execution_count": null,
   "metadata": {},
   "outputs": [],
   "source": [
    "! pip install polars\n",
    "! pip install pyarrow"
   ]
  },
  {
   "cell_type": "code",
   "execution_count": null,
   "metadata": {},
   "outputs": [],
   "source": [
    "import polars as pl\n",
    "pl.Config.fmt_str_lengths = 50\n"
   ]
  },
  {
   "cell_type": "code",
   "execution_count": null,
   "metadata": {},
   "outputs": [],
   "source": [
    "\n",
    "from rbot import BinanceConfig, BinanceMarket\n",
    "from rbot import Runner\n",
    "from rbot import NOW, HHMM"
   ]
  },
  {
   "cell_type": "code",
   "execution_count": null,
   "metadata": {},
   "outputs": [],
   "source": [
    "class MMBot:\n",
    "    def __init__(self):\n",
    "        \"\"\" MMBot クラス初期化（チューニングパラメータ設定）\"\"\"\n",
    "        self.ignore_size = 0.05\n",
    "        self.order_size = 0.01\n",
    "        self.price_tick = 0.01\n",
    "        self.expire_time = 60*10\n",
    "\n",
    "    def wall_price(self, board):\n",
    "        \"\"\"板の壁の値段を返す\"\"\"\n",
    "        wall = board[1:].filter(self.ignore_size < pl.col(\"size\"))\n",
    "        if len(wall) == 0:\n",
    "            return None\n",
    "        \n",
    "        price = wall.head(1)['price'][0]\n",
    "        return price\n",
    "\n",
    "\n",
    "    def main_logic(self, session):\n",
    "        \"\"\" メインロジック \"\"\"\n",
    "        if session.expire_order(self.expire_time):  # １０分以上経過した注文をキャンセル\n",
    "            return                                  # キャンセルしたら終了(次のループで再度注文する)\n",
    "        \n",
    "        bid, ask = session.board # 板情報を取得\n",
    "        if len(bid) < 10 or len(ask) <10:  # 板情報がない場合は終了\n",
    "            return \n",
    "        \n",
    "        buy_price = self.wall_price(bid)    # 壁が検出できた場合\n",
    "        if buy_price is None:\n",
    "            return\n",
    "        buy_price = buy_price + self.price_tick    # 壁の一つ前の価格を計算\n",
    "        \n",
    "        sell_price = self.wall_price(ask)\n",
    "        if sell_price is None:\n",
    "            return\n",
    "        sell_price = sell_price - self.price_tick       # 壁の一つ前の価格を計算\n",
    "        \n",
    "        session.log_indicator(\"buy_price\", buy_price)         # ログに壁の一つ前の価格を記録   \n",
    "        session.log_indicator(\"sell_price\", sell_price)       # ログに壁の一つ前の価格を記録\n",
    "        session.log_indicator(\"spread\", sell_price - buy_price)   # 買いと売りの壁の差を記録\n",
    "        \n",
    "        if not session.buy_orders and session.position <= 0:    # 買い注文がなく、ポジションがマイナス（売り注文が約定済みの場合）\n",
    "            session.limit_order(\"Buy\", buy_price, self.order_size)  # 壁の一つ前の価格で買い注文を出す\n",
    "            print(\"Buy order price\", buy_price, \"size\", self.order_size)\n",
    "        \n",
    "        if not session.sell_orders and 0 <= session.position:      # 売り注文がなく、ポジションがプラス（買い注文が約定済みの場合）\n",
    "            session.limit_order(\"Sell\", sell_price, self.order_size) # 壁の一つ前の価格で売り注文を出す\n",
    "            print(\"Sell order price\", sell_price, \"size\", self.order_size)\n",
    "\n",
    "\n",
    "    def on_init(self, session):\n",
    "        \"\"\" フレームワークから呼び出される初期化 on_clockの呼び出し間隔を設定 \"\"\"\n",
    "        session.clock_interval_sec = 60     # 60秒ごとに on_clock を呼び出す\n",
    "\n",
    "    def on_clock(self, session, timestamp):\n",
    "        \"\"\" フレームワークから呼び出される定期的な処理 \"\"\"\n",
    "        self.main_logic(session)\n",
    "    \n",
    "    def on_update(self, session, order):\n",
    "        \"\"\" フレームワークから呼び出される注文更新時の処理 \"\"\"\n",
    "        # 注文が約定したかキャンセルされたら、次のオーダーを出すためにメインロジックを呼び出す\n",
    "        if order.status == \"Filled\" or order.status == \"Canceled\":\n",
    "            self.main_logic(session)\n"
   ]
  },
  {
   "cell_type": "code",
   "execution_count": null,
   "metadata": {},
   "outputs": [],
   "source": [
    "config = BinanceConfig.TEST_BTCUSDT\n",
    "market = BinanceMarket(config)\n",
    "\n",
    "from rbot import init_log\n",
    "init_log()\n"
   ]
  },
  {
   "cell_type": "code",
   "execution_count": null,
   "metadata": {},
   "outputs": [],
   "source": [
    "market.download(1, verbose=True)"
   ]
  },
  {
   "cell_type": "code",
   "execution_count": null,
   "metadata": {},
   "outputs": [],
   "source": [
    "agent = MMBot()         # テスト対象のエージェントのインスタンスを作成\n",
    "runner = Runner()       # テスト実行クラス（Runner）のインスタンスを作成\n",
    "\n",
    "# ドライラン（フォーワードテスト実施）\n",
    "# 最低１日分のログをダウンロードするため、初回は時間がかかります。\n",
    "session = runner.real_run(\n",
    "                        market=market,            # テスト対象のマーケット()\n",
    "                        agent=agent,             # テスト対象のエージェント\n",
    "                        verbose=True,      # 実行ログを出力する(True)\n",
    "                        execute_time=180,   # テスト実行時間（秒）本番時はどは0にして無制限にする\n",
    "                        log_memory=True    # ログをメモリに出力する(True)。本番時はFalseにし、ファイルに出力する。\n",
    ")\n",
    "\n",
    "\n",
    "# runnner.back_test()を使うと、過去のデータを使ってバックテストができるが、板情報は未対応のため今回は利用不可。\n",
    "# なお、runner.dry_run()をrunner.run()に変えると本当に注文が出されるので注意！！"
   ]
  },
  {
   "cell_type": "code",
   "execution_count": null,
   "metadata": {},
   "outputs": [],
   "source": [
    "log = session.log       # ログオブジェクトを取得\n",
    "\n",
    "orders = log.orders    # ログオブジェクトから注文ログを取得\n",
    "orders                  # 注文ログを表示"
   ]
  },
  {
   "cell_type": "code",
   "execution_count": null,
   "metadata": {},
   "outputs": [],
   "source": [
    "# 損益結果\n",
    "orders['sum_profit'][-1]"
   ]
  },
  {
   "cell_type": "code",
   "execution_count": null,
   "metadata": {},
   "outputs": [],
   "source": [
    "# 利益ピーク\n",
    "orders['sum_profit'].max()"
   ]
  },
  {
   "cell_type": "code",
   "execution_count": null,
   "metadata": {},
   "outputs": [],
   "source": [
    "# 利益最小\n",
    "orders['sum_profit'].min()"
   ]
  },
  {
   "cell_type": "code",
   "execution_count": null,
   "metadata": {},
   "outputs": [],
   "source": [
    "# １回の取引の最大利益\n",
    "orders['total_profit'].max()"
   ]
  },
  {
   "cell_type": "code",
   "execution_count": null,
   "metadata": {},
   "outputs": [],
   "source": [
    "# １回の取引の最大損失\n",
    "orders['total_profit'].min()"
   ]
  },
  {
   "cell_type": "code",
   "execution_count": null,
   "metadata": {},
   "outputs": [],
   "source": [
    "# オーダー状況分析\n",
    "orders.group_by(['order_side', 'status']).count()"
   ]
  },
  {
   "cell_type": "code",
   "execution_count": null,
   "metadata": {},
   "outputs": [],
   "source": [
    "# オーダーごとに集約\n",
    "group_by_order = orders.group_by(['order_id']).agg(\n",
    "    pl.col('symbol').first(), \n",
    "    pl.col('order_side').first(), \n",
    "    pl.col('status').last(), \n",
    "    pl.col('order_price').first(), \n",
    "    pl.col('order_size').first(), \n",
    "    pl.col('execute_size').sum(),\n",
    "    pl.col('update_time').last(),\n",
    "    pl.col('total_profit').sum()\n",
    ").sort('update_time')\n",
    "\n",
    "\n",
    "group_by_order"
   ]
  },
  {
   "cell_type": "code",
   "execution_count": null,
   "metadata": {},
   "outputs": [],
   "source": [
    "# 勝敗分析\n",
    "lost = len(group_by_order.filter(pl.col('total_profit') < 0))\n",
    "win = len(group_by_order.filter(pl.col('total_profit') > 0))\n",
    "\n",
    "print(f'勝ち:{win} 負け:{lost} 勝率:{win/(win+lost)}')"
   ]
  },
  {
   "cell_type": "code",
   "execution_count": null,
   "metadata": {},
   "outputs": [],
   "source": [
    "# グラフで状況確認"
   ]
  },
  {
   "cell_type": "code",
   "execution_count": null,
   "metadata": {},
   "outputs": [],
   "source": [
    "\n",
    "ohlcv = market.ohlcv(runner.start_timestamp - HHMM(0,1),  # テスト時間の１分前から\n",
    "                     runner.last_timestamp + HHMM(0, 1),  # テスト時間の１分後まで\n",
    "                      5                    # 5秒足)\n",
    "                      )\n",
    "\n",
    "ohlcv"
   ]
  },
  {
   "cell_type": "code",
   "execution_count": null,
   "metadata": {},
   "outputs": [],
   "source": [
    "import plotly.graph_objects as go\n",
    "from plotly.subplots import make_subplots\n",
    "\n",
    "fig = make_subplots(rows=4, cols=1, shared_xaxes=True, vertical_spacing=0.1, row_heights=[0.1, 0.1, 0.1, 0.6],\n",
    "                    subplot_titles=(\"spread\", \"position\", \"profit\", \"candlestick\"))\n",
    "\n",
    "# row 1 (indicator)\n",
    "spread = log['spread']\n",
    "fig.add_trace(go.Scatter(x=spread['timestamp'], y=spread['spread'], name=\"spread\"), row=1, col=1)\n",
    "\n",
    "# row 2 (position)\n",
    "fig.add_trace(go.Scatter(x=orders['update_time'], y=orders['position'], name=\"position\", line=dict(shape='hv')), row=2, col=1)\n",
    "\n",
    "# row 3 (profit)\n",
    "profit = orders['sum_profit']\n",
    "fig.add_trace(go.Scatter(x=orders['update_time'], y=orders['sum_profit'], name=\"profit\", line=dict(shape='hv')), row=3, col=1)\n",
    "\n",
    "# row 4 (candlestick)\n",
    "fig.add_candlestick(x=ohlcv['timestamp'], open=ohlcv['open'], high=ohlcv['high'], low=ohlcv['low'], close=ohlcv['close'], row=4, col=1)\n",
    "\n",
    "# row 4 (order)\n",
    "buy_orders = orders.filter((orders['order_side'] == 'Buy') & (orders['status'] == 'New'))\n",
    "fig.add_trace(go.Scatter(x=buy_orders['update_time'], y=buy_orders['order_price'], mode='markers', marker=dict(symbol='arrow-up', color='red', size=10), name=\"buy\"), row=4, col=1)\n",
    "\n",
    "buy_orders = orders.filter((orders['order_side'] == 'Buy') & (orders['status'] == 'Filled'))\n",
    "fig.add_trace(go.Scatter(x=buy_orders['update_time'], y=buy_orders['order_price'], mode='markers', marker=dict(symbol='cross-thin-open', color='red', size=10), name=\"buy filled\"), row=4, col=1)\n",
    "\n",
    "\n",
    "sell_orders = orders.filter((orders['order_side'] == 'Sell') & (orders['status'] == 'New'))\n",
    "fig.add_trace(go.Scatter(x=sell_orders['update_time'], y=sell_orders['order_price'], mode='markers', marker=dict(symbol='arrow-down', color='blue', size=10), name=\"sell\"), row=4, col=1)\n",
    "\n",
    "sell_orders = orders.filter((orders['order_side'] == 'Sell') & (orders['status'] == 'Filled'))\n",
    "fig.add_trace(go.Scatter(x=sell_orders['update_time'], y=sell_orders['order_price'], mode='markers', marker=dict(symbol='cross-thin-open', color='blue', size=10), name=\"sell filled\"), row=4, col=1)\n",
    "\n",
    "fig.update_layout(height=800, title_text=\"Backtest Result\")"
   ]
  },
  {
   "cell_type": "markdown",
   "metadata": {},
   "source": [
    "# （おまけ）該当期間のVAP(Volume At Price)の表示"
   ]
  },
  {
   "cell_type": "code",
   "execution_count": null,
   "metadata": {},
   "outputs": [],
   "source": [
    "vap = market.vap(start_time=runner.start_timestamp, \n",
    "                 end_time=runner.last_timestamp,\n",
    "                 price_unit=1\n",
    "                 )"
   ]
  },
  {
   "cell_type": "code",
   "execution_count": null,
   "metadata": {},
   "outputs": [],
   "source": [
    "fig = go.Figure(\n",
    "    data=[\n",
    "        go.Scatter(\n",
    "            x=vap['sell_volume'],\n",
    "            y=vap['price'],\n",
    "            fill='tozerox',\n",
    "            name='sell'\n",
    "        ),\n",
    "        go.Scatter(\n",
    "            x=vap['sell_volume'] + vap['buy_volume'],\n",
    "            y=vap['price'],\n",
    "            fill='tonextx',\n",
    "            name='buy'\n",
    "        ),\n",
    "    ],\n",
    "    layout=go.Layout(barmode='stack')\n",
    ")\n",
    "\n",
    "fig"
   ]
  },
  {
   "cell_type": "code",
   "execution_count": null,
   "metadata": {},
   "outputs": [],
   "source": []
  }
 ],
 "metadata": {
  "kernelspec": {
   "display_name": "venv",
   "language": "python",
   "name": "python3"
  },
  "language_info": {
   "codemirror_mode": {
    "name": "ipython",
    "version": 3
   },
   "file_extension": ".py",
   "mimetype": "text/x-python",
   "name": "python",
   "nbconvert_exporter": "python",
   "pygments_lexer": "ipython3",
   "version": "3.9.6"
  }
 },
 "nbformat": 4,
 "nbformat_minor": 2
}
