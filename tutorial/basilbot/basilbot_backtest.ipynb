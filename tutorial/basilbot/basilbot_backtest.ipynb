{
  "cells": [
    {
      "cell_type": "markdown",
      "metadata": {
        "id": "view-in-github",
        "colab_type": "text"
      },
      "source": [
        "<a href=\"https://colab.research.google.com/github/yasstake/rusty-bot/blob/main/tutorial/basilbot/basilbot_backtest.ipynb\" target=\"_parent\"><img src=\"https://colab.research.google.com/assets/colab-badge.svg\" alt=\"Open In Colab\"/></a>"
      ]
    },
    {
      "cell_type": "markdown",
      "metadata": {
        "id": "o2dZg7-ER8Y-"
      },
      "source": [
        "# バジルさんの記事「Binanceで数か月運用していた高頻度botの紹介」を実装してみる。\n",
        "https://note.com/kkngo/n/n13fb59bacc95?sub_rt=share_sb\n",
        "\n",
        "## バックテスト　＆　フォーワードテスト\n",
        "\n",
        "[テストネットによる本番運用はこちら](.//basilbot_real_run_testnet.ipynb)"
      ]
    },
    {
      "cell_type": "markdown",
      "metadata": {
        "id": "AA3aRy_fR8Y_"
      },
      "source": [
        "## ロジック\n",
        "バジルさんのロジックを引用すると以下のとおり\n",
        "\n",
        "* 取引頻度\n",
        "    約定履歴から作成した3秒足ごと\n",
        "* エントリー/イグジット条件\n",
        "    * 常に買いから入り、終値*0.9995など決め打ちでの買い指値（数字は仮）\n",
        "    * イグジットも終値*1.0005など決め打ちでの売り指値（数字は仮）\n",
        "\n",
        "* ピラミッディングやドテンの類はなし\n",
        "* 手持ちのTUSD（2500TUSDくらい）分のBTCを買って売るだけ\n",
        "* 4/27に大きく焼かれてからは、直近数時間の値動きが大きすぎるときはエントリーしないように対応\n",
        "* 約定回数\n",
        "    200～300回/日\n"
      ]
    },
    {
      "cell_type": "markdown",
      "metadata": {
        "id": "J5gSlyBYR8Y_"
      },
      "source": [
        "これを今回の実装用に調整・具体化すると以下。\n",
        "\n",
        "* 3秒毎にエントリーするかどうかを判定。\n",
        "\n",
        "* エントリー条件\n",
        "  * 前回のオーダーが残っていない（オーダー中および買いポジション(相当)がない）\n",
        "  * 直前の値動きが大きくない\n",
        "    * ３０分足を４本とり、平均の値幅が閾値以下。\n",
        "* オーダーキャンセル条件\n",
        "  * EXPIRE_TIME(600秒: 10分)以上約定しないオーダーはキャンセルする。\n",
        "* 執行戦略\n",
        "  * 買い\n",
        "    * エントリー条件が揃ったら執行\n",
        "    * 指値: 3秒足の終値 * (1-OFFSET)     // OFFSETは0.0005などの値\n",
        "    * 数量: 0.001 BTC\n",
        "  * 売り\n",
        "    * 買いオーダーの約定が残っていたら執行\n",
        "    * 指値：買いオーダー発行時の3秒足の終値 * (1+OFFSET)     // OFFSETは0.0005などの値\n",
        "    * 数量：約定した買い注文と同数（=仮想敵なPosition）\n",
        "    * その他：売りオーダーがExpireしてCancelされた場合、即、market_orderで投げうる。\n"
      ]
    },
    {
      "cell_type": "code",
      "execution_count": 1,
      "metadata": {
        "colab": {
          "base_uri": "https://localhost:8080/"
        },
        "id": "LQCY3HuqR8ZA",
        "outputId": "e83e742f-eb7c-4870-a223-6fdb81e3ea0e"
      },
      "outputs": [
        {
          "output_type": "stream",
          "name": "stdout",
          "text": [
            "Requirement already satisfied: pip in /usr/local/lib/python3.10/dist-packages (23.1.2)\n",
            "Collecting pip\n",
            "  Downloading pip-24.0-py3-none-any.whl (2.1 MB)\n",
            "\u001b[2K     \u001b[90m━━━━━━━━━━━━━━━━━━━━━━━━━━━━━━━━━━━━━━━━\u001b[0m \u001b[32m2.1/2.1 MB\u001b[0m \u001b[31m8.1 MB/s\u001b[0m eta \u001b[36m0:00:00\u001b[0m\n",
            "\u001b[?25hInstalling collected packages: pip\n",
            "  Attempting uninstall: pip\n",
            "    Found existing installation: pip 23.1.2\n",
            "    Uninstalling pip-23.1.2:\n",
            "      Successfully uninstalled pip-23.1.2\n",
            "Successfully installed pip-24.0\n",
            "Looking in indexes: https://test.pypi.org/simple/\n",
            "Collecting rbot\n",
            "  Downloading https://test-files.pythonhosted.org/packages/25/97/2d58c92d484faa4de78e232ede803ea77d5aba97ad3cec648d6a1f91d4a6/rbot-0.3.4-cp38-abi3-manylinux_2_17_x86_64.manylinux2014_x86_64.whl.metadata (8.5 kB)\n",
            "Downloading https://test-files.pythonhosted.org/packages/25/97/2d58c92d484faa4de78e232ede803ea77d5aba97ad3cec648d6a1f91d4a6/rbot-0.3.4-cp38-abi3-manylinux_2_17_x86_64.manylinux2014_x86_64.whl (17.7 MB)\n",
            "\u001b[2K   \u001b[90m━━━━━━━━━━━━━━━━━━━━━━━━━━━━━━━━━━━━━━━━\u001b[0m \u001b[32m17.7/17.7 MB\u001b[0m \u001b[31m26.9 MB/s\u001b[0m eta \u001b[36m0:00:00\u001b[0m\n",
            "\u001b[?25hInstalling collected packages: rbot\n",
            "Successfully installed rbot-0.3.4\n",
            "\u001b[33mWARNING: Running pip as the 'root' user can result in broken permissions and conflicting behaviour with the system package manager. It is recommended to use a virtual environment instead: https://pip.pypa.io/warnings/venv\u001b[0m\u001b[33m\n",
            "\u001b[0m"
          ]
        }
      ],
      "source": [
        "# rbot拡張ライブラリのインストール（２回目は不要です）\n",
        "! pip install --upgrade pip\n",
        "#! pip install -i https://test.pypi.org/simple/ rbot\n",
        "! pip install rbot"
      ]
    },
    {
      "cell_type": "code",
      "execution_count": 2,
      "metadata": {
        "colab": {
          "base_uri": "https://localhost:8080/"
        },
        "id": "8UeuP9A8R8ZA",
        "outputId": "33875d93-f88a-474b-8d98-a97aabd6dc30"
      },
      "outputs": [
        {
          "output_type": "stream",
          "name": "stdout",
          "text": [
            "Requirement already satisfied: pyarrow in /usr/local/lib/python3.10/dist-packages (14.0.2)\n",
            "Requirement already satisfied: numpy>=1.16.6 in /usr/local/lib/python3.10/dist-packages (from pyarrow) (1.25.2)\n",
            "\u001b[33mWARNING: Running pip as the 'root' user can result in broken permissions and conflicting behaviour with the system package manager. It is recommended to use a virtual environment instead: https://pip.pypa.io/warnings/venv\u001b[0m\u001b[33m\n",
            "\u001b[0mRequirement already satisfied: polars in /usr/local/lib/python3.10/dist-packages (0.20.2)\n",
            "Collecting polars\n",
            "  Downloading polars-0.20.18-cp38-abi3-manylinux_2_17_x86_64.manylinux2014_x86_64.whl.metadata (15 kB)\n",
            "Downloading polars-0.20.18-cp38-abi3-manylinux_2_17_x86_64.manylinux2014_x86_64.whl (26.3 MB)\n",
            "\u001b[2K   \u001b[90m━━━━━━━━━━━━━━━━━━━━━━━━━━━━━━━━━━━━━━━━\u001b[0m \u001b[32m26.3/26.3 MB\u001b[0m \u001b[31m37.3 MB/s\u001b[0m eta \u001b[36m0:00:00\u001b[0m\n",
            "\u001b[?25hInstalling collected packages: polars\n",
            "  Attempting uninstall: polars\n",
            "    Found existing installation: polars 0.20.2\n",
            "    Uninstalling polars-0.20.2:\n",
            "      Successfully uninstalled polars-0.20.2\n",
            "Successfully installed polars-0.20.18\n",
            "\u001b[33mWARNING: Running pip as the 'root' user can result in broken permissions and conflicting behaviour with the system package manager. It is recommended to use a virtual environment instead: https://pip.pypa.io/warnings/venv\u001b[0m\u001b[33m\n",
            "\u001b[0mRequirement already satisfied: plotly in /usr/local/lib/python3.10/dist-packages (5.15.0)\n",
            "Requirement already satisfied: tenacity>=6.2.0 in /usr/local/lib/python3.10/dist-packages (from plotly) (8.2.3)\n",
            "Requirement already satisfied: packaging in /usr/local/lib/python3.10/dist-packages (from plotly) (24.0)\n",
            "\u001b[33mWARNING: Running pip as the 'root' user can result in broken permissions and conflicting behaviour with the system package manager. It is recommended to use a virtual environment instead: https://pip.pypa.io/warnings/venv\u001b[0m\u001b[33m\n",
            "\u001b[0mRequirement already satisfied: nbformat in /usr/local/lib/python3.10/dist-packages (5.10.3)\n",
            "Requirement already satisfied: fastjsonschema in /usr/local/lib/python3.10/dist-packages (from nbformat) (2.19.1)\n",
            "Requirement already satisfied: jsonschema>=2.6 in /usr/local/lib/python3.10/dist-packages (from nbformat) (4.19.2)\n",
            "Requirement already satisfied: jupyter-core in /usr/local/lib/python3.10/dist-packages (from nbformat) (5.7.2)\n",
            "Requirement already satisfied: traitlets>=5.1 in /usr/local/lib/python3.10/dist-packages (from nbformat) (5.7.1)\n",
            "Requirement already satisfied: attrs>=22.2.0 in /usr/local/lib/python3.10/dist-packages (from jsonschema>=2.6->nbformat) (23.2.0)\n",
            "Requirement already satisfied: jsonschema-specifications>=2023.03.6 in /usr/local/lib/python3.10/dist-packages (from jsonschema>=2.6->nbformat) (2023.12.1)\n",
            "Requirement already satisfied: referencing>=0.28.4 in /usr/local/lib/python3.10/dist-packages (from jsonschema>=2.6->nbformat) (0.34.0)\n",
            "Requirement already satisfied: rpds-py>=0.7.1 in /usr/local/lib/python3.10/dist-packages (from jsonschema>=2.6->nbformat) (0.18.0)\n",
            "Requirement already satisfied: platformdirs>=2.5 in /usr/local/lib/python3.10/dist-packages (from jupyter-core->nbformat) (4.2.0)\n",
            "\u001b[33mWARNING: Running pip as the 'root' user can result in broken permissions and conflicting behaviour with the system package manager. It is recommended to use a virtual environment instead: https://pip.pypa.io/warnings/venv\u001b[0m\u001b[33m\n",
            "\u001b[0mRequirement already satisfied: numpy in /usr/local/lib/python3.10/dist-packages (1.25.2)\n",
            "\u001b[33mWARNING: Running pip as the 'root' user can result in broken permissions and conflicting behaviour with the system package manager. It is recommended to use a virtual environment instead: https://pip.pypa.io/warnings/venv\u001b[0m\u001b[33m\n",
            "\u001b[0mRequirement already satisfied: pandas in /usr/local/lib/python3.10/dist-packages (2.0.3)\n",
            "Requirement already satisfied: python-dateutil>=2.8.2 in /usr/local/lib/python3.10/dist-packages (from pandas) (2.8.2)\n",
            "Requirement already satisfied: pytz>=2020.1 in /usr/local/lib/python3.10/dist-packages (from pandas) (2023.4)\n",
            "Requirement already satisfied: tzdata>=2022.1 in /usr/local/lib/python3.10/dist-packages (from pandas) (2024.1)\n",
            "Requirement already satisfied: numpy>=1.21.0 in /usr/local/lib/python3.10/dist-packages (from pandas) (1.25.2)\n",
            "Requirement already satisfied: six>=1.5 in /usr/local/lib/python3.10/dist-packages (from python-dateutil>=2.8.2->pandas) (1.16.0)\n",
            "\u001b[33mWARNING: Running pip as the 'root' user can result in broken permissions and conflicting behaviour with the system package manager. It is recommended to use a virtual environment instead: https://pip.pypa.io/warnings/venv\u001b[0m\u001b[33m\n",
            "\u001b[0mCollecting json2html\n",
            "  Downloading json2html-1.3.0.tar.gz (7.0 kB)\n",
            "  Preparing metadata (setup.py) ... \u001b[?25l\u001b[?25hdone\n",
            "Building wheels for collected packages: json2html\n",
            "  Building wheel for json2html (setup.py) ... \u001b[?25l\u001b[?25hdone\n",
            "  Created wheel for json2html: filename=json2html-1.3.0-py3-none-any.whl size=7593 sha256=a5a44f41490054011322c6328ceaa9bdb58e808246d4db3ac5a847e4bd6bc226\n",
            "  Stored in directory: /root/.cache/pip/wheels/e0/d8/b3/6f83a04ab0ec00e691de794d108286bb0f8bcdf4ade19afb57\n",
            "Successfully built json2html\n",
            "Installing collected packages: json2html\n",
            "Successfully installed json2html-1.3.0\n",
            "\u001b[33mWARNING: Running pip as the 'root' user can result in broken permissions and conflicting behaviour with the system package manager. It is recommended to use a virtual environment instead: https://pip.pypa.io/warnings/venv\u001b[0m\u001b[33m\n",
            "\u001b[0m"
          ]
        }
      ],
      "source": [
        "# 関連ライブラリのインストール\n",
        "# Polarsは0.20.0が必要です。\n",
        "! pip install pyarrow\n",
        "! pip install --upgrade polars\n",
        "! pip install plotly\n",
        "! pip install nbformat\n",
        "! pip install numpy\n",
        "! pip install pandas\n",
        "! pip install json2html"
      ]
    },
    {
      "cell_type": "markdown",
      "metadata": {
        "id": "tkLybrR0R8ZA"
      },
      "source": [
        "# Agent（BOT）の実装"
      ]
    },
    {
      "cell_type": "code",
      "execution_count": 3,
      "metadata": {
        "id": "tfz8NHK1R8ZA"
      },
      "outputs": [],
      "source": [
        "class BasilAgent:\n",
        "    def __init__(self):\n",
        "        self.OFFSET = 0.00_05\n",
        "        self.EXPIRE_TIME = 600    # 600[sec] = 10[min]\n",
        "        self.ORDER_SIZE = 0.01\n",
        "        self.RANGE = 300\n",
        "\n",
        "    def on_init(self, session):\n",
        "        session.clock_interval_sec = 3     # 3秒ごとに on_clock を呼び出す\n",
        "\n",
        "    def on_clock(self, session, clock):\n",
        "        if session.expire_order(self.EXPIRE_TIME):         # 期限切れの注文をキャンセルする.\n",
        "            return                                          # 期限切れがあればリターン\n",
        "\n",
        "        if session.buy_orders or session.sell_orders:   # 既に注文がある場合はリターン\n",
        "            return\n",
        "\n",
        "        # 1時間足のレンジを計算してログに出力する。レンジが大きい場合はトレードしない。\n",
        "        ohlcv1h = session.ohlcv(60*60, 4)\n",
        "        range = (ohlcv1h['high']-ohlcv1h['low']).mean()\n",
        "        session.log_indicator(\"range\", range)\n",
        "\n",
        "        if self.RANGE < range:\n",
        "            return\n",
        "\n",
        "        ohlcv = session.ohlcv(3, 1)         # 3秒足を1本分取得。\n",
        "        if len(ohlcv) < 1:                 # 3秒間に約定データがない場合リターン\n",
        "            print(\"NO OHLCV DATA\")\n",
        "            return\n",
        "\n",
        "        if session.position <= 0.001:    # ポジションが少ない場合は買い注文を出す。\n",
        "            order_price = ohlcv['close'][-1] * (1 - self.OFFSET)\n",
        "            print(\"BUY ORDER: \", order_price, self.ORDER_SIZE)\n",
        "            session.limit_order('Buy', order_price, self.ORDER_SIZE - session.position)\n",
        "\n",
        "        else:                       # ポジションがある場合は売り注文を出す。\n",
        "            order_price = ohlcv['close'][-1] * (1 + self.OFFSET)\n",
        "            print(\"SELL ORDER: \", order_price, session.position)\n",
        "            session.limit_order('Sell', order_price, session.position)\n",
        "\n",
        "    def on_update(self, session, updated_order):\n",
        "        # 売りオーダーが期限切れされた場合には、成り行きで売り注文を出す（ロスカット）\n",
        "        if updated_order.status == 'Canceled':\n",
        "            if updated_order.side == 'Sell':\n",
        "                session.market_order('Sell', updated_order.remaining_size)\n",
        "\n"
      ]
    },
    {
      "cell_type": "markdown",
      "metadata": {
        "id": "sxwZy7uhR8ZA"
      },
      "source": [
        "## バックテスト"
      ]
    },
    {
      "cell_type": "code",
      "execution_count": 4,
      "metadata": {
        "id": "N83sk-LZR8ZA"
      },
      "outputs": [],
      "source": [
        "from rbot import NOW, DAYS"
      ]
    },
    {
      "cell_type": "code",
      "execution_count": 5,
      "metadata": {
        "colab": {
          "base_uri": "https://localhost:8080/"
        },
        "id": "8gBqoB-nV4Vj",
        "outputId": "22f8a9ff-8974-43b0-8540-6e7b43711faa"
      },
      "outputs": [
        {
          "output_type": "stream",
          "name": "stdout",
          "text": [
            "Mounted at /content/drive\n"
          ]
        }
      ],
      "source": [
        "# Google Colabの場合は、GoogleDriveにDBをつくります。\n",
        "if 'google.colab' in str(get_ipython()):\n",
        "    # Google Driveをマウントする\n",
        "    from google.colab import drive\n",
        "    drive.mount('/content/drive')\n",
        "\n",
        "    # DBの保存先をGoogle Driveに変更する\n",
        "    import os\n",
        "    os.environ['RBOT_DB_ROOT'] = '/content/drive/MyDrive'    # MyDrive以下を指定しましたが適宜変更ください\n"
      ]
    },
    {
      "cell_type": "code",
      "execution_count": 6,
      "metadata": {
        "id": "CeKYGcTFV4Vj"
      },
      "outputs": [],
      "source": [
        "# Binanceマーケットを指定します。(BinanceかBybitのどちらかを選択してください。)\n",
        "from rbot import Binance\n",
        "from rbot import BinanceConfig\n",
        "\n",
        "\n",
        "binance_exchange = Binance(production=True)     # 本番ネットのデータを取得します。\n",
        "\n",
        "config = BinanceConfig.BTCUSDT          # BTC/USDTの市況情報を取得します。\n",
        "binance_market = binance_exchange.open_market(config)   # BTCUSDTの市況情報を取得するためのマーケットを開きます。\n"
      ]
    },
    {
      "cell_type": "code",
      "execution_count": 7,
      "metadata": {
        "id": "HoCm4I1mV4Vk"
      },
      "outputs": [],
      "source": [
        "# Bybitマーケットを指定します。(binanceかbybitのどちらか一方を選択してください)\n",
        "from rbot import Bybit\n",
        "from rbot import BybitConfig\n",
        "\n",
        "\n",
        "\n",
        "bybit_exchange = Bybit(production=True)     # 本番ネットのデータを取得します。\n",
        "\n",
        "config = BybitConfig.BTCUSDT          # BTC/USDTの市況情報を取得します。\n",
        "bybit_market = bybit_exchange.open_market(config)   # BTCUSDTの市況情報を取得するためのマーケットを開きます。\n"
      ]
    },
    {
      "cell_type": "code",
      "execution_count": 8,
      "metadata": {
        "id": "Gs_zAQv0V4Vk"
      },
      "outputs": [],
      "source": [
        "# どちらかを選ぶ\n",
        "\n",
        "exchange = bybit_exchange\n",
        "market = bybit_market\n",
        "# exchange = binance_exchange\n",
        "# market = binance_market"
      ]
    },
    {
      "cell_type": "code",
      "execution_count": 9,
      "metadata": {
        "colab": {
          "base_uri": "https://localhost:8080/"
        },
        "id": "RdsurKqER8ZB",
        "outputId": "da2b732d-bff7-460d-9210-3ca6c78ce89f"
      },
      "outputs": [
        {
          "output_type": "execute_result",
          "data": {
            "text/plain": [
              "3770143"
            ]
          },
          "metadata": {},
          "execution_count": 9
        }
      ],
      "source": [
        "# バックテストの期間を設定\n",
        "BACKTEST_DAYS = 2\n",
        "\n",
        "# バックテスト用に過去データをダウンロード\n",
        "market.download_archive(\n",
        "    ndays=BACKTEST_DAYS,          # 過去2日分のデータをダウンロード\n",
        "    verbose=True,\n",
        ")"
      ]
    },
    {
      "cell_type": "code",
      "execution_count": 10,
      "metadata": {
        "id": "JITPJsWdR8ZB"
      },
      "outputs": [],
      "source": [
        "from rbot import Runner\n",
        "agent = BasilAgent()        # 実行対象のエージェントを指定\n",
        "runner = Runner()           # 実行モジュール Runner を作成"
      ]
    },
    {
      "cell_type": "code",
      "execution_count": 11,
      "metadata": {
        "colab": {
          "base_uri": "https://localhost:8080/"
        },
        "id": "vJHgewahR8ZB",
        "outputId": "c357dd9f-363c-4da5-dad9-4282310ca7e0"
      },
      "outputs": [
        {
          "output_type": "stream",
          "name": "stdout",
          "text": [
            "BUY ORDER:  65446.96015 0.01\n",
            "SELL ORDER:  65476.3218 0.01\n",
            "BUY ORDER:  65448.05960000001 0.01\n",
            "SELL ORDER:  65462.614949999996 0.01\n",
            "BUY ORDER:  65432.567350000005 0.01\n",
            "BUY ORDER:  65406.580350000004 0.01\n",
            "SELL ORDER:  65427.2973 0.01\n"
          ]
        }
      ],
      "source": [
        "session = runner.back_test(\n",
        "    exchange=exchange,              # Exchangeを指定\n",
        "    agent=agent,                    # エージェントを指定\n",
        "    market=market,                  # マーケットを指定\n",
        "    start_time=NOW()-DAYS(BACKTEST_DAYS), # 開始時刻を指定\n",
        "    end_time=0,                     # 終了時刻を指定(0を指定すると最後まで実行)\n",
        "    # execute_time=60*60*24,        # 実行時間を指定(指定しない、もしくは0を指定すると最後まで実行)\n",
        "    verbose=True,                   # 実行の進捗を表示\n",
        "    # log_file=\"./bot.log\"            # ログファイルを指定(指定しないとファイルは作られない）\n",
        ")\n"
      ]
    },
    {
      "cell_type": "code",
      "execution_count": 12,
      "metadata": {
        "colab": {
          "base_uri": "https://localhost:8080/",
          "height": 637
        },
        "id": "wSlxhiVjR8ZB",
        "outputId": "7966f289-5966-4c2e-f9ab-d7f828a9bdac"
      },
      "outputs": [
        {
          "output_type": "execute_result",
          "data": {
            "text/plain": [
              "shape: (17, 35)\n",
              "┌────────┬─────────┬─────────────┬─────────────┬───┬─────────┬───────────┬────────────┬────────────┐\n",
              "│ log_id ┆ symbol  ┆ update_time ┆ create_time ┆ … ┆ profit  ┆ fee       ┆ total_prof ┆ sum_profit │\n",
              "│ ---    ┆ ---     ┆ ---         ┆ ---         ┆   ┆ ---     ┆ ---       ┆ it         ┆ ---        │\n",
              "│ i64    ┆ str     ┆ datetime[μs ┆ datetime[μs ┆   ┆ f64     ┆ f64       ┆ ---        ┆ f64        │\n",
              "│        ┆         ┆ ]           ┆ ]           ┆   ┆         ┆           ┆ f64        ┆            │\n",
              "╞════════╪═════════╪═════════════╪═════════════╪═══╪═════════╪═══════════╪════════════╪════════════╡\n",
              "│ 1      ┆ BTCUSDT ┆ 2024-04-03  ┆ 2024-04-03  ┆ … ┆ 0.0     ┆ 0.0       ┆ 0.0        ┆ 0.0        │\n",
              "│        ┆         ┆ 00:00:00.74 ┆ 00:00:00.59 ┆   ┆         ┆           ┆            ┆            │\n",
              "│        ┆         ┆ 7500        ┆ 9500        ┆   ┆         ┆           ┆            ┆            │\n",
              "│ 2      ┆ BTCUSDT ┆ 2024-04-03  ┆ 2024-04-03  ┆ … ┆ 0.0     ┆ 0.065447  ┆ -0.065447  ┆ -0.065447  │\n",
              "│        ┆         ┆ 00:00:10.16 ┆ 00:00:00.59 ┆   ┆         ┆           ┆            ┆            │\n",
              "│        ┆         ┆ 9800        ┆ 9500        ┆   ┆         ┆           ┆            ┆            │\n",
              "│ 3      ┆ BTCUSDT ┆ 2024-04-03  ┆ 2024-04-03  ┆ … ┆ 0.0     ┆ 0.0       ┆ 0.0        ┆ -0.065447  │\n",
              "│        ┆         ┆ 00:00:12.10 ┆ 00:00:12    ┆   ┆         ┆           ┆            ┆            │\n",
              "│        ┆         ┆ 1100        ┆             ┆   ┆         ┆           ┆            ┆            │\n",
              "│ 4      ┆ BTCUSDT ┆ 2024-04-03  ┆ 2024-04-03  ┆ … ┆ 0.02936 ┆ 0.006548  ┆ 0.022812   ┆ -0.042635  │\n",
              "│        ┆         ┆ 00:00:17.94 ┆ 00:00:12    ┆   ┆         ┆           ┆            ┆            │\n",
              "│        ┆         ┆ 0400        ┆             ┆   ┆         ┆           ┆            ┆            │\n",
              "│ 5      ┆ BTCUSDT ┆ 2024-04-03  ┆ 2024-04-03  ┆ … ┆ 0.26424 ┆ 0.058929  ┆ 0.205311   ┆ 0.162677   │\n",
              "│        ┆         ┆ 00:00:17.98 ┆ 00:00:12    ┆   ┆         ┆           ┆            ┆            │\n",
              "│        ┆         ┆ 1           ┆             ┆   ┆         ┆           ┆            ┆            │\n",
              "│ …      ┆ …       ┆ …           ┆ …           ┆ … ┆ …       ┆ …         ┆ …          ┆ …          │\n",
              "│ 13     ┆ BTCUSDT ┆ 2024-04-03  ┆ 2024-04-03  ┆ … ┆ 0.0     ┆ 0.0       ┆ 0.0        ┆ 0.177266   │\n",
              "│        ┆         ┆ 00:14:15.51 ┆ 00:04:12    ┆   ┆         ┆           ┆            ┆            │\n",
              "│        ┆         ┆ 2900        ┆             ┆   ┆         ┆           ┆            ┆            │\n",
              "│ 14     ┆ BTCUSDT ┆ 2024-04-03  ┆ 2024-04-03  ┆ … ┆ 0.0     ┆ 0.0       ┆ 0.0        ┆ 0.177266   │\n",
              "│        ┆         ┆ 00:14:18.27 ┆ 00:14:18    ┆   ┆         ┆           ┆            ┆            │\n",
              "│        ┆         ┆ 5300        ┆             ┆   ┆         ┆           ┆            ┆            │\n",
              "│ 15     ┆ BTCUSDT ┆ 2024-04-03  ┆ 2024-04-03  ┆ … ┆ 0.0     ┆ 0.065407  ┆ -0.065407  ┆ 0.111859   │\n",
              "│        ┆         ┆ 00:14:31.91 ┆ 00:14:18    ┆   ┆         ┆           ┆            ┆            │\n",
              "│        ┆         ┆ 1400        ┆             ┆   ┆         ┆           ┆            ┆            │\n",
              "│ 16     ┆ BTCUSDT ┆ 2024-04-03  ┆ 2024-04-03  ┆ … ┆ 0.0     ┆ 0.0       ┆ 0.0        ┆ 0.111859   │\n",
              "│        ┆         ┆ 00:14:33.07 ┆ 00:14:33    ┆   ┆         ┆           ┆            ┆            │\n",
              "│        ┆         ┆ 9900        ┆             ┆   ┆         ┆           ┆            ┆            │\n",
              "│ 17     ┆ BTCUSDT ┆ 2024-04-03  ┆ 2024-04-03  ┆ … ┆ 0.2072  ┆ 0.0654273 ┆ 0.1417727  ┆ 0.253632   │\n",
              "│        ┆         ┆ 00:16:43.10 ┆ 00:14:33    ┆   ┆         ┆           ┆            ┆            │\n",
              "│        ┆         ┆ 5900        ┆             ┆   ┆         ┆           ┆            ┆            │\n",
              "└────────┴─────────┴─────────────┴─────────────┴───┴─────────┴───────────┴────────────┴────────────┘"
            ],
            "text/html": [
              "<div><style>\n",
              ".dataframe > thead > tr,\n",
              ".dataframe > tbody > tr {\n",
              "  text-align: right;\n",
              "  white-space: pre-wrap;\n",
              "}\n",
              "</style>\n",
              "<small>shape: (17, 35)</small><table border=\"1\" class=\"dataframe\"><thead><tr><th>log_id</th><th>symbol</th><th>update_time</th><th>create_time</th><th>status</th><th>order_id</th><th>client_order_id</th><th>order_side</th><th>order_type</th><th>order_price</th><th>order_size</th><th>remain_size</th><th>transaction_id</th><th>execute_price</th><th>execute_size</th><th>quote_vol</th><th>commission</th><th>commission_asset</th><th>is_maker</th><th>message</th><th>commission_home</th><th>commission_foreign</th><th>home_change</th><th>foreign_change</th><th>free_home_change</th><th>free_foreign_change</th><th>lock_home_change</th><th>lock_foreign_change</th><th>open_position</th><th>close_position</th><th>position</th><th>profit</th><th>fee</th><th>total_profit</th><th>sum_profit</th></tr><tr><td>i64</td><td>str</td><td>datetime[μs]</td><td>datetime[μs]</td><td>str</td><td>str</td><td>str</td><td>str</td><td>str</td><td>f64</td><td>f64</td><td>f64</td><td>str</td><td>f64</td><td>f64</td><td>f64</td><td>f64</td><td>str</td><td>bool</td><td>str</td><td>f64</td><td>f64</td><td>f64</td><td>f64</td><td>f64</td><td>f64</td><td>f64</td><td>f64</td><td>f64</td><td>f64</td><td>f64</td><td>f64</td><td>f64</td><td>f64</td><td>f64</td></tr></thead><tbody><tr><td>1</td><td>&quot;BTCUSDT&quot;</td><td>2024-04-03 00:00:00.747500</td><td>2024-04-03 00:00:00.599500</td><td>&quot;New&quot;</td><td>&quot;BasilAgent-4_q…</td><td>&quot;BasilAgent-4_q…</td><td>&quot;Buy&quot;</td><td>&quot;Limit&quot;</td><td>65446.96</td><td>0.01</td><td>0.01</td><td>&quot;&quot;</td><td>0.0</td><td>0.0</td><td>0.0</td><td>0.0</td><td>&quot;USDT&quot;</td><td>true</td><td>&quot;&quot;</td><td>0.0</td><td>0.0</td><td>0.0</td><td>0.0</td><td>-654.4696</td><td>0.0</td><td>654.4696</td><td>0.0</td><td>0.0</td><td>0.0</td><td>0.0</td><td>0.0</td><td>0.0</td><td>0.0</td><td>0.0</td></tr><tr><td>2</td><td>&quot;BTCUSDT&quot;</td><td>2024-04-03 00:00:10.169800</td><td>2024-04-03 00:00:00.599500</td><td>&quot;Filled&quot;</td><td>&quot;BasilAgent-4_q…</td><td>&quot;BasilAgent-4_q…</td><td>&quot;Buy&quot;</td><td>&quot;Limit&quot;</td><td>65446.96</td><td>0.01</td><td>0.0</td><td>&quot;BasilAgent-000…</td><td>65446.96</td><td>0.01</td><td>654.4696</td><td>0.0</td><td>&quot;USDT&quot;</td><td>true</td><td>&quot;&quot;</td><td>0.0</td><td>0.0</td><td>-654.4696</td><td>0.01</td><td>0.0</td><td>0.01</td><td>-654.4696</td><td>0.0</td><td>0.01</td><td>0.0</td><td>0.01</td><td>0.0</td><td>0.065447</td><td>-0.065447</td><td>-0.065447</td></tr><tr><td>3</td><td>&quot;BTCUSDT&quot;</td><td>2024-04-03 00:00:12.101100</td><td>2024-04-03 00:00:12</td><td>&quot;New&quot;</td><td>&quot;BasilAgent-4_q…</td><td>&quot;BasilAgent-4_q…</td><td>&quot;Sell&quot;</td><td>&quot;Limit&quot;</td><td>65476.32</td><td>0.01</td><td>0.01</td><td>&quot;&quot;</td><td>0.0</td><td>0.0</td><td>0.0</td><td>0.0</td><td>&quot;USDT&quot;</td><td>true</td><td>&quot;&quot;</td><td>0.0</td><td>0.0</td><td>0.0</td><td>0.0</td><td>0.0</td><td>-0.01</td><td>0.0</td><td>0.01</td><td>0.0</td><td>0.0</td><td>0.01</td><td>0.0</td><td>0.0</td><td>0.0</td><td>-0.065447</td></tr><tr><td>4</td><td>&quot;BTCUSDT&quot;</td><td>2024-04-03 00:00:17.940400</td><td>2024-04-03 00:00:12</td><td>&quot;PartiallyFille…</td><td>&quot;BasilAgent-4_q…</td><td>&quot;BasilAgent-4_q…</td><td>&quot;Sell&quot;</td><td>&quot;Limit&quot;</td><td>65476.32</td><td>0.01</td><td>0.009</td><td>&quot;BasilAgent-000…</td><td>65476.32</td><td>0.001</td><td>65.47632</td><td>0.0</td><td>&quot;USDT&quot;</td><td>true</td><td>&quot;&quot;</td><td>0.0</td><td>0.0</td><td>65.47632</td><td>-0.001</td><td>65.47632</td><td>-0.001</td><td>0.0</td><td>-0.001</td><td>0.0</td><td>0.001</td><td>0.009</td><td>0.02936</td><td>0.006548</td><td>0.022812</td><td>-0.042635</td></tr><tr><td>5</td><td>&quot;BTCUSDT&quot;</td><td>2024-04-03 00:00:17.981</td><td>2024-04-03 00:00:12</td><td>&quot;Filled&quot;</td><td>&quot;BasilAgent-4_q…</td><td>&quot;BasilAgent-4_q…</td><td>&quot;Sell&quot;</td><td>&quot;Limit&quot;</td><td>65476.32</td><td>0.01</td><td>0.0</td><td>&quot;BasilAgent-000…</td><td>65476.32</td><td>0.009</td><td>589.28688</td><td>0.0</td><td>&quot;USDT&quot;</td><td>true</td><td>&quot;&quot;</td><td>0.0</td><td>0.0</td><td>589.28688</td><td>-0.009</td><td>589.28688</td><td>-0.009</td><td>0.0</td><td>-0.009</td><td>0.0</td><td>0.009</td><td>0.0</td><td>0.26424</td><td>0.058929</td><td>0.205311</td><td>0.162677</td></tr><tr><td>&hellip;</td><td>&hellip;</td><td>&hellip;</td><td>&hellip;</td><td>&hellip;</td><td>&hellip;</td><td>&hellip;</td><td>&hellip;</td><td>&hellip;</td><td>&hellip;</td><td>&hellip;</td><td>&hellip;</td><td>&hellip;</td><td>&hellip;</td><td>&hellip;</td><td>&hellip;</td><td>&hellip;</td><td>&hellip;</td><td>&hellip;</td><td>&hellip;</td><td>&hellip;</td><td>&hellip;</td><td>&hellip;</td><td>&hellip;</td><td>&hellip;</td><td>&hellip;</td><td>&hellip;</td><td>&hellip;</td><td>&hellip;</td><td>&hellip;</td><td>&hellip;</td><td>&hellip;</td><td>&hellip;</td><td>&hellip;</td><td>&hellip;</td></tr><tr><td>13</td><td>&quot;BTCUSDT&quot;</td><td>2024-04-03 00:14:15.512900</td><td>2024-04-03 00:04:12</td><td>&quot;Canceled&quot;</td><td>&quot;BasilAgent-4_q…</td><td>&quot;BasilAgent-4_q…</td><td>&quot;Buy&quot;</td><td>&quot;Limit&quot;</td><td>65432.57</td><td>0.01</td><td>0.01</td><td>&quot;&quot;</td><td>0.0</td><td>0.0</td><td>0.0</td><td>0.0</td><td>&quot;USDT&quot;</td><td>true</td><td>&quot;&quot;</td><td>0.0</td><td>0.0</td><td>0.0</td><td>0.0</td><td>654.3257</td><td>0.0</td><td>-654.3257</td><td>0.0</td><td>0.0</td><td>0.0</td><td>0.0</td><td>0.0</td><td>0.0</td><td>0.0</td><td>0.177266</td></tr><tr><td>14</td><td>&quot;BTCUSDT&quot;</td><td>2024-04-03 00:14:18.275300</td><td>2024-04-03 00:14:18</td><td>&quot;New&quot;</td><td>&quot;BasilAgent-4_q…</td><td>&quot;BasilAgent-4_q…</td><td>&quot;Buy&quot;</td><td>&quot;Limit&quot;</td><td>65406.58</td><td>0.01</td><td>0.01</td><td>&quot;&quot;</td><td>0.0</td><td>0.0</td><td>0.0</td><td>0.0</td><td>&quot;USDT&quot;</td><td>true</td><td>&quot;&quot;</td><td>0.0</td><td>0.0</td><td>0.0</td><td>0.0</td><td>-654.0658</td><td>0.0</td><td>654.0658</td><td>0.0</td><td>0.0</td><td>0.0</td><td>0.0</td><td>0.0</td><td>0.0</td><td>0.0</td><td>0.177266</td></tr><tr><td>15</td><td>&quot;BTCUSDT&quot;</td><td>2024-04-03 00:14:31.911400</td><td>2024-04-03 00:14:18</td><td>&quot;Filled&quot;</td><td>&quot;BasilAgent-4_q…</td><td>&quot;BasilAgent-4_q…</td><td>&quot;Buy&quot;</td><td>&quot;Limit&quot;</td><td>65406.58</td><td>0.01</td><td>0.0</td><td>&quot;BasilAgent-000…</td><td>65406.58</td><td>0.01</td><td>654.0658</td><td>0.0</td><td>&quot;USDT&quot;</td><td>true</td><td>&quot;&quot;</td><td>0.0</td><td>0.0</td><td>-654.0658</td><td>0.01</td><td>0.0</td><td>0.01</td><td>-654.0658</td><td>0.0</td><td>0.01</td><td>0.0</td><td>0.01</td><td>0.0</td><td>0.065407</td><td>-0.065407</td><td>0.111859</td></tr><tr><td>16</td><td>&quot;BTCUSDT&quot;</td><td>2024-04-03 00:14:33.079900</td><td>2024-04-03 00:14:33</td><td>&quot;New&quot;</td><td>&quot;BasilAgent-4_q…</td><td>&quot;BasilAgent-4_q…</td><td>&quot;Sell&quot;</td><td>&quot;Limit&quot;</td><td>65427.3</td><td>0.01</td><td>0.01</td><td>&quot;&quot;</td><td>0.0</td><td>0.0</td><td>0.0</td><td>0.0</td><td>&quot;USDT&quot;</td><td>true</td><td>&quot;&quot;</td><td>0.0</td><td>0.0</td><td>0.0</td><td>0.0</td><td>0.0</td><td>-0.01</td><td>0.0</td><td>0.01</td><td>0.0</td><td>0.0</td><td>0.01</td><td>0.0</td><td>0.0</td><td>0.0</td><td>0.111859</td></tr><tr><td>17</td><td>&quot;BTCUSDT&quot;</td><td>2024-04-03 00:16:43.105900</td><td>2024-04-03 00:14:33</td><td>&quot;Filled&quot;</td><td>&quot;BasilAgent-4_q…</td><td>&quot;BasilAgent-4_q…</td><td>&quot;Sell&quot;</td><td>&quot;Limit&quot;</td><td>65427.3</td><td>0.01</td><td>0.0</td><td>&quot;BasilAgent-000…</td><td>65427.3</td><td>0.01</td><td>654.273</td><td>0.0</td><td>&quot;USDT&quot;</td><td>true</td><td>&quot;&quot;</td><td>0.0</td><td>0.0</td><td>654.273</td><td>-0.01</td><td>654.273</td><td>-0.01</td><td>0.0</td><td>-0.01</td><td>0.0</td><td>0.01</td><td>0.0</td><td>0.2072</td><td>0.0654273</td><td>0.1417727</td><td>0.253632</td></tr></tbody></table></div>"
            ]
          },
          "metadata": {},
          "execution_count": 12
        }
      ],
      "source": [
        "log = session.log\n",
        "orders = log.orders\n",
        "orders.head(100)"
      ]
    },
    {
      "cell_type": "code",
      "execution_count": 13,
      "metadata": {
        "colab": {
          "base_uri": "https://localhost:8080/",
          "height": 318
        },
        "id": "EPnQNW_LR8ZB",
        "outputId": "7ef9aea5-fe71-4fff-e75a-65e064a5cad8"
      },
      "outputs": [
        {
          "output_type": "execute_result",
          "data": {
            "text/plain": [
              "shape: (7, 3)\n",
              "┌────────────┬─────────────────┬─────┐\n",
              "│ order_side ┆ status          ┆ len │\n",
              "│ ---        ┆ ---             ┆ --- │\n",
              "│ str        ┆ str             ┆ u32 │\n",
              "╞════════════╪═════════════════╪═════╡\n",
              "│ Buy        ┆ Filled          ┆ 3   │\n",
              "│ Buy        ┆ PartiallyFilled ┆ 2   │\n",
              "│ Sell       ┆ PartiallyFilled ┆ 1   │\n",
              "│ Buy        ┆ New             ┆ 4   │\n",
              "│ Sell       ┆ Filled          ┆ 3   │\n",
              "│ Buy        ┆ Canceled        ┆ 1   │\n",
              "│ Sell       ┆ New             ┆ 3   │\n",
              "└────────────┴─────────────────┴─────┘"
            ],
            "text/html": [
              "<div><style>\n",
              ".dataframe > thead > tr,\n",
              ".dataframe > tbody > tr {\n",
              "  text-align: right;\n",
              "  white-space: pre-wrap;\n",
              "}\n",
              "</style>\n",
              "<small>shape: (7, 3)</small><table border=\"1\" class=\"dataframe\"><thead><tr><th>order_side</th><th>status</th><th>len</th></tr><tr><td>str</td><td>str</td><td>u32</td></tr></thead><tbody><tr><td>&quot;Buy&quot;</td><td>&quot;Filled&quot;</td><td>3</td></tr><tr><td>&quot;Buy&quot;</td><td>&quot;PartiallyFille…</td><td>2</td></tr><tr><td>&quot;Sell&quot;</td><td>&quot;PartiallyFille…</td><td>1</td></tr><tr><td>&quot;Buy&quot;</td><td>&quot;New&quot;</td><td>4</td></tr><tr><td>&quot;Sell&quot;</td><td>&quot;Filled&quot;</td><td>3</td></tr><tr><td>&quot;Buy&quot;</td><td>&quot;Canceled&quot;</td><td>1</td></tr><tr><td>&quot;Sell&quot;</td><td>&quot;New&quot;</td><td>3</td></tr></tbody></table></div>"
            ]
          },
          "metadata": {},
          "execution_count": 13
        }
      ],
      "source": [
        "# オーダー状況分析\n",
        "# あまりにCancelが多い場合は、Expireの時間やオーダーのOFFSETを調整する必要がある。\n",
        "orders.group_by(['order_side', 'status']).len()"
      ]
    },
    {
      "cell_type": "code",
      "execution_count": 14,
      "metadata": {
        "colab": {
          "base_uri": "https://localhost:8080/"
        },
        "id": "Wozxa3x6R8ZB",
        "outputId": "7bff7e0e-0c13-44a2-8b44-d7a497fe4857"
      },
      "outputs": [
        {
          "output_type": "execute_result",
          "data": {
            "text/plain": [
              "0.25363217"
            ]
          },
          "metadata": {},
          "execution_count": 14
        }
      ],
      "source": [
        "# 最終想定損益\n",
        "orders['sum_profit'][-1]"
      ]
    },
    {
      "cell_type": "code",
      "execution_count": 15,
      "metadata": {
        "colab": {
          "base_uri": "https://localhost:8080/"
        },
        "id": "wdt8vTsxR8ZB",
        "outputId": "b7ad57d5-68a0-4aa7-ac98-c3eda6dbc372"
      },
      "outputs": [
        {
          "output_type": "execute_result",
          "data": {
            "text/plain": [
              "0.6462999999999999"
            ]
          },
          "metadata": {},
          "execution_count": 15
        }
      ],
      "source": [
        "# 手数料なし想定損益\n",
        "orders['profit'].sum()"
      ]
    },
    {
      "cell_type": "code",
      "execution_count": 16,
      "metadata": {
        "colab": {
          "base_uri": "https://localhost:8080/",
          "height": 255
        },
        "id": "mJ4vIh8-R8ZB",
        "outputId": "2ba2ff3e-02cf-40f9-ff8e-a516f7ce4bc2"
      },
      "outputs": [
        {
          "output_type": "execute_result",
          "data": {
            "text/plain": [
              "shape: (5, 7)\n",
              "┌────────────────────────────┬─────────┬─────────┬─────────┬─────────┬─────────┬───────┐\n",
              "│ timestamp                  ┆ open    ┆ high    ┆ low     ┆ close   ┆ volume  ┆ count │\n",
              "│ ---                        ┆ ---     ┆ ---     ┆ ---     ┆ ---     ┆ ---     ┆ ---   │\n",
              "│ datetime[μs]               ┆ f64     ┆ f64     ┆ f64     ┆ f64     ┆ f64     ┆ u32   │\n",
              "╞════════════════════════════╪═════════╪═════════╪═════════╪═════════╪═════════╪═══════╡\n",
              "│ 2024-04-03 00:42:30.036900 ┆ 65180.8 ┆ 65209.9 ┆ 65131.4 ┆ 65207.0 ┆ 118.404 ┆ 1179  │\n",
              "│ 2024-04-03 00:43:00.036900 ┆ 65207.0 ┆ 65232.6 ┆ 65104.1 ┆ 65160.5 ┆ 120.288 ┆ 1044  │\n",
              "│ 2024-04-03 00:43:30.036900 ┆ 65160.0 ┆ 65230.8 ┆ 65142.6 ┆ 65230.8 ┆ 44.974  ┆ 521   │\n",
              "│ 2024-04-03 00:44:00.036900 ┆ 65230.8 ┆ 65241.5 ┆ 65156.4 ┆ 65163.1 ┆ 55.429  ┆ 699   │\n",
              "│ 2024-04-03 00:44:30.036900 ┆ 65161.4 ┆ 65209.7 ┆ 65145.1 ┆ 65187.9 ┆ 50.56   ┆ 613   │\n",
              "└────────────────────────────┴─────────┴─────────┴─────────┴─────────┴─────────┴───────┘"
            ],
            "text/html": [
              "<div><style>\n",
              ".dataframe > thead > tr,\n",
              ".dataframe > tbody > tr {\n",
              "  text-align: right;\n",
              "  white-space: pre-wrap;\n",
              "}\n",
              "</style>\n",
              "<small>shape: (5, 7)</small><table border=\"1\" class=\"dataframe\"><thead><tr><th>timestamp</th><th>open</th><th>high</th><th>low</th><th>close</th><th>volume</th><th>count</th></tr><tr><td>datetime[μs]</td><td>f64</td><td>f64</td><td>f64</td><td>f64</td><td>f64</td><td>u32</td></tr></thead><tbody><tr><td>2024-04-03 00:42:30.036900</td><td>65180.8</td><td>65209.9</td><td>65131.4</td><td>65207.0</td><td>118.404</td><td>1179</td></tr><tr><td>2024-04-03 00:43:00.036900</td><td>65207.0</td><td>65232.6</td><td>65104.1</td><td>65160.5</td><td>120.288</td><td>1044</td></tr><tr><td>2024-04-03 00:43:30.036900</td><td>65160.0</td><td>65230.8</td><td>65142.6</td><td>65230.8</td><td>44.974</td><td>521</td></tr><tr><td>2024-04-03 00:44:00.036900</td><td>65230.8</td><td>65241.5</td><td>65156.4</td><td>65163.1</td><td>55.429</td><td>699</td></tr><tr><td>2024-04-03 00:44:30.036900</td><td>65161.4</td><td>65209.7</td><td>65145.1</td><td>65187.9</td><td>50.56</td><td>613</td></tr></tbody></table></div>"
            ]
          },
          "metadata": {},
          "execution_count": 16
        }
      ],
      "source": [
        "\n",
        "# ローソク足データの作成\n",
        "ohlcv = market.ohlcv(\n",
        "    runner.start_timestamp,     # バックテストの開始時刻\n",
        "    runner.last_timestamp,    # バックテストの終了時刻\n",
        "    30                          # 30秒足\n",
        ")\n",
        "ohlcv.tail(5)"
      ]
    },
    {
      "cell_type": "code",
      "execution_count": 17,
      "metadata": {
        "colab": {
          "base_uri": "https://localhost:8080/",
          "height": 255
        },
        "id": "XSfXB9JGR8ZB",
        "outputId": "79bc2406-a02c-4413-9791-c07d28f8fbe0"
      },
      "outputs": [
        {
          "output_type": "execute_result",
          "data": {
            "text/plain": [
              "shape: (5, 2)\n",
              "┌─────────────────────┬────────┐\n",
              "│ timestamp           ┆ range  │\n",
              "│ ---                 ┆ ---    │\n",
              "│ datetime[μs]        ┆ f64    │\n",
              "╞═════════════════════╪════════╡\n",
              "│ 2024-04-03 00:44:45 ┆ 1218.8 │\n",
              "│ 2024-04-03 00:44:48 ┆ 1218.8 │\n",
              "│ 2024-04-03 00:44:51 ┆ 1218.8 │\n",
              "│ 2024-04-03 00:44:54 ┆ 1218.8 │\n",
              "│ 2024-04-03 00:44:57 ┆ 1218.8 │\n",
              "└─────────────────────┴────────┘"
            ],
            "text/html": [
              "<div><style>\n",
              ".dataframe > thead > tr,\n",
              ".dataframe > tbody > tr {\n",
              "  text-align: right;\n",
              "  white-space: pre-wrap;\n",
              "}\n",
              "</style>\n",
              "<small>shape: (5, 2)</small><table border=\"1\" class=\"dataframe\"><thead><tr><th>timestamp</th><th>range</th></tr><tr><td>datetime[μs]</td><td>f64</td></tr></thead><tbody><tr><td>2024-04-03 00:44:45</td><td>1218.8</td></tr><tr><td>2024-04-03 00:44:48</td><td>1218.8</td></tr><tr><td>2024-04-03 00:44:51</td><td>1218.8</td></tr><tr><td>2024-04-03 00:44:54</td><td>1218.8</td></tr><tr><td>2024-04-03 00:44:57</td><td>1218.8</td></tr></tbody></table></div>"
            ]
          },
          "metadata": {},
          "execution_count": 17
        }
      ],
      "source": [
        "# session.log_indicator('range', value)で保存したデータは以下で取得できます。戻り値はpolars.DataFrameです。\n",
        "log['range'].tail(5)"
      ]
    },
    {
      "cell_type": "code",
      "execution_count": 18,
      "metadata": {
        "colab": {
          "base_uri": "https://localhost:8080/",
          "height": 817
        },
        "id": "bT5k-vU-R8ZB",
        "outputId": "fdaa0fd8-892e-49d3-fef7-8acb4ed57315"
      },
      "outputs": [
        {
          "output_type": "display_data",
          "data": {
            "text/html": [
              "<html>\n",
              "<head><meta charset=\"utf-8\" /></head>\n",
              "<body>\n",
              "    <div>            <script src=\"https://cdnjs.cloudflare.com/ajax/libs/mathjax/2.7.5/MathJax.js?config=TeX-AMS-MML_SVG\"></script><script type=\"text/javascript\">if (window.MathJax && window.MathJax.Hub && window.MathJax.Hub.Config) {window.MathJax.Hub.Config({SVG: {font: \"STIX-Web\"}});}</script>                <script type=\"text/javascript\">window.PlotlyConfig = {MathJaxConfig: 'local'};</script>\n",
              "        <script charset=\"utf-8\" src=\"https://cdn.plot.ly/plotly-2.24.1.min.js\"></script>                <div id=\"9025e557-a326-47e0-a4c6-e9acd05e3bc3\" class=\"plotly-graph-div\" style=\"height:800px; width:100%;\"></div>            <script type=\"text/javascript\">                                    window.PLOTLYENV=window.PLOTLYENV || {};                                    if (document.getElementById(\"9025e557-a326-47e0-a4c6-e9acd05e3bc3\")) {                    Plotly.newPlot(                        \"9025e557-a326-47e0-a4c6-e9acd05e3bc3\",                        [{\"name\":\"range\",\"x\":[\"2024-04-03T00:00:00.599500\",\"2024-04-03T00:00:12.000000\",\"2024-04-03T00:00:18.000000\",\"2024-04-03T00:04:06.000000\",\"2024-04-03T00:04:12.000000\",\"2024-04-03T00:14:18.000000\",\"2024-04-03T00:14:33.000000\",\"2024-04-03T00:16:45.000000\",\"2024-04-03T00:16:48.000000\",\"2024-04-03T00:16:51.000000\",\"2024-04-03T00:16:54.000000\",\"2024-04-03T00:16:57.000000\",\"2024-04-03T00:17:00.000000\",\"2024-04-03T00:17:03.000000\",\"2024-04-03T00:17:06.000000\",\"2024-04-03T00:17:09.000000\",\"2024-04-03T00:17:12.000000\",\"2024-04-03T00:17:15.000000\",\"2024-04-03T00:17:18.000000\",\"2024-04-03T00:17:21.000000\",\"2024-04-03T00:17:24.000000\",\"2024-04-03T00:17:27.000000\",\"2024-04-03T00:17:30.000000\",\"2024-04-03T00:17:33.000000\",\"2024-04-03T00:17:36.000000\",\"2024-04-03T00:17:39.000000\",\"2024-04-03T00:17:42.000000\",\"2024-04-03T00:17:45.000000\",\"2024-04-03T00:17:48.000000\",\"2024-04-03T00:17:51.000000\",\"2024-04-03T00:17:54.000000\",\"2024-04-03T00:17:57.000000\",\"2024-04-03T00:18:00.000000\",\"2024-04-03T00:18:03.000000\",\"2024-04-03T00:18:06.000000\",\"2024-04-03T00:18:09.000000\",\"2024-04-03T00:18:12.000000\",\"2024-04-03T00:18:15.000000\",\"2024-04-03T00:18:18.000000\",\"2024-04-03T00:18:21.000000\",\"2024-04-03T00:18:24.000000\",\"2024-04-03T00:18:27.000000\",\"2024-04-03T00:18:30.000000\",\"2024-04-03T00:18:33.000000\",\"2024-04-03T00:18:36.000000\",\"2024-04-03T00:18:39.000000\",\"2024-04-03T00:18:42.000000\",\"2024-04-03T00:18:45.000000\",\"2024-04-03T00:18:48.000000\",\"2024-04-03T00:18:51.000000\",\"2024-04-03T00:18:54.000000\",\"2024-04-03T00:18:57.000000\",\"2024-04-03T00:19:00.000000\",\"2024-04-03T00:19:03.000000\",\"2024-04-03T00:19:06.000000\",\"2024-04-03T00:19:09.000000\",\"2024-04-03T00:19:12.000000\",\"2024-04-03T00:19:15.000000\",\"2024-04-03T00:19:18.000000\",\"2024-04-03T00:19:21.000000\",\"2024-04-03T00:19:24.000000\",\"2024-04-03T00:19:27.000000\",\"2024-04-03T00:19:30.000000\",\"2024-04-03T00:19:33.000000\",\"2024-04-03T00:19:36.000000\",\"2024-04-03T00:19:39.000000\",\"2024-04-03T00:19:42.000000\",\"2024-04-03T00:19:45.000000\",\"2024-04-03T00:19:48.000000\",\"2024-04-03T00:19:51.000000\",\"2024-04-03T00:19:54.000000\",\"2024-04-03T00:19:57.000000\",\"2024-04-03T00:20:00.000000\",\"2024-04-03T00:20:03.000000\",\"2024-04-03T00:20:06.000000\",\"2024-04-03T00:20:09.000000\",\"2024-04-03T00:20:12.000000\",\"2024-04-03T00:20:15.000000\",\"2024-04-03T00:20:18.000000\",\"2024-04-03T00:20:21.000000\",\"2024-04-03T00:20:24.000000\",\"2024-04-03T00:20:27.000000\",\"2024-04-03T00:20:30.000000\",\"2024-04-03T00:20:33.000000\",\"2024-04-03T00:20:36.000000\",\"2024-04-03T00:20:39.000000\",\"2024-04-03T00:20:42.000000\",\"2024-04-03T00:20:45.000000\",\"2024-04-03T00:20:48.000000\",\"2024-04-03T00:20:51.000000\",\"2024-04-03T00:20:54.000000\",\"2024-04-03T00:20:57.000000\",\"2024-04-03T00:21:00.000000\",\"2024-04-03T00:21:03.000000\",\"2024-04-03T00:21:06.000000\",\"2024-04-03T00:21:09.000000\",\"2024-04-03T00:21:12.000000\",\"2024-04-03T00:21:15.000000\",\"2024-04-03T00:21:18.000000\",\"2024-04-03T00:21:21.000000\",\"2024-04-03T00:21:24.000000\",\"2024-04-03T00:21:27.000000\",\"2024-04-03T00:21:30.000000\",\"2024-04-03T00:21:33.000000\",\"2024-04-03T00:21:36.000000\",\"2024-04-03T00:21:39.000000\",\"2024-04-03T00:21:42.000000\",\"2024-04-03T00:21:45.000000\",\"2024-04-03T00:21:48.000000\",\"2024-04-03T00:21:51.000000\",\"2024-04-03T00:21:54.000000\",\"2024-04-03T00:21:57.000000\",\"2024-04-03T00:22:00.000000\",\"2024-04-03T00:22:03.000000\",\"2024-04-03T00:22:06.000000\",\"2024-04-03T00:22:09.000000\",\"2024-04-03T00:22:12.000000\",\"2024-04-03T00:22:15.000000\",\"2024-04-03T00:22:18.000000\",\"2024-04-03T00:22:21.000000\",\"2024-04-03T00:22:24.000000\",\"2024-04-03T00:22:27.000000\",\"2024-04-03T00:22:30.000000\",\"2024-04-03T00:22:33.000000\",\"2024-04-03T00:22:36.000000\",\"2024-04-03T00:22:39.000000\",\"2024-04-03T00:22:42.000000\",\"2024-04-03T00:22:45.000000\",\"2024-04-03T00:22:48.000000\",\"2024-04-03T00:22:51.000000\",\"2024-04-03T00:22:54.000000\",\"2024-04-03T00:22:57.000000\",\"2024-04-03T00:23:00.000000\",\"2024-04-03T00:23:03.000000\",\"2024-04-03T00:23:06.000000\",\"2024-04-03T00:23:09.000000\",\"2024-04-03T00:23:12.000000\",\"2024-04-03T00:23:15.000000\",\"2024-04-03T00:23:18.000000\",\"2024-04-03T00:23:21.000000\",\"2024-04-03T00:23:24.000000\",\"2024-04-03T00:23:27.000000\",\"2024-04-03T00:23:30.000000\",\"2024-04-03T00:23:33.000000\",\"2024-04-03T00:23:36.000000\",\"2024-04-03T00:23:39.000000\",\"2024-04-03T00:23:42.000000\",\"2024-04-03T00:23:45.000000\",\"2024-04-03T00:23:48.000000\",\"2024-04-03T00:23:51.000000\",\"2024-04-03T00:23:54.000000\",\"2024-04-03T00:23:57.000000\",\"2024-04-03T00:24:00.000000\",\"2024-04-03T00:24:03.000000\",\"2024-04-03T00:24:06.000000\",\"2024-04-03T00:24:09.000000\",\"2024-04-03T00:24:12.000000\",\"2024-04-03T00:24:15.000000\",\"2024-04-03T00:24:18.000000\",\"2024-04-03T00:24:21.000000\",\"2024-04-03T00:24:24.000000\",\"2024-04-03T00:24:27.000000\",\"2024-04-03T00:24:30.000000\",\"2024-04-03T00:24:33.000000\",\"2024-04-03T00:24:36.000000\",\"2024-04-03T00:24:39.000000\",\"2024-04-03T00:24:42.000000\",\"2024-04-03T00:24:45.000000\",\"2024-04-03T00:24:48.000000\",\"2024-04-03T00:24:51.000000\",\"2024-04-03T00:24:54.000000\",\"2024-04-03T00:24:57.000000\",\"2024-04-03T00:25:00.000000\",\"2024-04-03T00:25:03.000000\",\"2024-04-03T00:25:06.000000\",\"2024-04-03T00:25:09.000000\",\"2024-04-03T00:25:12.000000\",\"2024-04-03T00:25:15.000000\",\"2024-04-03T00:25:18.000000\",\"2024-04-03T00:25:21.000000\",\"2024-04-03T00:25:24.000000\",\"2024-04-03T00:25:27.000000\",\"2024-04-03T00:25:30.000000\",\"2024-04-03T00:25:33.000000\",\"2024-04-03T00:25:36.000000\",\"2024-04-03T00:25:39.000000\",\"2024-04-03T00:25:42.000000\",\"2024-04-03T00:25:45.000000\",\"2024-04-03T00:25:48.000000\",\"2024-04-03T00:25:51.000000\",\"2024-04-03T00:25:54.000000\",\"2024-04-03T00:25:57.000000\",\"2024-04-03T00:26:00.000000\",\"2024-04-03T00:26:03.000000\",\"2024-04-03T00:26:06.000000\",\"2024-04-03T00:26:09.000000\",\"2024-04-03T00:26:12.000000\",\"2024-04-03T00:26:15.000000\",\"2024-04-03T00:26:18.000000\",\"2024-04-03T00:26:21.000000\",\"2024-04-03T00:26:24.000000\",\"2024-04-03T00:26:27.000000\",\"2024-04-03T00:26:30.000000\",\"2024-04-03T00:26:33.000000\",\"2024-04-03T00:26:36.000000\",\"2024-04-03T00:26:39.000000\",\"2024-04-03T00:26:42.000000\",\"2024-04-03T00:26:45.000000\",\"2024-04-03T00:26:48.000000\",\"2024-04-03T00:26:51.000000\",\"2024-04-03T00:26:54.000000\",\"2024-04-03T00:26:57.000000\",\"2024-04-03T00:27:00.000000\",\"2024-04-03T00:27:03.000000\",\"2024-04-03T00:27:06.000000\",\"2024-04-03T00:27:09.000000\",\"2024-04-03T00:27:12.000000\",\"2024-04-03T00:27:15.000000\",\"2024-04-03T00:27:18.000000\",\"2024-04-03T00:27:21.000000\",\"2024-04-03T00:27:24.000000\",\"2024-04-03T00:27:27.000000\",\"2024-04-03T00:27:30.000000\",\"2024-04-03T00:27:33.000000\",\"2024-04-03T00:27:36.000000\",\"2024-04-03T00:27:39.000000\",\"2024-04-03T00:27:42.000000\",\"2024-04-03T00:27:45.000000\",\"2024-04-03T00:27:48.000000\",\"2024-04-03T00:27:51.000000\",\"2024-04-03T00:27:54.000000\",\"2024-04-03T00:27:57.000000\",\"2024-04-03T00:28:00.000000\",\"2024-04-03T00:28:03.000000\",\"2024-04-03T00:28:06.000000\",\"2024-04-03T00:28:09.000000\",\"2024-04-03T00:28:12.000000\",\"2024-04-03T00:28:15.000000\",\"2024-04-03T00:28:18.000000\",\"2024-04-03T00:28:21.000000\",\"2024-04-03T00:28:24.000000\",\"2024-04-03T00:28:27.000000\",\"2024-04-03T00:28:30.000000\",\"2024-04-03T00:28:33.000000\",\"2024-04-03T00:28:36.000000\",\"2024-04-03T00:28:39.000000\",\"2024-04-03T00:28:42.000000\",\"2024-04-03T00:28:45.000000\",\"2024-04-03T00:28:48.000000\",\"2024-04-03T00:28:51.000000\",\"2024-04-03T00:28:54.000000\",\"2024-04-03T00:28:57.000000\",\"2024-04-03T00:29:00.000000\",\"2024-04-03T00:29:03.000000\",\"2024-04-03T00:29:06.000000\",\"2024-04-03T00:29:09.000000\",\"2024-04-03T00:29:12.000000\",\"2024-04-03T00:29:15.000000\",\"2024-04-03T00:29:18.000000\",\"2024-04-03T00:29:21.000000\",\"2024-04-03T00:29:24.000000\",\"2024-04-03T00:29:27.000000\",\"2024-04-03T00:29:30.000000\",\"2024-04-03T00:29:33.000000\",\"2024-04-03T00:29:36.000000\",\"2024-04-03T00:29:39.000000\",\"2024-04-03T00:29:42.000000\",\"2024-04-03T00:29:45.000000\",\"2024-04-03T00:29:48.000000\",\"2024-04-03T00:29:51.000000\",\"2024-04-03T00:29:54.000000\",\"2024-04-03T00:29:57.000000\",\"2024-04-03T00:30:00.000000\",\"2024-04-03T00:30:03.000000\",\"2024-04-03T00:30:06.000000\",\"2024-04-03T00:30:09.000000\",\"2024-04-03T00:30:12.000000\",\"2024-04-03T00:30:15.000000\",\"2024-04-03T00:30:18.000000\",\"2024-04-03T00:30:21.000000\",\"2024-04-03T00:30:24.000000\",\"2024-04-03T00:30:27.000000\",\"2024-04-03T00:30:30.000000\",\"2024-04-03T00:30:33.000000\",\"2024-04-03T00:30:36.000000\",\"2024-04-03T00:30:39.000000\",\"2024-04-03T00:30:42.000000\",\"2024-04-03T00:30:45.000000\",\"2024-04-03T00:30:48.000000\",\"2024-04-03T00:30:51.000000\",\"2024-04-03T00:30:54.000000\",\"2024-04-03T00:30:57.000000\",\"2024-04-03T00:31:00.000000\",\"2024-04-03T00:31:03.000000\",\"2024-04-03T00:31:06.000000\",\"2024-04-03T00:31:09.000000\",\"2024-04-03T00:31:12.000000\",\"2024-04-03T00:31:15.000000\",\"2024-04-03T00:31:18.000000\",\"2024-04-03T00:31:21.000000\",\"2024-04-03T00:31:24.000000\",\"2024-04-03T00:31:27.000000\",\"2024-04-03T00:31:30.000000\",\"2024-04-03T00:31:33.000000\",\"2024-04-03T00:31:36.000000\",\"2024-04-03T00:31:39.000000\",\"2024-04-03T00:31:42.000000\",\"2024-04-03T00:31:45.000000\",\"2024-04-03T00:31:48.000000\",\"2024-04-03T00:31:51.000000\",\"2024-04-03T00:31:54.000000\",\"2024-04-03T00:31:57.000000\",\"2024-04-03T00:32:00.000000\",\"2024-04-03T00:32:03.000000\",\"2024-04-03T00:32:06.000000\",\"2024-04-03T00:32:09.000000\",\"2024-04-03T00:32:12.000000\",\"2024-04-03T00:32:15.000000\",\"2024-04-03T00:32:18.000000\",\"2024-04-03T00:32:21.000000\",\"2024-04-03T00:32:24.000000\",\"2024-04-03T00:32:27.000000\",\"2024-04-03T00:32:30.000000\",\"2024-04-03T00:32:33.000000\",\"2024-04-03T00:32:36.000000\",\"2024-04-03T00:32:39.000000\",\"2024-04-03T00:32:42.000000\",\"2024-04-03T00:32:45.000000\",\"2024-04-03T00:32:48.000000\",\"2024-04-03T00:32:51.000000\",\"2024-04-03T00:32:54.000000\",\"2024-04-03T00:32:57.000000\",\"2024-04-03T00:33:00.000000\",\"2024-04-03T00:33:03.000000\",\"2024-04-03T00:33:06.000000\",\"2024-04-03T00:33:09.000000\",\"2024-04-03T00:33:12.000000\",\"2024-04-03T00:33:15.000000\",\"2024-04-03T00:33:18.000000\",\"2024-04-03T00:33:21.000000\",\"2024-04-03T00:33:24.000000\",\"2024-04-03T00:33:27.000000\",\"2024-04-03T00:33:30.000000\",\"2024-04-03T00:33:33.000000\",\"2024-04-03T00:33:36.000000\",\"2024-04-03T00:33:39.000000\",\"2024-04-03T00:33:42.000000\",\"2024-04-03T00:33:45.000000\",\"2024-04-03T00:33:48.000000\",\"2024-04-03T00:33:51.000000\",\"2024-04-03T00:33:54.000000\",\"2024-04-03T00:33:57.000000\",\"2024-04-03T00:34:00.000000\",\"2024-04-03T00:34:03.000000\",\"2024-04-03T00:34:06.000000\",\"2024-04-03T00:34:09.000000\",\"2024-04-03T00:34:12.000000\",\"2024-04-03T00:34:15.000000\",\"2024-04-03T00:34:18.000000\",\"2024-04-03T00:34:21.000000\",\"2024-04-03T00:34:24.000000\",\"2024-04-03T00:34:27.000000\",\"2024-04-03T00:34:30.000000\",\"2024-04-03T00:34:33.000000\",\"2024-04-03T00:34:36.000000\",\"2024-04-03T00:34:39.000000\",\"2024-04-03T00:34:42.000000\",\"2024-04-03T00:34:45.000000\",\"2024-04-03T00:34:48.000000\",\"2024-04-03T00:34:51.000000\",\"2024-04-03T00:34:54.000000\",\"2024-04-03T00:34:57.000000\",\"2024-04-03T00:35:00.000000\",\"2024-04-03T00:35:03.000000\",\"2024-04-03T00:35:06.000000\",\"2024-04-03T00:35:09.000000\",\"2024-04-03T00:35:12.000000\",\"2024-04-03T00:35:15.000000\",\"2024-04-03T00:35:18.000000\",\"2024-04-03T00:35:21.000000\",\"2024-04-03T00:35:24.000000\",\"2024-04-03T00:35:27.000000\",\"2024-04-03T00:35:30.000000\",\"2024-04-03T00:35:33.000000\",\"2024-04-03T00:35:36.000000\",\"2024-04-03T00:35:39.000000\",\"2024-04-03T00:35:42.000000\",\"2024-04-03T00:35:45.000000\",\"2024-04-03T00:35:48.000000\",\"2024-04-03T00:35:51.000000\",\"2024-04-03T00:35:54.000000\",\"2024-04-03T00:35:57.000000\",\"2024-04-03T00:36:00.000000\",\"2024-04-03T00:36:03.000000\",\"2024-04-03T00:36:06.000000\",\"2024-04-03T00:36:09.000000\",\"2024-04-03T00:36:12.000000\",\"2024-04-03T00:36:15.000000\",\"2024-04-03T00:36:18.000000\",\"2024-04-03T00:36:21.000000\",\"2024-04-03T00:36:24.000000\",\"2024-04-03T00:36:27.000000\",\"2024-04-03T00:36:30.000000\",\"2024-04-03T00:36:33.000000\",\"2024-04-03T00:36:36.000000\",\"2024-04-03T00:36:39.000000\",\"2024-04-03T00:36:42.000000\",\"2024-04-03T00:36:45.000000\",\"2024-04-03T00:36:48.000000\",\"2024-04-03T00:36:51.000000\",\"2024-04-03T00:36:54.000000\",\"2024-04-03T00:36:57.000000\",\"2024-04-03T00:37:00.000000\",\"2024-04-03T00:37:03.000000\",\"2024-04-03T00:37:06.000000\",\"2024-04-03T00:37:09.000000\",\"2024-04-03T00:37:12.000000\",\"2024-04-03T00:37:15.000000\",\"2024-04-03T00:37:18.000000\",\"2024-04-03T00:37:21.000000\",\"2024-04-03T00:37:24.000000\",\"2024-04-03T00:37:27.000000\",\"2024-04-03T00:37:30.000000\",\"2024-04-03T00:37:33.000000\",\"2024-04-03T00:37:36.000000\",\"2024-04-03T00:37:39.000000\",\"2024-04-03T00:37:42.000000\",\"2024-04-03T00:37:45.000000\",\"2024-04-03T00:37:48.000000\",\"2024-04-03T00:37:51.000000\",\"2024-04-03T00:37:54.000000\",\"2024-04-03T00:37:57.000000\",\"2024-04-03T00:38:00.000000\",\"2024-04-03T00:38:03.000000\",\"2024-04-03T00:38:06.000000\",\"2024-04-03T00:38:09.000000\",\"2024-04-03T00:38:12.000000\",\"2024-04-03T00:38:15.000000\",\"2024-04-03T00:38:18.000000\",\"2024-04-03T00:38:21.000000\",\"2024-04-03T00:38:24.000000\",\"2024-04-03T00:38:27.000000\",\"2024-04-03T00:38:30.000000\",\"2024-04-03T00:38:33.000000\",\"2024-04-03T00:38:36.000000\",\"2024-04-03T00:38:39.000000\",\"2024-04-03T00:38:42.000000\",\"2024-04-03T00:38:45.000000\",\"2024-04-03T00:38:48.000000\",\"2024-04-03T00:38:51.000000\",\"2024-04-03T00:38:54.000000\",\"2024-04-03T00:38:57.000000\",\"2024-04-03T00:39:00.000000\",\"2024-04-03T00:39:03.000000\",\"2024-04-03T00:39:06.000000\",\"2024-04-03T00:39:09.000000\",\"2024-04-03T00:39:12.000000\",\"2024-04-03T00:39:15.000000\",\"2024-04-03T00:39:18.000000\",\"2024-04-03T00:39:21.000000\",\"2024-04-03T00:39:24.000000\",\"2024-04-03T00:39:27.000000\",\"2024-04-03T00:39:30.000000\",\"2024-04-03T00:39:33.000000\",\"2024-04-03T00:39:36.000000\",\"2024-04-03T00:39:39.000000\",\"2024-04-03T00:39:42.000000\",\"2024-04-03T00:39:45.000000\",\"2024-04-03T00:39:48.000000\",\"2024-04-03T00:39:51.000000\",\"2024-04-03T00:39:54.000000\",\"2024-04-03T00:39:57.000000\",\"2024-04-03T00:40:00.000000\",\"2024-04-03T00:40:03.000000\",\"2024-04-03T00:40:06.000000\",\"2024-04-03T00:40:09.000000\",\"2024-04-03T00:40:12.000000\",\"2024-04-03T00:40:15.000000\",\"2024-04-03T00:40:18.000000\",\"2024-04-03T00:40:21.000000\",\"2024-04-03T00:40:24.000000\",\"2024-04-03T00:40:27.000000\",\"2024-04-03T00:40:30.000000\",\"2024-04-03T00:40:33.000000\",\"2024-04-03T00:40:36.000000\",\"2024-04-03T00:40:39.000000\",\"2024-04-03T00:40:42.000000\",\"2024-04-03T00:40:45.000000\",\"2024-04-03T00:40:48.000000\",\"2024-04-03T00:40:51.000000\",\"2024-04-03T00:40:54.000000\",\"2024-04-03T00:40:57.000000\",\"2024-04-03T00:41:00.000000\",\"2024-04-03T00:41:03.000000\",\"2024-04-03T00:41:06.000000\",\"2024-04-03T00:41:09.000000\",\"2024-04-03T00:41:12.000000\",\"2024-04-03T00:41:15.000000\",\"2024-04-03T00:41:18.000000\",\"2024-04-03T00:41:21.000000\",\"2024-04-03T00:41:24.000000\",\"2024-04-03T00:41:27.000000\",\"2024-04-03T00:41:30.000000\",\"2024-04-03T00:41:33.000000\",\"2024-04-03T00:41:36.000000\",\"2024-04-03T00:41:39.000000\",\"2024-04-03T00:41:42.000000\",\"2024-04-03T00:41:45.000000\",\"2024-04-03T00:41:48.000000\",\"2024-04-03T00:41:51.000000\",\"2024-04-03T00:41:54.000000\",\"2024-04-03T00:41:57.000000\",\"2024-04-03T00:42:00.000000\",\"2024-04-03T00:42:03.000000\",\"2024-04-03T00:42:06.000000\",\"2024-04-03T00:42:09.000000\",\"2024-04-03T00:42:12.000000\",\"2024-04-03T00:42:15.000000\",\"2024-04-03T00:42:18.000000\",\"2024-04-03T00:42:21.000000\",\"2024-04-03T00:42:24.000000\",\"2024-04-03T00:42:27.000000\",\"2024-04-03T00:42:30.000000\",\"2024-04-03T00:42:33.000000\",\"2024-04-03T00:42:36.000000\",\"2024-04-03T00:42:39.000000\",\"2024-04-03T00:42:42.000000\",\"2024-04-03T00:42:45.000000\",\"2024-04-03T00:42:48.000000\",\"2024-04-03T00:42:51.000000\",\"2024-04-03T00:42:54.000000\",\"2024-04-03T00:42:57.000000\",\"2024-04-03T00:43:00.000000\",\"2024-04-03T00:43:03.000000\",\"2024-04-03T00:43:06.000000\",\"2024-04-03T00:43:09.000000\",\"2024-04-03T00:43:12.000000\",\"2024-04-03T00:43:15.000000\",\"2024-04-03T00:43:18.000000\",\"2024-04-03T00:43:21.000000\",\"2024-04-03T00:43:24.000000\",\"2024-04-03T00:43:27.000000\",\"2024-04-03T00:43:30.000000\",\"2024-04-03T00:43:33.000000\",\"2024-04-03T00:43:36.000000\",\"2024-04-03T00:43:39.000000\",\"2024-04-03T00:43:42.000000\",\"2024-04-03T00:43:45.000000\",\"2024-04-03T00:43:48.000000\",\"2024-04-03T00:43:51.000000\",\"2024-04-03T00:43:54.000000\",\"2024-04-03T00:43:57.000000\",\"2024-04-03T00:44:00.000000\",\"2024-04-03T00:44:03.000000\",\"2024-04-03T00:44:06.000000\",\"2024-04-03T00:44:09.000000\",\"2024-04-03T00:44:12.000000\",\"2024-04-03T00:44:15.000000\",\"2024-04-03T00:44:18.000000\",\"2024-04-03T00:44:21.000000\",\"2024-04-03T00:44:24.000000\",\"2024-04-03T00:44:27.000000\",\"2024-04-03T00:44:30.000000\",\"2024-04-03T00:44:33.000000\",\"2024-04-03T00:44:36.000000\",\"2024-04-03T00:44:39.000000\",\"2024-04-03T00:44:42.000000\",\"2024-04-03T00:44:45.000000\",\"2024-04-03T00:44:48.000000\",\"2024-04-03T00:44:51.000000\",\"2024-04-03T00:44:54.000000\",\"2024-04-03T00:44:57.000000\"],\"y\":[0.0,93.29999999999563,93.29999999999563,205.40000000000146,205.40000000000146,291.5,291.5,319.70000000000437,319.70000000000437,319.70000000000437,319.70000000000437,319.70000000000437,319.70000000000437,319.70000000000437,319.70000000000437,319.70000000000437,319.70000000000437,319.70000000000437,319.70000000000437,319.70000000000437,319.70000000000437,319.70000000000437,319.70000000000437,319.70000000000437,319.70000000000437,319.70000000000437,319.70000000000437,319.70000000000437,319.70000000000437,319.70000000000437,319.70000000000437,319.70000000000437,319.70000000000437,319.70000000000437,319.70000000000437,319.70000000000437,319.70000000000437,319.70000000000437,319.70000000000437,319.70000000000437,319.70000000000437,319.70000000000437,319.70000000000437,319.70000000000437,319.70000000000437,319.70000000000437,319.70000000000437,319.70000000000437,319.70000000000437,319.70000000000437,319.70000000000437,319.70000000000437,319.70000000000437,319.70000000000437,319.70000000000437,319.70000000000437,319.70000000000437,319.70000000000437,319.70000000000437,319.70000000000437,319.70000000000437,319.70000000000437,319.70000000000437,319.70000000000437,319.70000000000437,319.70000000000437,319.70000000000437,319.70000000000437,319.70000000000437,319.70000000000437,319.70000000000437,319.70000000000437,319.70000000000437,319.70000000000437,319.70000000000437,319.70000000000437,319.70000000000437,319.70000000000437,319.70000000000437,319.70000000000437,319.70000000000437,319.70000000000437,319.70000000000437,319.70000000000437,319.70000000000437,319.70000000000437,319.70000000000437,319.70000000000437,319.70000000000437,319.70000000000437,319.70000000000437,319.70000000000437,319.70000000000437,388.5,388.5,388.5,388.5,388.5,388.5,388.5,388.5,388.5,388.5,388.5,388.5,388.5,388.5,388.5,388.5,388.5,388.5,388.5,388.5,388.5,388.5,388.5,388.5,388.5,388.5,388.5,388.5,388.5,388.5,388.5,388.5,388.5,388.5,388.5,388.5,388.5,388.5,388.5,388.5,421.8000000000029,421.8000000000029,421.8000000000029,421.8000000000029,421.8000000000029,421.8000000000029,421.8000000000029,421.8000000000029,421.8000000000029,421.8000000000029,421.8000000000029,421.8000000000029,421.8000000000029,421.8000000000029,421.8000000000029,421.8000000000029,421.8000000000029,421.8000000000029,421.8000000000029,421.8000000000029,421.8000000000029,421.8000000000029,421.8000000000029,421.8000000000029,421.8000000000029,421.8000000000029,421.8000000000029,421.8000000000029,421.8000000000029,421.8000000000029,421.8000000000029,421.8000000000029,421.8000000000029,421.8000000000029,421.8000000000029,421.8000000000029,421.8000000000029,421.8000000000029,421.8000000000029,421.8000000000029,421.8000000000029,421.8000000000029,421.8000000000029,421.8000000000029,421.8000000000029,421.8000000000029,421.8000000000029,421.8000000000029,421.8000000000029,421.8000000000029,421.8000000000029,421.8000000000029,421.8000000000029,421.8000000000029,421.8000000000029,421.8000000000029,421.8000000000029,421.8000000000029,421.8000000000029,421.8000000000029,551.8000000000029,551.8000000000029,551.8000000000029,551.8000000000029,551.8000000000029,551.8000000000029,551.8000000000029,551.8000000000029,551.8000000000029,551.8000000000029,551.8000000000029,551.8000000000029,551.8000000000029,551.8000000000029,551.8000000000029,551.8000000000029,551.8000000000029,551.8000000000029,551.8000000000029,551.8000000000029,594.8000000000029,594.8000000000029,594.8000000000029,594.8000000000029,594.8000000000029,594.8000000000029,594.8000000000029,594.8000000000029,594.8000000000029,594.8000000000029,594.8000000000029,594.8000000000029,594.8000000000029,594.8000000000029,594.8000000000029,594.8000000000029,594.8000000000029,594.8000000000029,594.8000000000029,594.8000000000029,594.8000000000029,594.8000000000029,594.8000000000029,594.8000000000029,594.8000000000029,594.8000000000029,594.8000000000029,594.8000000000029,594.8000000000029,594.8000000000029,594.8000000000029,594.8000000000029,594.8000000000029,594.8000000000029,594.8000000000029,594.8000000000029,594.8000000000029,594.8000000000029,594.8000000000029,594.8000000000029,594.8000000000029,594.8000000000029,594.8000000000029,594.8000000000029,594.8000000000029,594.8000000000029,594.8000000000029,594.8000000000029,594.8000000000029,594.8000000000029,594.8000000000029,594.8000000000029,594.8000000000029,594.8000000000029,594.8000000000029,594.8000000000029,594.8000000000029,594.8000000000029,594.8000000000029,594.8000000000029,594.8000000000029,594.8000000000029,594.8000000000029,594.8000000000029,594.8000000000029,594.8000000000029,594.8000000000029,594.8000000000029,594.8000000000029,594.8000000000029,594.8000000000029,594.8000000000029,594.8000000000029,594.8000000000029,594.8000000000029,594.8000000000029,594.8000000000029,594.8000000000029,594.8000000000029,594.8000000000029,594.8000000000029,594.8000000000029,594.8000000000029,594.8000000000029,594.8000000000029,594.8000000000029,594.8000000000029,594.8000000000029,594.8000000000029,594.8000000000029,594.8000000000029,594.8000000000029,594.8000000000029,594.8000000000029,594.8000000000029,594.8000000000029,594.8000000000029,594.8000000000029,594.8000000000029,594.8000000000029,624.8000000000029,624.8000000000029,624.8000000000029,624.8000000000029,624.8000000000029,624.8000000000029,624.8000000000029,624.8000000000029,624.8000000000029,624.8000000000029,624.8000000000029,624.8000000000029,624.8000000000029,624.8000000000029,624.8000000000029,624.8000000000029,624.8000000000029,624.8000000000029,624.8000000000029,624.8000000000029,700.1000000000058,700.1000000000058,700.1000000000058,700.1000000000058,700.1000000000058,700.1000000000058,700.1000000000058,700.1000000000058,700.1000000000058,700.1000000000058,700.1000000000058,700.1000000000058,700.1000000000058,700.1000000000058,700.1000000000058,700.1000000000058,700.1000000000058,700.1000000000058,700.1000000000058,700.1000000000058,762.9000000000015,762.9000000000015,762.9000000000015,762.9000000000015,762.9000000000015,762.9000000000015,762.9000000000015,762.9000000000015,762.9000000000015,762.9000000000015,762.9000000000015,762.9000000000015,762.9000000000015,762.9000000000015,762.9000000000015,762.9000000000015,762.9000000000015,762.9000000000015,762.9000000000015,762.9000000000015,869.0,869.0,869.0,869.0,869.0,869.0,869.0,869.0,869.0,869.0,869.0,869.0,869.0,869.0,869.0,869.0,869.0,869.0,869.0,869.0,1069.7000000000044,1069.7000000000044,1069.7000000000044,1069.7000000000044,1069.7000000000044,1069.7000000000044,1069.7000000000044,1069.7000000000044,1069.7000000000044,1069.7000000000044,1069.7000000000044,1069.7000000000044,1069.7000000000044,1069.7000000000044,1069.7000000000044,1069.7000000000044,1069.7000000000044,1069.7000000000044,1069.7000000000044,1069.7000000000044,1218.800000000003,1218.800000000003,1218.800000000003,1218.800000000003,1218.800000000003,1218.800000000003,1218.800000000003,1218.800000000003,1218.800000000003,1218.800000000003,1218.800000000003,1218.800000000003,1218.800000000003,1218.800000000003,1218.800000000003,1218.800000000003,1218.800000000003,1218.800000000003,1218.800000000003,1218.800000000003,1218.800000000003,1218.800000000003,1218.800000000003,1218.800000000003,1218.800000000003,1218.800000000003,1218.800000000003,1218.800000000003,1218.800000000003,1218.800000000003,1218.800000000003,1218.800000000003,1218.800000000003,1218.800000000003,1218.800000000003,1218.800000000003,1218.800000000003,1218.800000000003,1218.800000000003,1218.800000000003,1218.800000000003,1218.800000000003,1218.800000000003,1218.800000000003,1218.800000000003,1218.800000000003,1218.800000000003,1218.800000000003,1218.800000000003,1218.800000000003,1218.800000000003,1218.800000000003,1218.800000000003,1218.800000000003,1218.800000000003,1218.800000000003,1218.800000000003,1218.800000000003,1218.800000000003,1218.800000000003,1218.800000000003,1218.800000000003,1218.800000000003,1218.800000000003,1218.800000000003,1218.800000000003,1218.800000000003,1218.800000000003,1218.800000000003,1218.800000000003,1218.800000000003,1218.800000000003,1218.800000000003,1218.800000000003,1218.800000000003,1218.800000000003,1218.800000000003,1218.800000000003,1218.800000000003,1218.800000000003,1218.800000000003,1218.800000000003,1218.800000000003,1218.800000000003,1218.800000000003,1218.800000000003,1218.800000000003,1218.800000000003,1218.800000000003,1218.800000000003,1218.800000000003,1218.800000000003,1218.800000000003,1218.800000000003,1218.800000000003,1218.800000000003,1218.800000000003,1218.800000000003,1218.800000000003,1218.800000000003,1218.800000000003,1218.800000000003,1218.800000000003,1218.800000000003,1218.800000000003,1218.800000000003,1218.800000000003,1218.800000000003,1218.800000000003,1218.800000000003,1218.800000000003,1218.800000000003,1218.800000000003,1218.800000000003,1218.800000000003,1218.800000000003,1218.800000000003,1218.800000000003,1218.800000000003,1218.800000000003,1218.800000000003,1218.800000000003,1218.800000000003,1218.800000000003,1218.800000000003,1218.800000000003,1218.800000000003,1218.800000000003,1218.800000000003,1218.800000000003,1218.800000000003,1218.800000000003,1218.800000000003,1218.800000000003,1218.800000000003,1218.800000000003,1218.800000000003,1218.800000000003,1218.800000000003,1218.800000000003,1218.800000000003,1218.800000000003,1218.800000000003,1218.800000000003,1218.800000000003,1218.800000000003,1218.800000000003,1218.800000000003,1218.800000000003,1218.800000000003,1218.800000000003,1218.800000000003,1218.800000000003,1218.800000000003,1218.800000000003,1218.800000000003,1218.800000000003,1218.800000000003,1218.800000000003],\"type\":\"scatter\",\"xaxis\":\"x\",\"yaxis\":\"y\"},{\"line\":{\"shape\":\"hv\"},\"name\":\"position\",\"x\":[\"2024-04-03T00:00:00.747500\",\"2024-04-03T00:00:10.169800\",\"2024-04-03T00:00:12.101100\",\"2024-04-03T00:00:17.940400\",\"2024-04-03T00:00:17.981000\",\"2024-04-03T00:00:18.087500\",\"2024-04-03T00:04:04.313900\",\"2024-04-03T00:04:04.313900\",\"2024-04-03T00:04:04.313900\",\"2024-04-03T00:04:06.029600\",\"2024-04-03T00:04:11.837900\",\"2024-04-03T00:04:12.094300\",\"2024-04-03T00:14:15.512900\",\"2024-04-03T00:14:18.275300\",\"2024-04-03T00:14:31.911400\",\"2024-04-03T00:14:33.079900\",\"2024-04-03T00:16:43.105900\"],\"y\":[0.0,0.01,0.01,0.009,0.0,0.0,0.002,0.005,0.01,0.01,0.0,0.0,0.0,0.0,0.01,0.01,0.0],\"type\":\"scatter\",\"xaxis\":\"x2\",\"yaxis\":\"y2\"},{\"line\":{\"shape\":\"hv\"},\"name\":\"profit\",\"x\":[\"2024-04-03T00:00:00.747500\",\"2024-04-03T00:00:10.169800\",\"2024-04-03T00:00:12.101100\",\"2024-04-03T00:00:17.940400\",\"2024-04-03T00:00:17.981000\",\"2024-04-03T00:00:18.087500\",\"2024-04-03T00:04:04.313900\",\"2024-04-03T00:04:04.313900\",\"2024-04-03T00:04:04.313900\",\"2024-04-03T00:04:06.029600\",\"2024-04-03T00:04:11.837900\",\"2024-04-03T00:04:12.094300\",\"2024-04-03T00:14:15.512900\",\"2024-04-03T00:14:18.275300\",\"2024-04-03T00:14:31.911400\",\"2024-04-03T00:14:33.079900\",\"2024-04-03T00:16:43.105900\"],\"y\":[0.0,-0.06544696,-0.06544696,-0.042634592,0.16267672,0.16267672,0.149587108,0.12995268999999998,0.09722865999999998,0.09722865999999998,0.17726604999999998,0.17726604999999998,0.17726604999999998,0.17726604999999998,0.11185946999999997,0.11185946999999997,0.25363217],\"type\":\"scatter\",\"xaxis\":\"x3\",\"yaxis\":\"y3\"},{\"close\":[65490.0,65502.0,65505.7,65530.0,65551.4,65602.1,65550.1,65490.0,65507.7,65504.0,65500.0,65552.3,65568.0,65577.3,65610.0,65608.1,65606.8,65600.5,65613.3,65600.1,65605.7,65620.4,65610.1,65545.9,65514.0,65493.9,65492.6,65492.6,65414.3,65357.6,65390.1,65349.9,65417.2,65453.9,65575.3,65547.7,65543.2,65544.0,65484.7,65514.1,65412.0,65346.6,65313.0,65294.9,65318.1,65264.9,65209.7,65265.0,65274.3,65325.7,65249.7,65272.8,65204.5,65185.1,65119.3,65105.4,65105.0,65130.8,65128.9,65099.4,65094.7,65140.0,65123.7,65120.5,65110.2,65000.2,64968.0,64989.9,64937.7,64910.5,64811.1,64913.0,64706.6,64692.8,64617.1,64560.7,64530.5,64719.9,64560.0,64792.5,65000.3,64930.0,65108.1,65139.6,65184.8,65207.0,65160.5,65230.8,65163.1,65187.9],\"high\":[65490.3,65536.9,65516.3,65533.0,65555.1,65610.0,65621.3,65550.1,65512.8,65512.4,65511.9,65552.3,65610.8,65584.3,65610.0,65610.0,65608.1,65606.8,65613.3,65613.3,65624.8,65620.5,65620.5,65610.2,65546.0,65521.7,65500.0,65500.0,65492.5,65420.0,65400.0,65390.0,65420.6,65454.0,65575.4,65608.6,65550.0,65544.9,65550.0,65516.5,65514.1,65420.1,65372.9,65313.0,65324.9,65335.4,65273.9,65276.0,65289.3,65325.7,65325.7,65272.8,65272.7,65204.6,65194.4,65167.9,65145.0,65134.7,65130.8,65150.0,65123.8,65161.5,65168.7,65146.2,65147.9,65141.5,65049.2,64998.0,64996.8,64937.7,64917.2,64926.3,64913.1,64726.2,64808.9,64659.3,64663.2,64719.9,64726.5,64818.0,65019.2,65013.9,65119.8,65139.6,65250.0,65209.9,65232.6,65230.8,65241.5,65209.7],\"low\":[65443.6,65470.0,65483.7,65499.2,65520.0,65551.3,65550.0,65490.0,65415.9,65476.7,65500.0,65490.3,65545.0,65564.2,65577.3,65602.9,65592.2,65600.4,65593.2,65600.1,65577.9,65605.8,65610.1,65538.0,65509.6,65476.7,65489.9,65492.5,65414.2,65333.3,65357.5,65305.1,65350.0,65392.0,65440.2,65547.7,65517.5,65514.6,65483.4,65469.4,65411.9,65330.7,65300.0,65236.3,65275.2,65252.8,65203.0,65205.5,65240.0,65274.4,65249.1,65249.7,65155.1,65073.0,65066.3,65030.0,65088.7,65056.1,65063.8,65070.7,65084.1,65094.6,65065.5,65080.7,65108.9,65000.0,64955.3,64924.7,64864.3,64861.9,64800.6,64755.8,64698.3,64555.1,64604.8,64406.0,64456.1,64471.9,64524.2,64559.9,64780.1,64887.0,64932.7,65077.1,65124.0,65131.4,65104.1,65142.6,65156.4,65145.1],\"open\":[65483.8,65490.0,65501.9,65505.6,65530.0,65551.3,65602.2,65550.1,65486.8,65507.6,65504.0,65500.0,65552.4,65568.1,65577.4,65610.0,65608.1,65606.8,65600.5,65613.3,65600.0,65605.8,65620.4,65610.2,65546.0,65512.6,65494.0,65492.5,65492.5,65414.1,65357.5,65390.0,65350.0,65417.2,65453.9,65575.3,65547.8,65544.8,65543.9,65484.8,65514.1,65412.0,65346.6,65313.0,65294.8,65318.1,65264.9,65209.7,65268.9,65274.4,65325.7,65249.7,65272.7,65204.5,65185.1,65119.3,65105.4,65104.9,65130.8,65128.9,65099.3,65094.6,65140.0,65123.7,65120.6,65110.3,65000.2,64968.0,64989.8,64937.7,64910.5,64811.0,64913.1,64707.8,64692.8,64613.1,64560.6,64530.5,64720.0,64559.9,64792.7,65000.3,64933.5,65108.1,65139.5,65180.8,65207.0,65160.0,65230.8,65161.4],\"x\":[\"2024-04-03T00:00:00.036900\",\"2024-04-03T00:00:30.036900\",\"2024-04-03T00:01:00.036900\",\"2024-04-03T00:01:30.036900\",\"2024-04-03T00:02:00.036900\",\"2024-04-03T00:02:30.036900\",\"2024-04-03T00:03:00.036900\",\"2024-04-03T00:03:30.036900\",\"2024-04-03T00:04:00.036900\",\"2024-04-03T00:04:30.036900\",\"2024-04-03T00:05:00.036900\",\"2024-04-03T00:05:30.036900\",\"2024-04-03T00:06:00.036900\",\"2024-04-03T00:06:30.036900\",\"2024-04-03T00:07:00.036900\",\"2024-04-03T00:07:30.036900\",\"2024-04-03T00:08:00.036900\",\"2024-04-03T00:08:30.036900\",\"2024-04-03T00:09:00.036900\",\"2024-04-03T00:09:30.036900\",\"2024-04-03T00:10:00.036900\",\"2024-04-03T00:10:30.036900\",\"2024-04-03T00:11:00.036900\",\"2024-04-03T00:11:30.036900\",\"2024-04-03T00:12:00.036900\",\"2024-04-03T00:12:30.036900\",\"2024-04-03T00:13:00.036900\",\"2024-04-03T00:13:30.036900\",\"2024-04-03T00:14:00.036900\",\"2024-04-03T00:14:30.036900\",\"2024-04-03T00:15:00.036900\",\"2024-04-03T00:15:30.036900\",\"2024-04-03T00:16:00.036900\",\"2024-04-03T00:16:30.036900\",\"2024-04-03T00:17:00.036900\",\"2024-04-03T00:17:30.036900\",\"2024-04-03T00:18:00.036900\",\"2024-04-03T00:18:30.036900\",\"2024-04-03T00:19:00.036900\",\"2024-04-03T00:19:30.036900\",\"2024-04-03T00:20:00.036900\",\"2024-04-03T00:20:30.036900\",\"2024-04-03T00:21:00.036900\",\"2024-04-03T00:21:30.036900\",\"2024-04-03T00:22:00.036900\",\"2024-04-03T00:22:30.036900\",\"2024-04-03T00:23:00.036900\",\"2024-04-03T00:23:30.036900\",\"2024-04-03T00:24:00.036900\",\"2024-04-03T00:24:30.036900\",\"2024-04-03T00:25:00.036900\",\"2024-04-03T00:25:30.036900\",\"2024-04-03T00:26:00.036900\",\"2024-04-03T00:26:30.036900\",\"2024-04-03T00:27:00.036900\",\"2024-04-03T00:27:30.036900\",\"2024-04-03T00:28:00.036900\",\"2024-04-03T00:28:30.036900\",\"2024-04-03T00:29:00.036900\",\"2024-04-03T00:29:30.036900\",\"2024-04-03T00:30:00.036900\",\"2024-04-03T00:30:30.036900\",\"2024-04-03T00:31:00.036900\",\"2024-04-03T00:31:30.036900\",\"2024-04-03T00:32:00.036900\",\"2024-04-03T00:32:30.036900\",\"2024-04-03T00:33:00.036900\",\"2024-04-03T00:33:30.036900\",\"2024-04-03T00:34:00.036900\",\"2024-04-03T00:34:30.036900\",\"2024-04-03T00:35:00.036900\",\"2024-04-03T00:35:30.036900\",\"2024-04-03T00:36:00.036900\",\"2024-04-03T00:36:30.036900\",\"2024-04-03T00:37:00.036900\",\"2024-04-03T00:37:30.036900\",\"2024-04-03T00:38:00.036900\",\"2024-04-03T00:38:30.036900\",\"2024-04-03T00:39:00.036900\",\"2024-04-03T00:39:30.036900\",\"2024-04-03T00:40:00.036900\",\"2024-04-03T00:40:30.036900\",\"2024-04-03T00:41:00.036900\",\"2024-04-03T00:41:30.036900\",\"2024-04-03T00:42:00.036900\",\"2024-04-03T00:42:30.036900\",\"2024-04-03T00:43:00.036900\",\"2024-04-03T00:43:30.036900\",\"2024-04-03T00:44:00.036900\",\"2024-04-03T00:44:30.036900\"],\"type\":\"candlestick\",\"xaxis\":\"x4\",\"yaxis\":\"y4\"},{\"marker\":{\"color\":\"red\",\"size\":10,\"symbol\":\"arrow-up\"},\"mode\":\"markers\",\"name\":\"buy\",\"x\":[\"2024-04-03T00:00:00.747500\",\"2024-04-03T00:00:18.087500\",\"2024-04-03T00:04:12.094300\",\"2024-04-03T00:14:18.275300\"],\"y\":[65446.96,65448.06,65432.57,65406.58],\"type\":\"scatter\",\"xaxis\":\"x4\",\"yaxis\":\"y4\"},{\"marker\":{\"color\":\"red\",\"size\":10,\"symbol\":\"cross-thin-open\"},\"mode\":\"markers\",\"name\":\"buy filled\",\"x\":[\"2024-04-03T00:00:10.169800\",\"2024-04-03T00:04:04.313900\",\"2024-04-03T00:14:31.911400\"],\"y\":[65446.96,65448.06,65406.58],\"type\":\"scatter\",\"xaxis\":\"x4\",\"yaxis\":\"y4\"},{\"marker\":{\"color\":\"red\",\"size\":10,\"symbol\":\"x-thin-open\"},\"mode\":\"markers\",\"name\":\"buy canceled\",\"x\":[\"2024-04-03T00:14:15.512900\"],\"y\":[65432.57],\"type\":\"scatter\",\"xaxis\":\"x4\",\"yaxis\":\"y4\"},{\"marker\":{\"color\":\"blue\",\"size\":10,\"symbol\":\"arrow-down\"},\"mode\":\"markers\",\"name\":\"sell\",\"x\":[\"2024-04-03T00:00:12.101100\",\"2024-04-03T00:04:06.029600\",\"2024-04-03T00:14:33.079900\"],\"y\":[65476.32,65462.61,65427.3],\"type\":\"scatter\",\"xaxis\":\"x4\",\"yaxis\":\"y4\"},{\"marker\":{\"color\":\"blue\",\"size\":10,\"symbol\":\"cross-thin-open\"},\"mode\":\"markers\",\"name\":\"sell filled\",\"x\":[\"2024-04-03T00:00:17.981000\",\"2024-04-03T00:04:11.837900\",\"2024-04-03T00:16:43.105900\"],\"y\":[65476.32,65462.61,65427.3],\"type\":\"scatter\",\"xaxis\":\"x4\",\"yaxis\":\"y4\"},{\"marker\":{\"color\":\"blue\",\"size\":10,\"symbol\":\"x-thin-open\"},\"mode\":\"markers\",\"name\":\"sell canceled\",\"x\":[],\"y\":[],\"type\":\"scatter\",\"xaxis\":\"x4\",\"yaxis\":\"y4\"}],                        {\"template\":{\"data\":{\"histogram2dcontour\":[{\"type\":\"histogram2dcontour\",\"colorbar\":{\"outlinewidth\":0,\"ticks\":\"\"},\"colorscale\":[[0.0,\"#0d0887\"],[0.1111111111111111,\"#46039f\"],[0.2222222222222222,\"#7201a8\"],[0.3333333333333333,\"#9c179e\"],[0.4444444444444444,\"#bd3786\"],[0.5555555555555556,\"#d8576b\"],[0.6666666666666666,\"#ed7953\"],[0.7777777777777778,\"#fb9f3a\"],[0.8888888888888888,\"#fdca26\"],[1.0,\"#f0f921\"]]}],\"choropleth\":[{\"type\":\"choropleth\",\"colorbar\":{\"outlinewidth\":0,\"ticks\":\"\"}}],\"histogram2d\":[{\"type\":\"histogram2d\",\"colorbar\":{\"outlinewidth\":0,\"ticks\":\"\"},\"colorscale\":[[0.0,\"#0d0887\"],[0.1111111111111111,\"#46039f\"],[0.2222222222222222,\"#7201a8\"],[0.3333333333333333,\"#9c179e\"],[0.4444444444444444,\"#bd3786\"],[0.5555555555555556,\"#d8576b\"],[0.6666666666666666,\"#ed7953\"],[0.7777777777777778,\"#fb9f3a\"],[0.8888888888888888,\"#fdca26\"],[1.0,\"#f0f921\"]]}],\"heatmap\":[{\"type\":\"heatmap\",\"colorbar\":{\"outlinewidth\":0,\"ticks\":\"\"},\"colorscale\":[[0.0,\"#0d0887\"],[0.1111111111111111,\"#46039f\"],[0.2222222222222222,\"#7201a8\"],[0.3333333333333333,\"#9c179e\"],[0.4444444444444444,\"#bd3786\"],[0.5555555555555556,\"#d8576b\"],[0.6666666666666666,\"#ed7953\"],[0.7777777777777778,\"#fb9f3a\"],[0.8888888888888888,\"#fdca26\"],[1.0,\"#f0f921\"]]}],\"heatmapgl\":[{\"type\":\"heatmapgl\",\"colorbar\":{\"outlinewidth\":0,\"ticks\":\"\"},\"colorscale\":[[0.0,\"#0d0887\"],[0.1111111111111111,\"#46039f\"],[0.2222222222222222,\"#7201a8\"],[0.3333333333333333,\"#9c179e\"],[0.4444444444444444,\"#bd3786\"],[0.5555555555555556,\"#d8576b\"],[0.6666666666666666,\"#ed7953\"],[0.7777777777777778,\"#fb9f3a\"],[0.8888888888888888,\"#fdca26\"],[1.0,\"#f0f921\"]]}],\"contourcarpet\":[{\"type\":\"contourcarpet\",\"colorbar\":{\"outlinewidth\":0,\"ticks\":\"\"}}],\"contour\":[{\"type\":\"contour\",\"colorbar\":{\"outlinewidth\":0,\"ticks\":\"\"},\"colorscale\":[[0.0,\"#0d0887\"],[0.1111111111111111,\"#46039f\"],[0.2222222222222222,\"#7201a8\"],[0.3333333333333333,\"#9c179e\"],[0.4444444444444444,\"#bd3786\"],[0.5555555555555556,\"#d8576b\"],[0.6666666666666666,\"#ed7953\"],[0.7777777777777778,\"#fb9f3a\"],[0.8888888888888888,\"#fdca26\"],[1.0,\"#f0f921\"]]}],\"surface\":[{\"type\":\"surface\",\"colorbar\":{\"outlinewidth\":0,\"ticks\":\"\"},\"colorscale\":[[0.0,\"#0d0887\"],[0.1111111111111111,\"#46039f\"],[0.2222222222222222,\"#7201a8\"],[0.3333333333333333,\"#9c179e\"],[0.4444444444444444,\"#bd3786\"],[0.5555555555555556,\"#d8576b\"],[0.6666666666666666,\"#ed7953\"],[0.7777777777777778,\"#fb9f3a\"],[0.8888888888888888,\"#fdca26\"],[1.0,\"#f0f921\"]]}],\"mesh3d\":[{\"type\":\"mesh3d\",\"colorbar\":{\"outlinewidth\":0,\"ticks\":\"\"}}],\"scatter\":[{\"fillpattern\":{\"fillmode\":\"overlay\",\"size\":10,\"solidity\":0.2},\"type\":\"scatter\"}],\"parcoords\":[{\"type\":\"parcoords\",\"line\":{\"colorbar\":{\"outlinewidth\":0,\"ticks\":\"\"}}}],\"scatterpolargl\":[{\"type\":\"scatterpolargl\",\"marker\":{\"colorbar\":{\"outlinewidth\":0,\"ticks\":\"\"}}}],\"bar\":[{\"error_x\":{\"color\":\"#2a3f5f\"},\"error_y\":{\"color\":\"#2a3f5f\"},\"marker\":{\"line\":{\"color\":\"#E5ECF6\",\"width\":0.5},\"pattern\":{\"fillmode\":\"overlay\",\"size\":10,\"solidity\":0.2}},\"type\":\"bar\"}],\"scattergeo\":[{\"type\":\"scattergeo\",\"marker\":{\"colorbar\":{\"outlinewidth\":0,\"ticks\":\"\"}}}],\"scatterpolar\":[{\"type\":\"scatterpolar\",\"marker\":{\"colorbar\":{\"outlinewidth\":0,\"ticks\":\"\"}}}],\"histogram\":[{\"marker\":{\"pattern\":{\"fillmode\":\"overlay\",\"size\":10,\"solidity\":0.2}},\"type\":\"histogram\"}],\"scattergl\":[{\"type\":\"scattergl\",\"marker\":{\"colorbar\":{\"outlinewidth\":0,\"ticks\":\"\"}}}],\"scatter3d\":[{\"type\":\"scatter3d\",\"line\":{\"colorbar\":{\"outlinewidth\":0,\"ticks\":\"\"}},\"marker\":{\"colorbar\":{\"outlinewidth\":0,\"ticks\":\"\"}}}],\"scattermapbox\":[{\"type\":\"scattermapbox\",\"marker\":{\"colorbar\":{\"outlinewidth\":0,\"ticks\":\"\"}}}],\"scatterternary\":[{\"type\":\"scatterternary\",\"marker\":{\"colorbar\":{\"outlinewidth\":0,\"ticks\":\"\"}}}],\"scattercarpet\":[{\"type\":\"scattercarpet\",\"marker\":{\"colorbar\":{\"outlinewidth\":0,\"ticks\":\"\"}}}],\"carpet\":[{\"aaxis\":{\"endlinecolor\":\"#2a3f5f\",\"gridcolor\":\"white\",\"linecolor\":\"white\",\"minorgridcolor\":\"white\",\"startlinecolor\":\"#2a3f5f\"},\"baxis\":{\"endlinecolor\":\"#2a3f5f\",\"gridcolor\":\"white\",\"linecolor\":\"white\",\"minorgridcolor\":\"white\",\"startlinecolor\":\"#2a3f5f\"},\"type\":\"carpet\"}],\"table\":[{\"cells\":{\"fill\":{\"color\":\"#EBF0F8\"},\"line\":{\"color\":\"white\"}},\"header\":{\"fill\":{\"color\":\"#C8D4E3\"},\"line\":{\"color\":\"white\"}},\"type\":\"table\"}],\"barpolar\":[{\"marker\":{\"line\":{\"color\":\"#E5ECF6\",\"width\":0.5},\"pattern\":{\"fillmode\":\"overlay\",\"size\":10,\"solidity\":0.2}},\"type\":\"barpolar\"}],\"pie\":[{\"automargin\":true,\"type\":\"pie\"}]},\"layout\":{\"autotypenumbers\":\"strict\",\"colorway\":[\"#636efa\",\"#EF553B\",\"#00cc96\",\"#ab63fa\",\"#FFA15A\",\"#19d3f3\",\"#FF6692\",\"#B6E880\",\"#FF97FF\",\"#FECB52\"],\"font\":{\"color\":\"#2a3f5f\"},\"hovermode\":\"closest\",\"hoverlabel\":{\"align\":\"left\"},\"paper_bgcolor\":\"white\",\"plot_bgcolor\":\"#E5ECF6\",\"polar\":{\"bgcolor\":\"#E5ECF6\",\"angularaxis\":{\"gridcolor\":\"white\",\"linecolor\":\"white\",\"ticks\":\"\"},\"radialaxis\":{\"gridcolor\":\"white\",\"linecolor\":\"white\",\"ticks\":\"\"}},\"ternary\":{\"bgcolor\":\"#E5ECF6\",\"aaxis\":{\"gridcolor\":\"white\",\"linecolor\":\"white\",\"ticks\":\"\"},\"baxis\":{\"gridcolor\":\"white\",\"linecolor\":\"white\",\"ticks\":\"\"},\"caxis\":{\"gridcolor\":\"white\",\"linecolor\":\"white\",\"ticks\":\"\"}},\"coloraxis\":{\"colorbar\":{\"outlinewidth\":0,\"ticks\":\"\"}},\"colorscale\":{\"sequential\":[[0.0,\"#0d0887\"],[0.1111111111111111,\"#46039f\"],[0.2222222222222222,\"#7201a8\"],[0.3333333333333333,\"#9c179e\"],[0.4444444444444444,\"#bd3786\"],[0.5555555555555556,\"#d8576b\"],[0.6666666666666666,\"#ed7953\"],[0.7777777777777778,\"#fb9f3a\"],[0.8888888888888888,\"#fdca26\"],[1.0,\"#f0f921\"]],\"sequentialminus\":[[0.0,\"#0d0887\"],[0.1111111111111111,\"#46039f\"],[0.2222222222222222,\"#7201a8\"],[0.3333333333333333,\"#9c179e\"],[0.4444444444444444,\"#bd3786\"],[0.5555555555555556,\"#d8576b\"],[0.6666666666666666,\"#ed7953\"],[0.7777777777777778,\"#fb9f3a\"],[0.8888888888888888,\"#fdca26\"],[1.0,\"#f0f921\"]],\"diverging\":[[0,\"#8e0152\"],[0.1,\"#c51b7d\"],[0.2,\"#de77ae\"],[0.3,\"#f1b6da\"],[0.4,\"#fde0ef\"],[0.5,\"#f7f7f7\"],[0.6,\"#e6f5d0\"],[0.7,\"#b8e186\"],[0.8,\"#7fbc41\"],[0.9,\"#4d9221\"],[1,\"#276419\"]]},\"xaxis\":{\"gridcolor\":\"white\",\"linecolor\":\"white\",\"ticks\":\"\",\"title\":{\"standoff\":15},\"zerolinecolor\":\"white\",\"automargin\":true,\"zerolinewidth\":2},\"yaxis\":{\"gridcolor\":\"white\",\"linecolor\":\"white\",\"ticks\":\"\",\"title\":{\"standoff\":15},\"zerolinecolor\":\"white\",\"automargin\":true,\"zerolinewidth\":2},\"scene\":{\"xaxis\":{\"backgroundcolor\":\"#E5ECF6\",\"gridcolor\":\"white\",\"linecolor\":\"white\",\"showbackground\":true,\"ticks\":\"\",\"zerolinecolor\":\"white\",\"gridwidth\":2},\"yaxis\":{\"backgroundcolor\":\"#E5ECF6\",\"gridcolor\":\"white\",\"linecolor\":\"white\",\"showbackground\":true,\"ticks\":\"\",\"zerolinecolor\":\"white\",\"gridwidth\":2},\"zaxis\":{\"backgroundcolor\":\"#E5ECF6\",\"gridcolor\":\"white\",\"linecolor\":\"white\",\"showbackground\":true,\"ticks\":\"\",\"zerolinecolor\":\"white\",\"gridwidth\":2}},\"shapedefaults\":{\"line\":{\"color\":\"#2a3f5f\"}},\"annotationdefaults\":{\"arrowcolor\":\"#2a3f5f\",\"arrowhead\":0,\"arrowwidth\":1},\"geo\":{\"bgcolor\":\"white\",\"landcolor\":\"#E5ECF6\",\"subunitcolor\":\"white\",\"showland\":true,\"showlakes\":true,\"lakecolor\":\"white\"},\"title\":{\"x\":0.05},\"mapbox\":{\"style\":\"light\"}}},\"xaxis\":{\"anchor\":\"y\",\"domain\":[0.0,1.0],\"matches\":\"x4\",\"showticklabels\":false},\"yaxis\":{\"anchor\":\"x\",\"domain\":[0.9222222222222223,1.0]},\"xaxis2\":{\"anchor\":\"y2\",\"domain\":[0.0,1.0],\"matches\":\"x4\",\"showticklabels\":false},\"yaxis2\":{\"anchor\":\"x2\",\"domain\":[0.7444444444444445,0.8222222222222222]},\"xaxis3\":{\"anchor\":\"y3\",\"domain\":[0.0,1.0],\"matches\":\"x4\",\"showticklabels\":false},\"yaxis3\":{\"anchor\":\"x3\",\"domain\":[0.5666666666666667,0.6444444444444444]},\"xaxis4\":{\"anchor\":\"y4\",\"domain\":[0.0,1.0]},\"yaxis4\":{\"anchor\":\"x4\",\"domain\":[0.0,0.4666666666666666]},\"annotations\":[{\"font\":{\"size\":16},\"showarrow\":false,\"text\":\"range\",\"x\":0.5,\"xanchor\":\"center\",\"xref\":\"paper\",\"y\":1.0,\"yanchor\":\"bottom\",\"yref\":\"paper\"},{\"font\":{\"size\":16},\"showarrow\":false,\"text\":\"psudo-position\",\"x\":0.5,\"xanchor\":\"center\",\"xref\":\"paper\",\"y\":0.8222222222222222,\"yanchor\":\"bottom\",\"yref\":\"paper\"},{\"font\":{\"size\":16},\"showarrow\":false,\"text\":\"psudo-profit\",\"x\":0.5,\"xanchor\":\"center\",\"xref\":\"paper\",\"y\":0.6444444444444444,\"yanchor\":\"bottom\",\"yref\":\"paper\"},{\"font\":{\"size\":16},\"showarrow\":false,\"text\":\"candlestick\",\"x\":0.5,\"xanchor\":\"center\",\"xref\":\"paper\",\"y\":0.4666666666666666,\"yanchor\":\"bottom\",\"yref\":\"paper\"}],\"title\":{\"text\":\"Backtest Result\"},\"height\":800},                        {\"responsive\": true}                    ).then(function(){\n",
              "                            \n",
              "var gd = document.getElementById('9025e557-a326-47e0-a4c6-e9acd05e3bc3');\n",
              "var x = new MutationObserver(function (mutations, observer) {{\n",
              "        var display = window.getComputedStyle(gd).display;\n",
              "        if (!display || display === 'none') {{\n",
              "            console.log([gd, 'removed!']);\n",
              "            Plotly.purge(gd);\n",
              "            observer.disconnect();\n",
              "        }}\n",
              "}});\n",
              "\n",
              "// Listen for the removal of the full notebook cells\n",
              "var notebookContainer = gd.closest('#notebook-container');\n",
              "if (notebookContainer) {{\n",
              "    x.observe(notebookContainer, {childList: true});\n",
              "}}\n",
              "\n",
              "// Listen for the clearing of the current output cell\n",
              "var outputEl = gd.closest('.output');\n",
              "if (outputEl) {{\n",
              "    x.observe(outputEl, {childList: true});\n",
              "}}\n",
              "\n",
              "                        })                };                            </script>        </div>\n",
              "</body>\n",
              "</html>"
            ]
          },
          "metadata": {}
        }
      ],
      "source": [
        "# バックテスト結果の可視化\n",
        "\n",
        "# 数千件のデータを可視化するときは、plotlyを使うと便利。\n",
        "# https://plotly.com/python/\n",
        "# ただし約定データが万を超えると、ブラウザが重くなるので注意。一部データ切り取りなどが必要。\n",
        "\n",
        "import plotly.graph_objects as go\n",
        "from plotly.subplots import make_subplots\n",
        "\n",
        "fig = make_subplots(rows=4, cols=1, shared_xaxes=True, vertical_spacing=0.1, row_heights=[0.1, 0.1, 0.1, 0.6],\n",
        "                    subplot_titles=(\"range\", \"psudo-position\", \"psudo-profit\", \"candlestick\"))\n",
        "\n",
        "# row 1 (indicator)\n",
        "spread = log['range']\n",
        "fig.add_trace(go.Scatter(x=spread['timestamp'], y=spread['range'], name=\"range\"), row=1, col=1)\n",
        "\n",
        "# row 2 (position)\n",
        "fig.add_trace(go.Scatter(x=orders['update_time'], y=orders['position'], name=\"position\", line=dict(shape='hv')), row=2, col=1)\n",
        "\n",
        "# row 3 (profit)\n",
        "profit = orders['sum_profit']\n",
        "fig.add_trace(go.Scatter(x=orders['update_time'], y=orders['sum_profit'], name=\"profit\", line=dict(shape='hv')), row=3, col=1)\n",
        "\n",
        "# row 4 (candlestick)\n",
        "fig.add_candlestick(x=ohlcv['timestamp'], open=ohlcv['open'], high=ohlcv['high'], low=ohlcv['low'], close=ohlcv['close'], row=4, col=1)\n",
        "\n",
        "# row 4 (order)\n",
        "buy_orders = orders.filter((orders['order_side'] == 'Buy') & (orders['status'] == 'New'))\n",
        "fig.add_trace(go.Scatter(x=buy_orders['update_time'], y=buy_orders['order_price'], mode='markers', marker=dict(symbol='arrow-up', color='red', size=10), name=\"buy\"), row=4, col=1)\n",
        "\n",
        "buy_orders = orders.filter((orders['order_side'] == 'Buy') & (orders['status'] == 'Filled'))\n",
        "fig.add_trace(go.Scatter(x=buy_orders['update_time'], y=buy_orders['order_price'], mode='markers', marker=dict(symbol='cross-thin-open', color='red', size=10), name=\"buy filled\"), row=4, col=1)\n",
        "\n",
        "buy_orders = orders.filter((orders['order_side'] == 'Buy') & (orders['status'] == 'Canceled'))\n",
        "fig.add_trace(go.Scatter(x=buy_orders['update_time'], y=buy_orders['order_price'], mode='markers', marker=dict(symbol='x-thin-open', color='red', size=10), name=\"buy canceled\"), row=4, col=1)\n",
        "\n",
        "\n",
        "sell_orders = orders.filter((orders['order_side'] == 'Sell') & (orders['status'] == 'New'))\n",
        "fig.add_trace(go.Scatter(x=sell_orders['update_time'], y=sell_orders['order_price'], mode='markers', marker=dict(symbol='arrow-down', color='blue', size=10), name=\"sell\"), row=4, col=1)\n",
        "\n",
        "sell_orders = orders.filter((orders['order_side'] == 'Sell') & (orders['status'] == 'Filled'))\n",
        "fig.add_trace(go.Scatter(x=sell_orders['update_time'], y=sell_orders['order_price'], mode='markers', marker=dict(symbol='cross-thin-open', color='blue', size=10), name=\"sell filled\"), row=4, col=1)\n",
        "\n",
        "sell_orders = orders.filter((orders['order_side'] == 'Sell') & (orders['status'] == 'Canceled'))\n",
        "fig.add_trace(go.Scatter(x=sell_orders['update_time'], y=sell_orders['order_price'], mode='markers', marker=dict(symbol='x-thin-open', color='blue', size=10), name=\"sell canceled\"), row=4, col=1)\n",
        "\n",
        "fig.update_layout(height=800, title_text=\"Backtest Result\")\n"
      ]
    },
    {
      "cell_type": "markdown",
      "metadata": {
        "id": "HGbR7LWmR8ZB"
      },
      "source": [
        "# フォーワードテスト\n",
        "\n",
        "ここからは、WebSocketでリアルタイムデータを使います。そのためColabでは動きません。ローカルにjupyter環境を準備して実行してください。"
      ]
    },
    {
      "cell_type": "code",
      "execution_count": null,
      "metadata": {
        "id": "XZzVPqc5R8ZB"
      },
      "outputs": [],
      "source": [
        "runner = Runner()\n",
        "\n",
        "session = runner.dry_run(\n",
        "    agent=agent,\n",
        "    market=market,\n",
        "    log_memory=True,\n",
        "    execute_time=60*5,     # 60x5=5分間\n",
        "    verbose=True,\n",
        "    # log_file=\"./bot.log\"            # ログファイルを指定(指定しないとファイルは作られない）\n",
        ")"
      ]
    },
    {
      "cell_type": "code",
      "execution_count": null,
      "metadata": {
        "id": "V6XdLZGSR8ZB"
      },
      "outputs": [],
      "source": [
        "log = session.log"
      ]
    },
    {
      "cell_type": "code",
      "execution_count": null,
      "metadata": {
        "id": "X1kCenDLR8ZB"
      },
      "outputs": [],
      "source": [
        "orders = log.orders\n",
        "orders.tail(5)"
      ]
    },
    {
      "cell_type": "code",
      "execution_count": null,
      "metadata": {
        "id": "YFMnbws-R8ZB"
      },
      "outputs": [],
      "source": [
        "ohlcv = market.ohlcv(runner.start_timestamp, runner.last_timestamp, 10)\n",
        "ohlcv"
      ]
    },
    {
      "cell_type": "code",
      "execution_count": null,
      "metadata": {
        "id": "O-R9xwRCR8ZC"
      },
      "outputs": [],
      "source": [
        "import plotly.graph_objects as go\n",
        "from plotly.subplots import make_subplots\n",
        "from plotly.offline import plot\n",
        "\n",
        "fig = make_subplots(rows=4, cols=1, shared_xaxes=True, vertical_spacing=0.1, row_heights=[0.1, 0.1, 0.1, 0.6],\n",
        "                    subplot_titles=(\"range\", \"psudo-position\", \"psudo-profit\", \"candlestick\"))\n",
        "\n",
        "# row 1 (indicator)\n",
        "spread = log['range']\n",
        "fig.add_trace(go.Scatter(x=spread['timestamp'], y=spread['range'], name=\"range\"), row=1, col=1)\n",
        "\n",
        "# row 2 (position)\n",
        "fig.add_trace(go.Scatter(x=orders['update_time'], y=orders['position'], name=\"position\", line=dict(shape='hv')), row=2, col=1)\n",
        "\n",
        "# row 3 (profit)\n",
        "profit = orders['sum_profit']\n",
        "fig.add_trace(go.Scatter(x=orders['update_time'], y=orders['sum_profit'], name=\"profit\", line=dict(shape='hv')), row=3, col=1)\n",
        "\n",
        "# row 4 (candlestick)\n",
        "fig.add_candlestick(x=ohlcv['timestamp'], open=ohlcv['open'], high=ohlcv['high'], low=ohlcv['low'], close=ohlcv['close'], row=4, col=1)\n",
        "\n",
        "# row 4 (order)\n",
        "buy_orders = orders.filter((orders['order_side'] == 'Buy') & (orders['status'] == 'New'))\n",
        "fig.add_trace(go.Scatter(x=buy_orders['update_time'], y=buy_orders['order_price'], mode='markers', marker=dict(symbol='arrow-up', color='red', size=10), name=\"buy\"), row=4, col=1)\n",
        "\n",
        "buy_orders = orders.filter((orders['order_side'] == 'Buy') & (orders['status'] == 'Filled'))\n",
        "fig.add_trace(go.Scatter(x=buy_orders['update_time'], y=buy_orders['order_price'], mode='markers', marker=dict(symbol='cross-thin-open', color='red', size=10), name=\"buy filled\"), row=4, col=1)\n",
        "\n",
        "buy_orders = orders.filter((orders['order_side'] == 'Buy') & (orders['status'] == 'Canceled'))\n",
        "fig.add_trace(go.Scatter(x=buy_orders['update_time'], y=buy_orders['order_price'], mode='markers', marker=dict(symbol='x-thin-open', color='red', size=10), name=\"buy canceled\"), row=4, col=1)\n",
        "\n",
        "\n",
        "sell_orders = orders.filter((orders['order_side'] == 'Sell') & (orders['status'] == 'New'))\n",
        "fig.add_trace(go.Scatter(x=sell_orders['update_time'], y=sell_orders['order_price'], mode='markers', marker=dict(symbol='arrow-down', color='blue', size=10), name=\"sell\"), row=4, col=1)\n",
        "\n",
        "sell_orders = orders.filter((orders['order_side'] == 'Sell') & (orders['status'] == 'Filled'))\n",
        "fig.add_trace(go.Scatter(x=sell_orders['update_time'], y=sell_orders['order_price'], mode='markers', marker=dict(symbol='cross-thin-open', color='blue', size=10), name=\"sell filled\"), row=4, col=1)\n",
        "\n",
        "sell_orders = orders.filter((orders['order_side'] == 'Sell') & (orders['status'] == 'Canceled'))\n",
        "fig.add_trace(go.Scatter(x=sell_orders['update_time'], y=sell_orders['order_price'], mode='markers', marker=dict(symbol='x-thin-open', color='blue', size=10), name=\"sell canceled\"), row=4, col=1)\n",
        "\n",
        "fig.update_layout(height=800, title_text=\"Forwadtest Result\")\n"
      ]
    }
  ],
  "metadata": {
    "colab": {
      "provenance": [],
      "include_colab_link": true
    },
    "kernelspec": {
      "display_name": ".venv",
      "language": "python",
      "name": "python3"
    },
    "language_info": {
      "codemirror_mode": {
        "name": "ipython",
        "version": 3
      },
      "file_extension": ".py",
      "mimetype": "text/x-python",
      "name": "python",
      "nbconvert_exporter": "python",
      "pygments_lexer": "ipython3",
      "version": "3.11.6"
    }
  },
  "nbformat": 4,
  "nbformat_minor": 0
}