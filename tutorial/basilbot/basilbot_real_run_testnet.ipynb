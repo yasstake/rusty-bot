{
 "cells": [
  {
   "cell_type": "markdown",
   "metadata": {},
   "source": [
    "# バジルさんの記事「Binanceで数か月運用していた高頻度botの紹介」を実装してみる。\n",
    "https://note.com/kkngo/n/n13fb59bacc95?sub_rt=share_sb\n",
    "\n",
    "## TESTNETによる本番モード実行\n",
    "\n",
    "[バックテスト・フォーワードテストはこちら](./basilbot_backtest.ipynb)"
   ]
  },
  {
   "cell_type": "markdown",
   "metadata": {},
   "source": [
    "## ロジック\n",
    "バジルさんのロジックを引用すると以下のとおり\n",
    "\n",
    "* 取引頻度\n",
    "    約定履歴から作成した3秒足ごと\n",
    "* エントリー/イグジット条件\n",
    "    * 常に買いから入り、終値*0.9995など決め打ちでの買い指値（数字は仮）\n",
    "    * イグジットも終値*1.0005など決め打ちでの売り指値（数字は仮）\n",
    "\n",
    "* ピラミッディングやドテンの類はなし\n",
    "* 手持ちのTUSD（2500TUSDくらい）分のBTCを買って売るだけ\n",
    "* 4/27に大きく焼かれてからは、直近数時間の値動きが大きすぎるときはエントリーしないように対応\n",
    "* 約定回数\n",
    "    200～300回/日\n"
   ]
  },
  {
   "cell_type": "markdown",
   "metadata": {},
   "source": [
    "これを今回の実装用に調整・具体化すると以下。\n",
    "\n",
    "* 3秒毎にエントリーするかどうかを判定。\n",
    "\n",
    "* エントリー条件\n",
    "  * 前回のオーダーが残っていない（オーダー中および買いポジション(相当)がない）\n",
    "  * 直前の値動きが大きくない\n",
    "    * ３０分足を４本とり、平均の値幅が閾値以下。\n",
    "* オーダーキャンセル条件\n",
    "  * EXPIRE_TIME(600秒: 10分)以上約定しないオーダーはキャンセルする。 \n",
    "* 執行戦略\n",
    "  * 買い\n",
    "    * エントリー条件が揃ったら執行\n",
    "    * 指値: 3秒足の終値 * (1-OFFSET)     // OFFSETは0.0005などの値\n",
    "    * 数量: 0.001 BTC\n",
    "  * 売り\n",
    "    * 買いオーダーの約定が残っていたら執行\n",
    "    * 指値：買いオーダー発行時の3秒足の終値 * (1+OFFSET)     // OFFSETは0.0005などの値\n",
    "    * 数量：約定した買い注文と同数（=仮想敵なPosition）\n",
    "    * その他：売りオーダーがExpireしてCancelされた場合、即、market_orderで投げうる。\n"
   ]
  },
  {
   "cell_type": "markdown",
   "metadata": {},
   "source": [
    "# Agent（BOT）の実装"
   ]
  },
  {
   "cell_type": "code",
   "execution_count": null,
   "metadata": {},
   "outputs": [],
   "source": [
    "class BasilAgent:\n",
    "    def __init__(self):\n",
    "        self.OFFSET = 0.00_05\n",
    "        self.EXPIRE_TIME = 600    # 600[sec] = 10[min]\n",
    "        self.ORDER_SIZE = 0.01\n",
    "        self.RANGE = 300\n",
    "\n",
    "    def on_init(self, session):\n",
    "        session.clock_interval_sec = 3     # 3秒ごとに on_clock を呼び出す        \n",
    "    \n",
    "    def on_clock(self, session, clock):\n",
    "        if session.expire_order(self.EXPIRE_TIME):         # 期限切れの注文をキャンセルする.\n",
    "            return                                          # 期限切れがあればリターン\n",
    "\n",
    "        if session.buy_orders or session.sell_orders:   # 既に注文がある場合はリターン\n",
    "            return\n",
    "\n",
    "        # 1時間足のレンジを計算してログに出力する。レンジが大きい場合はトレードしない。        \n",
    "        ohlcv1h = session.ohlcv(60*60, 4)\n",
    "        range = (ohlcv1h['high']-ohlcv1h['low']).mean()\n",
    "        session.log_indicator(\"range\", range)\n",
    "\n",
    "        if self.RANGE < range:\n",
    "            return\n",
    "\n",
    "        ohlcv = session.ohlcv(3, 1)         # 3秒足を1本分取得。\n",
    "        if len(ohlcv) < 1:                 # 3秒間に約定データがない場合リターン\n",
    "            print(\"NO OHLCV DATA\")\n",
    "            return\n",
    "\n",
    "        if session.position <= 0.001:    # ポジションが少ない場合は買い注文を出す。\n",
    "            order_price = ohlcv['close'][-1] * (1 - self.OFFSET)\n",
    "            print(\"BUY ORDER: \", order_price, self.ORDER_SIZE)\n",
    "            session.limit_order('Buy', order_price, self.ORDER_SIZE - session.position)\n",
    "\n",
    "        else:                       # ポジションがある場合は売り注文を出す。\n",
    "            order_price = ohlcv['close'][-1] * (1 + self.OFFSET)\n",
    "            print(\"SELL ORDER: \", order_price, session.position)\n",
    "            session.limit_order('Sell', order_price, session.position)\n",
    "\n",
    "    def on_update(self, session, updated_order):\n",
    "        # 売りオーダーが期限切れされた場合には、成り行きで売り注文を出す（ロスカット）\n",
    "        if updated_order.status == 'Canceled':\n",
    "            if updated_order.side == 'Sell':\n",
    "                session.market_order('Sell', updated_order.remaining_size)\n",
    "\n"
   ]
  },
  {
   "cell_type": "code",
   "execution_count": null,
   "metadata": {},
   "outputs": [],
   "source": [
    "# rbot拡張ライブラリのインストール（２回目は不要です）\n",
    "! pip install --upgrade pip\n",
    "! pip install --upgrade rbot"
   ]
  },
  {
   "cell_type": "code",
   "execution_count": null,
   "metadata": {},
   "outputs": [],
   "source": [
    "# 関連ライブラリのインストール\n",
    "! pip install pyarrow\n",
    "! pip install polars\n",
    "! pip install plotly\n",
    "! pip install nbformat\n",
    "! pip install numpy\n",
    "! pip install pandas\n",
    "! pip install json2html"
   ]
  },
  {
   "cell_type": "markdown",
   "metadata": {},
   "source": [
    "## RealRun(TESTNET)\n",
    "\n",
    "テストネットで本番と同じ動作を確認しましょう。\n",
    "\n",
    "https://testnet.binance.vision\n",
    "\n",
    "上記URLでログインして（要GitHubID）、APIキーとSECRETを発行します。\n",
    "その後、環境変数にセットします。\n",
    "\n",
    "* `BINANCE_API_KEY` APIキーをセットします。\n",
    "* `BINANCE_API_SECRET`　APIシークレットをセットします。\n",
    "\n",
    "環境変数設定後は、Jupyuterの再起動が必要になる場合があります。"
   ]
  },
  {
   "cell_type": "code",
   "execution_count": null,
   "metadata": {},
   "outputs": [],
   "source": [
    "from rbot import BinanceConfig, BinanceMarket\n",
    "from rbot import Runner\n",
    "from rbot import NOW, DAYS\n",
    "\n",
    "from json2html import *\n",
    "from IPython.display import HTML, display"
   ]
  },
  {
   "cell_type": "code",
   "execution_count": null,
   "metadata": {},
   "outputs": [],
   "source": [
    "config = BinanceConfig.TEST_BTCUSDT\n",
    "\n",
    "# 設定を表示します。きちんとキーが設定されていることを確認してください。（最初の２文字しか表示されません）\n",
    "HTML(json2html.convert(config.__str__()))"
   ]
  },
  {
   "cell_type": "code",
   "execution_count": null,
   "metadata": {},
   "outputs": [],
   "source": [
    "market = BinanceMarket(config)\n",
    "\n",
    "BACKTEST_DAYS = 1\n",
    "\n",
    "market.download(\n",
    "    ndays=BACKTEST_DAYS,  # 過去１日分のデータをダウンロード\n",
    "    verbose=True          # ダウンロードの進捗を表示\n",
    ")"
   ]
  },
  {
   "cell_type": "code",
   "execution_count": null,
   "metadata": {},
   "outputs": [],
   "source": [
    "agent = BasilAgent()        # 実行対象のエージェントを指定\n",
    "runner = Runner()           # 実行モジュール Runner を作成"
   ]
  },
  {
   "cell_type": "code",
   "execution_count": null,
   "metadata": {},
   "outputs": [],
   "source": [
    "session = runner.real_run(\n",
    "    agent=agent,\n",
    "    market=market,\n",
    "    execute_time=60*60*6,    # 6H      # 実行時間の設定（本番では設定しない。NoteBookでテストするために終了条件を入れている）\n",
    "    verbose=True,\n",
    "    log_file='./rbot.log'       # ログファイルを指定\n",
    ")"
   ]
  },
  {
   "cell_type": "markdown",
   "metadata": {},
   "source": [
    "## 分析フェーズ\n",
    "\n",
    "本来BOTは動き続けるので、real_runの戻り値を使うことはできない。そこで、ファイルに出力したログをつかって分析する。Loggerクラスへ復元したあとはこれまで同じやり方が使える。"
   ]
  },
  {
   "cell_type": "code",
   "execution_count": null,
   "metadata": {},
   "outputs": [],
   "source": [
    "from rbot import Logger\n",
    "\n",
    "log = Logger(True)\n",
    "log.restore('./rbot.log')\n"
   ]
  },
  {
   "cell_type": "code",
   "execution_count": null,
   "metadata": {},
   "outputs": [],
   "source": [
    "orders = log.orders"
   ]
  },
  {
   "cell_type": "code",
   "execution_count": null,
   "metadata": {},
   "outputs": [],
   "source": [
    "# オーダー状況分析\n",
    "# あまりにCancelが多い場合は、Expireの時間やオーダーのOFFSETを調整する必要がある。\n",
    "orders.group_by(['order_side', 'status']).count()"
   ]
  },
  {
   "cell_type": "code",
   "execution_count": null,
   "metadata": {},
   "outputs": [],
   "source": [
    "# 最終想定損益\n",
    "orders['sum_profit'][-1]"
   ]
  },
  {
   "cell_type": "code",
   "execution_count": null,
   "metadata": {},
   "outputs": [],
   "source": [
    "# 手数料なし想定損益\n",
    "orders['profit'].sum()"
   ]
  },
  {
   "cell_type": "code",
   "execution_count": null,
   "metadata": {},
   "outputs": [],
   "source": [
    "\n",
    "# ローソク足データの作成 \n",
    "ohlcv = market.ohlcv(           \n",
    "    runner.start_timestamp,     # バックテストの開始時刻\n",
    "    runner.last_timestamp,    # バックテストの終了時刻\n",
    "    30                          # 30秒足\n",
    ")\n",
    "ohlcv.tail(5)"
   ]
  },
  {
   "cell_type": "code",
   "execution_count": null,
   "metadata": {},
   "outputs": [],
   "source": [
    "# session.log_indicator('range', value)で保存したデータは以下で取得できます。戻り値はpolars.DataFrameです。\n",
    "log['range'].tail(5)"
   ]
  },
  {
   "cell_type": "code",
   "execution_count": null,
   "metadata": {},
   "outputs": [],
   "source": [
    "# バックテスト結果の可視化\n",
    "\n",
    "# 数千件のデータを可視化するときは、plotlyを使うと便利。\n",
    "# https://plotly.com/python/\n",
    "# ただし約定データが万を超えると、ブラウザが重くなるので注意。一部データ切り取りなどが必要。\n",
    "\n",
    "import plotly.graph_objects as go\n",
    "from plotly.subplots import make_subplots\n",
    "\n",
    "fig = make_subplots(rows=4, cols=1, shared_xaxes=True, vertical_spacing=0.1, row_heights=[0.1, 0.1, 0.1, 0.6],\n",
    "                    subplot_titles=(\"range\", \"psudo-position\", \"psudo-profit\", \"candlestick\"))\n",
    "\n",
    "# row 1 (indicator)\n",
    "spread = log['range']\n",
    "fig.add_trace(go.Scatter(x=spread['timestamp'], y=spread['range'], name=\"range\"), row=1, col=1)\n",
    "\n",
    "# row 2 (position)\n",
    "fig.add_trace(go.Scatter(x=orders['update_time'], y=orders['position'], name=\"position\", line=dict(shape='hv')), row=2, col=1)\n",
    "\n",
    "# row 3 (profit)\n",
    "profit = orders['sum_profit']\n",
    "fig.add_trace(go.Scatter(x=orders['update_time'], y=orders['sum_profit'], name=\"profit\", line=dict(shape='hv')), row=3, col=1)\n",
    "\n",
    "# row 4 (candlestick)\n",
    "fig.add_candlestick(x=ohlcv['timestamp'], open=ohlcv['open'], high=ohlcv['high'], low=ohlcv['low'], close=ohlcv['close'], row=4, col=1)\n",
    "\n",
    "# row 4 (order)\n",
    "buy_orders = orders.filter((orders['order_side'] == 'Buy') & (orders['status'] == 'New'))\n",
    "fig.add_trace(go.Scatter(x=buy_orders['update_time'], y=buy_orders['order_price'], mode='markers', marker=dict(symbol='arrow-up', color='red', size=10), name=\"buy\"), row=4, col=1)\n",
    "\n",
    "buy_orders = orders.filter((orders['order_side'] == 'Buy') & (orders['status'] == 'Filled'))\n",
    "fig.add_trace(go.Scatter(x=buy_orders['update_time'], y=buy_orders['order_price'], mode='markers', marker=dict(symbol='cross-thin-open', color='red', size=10), name=\"buy filled\"), row=4, col=1)\n",
    "\n",
    "buy_orders = orders.filter((orders['order_side'] == 'Buy') & (orders['status'] == 'Canceled'))\n",
    "fig.add_trace(go.Scatter(x=buy_orders['update_time'], y=buy_orders['order_price'], mode='markers', marker=dict(symbol='x-thin-open', color='red', size=10), name=\"buy canceled\"), row=4, col=1)\n",
    "\n",
    "\n",
    "sell_orders = orders.filter((orders['order_side'] == 'Sell') & (orders['status'] == 'New'))\n",
    "fig.add_trace(go.Scatter(x=sell_orders['update_time'], y=sell_orders['order_price'], mode='markers', marker=dict(symbol='arrow-down', color='blue', size=10), name=\"sell\"), row=4, col=1)\n",
    "\n",
    "sell_orders = orders.filter((orders['order_side'] == 'Sell') & (orders['status'] == 'Filled'))\n",
    "fig.add_trace(go.Scatter(x=sell_orders['update_time'], y=sell_orders['order_price'], mode='markers', marker=dict(symbol='cross-thin-open', color='blue', size=10), name=\"sell filled\"), row=4, col=1)\n",
    "\n",
    "sell_orders = orders.filter((orders['order_side'] == 'Sell') & (orders['status'] == 'Canceled'))\n",
    "fig.add_trace(go.Scatter(x=sell_orders['update_time'], y=sell_orders['order_price'], mode='markers', marker=dict(symbol='x-thin-open', color='blue', size=10), name=\"sell canceled\"), row=4, col=1)\n",
    "\n",
    "fig.update_layout(height=800, title_text=\"Backtest Result\")\n"
   ]
  },
  {
   "cell_type": "markdown",
   "metadata": {},
   "source": [
    "# 注意：\n",
    "\n",
    "APIキーを本番用に変更し、`config`を`BinanceConfig.BTCUSDT`へ変更すると本当にオーダーが発行されます。\n",
    "\n",
    "ここまでも自己責任ですが、この先も完全自己責任でお楽しみください。"
   ]
  },
  {
   "cell_type": "markdown",
   "metadata": {},
   "source": []
  }
 ],
 "metadata": {
  "kernelspec": {
   "display_name": ".venv",
   "language": "python",
   "name": "python3"
  },
  "language_info": {
   "codemirror_mode": {
    "name": "ipython",
    "version": 3
   },
   "file_extension": ".py",
   "mimetype": "text/x-python",
   "name": "python",
   "nbconvert_exporter": "python",
   "pygments_lexer": "ipython3",
   "version": "3.9.6"
  }
 },
 "nbformat": 4,
 "nbformat_minor": 2
}
