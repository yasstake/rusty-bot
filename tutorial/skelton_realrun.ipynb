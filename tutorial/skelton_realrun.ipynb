{
 "cells": [
  {
   "cell_type": "markdown",
   "metadata": {},
   "source": [
    "# RustyBot(rbot)のフレームワークスケルトン(real_run (testnet))\n",
    "\n",
    "注：　Jyupiter上ではダウンロードなどのバックグランド処理中に止まってしまうことが多いです。コマンドライン版を動かしてください。\n",
    "\n",
    "テストネットを使って本番実行を行います。\n",
    "\n",
    "リアル時間なので、on_tickを１０秒毎に、on_tickを100イベント毎に出力します。\n",
    "\n",
    "`on_init`, `on_tick`, `on_clock`, `on_update`を必要に応じて実装します。\n",
    "\n",
    "参考：\n",
    "* [backtest skelton](./skelton_back_test.ipynb)\n",
    "* [forward skelton](./skelton_forward_test.ipynb)"
   ]
  },
  {
   "cell_type": "code",
   "execution_count": null,
   "metadata": {},
   "outputs": [],
   "source": [
    "# rbotをインストールします。\n",
    "! pip install --upgrade pip\n",
    "! pip install rbot"
   ]
  },
  {
   "cell_type": "code",
   "execution_count": null,
   "metadata": {},
   "outputs": [],
   "source": [
    "from rbot import time_string        # μsの時間を文字列に変換するユーティリティ関数です。\n",
    "\n",
    "class SkeltonAgent:      # クラス名は任意です\n",
    "    def __init__(self):\n",
    "        \"\"\"Botの初期化処理です。パラメータなどを設定するといいでしょう。利用しなくても構いません。\n",
    "        \"\"\"\n",
    "        self.tick_count = 0         # on_tickが呼び出された回数をカウントします。\n",
    "    \n",
    "    def on_init(self, session):\n",
    "        \"\"\"Botの初期化処理。Botの初期化時に一度だけ呼ばれます。\n",
    "        通常はsession.clock_interval_secを指定しon_clockの呼び出し間隔を設定します。\n",
    "        Args:\n",
    "            session: セッション情報（Botの初期化時用に渡されます）\n",
    "        \"\"\"\n",
    "        session.clock_interval_sec = 10        # 10秒ごとにon_clockを呼び出します。\n",
    "\n",
    "    \n",
    "    def on_tick(self, session, side, price, size):\n",
    "        \"\"\"取引所からの全ての約定イベント毎に呼び出される処理です（高頻度で呼び出されます）\n",
    "        Args:\n",
    "            session: セッション情報（市況情報の取得や注文するために利用します)\n",
    "            side: 売買区分です。\"Buy\"または\"Sell\"が設定されます。\n",
    "            price: 約定価格です。\n",
    "            size: 約定数量です。\n",
    "        \"\"\"\n",
    "        \n",
    "        # on_tickは高頻度によびだされるので、100回に1回だけ内容をプリントします。\n",
    "        if self.tick_count % 100 == 0:\n",
    "            print(\"on_tick: \", side, price, size)\n",
    "\n",
    "        self.tick_count += 1\n",
    "    \n",
    "    def on_clock(self, session, clock):\n",
    "        \"\"\"定期的にフレームワークから呼び出される処理です。\n",
    "        session.clock_interval_secで指定した間隔で呼び出されます。\n",
    "\n",
    "        Args:\n",
    "            session: セッション情報（市況情報の取得や注文するために利用します)        \n",
    "            clock: 現在時刻です。エポック時間からのマイクロ秒で表されます。\n",
    "        \"\"\"\n",
    "        # 現在の時刻をプリントします。\n",
    "        print(\"on_clock: \", clock, \": \", time_string(clock))\n",
    "    \n",
    "    def on_update(self, session, updated_order):\n",
    "        \"\"\"自分の注文状態が変化した場合に呼び出される処理です。\n",
    "        Args:\n",
    "            session: セッション情報（市況情報の取得や注文するために利用します)                \n",
    "            session: セッション情報（市況情報の取得や注文するために利用します)        \n",
    "            updated_order: 注文状態が変化した注文情報です。\n",
    "        \"\"\"\n",
    "        # 注文状態が変化した注文情報をプリントします。オーダーを発行しない限り呼び出されません。\n",
    "        print(\"on_update\", updated_order)    \n",
    "\n",
    "    "
   ]
  },
  {
   "cell_type": "markdown",
   "metadata": {},
   "source": [
    "## RealRunの準備"
   ]
  },
  {
   "cell_type": "markdown",
   "metadata": {},
   "source": [
    "最初にサーバのアクセスキーを設定してください。以下の環境変数を用います。\n",
    "\n",
    "* Binance\n",
    "    * BINANCE_API_KEY\n",
    "    * BINANCE_API_SECRET\n",
    "\n",
    "* Bybit\n",
    "    * BYBIT_API_KEY\n",
    "    * BYBIT_API_SECRET\n"
   ]
  },
  {
   "cell_type": "code",
   "execution_count": null,
   "metadata": {},
   "outputs": [],
   "source": [
    "# Binanceマーケットを指定します。\n",
    "\n",
    "from rbot import Binance\n",
    "from rbot import BinanceConfig\n",
    "\n",
    "binance_exchange = Binance(production=False)    # テストネットを利用します。\n",
    "\n",
    "binance_exchange.enable_order_with_my_own_risk = True    # 自己責任で注文を出す設定にします。これがないと注文が出せません。\n",
    "\n",
    "binance_market = binance_exchange.open_market(BinanceConfig.BTCUSDT)"
   ]
  },
  {
   "cell_type": "code",
   "execution_count": null,
   "metadata": {},
   "outputs": [],
   "source": [
    "# Bybitマーケットを指定します。(binanceかbybitのどちらか一方を選択してください)\n",
    "from rbot import Bybit\n",
    "from rbot import BybitConfig\n",
    "\n",
    "bybit_exchange = Bybit(production=False)   # テストネットを利用します。\n",
    "bybit_exchange.enable_order_with_my_own_risk = True    # 自己責任で注文を出す設定にします。これがないと注文が出せません。\n",
    "\n",
    "config = BybitConfig.BTCUSDT          # BTC/USDTの市況情報を取得します。\n",
    "bybit_market = bybit_exchange.open_market(config)   # BTCUSDTの市況情報を取得するためのマーケットを開きます。\n"
   ]
  },
  {
   "cell_type": "code",
   "execution_count": null,
   "metadata": {},
   "outputs": [],
   "source": [
    "exchange = bybit_exchange\n",
    "market = bybit_market"
   ]
  },
  {
   "cell_type": "code",
   "execution_count": null,
   "metadata": {},
   "outputs": [],
   "source": [
    "# 過去ログを１日分ダウンロードします。\n",
    "\n",
    "market.download_archive(ndays=1, verbose=True)\n",
    "\n",
    "# 更新系のオペレーションは１つのプロセスしかできません。他にプロセスがある場合はデッドロックする場合があります。\n",
    "# また大量のファイルをダウンロードするため、ディスク容量に注意してください。\n"
   ]
  },
  {
   "cell_type": "code",
   "execution_count": null,
   "metadata": {},
   "outputs": [],
   "source": [
    "# DBの場所は以下の場所にあります。古いバージョンのrbotと非互換が発生した場合などDBファイルを一旦削除してください。\n",
    "market.file_name"
   ]
  },
  {
   "cell_type": "markdown",
   "metadata": {},
   "source": [
    "## 本番実行\n",
    "\n",
    "本番実行は、データをダウンロードする時間がかかり,jupyter上ではうまく動かない場合が多いです。その場合は`skeltom_realrun.py`のほうをコマンドラインでうごかしてください。途中経過が表示されるので止まっているのか、動いているのか判別できます。\n",
    "\n",
    "本番実行の場合、アーカイブデータとリアルタイムデータの間のデータをすべてダウンロードします。\n",
    "* Binanceの場合\n",
    "    RESTでダウンロードするのて時間がかかります。\n",
    "* Bybitの場合\n",
    "    アーカイブ以降は１分足のデータしかないので、１分足以下のOHLCVは作成しても正しくデータが反映されません。"
   ]
  },
  {
   "cell_type": "code",
   "execution_count": null,
   "metadata": {},
   "outputs": [],
   "source": [
    "from rbot import Runner\n",
    "from rbot import NOW, DAYS\n",
    "\n",
    "from rbot import init_debug_log\n",
    "init_debug_log()\n",
    "\n",
    "agent = SkeltonAgent()\n",
    "runner = Runner()\n",
    "\n",
    "session = runner.real_run(\n",
    "                exchange=exchange,\n",
    "                market=market,\n",
    "                agent=agent, \n",
    "                execute_time = 90,  # 90秒間実行します。指定しないと永久に実行します。\n",
    "                verbose=True,\n",
    "                log_file=\"skelton_bot.log\"\n",
    "            )\n",
    "\n",
    "session"
   ]
  },
  {
   "cell_type": "code",
   "execution_count": null,
   "metadata": {},
   "outputs": [],
   "source": [
    "exchange.account"
   ]
  },
  {
   "cell_type": "markdown",
   "metadata": {},
   "source": [
    "# ここからは別プロセスで行う\n",
    "\n",
    "本番は終了することが通常ない。\n",
    "そのため、ログファイルを別途読み込んで分析する。\n",
    "以下読み込み方のサンプル"
   ]
  },
  {
   "cell_type": "code",
   "execution_count": null,
   "metadata": {},
   "outputs": [],
   "source": [
    "from rbot import Logger\n",
    "\n",
    "log = Logger()\n",
    "log.restore(\"skelton_bot.log\")\n"
   ]
  },
  {
   "cell_type": "code",
   "execution_count": null,
   "metadata": {},
   "outputs": [],
   "source": [
    "# ファイルから読み込んだあとは通常どおり。\n",
    "\n",
    "log.orders"
   ]
  },
  {
   "cell_type": "code",
   "execution_count": null,
   "metadata": {},
   "outputs": [],
   "source": [
    "log['indicators']"
   ]
  },
  {
   "cell_type": "code",
   "execution_count": null,
   "metadata": {},
   "outputs": [],
   "source": [
    "# テストネットのIDはアーカイブと連続していないため不整合が発生します。次回のために削除しておきます。\n",
    "#  アーカイブ以外、WSやRESTからのデータを削除します\n",
    "market.expire_unfix_data(force=True)  \n",
    "\n",
    "from time sleep\n",
    "sleep(10)"
   ]
  }
 ],
 "metadata": {
  "kernelspec": {
   "display_name": ".venv",
   "language": "python",
   "name": "python3"
  },
  "language_info": {
   "codemirror_mode": {
    "name": "ipython",
    "version": 3
   },
   "file_extension": ".py",
   "mimetype": "text/x-python",
   "name": "python",
   "nbconvert_exporter": "python",
   "pygments_lexer": "ipython3",
   "version": "3.11.6"
  }
 },
 "nbformat": 4,
 "nbformat_minor": 2
}
