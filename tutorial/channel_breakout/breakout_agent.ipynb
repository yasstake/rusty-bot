{
  "cells": [
    {
      "cell_type": "markdown",
      "metadata": {
        "id": "view-in-github",
        "colab_type": "text"
      },
      "source": [
        "<a href=\"https://colab.research.google.com/github/yasstake/rusty-bot/blob/main/tutorial/channel_breakout/breakout_agent.ipynb\" target=\"_parent\"><img src=\"https://colab.research.google.com/assets/colab-badge.svg\" alt=\"Open In Colab\"/></a>"
      ]
    },
    {
      "cell_type": "markdown",
      "metadata": {
        "id": "0YWqMhkrd71R"
      },
      "source": [
        "# BackTestのチュートリアル\n",
        "\n",
        "<a target=\"_blank\" href=\"https://colab.research.google.com/github/yasstake/rusty-bot/blob/main/tutorial/breakout_agent.ipynb\">\n",
        "  <img src=\"https://colab.research.google.com/assets/colab-badge.svg\" alt=\"Open In Colab\"/>\n",
        "</a>\n",
        "\n",
        "\n",
        "## 1. 実装するBotのロジック\n",
        "\n",
        "Ukiさんの「オープニングレンジ・ブレイクアウト」をお借りして、バックテストのtutorialを作成しました（公開くさだって感謝）。\n",
        "\n",
        "Binanceのspot/BTCBUSD用に書いていますが、PublicAPIのみ利用のためアカウントは不要で試すことができます。\n",
        "\n",
        "\n",
        "\n",
        "<blockquote class=\"twitter-tweet\"><p lang=\"ja\" dir=\"ltr\">お待ちかねのロジックを公開。<br>(元祖)ドテン君はブレイクアウトだが通常のHLチャネルブレイクではない。その手法は「オープニングレンジ・ブレイクアウト」と呼ばれるものである。文章での説明は面倒なのでhohetoとの会議資料をそのまま添付する。ストラテジーに関する質問には応対できません。 <a href=\"https://t.co/LB6mdxVZZo\">pic.twitter.com/LB6mdxVZZo</a></p>&mdash; UKI (@blog_uki) <a href=\"https://twitter.com/blog_uki/status/981768546429448192?ref_src=twsrc%5Etfw\">April 5, 2018</a></blockquote> <script async src=\"https://platform.twitter.com/widgets.js\" charset=\"utf-8\"></script>\n",
        "\n",
        "![](https://pbs.twimg.com/media/DZ_xJQFUMAEOrpS?format=jpg&name=900x900)"
      ]
    },
    {
      "cell_type": "markdown",
      "metadata": {
        "id": "IvEz6O97d71S"
      },
      "source": [
        "## 2. BreakOutAgentの実装\n",
        "\n",
        "日本語で読み解くと以下のようになります。\n",
        "\n",
        "「シグナル点灯した次の足の始値」ではなく、シグナル点灯直後の最良値でエントリーすることに変更した以外はほぼ忠実に書き下しています。\n",
        "\n",
        "1. `Agent.on_clock`を10分毎に呼び出す。\n",
        "2.\n",
        "\n",
        "3. `Agent.on_clock`内で以下の処理を行う。\n",
        "\n",
        "    1. 前処理\n",
        "       \n",
        "       前回のon_clock中でのオーダーが処理中の場合はなにもしない（リターン）\n",
        "    2. Long/Short判定\n",
        "      * 現在時刻から2時間足を6本取得する。`session.ohlcv`（6本目の最後の足は未確定足。10分毎に呼ばれるたびにupdateされる）\n",
        "      (ohlcv[0]-ohlcv[5]へ値を格納)\n",
        "      * 0-4本目の足のレンジ幅（高値ー安値）の平均値を計算`(ohlcv['high]-ohlcv['low']).mean() * K`し、Kをかけたものを'range_width'へ保存する。\n",
        "      * 最新足（未確定）の始値〜高値を計算する('diff_high')\n",
        "      * 最新足（未確定）の始値〜安値を計算する('diff_low')\n",
        "      * 'range_width', 'diff_high', 'diff_low'の結果からLong/Short判定\n",
        "    3. オーダー執行\n",
        "       1. Long判定のとき\n",
        "          * すでにLongポジションがある場合は何もしない。\n",
        "          * Shortポジションがあった場合はドテン（最良値、倍サイズ）\n",
        "          * 上記に当てはまらない場合は最良値、通常サイズでLong(Buy)\n",
        "       2. Short判定のとき\n",
        "           * すでにShortポジションがある場合は何もしない\n",
        "           * Shortポジションがあった場合はドテン（最良値、倍サイズ）\n",
        "           * 上記に当てはまらない場合は最良値、通常サイズでShort(Sell)"
      ]
    },
    {
      "cell_type": "markdown",
      "metadata": {
        "id": "x8zNuVGdd71T"
      },
      "source": [
        "## 2. 依存ライブラリのインストール"
      ]
    },
    {
      "cell_type": "code",
      "execution_count": 1,
      "metadata": {
        "id": "uCenb7s5LlB1",
        "outputId": "a15007e7-ebb4-40f0-a1d2-fd2c9b99293f",
        "colab": {
          "base_uri": "https://localhost:8080/"
        }
      },
      "outputs": [
        {
          "output_type": "stream",
          "name": "stdout",
          "text": [
            "Requirement already satisfied: pip in /usr/local/lib/python3.10/dist-packages (23.1.2)\n",
            "Collecting pip\n",
            "  Downloading pip-24.0-py3-none-any.whl (2.1 MB)\n",
            "\u001b[2K     \u001b[90m━━━━━━━━━━━━━━━━━━━━━━━━━━━━━━━━━━━━━━━━\u001b[0m \u001b[32m2.1/2.1 MB\u001b[0m \u001b[31m13.1 MB/s\u001b[0m eta \u001b[36m0:00:00\u001b[0m\n",
            "\u001b[?25hInstalling collected packages: pip\n",
            "  Attempting uninstall: pip\n",
            "    Found existing installation: pip 23.1.2\n",
            "    Uninstalling pip-23.1.2:\n",
            "      Successfully uninstalled pip-23.1.2\n",
            "Successfully installed pip-24.0\n",
            "Collecting rbot\n",
            "  Downloading rbot-0.3.5-cp38-abi3-manylinux_2_17_x86_64.manylinux2014_x86_64.whl.metadata (10 kB)\n",
            "Downloading rbot-0.3.5-cp38-abi3-manylinux_2_17_x86_64.manylinux2014_x86_64.whl (17.7 MB)\n",
            "\u001b[2K   \u001b[90m━━━━━━━━━━━━━━━━━━━━━━━━━━━━━━━━━━━━━━━━\u001b[0m \u001b[32m17.7/17.7 MB\u001b[0m \u001b[31m12.1 MB/s\u001b[0m eta \u001b[36m0:00:00\u001b[0m\n",
            "\u001b[?25hInstalling collected packages: rbot\n",
            "Successfully installed rbot-0.3.5\n",
            "\u001b[33mWARNING: Running pip as the 'root' user can result in broken permissions and conflicting behaviour with the system package manager. It is recommended to use a virtual environment instead: https://pip.pypa.io/warnings/venv\u001b[0m\u001b[33m\n",
            "\u001b[0m"
          ]
        }
      ],
      "source": [
        "# rbot拡張ライブラリのインストール（２回目は不要です）\n",
        "! pip install --upgrade pip\n",
        "! pip install --upgrade rbot"
      ]
    },
    {
      "cell_type": "code",
      "execution_count": 2,
      "metadata": {
        "id": "xi8Ff7qKLlB2",
        "outputId": "36c1ee72-2ce6-4a35-84d3-3d35fe1e03f2",
        "colab": {
          "base_uri": "https://localhost:8080/"
        }
      },
      "outputs": [
        {
          "output_type": "stream",
          "name": "stdout",
          "text": [
            "Requirement already satisfied: pyarrow in /usr/local/lib/python3.10/dist-packages (14.0.2)\n",
            "Requirement already satisfied: numpy>=1.16.6 in /usr/local/lib/python3.10/dist-packages (from pyarrow) (1.25.2)\n",
            "\u001b[33mWARNING: Running pip as the 'root' user can result in broken permissions and conflicting behaviour with the system package manager. It is recommended to use a virtual environment instead: https://pip.pypa.io/warnings/venv\u001b[0m\u001b[33m\n",
            "\u001b[0mRequirement already satisfied: polars in /usr/local/lib/python3.10/dist-packages (0.20.2)\n",
            "Collecting polars\n",
            "  Downloading polars-0.20.18-cp38-abi3-manylinux_2_17_x86_64.manylinux2014_x86_64.whl.metadata (15 kB)\n",
            "Downloading polars-0.20.18-cp38-abi3-manylinux_2_17_x86_64.manylinux2014_x86_64.whl (26.3 MB)\n",
            "\u001b[2K   \u001b[90m━━━━━━━━━━━━━━━━━━━━━━━━━━━━━━━━━━━━━━━━\u001b[0m \u001b[32m26.3/26.3 MB\u001b[0m \u001b[31m46.8 MB/s\u001b[0m eta \u001b[36m0:00:00\u001b[0m\n",
            "\u001b[?25hInstalling collected packages: polars\n",
            "  Attempting uninstall: polars\n",
            "    Found existing installation: polars 0.20.2\n",
            "    Uninstalling polars-0.20.2:\n",
            "      Successfully uninstalled polars-0.20.2\n",
            "Successfully installed polars-0.20.18\n",
            "\u001b[33mWARNING: Running pip as the 'root' user can result in broken permissions and conflicting behaviour with the system package manager. It is recommended to use a virtual environment instead: https://pip.pypa.io/warnings/venv\u001b[0m\u001b[33m\n",
            "\u001b[0mRequirement already satisfied: plotly in /usr/local/lib/python3.10/dist-packages (5.15.0)\n",
            "Requirement already satisfied: tenacity>=6.2.0 in /usr/local/lib/python3.10/dist-packages (from plotly) (8.2.3)\n",
            "Requirement already satisfied: packaging in /usr/local/lib/python3.10/dist-packages (from plotly) (24.0)\n",
            "\u001b[33mWARNING: Running pip as the 'root' user can result in broken permissions and conflicting behaviour with the system package manager. It is recommended to use a virtual environment instead: https://pip.pypa.io/warnings/venv\u001b[0m\u001b[33m\n",
            "\u001b[0mRequirement already satisfied: nbformat in /usr/local/lib/python3.10/dist-packages (5.10.3)\n",
            "Requirement already satisfied: fastjsonschema in /usr/local/lib/python3.10/dist-packages (from nbformat) (2.19.1)\n",
            "Requirement already satisfied: jsonschema>=2.6 in /usr/local/lib/python3.10/dist-packages (from nbformat) (4.19.2)\n",
            "Requirement already satisfied: jupyter-core in /usr/local/lib/python3.10/dist-packages (from nbformat) (5.7.2)\n",
            "Requirement already satisfied: traitlets>=5.1 in /usr/local/lib/python3.10/dist-packages (from nbformat) (5.7.1)\n",
            "Requirement already satisfied: attrs>=22.2.0 in /usr/local/lib/python3.10/dist-packages (from jsonschema>=2.6->nbformat) (23.2.0)\n",
            "Requirement already satisfied: jsonschema-specifications>=2023.03.6 in /usr/local/lib/python3.10/dist-packages (from jsonschema>=2.6->nbformat) (2023.12.1)\n",
            "Requirement already satisfied: referencing>=0.28.4 in /usr/local/lib/python3.10/dist-packages (from jsonschema>=2.6->nbformat) (0.34.0)\n",
            "Requirement already satisfied: rpds-py>=0.7.1 in /usr/local/lib/python3.10/dist-packages (from jsonschema>=2.6->nbformat) (0.18.0)\n",
            "Requirement already satisfied: platformdirs>=2.5 in /usr/local/lib/python3.10/dist-packages (from jupyter-core->nbformat) (4.2.0)\n",
            "\u001b[33mWARNING: Running pip as the 'root' user can result in broken permissions and conflicting behaviour with the system package manager. It is recommended to use a virtual environment instead: https://pip.pypa.io/warnings/venv\u001b[0m\u001b[33m\n",
            "\u001b[0mRequirement already satisfied: numpy in /usr/local/lib/python3.10/dist-packages (1.25.2)\n",
            "\u001b[33mWARNING: Running pip as the 'root' user can result in broken permissions and conflicting behaviour with the system package manager. It is recommended to use a virtual environment instead: https://pip.pypa.io/warnings/venv\u001b[0m\u001b[33m\n",
            "\u001b[0mRequirement already satisfied: pandas in /usr/local/lib/python3.10/dist-packages (2.0.3)\n",
            "Requirement already satisfied: python-dateutil>=2.8.2 in /usr/local/lib/python3.10/dist-packages (from pandas) (2.8.2)\n",
            "Requirement already satisfied: pytz>=2020.1 in /usr/local/lib/python3.10/dist-packages (from pandas) (2023.4)\n",
            "Requirement already satisfied: tzdata>=2022.1 in /usr/local/lib/python3.10/dist-packages (from pandas) (2024.1)\n",
            "Requirement already satisfied: numpy>=1.21.0 in /usr/local/lib/python3.10/dist-packages (from pandas) (1.25.2)\n",
            "Requirement already satisfied: six>=1.5 in /usr/local/lib/python3.10/dist-packages (from python-dateutil>=2.8.2->pandas) (1.16.0)\n",
            "\u001b[33mWARNING: Running pip as the 'root' user can result in broken permissions and conflicting behaviour with the system package manager. It is recommended to use a virtual environment instead: https://pip.pypa.io/warnings/venv\u001b[0m\u001b[33m\n",
            "\u001b[0mCollecting json2html\n",
            "  Downloading json2html-1.3.0.tar.gz (7.0 kB)\n",
            "  Preparing metadata (setup.py) ... \u001b[?25l\u001b[?25hdone\n",
            "Building wheels for collected packages: json2html\n",
            "  Building wheel for json2html (setup.py) ... \u001b[?25l\u001b[?25hdone\n",
            "  Created wheel for json2html: filename=json2html-1.3.0-py3-none-any.whl size=7593 sha256=9eb078371caf657533e6cdc041f70ba0664cf0ec64663e9f5286fb887e6ef44d\n",
            "  Stored in directory: /root/.cache/pip/wheels/e0/d8/b3/6f83a04ab0ec00e691de794d108286bb0f8bcdf4ade19afb57\n",
            "Successfully built json2html\n",
            "Installing collected packages: json2html\n",
            "Successfully installed json2html-1.3.0\n",
            "\u001b[33mWARNING: Running pip as the 'root' user can result in broken permissions and conflicting behaviour with the system package manager. It is recommended to use a virtual environment instead: https://pip.pypa.io/warnings/venv\u001b[0m\u001b[33m\n",
            "\u001b[0m"
          ]
        }
      ],
      "source": [
        "# 関連ライブラリのインストール\n",
        "! pip install pyarrow\n",
        "! pip install --upgrade polars\n",
        "! pip install plotly\n",
        "! pip install nbformat\n",
        "! pip install numpy\n",
        "! pip install pandas\n",
        "! pip install json2html"
      ]
    },
    {
      "cell_type": "code",
      "source": [],
      "metadata": {
        "id": "9GsgeqIEMdau"
      },
      "execution_count": null,
      "outputs": []
    },
    {
      "cell_type": "code",
      "execution_count": 3,
      "metadata": {
        "id": "cgQB8PIZd71T"
      },
      "outputs": [],
      "source": [
        "# rbotは今回提供するbacktestライブラリ\n",
        "import rbot\n",
        "from rbot import Runner\n",
        "\n",
        "from rbot import time_string\n",
        "from rbot import DAYS_BEFORE"
      ]
    },
    {
      "cell_type": "markdown",
      "metadata": {
        "id": "mzlV3a9Yd71U"
      },
      "source": [
        "## 3. break out Agent(bot)の実装\n",
        "\n",
        "#### 時間の扱い\n",
        "\n",
        "時刻について、以下の基準で設計しています。\n",
        "* 時刻（ある一点を指す）: UTCでエポックタイムからのマイクロ秒(μs)。時刻０はfromの時は過去全部、toのときは将来全部（≒現在時刻）\n",
        "* 期間：ほとんどで秒(s)。ログのダウンロード`Market.download`だけ日(day)\n",
        "  * 例：ohlcvの足の幅などは秒を利用。\n",
        "\n",
        "#### Botの実装すべき必須メソッド\n",
        "\n",
        "３つのメソッドを実装するとフレームワークが適宜呼び出してくれます。\n",
        "* `on_clock(self, session, current_time_us)` 定期的に呼び出される関数です。`time_us`は現在時刻です。`session`クラスを使ってローソク足`ohlcv`をとったりオーダーの発行ができます。\n",
        "* `on_tick(self, session, side, price, size)` 全ログイベントを受け取ります。\n",
        "* `on_update(self, session, updated_order)`オーダーが約定したり失効した場合に呼ばれます。'updated_order'の中に更新後のオーダ情報が含まれています。\n",
        "\n"
      ]
    },
    {
      "cell_type": "code",
      "execution_count": 4,
      "metadata": {
        "id": "HNJmDr8_LlB2"
      },
      "outputs": [],
      "source": [
        "class BreakOutAgent:\n",
        "    \"\"\"\n",
        "        Agentのクラス名は任意。\n",
        "        on_tick, on_clock, on_updateを実装するとフレームワークから呼び出される。\n",
        "    \"\"\"\n",
        "\n",
        "    def __init__(self, param_K=1.6):\n",
        "            self.param_K = param_K  # パラメターKを設定する。\n",
        "            self.offset = 10.0       # 指値のオフセット\n",
        "\n",
        "    def on_init(self, session):\n",
        "        print(\"execute mode = \", session.execute_mode)\n",
        "        session.clock_interval_sec = 60*60*2  # 2時間ごとにon_clockを呼び出すように設定する。\n",
        "\n",
        "    def on_clock(self, session, time_us):\n",
        "        \"\"\" Botのメインロジック。設定した秒数毎に呼ばれる \"\"\"\n",
        "        # 古いオーダーをキャンセルする。\n",
        "\n",
        "        # 前処理/ 前回のon_clock中でのオーダーが処理中の場合はなにもしない（リターン）\n",
        "        if session.buy_orders or session.sell_orders:\n",
        "            session.expire_order(60*60*2)  # 2時間以上経過したオーダーをキャンセルする。\n",
        "\n",
        "        ############   メインロジック  ######################\n",
        "        ohlcv_df = session.ohlcv(60*60*2, 6)  # 2時間足(60*60*2sec)を６本取得。 最新は６番目。ただし未確定足\n",
        "        if len(ohlcv_df) < 6:           # データが過去６本分そろっていない場合はなにもせずリターン\n",
        "            return\n",
        "\n",
        "        ohlcv5 = ohlcv_df[:-2]       # 過去５本足（確定）\n",
        "        range_width = (ohlcv5['high'] - ohlcv5['low']).mean() * self.param_K  # 価格変動レンジの平均を計算 * K\n",
        "\n",
        "        # Long/Short判定\n",
        "        ohlcv_latest = ohlcv_df[-2:-1]     # 最新足１本(未確定)\n",
        "        diff_low   =   (ohlcv_latest['open'][0] - ohlcv_latest['low'][0])\n",
        "        detect_short  = range_width < diff_low\n",
        "\n",
        "        diff_high  = - (ohlcv_latest['open'][0] - ohlcv_latest['high'][0])\n",
        "        detect_long = range_width  < diff_high\n",
        "\n",
        "        ##########  メインロジック中に利用したindicatorのロギング（あとでグラフ化するため保存）    ##############\n",
        "        session.log_indicator('diff_low', diff_low)\n",
        "        session.log_indicator('diff_high', diff_high)\n",
        "        session.log_indicator('range_width', range_width)\n",
        "\n",
        "        ##########　執行戦略（順方向のポジションがあったら保留。逆方向のポジションがのこっていたらドテン）#########\n",
        "        ORDER_SIZE = 0.01     # 標準オーダーサイズ(ドテンの場合はx2)\n",
        "\n",
        "        session.log_indicator('position', session.position)\n",
        "\n",
        "        if detect_long and (session.position <= 0):\n",
        "            if session.sell_orders:\n",
        "                for order in session.sell_orders:\n",
        "                    session.cancel_order(order.order_id)\n",
        "\n",
        "            bit_edge, ask_edge = session.last_price\n",
        "            session.limit_order('Buy', bit_edge - self.offset, ORDER_SIZE + (-session.position))\n",
        "\n",
        "        if detect_short and (0 <= session.position): # short判定のとき\n",
        "            if session.buy_orders:\n",
        "                for order in session.buy_orders:\n",
        "                    session.cancel_order(order.order_id)\n",
        "\n",
        "            bit_edge, ask_edge = session.last_price\n",
        "            session.limit_order('Sell', ask_edge + self.offset, ORDER_SIZE + session.position)\n",
        "\n",
        "    # 全Tick受け取りたい時は on_tick を実装する。\n",
        "    #def on_tick(self, time, session, side, price, size):\n",
        "    #    pass\n",
        "\n",
        "    #約定イベントを受け取りたい時は on_updateを実装する。\n",
        "    def on_update(self, session, order_result):\n",
        "        print(order_result)\n",
        "\n",
        "    def on_account_update(self, session, account):\n",
        "        print(account)\n"
      ]
    },
    {
      "cell_type": "markdown",
      "metadata": {
        "id": "tXAc9XH7d71W"
      },
      "source": [
        "## 4. Exchange/Market オブジェクトの作成 & データのロード\n",
        "\n",
        "### Binanceオブジェクトを生成。\n",
        "\n",
        "バックテストなので本番ネットを選択肢、`Binance`か`Bybit`のexchangeオブジェクトを生成し、`Config`オブジェクトをあたえてMarketをひらきます。\n",
        "\n",
        "その後、marketオブジェクトをつかって取引履歴をダウンロードします。\n"
      ]
    },
    {
      "cell_type": "code",
      "execution_count": 5,
      "metadata": {
        "id": "oJxTeL3SLlB2"
      },
      "outputs": [],
      "source": [
        "# Binanceマーケットを指定します。(BinanceかBybitのどちらかを選択してください。)\n",
        "from rbot import Binance\n",
        "from rbot import BinanceConfig\n",
        "\n",
        "\n",
        "binance_exchange = Binance(production=True)     # 本番ネットのデータを取得します。\n",
        "\n",
        "config = BinanceConfig.BTCUSDT          # BTC/USDTの市況情報を取得します。\n",
        "binance_market = binance_exchange.open_market(config)   # BTCUSDTの市況情報を取得するためのマーケットを開きます。\n"
      ]
    },
    {
      "cell_type": "code",
      "execution_count": 6,
      "metadata": {
        "id": "Ea8_mJwpLlB2"
      },
      "outputs": [],
      "source": [
        "# Bybitマーケットを指定します。(binanceかbybitのどちらか一方を選択してください)\n",
        "from rbot import Bybit\n",
        "from rbot import BybitConfig\n",
        "\n",
        "\n",
        "bybit_exchange = Bybit(production=True)     # 本番ネットのデータを取得します。\n",
        "\n",
        "config = BybitConfig.BTCUSDT          # BTC/USDTの市況情報を取得します。\n",
        "bybit_market = bybit_exchange.open_market(config)   # BTCUSDTの市況情報を取得するためのマーケットを開きます。\n"
      ]
    },
    {
      "cell_type": "code",
      "execution_count": 7,
      "metadata": {
        "id": "GChCs3IiLlB3"
      },
      "outputs": [],
      "source": [
        "#exchange = bybit_exchange\n",
        "#market = bybit_market\n",
        "exchange = binance_exchange\n",
        "market = binance_market"
      ]
    },
    {
      "cell_type": "markdown",
      "metadata": {
        "id": "8iRgAuAOLlB3"
      },
      "source": [
        "### データのダウンロード\n",
        "\n",
        "最初にダウンロードメソッドをつかってデータをダウンロードします。\n",
        "\n",
        "#### ダウンロードメソッド\n",
        "```\n",
        "BinanceMarket.download_archive(ndays, force=False, verbose=True)\n",
        "```\n",
        "\n",
        "##### パラメータ\n",
        "* `ndays` 何日前のデータからダウンロードするかを指定します。\n",
        "* `forde` オプション：TureにするとローカルDBにデータがあっても再ダウンロードします。\n",
        "* `verbose` オプション:ダウンロード状況を印刷します（ディフォルトは表示）\n",
        "\n",
        "##### 戻り値\n",
        "* ダウンロードされたレコード数\n"
      ]
    },
    {
      "cell_type": "code",
      "execution_count": 8,
      "metadata": {
        "id": "qbR2nndQLlB3",
        "outputId": "4b33c163-7b8e-430e-b4ea-c331adfef7c3",
        "colab": {
          "base_uri": "https://localhost:8080/"
        }
      },
      "outputs": [
        {
          "output_type": "execute_result",
          "data": {
            "text/plain": [
              "18973970"
            ]
          },
          "metadata": {},
          "execution_count": 8
        }
      ],
      "source": [
        "#from rbot import init_debug_log;\n",
        "#init_debug_log()\n",
        "\n",
        "# 過去２日分のデータをダウンロード\n",
        "market.download_archive(\n",
        "    ndays=10,       #ダウンロード日数\n",
        "    verbose=True    #ダウンロード状況を表示\n",
        ")"
      ]
    },
    {
      "cell_type": "code",
      "execution_count": 9,
      "metadata": {
        "id": "So_PM4hId71W"
      },
      "outputs": [],
      "source": [
        "# かなり巨大なデータベースができあがります。１日分で数百MB。\n",
        "# DBを削除する場合は以下のコマンドを実行してください\n",
        "# なお最後に表示されたファイルを別途OSから削除してください。\n",
        "#binance.drop_table()\n",
        "\n",
        "# DBのある場所を表示します。かなり大きなファイルになりますので不要になった場合手動で消してください。\n",
        "#binance.file_name"
      ]
    },
    {
      "cell_type": "markdown",
      "metadata": {
        "id": "hAmNF3U2d71X"
      },
      "source": [
        "## 5. バックテスト実行"
      ]
    },
    {
      "cell_type": "code",
      "execution_count": 10,
      "metadata": {
        "id": "Il8Q_asmLlB3",
        "outputId": "fc56d9b2-eb7b-4a12-b756-bfae7bac9c2a",
        "colab": {
          "base_uri": "https://localhost:8080/"
        }
      },
      "outputs": [
        {
          "output_type": "stream",
          "name": "stdout",
          "text": [
            "execute mode =  Dummy\n",
            "{\"category\":\"SPOT\",\"symbol\":\"BTCUSDT\",\"create_time\":1711533600000000,\"status\":\"New\",\"order_id\":\"BreakOutAgent-Us6DmB0001\",\"client_order_id\":\"BreakOutAgent-Us6DmB0001\",\"order_side\":\"Sell\",\"order_type\":\"Limit\",\"order_price\":\"70067.6\",\"order_size\":\"0.01\",\"remain_size\":\"0.01\",\"transaction_id\":\"\",\"update_time\":1711533600001000,\"execute_price\":\"0.0\",\"execute_size\":\"0.0\",\"quote_vol\":\"0.0\",\"commission\":\"0.0\",\"commission_asset\":\"USDT\",\"is_maker\":true,\"message\":\"\",\"commission_home\":\"0.0\",\"commission_foreign\":\"0.0\",\"home_change\":\"0.0\",\"foreign_change\":\"0.0\",\"free_home_change\":\"0.0\",\"free_foreign_change\":\"-0.01\",\"lock_home_change\":\"0.0\",\"lock_foreign_change\":\"0.01\",\"open_position\":\"0.0\",\"close_position\":\"0.0\",\"position\":\"0.0\",\"profit\":\"0.0\",\"fee\":\"0\",\"total_profit\":\"0\",\"log_id\":1}\n",
            "{\"category\":\"SPOT\",\"symbol\":\"BTCUSDT\",\"create_time\":1711533600000000,\"status\":\"Filled\",\"order_id\":\"BreakOutAgent-Us6DmB0001\",\"client_order_id\":\"BreakOutAgent-Us6DmB0001\",\"order_side\":\"Sell\",\"order_type\":\"Limit\",\"order_price\":\"70067.6\",\"order_size\":\"0.01\",\"remain_size\":\"0\",\"transaction_id\":\"BreakOutAgent-0001\",\"update_time\":1711533607187000,\"execute_price\":\"70067.6\",\"execute_size\":\"0.01\",\"quote_vol\":\"700.676\",\"commission\":\"0.0\",\"commission_asset\":\"USDT\",\"is_maker\":true,\"message\":\"\",\"commission_home\":\"0.0\",\"commission_foreign\":\"0.0\",\"home_change\":\"700.676\",\"foreign_change\":\"-0.01\",\"free_home_change\":\"700.676\",\"free_foreign_change\":\"-0.01\",\"lock_home_change\":\"0.0\",\"lock_foreign_change\":\"-0.01\",\"open_position\":\"-0.01\",\"close_position\":\"0.0\",\"position\":\"-0.01\",\"profit\":\"0\",\"fee\":\"0.0700676\",\"total_profit\":\"-0.0700676\",\"log_id\":2}\n",
            "{\"coins\":[{\"symbol\":\"USDT\",\"volume\":\"700.676\",\"free\":\"700.676\",\"locked\":\"0.0\"},{\"symbol\":\"BTC\",\"volume\":\"-0.01\",\"free\":\"-0.02\",\"locked\":\"0.00\"}]}\n",
            "{\"category\":\"SPOT\",\"symbol\":\"BTCUSDT\",\"create_time\":1711555200000000,\"status\":\"New\",\"order_id\":\"BreakOutAgent-Us6DmB0002\",\"client_order_id\":\"BreakOutAgent-Us6DmB0002\",\"order_side\":\"Buy\",\"order_type\":\"Limit\",\"order_price\":\"68864.0\",\"order_size\":\"0.02\",\"remain_size\":\"0.02\",\"transaction_id\":\"\",\"update_time\":1711555200000000,\"execute_price\":\"0.0\",\"execute_size\":\"0.0\",\"quote_vol\":\"0.0\",\"commission\":\"0.0\",\"commission_asset\":\"USDT\",\"is_maker\":true,\"message\":\"\",\"commission_home\":\"0.0\",\"commission_foreign\":\"0.0\",\"home_change\":\"0.0\",\"foreign_change\":\"0.0\",\"free_home_change\":\"-1377.280\",\"free_foreign_change\":\"0.0\",\"lock_home_change\":\"1377.280\",\"lock_foreign_change\":\"0.0\",\"open_position\":\"0.0\",\"close_position\":\"0.0\",\"position\":\"-0.01\",\"profit\":\"0.0\",\"fee\":\"0\",\"total_profit\":\"0\",\"log_id\":3}\n",
            "{\"category\":\"SPOT\",\"symbol\":\"BTCUSDT\",\"create_time\":1711555200000000,\"status\":\"PartiallyFilled\",\"order_id\":\"BreakOutAgent-Us6DmB0002\",\"client_order_id\":\"BreakOutAgent-Us6DmB0002\",\"order_side\":\"Buy\",\"order_type\":\"Limit\",\"order_price\":\"68864.0\",\"order_size\":\"0.02\",\"remain_size\":\"0.01957\",\"transaction_id\":\"BreakOutAgent-0002\",\"update_time\":1711555204007000,\"execute_price\":\"68864.0\",\"execute_size\":\"0.00043\",\"quote_vol\":\"29.611520\",\"commission\":\"0.0\",\"commission_asset\":\"USDT\",\"is_maker\":true,\"message\":\"\",\"commission_home\":\"0.0\",\"commission_foreign\":\"0.0\",\"home_change\":\"-29.611520\",\"foreign_change\":\"0.00043\",\"free_home_change\":\"0.0\",\"free_foreign_change\":\"0.00043\",\"lock_home_change\":\"-29.61152000\",\"lock_foreign_change\":\"0.0\",\"open_position\":\"0.0\",\"close_position\":\"-0.00043\",\"position\":\"-0.00957\",\"profit\":\"0.517548\",\"fee\":\"0.0029611520\",\"total_profit\":\"0.5145868480\",\"log_id\":4}\n",
            "{\"coins\":[{\"symbol\":\"USDT\",\"volume\":\"671.064480\",\"free\":\"-676.604\",\"locked\":\"1347.66848000\"},{\"symbol\":\"BTC\",\"volume\":\"-0.00957\",\"free\":\"-0.01957\",\"locked\":\"0.0\"}]}\n",
            "{\"category\":\"SPOT\",\"symbol\":\"BTCUSDT\",\"create_time\":1711555200000000,\"status\":\"PartiallyFilled\",\"order_id\":\"BreakOutAgent-Us6DmB0002\",\"client_order_id\":\"BreakOutAgent-Us6DmB0002\",\"order_side\":\"Buy\",\"order_type\":\"Limit\",\"order_price\":\"68864.0\",\"order_size\":\"0.02\",\"remain_size\":\"0.00666\",\"transaction_id\":\"BreakOutAgent-0003\",\"update_time\":1711555204034000,\"execute_price\":\"68864.0\",\"execute_size\":\"0.01291\",\"quote_vol\":\"889.034240\",\"commission\":\"0.0\",\"commission_asset\":\"USDT\",\"is_maker\":true,\"message\":\"\",\"commission_home\":\"0.0\",\"commission_foreign\":\"0.0\",\"home_change\":\"-889.034240\",\"foreign_change\":\"0.01291\",\"free_home_change\":\"0.0\",\"free_foreign_change\":\"0.01291\",\"lock_home_change\":\"-889.03424000\",\"lock_foreign_change\":\"0.0\",\"open_position\":\"0.00334\",\"close_position\":\"-0.00957\",\"position\":\"0.00334\",\"profit\":\"11.518452\",\"fee\":\"0.0889034240\",\"total_profit\":\"11.4295485760\",\"log_id\":5}\n",
            "{\"coins\":[{\"symbol\":\"USDT\",\"volume\":\"-217.969760\",\"free\":\"-676.604\",\"locked\":\"458.63424000\"},{\"symbol\":\"BTC\",\"volume\":\"0.00334\",\"free\":\"-0.00666\",\"locked\":\"0.0\"}]}\n",
            "{\"category\":\"SPOT\",\"symbol\":\"BTCUSDT\",\"create_time\":1711555200000000,\"status\":\"Filled\",\"order_id\":\"BreakOutAgent-Us6DmB0002\",\"client_order_id\":\"BreakOutAgent-Us6DmB0002\",\"order_side\":\"Buy\",\"order_type\":\"Limit\",\"order_price\":\"68864.0\",\"order_size\":\"0.02\",\"remain_size\":\"0\",\"transaction_id\":\"BreakOutAgent-0004\",\"update_time\":1711555204034000,\"execute_price\":\"68864.0\",\"execute_size\":\"0.00666\",\"quote_vol\":\"458.634240\",\"commission\":\"0.0\",\"commission_asset\":\"USDT\",\"is_maker\":true,\"message\":\"\",\"commission_home\":\"0.0\",\"commission_foreign\":\"0.0\",\"home_change\":\"-458.634240\",\"foreign_change\":\"0.00666\",\"free_home_change\":\"0.0\",\"free_foreign_change\":\"0.00666\",\"lock_home_change\":\"-458.634240\",\"lock_foreign_change\":\"0.0\",\"open_position\":\"0.00666\",\"close_position\":\"0.0\",\"position\":\"0.01000\",\"profit\":\"0.0\",\"fee\":\"0.0458634240\",\"total_profit\":\"-0.0458634240\",\"log_id\":6}\n",
            "{\"coins\":[{\"symbol\":\"USDT\",\"volume\":\"-676.604000\",\"free\":\"-676.604\",\"locked\":\"0.00000000\"},{\"symbol\":\"BTC\",\"volume\":\"0.01000\",\"free\":\"0.00000\",\"locked\":\"0.0\"}]}\n",
            "{\"category\":\"SPOT\",\"symbol\":\"BTCUSDT\",\"create_time\":1711562400000000,\"status\":\"New\",\"order_id\":\"BreakOutAgent-Us6DmB0003\",\"client_order_id\":\"BreakOutAgent-Us6DmB0003\",\"order_side\":\"Sell\",\"order_type\":\"Limit\",\"order_price\":\"68690.01\",\"order_size\":\"0.02\",\"remain_size\":\"0.02\",\"transaction_id\":\"\",\"update_time\":1711562400000000,\"execute_price\":\"0.0\",\"execute_size\":\"0.0\",\"quote_vol\":\"0.0\",\"commission\":\"0.0\",\"commission_asset\":\"USDT\",\"is_maker\":true,\"message\":\"\",\"commission_home\":\"0.0\",\"commission_foreign\":\"0.0\",\"home_change\":\"0.0\",\"foreign_change\":\"0.0\",\"free_home_change\":\"0.0\",\"free_foreign_change\":\"-0.02\",\"lock_home_change\":\"0.0\",\"lock_foreign_change\":\"0.02\",\"open_position\":\"0.0\",\"close_position\":\"0.0\",\"position\":\"0.01000\",\"profit\":\"0.0\",\"fee\":\"0\",\"total_profit\":\"0\",\"log_id\":7}\n",
            "{\"category\":\"SPOT\",\"symbol\":\"BTCUSDT\",\"create_time\":1711562400000000,\"status\":\"PartiallyFilled\",\"order_id\":\"BreakOutAgent-Us6DmB0003\",\"client_order_id\":\"BreakOutAgent-Us6DmB0003\",\"order_side\":\"Sell\",\"order_type\":\"Limit\",\"order_price\":\"68690.01\",\"order_size\":\"0.02\",\"remain_size\":\"0.0199\",\"transaction_id\":\"BreakOutAgent-0005\",\"update_time\":1711562404051000,\"execute_price\":\"68690.01\",\"execute_size\":\"0.0001\",\"quote_vol\":\"6.869001\",\"commission\":\"0.0\",\"commission_asset\":\"USDT\",\"is_maker\":true,\"message\":\"\",\"commission_home\":\"0.0\",\"commission_foreign\":\"0.0\",\"home_change\":\"6.869001\",\"foreign_change\":\"-0.0001\",\"free_home_change\":\"6.869001\",\"free_foreign_change\":\"-0.0001\",\"lock_home_change\":\"0.0\",\"lock_foreign_change\":\"-0.000100\",\"open_position\":\"0.0\",\"close_position\":\"0.0001\",\"position\":\"0.00990\",\"profit\":\"-0.017399\",\"fee\":\"0.0006869001\",\"total_profit\":\"-0.0180859001\",\"log_id\":8}\n",
            "{\"coins\":[{\"symbol\":\"USDT\",\"volume\":\"-669.734999\",\"free\":\"-669.734999\",\"locked\":\"0.0\"},{\"symbol\":\"BTC\",\"volume\":\"0.00990\",\"free\":\"-0.0201\",\"locked\":\"0.019900\"}]}\n",
            "{\"category\":\"SPOT\",\"symbol\":\"BTCUSDT\",\"create_time\":1711562400000000,\"status\":\"Filled\",\"order_id\":\"BreakOutAgent-Us6DmB0003\",\"client_order_id\":\"BreakOutAgent-Us6DmB0003\",\"order_side\":\"Sell\",\"order_type\":\"Limit\",\"order_price\":\"68690.01\",\"order_size\":\"0.02\",\"remain_size\":\"0\",\"transaction_id\":\"BreakOutAgent-0006\",\"update_time\":1711562405396000,\"execute_price\":\"68690.01\",\"execute_size\":\"0.0199\",\"quote_vol\":\"1366.931199\",\"commission\":\"0.0\",\"commission_asset\":\"USDT\",\"is_maker\":true,\"message\":\"\",\"commission_home\":\"0.0\",\"commission_foreign\":\"0.0\",\"home_change\":\"1366.931199\",\"foreign_change\":\"-0.0199\",\"free_home_change\":\"1366.931199\",\"free_foreign_change\":\"-0.0199\",\"lock_home_change\":\"0.0\",\"lock_foreign_change\":\"-0.019900\",\"open_position\":\"-0.01000\",\"close_position\":\"0.00990\",\"position\":\"-0.01000\",\"profit\":\"-1.7225010\",\"fee\":\"0.1366931199\",\"total_profit\":\"-1.8591941199\",\"log_id\":9}\n",
            "{\"coins\":[{\"symbol\":\"USDT\",\"volume\":\"697.196200\",\"free\":\"697.196200\",\"locked\":\"0.0\"},{\"symbol\":\"BTC\",\"volume\":\"-0.01000\",\"free\":\"-0.0400\",\"locked\":\"0.000000\"}]}\n",
            "{\"category\":\"SPOT\",\"symbol\":\"BTCUSDT\",\"create_time\":1711785600000000,\"status\":\"New\",\"order_id\":\"BreakOutAgent-Us6DmB0004\",\"client_order_id\":\"BreakOutAgent-Us6DmB0004\",\"order_side\":\"Buy\",\"order_type\":\"Limit\",\"order_price\":\"69842.18\",\"order_size\":\"0.02\",\"remain_size\":\"0.02\",\"transaction_id\":\"\",\"update_time\":1711785600000000,\"execute_price\":\"0.0\",\"execute_size\":\"0.0\",\"quote_vol\":\"0.0\",\"commission\":\"0.0\",\"commission_asset\":\"USDT\",\"is_maker\":true,\"message\":\"\",\"commission_home\":\"0.0\",\"commission_foreign\":\"0.0\",\"home_change\":\"0.0\",\"foreign_change\":\"0.0\",\"free_home_change\":\"-1396.8436\",\"free_foreign_change\":\"0.0\",\"lock_home_change\":\"1396.8436\",\"lock_foreign_change\":\"0.0\",\"open_position\":\"0.0\",\"close_position\":\"0.0\",\"position\":\"-0.01000\",\"profit\":\"0.0\",\"fee\":\"0\",\"total_profit\":\"0\",\"log_id\":10}\n",
            "{\"category\":\"SPOT\",\"symbol\":\"BTCUSDT\",\"create_time\":1711785600000000,\"status\":\"PartiallyFilled\",\"order_id\":\"BreakOutAgent-Us6DmB0004\",\"client_order_id\":\"BreakOutAgent-Us6DmB0004\",\"order_side\":\"Buy\",\"order_type\":\"Limit\",\"order_price\":\"69842.18\",\"order_size\":\"0.02\",\"remain_size\":\"0.01714\",\"transaction_id\":\"BreakOutAgent-0007\",\"update_time\":1711785609205000,\"execute_price\":\"69842.18\",\"execute_size\":\"0.00286\",\"quote_vol\":\"199.7486348\",\"commission\":\"0.0\",\"commission_asset\":\"USDT\",\"is_maker\":true,\"message\":\"\",\"commission_home\":\"0.0\",\"commission_foreign\":\"0.0\",\"home_change\":\"-199.7486348\",\"foreign_change\":\"0.00286\",\"free_home_change\":\"0.0\",\"free_foreign_change\":\"0.00286\",\"lock_home_change\":\"-199.7486348\",\"lock_foreign_change\":\"0.0\",\"open_position\":\"0.0\",\"close_position\":\"-0.00286\",\"position\":\"-0.00714\",\"profit\":\"-3.2952062\",\"fee\":\"0.01997486348\",\"total_profit\":\"-3.31518106348\",\"log_id\":11}\n",
            "{\"coins\":[{\"symbol\":\"USDT\",\"volume\":\"497.4475652\",\"free\":\"-699.647400\",\"locked\":\"1197.0949652\"},{\"symbol\":\"BTC\",\"volume\":\"-0.00714\",\"free\":\"-0.03714\",\"locked\":\"0.0\"}]}\n",
            "{\"category\":\"SPOT\",\"symbol\":\"BTCUSDT\",\"create_time\":1711785600000000,\"status\":\"PartiallyFilled\",\"order_id\":\"BreakOutAgent-Us6DmB0004\",\"client_order_id\":\"BreakOutAgent-Us6DmB0004\",\"order_side\":\"Buy\",\"order_type\":\"Limit\",\"order_price\":\"69842.18\",\"order_size\":\"0.02\",\"remain_size\":\"0.01709\",\"transaction_id\":\"BreakOutAgent-0008\",\"update_time\":1711785609644000,\"execute_price\":\"69842.18\",\"execute_size\":\"0.00005\",\"quote_vol\":\"3.4921090\",\"commission\":\"0.0\",\"commission_asset\":\"USDT\",\"is_maker\":true,\"message\":\"\",\"commission_home\":\"0.0\",\"commission_foreign\":\"0.0\",\"home_change\":\"-3.4921090\",\"foreign_change\":\"0.00005\",\"free_home_change\":\"0.0\",\"free_foreign_change\":\"0.00005\",\"lock_home_change\":\"-3.492109000\",\"lock_foreign_change\":\"0.0\",\"open_position\":\"0.0\",\"close_position\":\"-0.00005\",\"position\":\"-0.00709\",\"profit\":\"-0.0576085\",\"fee\":\"0.00034921090\",\"total_profit\":\"-0.05795771090\",\"log_id\":12}\n",
            "{\"coins\":[{\"symbol\":\"USDT\",\"volume\":\"493.9554562\",\"free\":\"-699.647400\",\"locked\":\"1193.602856200\"},{\"symbol\":\"BTC\",\"volume\":\"-0.00709\",\"free\":\"-0.03709\",\"locked\":\"0.0\"}]}\n",
            "{\"category\":\"SPOT\",\"symbol\":\"BTCUSDT\",\"create_time\":1711785600000000,\"status\":\"PartiallyFilled\",\"order_id\":\"BreakOutAgent-Us6DmB0004\",\"client_order_id\":\"BreakOutAgent-Us6DmB0004\",\"order_side\":\"Buy\",\"order_type\":\"Limit\",\"order_price\":\"69842.18\",\"order_size\":\"0.02\",\"remain_size\":\"0.01693\",\"transaction_id\":\"BreakOutAgent-0009\",\"update_time\":1711785609644000,\"execute_price\":\"69842.18\",\"execute_size\":\"0.00016\",\"quote_vol\":\"11.1747488\",\"commission\":\"0.0\",\"commission_asset\":\"USDT\",\"is_maker\":true,\"message\":\"\",\"commission_home\":\"0.0\",\"commission_foreign\":\"0.0\",\"home_change\":\"-11.1747488\",\"foreign_change\":\"0.00016\",\"free_home_change\":\"0.0\",\"free_foreign_change\":\"0.00016\",\"lock_home_change\":\"-11.1747488\",\"lock_foreign_change\":\"0.0\",\"open_position\":\"0.0\",\"close_position\":\"-0.00016\",\"position\":\"-0.00693\",\"profit\":\"-0.1843472\",\"fee\":\"0.00111747488\",\"total_profit\":\"-0.18546467488\",\"log_id\":13}\n",
            "{\"coins\":[{\"symbol\":\"USDT\",\"volume\":\"482.7807074\",\"free\":\"-699.647400\",\"locked\":\"1182.428107400\"},{\"symbol\":\"BTC\",\"volume\":\"-0.00693\",\"free\":\"-0.03693\",\"locked\":\"0.0\"}]}\n",
            "{\"category\":\"SPOT\",\"symbol\":\"BTCUSDT\",\"create_time\":1711785600000000,\"status\":\"PartiallyFilled\",\"order_id\":\"BreakOutAgent-Us6DmB0004\",\"client_order_id\":\"BreakOutAgent-Us6DmB0004\",\"order_side\":\"Buy\",\"order_type\":\"Limit\",\"order_price\":\"69842.18\",\"order_size\":\"0.02\",\"remain_size\":\"0.01660\",\"transaction_id\":\"BreakOutAgent-0010\",\"update_time\":1711785609990000,\"execute_price\":\"69842.18\",\"execute_size\":\"0.00033\",\"quote_vol\":\"23.0479194\",\"commission\":\"0.0\",\"commission_asset\":\"USDT\",\"is_maker\":true,\"message\":\"\",\"commission_home\":\"0.0\",\"commission_foreign\":\"0.0\",\"home_change\":\"-23.0479194\",\"foreign_change\":\"0.00033\",\"free_home_change\":\"0.0\",\"free_foreign_change\":\"0.00033\",\"lock_home_change\":\"-23.047919400\",\"lock_foreign_change\":\"0.0\",\"open_position\":\"0.0\",\"close_position\":\"-0.00033\",\"position\":\"-0.00660\",\"profit\":\"-0.3802161\",\"fee\":\"0.00230479194\",\"total_profit\":\"-0.38252089194\",\"log_id\":14}\n",
            "{\"coins\":[{\"symbol\":\"USDT\",\"volume\":\"459.7327880\",\"free\":\"-699.647400\",\"locked\":\"1159.380188000\"},{\"symbol\":\"BTC\",\"volume\":\"-0.00660\",\"free\":\"-0.03660\",\"locked\":\"0.0\"}]}\n",
            "{\"category\":\"SPOT\",\"symbol\":\"BTCUSDT\",\"create_time\":1711785600000000,\"status\":\"PartiallyFilled\",\"order_id\":\"BreakOutAgent-Us6DmB0004\",\"client_order_id\":\"BreakOutAgent-Us6DmB0004\",\"order_side\":\"Buy\",\"order_type\":\"Limit\",\"order_price\":\"69842.18\",\"order_size\":\"0.02\",\"remain_size\":\"0.01623\",\"transaction_id\":\"BreakOutAgent-0011\",\"update_time\":1711785610045000,\"execute_price\":\"69842.18\",\"execute_size\":\"0.00037\",\"quote_vol\":\"25.8416066\",\"commission\":\"0.0\",\"commission_asset\":\"USDT\",\"is_maker\":true,\"message\":\"\",\"commission_home\":\"0.0\",\"commission_foreign\":\"0.0\",\"home_change\":\"-25.8416066\",\"foreign_change\":\"0.00037\",\"free_home_change\":\"0.0\",\"free_foreign_change\":\"0.00037\",\"lock_home_change\":\"-25.841606600\",\"lock_foreign_change\":\"0.0\",\"open_position\":\"0.0\",\"close_position\":\"-0.00037\",\"position\":\"-0.00623\",\"profit\":\"-0.4263029\",\"fee\":\"0.00258416066\",\"total_profit\":\"-0.42888706066\",\"log_id\":15}\n",
            "{\"coins\":[{\"symbol\":\"USDT\",\"volume\":\"433.8911814\",\"free\":\"-699.647400\",\"locked\":\"1133.538581400\"},{\"symbol\":\"BTC\",\"volume\":\"-0.00623\",\"free\":\"-0.03623\",\"locked\":\"0.0\"}]}\n",
            "{\"category\":\"SPOT\",\"symbol\":\"BTCUSDT\",\"create_time\":1711785600000000,\"status\":\"PartiallyFilled\",\"order_id\":\"BreakOutAgent-Us6DmB0004\",\"client_order_id\":\"BreakOutAgent-Us6DmB0004\",\"order_side\":\"Buy\",\"order_type\":\"Limit\",\"order_price\":\"69842.18\",\"order_size\":\"0.02\",\"remain_size\":\"0.01467\",\"transaction_id\":\"BreakOutAgent-0012\",\"update_time\":1711785610310000,\"execute_price\":\"69842.18\",\"execute_size\":\"0.00156\",\"quote_vol\":\"108.9538008\",\"commission\":\"0.0\",\"commission_asset\":\"USDT\",\"is_maker\":true,\"message\":\"\",\"commission_home\":\"0.0\",\"commission_foreign\":\"0.0\",\"home_change\":\"-108.9538008\",\"foreign_change\":\"0.00156\",\"free_home_change\":\"0.0\",\"free_foreign_change\":\"0.00156\",\"lock_home_change\":\"-108.9538008\",\"lock_foreign_change\":\"0.0\",\"open_position\":\"0.0\",\"close_position\":\"-0.00156\",\"position\":\"-0.00467\",\"profit\":\"-1.7973852\",\"fee\":\"0.01089538008\",\"total_profit\":\"-1.80828058008\",\"log_id\":16}\n",
            "{\"coins\":[{\"symbol\":\"USDT\",\"volume\":\"324.9373806\",\"free\":\"-699.647400\",\"locked\":\"1024.584780600\"},{\"symbol\":\"BTC\",\"volume\":\"-0.00467\",\"free\":\"-0.03467\",\"locked\":\"0.0\"}]}\n",
            "{\"category\":\"SPOT\",\"symbol\":\"BTCUSDT\",\"create_time\":1711785600000000,\"status\":\"PartiallyFilled\",\"order_id\":\"BreakOutAgent-Us6DmB0004\",\"client_order_id\":\"BreakOutAgent-Us6DmB0004\",\"order_side\":\"Buy\",\"order_type\":\"Limit\",\"order_price\":\"69842.18\",\"order_size\":\"0.02\",\"remain_size\":\"0.01004\",\"transaction_id\":\"BreakOutAgent-0013\",\"update_time\":1711785610336000,\"execute_price\":\"69842.18\",\"execute_size\":\"0.00463\",\"quote_vol\":\"323.3692934\",\"commission\":\"0.0\",\"commission_asset\":\"USDT\",\"is_maker\":true,\"message\":\"\",\"commission_home\":\"0.0\",\"commission_foreign\":\"0.0\",\"home_change\":\"-323.3692934\",\"foreign_change\":\"0.00463\",\"free_home_change\":\"0.0\",\"free_foreign_change\":\"0.00463\",\"lock_home_change\":\"-323.369293400\",\"lock_foreign_change\":\"0.0\",\"open_position\":\"0.0\",\"close_position\":\"-0.00463\",\"position\":\"-0.00004\",\"profit\":\"-5.3345471\",\"fee\":\"0.03233692934\",\"total_profit\":\"-5.36688402934\",\"log_id\":17}\n",
            "{\"coins\":[{\"symbol\":\"USDT\",\"volume\":\"1.5680872\",\"free\":\"-699.647400\",\"locked\":\"701.215487200\"},{\"symbol\":\"BTC\",\"volume\":\"-0.00004\",\"free\":\"-0.03004\",\"locked\":\"0.0\"}]}\n",
            "{\"category\":\"SPOT\",\"symbol\":\"BTCUSDT\",\"create_time\":1711785600000000,\"status\":\"PartiallyFilled\",\"order_id\":\"BreakOutAgent-Us6DmB0004\",\"client_order_id\":\"BreakOutAgent-Us6DmB0004\",\"order_side\":\"Buy\",\"order_type\":\"Limit\",\"order_price\":\"69842.18\",\"order_size\":\"0.02\",\"remain_size\":\"0.00968\",\"transaction_id\":\"BreakOutAgent-0014\",\"update_time\":1711785610601000,\"execute_price\":\"69842.18\",\"execute_size\":\"0.00036\",\"quote_vol\":\"25.1431848\",\"commission\":\"0.0\",\"commission_asset\":\"USDT\",\"is_maker\":true,\"message\":\"\",\"commission_home\":\"0.0\",\"commission_foreign\":\"0.0\",\"home_change\":\"-25.1431848\",\"foreign_change\":\"0.00036\",\"free_home_change\":\"0.0\",\"free_foreign_change\":\"0.00036\",\"lock_home_change\":\"-25.1431848\",\"lock_foreign_change\":\"0.0\",\"open_position\":\"0.00032\",\"close_position\":\"-0.00004\",\"position\":\"0.00032\",\"profit\":\"-0.0460868\",\"fee\":\"0.00251431848\",\"total_profit\":\"-0.04860111848\",\"log_id\":18}\n",
            "{\"coins\":[{\"symbol\":\"USDT\",\"volume\":\"-23.5750976\",\"free\":\"-699.647400\",\"locked\":\"676.072302400\"},{\"symbol\":\"BTC\",\"volume\":\"0.00032\",\"free\":\"-0.02968\",\"locked\":\"0.0\"}]}\n",
            "{\"category\":\"SPOT\",\"symbol\":\"BTCUSDT\",\"create_time\":1711785600000000,\"status\":\"PartiallyFilled\",\"order_id\":\"BreakOutAgent-Us6DmB0004\",\"client_order_id\":\"BreakOutAgent-Us6DmB0004\",\"order_side\":\"Buy\",\"order_type\":\"Limit\",\"order_price\":\"69842.18\",\"order_size\":\"0.02\",\"remain_size\":\"0.00799\",\"transaction_id\":\"BreakOutAgent-0015\",\"update_time\":1711785610854000,\"execute_price\":\"69842.18\",\"execute_size\":\"0.00169\",\"quote_vol\":\"118.0332842\",\"commission\":\"0.0\",\"commission_asset\":\"USDT\",\"is_maker\":true,\"message\":\"\",\"commission_home\":\"0.0\",\"commission_foreign\":\"0.0\",\"home_change\":\"-118.0332842\",\"foreign_change\":\"0.00169\",\"free_home_change\":\"0.0\",\"free_foreign_change\":\"0.00169\",\"lock_home_change\":\"-118.033284200\",\"lock_foreign_change\":\"0.0\",\"open_position\":\"0.00169\",\"close_position\":\"0.0\",\"position\":\"0.00201\",\"profit\":\"0.0\",\"fee\":\"0.01180332842\",\"total_profit\":\"-0.01180332842\",\"log_id\":19}\n",
            "{\"coins\":[{\"symbol\":\"USDT\",\"volume\":\"-141.6083818\",\"free\":\"-699.647400\",\"locked\":\"558.039018200\"},{\"symbol\":\"BTC\",\"volume\":\"0.00201\",\"free\":\"-0.02799\",\"locked\":\"0.0\"}]}\n",
            "{\"category\":\"SPOT\",\"symbol\":\"BTCUSDT\",\"create_time\":1711785600000000,\"status\":\"PartiallyFilled\",\"order_id\":\"BreakOutAgent-Us6DmB0004\",\"client_order_id\":\"BreakOutAgent-Us6DmB0004\",\"order_side\":\"Buy\",\"order_type\":\"Limit\",\"order_price\":\"69842.18\",\"order_size\":\"0.02\",\"remain_size\":\"0.00574\",\"transaction_id\":\"BreakOutAgent-0016\",\"update_time\":1711785611338000,\"execute_price\":\"69842.18\",\"execute_size\":\"0.00225\",\"quote_vol\":\"157.1449050\",\"commission\":\"0.0\",\"commission_asset\":\"USDT\",\"is_maker\":true,\"message\":\"\",\"commission_home\":\"0.0\",\"commission_foreign\":\"0.0\",\"home_change\":\"-157.1449050\",\"foreign_change\":\"0.00225\",\"free_home_change\":\"0.0\",\"free_foreign_change\":\"0.00225\",\"lock_home_change\":\"-157.144905000\",\"lock_foreign_change\":\"0.0\",\"open_position\":\"0.00225\",\"close_position\":\"0.0\",\"position\":\"0.00426\",\"profit\":\"0.0\",\"fee\":\"0.01571449050\",\"total_profit\":\"-0.01571449050\",\"log_id\":20}\n",
            "{\"coins\":[{\"symbol\":\"USDT\",\"volume\":\"-298.7532868\",\"free\":\"-699.647400\",\"locked\":\"400.894113200\"},{\"symbol\":\"BTC\",\"volume\":\"0.00426\",\"free\":\"-0.02574\",\"locked\":\"0.0\"}]}\n",
            "{\"category\":\"SPOT\",\"symbol\":\"BTCUSDT\",\"create_time\":1711785600000000,\"status\":\"Filled\",\"order_id\":\"BreakOutAgent-Us6DmB0004\",\"client_order_id\":\"BreakOutAgent-Us6DmB0004\",\"order_side\":\"Buy\",\"order_type\":\"Limit\",\"order_price\":\"69842.18\",\"order_size\":\"0.02\",\"remain_size\":\"0\",\"transaction_id\":\"BreakOutAgent-0017\",\"update_time\":1711785611338000,\"execute_price\":\"69842.18\",\"execute_size\":\"0.00574\",\"quote_vol\":\"400.8941132\",\"commission\":\"0.0\",\"commission_asset\":\"USDT\",\"is_maker\":true,\"message\":\"\",\"commission_home\":\"0.0\",\"commission_foreign\":\"0.0\",\"home_change\":\"-400.8941132\",\"foreign_change\":\"0.00574\",\"free_home_change\":\"0.0\",\"free_foreign_change\":\"0.00574\",\"lock_home_change\":\"-400.8941132\",\"lock_foreign_change\":\"0.0\",\"open_position\":\"0.00574\",\"close_position\":\"0.0\",\"position\":\"0.01000\",\"profit\":\"0.0\",\"fee\":\"0.04008941132\",\"total_profit\":\"-0.04008941132\",\"log_id\":21}\n",
            "{\"coins\":[{\"symbol\":\"USDT\",\"volume\":\"-699.6474000\",\"free\":\"-699.647400\",\"locked\":\"0.000000000\"},{\"symbol\":\"BTC\",\"volume\":\"0.01000\",\"free\":\"-0.02000\",\"locked\":\"0.0\"}]}\n",
            "{\"category\":\"SPOT\",\"symbol\":\"BTCUSDT\",\"create_time\":1711836000000000,\"status\":\"New\",\"order_id\":\"BreakOutAgent-Us6DmB0005\",\"client_order_id\":\"BreakOutAgent-Us6DmB0005\",\"order_side\":\"Sell\",\"order_type\":\"Limit\",\"order_price\":\"69732.58\",\"order_size\":\"0.02\",\"remain_size\":\"0.02\",\"transaction_id\":\"\",\"update_time\":1711836000000000,\"execute_price\":\"0.0\",\"execute_size\":\"0.0\",\"quote_vol\":\"0.0\",\"commission\":\"0.0\",\"commission_asset\":\"USDT\",\"is_maker\":true,\"message\":\"\",\"commission_home\":\"0.0\",\"commission_foreign\":\"0.0\",\"home_change\":\"0.0\",\"foreign_change\":\"0.0\",\"free_home_change\":\"0.0\",\"free_foreign_change\":\"-0.02\",\"lock_home_change\":\"0.0\",\"lock_foreign_change\":\"0.02\",\"open_position\":\"0.0\",\"close_position\":\"0.0\",\"position\":\"0.01000\",\"profit\":\"0.0\",\"fee\":\"0\",\"total_profit\":\"0\",\"log_id\":22}\n",
            "{\"category\":\"SPOT\",\"symbol\":\"BTCUSDT\",\"create_time\":1711836000000000,\"status\":\"PartiallyFilled\",\"order_id\":\"BreakOutAgent-Us6DmB0005\",\"client_order_id\":\"BreakOutAgent-Us6DmB0005\",\"order_side\":\"Sell\",\"order_type\":\"Limit\",\"order_price\":\"69732.58\",\"order_size\":\"0.02\",\"remain_size\":\"0.01957\",\"transaction_id\":\"BreakOutAgent-0018\",\"update_time\":1711836299569000,\"execute_price\":\"69732.58\",\"execute_size\":\"0.00043\",\"quote_vol\":\"29.9850094\",\"commission\":\"0.0\",\"commission_asset\":\"USDT\",\"is_maker\":true,\"message\":\"\",\"commission_home\":\"0.0\",\"commission_foreign\":\"0.0\",\"home_change\":\"29.9850094\",\"foreign_change\":\"-0.00043\",\"free_home_change\":\"29.9850094\",\"free_foreign_change\":\"-0.00043\",\"lock_home_change\":\"0.0\",\"lock_foreign_change\":\"-0.0004300\",\"open_position\":\"0.0\",\"close_position\":\"0.00043\",\"position\":\"0.00957\",\"profit\":\"-0.0471280\",\"fee\":\"0.00299850094\",\"total_profit\":\"-0.05012650094\",\"log_id\":23}\n",
            "{\"coins\":[{\"symbol\":\"USDT\",\"volume\":\"-669.6623906\",\"free\":\"-669.6623906\",\"locked\":\"0.0\"},{\"symbol\":\"BTC\",\"volume\":\"0.00957\",\"free\":\"-0.04043\",\"locked\":\"0.0195700\"}]}\n",
            "{\"category\":\"SPOT\",\"symbol\":\"BTCUSDT\",\"create_time\":1711836000000000,\"status\":\"PartiallyFilled\",\"order_id\":\"BreakOutAgent-Us6DmB0005\",\"client_order_id\":\"BreakOutAgent-Us6DmB0005\",\"order_side\":\"Sell\",\"order_type\":\"Limit\",\"order_price\":\"69732.58\",\"order_size\":\"0.02\",\"remain_size\":\"0.01894\",\"transaction_id\":\"BreakOutAgent-0019\",\"update_time\":1711836299977000,\"execute_price\":\"69732.58\",\"execute_size\":\"0.00063\",\"quote_vol\":\"43.9315254\",\"commission\":\"0.0\",\"commission_asset\":\"USDT\",\"is_maker\":true,\"message\":\"\",\"commission_home\":\"0.0\",\"commission_foreign\":\"0.0\",\"home_change\":\"43.9315254\",\"foreign_change\":\"-0.00063\",\"free_home_change\":\"43.9315254\",\"free_foreign_change\":\"-0.00063\",\"lock_home_change\":\"0.0\",\"lock_foreign_change\":\"-0.0006300\",\"open_position\":\"0.0\",\"close_position\":\"0.00063\",\"position\":\"0.00894\",\"profit\":\"-0.0690480\",\"fee\":\"0.00439315254\",\"total_profit\":\"-0.07344115254\",\"log_id\":24}\n",
            "{\"coins\":[{\"symbol\":\"USDT\",\"volume\":\"-625.7308652\",\"free\":\"-625.7308652\",\"locked\":\"0.0\"},{\"symbol\":\"BTC\",\"volume\":\"0.00894\",\"free\":\"-0.04106\",\"locked\":\"0.0189400\"}]}\n",
            "{\"category\":\"SPOT\",\"symbol\":\"BTCUSDT\",\"create_time\":1711836000000000,\"status\":\"PartiallyFilled\",\"order_id\":\"BreakOutAgent-Us6DmB0005\",\"client_order_id\":\"BreakOutAgent-Us6DmB0005\",\"order_side\":\"Sell\",\"order_type\":\"Limit\",\"order_price\":\"69732.58\",\"order_size\":\"0.02\",\"remain_size\":\"0.01826\",\"transaction_id\":\"BreakOutAgent-0020\",\"update_time\":1711836299982000,\"execute_price\":\"69732.58\",\"execute_size\":\"0.00068\",\"quote_vol\":\"47.4181544\",\"commission\":\"0.0\",\"commission_asset\":\"USDT\",\"is_maker\":true,\"message\":\"\",\"commission_home\":\"0.0\",\"commission_foreign\":\"0.0\",\"home_change\":\"47.4181544\",\"foreign_change\":\"-0.00068\",\"free_home_change\":\"47.4181544\",\"free_foreign_change\":\"-0.00068\",\"lock_home_change\":\"0.0\",\"lock_foreign_change\":\"-0.00068\",\"open_position\":\"0.0\",\"close_position\":\"0.00068\",\"position\":\"0.00826\",\"profit\":\"-0.0745280\",\"fee\":\"0.00474181544\",\"total_profit\":\"-0.07926981544\",\"log_id\":25}\n",
            "{\"coins\":[{\"symbol\":\"USDT\",\"volume\":\"-578.3127108\",\"free\":\"-578.3127108\",\"locked\":\"0.0\"},{\"symbol\":\"BTC\",\"volume\":\"0.00826\",\"free\":\"-0.04174\",\"locked\":\"0.0182600\"}]}\n",
            "{\"category\":\"SPOT\",\"symbol\":\"BTCUSDT\",\"create_time\":1711836000000000,\"status\":\"PartiallyFilled\",\"order_id\":\"BreakOutAgent-Us6DmB0005\",\"client_order_id\":\"BreakOutAgent-Us6DmB0005\",\"order_side\":\"Sell\",\"order_type\":\"Limit\",\"order_price\":\"69732.58\",\"order_size\":\"0.02\",\"remain_size\":\"0.01668\",\"transaction_id\":\"BreakOutAgent-0021\",\"update_time\":1711836299982000,\"execute_price\":\"69732.58\",\"execute_size\":\"0.00158\",\"quote_vol\":\"110.1774764\",\"commission\":\"0.0\",\"commission_asset\":\"USDT\",\"is_maker\":true,\"message\":\"\",\"commission_home\":\"0.0\",\"commission_foreign\":\"0.0\",\"home_change\":\"110.1774764\",\"foreign_change\":\"-0.00158\",\"free_home_change\":\"110.1774764\",\"free_foreign_change\":\"-0.00158\",\"lock_home_change\":\"0.0\",\"lock_foreign_change\":\"-0.00158\",\"open_position\":\"0.0\",\"close_position\":\"0.00158\",\"position\":\"0.00668\",\"profit\":\"-0.1731680\",\"fee\":\"0.01101774764\",\"total_profit\":\"-0.18418574764\",\"log_id\":26}\n",
            "{\"coins\":[{\"symbol\":\"USDT\",\"volume\":\"-468.1352344\",\"free\":\"-468.1352344\",\"locked\":\"0.0\"},{\"symbol\":\"BTC\",\"volume\":\"0.00668\",\"free\":\"-0.04332\",\"locked\":\"0.0166800\"}]}\n",
            "{\"category\":\"SPOT\",\"symbol\":\"BTCUSDT\",\"create_time\":1711836000000000,\"status\":\"PartiallyFilled\",\"order_id\":\"BreakOutAgent-Us6DmB0005\",\"client_order_id\":\"BreakOutAgent-Us6DmB0005\",\"order_side\":\"Sell\",\"order_type\":\"Limit\",\"order_price\":\"69732.58\",\"order_size\":\"0.02\",\"remain_size\":\"0.01640\",\"transaction_id\":\"BreakOutAgent-0022\",\"update_time\":1711836299984000,\"execute_price\":\"69732.58\",\"execute_size\":\"0.00028\",\"quote_vol\":\"19.5251224\",\"commission\":\"0.0\",\"commission_asset\":\"USDT\",\"is_maker\":true,\"message\":\"\",\"commission_home\":\"0.0\",\"commission_foreign\":\"0.0\",\"home_change\":\"19.5251224\",\"foreign_change\":\"-0.00028\",\"free_home_change\":\"19.5251224\",\"free_foreign_change\":\"-0.00028\",\"lock_home_change\":\"0.0\",\"lock_foreign_change\":\"-0.00028\",\"open_position\":\"0.0\",\"close_position\":\"0.00028\",\"position\":\"0.00640\",\"profit\":\"-0.0306880\",\"fee\":\"0.00195251224\",\"total_profit\":\"-0.03264051224\",\"log_id\":27}\n",
            "{\"coins\":[{\"symbol\":\"USDT\",\"volume\":\"-448.6101120\",\"free\":\"-448.6101120\",\"locked\":\"0.0\"},{\"symbol\":\"BTC\",\"volume\":\"0.00640\",\"free\":\"-0.04360\",\"locked\":\"0.0164000\"}]}\n",
            "{\"category\":\"SPOT\",\"symbol\":\"BTCUSDT\",\"create_time\":1711836000000000,\"status\":\"PartiallyFilled\",\"order_id\":\"BreakOutAgent-Us6DmB0005\",\"client_order_id\":\"BreakOutAgent-Us6DmB0005\",\"order_side\":\"Sell\",\"order_type\":\"Limit\",\"order_price\":\"69732.58\",\"order_size\":\"0.02\",\"remain_size\":\"0.00205\",\"transaction_id\":\"BreakOutAgent-0023\",\"update_time\":1711836299986000,\"execute_price\":\"69732.58\",\"execute_size\":\"0.01435\",\"quote_vol\":\"1000.6625230\",\"commission\":\"0.0\",\"commission_asset\":\"USDT\",\"is_maker\":true,\"message\":\"\",\"commission_home\":\"0.0\",\"commission_foreign\":\"0.0\",\"home_change\":\"1000.6625230\",\"foreign_change\":\"-0.01435\",\"free_home_change\":\"1000.6625230\",\"free_foreign_change\":\"-0.01435\",\"lock_home_change\":\"0.0\",\"lock_foreign_change\":\"-0.0143500\",\"open_position\":\"-0.00795\",\"close_position\":\"0.00640\",\"position\":\"-0.00795\",\"profit\":\"-0.7014400\",\"fee\":\"0.10006625230\",\"total_profit\":\"-0.80150625230\",\"log_id\":28}\n",
            "{\"coins\":[{\"symbol\":\"USDT\",\"volume\":\"552.0524110\",\"free\":\"552.0524110\",\"locked\":\"0.0\"},{\"symbol\":\"BTC\",\"volume\":\"-0.00795\",\"free\":\"-0.05795\",\"locked\":\"0.0020500\"}]}\n",
            "{\"category\":\"SPOT\",\"symbol\":\"BTCUSDT\",\"create_time\":1711836000000000,\"status\":\"PartiallyFilled\",\"order_id\":\"BreakOutAgent-Us6DmB0005\",\"client_order_id\":\"BreakOutAgent-Us6DmB0005\",\"order_side\":\"Sell\",\"order_type\":\"Limit\",\"order_price\":\"69732.58\",\"order_size\":\"0.02\",\"remain_size\":\"0.00077\",\"transaction_id\":\"BreakOutAgent-0024\",\"update_time\":1711836299988000,\"execute_price\":\"69732.58\",\"execute_size\":\"0.00128\",\"quote_vol\":\"89.2577024\",\"commission\":\"0.0\",\"commission_asset\":\"USDT\",\"is_maker\":true,\"message\":\"\",\"commission_home\":\"0.0\",\"commission_foreign\":\"0.0\",\"home_change\":\"89.2577024\",\"foreign_change\":\"-0.00128\",\"free_home_change\":\"89.2577024\",\"free_foreign_change\":\"-0.00128\",\"lock_home_change\":\"0.0\",\"lock_foreign_change\":\"-0.00128\",\"open_position\":\"-0.00128\",\"close_position\":\"0.0\",\"position\":\"-0.00923\",\"profit\":\"0.0\",\"fee\":\"0.00892577024\",\"total_profit\":\"-0.00892577024\",\"log_id\":29}\n",
            "{\"coins\":[{\"symbol\":\"USDT\",\"volume\":\"641.3101134\",\"free\":\"641.3101134\",\"locked\":\"0.0\"},{\"symbol\":\"BTC\",\"volume\":\"-0.00923\",\"free\":\"-0.05923\",\"locked\":\"0.0007700\"}]}\n",
            "{\"category\":\"SPOT\",\"symbol\":\"BTCUSDT\",\"create_time\":1711836000000000,\"status\":\"Filled\",\"order_id\":\"BreakOutAgent-Us6DmB0005\",\"client_order_id\":\"BreakOutAgent-Us6DmB0005\",\"order_side\":\"Sell\",\"order_type\":\"Limit\",\"order_price\":\"69732.58\",\"order_size\":\"0.02\",\"remain_size\":\"0\",\"transaction_id\":\"BreakOutAgent-0025\",\"update_time\":1711836299989000,\"execute_price\":\"69732.58\",\"execute_size\":\"0.00077\",\"quote_vol\":\"53.6940866\",\"commission\":\"0.0\",\"commission_asset\":\"USDT\",\"is_maker\":true,\"message\":\"\",\"commission_home\":\"0.0\",\"commission_foreign\":\"0.0\",\"home_change\":\"53.6940866\",\"foreign_change\":\"-0.00077\",\"free_home_change\":\"53.6940866\",\"free_foreign_change\":\"-0.00077\",\"lock_home_change\":\"0.0\",\"lock_foreign_change\":\"-0.0007700\",\"open_position\":\"-0.00077\",\"close_position\":\"0.0\",\"position\":\"-0.01000\",\"profit\":\"0.0\",\"fee\":\"0.00536940866\",\"total_profit\":\"-0.00536940866\",\"log_id\":30}\n",
            "{\"coins\":[{\"symbol\":\"USDT\",\"volume\":\"695.0042000\",\"free\":\"695.0042000\",\"locked\":\"0.0\"},{\"symbol\":\"BTC\",\"volume\":\"-0.01000\",\"free\":\"-0.06000\",\"locked\":\"0.0000000\"}]}\n",
            "{\"category\":\"SPOT\",\"symbol\":\"BTCUSDT\",\"create_time\":1711857600000000,\"status\":\"New\",\"order_id\":\"BreakOutAgent-Us6DmB0006\",\"client_order_id\":\"BreakOutAgent-Us6DmB0006\",\"order_side\":\"Buy\",\"order_type\":\"Limit\",\"order_price\":\"69906.61\",\"order_size\":\"0.02\",\"remain_size\":\"0.02\",\"transaction_id\":\"\",\"update_time\":1711857600000000,\"execute_price\":\"0.0\",\"execute_size\":\"0.0\",\"quote_vol\":\"0.0\",\"commission\":\"0.0\",\"commission_asset\":\"USDT\",\"is_maker\":true,\"message\":\"\",\"commission_home\":\"0.0\",\"commission_foreign\":\"0.0\",\"home_change\":\"0.0\",\"foreign_change\":\"0.0\",\"free_home_change\":\"-1398.1322\",\"free_foreign_change\":\"0.0\",\"lock_home_change\":\"1398.1322\",\"lock_foreign_change\":\"0.0\",\"open_position\":\"0.0\",\"close_position\":\"0.0\",\"position\":\"-0.01000\",\"profit\":\"0.0\",\"fee\":\"0\",\"total_profit\":\"0\",\"log_id\":31}\n",
            "{\"category\":\"SPOT\",\"symbol\":\"BTCUSDT\",\"create_time\":1711857600000000,\"status\":\"PartiallyFilled\",\"order_id\":\"BreakOutAgent-Us6DmB0006\",\"client_order_id\":\"BreakOutAgent-Us6DmB0006\",\"order_side\":\"Buy\",\"order_type\":\"Limit\",\"order_price\":\"69906.61\",\"order_size\":\"0.02\",\"remain_size\":\"0.01985\",\"transaction_id\":\"BreakOutAgent-0026\",\"update_time\":1711857739359000,\"execute_price\":\"69906.61\",\"execute_size\":\"0.00015\",\"quote_vol\":\"10.4859915\",\"commission\":\"0.0\",\"commission_asset\":\"USDT\",\"is_maker\":true,\"message\":\"\",\"commission_home\":\"0.0\",\"commission_foreign\":\"0.0\",\"home_change\":\"-10.4859915\",\"foreign_change\":\"0.00015\",\"free_home_change\":\"0.0\",\"free_foreign_change\":\"0.00015\",\"lock_home_change\":\"-10.485991500\",\"lock_foreign_change\":\"0.0\",\"open_position\":\"0.0\",\"close_position\":\"-0.00015\",\"position\":\"-0.00985\",\"profit\":\"-0.0261045\",\"fee\":\"0.00104859915\",\"total_profit\":\"-0.02715309915\",\"log_id\":32}\n",
            "{\"coins\":[{\"symbol\":\"USDT\",\"volume\":\"684.5182085\",\"free\":\"-703.1280000\",\"locked\":\"1387.646208500\"},{\"symbol\":\"BTC\",\"volume\":\"-0.00985\",\"free\":\"-0.05985\",\"locked\":\"0.0\"}]}\n",
            "{\"category\":\"SPOT\",\"symbol\":\"BTCUSDT\",\"create_time\":1711857600000000,\"status\":\"PartiallyFilled\",\"order_id\":\"BreakOutAgent-Us6DmB0006\",\"client_order_id\":\"BreakOutAgent-Us6DmB0006\",\"order_side\":\"Buy\",\"order_type\":\"Limit\",\"order_price\":\"69906.61\",\"order_size\":\"0.02\",\"remain_size\":\"0.01938\",\"transaction_id\":\"BreakOutAgent-0027\",\"update_time\":1711857739367000,\"execute_price\":\"69906.61\",\"execute_size\":\"0.00047\",\"quote_vol\":\"32.8561067\",\"commission\":\"0.0\",\"commission_asset\":\"USDT\",\"is_maker\":true,\"message\":\"\",\"commission_home\":\"0.0\",\"commission_foreign\":\"0.0\",\"home_change\":\"-32.8561067\",\"foreign_change\":\"0.00047\",\"free_home_change\":\"0.0\",\"free_foreign_change\":\"0.00047\",\"lock_home_change\":\"-32.856106700\",\"lock_foreign_change\":\"0.0\",\"open_position\":\"0.0\",\"close_position\":\"-0.00047\",\"position\":\"-0.00938\",\"profit\":\"-0.0817941\",\"fee\":\"0.00328561067\",\"total_profit\":\"-0.08507971067\",\"log_id\":33}\n",
            "{\"coins\":[{\"symbol\":\"USDT\",\"volume\":\"651.6621018\",\"free\":\"-703.1280000\",\"locked\":\"1354.790101800\"},{\"symbol\":\"BTC\",\"volume\":\"-0.00938\",\"free\":\"-0.05938\",\"locked\":\"0.0\"}]}\n",
            "{\"category\":\"SPOT\",\"symbol\":\"BTCUSDT\",\"create_time\":1711857600000000,\"status\":\"PartiallyFilled\",\"order_id\":\"BreakOutAgent-Us6DmB0006\",\"client_order_id\":\"BreakOutAgent-Us6DmB0006\",\"order_side\":\"Buy\",\"order_type\":\"Limit\",\"order_price\":\"69906.61\",\"order_size\":\"0.02\",\"remain_size\":\"0.01894\",\"transaction_id\":\"BreakOutAgent-0028\",\"update_time\":1711857739545000,\"execute_price\":\"69906.61\",\"execute_size\":\"0.00044\",\"quote_vol\":\"30.7589084\",\"commission\":\"0.0\",\"commission_asset\":\"USDT\",\"is_maker\":true,\"message\":\"\",\"commission_home\":\"0.0\",\"commission_foreign\":\"0.0\",\"home_change\":\"-30.7589084\",\"foreign_change\":\"0.00044\",\"free_home_change\":\"0.0\",\"free_foreign_change\":\"0.00044\",\"lock_home_change\":\"-30.7589084\",\"lock_foreign_change\":\"0.0\",\"open_position\":\"0.0\",\"close_position\":\"-0.00044\",\"position\":\"-0.00894\",\"profit\":\"-0.0765732\",\"fee\":\"0.00307589084\",\"total_profit\":\"-0.07964909084\",\"log_id\":34}\n",
            "{\"coins\":[{\"symbol\":\"USDT\",\"volume\":\"620.9031934\",\"free\":\"-703.1280000\",\"locked\":\"1324.031193400\"},{\"symbol\":\"BTC\",\"volume\":\"-0.00894\",\"free\":\"-0.05894\",\"locked\":\"0.0\"}]}\n",
            "{\"category\":\"SPOT\",\"symbol\":\"BTCUSDT\",\"create_time\":1711857600000000,\"status\":\"PartiallyFilled\",\"order_id\":\"BreakOutAgent-Us6DmB0006\",\"client_order_id\":\"BreakOutAgent-Us6DmB0006\",\"order_side\":\"Buy\",\"order_type\":\"Limit\",\"order_price\":\"69906.61\",\"order_size\":\"0.02\",\"remain_size\":\"0.01493\",\"transaction_id\":\"BreakOutAgent-0029\",\"update_time\":1711857739767000,\"execute_price\":\"69906.61\",\"execute_size\":\"0.00401\",\"quote_vol\":\"280.3255061\",\"commission\":\"0.0\",\"commission_asset\":\"USDT\",\"is_maker\":true,\"message\":\"\",\"commission_home\":\"0.0\",\"commission_foreign\":\"0.0\",\"home_change\":\"-280.3255061\",\"foreign_change\":\"0.00401\",\"free_home_change\":\"0.0\",\"free_foreign_change\":\"0.00401\",\"lock_home_change\":\"-280.325506100\",\"lock_foreign_change\":\"0.0\",\"open_position\":\"0.0\",\"close_position\":\"-0.00401\",\"position\":\"-0.00493\",\"profit\":\"-0.6978603\",\"fee\":\"0.02803255061\",\"total_profit\":\"-0.72589285061\",\"log_id\":35}\n",
            "{\"coins\":[{\"symbol\":\"USDT\",\"volume\":\"340.5776873\",\"free\":\"-703.1280000\",\"locked\":\"1043.705687300\"},{\"symbol\":\"BTC\",\"volume\":\"-0.00493\",\"free\":\"-0.05493\",\"locked\":\"0.0\"}]}\n",
            "{\"category\":\"SPOT\",\"symbol\":\"BTCUSDT\",\"create_time\":1711857600000000,\"status\":\"Filled\",\"order_id\":\"BreakOutAgent-Us6DmB0006\",\"client_order_id\":\"BreakOutAgent-Us6DmB0006\",\"order_side\":\"Buy\",\"order_type\":\"Limit\",\"order_price\":\"69906.61\",\"order_size\":\"0.02\",\"remain_size\":\"0\",\"transaction_id\":\"BreakOutAgent-0030\",\"update_time\":1711857739781000,\"execute_price\":\"69906.61\",\"execute_size\":\"0.01493\",\"quote_vol\":\"1043.7056873\",\"commission\":\"0.0\",\"commission_asset\":\"USDT\",\"is_maker\":true,\"message\":\"\",\"commission_home\":\"0.0\",\"commission_foreign\":\"0.0\",\"home_change\":\"-1043.7056873\",\"foreign_change\":\"0.01493\",\"free_home_change\":\"0.0\",\"free_foreign_change\":\"0.01493\",\"lock_home_change\":\"-1043.705687300\",\"lock_foreign_change\":\"0.0\",\"open_position\":\"0.01000\",\"close_position\":\"-0.00493\",\"position\":\"0.01000\",\"profit\":\"-0.8579679\",\"fee\":\"0.10437056873\",\"total_profit\":\"-0.96233846873\",\"log_id\":36}\n",
            "{\"coins\":[{\"symbol\":\"USDT\",\"volume\":\"-703.1280000\",\"free\":\"-703.1280000\",\"locked\":\"0.000000000\"},{\"symbol\":\"BTC\",\"volume\":\"0.01000\",\"free\":\"-0.04000\",\"locked\":\"0.0\"}]}\n",
            "{\"category\":\"SPOT\",\"symbol\":\"BTCUSDT\",\"create_time\":1711958400000000,\"status\":\"New\",\"order_id\":\"BreakOutAgent-Us6DmB0007\",\"client_order_id\":\"BreakOutAgent-Us6DmB0007\",\"order_side\":\"Sell\",\"order_type\":\"Limit\",\"order_price\":\"69605.44\",\"order_size\":\"0.02\",\"remain_size\":\"0.02\",\"transaction_id\":\"\",\"update_time\":1711958400003000,\"execute_price\":\"0.0\",\"execute_size\":\"0.0\",\"quote_vol\":\"0.0\",\"commission\":\"0.0\",\"commission_asset\":\"USDT\",\"is_maker\":true,\"message\":\"\",\"commission_home\":\"0.0\",\"commission_foreign\":\"0.0\",\"home_change\":\"0.0\",\"foreign_change\":\"0.0\",\"free_home_change\":\"0.0\",\"free_foreign_change\":\"-0.02\",\"lock_home_change\":\"0.0\",\"lock_foreign_change\":\"0.02\",\"open_position\":\"0.0\",\"close_position\":\"0.0\",\"position\":\"0.01000\",\"profit\":\"0.0\",\"fee\":\"0\",\"total_profit\":\"0\",\"log_id\":37}\n",
            "{\"category\":\"SPOT\",\"symbol\":\"BTCUSDT\",\"create_time\":1711958400000000,\"status\":\"PartiallyFilled\",\"order_id\":\"BreakOutAgent-Us6DmB0007\",\"client_order_id\":\"BreakOutAgent-Us6DmB0007\",\"order_side\":\"Sell\",\"order_type\":\"Limit\",\"order_price\":\"69605.44\",\"order_size\":\"0.02\",\"remain_size\":\"0.01973\",\"transaction_id\":\"BreakOutAgent-0031\",\"update_time\":1711962855218000,\"execute_price\":\"69605.44\",\"execute_size\":\"0.00027\",\"quote_vol\":\"18.7934688\",\"commission\":\"0.0\",\"commission_asset\":\"USDT\",\"is_maker\":true,\"message\":\"\",\"commission_home\":\"0.0\",\"commission_foreign\":\"0.0\",\"home_change\":\"18.7934688\",\"foreign_change\":\"-0.00027\",\"free_home_change\":\"18.7934688\",\"free_foreign_change\":\"-0.00027\",\"lock_home_change\":\"0.0\",\"lock_foreign_change\":\"-0.0002700\",\"open_position\":\"0.0\",\"close_position\":\"0.00027\",\"position\":\"0.00973\",\"profit\":\"-0.0813159\",\"fee\":\"0.00187934688\",\"total_profit\":\"-0.08319524688\",\"log_id\":38}\n",
            "{\"coins\":[{\"symbol\":\"USDT\",\"volume\":\"-684.3345312\",\"free\":\"-684.3345312\",\"locked\":\"0.0\"},{\"symbol\":\"BTC\",\"volume\":\"0.00973\",\"free\":\"-0.06027\",\"locked\":\"0.0197300\"}]}\n",
            "{\"category\":\"SPOT\",\"symbol\":\"BTCUSDT\",\"create_time\":1711958400000000,\"status\":\"PartiallyFilled\",\"order_id\":\"BreakOutAgent-Us6DmB0007\",\"client_order_id\":\"BreakOutAgent-Us6DmB0007\",\"order_side\":\"Sell\",\"order_type\":\"Limit\",\"order_price\":\"69605.44\",\"order_size\":\"0.02\",\"remain_size\":\"0.01940\",\"transaction_id\":\"BreakOutAgent-0032\",\"update_time\":1711962855289000,\"execute_price\":\"69605.44\",\"execute_size\":\"0.00033\",\"quote_vol\":\"22.9697952\",\"commission\":\"0.0\",\"commission_asset\":\"USDT\",\"is_maker\":true,\"message\":\"\",\"commission_home\":\"0.0\",\"commission_foreign\":\"0.0\",\"home_change\":\"22.9697952\",\"foreign_change\":\"-0.00033\",\"free_home_change\":\"22.9697952\",\"free_foreign_change\":\"-0.00033\",\"lock_home_change\":\"0.0\",\"lock_foreign_change\":\"-0.0003300\",\"open_position\":\"0.0\",\"close_position\":\"0.00033\",\"position\":\"0.00940\",\"profit\":\"-0.0993861\",\"fee\":\"0.00229697952\",\"total_profit\":\"-0.10168307952\",\"log_id\":39}\n",
            "{\"coins\":[{\"symbol\":\"USDT\",\"volume\":\"-661.3647360\",\"free\":\"-661.3647360\",\"locked\":\"0.0\"},{\"symbol\":\"BTC\",\"volume\":\"0.00940\",\"free\":\"-0.06060\",\"locked\":\"0.0194000\"}]}\n",
            "{\"category\":\"SPOT\",\"symbol\":\"BTCUSDT\",\"create_time\":1711958400000000,\"status\":\"PartiallyFilled\",\"order_id\":\"BreakOutAgent-Us6DmB0007\",\"client_order_id\":\"BreakOutAgent-Us6DmB0007\",\"order_side\":\"Sell\",\"order_type\":\"Limit\",\"order_price\":\"69605.44\",\"order_size\":\"0.02\",\"remain_size\":\"0.01734\",\"transaction_id\":\"BreakOutAgent-0033\",\"update_time\":1711962855289000,\"execute_price\":\"69605.44\",\"execute_size\":\"0.00206\",\"quote_vol\":\"143.3872064\",\"commission\":\"0.0\",\"commission_asset\":\"USDT\",\"is_maker\":true,\"message\":\"\",\"commission_home\":\"0.0\",\"commission_foreign\":\"0.0\",\"home_change\":\"143.3872064\",\"foreign_change\":\"-0.00206\",\"free_home_change\":\"143.3872064\",\"free_foreign_change\":\"-0.00206\",\"lock_home_change\":\"0.0\",\"lock_foreign_change\":\"-0.00206\",\"open_position\":\"0.0\",\"close_position\":\"0.00206\",\"position\":\"0.00734\",\"profit\":\"-0.6204102\",\"fee\":\"0.01433872064\",\"total_profit\":\"-0.63474892064\",\"log_id\":40}\n",
            "{\"coins\":[{\"symbol\":\"USDT\",\"volume\":\"-517.9775296\",\"free\":\"-517.9775296\",\"locked\":\"0.0\"},{\"symbol\":\"BTC\",\"volume\":\"0.00734\",\"free\":\"-0.06266\",\"locked\":\"0.0173400\"}]}\n",
            "{\"category\":\"SPOT\",\"symbol\":\"BTCUSDT\",\"create_time\":1711958400000000,\"status\":\"PartiallyFilled\",\"order_id\":\"BreakOutAgent-Us6DmB0007\",\"client_order_id\":\"BreakOutAgent-Us6DmB0007\",\"order_side\":\"Sell\",\"order_type\":\"Limit\",\"order_price\":\"69605.44\",\"order_size\":\"0.02\",\"remain_size\":\"0.00240\",\"transaction_id\":\"BreakOutAgent-0034\",\"update_time\":1711962855328000,\"execute_price\":\"69605.44\",\"execute_size\":\"0.01494\",\"quote_vol\":\"1039.9052736\",\"commission\":\"0.0\",\"commission_asset\":\"USDT\",\"is_maker\":true,\"message\":\"\",\"commission_home\":\"0.0\",\"commission_foreign\":\"0.0\",\"home_change\":\"1039.9052736\",\"foreign_change\":\"-0.01494\",\"free_home_change\":\"1039.9052736\",\"free_foreign_change\":\"-0.01494\",\"lock_home_change\":\"0.0\",\"lock_foreign_change\":\"-0.01494\",\"open_position\":\"-0.00760\",\"close_position\":\"0.00734\",\"position\":\"-0.00760\",\"profit\":\"-2.2105878\",\"fee\":\"0.10399052736\",\"total_profit\":\"-2.31457832736\",\"log_id\":41}\n",
            "{\"coins\":[{\"symbol\":\"USDT\",\"volume\":\"521.9277440\",\"free\":\"521.9277440\",\"locked\":\"0.0\"},{\"symbol\":\"BTC\",\"volume\":\"-0.00760\",\"free\":\"-0.07760\",\"locked\":\"0.0024000\"}]}\n",
            "{\"category\":\"SPOT\",\"symbol\":\"BTCUSDT\",\"create_time\":1711958400000000,\"status\":\"Filled\",\"order_id\":\"BreakOutAgent-Us6DmB0007\",\"client_order_id\":\"BreakOutAgent-Us6DmB0007\",\"order_side\":\"Sell\",\"order_type\":\"Limit\",\"order_price\":\"69605.44\",\"order_size\":\"0.02\",\"remain_size\":\"0\",\"transaction_id\":\"BreakOutAgent-0035\",\"update_time\":1711962855476000,\"execute_price\":\"69605.44\",\"execute_size\":\"0.00240\",\"quote_vol\":\"167.0530560\",\"commission\":\"0.0\",\"commission_asset\":\"USDT\",\"is_maker\":true,\"message\":\"\",\"commission_home\":\"0.0\",\"commission_foreign\":\"0.0\",\"home_change\":\"167.0530560\",\"foreign_change\":\"-0.00240\",\"free_home_change\":\"167.0530560\",\"free_foreign_change\":\"-0.00240\",\"lock_home_change\":\"0.0\",\"lock_foreign_change\":\"-0.00240\",\"open_position\":\"-0.00240\",\"close_position\":\"0.0\",\"position\":\"-0.01000\",\"profit\":\"0.0\",\"fee\":\"0.01670530560\",\"total_profit\":\"-0.01670530560\",\"log_id\":42}\n",
            "{\"coins\":[{\"symbol\":\"USDT\",\"volume\":\"688.9808000\",\"free\":\"688.9808000\",\"locked\":\"0.0\"},{\"symbol\":\"BTC\",\"volume\":\"-0.01000\",\"free\":\"-0.08000\",\"locked\":\"0.0000000\"}]}\n",
            "{\"category\":\"SPOT\",\"symbol\":\"BTCUSDT\",\"create_time\":1712167200000000,\"status\":\"New\",\"order_id\":\"BreakOutAgent-Us6DmB0008\",\"client_order_id\":\"BreakOutAgent-Us6DmB0008\",\"order_side\":\"Buy\",\"order_type\":\"Limit\",\"order_price\":\"65942.01\",\"order_size\":\"0.02\",\"remain_size\":\"0.02\",\"transaction_id\":\"\",\"update_time\":1712167200003000,\"execute_price\":\"0.0\",\"execute_size\":\"0.0\",\"quote_vol\":\"0.0\",\"commission\":\"0.0\",\"commission_asset\":\"USDT\",\"is_maker\":true,\"message\":\"\",\"commission_home\":\"0.0\",\"commission_foreign\":\"0.0\",\"home_change\":\"0.0\",\"foreign_change\":\"0.0\",\"free_home_change\":\"-1318.8402\",\"free_foreign_change\":\"0.0\",\"lock_home_change\":\"1318.8402\",\"lock_foreign_change\":\"0.0\",\"open_position\":\"0.0\",\"close_position\":\"0.0\",\"position\":\"-0.01000\",\"profit\":\"0.0\",\"fee\":\"0\",\"total_profit\":\"0\",\"log_id\":43}\n",
            "{\"category\":\"SPOT\",\"symbol\":\"BTCUSDT\",\"create_time\":1712167200000000,\"status\":\"PartiallyFilled\",\"order_id\":\"BreakOutAgent-Us6DmB0008\",\"client_order_id\":\"BreakOutAgent-Us6DmB0008\",\"order_side\":\"Buy\",\"order_type\":\"Limit\",\"order_price\":\"65942.01\",\"order_size\":\"0.02\",\"remain_size\":\"0.0197\",\"transaction_id\":\"BreakOutAgent-0036\",\"update_time\":1712167203636000,\"execute_price\":\"65942.01\",\"execute_size\":\"0.0003\",\"quote_vol\":\"19.782603\",\"commission\":\"0.0\",\"commission_asset\":\"USDT\",\"is_maker\":true,\"message\":\"\",\"commission_home\":\"0.0\",\"commission_foreign\":\"0.0\",\"home_change\":\"-19.782603\",\"foreign_change\":\"0.0003\",\"free_home_change\":\"0.0\",\"free_foreign_change\":\"0.0003\",\"lock_home_change\":\"-19.78260300\",\"lock_foreign_change\":\"0.0\",\"open_position\":\"0.0\",\"close_position\":\"-0.0003\",\"position\":\"-0.00970\",\"profit\":\"1.099029\",\"fee\":\"0.0019782603\",\"total_profit\":\"1.0970507397\",\"log_id\":44}\n",
            "{\"coins\":[{\"symbol\":\"USDT\",\"volume\":\"669.1981970\",\"free\":\"-629.8594000\",\"locked\":\"1299.05759700\"},{\"symbol\":\"BTC\",\"volume\":\"-0.00970\",\"free\":\"-0.07970\",\"locked\":\"0.0\"}]}\n",
            "{\"category\":\"SPOT\",\"symbol\":\"BTCUSDT\",\"create_time\":1712167200000000,\"status\":\"PartiallyFilled\",\"order_id\":\"BreakOutAgent-Us6DmB0008\",\"client_order_id\":\"BreakOutAgent-Us6DmB0008\",\"order_side\":\"Buy\",\"order_type\":\"Limit\",\"order_price\":\"65942.01\",\"order_size\":\"0.02\",\"remain_size\":\"0.01963\",\"transaction_id\":\"BreakOutAgent-0037\",\"update_time\":1712167203636000,\"execute_price\":\"65942.01\",\"execute_size\":\"0.00007\",\"quote_vol\":\"4.6159407\",\"commission\":\"0.0\",\"commission_asset\":\"USDT\",\"is_maker\":true,\"message\":\"\",\"commission_home\":\"0.0\",\"commission_foreign\":\"0.0\",\"home_change\":\"-4.6159407\",\"foreign_change\":\"0.00007\",\"free_home_change\":\"0.0\",\"free_foreign_change\":\"0.00007\",\"lock_home_change\":\"-4.615940700\",\"lock_foreign_change\":\"0.0\",\"open_position\":\"0.0\",\"close_position\":\"-0.00007\",\"position\":\"-0.00963\",\"profit\":\"0.2564401\",\"fee\":\"0.00046159407\",\"total_profit\":\"0.25597850593\",\"log_id\":45}\n",
            "{\"coins\":[{\"symbol\":\"USDT\",\"volume\":\"664.5822563\",\"free\":\"-629.8594000\",\"locked\":\"1294.441656300\"},{\"symbol\":\"BTC\",\"volume\":\"-0.00963\",\"free\":\"-0.07963\",\"locked\":\"0.0\"}]}\n",
            "{\"category\":\"SPOT\",\"symbol\":\"BTCUSDT\",\"create_time\":1712167200000000,\"status\":\"PartiallyFilled\",\"order_id\":\"BreakOutAgent-Us6DmB0008\",\"client_order_id\":\"BreakOutAgent-Us6DmB0008\",\"order_side\":\"Buy\",\"order_type\":\"Limit\",\"order_price\":\"65942.01\",\"order_size\":\"0.02\",\"remain_size\":\"0.01861\",\"transaction_id\":\"BreakOutAgent-0038\",\"update_time\":1712167203998000,\"execute_price\":\"65942.01\",\"execute_size\":\"0.00102\",\"quote_vol\":\"67.2608502\",\"commission\":\"0.0\",\"commission_asset\":\"USDT\",\"is_maker\":true,\"message\":\"\",\"commission_home\":\"0.0\",\"commission_foreign\":\"0.0\",\"home_change\":\"-67.2608502\",\"foreign_change\":\"0.00102\",\"free_home_change\":\"0.0\",\"free_foreign_change\":\"0.00102\",\"lock_home_change\":\"-67.2608502\",\"lock_foreign_change\":\"0.0\",\"open_position\":\"0.0\",\"close_position\":\"-0.00102\",\"position\":\"-0.00861\",\"profit\":\"3.7366986\",\"fee\":\"0.00672608502\",\"total_profit\":\"3.72997251498\",\"log_id\":46}\n",
            "{\"coins\":[{\"symbol\":\"USDT\",\"volume\":\"597.3214061\",\"free\":\"-629.8594000\",\"locked\":\"1227.180806100\"},{\"symbol\":\"BTC\",\"volume\":\"-0.00861\",\"free\":\"-0.07861\",\"locked\":\"0.0\"}]}\n",
            "{\"category\":\"SPOT\",\"symbol\":\"BTCUSDT\",\"create_time\":1712167200000000,\"status\":\"PartiallyFilled\",\"order_id\":\"BreakOutAgent-Us6DmB0008\",\"client_order_id\":\"BreakOutAgent-Us6DmB0008\",\"order_side\":\"Buy\",\"order_type\":\"Limit\",\"order_price\":\"65942.01\",\"order_size\":\"0.02\",\"remain_size\":\"0.01403\",\"transaction_id\":\"BreakOutAgent-0039\",\"update_time\":1712167204273000,\"execute_price\":\"65942.01\",\"execute_size\":\"0.00458\",\"quote_vol\":\"302.0144058\",\"commission\":\"0.0\",\"commission_asset\":\"USDT\",\"is_maker\":true,\"message\":\"\",\"commission_home\":\"0.0\",\"commission_foreign\":\"0.0\",\"home_change\":\"-302.0144058\",\"foreign_change\":\"0.00458\",\"free_home_change\":\"0.0\",\"free_foreign_change\":\"0.00458\",\"lock_home_change\":\"-302.0144058\",\"lock_foreign_change\":\"0.0\",\"open_position\":\"0.0\",\"close_position\":\"-0.00458\",\"position\":\"-0.00403\",\"profit\":\"16.7785094\",\"fee\":\"0.03020144058\",\"total_profit\":\"16.74830795942\",\"log_id\":47}\n",
            "{\"coins\":[{\"symbol\":\"USDT\",\"volume\":\"295.3070003\",\"free\":\"-629.8594000\",\"locked\":\"925.166400300\"},{\"symbol\":\"BTC\",\"volume\":\"-0.00403\",\"free\":\"-0.07403\",\"locked\":\"0.0\"}]}\n",
            "{\"category\":\"SPOT\",\"symbol\":\"BTCUSDT\",\"create_time\":1712167200000000,\"status\":\"PartiallyFilled\",\"order_id\":\"BreakOutAgent-Us6DmB0008\",\"client_order_id\":\"BreakOutAgent-Us6DmB0008\",\"order_side\":\"Buy\",\"order_type\":\"Limit\",\"order_price\":\"65942.01\",\"order_size\":\"0.02\",\"remain_size\":\"0.01289\",\"transaction_id\":\"BreakOutAgent-0040\",\"update_time\":1712167204337000,\"execute_price\":\"65942.01\",\"execute_size\":\"0.00114\",\"quote_vol\":\"75.1738914\",\"commission\":\"0.0\",\"commission_asset\":\"USDT\",\"is_maker\":true,\"message\":\"\",\"commission_home\":\"0.0\",\"commission_foreign\":\"0.0\",\"home_change\":\"-75.1738914\",\"foreign_change\":\"0.00114\",\"free_home_change\":\"0.0\",\"free_foreign_change\":\"0.00114\",\"lock_home_change\":\"-75.1738914\",\"lock_foreign_change\":\"0.0\",\"open_position\":\"0.0\",\"close_position\":\"-0.00114\",\"position\":\"-0.00289\",\"profit\":\"4.1763102\",\"fee\":\"0.00751738914\",\"total_profit\":\"4.16879281086\",\"log_id\":48}\n",
            "{\"coins\":[{\"symbol\":\"USDT\",\"volume\":\"220.1331089\",\"free\":\"-629.8594000\",\"locked\":\"849.992508900\"},{\"symbol\":\"BTC\",\"volume\":\"-0.00289\",\"free\":\"-0.07289\",\"locked\":\"0.0\"}]}\n",
            "{\"category\":\"SPOT\",\"symbol\":\"BTCUSDT\",\"create_time\":1712167200000000,\"status\":\"Filled\",\"order_id\":\"BreakOutAgent-Us6DmB0008\",\"client_order_id\":\"BreakOutAgent-Us6DmB0008\",\"order_side\":\"Buy\",\"order_type\":\"Limit\",\"order_price\":\"65942.01\",\"order_size\":\"0.02\",\"remain_size\":\"0\",\"transaction_id\":\"BreakOutAgent-0041\",\"update_time\":1712167204462000,\"execute_price\":\"65942.01\",\"execute_size\":\"0.01289\",\"quote_vol\":\"849.9925089\",\"commission\":\"0.0\",\"commission_asset\":\"USDT\",\"is_maker\":true,\"message\":\"\",\"commission_home\":\"0.0\",\"commission_foreign\":\"0.0\",\"home_change\":\"-849.9925089\",\"foreign_change\":\"0.01289\",\"free_home_change\":\"0.0\",\"free_foreign_change\":\"0.01289\",\"lock_home_change\":\"-849.992508900\",\"lock_foreign_change\":\"0.0\",\"open_position\":\"0.01000\",\"close_position\":\"-0.00289\",\"position\":\"0.01000\",\"profit\":\"10.5873127\",\"fee\":\"0.08499925089\",\"total_profit\":\"10.50231344911\",\"log_id\":49}\n",
            "{\"coins\":[{\"symbol\":\"USDT\",\"volume\":\"-629.8594000\",\"free\":\"-629.8594000\",\"locked\":\"0.000000000\"},{\"symbol\":\"BTC\",\"volume\":\"0.01000\",\"free\":\"-0.06000\",\"locked\":\"0.0\"}]}\n",
            "{\"category\":\"SPOT\",\"symbol\":\"BTCUSDT\",\"create_time\":1712210400000000,\"status\":\"New\",\"order_id\":\"BreakOutAgent-Us6DmB0009\",\"client_order_id\":\"BreakOutAgent-Us6DmB0009\",\"order_side\":\"Sell\",\"order_type\":\"Limit\",\"order_price\":\"65601.57\",\"order_size\":\"0.02\",\"remain_size\":\"0.02\",\"transaction_id\":\"\",\"update_time\":1712210400000000,\"execute_price\":\"0.0\",\"execute_size\":\"0.0\",\"quote_vol\":\"0.0\",\"commission\":\"0.0\",\"commission_asset\":\"USDT\",\"is_maker\":true,\"message\":\"\",\"commission_home\":\"0.0\",\"commission_foreign\":\"0.0\",\"home_change\":\"0.0\",\"foreign_change\":\"0.0\",\"free_home_change\":\"0.0\",\"free_foreign_change\":\"-0.02\",\"lock_home_change\":\"0.0\",\"lock_foreign_change\":\"0.02\",\"open_position\":\"0.0\",\"close_position\":\"0.0\",\"position\":\"0.01000\",\"profit\":\"0.0\",\"fee\":\"0\",\"total_profit\":\"0\",\"log_id\":50}\n",
            "{\"category\":\"SPOT\",\"symbol\":\"BTCUSDT\",\"create_time\":1712210400000000,\"status\":\"PartiallyFilled\",\"order_id\":\"BreakOutAgent-Us6DmB0009\",\"client_order_id\":\"BreakOutAgent-Us6DmB0009\",\"order_side\":\"Sell\",\"order_type\":\"Limit\",\"order_price\":\"65601.57\",\"order_size\":\"0.02\",\"remain_size\":\"0.01958\",\"transaction_id\":\"BreakOutAgent-0042\",\"update_time\":1712210419342000,\"execute_price\":\"65601.57\",\"execute_size\":\"0.00042\",\"quote_vol\":\"27.5526594\",\"commission\":\"0.0\",\"commission_asset\":\"USDT\",\"is_maker\":true,\"message\":\"\",\"commission_home\":\"0.0\",\"commission_foreign\":\"0.0\",\"home_change\":\"27.5526594\",\"foreign_change\":\"-0.00042\",\"free_home_change\":\"27.5526594\",\"free_foreign_change\":\"-0.00042\",\"lock_home_change\":\"0.0\",\"lock_foreign_change\":\"-0.00042\",\"open_position\":\"0.0\",\"close_position\":\"0.00042\",\"position\":\"0.00958\",\"profit\":\"-0.1429848\",\"fee\":\"0.00275526594\",\"total_profit\":\"-0.14574006594\",\"log_id\":51}\n",
            "{\"coins\":[{\"symbol\":\"USDT\",\"volume\":\"-602.3067406\",\"free\":\"-602.3067406\",\"locked\":\"0.0\"},{\"symbol\":\"BTC\",\"volume\":\"0.00958\",\"free\":\"-0.08042\",\"locked\":\"0.01958\"}]}\n",
            "{\"category\":\"SPOT\",\"symbol\":\"BTCUSDT\",\"create_time\":1712210400000000,\"status\":\"PartiallyFilled\",\"order_id\":\"BreakOutAgent-Us6DmB0009\",\"client_order_id\":\"BreakOutAgent-Us6DmB0009\",\"order_side\":\"Sell\",\"order_type\":\"Limit\",\"order_price\":\"65601.57\",\"order_size\":\"0.02\",\"remain_size\":\"0.00071\",\"transaction_id\":\"BreakOutAgent-0043\",\"update_time\":1712210419642000,\"execute_price\":\"65601.57\",\"execute_size\":\"0.01887\",\"quote_vol\":\"1237.9016259\",\"commission\":\"0.0\",\"commission_asset\":\"USDT\",\"is_maker\":true,\"message\":\"\",\"commission_home\":\"0.0\",\"commission_foreign\":\"0.0\",\"home_change\":\"1237.9016259\",\"foreign_change\":\"-0.01887\",\"free_home_change\":\"1237.9016259\",\"free_foreign_change\":\"-0.01887\",\"lock_home_change\":\"0.0\",\"lock_foreign_change\":\"-0.0188700\",\"open_position\":\"-0.00929\",\"close_position\":\"0.00958\",\"position\":\"-0.00929\",\"profit\":\"-3.2614152\",\"fee\":\"0.12379016259\",\"total_profit\":\"-3.38520536259\",\"log_id\":52}\n",
            "{\"coins\":[{\"symbol\":\"USDT\",\"volume\":\"635.5948853\",\"free\":\"635.5948853\",\"locked\":\"0.0\"},{\"symbol\":\"BTC\",\"volume\":\"-0.00929\",\"free\":\"-0.09929\",\"locked\":\"0.0007100\"}]}\n",
            "{\"category\":\"SPOT\",\"symbol\":\"BTCUSDT\",\"create_time\":1712210400000000,\"status\":\"Filled\",\"order_id\":\"BreakOutAgent-Us6DmB0009\",\"client_order_id\":\"BreakOutAgent-Us6DmB0009\",\"order_side\":\"Sell\",\"order_type\":\"Limit\",\"order_price\":\"65601.57\",\"order_size\":\"0.02\",\"remain_size\":\"0\",\"transaction_id\":\"BreakOutAgent-0044\",\"update_time\":1712210419666000,\"execute_price\":\"65601.57\",\"execute_size\":\"0.00071\",\"quote_vol\":\"46.5771147\",\"commission\":\"0.0\",\"commission_asset\":\"USDT\",\"is_maker\":true,\"message\":\"\",\"commission_home\":\"0.0\",\"commission_foreign\":\"0.0\",\"home_change\":\"46.5771147\",\"foreign_change\":\"-0.00071\",\"free_home_change\":\"46.5771147\",\"free_foreign_change\":\"-0.00071\",\"lock_home_change\":\"0.0\",\"lock_foreign_change\":\"-0.0007100\",\"open_position\":\"-0.00071\",\"close_position\":\"0.0\",\"position\":\"-0.01000\",\"profit\":\"0.0\",\"fee\":\"0.00465771147\",\"total_profit\":\"-0.00465771147\",\"log_id\":53}\n",
            "{\"coins\":[{\"symbol\":\"USDT\",\"volume\":\"682.1720000\",\"free\":\"682.1720000\",\"locked\":\"0.0\"},{\"symbol\":\"BTC\",\"volume\":\"-0.01000\",\"free\":\"-0.10000\",\"locked\":\"0.0000000\"}]}\n",
            "{\"category\":\"SPOT\",\"symbol\":\"BTCUSDT\",\"create_time\":1712246400000000,\"status\":\"New\",\"order_id\":\"BreakOutAgent-Us6DmB0010\",\"client_order_id\":\"BreakOutAgent-Us6DmB0010\",\"order_side\":\"Buy\",\"order_type\":\"Limit\",\"order_price\":\"67637.49\",\"order_size\":\"0.02\",\"remain_size\":\"0.02\",\"transaction_id\":\"\",\"update_time\":1712246400002000,\"execute_price\":\"0.0\",\"execute_size\":\"0.0\",\"quote_vol\":\"0.0\",\"commission\":\"0.0\",\"commission_asset\":\"USDT\",\"is_maker\":true,\"message\":\"\",\"commission_home\":\"0.0\",\"commission_foreign\":\"0.0\",\"home_change\":\"0.0\",\"foreign_change\":\"0.0\",\"free_home_change\":\"-1352.7498\",\"free_foreign_change\":\"0.0\",\"lock_home_change\":\"1352.7498\",\"lock_foreign_change\":\"0.0\",\"open_position\":\"0.0\",\"close_position\":\"0.0\",\"position\":\"-0.01000\",\"profit\":\"0.0\",\"fee\":\"0\",\"total_profit\":\"0\",\"log_id\":54}\n",
            "{\"category\":\"SPOT\",\"symbol\":\"BTCUSDT\",\"create_time\":1712246400000000,\"status\":\"PartiallyFilled\",\"order_id\":\"BreakOutAgent-Us6DmB0010\",\"client_order_id\":\"BreakOutAgent-Us6DmB0010\",\"order_side\":\"Buy\",\"order_type\":\"Limit\",\"order_price\":\"67637.49\",\"order_size\":\"0.02\",\"remain_size\":\"0.01941\",\"transaction_id\":\"BreakOutAgent-0045\",\"update_time\":1712246482408000,\"execute_price\":\"67637.49\",\"execute_size\":\"0.00059\",\"quote_vol\":\"39.9061191\",\"commission\":\"0.0\",\"commission_asset\":\"USDT\",\"is_maker\":true,\"message\":\"\",\"commission_home\":\"0.0\",\"commission_foreign\":\"0.0\",\"home_change\":\"-39.9061191\",\"foreign_change\":\"0.00059\",\"free_home_change\":\"0.0\",\"free_foreign_change\":\"0.00059\",\"lock_home_change\":\"-39.906119100\",\"lock_foreign_change\":\"0.0\",\"open_position\":\"0.0\",\"close_position\":\"-0.00059\",\"position\":\"-0.00941\",\"profit\":\"-1.2011928\",\"fee\":\"0.00399061191\",\"total_profit\":\"-1.20518341191\",\"log_id\":55}\n",
            "{\"coins\":[{\"symbol\":\"USDT\",\"volume\":\"642.2658809\",\"free\":\"-670.5778000\",\"locked\":\"1312.843680900\"},{\"symbol\":\"BTC\",\"volume\":\"-0.00941\",\"free\":\"-0.09941\",\"locked\":\"0.0\"}]}\n",
            "{\"category\":\"SPOT\",\"symbol\":\"BTCUSDT\",\"create_time\":1712246400000000,\"status\":\"PartiallyFilled\",\"order_id\":\"BreakOutAgent-Us6DmB0010\",\"client_order_id\":\"BreakOutAgent-Us6DmB0010\",\"order_side\":\"Buy\",\"order_type\":\"Limit\",\"order_price\":\"67637.49\",\"order_size\":\"0.02\",\"remain_size\":\"0.01922\",\"transaction_id\":\"BreakOutAgent-0046\",\"update_time\":1712246482491000,\"execute_price\":\"67637.49\",\"execute_size\":\"0.00019\",\"quote_vol\":\"12.8511231\",\"commission\":\"0.0\",\"commission_asset\":\"USDT\",\"is_maker\":true,\"message\":\"\",\"commission_home\":\"0.0\",\"commission_foreign\":\"0.0\",\"home_change\":\"-12.8511231\",\"foreign_change\":\"0.00019\",\"free_home_change\":\"0.0\",\"free_foreign_change\":\"0.00019\",\"lock_home_change\":\"-12.851123100\",\"lock_foreign_change\":\"0.0\",\"open_position\":\"0.0\",\"close_position\":\"-0.00019\",\"position\":\"-0.00922\",\"profit\":\"-0.3868248\",\"fee\":\"0.00128511231\",\"total_profit\":\"-0.38810991231\",\"log_id\":56}\n",
            "{\"coins\":[{\"symbol\":\"USDT\",\"volume\":\"629.4147578\",\"free\":\"-670.5778000\",\"locked\":\"1299.992557800\"},{\"symbol\":\"BTC\",\"volume\":\"-0.00922\",\"free\":\"-0.09922\",\"locked\":\"0.0\"}]}\n",
            "{\"category\":\"SPOT\",\"symbol\":\"BTCUSDT\",\"create_time\":1712246400000000,\"status\":\"PartiallyFilled\",\"order_id\":\"BreakOutAgent-Us6DmB0010\",\"client_order_id\":\"BreakOutAgent-Us6DmB0010\",\"order_side\":\"Buy\",\"order_type\":\"Limit\",\"order_price\":\"67637.49\",\"order_size\":\"0.02\",\"remain_size\":\"0.01873\",\"transaction_id\":\"BreakOutAgent-0047\",\"update_time\":1712246482908000,\"execute_price\":\"67637.49\",\"execute_size\":\"0.00049\",\"quote_vol\":\"33.1423701\",\"commission\":\"0.0\",\"commission_asset\":\"USDT\",\"is_maker\":true,\"message\":\"\",\"commission_home\":\"0.0\",\"commission_foreign\":\"0.0\",\"home_change\":\"-33.1423701\",\"foreign_change\":\"0.00049\",\"free_home_change\":\"0.0\",\"free_foreign_change\":\"0.00049\",\"lock_home_change\":\"-33.142370100\",\"lock_foreign_change\":\"0.0\",\"open_position\":\"0.0\",\"close_position\":\"-0.00049\",\"position\":\"-0.00873\",\"profit\":\"-0.9976008\",\"fee\":\"0.00331423701\",\"total_profit\":\"-1.00091503701\",\"log_id\":57}\n",
            "{\"coins\":[{\"symbol\":\"USDT\",\"volume\":\"596.2723877\",\"free\":\"-670.5778000\",\"locked\":\"1266.850187700\"},{\"symbol\":\"BTC\",\"volume\":\"-0.00873\",\"free\":\"-0.09873\",\"locked\":\"0.0\"}]}\n",
            "{\"category\":\"SPOT\",\"symbol\":\"BTCUSDT\",\"create_time\":1712246400000000,\"status\":\"PartiallyFilled\",\"order_id\":\"BreakOutAgent-Us6DmB0010\",\"client_order_id\":\"BreakOutAgent-Us6DmB0010\",\"order_side\":\"Buy\",\"order_type\":\"Limit\",\"order_price\":\"67637.49\",\"order_size\":\"0.02\",\"remain_size\":\"0.01743\",\"transaction_id\":\"BreakOutAgent-0048\",\"update_time\":1712246482922000,\"execute_price\":\"67637.49\",\"execute_size\":\"0.0013\",\"quote_vol\":\"87.928737\",\"commission\":\"0.0\",\"commission_asset\":\"USDT\",\"is_maker\":true,\"message\":\"\",\"commission_home\":\"0.0\",\"commission_foreign\":\"0.0\",\"home_change\":\"-87.928737\",\"foreign_change\":\"0.0013\",\"free_home_change\":\"0.0\",\"free_foreign_change\":\"0.0013\",\"lock_home_change\":\"-87.92873700\",\"lock_foreign_change\":\"0.0\",\"open_position\":\"0.0\",\"close_position\":\"-0.0013\",\"position\":\"-0.00743\",\"profit\":\"-2.646696\",\"fee\":\"0.0087928737\",\"total_profit\":\"-2.6554888737\",\"log_id\":58}\n",
            "{\"coins\":[{\"symbol\":\"USDT\",\"volume\":\"508.3436507\",\"free\":\"-670.5778000\",\"locked\":\"1178.921450700\"},{\"symbol\":\"BTC\",\"volume\":\"-0.00743\",\"free\":\"-0.09743\",\"locked\":\"0.0\"}]}\n",
            "{\"category\":\"SPOT\",\"symbol\":\"BTCUSDT\",\"create_time\":1712246400000000,\"status\":\"PartiallyFilled\",\"order_id\":\"BreakOutAgent-Us6DmB0010\",\"client_order_id\":\"BreakOutAgent-Us6DmB0010\",\"order_side\":\"Buy\",\"order_type\":\"Limit\",\"order_price\":\"67637.49\",\"order_size\":\"0.02\",\"remain_size\":\"0.01551\",\"transaction_id\":\"BreakOutAgent-0049\",\"update_time\":1712246483133000,\"execute_price\":\"67637.49\",\"execute_size\":\"0.00192\",\"quote_vol\":\"129.8639808\",\"commission\":\"0.0\",\"commission_asset\":\"USDT\",\"is_maker\":true,\"message\":\"\",\"commission_home\":\"0.0\",\"commission_foreign\":\"0.0\",\"home_change\":\"-129.8639808\",\"foreign_change\":\"0.00192\",\"free_home_change\":\"0.0\",\"free_foreign_change\":\"0.00192\",\"lock_home_change\":\"-129.8639808\",\"lock_foreign_change\":\"0.0\",\"open_position\":\"0.0\",\"close_position\":\"-0.00192\",\"position\":\"-0.00551\",\"profit\":\"-3.9089664\",\"fee\":\"0.01298639808\",\"total_profit\":\"-3.92195279808\",\"log_id\":59}\n",
            "{\"coins\":[{\"symbol\":\"USDT\",\"volume\":\"378.4796699\",\"free\":\"-670.5778000\",\"locked\":\"1049.057469900\"},{\"symbol\":\"BTC\",\"volume\":\"-0.00551\",\"free\":\"-0.09551\",\"locked\":\"0.0\"}]}\n",
            "{\"category\":\"SPOT\",\"symbol\":\"BTCUSDT\",\"create_time\":1712246400000000,\"status\":\"PartiallyFilled\",\"order_id\":\"BreakOutAgent-Us6DmB0010\",\"client_order_id\":\"BreakOutAgent-Us6DmB0010\",\"order_side\":\"Buy\",\"order_type\":\"Limit\",\"order_price\":\"67637.49\",\"order_size\":\"0.02\",\"remain_size\":\"0.01474\",\"transaction_id\":\"BreakOutAgent-0050\",\"update_time\":1712246483310000,\"execute_price\":\"67637.49\",\"execute_size\":\"0.00077\",\"quote_vol\":\"52.0808673\",\"commission\":\"0.0\",\"commission_asset\":\"USDT\",\"is_maker\":true,\"message\":\"\",\"commission_home\":\"0.0\",\"commission_foreign\":\"0.0\",\"home_change\":\"-52.0808673\",\"foreign_change\":\"0.00077\",\"free_home_change\":\"0.0\",\"free_foreign_change\":\"0.00077\",\"lock_home_change\":\"-52.080867300\",\"lock_foreign_change\":\"0.0\",\"open_position\":\"0.0\",\"close_position\":\"-0.00077\",\"position\":\"-0.00474\",\"profit\":\"-1.5676584\",\"fee\":\"0.00520808673\",\"total_profit\":\"-1.57286648673\",\"log_id\":60}\n",
            "{\"coins\":[{\"symbol\":\"USDT\",\"volume\":\"326.3988026\",\"free\":\"-670.5778000\",\"locked\":\"996.976602600\"},{\"symbol\":\"BTC\",\"volume\":\"-0.00474\",\"free\":\"-0.09474\",\"locked\":\"0.0\"}]}\n",
            "{\"category\":\"SPOT\",\"symbol\":\"BTCUSDT\",\"create_time\":1712246400000000,\"status\":\"PartiallyFilled\",\"order_id\":\"BreakOutAgent-Us6DmB0010\",\"client_order_id\":\"BreakOutAgent-Us6DmB0010\",\"order_side\":\"Buy\",\"order_type\":\"Limit\",\"order_price\":\"67637.49\",\"order_size\":\"0.02\",\"remain_size\":\"0.01466\",\"transaction_id\":\"BreakOutAgent-0051\",\"update_time\":1712246483921000,\"execute_price\":\"67637.49\",\"execute_size\":\"0.00008\",\"quote_vol\":\"5.4109992\",\"commission\":\"0.0\",\"commission_asset\":\"USDT\",\"is_maker\":true,\"message\":\"\",\"commission_home\":\"0.0\",\"commission_foreign\":\"0.0\",\"home_change\":\"-5.4109992\",\"foreign_change\":\"0.00008\",\"free_home_change\":\"0.0\",\"free_foreign_change\":\"0.00008\",\"lock_home_change\":\"-5.4109992\",\"lock_foreign_change\":\"0.0\",\"open_position\":\"0.0\",\"close_position\":\"-0.00008\",\"position\":\"-0.00466\",\"profit\":\"-0.1628736\",\"fee\":\"0.00054109992\",\"total_profit\":\"-0.16341469992\",\"log_id\":61}\n",
            "{\"coins\":[{\"symbol\":\"USDT\",\"volume\":\"320.9878034\",\"free\":\"-670.5778000\",\"locked\":\"991.565603400\"},{\"symbol\":\"BTC\",\"volume\":\"-0.00466\",\"free\":\"-0.09466\",\"locked\":\"0.0\"}]}\n",
            "{\"category\":\"SPOT\",\"symbol\":\"BTCUSDT\",\"create_time\":1712246400000000,\"status\":\"PartiallyFilled\",\"order_id\":\"BreakOutAgent-Us6DmB0010\",\"client_order_id\":\"BreakOutAgent-Us6DmB0010\",\"order_side\":\"Buy\",\"order_type\":\"Limit\",\"order_price\":\"67637.49\",\"order_size\":\"0.02\",\"remain_size\":\"0.01318\",\"transaction_id\":\"BreakOutAgent-0052\",\"update_time\":1712246483963000,\"execute_price\":\"67637.49\",\"execute_size\":\"0.00148\",\"quote_vol\":\"100.1034852\",\"commission\":\"0.0\",\"commission_asset\":\"USDT\",\"is_maker\":true,\"message\":\"\",\"commission_home\":\"0.0\",\"commission_foreign\":\"0.0\",\"home_change\":\"-100.1034852\",\"foreign_change\":\"0.00148\",\"free_home_change\":\"0.0\",\"free_foreign_change\":\"0.00148\",\"lock_home_change\":\"-100.1034852\",\"lock_foreign_change\":\"0.0\",\"open_position\":\"0.0\",\"close_position\":\"-0.00148\",\"position\":\"-0.00318\",\"profit\":\"-3.0131616\",\"fee\":\"0.01001034852\",\"total_profit\":\"-3.02317194852\",\"log_id\":62}\n",
            "{\"coins\":[{\"symbol\":\"USDT\",\"volume\":\"220.8843182\",\"free\":\"-670.5778000\",\"locked\":\"891.462118200\"},{\"symbol\":\"BTC\",\"volume\":\"-0.00318\",\"free\":\"-0.09318\",\"locked\":\"0.0\"}]}\n",
            "{\"category\":\"SPOT\",\"symbol\":\"BTCUSDT\",\"create_time\":1712246400000000,\"status\":\"Filled\",\"order_id\":\"BreakOutAgent-Us6DmB0010\",\"client_order_id\":\"BreakOutAgent-Us6DmB0010\",\"order_side\":\"Buy\",\"order_type\":\"Limit\",\"order_price\":\"67637.49\",\"order_size\":\"0.02\",\"remain_size\":\"0\",\"transaction_id\":\"BreakOutAgent-0053\",\"update_time\":1712246484393000,\"execute_price\":\"67637.49\",\"execute_size\":\"0.01318\",\"quote_vol\":\"891.4621182\",\"commission\":\"0.0\",\"commission_asset\":\"USDT\",\"is_maker\":true,\"message\":\"\",\"commission_home\":\"0.0\",\"commission_foreign\":\"0.0\",\"home_change\":\"-891.4621182\",\"foreign_change\":\"0.01318\",\"free_home_change\":\"0.0\",\"free_foreign_change\":\"0.01318\",\"lock_home_change\":\"-891.4621182\",\"lock_foreign_change\":\"0.0\",\"open_position\":\"0.01000\",\"close_position\":\"-0.00318\",\"position\":\"0.01000\",\"profit\":\"-6.4742256\",\"fee\":\"0.08914621182\",\"total_profit\":\"-6.56337181182\",\"log_id\":63}\n",
            "{\"coins\":[{\"symbol\":\"USDT\",\"volume\":\"-670.5778000\",\"free\":\"-670.5778000\",\"locked\":\"0.000000000\"},{\"symbol\":\"BTC\",\"volume\":\"0.01000\",\"free\":\"-0.08000\",\"locked\":\"0.0\"}]}\n"
          ]
        }
      ],
      "source": [
        "\n",
        "from rbot import NOW, DAYS\n",
        "from rbot import Runner\n",
        "\n",
        "agent = BreakOutAgent()  # エージェントを作成する。パラメターKはデフォルトの1.6を利用する。\n",
        "\n",
        "runner = Runner()\n",
        "\n",
        "session = runner.back_test(\n",
        "                exchange=exchange,  # 取引所を指定する。\n",
        "                market=market,     # マーケットを指定する。\n",
        "                agent=agent,    # エージェントを指定する。\n",
        "                start_time=NOW()-DAYS(10),   # 開始時間を指定する。0は最初から。10日前から実行を指定。\n",
        "                end_time=0,     # 終了時間を指定する。0は最後まで。\n",
        "                verbose=True    # ログを表示するかどうか\n",
        ")\n"
      ]
    },
    {
      "cell_type": "markdown",
      "metadata": {
        "id": "1MM0nJJbd71Y"
      },
      "source": [
        "### 実行結果の分析\n",
        "\n",
        "`session.log`にLoggerオブジェクトとして結果が保存されています。\n",
        "詳しくは[Loggerのマニュアル](../manual.ipynb)を参照ください。"
      ]
    },
    {
      "cell_type": "code",
      "execution_count": 11,
      "metadata": {
        "id": "HM_NoXPDLlB3"
      },
      "outputs": [],
      "source": [
        "# loggerオブジェクトの取得\n",
        "log = session.log"
      ]
    },
    {
      "cell_type": "code",
      "execution_count": 12,
      "metadata": {
        "id": "dYYLzryfLlB3",
        "outputId": "f59ed3d5-024f-4fa8-e708-2150d764b762",
        "colab": {
          "base_uri": "https://localhost:8080/",
          "height": 637
        }
      },
      "outputs": [
        {
          "output_type": "execute_result",
          "data": {
            "text/plain": [
              "shape: (63, 35)\n",
              "┌────────┬─────────┬────────────┬────────────┬───┬───────────┬───────────┬────────────┬────────────┐\n",
              "│ log_id ┆ symbol  ┆ update_tim ┆ create_tim ┆ … ┆ profit    ┆ fee       ┆ total_prof ┆ sum_profit │\n",
              "│ ---    ┆ ---     ┆ e          ┆ e          ┆   ┆ ---       ┆ ---       ┆ it         ┆ ---        │\n",
              "│ i64    ┆ str     ┆ ---        ┆ ---        ┆   ┆ f64       ┆ f64       ┆ ---        ┆ f64        │\n",
              "│        ┆         ┆ datetime[μ ┆ datetime[μ ┆   ┆           ┆           ┆ f64        ┆            │\n",
              "│        ┆         ┆ s]         ┆ s]         ┆   ┆           ┆           ┆            ┆            │\n",
              "╞════════╪═════════╪════════════╪════════════╪═══╪═══════════╪═══════════╪════════════╪════════════╡\n",
              "│ 1      ┆ BTCUSDT ┆ 2024-03-27 ┆ 2024-03-27 ┆ … ┆ 0.0       ┆ 0.0       ┆ 0.0        ┆ 0.0        │\n",
              "│        ┆         ┆ 10:00:00.0 ┆ 10:00:00   ┆   ┆           ┆           ┆            ┆            │\n",
              "│        ┆         ┆ 01         ┆            ┆   ┆           ┆           ┆            ┆            │\n",
              "│ 2      ┆ BTCUSDT ┆ 2024-03-27 ┆ 2024-03-27 ┆ … ┆ 0.0       ┆ 0.0700676 ┆ -0.070068  ┆ -0.070068  │\n",
              "│        ┆         ┆ 10:00:07.1 ┆ 10:00:00   ┆   ┆           ┆           ┆            ┆            │\n",
              "│        ┆         ┆ 87         ┆            ┆   ┆           ┆           ┆            ┆            │\n",
              "│ 3      ┆ BTCUSDT ┆ 2024-03-27 ┆ 2024-03-27 ┆ … ┆ 0.0       ┆ 0.0       ┆ 0.0        ┆ -0.070068  │\n",
              "│        ┆         ┆ 16:00:00   ┆ 16:00:00   ┆   ┆           ┆           ┆            ┆            │\n",
              "│ 4      ┆ BTCUSDT ┆ 2024-03-27 ┆ 2024-03-27 ┆ … ┆ 0.517548  ┆ 0.002961  ┆ 0.514587   ┆ 0.444519   │\n",
              "│        ┆         ┆ 16:00:04.0 ┆ 16:00:00   ┆   ┆           ┆           ┆            ┆            │\n",
              "│        ┆         ┆ 07         ┆            ┆   ┆           ┆           ┆            ┆            │\n",
              "│ 5      ┆ BTCUSDT ┆ 2024-03-27 ┆ 2024-03-27 ┆ … ┆ 11.518452 ┆ 0.088903  ┆ 11.429549  ┆ 11.874068  │\n",
              "│        ┆         ┆ 16:00:04.0 ┆ 16:00:00   ┆   ┆           ┆           ┆            ┆            │\n",
              "│        ┆         ┆ 34         ┆            ┆   ┆           ┆           ┆            ┆            │\n",
              "│ …      ┆ …       ┆ …          ┆ …          ┆ … ┆ …         ┆ …         ┆ …          ┆ …          │\n",
              "│ 59     ┆ BTCUSDT ┆ 2024-04-04 ┆ 2024-04-04 ┆ … ┆ -3.908966 ┆ 0.012986  ┆ -3.921953  ┆ 15.818214  │\n",
              "│        ┆         ┆ 16:01:23.1 ┆ 16:00:00   ┆   ┆           ┆           ┆            ┆            │\n",
              "│        ┆         ┆ 33         ┆            ┆   ┆           ┆           ┆            ┆            │\n",
              "│ 60     ┆ BTCUSDT ┆ 2024-04-04 ┆ 2024-04-04 ┆ … ┆ -1.567658 ┆ 0.005208  ┆ -1.572866  ┆ 14.245347  │\n",
              "│        ┆         ┆ 16:01:23.3 ┆ 16:00:00   ┆   ┆           ┆           ┆            ┆            │\n",
              "│        ┆         ┆ 10         ┆            ┆   ┆           ┆           ┆            ┆            │\n",
              "│ 61     ┆ BTCUSDT ┆ 2024-04-04 ┆ 2024-04-04 ┆ … ┆ -0.162874 ┆ 0.000541  ┆ -0.163415  ┆ 14.081932  │\n",
              "│        ┆         ┆ 16:01:23.9 ┆ 16:00:00   ┆   ┆           ┆           ┆            ┆            │\n",
              "│        ┆         ┆ 21         ┆            ┆   ┆           ┆           ┆            ┆            │\n",
              "│ 62     ┆ BTCUSDT ┆ 2024-04-04 ┆ 2024-04-04 ┆ … ┆ -3.013162 ┆ 0.01001   ┆ -3.023172  ┆ 11.05876   │\n",
              "│        ┆         ┆ 16:01:23.9 ┆ 16:00:00   ┆   ┆           ┆           ┆            ┆            │\n",
              "│        ┆         ┆ 63         ┆            ┆   ┆           ┆           ┆            ┆            │\n",
              "│ 63     ┆ BTCUSDT ┆ 2024-04-04 ┆ 2024-04-04 ┆ … ┆ -6.474226 ┆ 0.089146  ┆ -6.563372  ┆ 4.495389   │\n",
              "│        ┆         ┆ 16:01:24.3 ┆ 16:00:00   ┆   ┆           ┆           ┆            ┆            │\n",
              "│        ┆         ┆ 93         ┆            ┆   ┆           ┆           ┆            ┆            │\n",
              "└────────┴─────────┴────────────┴────────────┴───┴───────────┴───────────┴────────────┴────────────┘"
            ],
            "text/html": [
              "<div><style>\n",
              ".dataframe > thead > tr,\n",
              ".dataframe > tbody > tr {\n",
              "  text-align: right;\n",
              "  white-space: pre-wrap;\n",
              "}\n",
              "</style>\n",
              "<small>shape: (63, 35)</small><table border=\"1\" class=\"dataframe\"><thead><tr><th>log_id</th><th>symbol</th><th>update_time</th><th>create_time</th><th>status</th><th>order_id</th><th>client_order_id</th><th>order_side</th><th>order_type</th><th>order_price</th><th>order_size</th><th>remain_size</th><th>transaction_id</th><th>execute_price</th><th>execute_size</th><th>quote_vol</th><th>commission</th><th>commission_asset</th><th>is_maker</th><th>message</th><th>commission_home</th><th>commission_foreign</th><th>home_change</th><th>foreign_change</th><th>free_home_change</th><th>free_foreign_change</th><th>lock_home_change</th><th>lock_foreign_change</th><th>open_position</th><th>close_position</th><th>position</th><th>profit</th><th>fee</th><th>total_profit</th><th>sum_profit</th></tr><tr><td>i64</td><td>str</td><td>datetime[μs]</td><td>datetime[μs]</td><td>str</td><td>str</td><td>str</td><td>str</td><td>str</td><td>f64</td><td>f64</td><td>f64</td><td>str</td><td>f64</td><td>f64</td><td>f64</td><td>f64</td><td>str</td><td>bool</td><td>str</td><td>f64</td><td>f64</td><td>f64</td><td>f64</td><td>f64</td><td>f64</td><td>f64</td><td>f64</td><td>f64</td><td>f64</td><td>f64</td><td>f64</td><td>f64</td><td>f64</td><td>f64</td></tr></thead><tbody><tr><td>1</td><td>&quot;BTCUSDT&quot;</td><td>2024-03-27 10:00:00.001</td><td>2024-03-27 10:00:00</td><td>&quot;New&quot;</td><td>&quot;BreakOutAgent-Us6DmB0001&quot;</td><td>&quot;BreakOutAgent-Us6DmB0001&quot;</td><td>&quot;Sell&quot;</td><td>&quot;Limit&quot;</td><td>70067.6</td><td>0.01</td><td>0.01</td><td>&quot;&quot;</td><td>0.0</td><td>0.0</td><td>0.0</td><td>0.0</td><td>&quot;USDT&quot;</td><td>true</td><td>&quot;&quot;</td><td>0.0</td><td>0.0</td><td>0.0</td><td>0.0</td><td>0.0</td><td>-0.01</td><td>0.0</td><td>0.01</td><td>0.0</td><td>0.0</td><td>0.0</td><td>0.0</td><td>0.0</td><td>0.0</td><td>0.0</td></tr><tr><td>2</td><td>&quot;BTCUSDT&quot;</td><td>2024-03-27 10:00:07.187</td><td>2024-03-27 10:00:00</td><td>&quot;Filled&quot;</td><td>&quot;BreakOutAgent-Us6DmB0001&quot;</td><td>&quot;BreakOutAgent-Us6DmB0001&quot;</td><td>&quot;Sell&quot;</td><td>&quot;Limit&quot;</td><td>70067.6</td><td>0.01</td><td>0.0</td><td>&quot;BreakOutAgent-0001&quot;</td><td>70067.6</td><td>0.01</td><td>700.676</td><td>0.0</td><td>&quot;USDT&quot;</td><td>true</td><td>&quot;&quot;</td><td>0.0</td><td>0.0</td><td>700.676</td><td>-0.01</td><td>700.676</td><td>-0.01</td><td>0.0</td><td>-0.01</td><td>-0.01</td><td>0.0</td><td>-0.01</td><td>0.0</td><td>0.0700676</td><td>-0.070068</td><td>-0.070068</td></tr><tr><td>3</td><td>&quot;BTCUSDT&quot;</td><td>2024-03-27 16:00:00</td><td>2024-03-27 16:00:00</td><td>&quot;New&quot;</td><td>&quot;BreakOutAgent-Us6DmB0002&quot;</td><td>&quot;BreakOutAgent-Us6DmB0002&quot;</td><td>&quot;Buy&quot;</td><td>&quot;Limit&quot;</td><td>68864.0</td><td>0.02</td><td>0.02</td><td>&quot;&quot;</td><td>0.0</td><td>0.0</td><td>0.0</td><td>0.0</td><td>&quot;USDT&quot;</td><td>true</td><td>&quot;&quot;</td><td>0.0</td><td>0.0</td><td>0.0</td><td>0.0</td><td>-1377.28</td><td>0.0</td><td>1377.28</td><td>0.0</td><td>0.0</td><td>0.0</td><td>-0.01</td><td>0.0</td><td>0.0</td><td>0.0</td><td>-0.070068</td></tr><tr><td>4</td><td>&quot;BTCUSDT&quot;</td><td>2024-03-27 16:00:04.007</td><td>2024-03-27 16:00:00</td><td>&quot;PartiallyFilled&quot;</td><td>&quot;BreakOutAgent-Us6DmB0002&quot;</td><td>&quot;BreakOutAgent-Us6DmB0002&quot;</td><td>&quot;Buy&quot;</td><td>&quot;Limit&quot;</td><td>68864.0</td><td>0.02</td><td>0.01957</td><td>&quot;BreakOutAgent-0002&quot;</td><td>68864.0</td><td>0.00043</td><td>29.61152</td><td>0.0</td><td>&quot;USDT&quot;</td><td>true</td><td>&quot;&quot;</td><td>0.0</td><td>0.0</td><td>-29.61152</td><td>0.00043</td><td>0.0</td><td>0.00043</td><td>-29.61152</td><td>0.0</td><td>0.0</td><td>-0.00043</td><td>-0.00957</td><td>0.517548</td><td>0.002961</td><td>0.514587</td><td>0.444519</td></tr><tr><td>5</td><td>&quot;BTCUSDT&quot;</td><td>2024-03-27 16:00:04.034</td><td>2024-03-27 16:00:00</td><td>&quot;PartiallyFilled&quot;</td><td>&quot;BreakOutAgent-Us6DmB0002&quot;</td><td>&quot;BreakOutAgent-Us6DmB0002&quot;</td><td>&quot;Buy&quot;</td><td>&quot;Limit&quot;</td><td>68864.0</td><td>0.02</td><td>0.00666</td><td>&quot;BreakOutAgent-0003&quot;</td><td>68864.0</td><td>0.01291</td><td>889.03424</td><td>0.0</td><td>&quot;USDT&quot;</td><td>true</td><td>&quot;&quot;</td><td>0.0</td><td>0.0</td><td>-889.03424</td><td>0.01291</td><td>0.0</td><td>0.01291</td><td>-889.03424</td><td>0.0</td><td>0.00334</td><td>-0.00957</td><td>0.00334</td><td>11.518452</td><td>0.088903</td><td>11.429549</td><td>11.874068</td></tr><tr><td>&hellip;</td><td>&hellip;</td><td>&hellip;</td><td>&hellip;</td><td>&hellip;</td><td>&hellip;</td><td>&hellip;</td><td>&hellip;</td><td>&hellip;</td><td>&hellip;</td><td>&hellip;</td><td>&hellip;</td><td>&hellip;</td><td>&hellip;</td><td>&hellip;</td><td>&hellip;</td><td>&hellip;</td><td>&hellip;</td><td>&hellip;</td><td>&hellip;</td><td>&hellip;</td><td>&hellip;</td><td>&hellip;</td><td>&hellip;</td><td>&hellip;</td><td>&hellip;</td><td>&hellip;</td><td>&hellip;</td><td>&hellip;</td><td>&hellip;</td><td>&hellip;</td><td>&hellip;</td><td>&hellip;</td><td>&hellip;</td><td>&hellip;</td></tr><tr><td>59</td><td>&quot;BTCUSDT&quot;</td><td>2024-04-04 16:01:23.133</td><td>2024-04-04 16:00:00</td><td>&quot;PartiallyFilled&quot;</td><td>&quot;BreakOutAgent-Us6DmB0010&quot;</td><td>&quot;BreakOutAgent-Us6DmB0010&quot;</td><td>&quot;Buy&quot;</td><td>&quot;Limit&quot;</td><td>67637.49</td><td>0.02</td><td>0.01551</td><td>&quot;BreakOutAgent-0049&quot;</td><td>67637.49</td><td>0.00192</td><td>129.863981</td><td>0.0</td><td>&quot;USDT&quot;</td><td>true</td><td>&quot;&quot;</td><td>0.0</td><td>0.0</td><td>-129.863981</td><td>0.00192</td><td>0.0</td><td>0.00192</td><td>-129.863981</td><td>0.0</td><td>0.0</td><td>-0.00192</td><td>-0.00551</td><td>-3.908966</td><td>0.012986</td><td>-3.921953</td><td>15.818214</td></tr><tr><td>60</td><td>&quot;BTCUSDT&quot;</td><td>2024-04-04 16:01:23.310</td><td>2024-04-04 16:00:00</td><td>&quot;PartiallyFilled&quot;</td><td>&quot;BreakOutAgent-Us6DmB0010&quot;</td><td>&quot;BreakOutAgent-Us6DmB0010&quot;</td><td>&quot;Buy&quot;</td><td>&quot;Limit&quot;</td><td>67637.49</td><td>0.02</td><td>0.01474</td><td>&quot;BreakOutAgent-0050&quot;</td><td>67637.49</td><td>0.00077</td><td>52.080867</td><td>0.0</td><td>&quot;USDT&quot;</td><td>true</td><td>&quot;&quot;</td><td>0.0</td><td>0.0</td><td>-52.080867</td><td>0.00077</td><td>0.0</td><td>0.00077</td><td>-52.080867</td><td>0.0</td><td>0.0</td><td>-0.00077</td><td>-0.00474</td><td>-1.567658</td><td>0.005208</td><td>-1.572866</td><td>14.245347</td></tr><tr><td>61</td><td>&quot;BTCUSDT&quot;</td><td>2024-04-04 16:01:23.921</td><td>2024-04-04 16:00:00</td><td>&quot;PartiallyFilled&quot;</td><td>&quot;BreakOutAgent-Us6DmB0010&quot;</td><td>&quot;BreakOutAgent-Us6DmB0010&quot;</td><td>&quot;Buy&quot;</td><td>&quot;Limit&quot;</td><td>67637.49</td><td>0.02</td><td>0.01466</td><td>&quot;BreakOutAgent-0051&quot;</td><td>67637.49</td><td>0.00008</td><td>5.4109992</td><td>0.0</td><td>&quot;USDT&quot;</td><td>true</td><td>&quot;&quot;</td><td>0.0</td><td>0.0</td><td>-5.410999</td><td>0.00008</td><td>0.0</td><td>0.00008</td><td>-5.410999</td><td>0.0</td><td>0.0</td><td>-0.00008</td><td>-0.00466</td><td>-0.162874</td><td>0.000541</td><td>-0.163415</td><td>14.081932</td></tr><tr><td>62</td><td>&quot;BTCUSDT&quot;</td><td>2024-04-04 16:01:23.963</td><td>2024-04-04 16:00:00</td><td>&quot;PartiallyFilled&quot;</td><td>&quot;BreakOutAgent-Us6DmB0010&quot;</td><td>&quot;BreakOutAgent-Us6DmB0010&quot;</td><td>&quot;Buy&quot;</td><td>&quot;Limit&quot;</td><td>67637.49</td><td>0.02</td><td>0.01318</td><td>&quot;BreakOutAgent-0052&quot;</td><td>67637.49</td><td>0.00148</td><td>100.103485</td><td>0.0</td><td>&quot;USDT&quot;</td><td>true</td><td>&quot;&quot;</td><td>0.0</td><td>0.0</td><td>-100.103485</td><td>0.00148</td><td>0.0</td><td>0.00148</td><td>-100.103485</td><td>0.0</td><td>0.0</td><td>-0.00148</td><td>-0.00318</td><td>-3.013162</td><td>0.01001</td><td>-3.023172</td><td>11.05876</td></tr><tr><td>63</td><td>&quot;BTCUSDT&quot;</td><td>2024-04-04 16:01:24.393</td><td>2024-04-04 16:00:00</td><td>&quot;Filled&quot;</td><td>&quot;BreakOutAgent-Us6DmB0010&quot;</td><td>&quot;BreakOutAgent-Us6DmB0010&quot;</td><td>&quot;Buy&quot;</td><td>&quot;Limit&quot;</td><td>67637.49</td><td>0.02</td><td>0.0</td><td>&quot;BreakOutAgent-0053&quot;</td><td>67637.49</td><td>0.01318</td><td>891.462118</td><td>0.0</td><td>&quot;USDT&quot;</td><td>true</td><td>&quot;&quot;</td><td>0.0</td><td>0.0</td><td>-891.462118</td><td>0.01318</td><td>0.0</td><td>0.01318</td><td>-891.462118</td><td>0.0</td><td>0.01</td><td>-0.00318</td><td>0.01</td><td>-6.474226</td><td>0.089146</td><td>-6.563372</td><td>4.495389</td></tr></tbody></table></div>"
            ]
          },
          "metadata": {},
          "execution_count": 12
        }
      ],
      "source": [
        "import polars as pl\n",
        "pl.Config(fmt_str_lengths=50)\n",
        "\n",
        "# オーダログの表示\n",
        "orders = log.orders\n",
        "orders"
      ]
    },
    {
      "cell_type": "markdown",
      "metadata": {
        "id": "IULVrsPfLlB3"
      },
      "source": [
        "## 6.結果分析\n"
      ]
    },
    {
      "cell_type": "code",
      "execution_count": 13,
      "metadata": {
        "id": "migWcSoILlB3",
        "outputId": "cc4c1254-20e8-4e21-b3cc-953255454622",
        "colab": {
          "base_uri": "https://localhost:8080/"
        }
      },
      "outputs": [
        {
          "output_type": "execute_result",
          "data": {
            "text/plain": [
              "4.49538862"
            ]
          },
          "metadata": {},
          "execution_count": 13
        }
      ],
      "source": [
        "# 損益結果\n",
        "orders['sum_profit'][-1]"
      ]
    },
    {
      "cell_type": "code",
      "execution_count": 14,
      "metadata": {
        "id": "Obf7ykXjLlB3",
        "outputId": "b4ff77fd-3def-4859-a079-d06f95949dd3",
        "colab": {
          "base_uri": "https://localhost:8080/"
        }
      },
      "outputs": [
        {
          "output_type": "execute_result",
          "data": {
            "text/plain": [
              "28.52546674"
            ]
          },
          "metadata": {},
          "execution_count": 14
        }
      ],
      "source": [
        "# 利益ピーク\n",
        "orders['sum_profit'].max()"
      ]
    },
    {
      "cell_type": "code",
      "execution_count": 15,
      "metadata": {
        "id": "LYtw97mTLlB3",
        "outputId": "c5477537-4c09-4a7b-9054-a7ca64b872ab",
        "colab": {
          "base_uri": "https://localhost:8080/"
        }
      },
      "outputs": [
        {
          "output_type": "execute_result",
          "data": {
            "text/plain": [
              "-7.97694924"
            ]
          },
          "metadata": {},
          "execution_count": 15
        }
      ],
      "source": [
        "# 利益最小\n",
        "orders['sum_profit'].min()"
      ]
    },
    {
      "cell_type": "code",
      "execution_count": 16,
      "metadata": {
        "id": "V5mbRINNLlB3",
        "outputId": "54fa2cbe-226e-4fce-e992-ad3d49b69904",
        "colab": {
          "base_uri": "https://localhost:8080/"
        }
      },
      "outputs": [
        {
          "output_type": "execute_result",
          "data": {
            "text/plain": [
              "16.74830795942"
            ]
          },
          "metadata": {},
          "execution_count": 16
        }
      ],
      "source": [
        "# １回の取引の最大利益\n",
        "orders['total_profit'].max()"
      ]
    },
    {
      "cell_type": "code",
      "execution_count": 17,
      "metadata": {
        "id": "KO-czle-LlB3",
        "outputId": "579fd2f5-f1f3-4e0b-b7d9-3eadf04f454e",
        "colab": {
          "base_uri": "https://localhost:8080/"
        }
      },
      "outputs": [
        {
          "output_type": "execute_result",
          "data": {
            "text/plain": [
              "-6.56337181182"
            ]
          },
          "metadata": {},
          "execution_count": 17
        }
      ],
      "source": [
        "# １回の取引の最大損失\n",
        "orders['total_profit'].min()"
      ]
    },
    {
      "cell_type": "code",
      "execution_count": 18,
      "metadata": {
        "id": "SDPbg05VLlB4",
        "outputId": "f7f75cea-ed3d-4b04-ced1-2b2034f41553",
        "colab": {
          "base_uri": "https://localhost:8080/",
          "height": 322
        }
      },
      "outputs": [
        {
          "output_type": "stream",
          "name": "stderr",
          "text": [
            "<ipython-input-18-75c86f370cf8>:2: DeprecationWarning: `count` is deprecated. It has been renamed to `len`.\n",
            "  orders.group_by(['order_side', 'status']).count()\n"
          ]
        },
        {
          "output_type": "execute_result",
          "data": {
            "text/plain": [
              "shape: (6, 3)\n",
              "┌────────────┬─────────────────┬───────┐\n",
              "│ order_side ┆ status          ┆ count │\n",
              "│ ---        ┆ ---             ┆ ---   │\n",
              "│ str        ┆ str             ┆ u32   │\n",
              "╞════════════╪═════════════════╪═══════╡\n",
              "│ Buy        ┆ New             ┆ 5     │\n",
              "│ Buy        ┆ PartiallyFilled ┆ 29    │\n",
              "│ Buy        ┆ Filled          ┆ 5     │\n",
              "│ Sell       ┆ New             ┆ 5     │\n",
              "│ Sell       ┆ Filled          ┆ 5     │\n",
              "│ Sell       ┆ PartiallyFilled ┆ 14    │\n",
              "└────────────┴─────────────────┴───────┘"
            ],
            "text/html": [
              "<div><style>\n",
              ".dataframe > thead > tr,\n",
              ".dataframe > tbody > tr {\n",
              "  text-align: right;\n",
              "  white-space: pre-wrap;\n",
              "}\n",
              "</style>\n",
              "<small>shape: (6, 3)</small><table border=\"1\" class=\"dataframe\"><thead><tr><th>order_side</th><th>status</th><th>count</th></tr><tr><td>str</td><td>str</td><td>u32</td></tr></thead><tbody><tr><td>&quot;Buy&quot;</td><td>&quot;New&quot;</td><td>5</td></tr><tr><td>&quot;Buy&quot;</td><td>&quot;PartiallyFilled&quot;</td><td>29</td></tr><tr><td>&quot;Buy&quot;</td><td>&quot;Filled&quot;</td><td>5</td></tr><tr><td>&quot;Sell&quot;</td><td>&quot;New&quot;</td><td>5</td></tr><tr><td>&quot;Sell&quot;</td><td>&quot;Filled&quot;</td><td>5</td></tr><tr><td>&quot;Sell&quot;</td><td>&quot;PartiallyFilled&quot;</td><td>14</td></tr></tbody></table></div>"
            ]
          },
          "metadata": {},
          "execution_count": 18
        }
      ],
      "source": [
        "# オーダー状況分析\n",
        "orders.group_by(['order_side', 'status']).count()"
      ]
    },
    {
      "cell_type": "code",
      "execution_count": 19,
      "metadata": {
        "id": "Qsta9FalLlB4",
        "outputId": "665dd3de-4354-42a3-808f-3b66009267d9",
        "colab": {
          "base_uri": "https://localhost:8080/",
          "height": 585
        }
      },
      "outputs": [
        {
          "output_type": "execute_result",
          "data": {
            "text/plain": [
              "shape: (10, 9)\n",
              "┌────────────┬─────────┬────────────┬────────┬───┬────────────┬────────────┬───────────┬───────────┐\n",
              "│ order_id   ┆ symbol  ┆ order_side ┆ status ┆ … ┆ order_size ┆ execute_si ┆ update_ti ┆ total_pro │\n",
              "│ ---        ┆ ---     ┆ ---        ┆ ---    ┆   ┆ ---        ┆ ze         ┆ me        ┆ fit       │\n",
              "│ str        ┆ str     ┆ str        ┆ str    ┆   ┆ f64        ┆ ---        ┆ ---       ┆ ---       │\n",
              "│            ┆         ┆            ┆        ┆   ┆            ┆ f64        ┆ datetime[ ┆ f64       │\n",
              "│            ┆         ┆            ┆        ┆   ┆            ┆            ┆ μs]       ┆           │\n",
              "╞════════════╪═════════╪════════════╪════════╪═══╪════════════╪════════════╪═══════════╪═══════════╡\n",
              "│ BreakOutAg ┆ BTCUSDT ┆ Sell       ┆ Filled ┆ … ┆ 0.01       ┆ 0.01       ┆ 2024-03-2 ┆ -0.070068 │\n",
              "│ ent-Us6DmB ┆         ┆            ┆        ┆   ┆            ┆            ┆ 7 10:00:0 ┆           │\n",
              "│ 0001       ┆         ┆            ┆        ┆   ┆            ┆            ┆ 7.187     ┆           │\n",
              "│ BreakOutAg ┆ BTCUSDT ┆ Buy        ┆ Filled ┆ … ┆ 0.02       ┆ 0.02       ┆ 2024-03-2 ┆ 11.898272 │\n",
              "│ ent-Us6DmB ┆         ┆            ┆        ┆   ┆            ┆            ┆ 7 16:00:0 ┆           │\n",
              "│ 0002       ┆         ┆            ┆        ┆   ┆            ┆            ┆ 4.034     ┆           │\n",
              "│ BreakOutAg ┆ BTCUSDT ┆ Sell       ┆ Filled ┆ … ┆ 0.02       ┆ 0.02       ┆ 2024-03-2 ┆ -1.87728  │\n",
              "│ ent-Us6DmB ┆         ┆            ┆        ┆   ┆            ┆            ┆ 7 18:00:0 ┆           │\n",
              "│ 0003       ┆         ┆            ┆        ┆   ┆            ┆            ┆ 5.396     ┆           │\n",
              "│ BreakOutAg ┆ BTCUSDT ┆ Buy        ┆ Filled ┆ … ┆ 0.02       ┆ 0.02       ┆ 2024-03-3 ┆ -11.66138 │\n",
              "│ ent-Us6DmB ┆         ┆            ┆        ┆   ┆            ┆            ┆ 0 08:00:1 ┆ 4         │\n",
              "│ 0004       ┆         ┆            ┆        ┆   ┆            ┆            ┆ 1.338     ┆           │\n",
              "│ BreakOutAg ┆ BTCUSDT ┆ Sell       ┆ Filled ┆ … ┆ 0.02       ┆ 0.02       ┆ 2024-03-3 ┆ -1.235465 │\n",
              "│ ent-Us6DmB ┆         ┆            ┆        ┆   ┆            ┆            ┆ 0 22:04:5 ┆           │\n",
              "│ 0005       ┆         ┆            ┆        ┆   ┆            ┆            ┆ 9.989     ┆           │\n",
              "│ BreakOutAg ┆ BTCUSDT ┆ Buy        ┆ Filled ┆ … ┆ 0.02       ┆ 0.02       ┆ 2024-03-3 ┆ -1.880113 │\n",
              "│ ent-Us6DmB ┆         ┆            ┆        ┆   ┆            ┆            ┆ 1 04:02:1 ┆           │\n",
              "│ 0006       ┆         ┆            ┆        ┆   ┆            ┆            ┆ 9.781     ┆           │\n",
              "│ BreakOutAg ┆ BTCUSDT ┆ Sell       ┆ Filled ┆ … ┆ 0.02       ┆ 0.02       ┆ 2024-04-0 ┆ -3.150911 │\n",
              "│ ent-Us6DmB ┆         ┆            ┆        ┆   ┆            ┆            ┆ 1 09:14:1 ┆           │\n",
              "│ 0007       ┆         ┆            ┆        ┆   ┆            ┆            ┆ 5.476     ┆           │\n",
              "│ BreakOutAg ┆ BTCUSDT ┆ Buy        ┆ Filled ┆ … ┆ 0.02       ┆ 0.02       ┆ 2024-04-0 ┆ 36.502416 │\n",
              "│ ent-Us6DmB ┆         ┆            ┆        ┆   ┆            ┆            ┆ 3 18:00:0 ┆           │\n",
              "│ 0008       ┆         ┆            ┆        ┆   ┆            ┆            ┆ 4.462     ┆           │\n",
              "│ BreakOutAg ┆ BTCUSDT ┆ Sell       ┆ Filled ┆ … ┆ 0.02       ┆ 0.02       ┆ 2024-04-0 ┆ -3.535603 │\n",
              "│ ent-Us6DmB ┆         ┆            ┆        ┆   ┆            ┆            ┆ 4 06:00:1 ┆           │\n",
              "│ 0009       ┆         ┆            ┆        ┆   ┆            ┆            ┆ 9.666     ┆           │\n",
              "│ BreakOutAg ┆ BTCUSDT ┆ Buy        ┆ Filled ┆ … ┆ 0.02       ┆ 0.02       ┆ 2024-04-0 ┆ -20.49447 │\n",
              "│ ent-Us6DmB ┆         ┆            ┆        ┆   ┆            ┆            ┆ 4 16:01:2 ┆ 5         │\n",
              "│ 0010       ┆         ┆            ┆        ┆   ┆            ┆            ┆ 4.393     ┆           │\n",
              "└────────────┴─────────┴────────────┴────────┴───┴────────────┴────────────┴───────────┴───────────┘"
            ],
            "text/html": [
              "<div><style>\n",
              ".dataframe > thead > tr,\n",
              ".dataframe > tbody > tr {\n",
              "  text-align: right;\n",
              "  white-space: pre-wrap;\n",
              "}\n",
              "</style>\n",
              "<small>shape: (10, 9)</small><table border=\"1\" class=\"dataframe\"><thead><tr><th>order_id</th><th>symbol</th><th>order_side</th><th>status</th><th>order_price</th><th>order_size</th><th>execute_size</th><th>update_time</th><th>total_profit</th></tr><tr><td>str</td><td>str</td><td>str</td><td>str</td><td>f64</td><td>f64</td><td>f64</td><td>datetime[μs]</td><td>f64</td></tr></thead><tbody><tr><td>&quot;BreakOutAgent-Us6DmB0001&quot;</td><td>&quot;BTCUSDT&quot;</td><td>&quot;Sell&quot;</td><td>&quot;Filled&quot;</td><td>70067.6</td><td>0.01</td><td>0.01</td><td>2024-03-27 10:00:07.187</td><td>-0.070068</td></tr><tr><td>&quot;BreakOutAgent-Us6DmB0002&quot;</td><td>&quot;BTCUSDT&quot;</td><td>&quot;Buy&quot;</td><td>&quot;Filled&quot;</td><td>68864.0</td><td>0.02</td><td>0.02</td><td>2024-03-27 16:00:04.034</td><td>11.898272</td></tr><tr><td>&quot;BreakOutAgent-Us6DmB0003&quot;</td><td>&quot;BTCUSDT&quot;</td><td>&quot;Sell&quot;</td><td>&quot;Filled&quot;</td><td>68690.01</td><td>0.02</td><td>0.02</td><td>2024-03-27 18:00:05.396</td><td>-1.87728</td></tr><tr><td>&quot;BreakOutAgent-Us6DmB0004&quot;</td><td>&quot;BTCUSDT&quot;</td><td>&quot;Buy&quot;</td><td>&quot;Filled&quot;</td><td>69842.18</td><td>0.02</td><td>0.02</td><td>2024-03-30 08:00:11.338</td><td>-11.661384</td></tr><tr><td>&quot;BreakOutAgent-Us6DmB0005&quot;</td><td>&quot;BTCUSDT&quot;</td><td>&quot;Sell&quot;</td><td>&quot;Filled&quot;</td><td>69732.58</td><td>0.02</td><td>0.02</td><td>2024-03-30 22:04:59.989</td><td>-1.235465</td></tr><tr><td>&quot;BreakOutAgent-Us6DmB0006&quot;</td><td>&quot;BTCUSDT&quot;</td><td>&quot;Buy&quot;</td><td>&quot;Filled&quot;</td><td>69906.61</td><td>0.02</td><td>0.02</td><td>2024-03-31 04:02:19.781</td><td>-1.880113</td></tr><tr><td>&quot;BreakOutAgent-Us6DmB0007&quot;</td><td>&quot;BTCUSDT&quot;</td><td>&quot;Sell&quot;</td><td>&quot;Filled&quot;</td><td>69605.44</td><td>0.02</td><td>0.02</td><td>2024-04-01 09:14:15.476</td><td>-3.150911</td></tr><tr><td>&quot;BreakOutAgent-Us6DmB0008&quot;</td><td>&quot;BTCUSDT&quot;</td><td>&quot;Buy&quot;</td><td>&quot;Filled&quot;</td><td>65942.01</td><td>0.02</td><td>0.02</td><td>2024-04-03 18:00:04.462</td><td>36.502416</td></tr><tr><td>&quot;BreakOutAgent-Us6DmB0009&quot;</td><td>&quot;BTCUSDT&quot;</td><td>&quot;Sell&quot;</td><td>&quot;Filled&quot;</td><td>65601.57</td><td>0.02</td><td>0.02</td><td>2024-04-04 06:00:19.666</td><td>-3.535603</td></tr><tr><td>&quot;BreakOutAgent-Us6DmB0010&quot;</td><td>&quot;BTCUSDT&quot;</td><td>&quot;Buy&quot;</td><td>&quot;Filled&quot;</td><td>67637.49</td><td>0.02</td><td>0.02</td><td>2024-04-04 16:01:24.393</td><td>-20.494475</td></tr></tbody></table></div>"
            ]
          },
          "metadata": {},
          "execution_count": 19
        }
      ],
      "source": [
        "# オーダーごとに集約\n",
        "group_by_order = orders.group_by(['order_id']).agg(\n",
        "    pl.col('symbol').first(),\n",
        "    pl.col('order_side').first(),\n",
        "    pl.col('status').last(),\n",
        "    pl.col('order_price').first(),\n",
        "    pl.col('order_size').first(),\n",
        "    pl.col('execute_size').sum(),\n",
        "    pl.col('update_time').last(),\n",
        "    pl.col('total_profit').sum()\n",
        ").sort('update_time')\n",
        "\n",
        "\n",
        "group_by_order"
      ]
    },
    {
      "cell_type": "code",
      "execution_count": 20,
      "metadata": {
        "id": "HauciuUnLlB4",
        "outputId": "048801d4-f62a-4d15-bc27-355b74e1c102",
        "colab": {
          "base_uri": "https://localhost:8080/"
        }
      },
      "outputs": [
        {
          "output_type": "stream",
          "name": "stdout",
          "text": [
            "勝ち:2 負け:8 勝率:0.2\n"
          ]
        }
      ],
      "source": [
        "lost = len(group_by_order.filter(pl.col('total_profit') < 0))\n",
        "win = len(group_by_order.filter(pl.col('total_profit') > 0))\n",
        "\n",
        "print(f'勝ち:{win} 負け:{lost} 勝率:{win/(win+lost)}')"
      ]
    },
    {
      "cell_type": "markdown",
      "metadata": {
        "id": "MH29uMtXd71c"
      },
      "source": [
        "## 6. グラフで確認"
      ]
    },
    {
      "cell_type": "markdown",
      "metadata": {
        "id": "RHSiAtBpd71c"
      },
      "source": [
        "### まずは該当期間のOHLCV（ローソク足）チャートを書く\n",
        "\n",
        "#### OHLCVデータの作成\n"
      ]
    },
    {
      "cell_type": "code",
      "execution_count": 21,
      "metadata": {
        "id": "YW0VoT5Xd71d"
      },
      "outputs": [],
      "source": [
        "ohlcv = market.ohlcv (\n",
        "    runner.start_timestamp, # runnerの開始時間\n",
        "    runner.last_timestamp,  # runnerの終了時間\n",
        "    60*60*2                 # 2時間足\n",
        ")"
      ]
    },
    {
      "cell_type": "code",
      "execution_count": 22,
      "metadata": {
        "colab": {
          "base_uri": "https://localhost:8080/",
          "height": 817
        },
        "id": "YPnuvfTGd71d",
        "outputId": "7dc256cc-788d-48bf-e1b3-2be8566acb4c"
      },
      "outputs": [
        {
          "output_type": "display_data",
          "data": {
            "text/html": [
              "<html>\n",
              "<head><meta charset=\"utf-8\" /></head>\n",
              "<body>\n",
              "    <div>            <script src=\"https://cdnjs.cloudflare.com/ajax/libs/mathjax/2.7.5/MathJax.js?config=TeX-AMS-MML_SVG\"></script><script type=\"text/javascript\">if (window.MathJax && window.MathJax.Hub && window.MathJax.Hub.Config) {window.MathJax.Hub.Config({SVG: {font: \"STIX-Web\"}});}</script>                <script type=\"text/javascript\">window.PlotlyConfig = {MathJaxConfig: 'local'};</script>\n",
              "        <script charset=\"utf-8\" src=\"https://cdn.plot.ly/plotly-2.24.1.min.js\"></script>                <div id=\"c8a032e2-8e3c-4282-b6da-a966dcc750de\" class=\"plotly-graph-div\" style=\"height:800px; width:100%;\"></div>            <script type=\"text/javascript\">                                    window.PLOTLYENV=window.PLOTLYENV || {};                                    if (document.getElementById(\"c8a032e2-8e3c-4282-b6da-a966dcc750de\")) {                    Plotly.newPlot(                        \"c8a032e2-8e3c-4282-b6da-a966dcc750de\",                        [{\"name\":\"diff_low\",\"x\":[\"2024-03-26T12:00:00.000000\",\"2024-03-26T14:00:00.000000\",\"2024-03-26T16:00:00.000000\",\"2024-03-26T18:00:00.000000\",\"2024-03-26T20:00:00.000000\",\"2024-03-26T22:00:00.000000\",\"2024-03-27T00:00:00.000000\",\"2024-03-27T02:00:00.000000\",\"2024-03-27T04:00:00.000000\",\"2024-03-27T06:00:00.000000\",\"2024-03-27T08:00:00.000000\",\"2024-03-27T10:00:00.000000\",\"2024-03-27T12:00:00.000000\",\"2024-03-27T14:00:00.000000\",\"2024-03-27T16:00:00.000000\",\"2024-03-27T18:00:00.000000\",\"2024-03-27T20:00:00.000000\",\"2024-03-27T22:00:00.000000\",\"2024-03-28T00:00:00.000000\",\"2024-03-28T02:00:00.000000\",\"2024-03-28T04:00:00.000000\",\"2024-03-28T06:00:00.000000\",\"2024-03-28T08:00:00.000000\",\"2024-03-28T10:00:00.000000\",\"2024-03-28T12:00:00.000000\",\"2024-03-28T14:00:00.000000\",\"2024-03-28T16:00:00.000000\",\"2024-03-28T18:00:00.000000\",\"2024-03-28T20:00:00.000000\",\"2024-03-28T22:00:00.000000\",\"2024-03-29T00:00:00.000000\",\"2024-03-29T02:00:00.000000\",\"2024-03-29T04:00:00.000000\",\"2024-03-29T06:00:00.000000\",\"2024-03-29T08:00:00.000000\",\"2024-03-29T10:00:00.000000\",\"2024-03-29T12:00:00.000000\",\"2024-03-29T14:00:00.000000\",\"2024-03-29T16:00:00.000000\",\"2024-03-29T18:00:00.000000\",\"2024-03-29T20:00:00.000000\",\"2024-03-29T22:00:00.000000\",\"2024-03-30T00:00:00.000000\",\"2024-03-30T02:00:00.000000\",\"2024-03-30T04:00:00.000000\",\"2024-03-30T06:00:00.000000\",\"2024-03-30T08:00:00.000000\",\"2024-03-30T10:00:00.000000\",\"2024-03-30T12:00:00.000000\",\"2024-03-30T14:00:00.000000\",\"2024-03-30T16:00:00.000000\",\"2024-03-30T18:00:00.000000\",\"2024-03-30T20:00:00.000000\",\"2024-03-30T22:00:00.000000\",\"2024-03-31T00:00:00.000000\",\"2024-03-31T02:00:00.000000\",\"2024-03-31T04:00:00.000000\",\"2024-03-31T06:00:00.000000\",\"2024-03-31T08:00:00.000000\",\"2024-03-31T10:00:00.000000\",\"2024-03-31T12:00:00.000000\",\"2024-03-31T14:00:00.000000\",\"2024-03-31T16:00:00.000000\",\"2024-03-31T18:00:00.000000\",\"2024-03-31T20:00:00.000000\",\"2024-03-31T22:00:00.000000\",\"2024-04-01T00:00:00.000000\",\"2024-04-01T02:00:00.000000\",\"2024-04-01T04:00:00.000000\",\"2024-04-01T06:00:00.000000\",\"2024-04-01T08:00:00.000000\",\"2024-04-01T10:00:00.000000\",\"2024-04-01T12:00:00.000000\",\"2024-04-01T14:00:00.000000\",\"2024-04-01T16:00:00.000000\",\"2024-04-01T18:00:00.000000\",\"2024-04-01T20:00:00.000000\",\"2024-04-01T22:00:00.000000\",\"2024-04-02T00:00:00.000000\",\"2024-04-02T02:00:00.000000\",\"2024-04-02T04:00:00.000000\",\"2024-04-02T06:00:00.000000\",\"2024-04-02T08:00:00.000000\",\"2024-04-02T10:00:00.000000\",\"2024-04-02T12:00:00.000000\",\"2024-04-02T14:00:00.000000\",\"2024-04-02T16:00:00.000000\",\"2024-04-02T18:00:00.000000\",\"2024-04-02T20:00:00.000000\",\"2024-04-02T22:00:00.000000\",\"2024-04-03T00:00:00.000000\",\"2024-04-03T02:00:00.000000\",\"2024-04-03T04:00:00.000000\",\"2024-04-03T06:00:00.000000\",\"2024-04-03T08:00:00.000000\",\"2024-04-03T10:00:00.000000\",\"2024-04-03T12:00:00.000000\",\"2024-04-03T14:00:00.000000\",\"2024-04-03T16:00:00.000000\",\"2024-04-03T18:00:00.000000\",\"2024-04-03T20:00:00.000000\",\"2024-04-03T22:00:00.000000\",\"2024-04-04T00:00:00.000000\",\"2024-04-04T02:00:00.000000\",\"2024-04-04T04:00:00.000000\",\"2024-04-04T06:00:00.000000\",\"2024-04-04T08:00:00.000000\",\"2024-04-04T10:00:00.000000\",\"2024-04-04T12:00:00.000000\",\"2024-04-04T14:00:00.000000\",\"2024-04-04T16:00:00.000000\",\"2024-04-04T18:00:00.000000\",\"2024-04-04T20:00:00.000000\",\"2024-04-04T22:00:00.000000\"],\"y\":[217.72000000000116,564.2299999999959,623.1600000000035,1109.9900000000052,838.0099999999948,620.5699999999924,75.94000000000233,348.6600000000035,147.99000000000524,151.74000000000524,353.5500000000029,835.0599999999977,319.0,137.60000000000582,575.6900000000023,1357.9800000000105,514.8100000000122,270.00999999999476,22.00999999999476,22.539999999993597,170.0,538.9800000000105,10.0,68.2100000000064,106.58999999999651,228.56000000001222,298.429999999993,195.08000000000175,840.3800000000047,387.1600000000035,178.13999999999942,239.9100000000035,174.5899999999965,515.9399999999878,265.25,434.36999999999534,227.80999999999767,167.72999999999593,290.6900000000023,1417.699999999997,101.3700000000099,82.26999999998952,375.99000000000524,0.00999999999476131,140.52999999999884,226.08000000000175,18.020000000004075,154.72000000000116,40.80999999999767,68.24000000000524,107.75999999999476,222.16999999999825,99.99000000000524,366.0200000000041,274.36999999999534,182.07000000000698,19.179999999993015,278.81999999999243,42.060000000012224,182.18000000000757,153.9499999999971,10.789999999993597,29.820000000006985,296.2700000000041,59.270000000004075,68.6299999999901,383.58000000000175,15.990000000005239,485.88000000000466,298.75,1588.0099999999948,279.47000000000116,429.5899999999965,114.99000000000524,59.30999999999767,1718.520000000004,174.3000000000029,300.0,320.34999999999127,8.029999999998836,609.8099999999977,3391.1199999999953,583.2299999999959,318.41999999999825,709.3000000000029,1005.7400000000052,1034.1100000000006,557.3899999999994,339.98999999999796,221.06000000000495,714.9100000000035,332.7700000000041,970.9300000000003,108.67999999999302,305.8000000000029,25.110000000000582,145.97999999999593,946.5100000000093,424.74000000000524,88.33999999999651,45.80999999999767,500.3799999999974,307.3799999999974,67.63999999999942,139.27999999999884,689.4499999999971,555.489999999998,42.91000000000349,63.58999999999651,164.52999999999884,23.119999999995343,166.44000000000233,121.5,514.9399999999878],\"type\":\"scatter\",\"xaxis\":\"x\",\"yaxis\":\"y\"},{\"name\":\"diff_high\",\"x\":[\"2024-03-26T12:00:00.000000\",\"2024-03-26T14:00:00.000000\",\"2024-03-26T16:00:00.000000\",\"2024-03-26T18:00:00.000000\",\"2024-03-26T20:00:00.000000\",\"2024-03-26T22:00:00.000000\",\"2024-03-27T00:00:00.000000\",\"2024-03-27T02:00:00.000000\",\"2024-03-27T04:00:00.000000\",\"2024-03-27T06:00:00.000000\",\"2024-03-27T08:00:00.000000\",\"2024-03-27T10:00:00.000000\",\"2024-03-27T12:00:00.000000\",\"2024-03-27T14:00:00.000000\",\"2024-03-27T16:00:00.000000\",\"2024-03-27T18:00:00.000000\",\"2024-03-27T20:00:00.000000\",\"2024-03-27T22:00:00.000000\",\"2024-03-28T00:00:00.000000\",\"2024-03-28T02:00:00.000000\",\"2024-03-28T04:00:00.000000\",\"2024-03-28T06:00:00.000000\",\"2024-03-28T08:00:00.000000\",\"2024-03-28T10:00:00.000000\",\"2024-03-28T12:00:00.000000\",\"2024-03-28T14:00:00.000000\",\"2024-03-28T16:00:00.000000\",\"2024-03-28T18:00:00.000000\",\"2024-03-28T20:00:00.000000\",\"2024-03-28T22:00:00.000000\",\"2024-03-29T00:00:00.000000\",\"2024-03-29T02:00:00.000000\",\"2024-03-29T04:00:00.000000\",\"2024-03-29T06:00:00.000000\",\"2024-03-29T08:00:00.000000\",\"2024-03-29T10:00:00.000000\",\"2024-03-29T12:00:00.000000\",\"2024-03-29T14:00:00.000000\",\"2024-03-29T16:00:00.000000\",\"2024-03-29T18:00:00.000000\",\"2024-03-29T20:00:00.000000\",\"2024-03-29T22:00:00.000000\",\"2024-03-30T00:00:00.000000\",\"2024-03-30T02:00:00.000000\",\"2024-03-30T04:00:00.000000\",\"2024-03-30T06:00:00.000000\",\"2024-03-30T08:00:00.000000\",\"2024-03-30T10:00:00.000000\",\"2024-03-30T12:00:00.000000\",\"2024-03-30T14:00:00.000000\",\"2024-03-30T16:00:00.000000\",\"2024-03-30T18:00:00.000000\",\"2024-03-30T20:00:00.000000\",\"2024-03-30T22:00:00.000000\",\"2024-03-31T00:00:00.000000\",\"2024-03-31T02:00:00.000000\",\"2024-03-31T04:00:00.000000\",\"2024-03-31T06:00:00.000000\",\"2024-03-31T08:00:00.000000\",\"2024-03-31T10:00:00.000000\",\"2024-03-31T12:00:00.000000\",\"2024-03-31T14:00:00.000000\",\"2024-03-31T16:00:00.000000\",\"2024-03-31T18:00:00.000000\",\"2024-03-31T20:00:00.000000\",\"2024-03-31T22:00:00.000000\",\"2024-04-01T00:00:00.000000\",\"2024-04-01T02:00:00.000000\",\"2024-04-01T04:00:00.000000\",\"2024-04-01T06:00:00.000000\",\"2024-04-01T08:00:00.000000\",\"2024-04-01T10:00:00.000000\",\"2024-04-01T12:00:00.000000\",\"2024-04-01T14:00:00.000000\",\"2024-04-01T16:00:00.000000\",\"2024-04-01T18:00:00.000000\",\"2024-04-01T20:00:00.000000\",\"2024-04-01T22:00:00.000000\",\"2024-04-02T00:00:00.000000\",\"2024-04-02T02:00:00.000000\",\"2024-04-02T04:00:00.000000\",\"2024-04-02T06:00:00.000000\",\"2024-04-02T08:00:00.000000\",\"2024-04-02T10:00:00.000000\",\"2024-04-02T12:00:00.000000\",\"2024-04-02T14:00:00.000000\",\"2024-04-02T16:00:00.000000\",\"2024-04-02T18:00:00.000000\",\"2024-04-02T20:00:00.000000\",\"2024-04-02T22:00:00.000000\",\"2024-04-03T00:00:00.000000\",\"2024-04-03T02:00:00.000000\",\"2024-04-03T04:00:00.000000\",\"2024-04-03T06:00:00.000000\",\"2024-04-03T08:00:00.000000\",\"2024-04-03T10:00:00.000000\",\"2024-04-03T12:00:00.000000\",\"2024-04-03T14:00:00.000000\",\"2024-04-03T16:00:00.000000\",\"2024-04-03T18:00:00.000000\",\"2024-04-03T20:00:00.000000\",\"2024-04-03T22:00:00.000000\",\"2024-04-04T00:00:00.000000\",\"2024-04-04T02:00:00.000000\",\"2024-04-04T04:00:00.000000\",\"2024-04-04T06:00:00.000000\",\"2024-04-04T08:00:00.000000\",\"2024-04-04T10:00:00.000000\",\"2024-04-04T12:00:00.000000\",\"2024-04-04T14:00:00.000000\",\"2024-04-04T16:00:00.000000\",\"2024-04-04T18:00:00.000000\",\"2024-04-04T20:00:00.000000\",\"2024-04-04T22:00:00.000000\"],\"y\":[217.72000000000116,564.2299999999959,623.1600000000035,1109.9900000000052,838.0099999999948,620.5699999999924,75.94000000000233,348.6600000000035,147.99000000000524,151.74000000000524,353.5500000000029,835.0599999999977,319.0,137.60000000000582,575.6900000000023,1357.9800000000105,514.8100000000122,270.00999999999476,22.00999999999476,22.539999999993597,170.0,538.9800000000105,10.0,68.2100000000064,106.58999999999651,228.56000000001222,298.429999999993,195.08000000000175,840.3800000000047,387.1600000000035,178.13999999999942,239.9100000000035,174.5899999999965,515.9399999999878,265.25,434.36999999999534,227.80999999999767,167.72999999999593,290.6900000000023,1417.699999999997,101.3700000000099,82.26999999998952,375.99000000000524,0.00999999999476131,140.52999999999884,226.08000000000175,18.020000000004075,154.72000000000116,40.80999999999767,68.24000000000524,107.75999999999476,222.16999999999825,99.99000000000524,366.0200000000041,274.36999999999534,182.07000000000698,19.179999999993015,278.81999999999243,42.060000000012224,182.18000000000757,153.9499999999971,10.789999999993597,29.820000000006985,296.2700000000041,59.270000000004075,68.6299999999901,383.58000000000175,15.990000000005239,485.88000000000466,298.75,1588.0099999999948,279.47000000000116,429.5899999999965,114.99000000000524,59.30999999999767,1718.520000000004,174.3000000000029,300.0,320.34999999999127,8.029999999998836,609.8099999999977,3391.1199999999953,583.2299999999959,318.41999999999825,709.3000000000029,1005.7400000000052,1034.1100000000006,557.3899999999994,339.98999999999796,221.06000000000495,714.9100000000035,332.7700000000041,970.9300000000003,108.67999999999302,305.8000000000029,25.110000000000582,145.97999999999593,946.5100000000093,424.74000000000524,88.33999999999651,45.80999999999767,500.3799999999974,307.3799999999974,67.63999999999942,139.27999999999884,689.4499999999971,555.489999999998,42.91000000000349,63.58999999999651,164.52999999999884,23.119999999995343,166.44000000000233,121.5,514.9399999999878],\"type\":\"scatter\",\"xaxis\":\"x\",\"yaxis\":\"y\"},{\"name\":\"range_width\",\"x\":[\"2024-03-26T12:00:00.000000\",\"2024-03-26T14:00:00.000000\",\"2024-03-26T16:00:00.000000\",\"2024-03-26T18:00:00.000000\",\"2024-03-26T20:00:00.000000\",\"2024-03-26T22:00:00.000000\",\"2024-03-27T00:00:00.000000\",\"2024-03-27T02:00:00.000000\",\"2024-03-27T04:00:00.000000\",\"2024-03-27T06:00:00.000000\",\"2024-03-27T08:00:00.000000\",\"2024-03-27T10:00:00.000000\",\"2024-03-27T12:00:00.000000\",\"2024-03-27T14:00:00.000000\",\"2024-03-27T16:00:00.000000\",\"2024-03-27T18:00:00.000000\",\"2024-03-27T20:00:00.000000\",\"2024-03-27T22:00:00.000000\",\"2024-03-28T00:00:00.000000\",\"2024-03-28T02:00:00.000000\",\"2024-03-28T04:00:00.000000\",\"2024-03-28T06:00:00.000000\",\"2024-03-28T08:00:00.000000\",\"2024-03-28T10:00:00.000000\",\"2024-03-28T12:00:00.000000\",\"2024-03-28T14:00:00.000000\",\"2024-03-28T16:00:00.000000\",\"2024-03-28T18:00:00.000000\",\"2024-03-28T20:00:00.000000\",\"2024-03-28T22:00:00.000000\",\"2024-03-29T00:00:00.000000\",\"2024-03-29T02:00:00.000000\",\"2024-03-29T04:00:00.000000\",\"2024-03-29T06:00:00.000000\",\"2024-03-29T08:00:00.000000\",\"2024-03-29T10:00:00.000000\",\"2024-03-29T12:00:00.000000\",\"2024-03-29T14:00:00.000000\",\"2024-03-29T16:00:00.000000\",\"2024-03-29T18:00:00.000000\",\"2024-03-29T20:00:00.000000\",\"2024-03-29T22:00:00.000000\",\"2024-03-30T00:00:00.000000\",\"2024-03-30T02:00:00.000000\",\"2024-03-30T04:00:00.000000\",\"2024-03-30T06:00:00.000000\",\"2024-03-30T08:00:00.000000\",\"2024-03-30T10:00:00.000000\",\"2024-03-30T12:00:00.000000\",\"2024-03-30T14:00:00.000000\",\"2024-03-30T16:00:00.000000\",\"2024-03-30T18:00:00.000000\",\"2024-03-30T20:00:00.000000\",\"2024-03-30T22:00:00.000000\",\"2024-03-31T00:00:00.000000\",\"2024-03-31T02:00:00.000000\",\"2024-03-31T04:00:00.000000\",\"2024-03-31T06:00:00.000000\",\"2024-03-31T08:00:00.000000\",\"2024-03-31T10:00:00.000000\",\"2024-03-31T12:00:00.000000\",\"2024-03-31T14:00:00.000000\",\"2024-03-31T16:00:00.000000\",\"2024-03-31T18:00:00.000000\",\"2024-03-31T20:00:00.000000\",\"2024-03-31T22:00:00.000000\",\"2024-04-01T00:00:00.000000\",\"2024-04-01T02:00:00.000000\",\"2024-04-01T04:00:00.000000\",\"2024-04-01T06:00:00.000000\",\"2024-04-01T08:00:00.000000\",\"2024-04-01T10:00:00.000000\",\"2024-04-01T12:00:00.000000\",\"2024-04-01T14:00:00.000000\",\"2024-04-01T16:00:00.000000\",\"2024-04-01T18:00:00.000000\",\"2024-04-01T20:00:00.000000\",\"2024-04-01T22:00:00.000000\",\"2024-04-02T00:00:00.000000\",\"2024-04-02T02:00:00.000000\",\"2024-04-02T04:00:00.000000\",\"2024-04-02T06:00:00.000000\",\"2024-04-02T08:00:00.000000\",\"2024-04-02T10:00:00.000000\",\"2024-04-02T12:00:00.000000\",\"2024-04-02T14:00:00.000000\",\"2024-04-02T16:00:00.000000\",\"2024-04-02T18:00:00.000000\",\"2024-04-02T20:00:00.000000\",\"2024-04-02T22:00:00.000000\",\"2024-04-03T00:00:00.000000\",\"2024-04-03T02:00:00.000000\",\"2024-04-03T04:00:00.000000\",\"2024-04-03T06:00:00.000000\",\"2024-04-03T08:00:00.000000\",\"2024-04-03T10:00:00.000000\",\"2024-04-03T12:00:00.000000\",\"2024-04-03T14:00:00.000000\",\"2024-04-03T16:00:00.000000\",\"2024-04-03T18:00:00.000000\",\"2024-04-03T20:00:00.000000\",\"2024-04-03T22:00:00.000000\",\"2024-04-04T00:00:00.000000\",\"2024-04-04T02:00:00.000000\",\"2024-04-04T04:00:00.000000\",\"2024-04-04T06:00:00.000000\",\"2024-04-04T08:00:00.000000\",\"2024-04-04T10:00:00.000000\",\"2024-04-04T12:00:00.000000\",\"2024-04-04T14:00:00.000000\",\"2024-04-04T16:00:00.000000\",\"2024-04-04T18:00:00.000000\",\"2024-04-04T20:00:00.000000\",\"2024-04-04T22:00:00.000000\"],\"y\":[1137.627999999997,1065.1008000000008,1068.803200000003,1281.523200000003,1336.2656000000006,1342.6272000000022,1528.0224000000023,1375.5104000000003,1134.7840000000037,1068.038400000003,960.572799999998,826.3295999999997,921.5072000000021,858.5760000000009,838.7584000000032,1356.6143999999995,1600.8128000000027,1703.0144000000041,1735.382400000007,1308.3360000000011,955.7248000000045,832.492799999998,896.4447999999999,880.8160000000009,930.4384000000032,901.6191999999992,893.7376000000024,999.5424000000023,1027.663999999999,1090.1024000000023,1074.5983999999987,849.1168000000064,733.0880000000029,553.9456000000006,557.6031999999983,566.9856000000005,648.9823999999976,696.2431999999984,763.452799999998,907.1679999999983,1142.0031999999983,1138.4159999999963,1012.5087999999942,905.4047999999952,605.4719999999973,559.020799999996,544.7071999999974,587.4239999999991,502.88000000000005,465.6160000000009,456.7424000000023,333.9775999999931,332.13439999999946,340.53760000000244,385.9968000000017,405.63840000000783,420.6304000000004,474.5888000000036,485.48479999999984,590.6111999999965,571.6320000000019,498.8,434.7328000000026,380.24959999999965,439.37919999999923,444.64,622.7487999999989,646.0767999999971,683.7984000000032,735.9839999999991,606.896000000001,1018.2528000000074,1110.1568000000018,1091.296000000001,1130.2751999999955,891.2959999999963,1097.0239999999944,1188.2879999999982,1457.2671999999975,1426.6048,983.161599999997,932.4127999999934,1645.1487999999945,1654.0159999999917,1779.4239999999945,1887.4112000000014,1186.8352000000002,1329.1712000000011,1615.628799999999,1685.436799999997,1600.0160000000033,1456.5152000000003,1173.2415999999969,1230.3391999999994,1211.8976,1023.2671999999952,983.5487999999965,732.012799999998,858.3807999999962,853.0719999999973,1097.5104000000051,1139.987200000002,1040.732800000005,1004.5343999999994,767.4559999999964,688.1247999999952,715.1007999999938,757.9423999999954,841.3664000000038,801.5104000000027,693.5808000000078,863.5776000000023,904.8800000000047,1208.899200000004],\"type\":\"scatter\",\"xaxis\":\"x\",\"yaxis\":\"y\"},{\"name\":\"position\",\"x\":[\"2024-03-27T10:00:00.001000\",\"2024-03-27T10:00:07.187000\",\"2024-03-27T16:00:00.000000\",\"2024-03-27T16:00:04.007000\",\"2024-03-27T16:00:04.034000\",\"2024-03-27T16:00:04.034000\",\"2024-03-27T18:00:00.000000\",\"2024-03-27T18:00:04.051000\",\"2024-03-27T18:00:05.396000\",\"2024-03-30T08:00:00.000000\",\"2024-03-30T08:00:09.205000\",\"2024-03-30T08:00:09.644000\",\"2024-03-30T08:00:09.644000\",\"2024-03-30T08:00:09.990000\",\"2024-03-30T08:00:10.045000\",\"2024-03-30T08:00:10.310000\",\"2024-03-30T08:00:10.336000\",\"2024-03-30T08:00:10.601000\",\"2024-03-30T08:00:10.854000\",\"2024-03-30T08:00:11.338000\",\"2024-03-30T08:00:11.338000\",\"2024-03-30T22:00:00.000000\",\"2024-03-30T22:04:59.569000\",\"2024-03-30T22:04:59.977000\",\"2024-03-30T22:04:59.982000\",\"2024-03-30T22:04:59.982000\",\"2024-03-30T22:04:59.984000\",\"2024-03-30T22:04:59.986000\",\"2024-03-30T22:04:59.988000\",\"2024-03-30T22:04:59.989000\",\"2024-03-31T04:00:00.000000\",\"2024-03-31T04:02:19.359000\",\"2024-03-31T04:02:19.367000\",\"2024-03-31T04:02:19.545000\",\"2024-03-31T04:02:19.767000\",\"2024-03-31T04:02:19.781000\",\"2024-04-01T08:00:00.003000\",\"2024-04-01T09:14:15.218000\",\"2024-04-01T09:14:15.289000\",\"2024-04-01T09:14:15.289000\",\"2024-04-01T09:14:15.328000\",\"2024-04-01T09:14:15.476000\",\"2024-04-03T18:00:00.003000\",\"2024-04-03T18:00:03.636000\",\"2024-04-03T18:00:03.636000\",\"2024-04-03T18:00:03.998000\",\"2024-04-03T18:00:04.273000\",\"2024-04-03T18:00:04.337000\",\"2024-04-03T18:00:04.462000\",\"2024-04-04T06:00:00.000000\",\"2024-04-04T06:00:19.342000\",\"2024-04-04T06:00:19.642000\",\"2024-04-04T06:00:19.666000\",\"2024-04-04T16:00:00.002000\",\"2024-04-04T16:01:22.408000\",\"2024-04-04T16:01:22.491000\",\"2024-04-04T16:01:22.908000\",\"2024-04-04T16:01:22.922000\",\"2024-04-04T16:01:23.133000\",\"2024-04-04T16:01:23.310000\",\"2024-04-04T16:01:23.921000\",\"2024-04-04T16:01:23.963000\",\"2024-04-04T16:01:24.393000\"],\"y\":[0.0,-0.01,-0.01,-0.00957,0.00334,0.01,0.01,0.0099,-0.01,-0.01,-0.00714,-0.00709,-0.00693,-0.0066,-0.00623,-0.00467,-4e-05,0.00032,0.00201,0.00426,0.01,0.01,0.00957,0.00894,0.00826,0.00668,0.0064,-0.00795,-0.00923,-0.01,-0.01,-0.00985,-0.00938,-0.00894,-0.00493,0.01,0.01,0.00973,0.0094,0.00734,-0.0076,-0.01,-0.01,-0.0097,-0.00963,-0.00861,-0.00403,-0.00289,0.01,0.01,0.00958,-0.00929,-0.01,-0.01,-0.00941,-0.00922,-0.00873,-0.00743,-0.00551,-0.00474,-0.00466,-0.00318,0.01],\"type\":\"scatter\",\"xaxis\":\"x2\",\"yaxis\":\"y2\"},{\"name\":\"profit\",\"x\":[\"2024-03-27T10:00:00.001000\",\"2024-03-27T10:00:07.187000\",\"2024-03-27T16:00:00.000000\",\"2024-03-27T16:00:04.007000\",\"2024-03-27T16:00:04.034000\",\"2024-03-27T16:00:04.034000\",\"2024-03-27T18:00:00.000000\",\"2024-03-27T18:00:04.051000\",\"2024-03-27T18:00:05.396000\",\"2024-03-30T08:00:00.000000\",\"2024-03-30T08:00:09.205000\",\"2024-03-30T08:00:09.644000\",\"2024-03-30T08:00:09.644000\",\"2024-03-30T08:00:09.990000\",\"2024-03-30T08:00:10.045000\",\"2024-03-30T08:00:10.310000\",\"2024-03-30T08:00:10.336000\",\"2024-03-30T08:00:10.601000\",\"2024-03-30T08:00:10.854000\",\"2024-03-30T08:00:11.338000\",\"2024-03-30T08:00:11.338000\",\"2024-03-30T22:00:00.000000\",\"2024-03-30T22:04:59.569000\",\"2024-03-30T22:04:59.977000\",\"2024-03-30T22:04:59.982000\",\"2024-03-30T22:04:59.982000\",\"2024-03-30T22:04:59.984000\",\"2024-03-30T22:04:59.986000\",\"2024-03-30T22:04:59.988000\",\"2024-03-30T22:04:59.989000\",\"2024-03-31T04:00:00.000000\",\"2024-03-31T04:02:19.359000\",\"2024-03-31T04:02:19.367000\",\"2024-03-31T04:02:19.545000\",\"2024-03-31T04:02:19.767000\",\"2024-03-31T04:02:19.781000\",\"2024-04-01T08:00:00.003000\",\"2024-04-01T09:14:15.218000\",\"2024-04-01T09:14:15.289000\",\"2024-04-01T09:14:15.289000\",\"2024-04-01T09:14:15.328000\",\"2024-04-01T09:14:15.476000\",\"2024-04-03T18:00:00.003000\",\"2024-04-03T18:00:03.636000\",\"2024-04-03T18:00:03.636000\",\"2024-04-03T18:00:03.998000\",\"2024-04-03T18:00:04.273000\",\"2024-04-03T18:00:04.337000\",\"2024-04-03T18:00:04.462000\",\"2024-04-04T06:00:00.000000\",\"2024-04-04T06:00:19.342000\",\"2024-04-04T06:00:19.642000\",\"2024-04-04T06:00:19.666000\",\"2024-04-04T16:00:00.002000\",\"2024-04-04T16:01:22.408000\",\"2024-04-04T16:01:22.491000\",\"2024-04-04T16:01:22.908000\",\"2024-04-04T16:01:22.922000\",\"2024-04-04T16:01:23.133000\",\"2024-04-04T16:01:23.310000\",\"2024-04-04T16:01:23.921000\",\"2024-04-04T16:01:23.963000\",\"2024-04-04T16:01:24.393000\"],\"y\":[0.0,-0.0700676,-0.0700676,0.444519248,11.874067824,11.8282044,11.8282044,11.8101184999,9.95092438,9.95092438,6.63574331652,6.57778560562,6.3923209307399995,6.0098000388,5.58091297814,3.77263239806,-1.5942516312800006,-1.6428527497600005,-1.6546560781800006,-1.6703705686800006,-1.7104599800000007,-1.7104599800000007,-1.7605864809400007,-1.8340276334800008,-1.9132974489200008,-2.0974831965600007,-2.1301237088000007,-2.9316299611000005,-2.9405557313400004,-2.9459251400000004,-2.9459251400000004,-2.9730782391500004,-3.0581579498200004,-3.1378070406600003,-3.8636998912700005,-4.82603836,-4.82603836,-4.90923360688,-5.0109166864,-5.64566560704,-7.960243934399999,-7.97694924,-7.97694924,-6.8798985002999995,-6.62391999437,-2.8939474793899995,13.85436048003,18.02315329089,28.52546674,28.52546674,28.37972667406,24.99452131147,24.9898636,24.9898636,23.78468018809,23.39657027578,22.39565523877,19.74016636507,15.81821356699,14.24534708026,14.08193238034,11.05876043182,4.49538862],\"type\":\"scatter\",\"xaxis\":\"x3\",\"yaxis\":\"y3\"},{\"close\":[70486.38,71142.23,70693.16,70389.99,70250.0,70066.55,69477.67,70000.68,69988.0,70326.74,70387.99,70475.07,69725.99,70057.61,70220.73,69892.0,68874.0,68680.01,68652.0,68942.0,69470.0,69442.6,69290.0,69714.2,70399.04,70566.0,70647.18,70877.98,71290.39,70791.17,70798.26,70781.81,70780.6,70790.01,70442.23,70180.7,69794.0,69733.74,70142.78,70426.7,69180.0,69404.29,69665.99,69420.0,69850.54,69976.07,69773.99,70006.81,69852.18,70008.31,70183.55,70148.05,70000.0,70036.01,69896.34,69722.08,69582.18,70043.54,69916.61,70345.64,70301.73,70225.32,70369.99,70585.99,70381.13,70509.11,71023.51,70856.0,71280.01,70819.25,70588.01,69167.48,69594.94,69395.0,69460.01,69880.0,68237.16,68750.01,69648.01,69586.0,69649.8,69391.12,66703.98,66764.65,66455.5,66080.75,65622.69,65224.2,64890.0,65608.01,65914.9,65692.78,65463.99,65792.43,66225.79,66077.1,66135.99,66484.58,66059.76,65804.01,65836.02,65952.01,65784.01,65918.71,65963.28,66143.99,65620.01,65591.57,66091.6,66273.37,66353.67,67242.15,67647.99,68849.18,68500.0,67787.91,68487.79],\"high\":[71280.0,71280.0,71194.99,71136.63,70676.2,70499.0,70400.0,70197.05,70305.33,70739.65,70687.73,70519.99,70598.0,70111.0,70359.97,71769.54,70218.08,69406.0,68933.33,69250.0,69637.66,69980.0,69578.81,69939.42,70469.82,70940.29,70962.63,71364.95,71552.06,71320.0,70975.99,70906.5,71074.03,70916.16,70815.8,70538.78,70498.08,70084.01,70318.0,70636.04,70500.0,69591.43,69666.0,69711.06,69916.5,70177.87,70042.19,70321.1,70098.39,70162.79,70183.67,70269.15,70173.02,70280.06,70036.02,69896.35,69834.0,70098.0,70165.86,70460.0,70395.36,70470.0,70426.47,70759.1,70680.0,70666.0,71227.22,71119.93,71366.0,71288.23,70902.8,70648.83,69786.0,69616.65,69799.98,70080.0,69933.93,68784.53,69816.24,69900.0,69876.04,69674.23,69417.23,66940.0,67120.0,66705.08,66280.0,65834.0,66249.83,65750.0,66200.0,66120.0,65933.76,65930.51,66288.88,66478.59,66483.87,66642.36,66519.79,66220.0,66903.63,66550.0,66150.0,65935.48,66297.4,66354.83,66152.0,65710.58,66290.32,66435.02,66468.99,67500.0,67927.69,68896.1,69309.91,68551.99,68565.54],\"low\":[70412.33,70268.66,70578.0,70070.0,69280.0,69412.0,69445.97,69401.72,69652.01,69840.0,70175.0,70034.45,69640.0,69407.0,69920.0,69645.04,68534.01,68359.18,68410.0,68630.0,68919.46,69300.0,68903.62,69280.0,69646.0,70292.44,70337.43,70348.75,70682.9,70450.0,70404.0,70620.11,70541.9,70606.0,70274.07,70176.97,69746.33,69566.2,69566.0,69852.08,69009.0,69078.62,69322.02,69290.0,69419.99,69710.0,69750.0,69755.98,69852.08,69811.37,69940.08,70075.78,69925.87,69900.0,69670.0,69621.97,69540.0,69562.99,69764.71,69874.54,70163.45,70147.77,70214.52,70340.17,70289.72,70321.86,70440.49,70639.93,70840.01,70794.12,70520.51,69000.0,68888.0,69165.35,69280.01,69400.69,68161.48,68062.86,68450.0,69327.66,69577.96,69040.0,66000.0,66120.75,66446.22,65746.2,65075.0,64588.58,64666.81,64550.0,65386.96,65200.0,65360.0,64493.07,65683.74,65920.0,66052.0,65990.0,65538.06,65635.01,65715.67,65790.21,65451.62,65476.63,65851.07,65824.0,65454.55,65064.52,65548.67,66028.0,66108.85,66330.56,67075.7,67526.5,68334.24,67320.0,67604.93],\"open\":[71130.0,70486.38,71142.23,70693.16,70389.99,70250.01,70066.54,69477.66,70000.67,69987.99,70326.74,70388.0,70475.06,69726.0,70057.6,70220.73,69891.99,68873.99,68680.01,68652.01,68942.0,69470.0,69442.6,69290.0,69714.21,70399.03,70565.99,70647.18,70877.98,71290.38,70791.16,70798.25,70781.81,70780.59,70790.01,70442.22,70180.7,69794.01,69733.73,70142.77,70426.7,69179.99,69404.29,69665.99,69420.0,69850.53,69976.08,69774.0,70006.8,69852.18,70008.32,70183.54,70148.04,69999.99,70036.02,69896.34,69722.07,69582.17,70043.53,69916.6,70345.63,70301.72,70225.31,70369.99,70585.99,70381.13,70509.11,71023.51,70855.99,71280.0,70819.26,70588.01,69167.47,69594.94,69395.0,69460.0,69880.0,68237.15,68750.0,69648.01,69585.99,69649.81,69391.12,66703.97,66764.64,66455.5,66080.74,65622.69,65224.2,64889.99,65608.02,65914.91,65692.77,65464.0,65792.42,66225.79,66077.1,66135.98,66484.57,66059.75,65804.0,65836.02,65952.0,65784.01,65918.71,65963.27,66143.99,65620.0,65591.57,66091.59,66273.38,66353.68,67242.14,67648.0,68849.18,68499.99,67787.91],\"x\":[\"2024-03-26T06:00:00.000000\",\"2024-03-26T08:00:00.000000\",\"2024-03-26T10:00:00.000000\",\"2024-03-26T12:00:00.000000\",\"2024-03-26T14:00:00.000000\",\"2024-03-26T16:00:00.000000\",\"2024-03-26T18:00:00.000000\",\"2024-03-26T20:00:00.000000\",\"2024-03-26T22:00:00.000000\",\"2024-03-27T00:00:00.000000\",\"2024-03-27T02:00:00.000000\",\"2024-03-27T04:00:00.000000\",\"2024-03-27T06:00:00.000000\",\"2024-03-27T08:00:00.000000\",\"2024-03-27T10:00:00.000000\",\"2024-03-27T12:00:00.000000\",\"2024-03-27T14:00:00.000000\",\"2024-03-27T16:00:00.000000\",\"2024-03-27T18:00:00.000000\",\"2024-03-27T20:00:00.000000\",\"2024-03-27T22:00:00.000000\",\"2024-03-28T00:00:00.000000\",\"2024-03-28T02:00:00.000000\",\"2024-03-28T04:00:00.000000\",\"2024-03-28T06:00:00.000000\",\"2024-03-28T08:00:00.000000\",\"2024-03-28T10:00:00.000000\",\"2024-03-28T12:00:00.000000\",\"2024-03-28T14:00:00.000000\",\"2024-03-28T16:00:00.000000\",\"2024-03-28T18:00:00.000000\",\"2024-03-28T20:00:00.000000\",\"2024-03-28T22:00:00.000000\",\"2024-03-29T00:00:00.000000\",\"2024-03-29T02:00:00.000000\",\"2024-03-29T04:00:00.000000\",\"2024-03-29T06:00:00.000000\",\"2024-03-29T08:00:00.000000\",\"2024-03-29T10:00:00.000000\",\"2024-03-29T12:00:00.000000\",\"2024-03-29T14:00:00.000000\",\"2024-03-29T16:00:00.000000\",\"2024-03-29T18:00:00.000000\",\"2024-03-29T20:00:00.000000\",\"2024-03-29T22:00:00.000000\",\"2024-03-30T00:00:00.000000\",\"2024-03-30T02:00:00.000000\",\"2024-03-30T04:00:00.000000\",\"2024-03-30T06:00:00.000000\",\"2024-03-30T08:00:00.000000\",\"2024-03-30T10:00:00.000000\",\"2024-03-30T12:00:00.000000\",\"2024-03-30T14:00:00.000000\",\"2024-03-30T16:00:00.000000\",\"2024-03-30T18:00:00.000000\",\"2024-03-30T20:00:00.000000\",\"2024-03-30T22:00:00.000000\",\"2024-03-31T00:00:00.000000\",\"2024-03-31T02:00:00.000000\",\"2024-03-31T04:00:00.000000\",\"2024-03-31T06:00:00.000000\",\"2024-03-31T08:00:00.000000\",\"2024-03-31T10:00:00.000000\",\"2024-03-31T12:00:00.000000\",\"2024-03-31T14:00:00.000000\",\"2024-03-31T16:00:00.000000\",\"2024-03-31T18:00:00.000000\",\"2024-03-31T20:00:00.000000\",\"2024-03-31T22:00:00.000000\",\"2024-04-01T00:00:00.000000\",\"2024-04-01T02:00:00.000000\",\"2024-04-01T04:00:00.000000\",\"2024-04-01T06:00:00.000000\",\"2024-04-01T08:00:00.000000\",\"2024-04-01T10:00:00.000000\",\"2024-04-01T12:00:00.000000\",\"2024-04-01T14:00:00.000000\",\"2024-04-01T16:00:00.000000\",\"2024-04-01T18:00:00.000000\",\"2024-04-01T20:00:00.000000\",\"2024-04-01T22:00:00.000000\",\"2024-04-02T00:00:00.000000\",\"2024-04-02T02:00:00.000000\",\"2024-04-02T04:00:00.000000\",\"2024-04-02T06:00:00.000000\",\"2024-04-02T08:00:00.000000\",\"2024-04-02T10:00:00.000000\",\"2024-04-02T12:00:00.000000\",\"2024-04-02T14:00:00.000000\",\"2024-04-02T16:00:00.000000\",\"2024-04-02T18:00:00.000000\",\"2024-04-02T20:00:00.000000\",\"2024-04-02T22:00:00.000000\",\"2024-04-03T00:00:00.000000\",\"2024-04-03T02:00:00.000000\",\"2024-04-03T04:00:00.000000\",\"2024-04-03T06:00:00.000000\",\"2024-04-03T08:00:00.000000\",\"2024-04-03T10:00:00.000000\",\"2024-04-03T12:00:00.000000\",\"2024-04-03T14:00:00.000000\",\"2024-04-03T16:00:00.000000\",\"2024-04-03T18:00:00.000000\",\"2024-04-03T20:00:00.000000\",\"2024-04-03T22:00:00.000000\",\"2024-04-04T00:00:00.000000\",\"2024-04-04T02:00:00.000000\",\"2024-04-04T04:00:00.000000\",\"2024-04-04T06:00:00.000000\",\"2024-04-04T08:00:00.000000\",\"2024-04-04T10:00:00.000000\",\"2024-04-04T12:00:00.000000\",\"2024-04-04T14:00:00.000000\",\"2024-04-04T16:00:00.000000\",\"2024-04-04T18:00:00.000000\",\"2024-04-04T20:00:00.000000\",\"2024-04-04T22:00:00.000000\"],\"type\":\"candlestick\",\"xaxis\":\"x4\",\"yaxis\":\"y4\"},{\"marker\":{\"color\":\"red\",\"size\":10,\"symbol\":\"arrow-up\"},\"mode\":\"markers\",\"name\":\"buy\",\"x\":[\"2024-03-27T16:00:00.000000\",\"2024-03-30T08:00:00.000000\",\"2024-03-31T04:00:00.000000\",\"2024-04-03T18:00:00.003000\",\"2024-04-04T16:00:00.002000\"],\"y\":[68864.0,69842.18,69906.61,65942.01,67637.49],\"type\":\"scatter\",\"xaxis\":\"x4\",\"yaxis\":\"y4\"},{\"marker\":{\"color\":\"blue\",\"size\":10,\"symbol\":\"arrow-down\"},\"mode\":\"markers\",\"name\":\"sell\",\"x\":[\"2024-03-27T10:00:00.001000\",\"2024-03-27T18:00:00.000000\",\"2024-03-30T22:00:00.000000\",\"2024-04-01T08:00:00.003000\",\"2024-04-04T06:00:00.000000\"],\"y\":[70067.6,68690.01,69732.58,69605.44,65601.57],\"type\":\"scatter\",\"xaxis\":\"x4\",\"yaxis\":\"y4\"}],                        {\"template\":{\"data\":{\"histogram2dcontour\":[{\"type\":\"histogram2dcontour\",\"colorbar\":{\"outlinewidth\":0,\"ticks\":\"\"},\"colorscale\":[[0.0,\"#0d0887\"],[0.1111111111111111,\"#46039f\"],[0.2222222222222222,\"#7201a8\"],[0.3333333333333333,\"#9c179e\"],[0.4444444444444444,\"#bd3786\"],[0.5555555555555556,\"#d8576b\"],[0.6666666666666666,\"#ed7953\"],[0.7777777777777778,\"#fb9f3a\"],[0.8888888888888888,\"#fdca26\"],[1.0,\"#f0f921\"]]}],\"choropleth\":[{\"type\":\"choropleth\",\"colorbar\":{\"outlinewidth\":0,\"ticks\":\"\"}}],\"histogram2d\":[{\"type\":\"histogram2d\",\"colorbar\":{\"outlinewidth\":0,\"ticks\":\"\"},\"colorscale\":[[0.0,\"#0d0887\"],[0.1111111111111111,\"#46039f\"],[0.2222222222222222,\"#7201a8\"],[0.3333333333333333,\"#9c179e\"],[0.4444444444444444,\"#bd3786\"],[0.5555555555555556,\"#d8576b\"],[0.6666666666666666,\"#ed7953\"],[0.7777777777777778,\"#fb9f3a\"],[0.8888888888888888,\"#fdca26\"],[1.0,\"#f0f921\"]]}],\"heatmap\":[{\"type\":\"heatmap\",\"colorbar\":{\"outlinewidth\":0,\"ticks\":\"\"},\"colorscale\":[[0.0,\"#0d0887\"],[0.1111111111111111,\"#46039f\"],[0.2222222222222222,\"#7201a8\"],[0.3333333333333333,\"#9c179e\"],[0.4444444444444444,\"#bd3786\"],[0.5555555555555556,\"#d8576b\"],[0.6666666666666666,\"#ed7953\"],[0.7777777777777778,\"#fb9f3a\"],[0.8888888888888888,\"#fdca26\"],[1.0,\"#f0f921\"]]}],\"heatmapgl\":[{\"type\":\"heatmapgl\",\"colorbar\":{\"outlinewidth\":0,\"ticks\":\"\"},\"colorscale\":[[0.0,\"#0d0887\"],[0.1111111111111111,\"#46039f\"],[0.2222222222222222,\"#7201a8\"],[0.3333333333333333,\"#9c179e\"],[0.4444444444444444,\"#bd3786\"],[0.5555555555555556,\"#d8576b\"],[0.6666666666666666,\"#ed7953\"],[0.7777777777777778,\"#fb9f3a\"],[0.8888888888888888,\"#fdca26\"],[1.0,\"#f0f921\"]]}],\"contourcarpet\":[{\"type\":\"contourcarpet\",\"colorbar\":{\"outlinewidth\":0,\"ticks\":\"\"}}],\"contour\":[{\"type\":\"contour\",\"colorbar\":{\"outlinewidth\":0,\"ticks\":\"\"},\"colorscale\":[[0.0,\"#0d0887\"],[0.1111111111111111,\"#46039f\"],[0.2222222222222222,\"#7201a8\"],[0.3333333333333333,\"#9c179e\"],[0.4444444444444444,\"#bd3786\"],[0.5555555555555556,\"#d8576b\"],[0.6666666666666666,\"#ed7953\"],[0.7777777777777778,\"#fb9f3a\"],[0.8888888888888888,\"#fdca26\"],[1.0,\"#f0f921\"]]}],\"surface\":[{\"type\":\"surface\",\"colorbar\":{\"outlinewidth\":0,\"ticks\":\"\"},\"colorscale\":[[0.0,\"#0d0887\"],[0.1111111111111111,\"#46039f\"],[0.2222222222222222,\"#7201a8\"],[0.3333333333333333,\"#9c179e\"],[0.4444444444444444,\"#bd3786\"],[0.5555555555555556,\"#d8576b\"],[0.6666666666666666,\"#ed7953\"],[0.7777777777777778,\"#fb9f3a\"],[0.8888888888888888,\"#fdca26\"],[1.0,\"#f0f921\"]]}],\"mesh3d\":[{\"type\":\"mesh3d\",\"colorbar\":{\"outlinewidth\":0,\"ticks\":\"\"}}],\"scatter\":[{\"fillpattern\":{\"fillmode\":\"overlay\",\"size\":10,\"solidity\":0.2},\"type\":\"scatter\"}],\"parcoords\":[{\"type\":\"parcoords\",\"line\":{\"colorbar\":{\"outlinewidth\":0,\"ticks\":\"\"}}}],\"scatterpolargl\":[{\"type\":\"scatterpolargl\",\"marker\":{\"colorbar\":{\"outlinewidth\":0,\"ticks\":\"\"}}}],\"bar\":[{\"error_x\":{\"color\":\"#2a3f5f\"},\"error_y\":{\"color\":\"#2a3f5f\"},\"marker\":{\"line\":{\"color\":\"#E5ECF6\",\"width\":0.5},\"pattern\":{\"fillmode\":\"overlay\",\"size\":10,\"solidity\":0.2}},\"type\":\"bar\"}],\"scattergeo\":[{\"type\":\"scattergeo\",\"marker\":{\"colorbar\":{\"outlinewidth\":0,\"ticks\":\"\"}}}],\"scatterpolar\":[{\"type\":\"scatterpolar\",\"marker\":{\"colorbar\":{\"outlinewidth\":0,\"ticks\":\"\"}}}],\"histogram\":[{\"marker\":{\"pattern\":{\"fillmode\":\"overlay\",\"size\":10,\"solidity\":0.2}},\"type\":\"histogram\"}],\"scattergl\":[{\"type\":\"scattergl\",\"marker\":{\"colorbar\":{\"outlinewidth\":0,\"ticks\":\"\"}}}],\"scatter3d\":[{\"type\":\"scatter3d\",\"line\":{\"colorbar\":{\"outlinewidth\":0,\"ticks\":\"\"}},\"marker\":{\"colorbar\":{\"outlinewidth\":0,\"ticks\":\"\"}}}],\"scattermapbox\":[{\"type\":\"scattermapbox\",\"marker\":{\"colorbar\":{\"outlinewidth\":0,\"ticks\":\"\"}}}],\"scatterternary\":[{\"type\":\"scatterternary\",\"marker\":{\"colorbar\":{\"outlinewidth\":0,\"ticks\":\"\"}}}],\"scattercarpet\":[{\"type\":\"scattercarpet\",\"marker\":{\"colorbar\":{\"outlinewidth\":0,\"ticks\":\"\"}}}],\"carpet\":[{\"aaxis\":{\"endlinecolor\":\"#2a3f5f\",\"gridcolor\":\"white\",\"linecolor\":\"white\",\"minorgridcolor\":\"white\",\"startlinecolor\":\"#2a3f5f\"},\"baxis\":{\"endlinecolor\":\"#2a3f5f\",\"gridcolor\":\"white\",\"linecolor\":\"white\",\"minorgridcolor\":\"white\",\"startlinecolor\":\"#2a3f5f\"},\"type\":\"carpet\"}],\"table\":[{\"cells\":{\"fill\":{\"color\":\"#EBF0F8\"},\"line\":{\"color\":\"white\"}},\"header\":{\"fill\":{\"color\":\"#C8D4E3\"},\"line\":{\"color\":\"white\"}},\"type\":\"table\"}],\"barpolar\":[{\"marker\":{\"line\":{\"color\":\"#E5ECF6\",\"width\":0.5},\"pattern\":{\"fillmode\":\"overlay\",\"size\":10,\"solidity\":0.2}},\"type\":\"barpolar\"}],\"pie\":[{\"automargin\":true,\"type\":\"pie\"}]},\"layout\":{\"autotypenumbers\":\"strict\",\"colorway\":[\"#636efa\",\"#EF553B\",\"#00cc96\",\"#ab63fa\",\"#FFA15A\",\"#19d3f3\",\"#FF6692\",\"#B6E880\",\"#FF97FF\",\"#FECB52\"],\"font\":{\"color\":\"#2a3f5f\"},\"hovermode\":\"closest\",\"hoverlabel\":{\"align\":\"left\"},\"paper_bgcolor\":\"white\",\"plot_bgcolor\":\"#E5ECF6\",\"polar\":{\"bgcolor\":\"#E5ECF6\",\"angularaxis\":{\"gridcolor\":\"white\",\"linecolor\":\"white\",\"ticks\":\"\"},\"radialaxis\":{\"gridcolor\":\"white\",\"linecolor\":\"white\",\"ticks\":\"\"}},\"ternary\":{\"bgcolor\":\"#E5ECF6\",\"aaxis\":{\"gridcolor\":\"white\",\"linecolor\":\"white\",\"ticks\":\"\"},\"baxis\":{\"gridcolor\":\"white\",\"linecolor\":\"white\",\"ticks\":\"\"},\"caxis\":{\"gridcolor\":\"white\",\"linecolor\":\"white\",\"ticks\":\"\"}},\"coloraxis\":{\"colorbar\":{\"outlinewidth\":0,\"ticks\":\"\"}},\"colorscale\":{\"sequential\":[[0.0,\"#0d0887\"],[0.1111111111111111,\"#46039f\"],[0.2222222222222222,\"#7201a8\"],[0.3333333333333333,\"#9c179e\"],[0.4444444444444444,\"#bd3786\"],[0.5555555555555556,\"#d8576b\"],[0.6666666666666666,\"#ed7953\"],[0.7777777777777778,\"#fb9f3a\"],[0.8888888888888888,\"#fdca26\"],[1.0,\"#f0f921\"]],\"sequentialminus\":[[0.0,\"#0d0887\"],[0.1111111111111111,\"#46039f\"],[0.2222222222222222,\"#7201a8\"],[0.3333333333333333,\"#9c179e\"],[0.4444444444444444,\"#bd3786\"],[0.5555555555555556,\"#d8576b\"],[0.6666666666666666,\"#ed7953\"],[0.7777777777777778,\"#fb9f3a\"],[0.8888888888888888,\"#fdca26\"],[1.0,\"#f0f921\"]],\"diverging\":[[0,\"#8e0152\"],[0.1,\"#c51b7d\"],[0.2,\"#de77ae\"],[0.3,\"#f1b6da\"],[0.4,\"#fde0ef\"],[0.5,\"#f7f7f7\"],[0.6,\"#e6f5d0\"],[0.7,\"#b8e186\"],[0.8,\"#7fbc41\"],[0.9,\"#4d9221\"],[1,\"#276419\"]]},\"xaxis\":{\"gridcolor\":\"white\",\"linecolor\":\"white\",\"ticks\":\"\",\"title\":{\"standoff\":15},\"zerolinecolor\":\"white\",\"automargin\":true,\"zerolinewidth\":2},\"yaxis\":{\"gridcolor\":\"white\",\"linecolor\":\"white\",\"ticks\":\"\",\"title\":{\"standoff\":15},\"zerolinecolor\":\"white\",\"automargin\":true,\"zerolinewidth\":2},\"scene\":{\"xaxis\":{\"backgroundcolor\":\"#E5ECF6\",\"gridcolor\":\"white\",\"linecolor\":\"white\",\"showbackground\":true,\"ticks\":\"\",\"zerolinecolor\":\"white\",\"gridwidth\":2},\"yaxis\":{\"backgroundcolor\":\"#E5ECF6\",\"gridcolor\":\"white\",\"linecolor\":\"white\",\"showbackground\":true,\"ticks\":\"\",\"zerolinecolor\":\"white\",\"gridwidth\":2},\"zaxis\":{\"backgroundcolor\":\"#E5ECF6\",\"gridcolor\":\"white\",\"linecolor\":\"white\",\"showbackground\":true,\"ticks\":\"\",\"zerolinecolor\":\"white\",\"gridwidth\":2}},\"shapedefaults\":{\"line\":{\"color\":\"#2a3f5f\"}},\"annotationdefaults\":{\"arrowcolor\":\"#2a3f5f\",\"arrowhead\":0,\"arrowwidth\":1},\"geo\":{\"bgcolor\":\"white\",\"landcolor\":\"#E5ECF6\",\"subunitcolor\":\"white\",\"showland\":true,\"showlakes\":true,\"lakecolor\":\"white\"},\"title\":{\"x\":0.05},\"mapbox\":{\"style\":\"light\"}}},\"xaxis\":{\"anchor\":\"y\",\"domain\":[0.0,1.0],\"matches\":\"x4\",\"showticklabels\":false},\"yaxis\":{\"anchor\":\"x\",\"domain\":[0.9222222222222223,1.0]},\"xaxis2\":{\"anchor\":\"y2\",\"domain\":[0.0,1.0],\"matches\":\"x4\",\"showticklabels\":false},\"yaxis2\":{\"anchor\":\"x2\",\"domain\":[0.7444444444444445,0.8222222222222222]},\"xaxis3\":{\"anchor\":\"y3\",\"domain\":[0.0,1.0],\"matches\":\"x4\",\"showticklabels\":false},\"yaxis3\":{\"anchor\":\"x3\",\"domain\":[0.5666666666666667,0.6444444444444444]},\"xaxis4\":{\"anchor\":\"y4\",\"domain\":[0.0,1.0]},\"yaxis4\":{\"anchor\":\"x4\",\"domain\":[0.0,0.4666666666666666]},\"annotations\":[{\"font\":{\"size\":16},\"showarrow\":false,\"text\":\"indicator\",\"x\":0.5,\"xanchor\":\"center\",\"xref\":\"paper\",\"y\":1.0,\"yanchor\":\"bottom\",\"yref\":\"paper\"},{\"font\":{\"size\":16},\"showarrow\":false,\"text\":\"position\",\"x\":0.5,\"xanchor\":\"center\",\"xref\":\"paper\",\"y\":0.8222222222222222,\"yanchor\":\"bottom\",\"yref\":\"paper\"},{\"font\":{\"size\":16},\"showarrow\":false,\"text\":\"profit\",\"x\":0.5,\"xanchor\":\"center\",\"xref\":\"paper\",\"y\":0.6444444444444444,\"yanchor\":\"bottom\",\"yref\":\"paper\"},{\"font\":{\"size\":16},\"showarrow\":false,\"text\":\"candlestick\",\"x\":0.5,\"xanchor\":\"center\",\"xref\":\"paper\",\"y\":0.4666666666666666,\"yanchor\":\"bottom\",\"yref\":\"paper\"}],\"title\":{\"text\":\"Backtest Result\"},\"height\":800},                        {\"responsive\": true}                    ).then(function(){\n",
              "                            \n",
              "var gd = document.getElementById('c8a032e2-8e3c-4282-b6da-a966dcc750de');\n",
              "var x = new MutationObserver(function (mutations, observer) {{\n",
              "        var display = window.getComputedStyle(gd).display;\n",
              "        if (!display || display === 'none') {{\n",
              "            console.log([gd, 'removed!']);\n",
              "            Plotly.purge(gd);\n",
              "            observer.disconnect();\n",
              "        }}\n",
              "}});\n",
              "\n",
              "// Listen for the removal of the full notebook cells\n",
              "var notebookContainer = gd.closest('#notebook-container');\n",
              "if (notebookContainer) {{\n",
              "    x.observe(notebookContainer, {childList: true});\n",
              "}}\n",
              "\n",
              "// Listen for the clearing of the current output cell\n",
              "var outputEl = gd.closest('.output');\n",
              "if (outputEl) {{\n",
              "    x.observe(outputEl, {childList: true});\n",
              "}}\n",
              "\n",
              "                        })                };                            </script>        </div>\n",
              "</body>\n",
              "</html>"
            ]
          },
          "metadata": {}
        }
      ],
      "source": [
        "import plotly.graph_objects as go\n",
        "from plotly.subplots import make_subplots\n",
        "\n",
        "fig = make_subplots(rows=4, cols=1, shared_xaxes=True, vertical_spacing=0.1, row_heights=[0.1, 0.1, 0.1, 0.6],\n",
        "                    subplot_titles=(\"indicator\", \"position\", \"profit\", \"candlestick\"))\n",
        "\n",
        "# row 1 (indicator)\n",
        "diff_low = log['diff_low']\n",
        "fig.add_trace(go.Scatter(x=diff_low['timestamp'], y=diff_low['diff_low'], name=\"diff_low\"), row=1, col=1)\n",
        "\n",
        "diff_high = log['diff_high']\n",
        "fig.add_trace(go.Scatter(x=diff_low['timestamp'], y=diff_low['diff_low'], name=\"diff_high\"), row=1, col=1)\n",
        "\n",
        "range_width = log['range_width']\n",
        "fig.add_trace(go.Scatter(x=range_width['timestamp'], y=range_width['range_width'], name=\"range_width\"), row=1, col=1)\n",
        "\n",
        "orders = log.orders\n",
        "\n",
        "# row 2 (position)\n",
        "fig.add_trace(go.Scatter(x=orders['update_time'], y=orders['position'], name=\"position\"), row=2, col=1)\n",
        "\n",
        "\n",
        "# row 3 (profit)\n",
        "profit = orders['sum_profit']\n",
        "fig.add_trace(go.Scatter(x=orders['update_time'], y=orders['sum_profit'], name=\"profit\"), row=3, col=1)\n",
        "\n",
        "# row 4 (candlestick)\n",
        "fig.add_candlestick(x=ohlcv['timestamp'], open=ohlcv['open'], high=ohlcv['high'], low=ohlcv['low'], close=ohlcv['close'], row=4, col=1)\n",
        "\n",
        "# row 4 (order)\n",
        "buy_orders = orders.filter((orders['order_side'] == 'Buy') & (orders['status'] == 'New'))\n",
        "fig.add_trace(go.Scatter(x=buy_orders['update_time'], y=buy_orders['order_price'], mode='markers', marker=dict(symbol='arrow-up', color='red', size=10), name=\"buy\"), row=4, col=1)\n",
        "\n",
        "sell_orders = orders.filter((orders['order_side'] == 'Sell') & (orders['status'] == 'New'))\n",
        "fig.add_trace(go.Scatter(x=sell_orders['update_time'], y=sell_orders['order_price'], mode='markers', marker=dict(symbol='arrow-down', color='blue', size=10), name=\"sell\"), row=4, col=1)\n",
        "\n",
        "fig.update_layout(height=800, title_text=\"Backtest Result\")\n"
      ]
    },
    {
      "cell_type": "markdown",
      "metadata": {
        "id": "UM5WqsQGd71e"
      },
      "source": [
        "## 7. まとめ\n",
        "\n",
        "自分で書くのは百行ぐらいで簡単にバックテストができることが確認できました。\n",
        "\n",
        "使ってみてご意見お聞かせください。\n",
        "Twitter(@yasstake)でもgithubでissueあげてもOK.\n",
        "\n",
        "人気になったらDiscord立ち上げてみたいなー。どおでしょ？\n"
      ]
    },
    {
      "cell_type": "markdown",
      "metadata": {
        "id": "ej-ni8TAd71e"
      },
      "source": [
        "## 8. Next Step\n",
        "\n",
        "いろいろバックテストしてみよう\n",
        "\n",
        "#### BreakOutAgentのパラメータ変更\n",
        "以下のパラメータを変えたらどうなるか確認してみよう\n",
        "1. パラメータK (現在は1.6きめうち)\n",
        "2. 指値（現在はbestプライス。\n",
        "   * buyのときに低い価格で指すと利益は上がるがExpire率が上がる。\n",
        "   * 高い価格で指すとExpire率が下がるが利益が下がる。（この場合、本来はTakerFeeが取られるが現在はMakerFeeで計算）\n",
        "3. ロット（現在は0.01 BTC)の変更\n",
        "4. 2時間足から他の足を試してみる。\n",
        "5. Clockのタイミングを増やす・へらす（現在は10分）\n",
        "6. バックテスト期間の延長（現在はBACKTEST_PERIODは5日で設定）\n",
        "\n",
        "さらに独自のIndicatorをつくり、独自ロジックをつくってバックテストしてみよう（OHLCVをベースに判断するロジックならば問題なく作れるはず）"
      ]
    },
    {
      "cell_type": "markdown",
      "metadata": {
        "id": "z--0xVWGd71e"
      },
      "source": []
    }
  ],
  "metadata": {
    "colab": {
      "history_visible": true,
      "provenance": [],
      "include_colab_link": true
    },
    "kernelspec": {
      "display_name": "Python 3 (ipykernel)",
      "language": "python",
      "name": "python3"
    },
    "language_info": {
      "codemirror_mode": {
        "name": "ipython",
        "version": 3
      },
      "file_extension": ".py",
      "mimetype": "text/x-python",
      "name": "python",
      "nbconvert_exporter": "python",
      "pygments_lexer": "ipython3",
      "version": "3.11.6"
    },
    "vscode": {
      "interpreter": {
        "hash": "e69bbd470bf1393b14609a6bb37f84ea05c8b778927caf2a584647f90d922fc5"
      }
    }
  },
  "nbformat": 4,
  "nbformat_minor": 0
}