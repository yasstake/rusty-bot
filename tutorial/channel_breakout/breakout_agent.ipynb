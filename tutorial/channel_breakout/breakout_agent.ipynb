{
 "cells": [
  {
   "cell_type": "markdown",
   "metadata": {
    "id": "0YWqMhkrd71R"
   },
   "source": [
    "# BackTestのチュートリアル\n",
    "\n",
    "<a target=\"_blank\" href=\"https://colab.research.google.com/github/yasstake/rusty-bot/blob/main/tutorial/breakout_agent.ipynb\">\n",
    "  <img src=\"https://colab.research.google.com/assets/colab-badge.svg\" alt=\"Open In Colab\"/>\n",
    "</a>\n",
    "\n",
    "　\n",
    "## 1. 実装するBotのロジック\n",
    "\n",
    "Ukiさんの「オープニングレンジ・ブレイクアウト」をお借りして、バックテストのtutorialを作成しました（公開くさだって感謝）。\n",
    "\n",
    "Binanceのspot/BTCBUSD用に書いていますが、PublicAPIのみ利用のためアカウントは不要で試すことができます。\n",
    "\n",
    "\n",
    "\n",
    "<blockquote class=\"twitter-tweet\"><p lang=\"ja\" dir=\"ltr\">お待ちかねのロジックを公開。<br>(元祖)ドテン君はブレイクアウトだが通常のHLチャネルブレイクではない。その手法は「オープニングレンジ・ブレイクアウト」と呼ばれるものである。文章での説明は面倒なのでhohetoとの会議資料をそのまま添付する。ストラテジーに関する質問には応対できません。 <a href=\"https://t.co/LB6mdxVZZo\">pic.twitter.com/LB6mdxVZZo</a></p>&mdash; UKI (@blog_uki) <a href=\"https://twitter.com/blog_uki/status/981768546429448192?ref_src=twsrc%5Etfw\">April 5, 2018</a></blockquote> <script async src=\"https://platform.twitter.com/widgets.js\" charset=\"utf-8\"></script>\n",
    "\n",
    "![](https://pbs.twimg.com/media/DZ_xJQFUMAEOrpS?format=jpg&name=900x900)"
   ]
  },
  {
   "cell_type": "markdown",
   "metadata": {
    "id": "IvEz6O97d71S"
   },
   "source": [
    "## 2. BreakOutAgentの実装\n",
    "\n",
    "日本語で読み解くと以下のようになります。\n",
    "\n",
    "「シグナル点灯した次の足の始値」ではなく、シグナル点灯直後の最良値でエントリーすることに変更した以外はほぼ忠実に書き下しています。\n",
    "\n",
    "1. `Agent.on_clock`を10分毎に呼び出す。\n",
    "2. \n",
    "\n",
    "3. `Agent.on_clock`内で以下の処理を行う。\n",
    "\n",
    "    1. 前処理\n",
    "       \n",
    "       前回のon_clock中でのオーダーが処理中の場合はなにもしない（リターン）\n",
    "    2. Long/Short判定\n",
    "      * 現在時刻から2時間足を6本取得する。`session.ohlcv`（6本目の最後の足は未確定足。10分毎に呼ばれるたびにupdateされる）\n",
    "      (ohlcv[0]-ohlcv[5]へ値を格納)\n",
    "      * 0-4本目の足のレンジ幅（高値ー安値）の平均値を計算`(ohlcv['high]-ohlcv['low']).mean() * K`し、Kをかけたものを'range_width'へ保存する。\n",
    "      * 最新足（未確定）の始値〜高値を計算する('diff_high')\n",
    "      * 最新足（未確定）の始値〜安値を計算する('diff_low')\n",
    "      * 'range_width', 'diff_high', 'diff_low'の結果からLong/Short判定\n",
    "    3. オーダー執行\n",
    "       1. Long判定のとき\n",
    "          * すでにLongポジションがある場合は何もしない。\n",
    "          * Shortポジションがあった場合はドテン（最良値、倍サイズ）\n",
    "          * 上記に当てはまらない場合は最良値、通常サイズでLong(Buy)\n",
    "       2. Short判定のとき\n",
    "           * すでにShortポジションがある場合は何もしない\n",
    "           * Shortポジションがあった場合はドテン（最良値、倍サイズ）\n",
    "           * 上記に当てはまらない場合は最良値、通常サイズでShort(Sell)"
   ]
  },
  {
   "cell_type": "markdown",
   "metadata": {
    "id": "x8zNuVGdd71T"
   },
   "source": [
    "## 2. 依存ライブラリのインストール"
   ]
  },
  {
   "cell_type": "code",
   "execution_count": null,
   "metadata": {},
   "outputs": [],
   "source": [
    "# rbot拡張ライブラリのインストール（２回目は不要です）\n",
    "! pip install --upgrade pip\n",
    "! pip install --upgrade rbot"
   ]
  },
  {
   "cell_type": "code",
   "execution_count": null,
   "metadata": {},
   "outputs": [],
   "source": [
    "# 関連ライブラリのインストール\n",
    "! pip install pyarrow\n",
    "! pip install --upgrade polars\n",
    "! pip install plotly\n",
    "! pip install nbformat\n",
    "! pip install numpy\n",
    "! pip install pandas\n",
    "! pip install json2html"
   ]
  },
  {
   "cell_type": "code",
   "execution_count": null,
   "metadata": {
    "id": "cgQB8PIZd71T"
   },
   "outputs": [],
   "source": [
    "# rbotは今回提供するbacktestライブラリ\n",
    "import rbot\n",
    "from rbot import BinanceMarket\n",
    "from rbot import BinanceConfig\n",
    "from rbot import Runner\n",
    "\n",
    "from rbot import time_string\n",
    "from rbot import DAYS_BEFORE"
   ]
  },
  {
   "cell_type": "markdown",
   "metadata": {
    "id": "mzlV3a9Yd71U"
   },
   "source": [
    "## 3. break out Agent(bot)の実装\n",
    "\n",
    "#### 時間の扱い\n",
    "\n",
    "時刻について、以下の基準で設計しています。\n",
    "* 時刻（ある一点を指す）: UTCでエポックタイムからのマイクロ秒(μs)。時刻０はfromの時は過去全部、toのときは将来全部（≒現在時刻）\n",
    "* 期間：ほとんどで秒(s)。ログのダウンロード`Market.download`だけ日(day)\n",
    "  * 例：ohlcvの足の幅などは秒を利用。\n",
    "\n",
    "#### Botの実装すべき必須メソッド\n",
    "\n",
    "３つのメソッドを実装するとフレームワークが適宜呼び出してくれます。\n",
    "* `on_clock(self, session, current_time_us)` 定期的に呼び出される関数です。`time_us`は現在時刻です。`session`クラスを使ってローソク足`ohlcv`をとったりオーダーの発行ができます。\n",
    "* `on_tick(self, session, side, price, size)` 全ログイベントを受け取ります。\n",
    "* `on_update(self, session, updated_order)`オーダーが約定したり失効した場合に呼ばれます。'updated_order'の中に更新後のオーダ情報が含まれています。\n",
    "\n"
   ]
  },
  {
   "cell_type": "code",
   "execution_count": null,
   "metadata": {},
   "outputs": [],
   "source": [
    "class BreakOutAgent:\n",
    "    \"\"\"\n",
    "        Agentのクラス名は任意。\n",
    "        on_tick, on_clock, on_updateを実装するとフレームワークから呼び出される。\n",
    "    \"\"\"\n",
    "\n",
    "    def __init__(self, param_K=1.6):\n",
    "            self.param_K = param_K  # パラメターKを設定する。\n",
    "            self.offset = 10.0       # 指値のオフセット\n",
    "\n",
    "    def on_init(self, session):\n",
    "        print(\"execute mode = \", session.execute_mode)\n",
    "        session.clock_interval_sec = 60*60*2  # 2時間ごとにon_clockを呼び出すように設定する。\n",
    "\n",
    "    def on_clock(self, session, time_us):\n",
    "        \"\"\" Botのメインロジック。設定した秒数毎に呼ばれる \"\"\"\n",
    "        # 古いオーダーをキャンセルする。\n",
    "        \n",
    "        # 前処理/ 前回のon_clock中でのオーダーが処理中の場合はなにもしない（リターン）        \n",
    "        if session.buy_orders or session.sell_orders:\n",
    "            session.expire_order(60*60*2)  # 2時間以上経過したオーダーをキャンセルする。\n",
    "        \n",
    "        ############   メインロジック  ###################### \n",
    "        ohlcv_df = session.ohlcv(60*60*2, 6)  # 2時間足(60*60*2sec)を６本取得。 最新は６番目。ただし未確定足\n",
    "        if len(ohlcv_df) < 6:           # データが過去６本分そろっていない場合はなにもせずリターン\n",
    "            return \n",
    "\n",
    "        ohlcv5 = ohlcv_df[:-2]       # 過去５本足（確定）\n",
    "        range_width = (ohlcv5['high'] - ohlcv5['low']).mean() * self.param_K  # 価格変動レンジの平均を計算 * K\n",
    "\n",
    "        # Long/Short判定\n",
    "        ohlcv_latest = ohlcv_df[-2:-1]     # 最新足１本(未確定)        \n",
    "        diff_low   =   (ohlcv_latest['open'][0] - ohlcv_latest['low'][0])\n",
    "        detect_short  = range_width < diff_low\n",
    "\n",
    "        diff_high  = - (ohlcv_latest['open'][0] - ohlcv_latest['high'][0])  \n",
    "        detect_long = range_width  < diff_high\n",
    "        \n",
    "        ##########  メインロジック中に利用したindicatorのロギング（あとでグラフ化するため保存）    ##############\n",
    "        session.log_indicator('diff_low', diff_low)\n",
    "        session.log_indicator('diff_high', diff_high)\n",
    "        session.log_indicator('range_width', range_width)\n",
    "\n",
    "        ##########　執行戦略（順方向のポジションがあったら保留。逆方向のポジションがのこっていたらドテン）#########\n",
    "        ORDER_SIZE = 0.01     # 標準オーダーサイズ(ドテンの場合はx2)\n",
    "\n",
    "        session.log_indicator('position', session.position)\n",
    "\n",
    "        if detect_long and (session.position <= 0): \n",
    "            if session.sell_orders:\n",
    "                for order in session.sell_orders:\n",
    "                    session.cancel_order(order.order_id)\n",
    "            \n",
    "            bit_edge, ask_edge = session.last_price\n",
    "            session.limit_order('Buy', bit_edge - self.offset, ORDER_SIZE + (-session.position))\n",
    "\n",
    "        if detect_short and (0 <= session.position): # short判定のとき\n",
    "            if session.buy_orders:\n",
    "                for order in session.buy_orders:\n",
    "                    session.cancel_order(order.order_id)\n",
    "\n",
    "            bit_edge, ask_edge = session.last_price            \n",
    "            session.limit_order('Sell', ask_edge + self.offset, ORDER_SIZE + session.position)\n",
    "\n",
    "    # 全Tick受け取りたい時は on_tick を実装する。\n",
    "    #def on_tick(self, time, session, side, price, size):\n",
    "    #    pass\n",
    "\n",
    "    #約定イベントを受け取りたい時は on_updateを実装する。\n",
    "    def on_update(self, session, order_result):\n",
    "        print(order_result)\n",
    "\n",
    "    def on_account_update(self, session, account):\n",
    "        print(account)\n"
   ]
  },
  {
   "cell_type": "markdown",
   "metadata": {
    "id": "tXAc9XH7d71W"
   },
   "source": [
    "## 4. Binanceオブジェクトの作成データのロード\n",
    "\n",
    "### Binanceオブジェクトを生成。\n",
    "\n",
    "接続先、取り扱い通過ペアーなどの情報を`BinanceConfig`に設定します。あらかじめプリセットされた値として、BTCUSDペアー本番用`BinanceConfig.BTCUSDT`, BTCUSDTペアーテストネット用`BinanceConfig.TEST_BTCUSDT`が提供されていますので必要に応じて選択してください。まずはTESTネットでテストします。\n",
    "\n",
    "BinanceMarketオブジェクトをJupyterで表示するとデータベースに保存されている取引履歴の期間などが表示されます。"
   ]
  },
  {
   "cell_type": "code",
   "execution_count": null,
   "metadata": {},
   "outputs": [],
   "source": [
    "from rbot import BinanceConfig\n",
    "from rbot import BinanceMarket\n",
    "\n",
    "binance = BinanceMarket(BinanceConfig.BTCUSDT)\n",
    "binance"
   ]
  },
  {
   "cell_type": "markdown",
   "metadata": {},
   "source": [
    "### データのダウンロード\n",
    "\n",
    "最初にダウンロードメソッドをつかってデータをダウンロードします。\n",
    "\n",
    "#### ダウンロードメソッド\n",
    "```\n",
    "BinanceMarket.download(*, ndays, force=False, verbose=True)\n",
    "```\n",
    "\n",
    "##### パラメータ\n",
    "* `ndays` 何日前のデータからダウンロードするかを指定します。\n",
    "* `forde` オプション：TureにするとローカルDBにデータがあっても再ダウンロードします。\n",
    "* `verbose` オプション:ダウンロード状況を印刷します（ディフォルトは表示）\n",
    "\n",
    "##### 戻り値\n",
    "* ダウンロードされたレコード数\n"
   ]
  },
  {
   "cell_type": "code",
   "execution_count": null,
   "metadata": {},
   "outputs": [],
   "source": [
    "#from rbot import init_debug_log;\n",
    "#init_debug_log()\n",
    "\n",
    "# 過去２日分のデータをダウンロード\n",
    "binance.download(\n",
    "    ndays=10,       #ダウンロード日数\n",
    "    verbose=True    #ダウンロード状況を表示\n",
    ")"
   ]
  },
  {
   "cell_type": "code",
   "execution_count": null,
   "metadata": {
    "colab": {
     "base_uri": "https://localhost:8080/",
     "height": 139
    },
    "id": "So_PM4hId71W",
    "outputId": "bf043bff-c6c5-46b0-8d42-327595c3eb0d"
   },
   "outputs": [],
   "source": [
    "# かなり巨大なデータベースができあがります。１日分で数百MB。\n",
    "# DBを削除する場合は以下のコマンドを実行してください\n",
    "# なお最後に表示されたファイルを別途OSから削除してください。\n",
    "#binance.drop_table()\n",
    "\n",
    "# DBのある場所を表示します。かなり大きなファイルになりますので不要になった場合手動で消してください。\n",
    "#binance.file_name"
   ]
  },
  {
   "cell_type": "markdown",
   "metadata": {
    "id": "hAmNF3U2d71X"
   },
   "source": [
    "## 5. バックテスト実行"
   ]
  },
  {
   "cell_type": "code",
   "execution_count": null,
   "metadata": {},
   "outputs": [],
   "source": [
    "\n",
    "from rbot import NOW, DAYS\n",
    "\n",
    "agent = BreakOutAgent()  # エージェントを作成する。パラメターKはデフォルトの1.6を利用する。\n",
    "\n",
    "runner = Runner()\n",
    "\n",
    "session = runner.back_test(\n",
    "                market=binance,     # マーケットを指定する。\n",
    "                agent=agent,    # エージェントを指定する。\n",
    "                start_time=NOW()-DAYS(10),   # 開始時間を指定する。0は最初から。10日前から実行を指定。\n",
    "                end_time=0,     # 終了時間を指定する。0は最後まで。\n",
    "                verbose=True    # ログを表示するかどうか\n",
    ")\n"
   ]
  },
  {
   "cell_type": "markdown",
   "metadata": {
    "id": "1MM0nJJbd71Y"
   },
   "source": [
    "### 実行結果の分析\n",
    "\n",
    "`session.log`にLoggerオブジェクトとして結果が保存されています。\n",
    "詳しくは[Loggerのマニュアル](../manual.ipynb)を参照ください。"
   ]
  },
  {
   "cell_type": "code",
   "execution_count": null,
   "metadata": {},
   "outputs": [],
   "source": [
    "# loggerオブジェクトの取得\n",
    "log = session.log"
   ]
  },
  {
   "cell_type": "code",
   "execution_count": null,
   "metadata": {},
   "outputs": [],
   "source": [
    "import polars as pl\n",
    "pl.Config(fmt_str_lengths=50)\n",
    "\n",
    "# オーダログの表示\n",
    "orders = log.orders\n",
    "orders"
   ]
  },
  {
   "cell_type": "markdown",
   "metadata": {},
   "source": [
    "## 6.結果分析\n"
   ]
  },
  {
   "cell_type": "code",
   "execution_count": null,
   "metadata": {},
   "outputs": [],
   "source": [
    "# 損益結果\n",
    "orders['sum_profit'][-1]"
   ]
  },
  {
   "cell_type": "code",
   "execution_count": null,
   "metadata": {},
   "outputs": [],
   "source": [
    "# 利益ピーク\n",
    "orders['sum_profit'].max()"
   ]
  },
  {
   "cell_type": "code",
   "execution_count": null,
   "metadata": {},
   "outputs": [],
   "source": [
    "# 利益最小\n",
    "orders['sum_profit'].min()"
   ]
  },
  {
   "cell_type": "code",
   "execution_count": null,
   "metadata": {},
   "outputs": [],
   "source": [
    "# １回の取引の最大利益\n",
    "orders['total_profit'].max()"
   ]
  },
  {
   "cell_type": "code",
   "execution_count": null,
   "metadata": {},
   "outputs": [],
   "source": [
    "# １回の取引の最大損失\n",
    "orders['total_profit'].min()"
   ]
  },
  {
   "cell_type": "code",
   "execution_count": null,
   "metadata": {},
   "outputs": [],
   "source": [
    "# オーダー状況分析\n",
    "orders.group_by(['order_side', 'status']).count()"
   ]
  },
  {
   "cell_type": "code",
   "execution_count": null,
   "metadata": {},
   "outputs": [],
   "source": [
    "# オーダーごとに集約\n",
    "group_by_order = orders.group_by(['order_id']).agg(\n",
    "    pl.col('symbol').first(), \n",
    "    pl.col('order_side').first(), \n",
    "    pl.col('status').last(), \n",
    "    pl.col('order_price').first(), \n",
    "    pl.col('order_size').first(), \n",
    "    pl.col('execute_size').sum(),\n",
    "    pl.col('update_time').last(),\n",
    "    pl.col('total_profit').sum()\n",
    ").sort('update_time')\n",
    "\n",
    "\n",
    "group_by_order"
   ]
  },
  {
   "cell_type": "code",
   "execution_count": null,
   "metadata": {},
   "outputs": [],
   "source": [
    "lost = len(group_by_order.filter(pl.col('total_profit') < 0))\n",
    "win = len(group_by_order.filter(pl.col('total_profit') > 0))\n",
    "\n",
    "print(f'勝ち:{win} 負け:{lost} 勝率:{win/(win+lost)}')"
   ]
  },
  {
   "cell_type": "markdown",
   "metadata": {
    "id": "MH29uMtXd71c"
   },
   "source": [
    "## 6. グラフで確認"
   ]
  },
  {
   "cell_type": "markdown",
   "metadata": {
    "id": "RHSiAtBpd71c"
   },
   "source": [
    "### まずは該当期間のOHLCV（ローソク足）チャートを書く\n",
    "\n",
    "#### OHLCVデータの作成\n"
   ]
  },
  {
   "cell_type": "code",
   "execution_count": null,
   "metadata": {
    "id": "YW0VoT5Xd71d"
   },
   "outputs": [],
   "source": [
    "ohlcv = binance.ohlcv (\n",
    "    runner.start_timestamp, # runnerの開始時間\n",
    "    runner.last_timestamp,  # runnerの終了時間\n",
    "    60*60*2                 # 2時間足\n",
    ")"
   ]
  },
  {
   "cell_type": "code",
   "execution_count": null,
   "metadata": {
    "colab": {
     "base_uri": "https://localhost:8080/",
     "height": 617
    },
    "id": "YPnuvfTGd71d",
    "outputId": "a7fef64d-d55e-4d60-99f1-99b5187fbc09"
   },
   "outputs": [],
   "source": [
    "import plotly.graph_objects as go\n",
    "from plotly.subplots import make_subplots\n",
    "\n",
    "fig = make_subplots(rows=4, cols=1, shared_xaxes=True, vertical_spacing=0.1, row_heights=[0.1, 0.1, 0.1, 0.6],\n",
    "                    subplot_titles=(\"indicator\", \"position\", \"profit\", \"candlestick\"))\n",
    "\n",
    "# row 1 (indicator)\n",
    "diff_low = log['diff_low']\n",
    "fig.add_trace(go.Scatter(x=diff_low['timestamp'], y=diff_low['diff_low'], name=\"diff_low\"), row=1, col=1)\n",
    "\n",
    "diff_high = log['diff_high']\n",
    "fig.add_trace(go.Scatter(x=diff_low['timestamp'], y=diff_low['diff_low'], name=\"diff_high\"), row=1, col=1)\n",
    "\n",
    "range_width = log['range_width']\n",
    "fig.add_trace(go.Scatter(x=range_width['timestamp'], y=range_width['range_width'], name=\"range_width\"), row=1, col=1)\n",
    "\n",
    "orders = log.orders\n",
    "\n",
    "# row 2 (position)\n",
    "fig.add_trace(go.Scatter(x=orders['update_time'], y=orders['position'], name=\"position\"), row=2, col=1)\n",
    "\n",
    "\n",
    "# row 3 (profit)\n",
    "profit = orders['sum_profit']\n",
    "fig.add_trace(go.Scatter(x=orders['update_time'], y=orders['sum_profit'], name=\"profit\"), row=3, col=1)\n",
    "\n",
    "# row 4 (candlestick)\n",
    "fig.add_candlestick(x=ohlcv['timestamp'], open=ohlcv['open'], high=ohlcv['high'], low=ohlcv['low'], close=ohlcv['close'], row=4, col=1)\n",
    "\n",
    "# row 4 (order)\n",
    "buy_orders = orders.filter((orders['order_side'] == 'Buy') & (orders['status'] == 'New'))\n",
    "fig.add_trace(go.Scatter(x=buy_orders['update_time'], y=buy_orders['order_price'], mode='markers', marker=dict(symbol='arrow-up', color='red', size=10), name=\"buy\"), row=4, col=1)\n",
    "\n",
    "sell_orders = orders.filter((orders['order_side'] == 'Sell') & (orders['status'] == 'New'))\n",
    "fig.add_trace(go.Scatter(x=sell_orders['update_time'], y=sell_orders['order_price'], mode='markers', marker=dict(symbol='arrow-down', color='blue', size=10), name=\"sell\"), row=4, col=1)\n",
    "\n",
    "fig.update_layout(height=800, title_text=\"Backtest Result\")\n"
   ]
  },
  {
   "cell_type": "markdown",
   "metadata": {
    "id": "UM5WqsQGd71e"
   },
   "source": [
    "## 7. まとめ\n",
    "\n",
    "自分で書くのは百行ぐらいで簡単にバックテストができることが確認できました。\n",
    "\n",
    "使ってみてご意見お聞かせください。\n",
    "Twitter(@yasstake)でもgithubでissueあげてもOK.\n",
    "\n",
    "人気になったらDiscord立ち上げてみたいなー。どおでしょ？\n"
   ]
  },
  {
   "cell_type": "markdown",
   "metadata": {
    "id": "ej-ni8TAd71e"
   },
   "source": [
    "## 8. Next Step\n",
    "\n",
    "いろいろバックテストしてみよう\n",
    "\n",
    "#### BreakOutAgentのパラメータ変更\n",
    "以下のパラメータを変えたらどうなるか確認してみよう\n",
    "1. パラメータK (現在は1.6きめうち)\n",
    "2. 指値（現在はbestプライス。\n",
    "   * buyのときに低い価格で指すと利益は上がるがExpire率が上がる。\n",
    "   * 高い価格で指すとExpire率が下がるが利益が下がる。（この場合、本来はTakerFeeが取られるが現在はMakerFeeで計算）\n",
    "3. ロット（現在は0.01 BTC)の変更\n",
    "4. 2時間足から他の足を試してみる。\n",
    "5. Clockのタイミングを増やす・へらす（現在は10分）\n",
    "6. バックテスト期間の延長（現在はBACKTEST_PERIODは5日で設定）\n",
    "\n",
    "さらに独自のIndicatorをつくり、独自ロジックをつくってバックテストしてみよう（OHLCVをベースに判断するロジックならば問題なく作れるはず）"
   ]
  },
  {
   "cell_type": "markdown",
   "metadata": {
    "id": "z--0xVWGd71e"
   },
   "source": []
  }
 ],
 "metadata": {
  "colab": {
   "history_visible": true,
   "provenance": []
  },
  "kernelspec": {
   "display_name": "Python 3 (ipykernel)",
   "language": "python",
   "name": "python3"
  },
  "language_info": {
   "codemirror_mode": {
    "name": "ipython",
    "version": 3
   },
   "file_extension": ".py",
   "mimetype": "text/x-python",
   "name": "python",
   "nbconvert_exporter": "python",
   "pygments_lexer": "ipython3",
   "version": "3.12.1"
  },
  "vscode": {
   "interpreter": {
    "hash": "e69bbd470bf1393b14609a6bb37f84ea05c8b778927caf2a584647f90d922fc5"
   }
  }
 },
 "nbformat": 4,
 "nbformat_minor": 1
}
