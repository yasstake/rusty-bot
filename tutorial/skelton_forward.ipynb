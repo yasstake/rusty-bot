{
 "cells": [
  {
   "cell_type": "markdown",
   "metadata": {},
   "source": [
    "# RustyBot(rbot)のフレームワークスケルトン(ForwardTest)\n",
    "\n",
    "注：　Jyupiter上ではダウンロードなどのバックグランド処理中に止まってしまうことが多いです。コマンドライン版を動かしてください。\n",
    "\n",
    "## フォーワードテストとはなにか\n",
    "\n",
    "フォーワードテストは、本番のデータ（リアルタイムの約定情報と板情報）を使いながら、オーダについてはローカルでシュミレートするモードです。\n",
    "\n",
    "\n",
    "## このサンプルについて\n",
    "フレームワークで動かすためのBotの構造サンプルを提供します。\n",
    "\n",
    "リアル時間で動かすため、on_tickを１０秒毎に、on_tickを100イベント毎に出力します。\n",
    "\n",
    "`on_init`, `on_tick`, `on_clock`, `on_update`を必要に応じて実装します。\n",
    "\n",
    "参考：\n",
    "* [back test](./binance_skelton_back.ipynb)\n",
    "* [real run](./binance_skelton_forward.ipynb)"
   ]
  },
  {
   "cell_type": "code",
   "execution_count": null,
   "metadata": {},
   "outputs": [],
   "source": [
    "# rbotをインストールします。\n",
    "! pip install --upgrade pip\n",
    "! pip install rbot"
   ]
  },
  {
   "cell_type": "code",
   "execution_count": null,
   "metadata": {},
   "outputs": [],
   "source": [
    "from rbot import time_string        # μsの時間を文字列に変換するユーティリティ関数です。\n",
    "\n",
    "class SkeltonAgent:      # クラス名は任意です\n",
    "    def __init__(self):\n",
    "        \"\"\"Botの初期化処理です。パラメータなどを設定するといいでしょう。利用しなくても構いません。\n",
    "        \"\"\"\n",
    "        self.tick_count = 0         # on_tickが呼び出された回数をカウントします。\n",
    "    \n",
    "    def on_init(self, session):\n",
    "        \"\"\"Botの初期化処理。Botの初期化時に一度だけ呼ばれます。\n",
    "        通常はsession.clock_interval_secを指定しon_clockの呼び出し間隔を設定します。\n",
    "        Args:\n",
    "            session: セッション情報（Botの初期化時用に渡されます）\n",
    "        \"\"\"\n",
    "        session.clock_interval_sec = 10        # 10秒ごとにon_clockを呼び出します。\n",
    "\n",
    "    \n",
    "    def on_tick(self, session, side, price, size):\n",
    "        \"\"\"取引所からの全ての約定イベント毎に呼び出される処理です（高頻度で呼び出されます）\n",
    "        Args:\n",
    "            session: セッション情報（市況情報の取得や注文するために利用します)\n",
    "            side: 売買区分です。\"Buy\"または\"Sell\"が設定されます。\n",
    "            price: 約定価格です。\n",
    "            size: 約定数量です。\n",
    "        \"\"\"\n",
    "        \n",
    "        # on_tickは高頻度によびだされるので、100回に1回だけ内容をプリントします。\n",
    "        if self.tick_count % 100 == 0:\n",
    "            print(\"on_tick: \", side, price, size)\n",
    "\n",
    "        self.tick_count += 1\n",
    "    \n",
    "    def on_clock(self, session, clock):\n",
    "        \"\"\"定期的にフレームワークから呼び出される処理です。\n",
    "        session.clock_interval_secで指定した間隔で呼び出されます。\n",
    "\n",
    "        Args:\n",
    "            session: セッション情報（市況情報の取得や注文するために利用します)        \n",
    "            clock: 現在時刻です。エポック時間からのマイクロ秒で表されます。\n",
    "        \"\"\"\n",
    "        # 現在の時刻をプリントします。\n",
    "        print(\"on_clock: \", clock, \": \", time_string(clock))\n",
    "    \n",
    "    def on_update(self, session, updated_order):\n",
    "        \"\"\"自分の注文状態が変化した場合に呼び出される処理です。\n",
    "        Args:\n",
    "            session: セッション情報（市況情報の取得や注文するために利用します)                \n",
    "            session: セッション情報（市況情報の取得や注文するために利用します)        \n",
    "            updated_order: 注文状態が変化した注文情報です。\n",
    "        \"\"\"\n",
    "        # 注文状態が変化した注文情報をプリントします。オーダーを発行しない限り呼び出されません。\n",
    "        print(\"on_update\", updated_order)    \n",
    "\n",
    "    "
   ]
  },
  {
   "cell_type": "markdown",
   "metadata": {},
   "source": [
    "## フォーワードテストの準備\n",
    "\n"
   ]
  },
  {
   "cell_type": "code",
   "execution_count": null,
   "metadata": {},
   "outputs": [],
   "source": [
    "# Binanceマーケットを指定します。\n",
    "\n",
    "from rbot import Binance\n",
    "from rbot import BinanceConfig\n",
    "\n",
    "binance_exchange = Binance(production=True)\n",
    "\n",
    "config = BinanceConfig.BTCUSDT\n",
    "binance_market = binance_exchange.open_market(config)"
   ]
  },
  {
   "cell_type": "code",
   "execution_count": null,
   "metadata": {},
   "outputs": [],
   "source": [
    "# Bybitマーケットを指定します。(binanceかbybitのどちらか一方を選択してください)\n",
    "from rbot import Bybit\n",
    "from rbot import BybitConfig\n",
    "\n",
    "bybit_exchange = Bybit(production=True)     # 本番ネットのデータを取得します。\n",
    "\n",
    "config = BybitConfig.BTCUSDT          # BTC/USDTの市況情報を取得します。\n",
    "bybit_market = bybit_exchange.open_market(config)   # BTCUSDTの市況情報を取得するためのマーケットを開きます。\n"
   ]
  },
  {
   "cell_type": "code",
   "execution_count": null,
   "metadata": {},
   "outputs": [],
   "source": [
    "exchange = bybit_exchange\n",
    "market = bybit_market\n",
    "#exchange = binance_exchange\n",
    "#market = binance_market"
   ]
  },
  {
   "cell_type": "code",
   "execution_count": null,
   "metadata": {},
   "outputs": [],
   "source": [
    "# 過去ログを１日分ダウンロードします。\n",
    "\n",
    "market.download_archive(ndays=1, verbose=True)\n",
    "\n",
    "# 更新系のオペレーションは１つのプロセスしかできません。他にプロセスがある場合はデッドロックする場合があります。\n",
    "# また大量のファイルをダウンロードするため、ディスク容量に注意してください。\n"
   ]
  },
  {
   "cell_type": "code",
   "execution_count": null,
   "metadata": {},
   "outputs": [],
   "source": [
    "# DBの場所は以下の場所にあります。古いバージョンのrbotと非互換が発生した場合などDBファイルを一旦削除してください。\n",
    "market.file_name"
   ]
  },
  {
   "cell_type": "markdown",
   "metadata": {},
   "source": [
    "本番実行は、データをダウンロードする時間がかかり,jupyter上ではうまく動かない場合が多いです。その場合は`skeltom_forward.py`のほうをコマンドラインでうごかしてください。途中経過が表示されるので止まっているのか、動いているのか判別できます。とくにダウンロードが多いBinanceでJupyter上では止まっているようにみえることが多いです。\n",
    "\n",
    "本番実行の場合、アーカイブデータとリアルタイムデータの間のデータをすべてダウンロードします。\n",
    "* Binanceの場合\n",
    "    RESTでダウンロードするのて時間がかかります。\n",
    "* Bybitの場合\n",
    "    アーカイブ以降は１分足のデータしかないので、１分足以下のOHLCVは作成しても正しくデータが反映されません。"
   ]
  },
  {
   "cell_type": "code",
   "execution_count": null,
   "metadata": {},
   "outputs": [],
   "source": [
    "from rbot import Runner\n",
    "from rbot import NOW, DAYS\n",
    "\n",
    "agent = SkeltonAgent()\n",
    "runner = Runner()\n",
    "\n",
    "session = runner.dry_run(\n",
    "                exchange=exchange,\n",
    "                market=market,\n",
    "                agent=agent, \n",
    "                execute_time = 60,  # 60秒間実行します。\n",
    "                verbose=True\n",
    "            )\n",
    "\n",
    "session"
   ]
  },
  {
   "cell_type": "code",
   "execution_count": null,
   "metadata": {},
   "outputs": [],
   "source": [
    "log = session.log"
   ]
  },
  {
   "cell_type": "code",
   "execution_count": null,
   "metadata": {},
   "outputs": [],
   "source": [
    "log.orders"
   ]
  },
  {
   "cell_type": "code",
   "execution_count": null,
   "metadata": {},
   "outputs": [],
   "source": [
    "log['indicators']"
   ]
  },
  {
   "cell_type": "code",
   "execution_count": null,
   "metadata": {},
   "outputs": [],
   "source": []
  },
  {
   "cell_type": "code",
   "execution_count": null,
   "metadata": {},
   "outputs": [],
   "source": []
  }
 ],
 "metadata": {
  "kernelspec": {
   "display_name": ".venv",
   "language": "python",
   "name": "python3"
  },
  "language_info": {
   "codemirror_mode": {
    "name": "ipython",
    "version": 3
   },
   "file_extension": ".py",
   "mimetype": "text/x-python",
   "name": "python",
   "nbconvert_exporter": "python",
   "pygments_lexer": "ipython3",
   "version": "3.11.6"
  }
 },
 "nbformat": 4,
 "nbformat_minor": 2
}
