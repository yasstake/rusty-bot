{
 "cells": [
  {
   "cell_type": "markdown",
   "metadata": {
    "colab_type": "text",
    "id": "view-in-github"
   },
   "source": [
    "<a href=\"https://colab.research.google.com/github/yasstake/rusty-bot/blob/main/experimental/bybit/bybit_basilbot_backtest.ipynb\" target=\"_parent\"><img src=\"https://colab.research.google.com/assets/colab-badge.svg\" alt=\"Open In Colab\"/></a>"
   ]
  },
  {
   "cell_type": "markdown",
   "metadata": {
    "id": "o2dZg7-ER8Y-"
   },
   "source": [
    "# バジルさんの記事「Binanceで数か月運用していた高頻度botの紹介」を実装してみる。\n",
    "https://note.com/kkngo/n/n13fb59bacc95?sub_rt=share_sb\n",
    "\n",
    "## バックテスト　＆　フォーワードテスト\n",
    "\n",
    "[テストネットによる本番運用はこちら](.//basilbot_real_run_testnet.ipynb)"
   ]
  },
  {
   "cell_type": "markdown",
   "metadata": {
    "id": "AA3aRy_fR8Y_"
   },
   "source": [
    "## ロジック\n",
    "バジルさんのロジックを引用すると以下のとおり\n",
    "\n",
    "* 取引頻度\n",
    "    約定履歴から作成した3秒足ごと\n",
    "* エントリー/イグジット条件\n",
    "    * 常に買いから入り、終値*0.9995など決め打ちでの買い指値（数字は仮）\n",
    "    * イグジットも終値*1.0005など決め打ちでの売り指値（数字は仮）\n",
    "\n",
    "* ピラミッディングやドテンの類はなし\n",
    "* 手持ちのTUSD（2500TUSDくらい）分のBTCを買って売るだけ\n",
    "* 4/27に大きく焼かれてからは、直近数時間の値動きが大きすぎるときはエントリーしないように対応\n",
    "* 約定回数\n",
    "    200～300回/日\n"
   ]
  },
  {
   "cell_type": "markdown",
   "metadata": {
    "id": "J5gSlyBYR8Y_"
   },
   "source": [
    "これを今回の実装用に調整・具体化すると以下。\n",
    "\n",
    "* 3秒毎にエントリーするかどうかを判定。\n",
    "\n",
    "* エントリー条件\n",
    "  * 前回のオーダーが残っていない（オーダー中および買いポジション(相当)がない）\n",
    "  * 直前の値動きが大きくない\n",
    "    * ３０分足を４本とり、平均の値幅が閾値以下。\n",
    "* オーダーキャンセル条件\n",
    "  * EXPIRE_TIME(600秒: 10分)以上約定しないオーダーはキャンセルする。\n",
    "* 執行戦略\n",
    "  * 買い\n",
    "    * エントリー条件が揃ったら執行\n",
    "    * 指値: 3秒足の終値 * (1-OFFSET)     // OFFSETは0.0005などの値\n",
    "    * 数量: 0.001 BTC\n",
    "  * 売り\n",
    "    * 買いオーダーの約定が残っていたら執行\n",
    "    * 指値：買いオーダー発行時の3秒足の終値 * (1+OFFSET)     // OFFSETは0.0005などの値\n",
    "    * 数量：約定した買い注文と同数（=仮想敵なPosition）\n",
    "    * その他：売りオーダーがExpireしてCancelされた場合、即、market_orderで投げうる。\n"
   ]
  },
  {
   "cell_type": "code",
   "execution_count": null,
   "metadata": {
    "colab": {
     "base_uri": "https://localhost:8080/"
    },
    "id": "LQCY3HuqR8ZA",
    "outputId": "e2714b35-c107-4e75-ee69-801d2f1ea32a"
   },
   "outputs": [],
   "source": [
    "# rbot拡張ライブラリのインストール（２回目は不要です）\n",
    "# ! pip install --upgrade pip\n",
    "! pip install --upgrade --index-url https://test.pypi.org/simple/ rbot  # test pypi からのインストール"
   ]
  },
  {
   "cell_type": "code",
   "execution_count": null,
   "metadata": {
    "colab": {
     "base_uri": "https://localhost:8080/"
    },
    "id": "8UeuP9A8R8ZA",
    "outputId": "036dd7b5-c80f-43e3-f632-5cef3edbc4d6"
   },
   "outputs": [],
   "source": [
    "# 関連ライブラリのインストール\n",
    "# Polarsは0.20.0が必要です。\n",
    "! pip install pyarrow\n",
    "! pip install --upgrade polars\n",
    "! pip install plotly\n",
    "! pip install nbformat\n",
    "! pip install numpy\n",
    "! pip install pandas\n",
    "! pip install json2html"
   ]
  },
  {
   "cell_type": "markdown",
   "metadata": {
    "id": "tkLybrR0R8ZA"
   },
   "source": [
    "# Agent（BOT）の実装"
   ]
  },
  {
   "cell_type": "code",
   "execution_count": null,
   "metadata": {
    "id": "tfz8NHK1R8ZA"
   },
   "outputs": [],
   "source": [
    "class BasilAgent:\n",
    "    def __init__(self):\n",
    "        self.OFFSET = 0.00_05\n",
    "        self.EXPIRE_TIME = 600    # 600[sec] = 10[min]\n",
    "        self.ORDER_SIZE = 0.01\n",
    "        self.RANGE = 300\n",
    "\n",
    "    def on_init(self, session):\n",
    "        session.clock_interval_sec = 3     # 3秒ごとに on_clock を呼び出す\n",
    "\n",
    "    def on_clock(self, session, clock):\n",
    "        if session.expire_order(self.EXPIRE_TIME):         # 期限切れの注文をキャンセルする.\n",
    "            return                                          # 期限切れがあればリターン\n",
    "\n",
    "        if session.buy_orders or session.sell_orders:   # 既に注文がある場合はリターン\n",
    "            return\n",
    "\n",
    "        # 1時間足のレンジを計算してログに出力する。レンジが大きい場合はトレードしない。\n",
    "        ohlcv1h = session.ohlcv(60*60, 4)\n",
    "        range = (ohlcv1h['high']-ohlcv1h['low']).mean()\n",
    "        session.log_indicator(\"range\", range)\n",
    "\n",
    "        if self.RANGE < range:\n",
    "            return\n",
    "\n",
    "        ohlcv = session.ohlcv(3, 1)         # 3秒足を1本分取得。\n",
    "        if len(ohlcv) < 1:                 # 3秒間に約定データがない場合リターン\n",
    "            print(\"NO OHLCV DATA\")\n",
    "            return\n",
    "\n",
    "        if session.position <= 0.001:    # ポジションが少ない場合は買い注文を出す。\n",
    "            order_price = ohlcv['close'][-1] * (1 - self.OFFSET)\n",
    "            print(\"BUY ORDER: \", order_price, self.ORDER_SIZE)\n",
    "            session.limit_order('Buy', order_price, self.ORDER_SIZE - session.position)\n",
    "\n",
    "        else:                       # ポジションがある場合は売り注文を出す。\n",
    "            order_price = ohlcv['close'][-1] * (1 + self.OFFSET)\n",
    "            print(\"SELL ORDER: \", order_price, session.position)\n",
    "            session.limit_order('Sell', order_price, session.position)\n",
    "\n",
    "    def on_update(self, session, updated_order):\n",
    "        # 売りオーダーが期限切れされた場合には、成り行きで売り注文を出す（ロスカット）\n",
    "        if updated_order.status == 'Canceled':\n",
    "            if updated_order.side == 'Sell':\n",
    "                session.market_order('Sell', updated_order.remaining_size)\n",
    "\n"
   ]
  },
  {
   "cell_type": "markdown",
   "metadata": {
    "id": "sxwZy7uhR8ZA"
   },
   "source": [
    "## バックテスト"
   ]
  },
  {
   "cell_type": "code",
   "execution_count": null,
   "metadata": {
    "colab": {
     "base_uri": "https://localhost:8080/"
    },
    "id": "N83sk-LZR8ZA",
    "outputId": "641c8c03-d8c8-44dd-e064-023fd99cfd9e"
   },
   "outputs": [],
   "source": [
    "from rbot import Bybit\n",
    "from rbot import BybitConfig\n",
    "from rbot import Runner\n",
    "from rbot import NOW, DAYS"
   ]
  },
  {
   "cell_type": "code",
   "execution_count": null,
   "metadata": {
    "id": "BqOzV2C9JUnY"
   },
   "outputs": [],
   "source": [
    "# Colabの場合、DBの保存先をGoogleDriveにする。\n",
    "# 以下のように環境変数へ設定するようにする（予定）\n",
    "\n",
    "#import os, sys\n",
    "\n",
    "#if 'google.colab' in sys.modules:\n",
    "#    os.environ['RBOT_DB_ROOT'] = '/content/drive/MyDrive'\n"
   ]
  },
  {
   "cell_type": "code",
   "execution_count": null,
   "metadata": {
    "colab": {
     "base_uri": "https://localhost:8080/"
    },
    "id": "RdsurKqER8ZB",
    "outputId": "efa2005e-a39b-429f-84ca-b48304940025"
   },
   "outputs": [],
   "source": [
    "bybit = Bybit()\n",
    "\n",
    "market = bybit.open_market(BybitConfig.BTCUSDT)\n",
    "\n",
    "# バックテストの期間を設定\n",
    "BACKTEST_DAYS = 2\n",
    "\n",
    "# バックテスト用に過去データをダウンロード\n",
    "market.download(\n",
    "    ndays=BACKTEST_DAYS,          # 過去2日分のデータをダウンロード\n",
    "    verbose=True,\n",
    "    archive_only=True\n",
    ")"
   ]
  },
  {
   "cell_type": "code",
   "execution_count": null,
   "metadata": {
    "id": "JITPJsWdR8ZB"
   },
   "outputs": [],
   "source": [
    "agent = BasilAgent()        # 実行対象のエージェントを指定\n",
    "runner = Runner()           # 実行モジュール Runner を作成"
   ]
  },
  {
   "cell_type": "code",
   "execution_count": null,
   "metadata": {
    "colab": {
     "base_uri": "https://localhost:8080/"
    },
    "id": "vJHgewahR8ZB",
    "outputId": "1d8c67de-6798-43e4-8f34-f2e849494fc5"
   },
   "outputs": [],
   "source": [
    "session = runner.back_test(\n",
    "    agent=agent,                    # エージェントを指定\n",
    "    market=market,                  # マーケットを指定\n",
    "    start_time=NOW()-DAYS(BACKTEST_DAYS), # 開始時刻を指定\n",
    "    end_time=0,                     # 終了時刻を指定(0を指定すると最後まで実行)\n",
    "    # execute_time=60*60*24,        # 実行時間を指定(指定しない、もしくは0を指定すると最後まで実行)\n",
    "    verbose=True,                   # 実行の進捗を表示\n",
    "    # log_file=\"./bot.log\"            # ログファイルを指定(指定しないとファイルは作られない）\n",
    ")\n"
   ]
  },
  {
   "cell_type": "code",
   "execution_count": null,
   "metadata": {
    "colab": {
     "base_uri": "https://localhost:8080/",
     "height": 362
    },
    "id": "wSlxhiVjR8ZB",
    "outputId": "ea57f3ad-06db-4085-faf5-cbbf74d74e24"
   },
   "outputs": [],
   "source": [
    "log = session.log\n",
    "orders = log.orders\n",
    "orders.tail(5)"
   ]
  },
  {
   "cell_type": "code",
   "execution_count": null,
   "metadata": {
    "colab": {
     "base_uri": "https://localhost:8080/",
     "height": 349
    },
    "id": "EPnQNW_LR8ZB",
    "outputId": "653687f2-41c6-4350-8fee-9af24889246f"
   },
   "outputs": [],
   "source": [
    "# オーダー状況分析\n",
    "# あまりにCancelが多い場合は、Expireの時間やオーダーのOFFSETを調整する必要がある。\n",
    "orders.group_by(['order_side', 'status']).count()"
   ]
  },
  {
   "cell_type": "code",
   "execution_count": null,
   "metadata": {
    "colab": {
     "base_uri": "https://localhost:8080/"
    },
    "id": "Wozxa3x6R8ZB",
    "outputId": "075d8686-92e3-434f-d013-ad26df03afb8"
   },
   "outputs": [],
   "source": [
    "# 最終想定損益\n",
    "orders['sum_profit'][-1]"
   ]
  },
  {
   "cell_type": "code",
   "execution_count": null,
   "metadata": {
    "colab": {
     "base_uri": "https://localhost:8080/"
    },
    "id": "wdt8vTsxR8ZB",
    "outputId": "1d9b8d85-c1a7-43b4-c701-74065ab37587"
   },
   "outputs": [],
   "source": [
    "# 手数料なし想定損益\n",
    "orders['profit'].sum()"
   ]
  },
  {
   "cell_type": "code",
   "execution_count": null,
   "metadata": {
    "colab": {
     "base_uri": "https://localhost:8080/",
     "height": 255
    },
    "id": "mJ4vIh8-R8ZB",
    "outputId": "3b314ce7-9d0f-4a73-f5f9-f30023d530ee"
   },
   "outputs": [],
   "source": [
    "\n",
    "# ローソク足データの作成\n",
    "ohlcv = market.ohlcv(\n",
    "    runner.start_timestamp,     # バックテストの開始時刻\n",
    "    runner.last_timestamp,    # バックテストの終了時刻\n",
    "    30                          # 30秒足\n",
    ")\n",
    "ohlcv.tail(5)"
   ]
  },
  {
   "cell_type": "code",
   "execution_count": null,
   "metadata": {
    "colab": {
     "base_uri": "https://localhost:8080/",
     "height": 255
    },
    "id": "XSfXB9JGR8ZB",
    "outputId": "2b6f41d1-e8e0-4912-9ffb-dca4f707ec9b"
   },
   "outputs": [],
   "source": [
    "# session.log_indicator('range', value)で保存したデータは以下で取得できます。戻り値はpolars.DataFrameです。\n",
    "log['range'].tail(5)"
   ]
  },
  {
   "cell_type": "code",
   "execution_count": null,
   "metadata": {
    "colab": {
     "base_uri": "https://localhost:8080/",
     "height": 817
    },
    "id": "bT5k-vU-R8ZB",
    "outputId": "a6823dc2-20de-4b1b-98f0-0525edc22f35"
   },
   "outputs": [],
   "source": [
    "# バックテスト結果の可視化\n",
    "\n",
    "# 数千件のデータを可視化するときは、plotlyを使うと便利。\n",
    "# https://plotly.com/python/\n",
    "# ただし約定データが万を超えると、ブラウザが重くなるので注意。一部データ切り取りなどが必要。\n",
    "\n",
    "import plotly.graph_objects as go\n",
    "from plotly.subplots import make_subplots\n",
    "\n",
    "fig = make_subplots(rows=4, cols=1, shared_xaxes=True, vertical_spacing=0.1, row_heights=[0.1, 0.1, 0.1, 0.6],\n",
    "                    subplot_titles=(\"range\", \"psudo-position\", \"psudo-profit\", \"candlestick\"))\n",
    "\n",
    "# row 1 (indicator)\n",
    "spread = log['range']\n",
    "fig.add_trace(go.Scatter(x=spread['timestamp'], y=spread['range'], name=\"range\"), row=1, col=1)\n",
    "\n",
    "# row 2 (position)\n",
    "fig.add_trace(go.Scatter(x=orders['update_time'], y=orders['position'], name=\"position\", line=dict(shape='hv')), row=2, col=1)\n",
    "\n",
    "# row 3 (profit)\n",
    "profit = orders['sum_profit']\n",
    "fig.add_trace(go.Scatter(x=orders['update_time'], y=orders['sum_profit'], name=\"profit\", line=dict(shape='hv')), row=3, col=1)\n",
    "\n",
    "# row 4 (candlestick)\n",
    "fig.add_candlestick(x=ohlcv['timestamp'], open=ohlcv['open'], high=ohlcv['high'], low=ohlcv['low'], close=ohlcv['close'], row=4, col=1)\n",
    "\n",
    "# row 4 (order)\n",
    "buy_orders = orders.filter((orders['order_side'] == 'Buy') & (orders['status'] == 'New'))\n",
    "fig.add_trace(go.Scatter(x=buy_orders['update_time'], y=buy_orders['order_price'], mode='markers', marker=dict(symbol='arrow-up', color='red', size=10), name=\"buy\"), row=4, col=1)\n",
    "\n",
    "buy_orders = orders.filter((orders['order_side'] == 'Buy') & (orders['status'] == 'Filled'))\n",
    "fig.add_trace(go.Scatter(x=buy_orders['update_time'], y=buy_orders['order_price'], mode='markers', marker=dict(symbol='cross-thin-open', color='red', size=10), name=\"buy filled\"), row=4, col=1)\n",
    "\n",
    "buy_orders = orders.filter((orders['order_side'] == 'Buy') & (orders['status'] == 'Canceled'))\n",
    "fig.add_trace(go.Scatter(x=buy_orders['update_time'], y=buy_orders['order_price'], mode='markers', marker=dict(symbol='x-thin-open', color='red', size=10), name=\"buy canceled\"), row=4, col=1)\n",
    "\n",
    "\n",
    "sell_orders = orders.filter((orders['order_side'] == 'Sell') & (orders['status'] == 'New'))\n",
    "fig.add_trace(go.Scatter(x=sell_orders['update_time'], y=sell_orders['order_price'], mode='markers', marker=dict(symbol='arrow-down', color='blue', size=10), name=\"sell\"), row=4, col=1)\n",
    "\n",
    "sell_orders = orders.filter((orders['order_side'] == 'Sell') & (orders['status'] == 'Filled'))\n",
    "fig.add_trace(go.Scatter(x=sell_orders['update_time'], y=sell_orders['order_price'], mode='markers', marker=dict(symbol='cross-thin-open', color='blue', size=10), name=\"sell filled\"), row=4, col=1)\n",
    "\n",
    "sell_orders = orders.filter((orders['order_side'] == 'Sell') & (orders['status'] == 'Canceled'))\n",
    "fig.add_trace(go.Scatter(x=sell_orders['update_time'], y=sell_orders['order_price'], mode='markers', marker=dict(symbol='x-thin-open', color='blue', size=10), name=\"sell canceled\"), row=4, col=1)\n",
    "\n",
    "fig.update_layout(height=800, title_text=\"Backtest Result\")\n"
   ]
  },
  {
   "cell_type": "markdown",
   "metadata": {
    "id": "HGbR7LWmR8ZB"
   },
   "source": [
    "# フォーワードテスト\n",
    "\n",
    "ここからは、WebSocketでリアルタイムデータを使います。そのためColabでは動きません。ローカルにjupyter環境を準備して実行してください。"
   ]
  },
  {
   "cell_type": "code",
   "execution_count": null,
   "metadata": {
    "id": "XZzVPqc5R8ZB"
   },
   "outputs": [],
   "source": [
    "runner = Runner()\n",
    "\n",
    "session = runner.dry_run(\n",
    "    agent=agent,\n",
    "    market=market,\n",
    "    log_memory=True,\n",
    "    execute_time=60*5,     # 60x5=5分間\n",
    "    verbose=True,\n",
    "    # log_file=\"./bot.log\"            # ログファイルを指定(指定しないとファイルは作られない）\n",
    ")"
   ]
  },
  {
   "cell_type": "code",
   "execution_count": null,
   "metadata": {
    "id": "V6XdLZGSR8ZB"
   },
   "outputs": [],
   "source": [
    "log = session.log"
   ]
  },
  {
   "cell_type": "code",
   "execution_count": null,
   "metadata": {
    "id": "X1kCenDLR8ZB"
   },
   "outputs": [],
   "source": [
    "orders = log.orders\n",
    "orders.tail(5)"
   ]
  },
  {
   "cell_type": "code",
   "execution_count": null,
   "metadata": {
    "id": "YFMnbws-R8ZB"
   },
   "outputs": [],
   "source": [
    "ohlcv = market.ohlcv(runner.start_timestamp, runner.last_timestamp, 10)\n",
    "ohlcv"
   ]
  },
  {
   "cell_type": "code",
   "execution_count": null,
   "metadata": {
    "id": "O-R9xwRCR8ZC"
   },
   "outputs": [],
   "source": [
    "import plotly.graph_objects as go\n",
    "from plotly.subplots import make_subplots\n",
    "from plotly.offline import plot\n",
    "\n",
    "fig = make_subplots(rows=4, cols=1, shared_xaxes=True, vertical_spacing=0.1, row_heights=[0.1, 0.1, 0.1, 0.6],\n",
    "                    subplot_titles=(\"range\", \"psudo-position\", \"psudo-profit\", \"candlestick\"))\n",
    "\n",
    "# row 1 (indicator)\n",
    "spread = log['range']\n",
    "fig.add_trace(go.Scatter(x=spread['timestamp'], y=spread['range'], name=\"range\"), row=1, col=1)\n",
    "\n",
    "# row 2 (position)\n",
    "fig.add_trace(go.Scatter(x=orders['update_time'], y=orders['position'], name=\"position\", line=dict(shape='hv')), row=2, col=1)\n",
    "\n",
    "# row 3 (profit)\n",
    "profit = orders['sum_profit']\n",
    "fig.add_trace(go.Scatter(x=orders['update_time'], y=orders['sum_profit'], name=\"profit\", line=dict(shape='hv')), row=3, col=1)\n",
    "\n",
    "# row 4 (candlestick)\n",
    "fig.add_candlestick(x=ohlcv['timestamp'], open=ohlcv['open'], high=ohlcv['high'], low=ohlcv['low'], close=ohlcv['close'], row=4, col=1)\n",
    "\n",
    "# row 4 (order)\n",
    "buy_orders = orders.filter((orders['order_side'] == 'Buy') & (orders['status'] == 'New'))\n",
    "fig.add_trace(go.Scatter(x=buy_orders['update_time'], y=buy_orders['order_price'], mode='markers', marker=dict(symbol='arrow-up', color='red', size=10), name=\"buy\"), row=4, col=1)\n",
    "\n",
    "buy_orders = orders.filter((orders['order_side'] == 'Buy') & (orders['status'] == 'Filled'))\n",
    "fig.add_trace(go.Scatter(x=buy_orders['update_time'], y=buy_orders['order_price'], mode='markers', marker=dict(symbol='cross-thin-open', color='red', size=10), name=\"buy filled\"), row=4, col=1)\n",
    "\n",
    "buy_orders = orders.filter((orders['order_side'] == 'Buy') & (orders['status'] == 'Canceled'))\n",
    "fig.add_trace(go.Scatter(x=buy_orders['update_time'], y=buy_orders['order_price'], mode='markers', marker=dict(symbol='x-thin-open', color='red', size=10), name=\"buy canceled\"), row=4, col=1)\n",
    "\n",
    "\n",
    "sell_orders = orders.filter((orders['order_side'] == 'Sell') & (orders['status'] == 'New'))\n",
    "fig.add_trace(go.Scatter(x=sell_orders['update_time'], y=sell_orders['order_price'], mode='markers', marker=dict(symbol='arrow-down', color='blue', size=10), name=\"sell\"), row=4, col=1)\n",
    "\n",
    "sell_orders = orders.filter((orders['order_side'] == 'Sell') & (orders['status'] == 'Filled'))\n",
    "fig.add_trace(go.Scatter(x=sell_orders['update_time'], y=sell_orders['order_price'], mode='markers', marker=dict(symbol='cross-thin-open', color='blue', size=10), name=\"sell filled\"), row=4, col=1)\n",
    "\n",
    "sell_orders = orders.filter((orders['order_side'] == 'Sell') & (orders['status'] == 'Canceled'))\n",
    "fig.add_trace(go.Scatter(x=sell_orders['update_time'], y=sell_orders['order_price'], mode='markers', marker=dict(symbol='x-thin-open', color='blue', size=10), name=\"sell canceled\"), row=4, col=1)\n",
    "\n",
    "fig.update_layout(height=800, title_text=\"Forwadtest Result\")\n"
   ]
  },
  {
   "cell_type": "code",
   "execution_count": null,
   "metadata": {
    "id": "eo7JQXspJUna"
   },
   "outputs": [],
   "source": [
    "market.ohlcv(0, 0, 600)"
   ]
  },
  {
   "cell_type": "code",
   "execution_count": null,
   "metadata": {
    "id": "Q8UPKQxWJUna"
   },
   "outputs": [],
   "source": []
  }
 ],
 "metadata": {
  "colab": {
   "include_colab_link": true,
   "provenance": []
  },
  "kernelspec": {
   "display_name": ".venv",
   "language": "python",
   "name": "python3"
  },
  "language_info": {
   "codemirror_mode": {
    "name": "ipython",
    "version": 3
   },
   "file_extension": ".py",
   "mimetype": "text/x-python",
   "name": "python",
   "nbconvert_exporter": "python",
   "pygments_lexer": "ipython3",
   "version": "3.11.6"
  }
 },
 "nbformat": 4,
 "nbformat_minor": 0
}
