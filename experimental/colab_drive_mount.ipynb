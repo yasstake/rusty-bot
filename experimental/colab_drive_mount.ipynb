{
 "cells": [
  {
   "cell_type": "markdown",
   "metadata": {
    "colab_type": "text",
    "id": "view-in-github"
   },
   "source": [
    "<a href=\"https://colab.research.google.com/github/yasstake/rusty-bot/blob/main/experimental/colab_drive_mount.ipynb\" target=\"_parent\"><img src=\"https://colab.research.google.com/assets/colab-badge.svg\" alt=\"Open In Colab\"/></a>"
   ]
  },
  {
   "cell_type": "markdown",
   "metadata": {
    "id": "hCeU7CAj8CLd"
   },
   "source": [
    "# ColabでGoogleDriveをマウントする方法を説明します。\n",
    "\n",
    "## 背景\n",
    "Colabでは、ランタイムを削除するとDisk上のファイルがクリアされます。RusyBotはシステム上にSqlite3のDBをつくっているためランタイム削除のたびにDBがクリアされることになります。\n",
    "\n",
    "そこで、DBをGoogleDriveに置く方法を説明します。\n",
    "\n",
    "BinanceConfig.db_base_dirでDB保存先を変更する方法は、ローカルPCで余裕のあるディスクにDBを構築したい場合にも有効です。\n",
    "\n",
    "注：version　0.2.15 から環境変数 `RBOT_DB_ROOT`に設定するように変更になります。"
   ]
  },
  {
   "cell_type": "code",
   "execution_count": null,
   "metadata": {
    "colab": {
     "base_uri": "https://localhost:8080/"
    },
    "id": "TyxsNSX38CLf",
    "outputId": "863fa933-92be-4300-cbc4-60b0c0e5a15e"
   },
   "outputs": [],
   "source": [
    "! pip install rbot"
   ]
  },
  {
   "cell_type": "code",
   "execution_count": null,
   "metadata": {
    "colab": {
     "base_uri": "https://localhost:8080/"
    },
    "id": "54fjNj1c8CLg",
    "outputId": "e67fc224-46e0-4ae8-b6e4-e45c63f0d255"
   },
   "outputs": [],
   "source": [
    "from rbot import BinanceConfig\n",
    "from rbot import BinanceMarket"
   ]
  },
  {
   "cell_type": "code",
   "execution_count": null,
   "metadata": {
    "colab": {
     "base_uri": "https://localhost:8080/"
    },
    "id": "HJ5dMktb8CLg",
    "outputId": "578ee6e7-d11e-4ed3-b473-1c0741131b91"
   },
   "outputs": [],
   "source": [
    "# Google Driveをマウントする\n",
    "from google.colab import drive\n",
    "\n",
    "drive.mount('/content/drive')\n",
    "\n",
    "# DBの保存先をGoogle Driveに変更する\n",
    "config = BinanceConfig.BTCUSDT\n",
    "config.db_base_dir = '/content/drive/MyDrive'    # MyDrive以下を指定しましたが適宜変更ください\n",
    "\n",
    "# version 0.2.15から環境変数へ設定するように変更します。\n",
    "# 以下のように設定してください。\n",
    "import os\n",
    "os.environ['RBOT_DB_ROOT'] = '/content/drive/MyDrive'    # MyDrive以下を指定しましたが適宜変更ください"
   ]
  },
  {
   "cell_type": "code",
   "execution_count": null,
   "metadata": {
    "colab": {
     "base_uri": "https://localhost:8080/",
     "height": 35
    },
    "id": "cRxu-gK78CLh",
    "outputId": "5e1cb873-cd6d-4f11-ad2a-cac2d76cf5dc"
   },
   "outputs": [],
   "source": [
    "# Binanceのインスタンスを作成する\n",
    "binance = BinanceMarket(config)\n",
    "\n",
    "# 具体的に作られたDBのパスを表示\n",
    "binance.file_name"
   ]
  },
  {
   "cell_type": "code",
   "execution_count": null,
   "metadata": {
    "colab": {
     "base_uri": "https://localhost:8080/"
    },
    "id": "8XMi8_ph8CLh",
    "outputId": "bd4d83aa-f0c5-432f-d0a7-2cbb321e5110"
   },
   "outputs": [],
   "source": [
    "# データをダウンロードする。１０日分は案外時間がかかります。\n",
    "binance.download(ndays=10, verbose=True, archive_only=True)"
   ]
  },
  {
   "cell_type": "code",
   "execution_count": null,
   "metadata": {
    "colab": {
     "base_uri": "https://localhost:8080/",
     "height": 139
    },
    "id": "a4A-n6fa82gs",
    "outputId": "99456715-5067-41dc-a485-300295ebc1ff"
   },
   "outputs": [],
   "source": [
    "# ダウンロード状況を確認（実際にダウンロードされた日数は、まだアーカイブされていない日があるため１日減ることがあります）\n",
    "binance"
   ]
  },
  {
   "cell_type": "markdown",
   "metadata": {
    "id": "EVv-CJfu-bN0"
   },
   "source": [
    "## 折角なので分析"
   ]
  },
  {
   "cell_type": "markdown",
   "metadata": {
    "id": "y-iZUZ1s_tzS"
   },
   "source": [
    "kashiharaさんの\n",
    "「国内取引所と海外取引所の短期的値動きの変化」\n",
    "https://note.com/kashihara1/n/nb3424848a968\n",
    "\n",
    "を参考にボラティリティ（＝振れ幅？）を分析してみます。\n",
    "\n",
    "元記事では、おそらくボラティリティが年々小さくなっていてBotにはつらい状況になってきているということを分析されているのだと理解しました。\n",
    "\n",
    "以下簡単に直近の数字をしらべてみました。"
   ]
  },
  {
   "cell_type": "code",
   "execution_count": null,
   "metadata": {
    "id": "1xeS_yuW-Ky4"
   },
   "outputs": [],
   "source": [
    "# 1分足\n",
    "from rbot import NOW\n",
    "from rbot import DAYS\n",
    "\n",
    "# 9日分の４本足を作成します。\n",
    "ohlcv = binance.ohlcv(start_time=NOW()-DAYS(9), end_time=0, window_sec=60)"
   ]
  },
  {
   "cell_type": "code",
   "execution_count": null,
   "metadata": {
    "colab": {
     "base_uri": "https://localhost:8080/",
     "height": 255
    },
    "id": "WY11Js8VAudK",
    "outputId": "ab940aac-d04f-47e5-fe1e-347ac70b9683"
   },
   "outputs": [],
   "source": [
    "# ohlcvにPorlasのDataFrameで格納されています。\n",
    "ohlcv.head()"
   ]
  },
  {
   "cell_type": "code",
   "execution_count": null,
   "metadata": {
    "colab": {
     "base_uri": "https://localhost:8080/",
     "height": 206
    },
    "id": "vNmoJ4lvA_EQ",
    "outputId": "dc3b5c1a-c6e2-46eb-d017-e9dd869f9f33"
   },
   "outputs": [],
   "source": [
    "# pandasに変換して分析することも可能です。\n",
    "ohlcv_df = ohlcv.to_pandas(use_pyarrow_extension_array=True)\n",
    "\n",
    "ohlcv_df.head()"
   ]
  },
  {
   "cell_type": "code",
   "execution_count": null,
   "metadata": {
    "colab": {
     "base_uri": "https://localhost:8080/",
     "height": 255
    },
    "id": "qgNojXpnBMz3",
    "outputId": "10366c61-57f0-436c-b6c8-262152a93fa6"
   },
   "outputs": [],
   "source": [
    "# HighとLowの差分を追加しましょう\n",
    "range = (ohlcv.get_column('high') - ohlcv.get_column('low')).alias('range')\n",
    "ohlcv = ohlcv.with_columns(range)\n",
    "\n",
    "# 差分の終値に対する比率を追加しましょう\n",
    "range_rate = (range / ohlcv['close']).alias('range_rate')\n",
    "ohlcv = ohlcv.with_columns(range_rate)\n",
    "\n",
    "ohlcv.head()\n"
   ]
  },
  {
   "cell_type": "code",
   "execution_count": null,
   "metadata": {
    "id": "Z_xWKQP6Dokr"
   },
   "outputs": [],
   "source": [
    "import matplotlib.pyplot as plt"
   ]
  },
  {
   "cell_type": "code",
   "execution_count": null,
   "metadata": {
    "colab": {
     "base_uri": "https://localhost:8080/",
     "height": 430
    },
    "id": "2NUaJ5aqDoY8",
    "outputId": "ed9583dc-946c-4ec3-8a5c-cec45b30d73d"
   },
   "outputs": [],
   "source": [
    "plt.plot(ohlcv['timestamp'], ohlcv['range_rate'])\n",
    "plt.show()"
   ]
  },
  {
   "cell_type": "code",
   "execution_count": null,
   "metadata": {
    "colab": {
     "base_uri": "https://localhost:8080/",
     "height": 380
    },
    "id": "BbPNEYK9DKq2",
    "outputId": "ad7f3f95-094d-4397-a490-1bcbd693ffb3"
   },
   "outputs": [],
   "source": [
    "# range_rateの概要（統計値）を表示する\n",
    "ohlcv['range_rate'].describe()"
   ]
  },
  {
   "cell_type": "code",
   "execution_count": null,
   "metadata": {
    "colab": {
     "base_uri": "https://localhost:8080/",
     "height": 380
    },
    "id": "NXGfLMqFHaGH",
    "outputId": "fea31bc1-1d2b-43b1-9a8b-8617d4bc6b4f"
   },
   "outputs": [],
   "source": [
    "# rangeの概要（統計値）を表示する\n",
    "ohlcv['range'].describe()"
   ]
  },
  {
   "cell_type": "markdown",
   "metadata": {
    "id": "9DgZTwPXHHas"
   },
   "source": [
    "## まとめ\n",
    "2023年12月21日で試したみたところ、１本足での変化率は平均0.06%ぐらい。具体的な値としては27ドルぐらい。\n",
    "\n",
    "これは１分の間のポジションをオープンしクローズする高頻度だと完璧に変化をあてても２７ドルしか鞘がとれないということ。0.06%のうち、手数料で往復0.02%とられることを考えると残り3分の2になって20ドルの鞘も難しいということらしい。\n",
    "\n",
    "もうすこし長期でかんがてみようかなあ。"
   ]
  },
  {
   "cell_type": "code",
   "execution_count": null,
   "metadata": {
    "id": "-U0s6WDTEpo7"
   },
   "outputs": [],
   "source": []
  }
 ],
 "metadata": {
  "colab": {
   "include_colab_link": true,
   "provenance": []
  },
  "kernelspec": {
   "display_name": ".venv",
   "language": "python",
   "name": "python3"
  },
  "language_info": {
   "codemirror_mode": {
    "name": "ipython",
    "version": 3
   },
   "file_extension": ".py",
   "mimetype": "text/x-python",
   "name": "python",
   "nbconvert_exporter": "python",
   "pygments_lexer": "ipython3",
   "version": "3.12.1"
  }
 },
 "nbformat": 4,
 "nbformat_minor": 0
}
