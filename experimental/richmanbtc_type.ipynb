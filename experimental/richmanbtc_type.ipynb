{
 "cells": [
  {
   "cell_type": "markdown",
   "metadata": {
    "colab_type": "text",
    "id": "view-in-github"
   },
   "source": [
    "<a href=\"https://colab.research.google.com/github/yasstake/rusty-bot/blob/main/experimental/richmanbtc_type.ipynb\" target=\"_parent\"><img src=\"https://colab.research.google.com/assets/colab-badge.svg\" alt=\"Open In Colab\"/></a>"
   ]
  },
  {
   "cell_type": "markdown",
   "metadata": {
    "id": "p02B7bvHnw63"
   },
   "source": [
    "richmanbtcさんの[mlbotの初心者向けチュートリアル](https://github.com/richmanbtc/mlbot_tutorial/blob/master/work/tutorial.ipynb)\n",
    "をベースにRusyBot用に修正\n",
    "\n",
    "## 考え方(yasstake)\n",
    "mlbotのチュートリアルは、以下のことをおこなっているようだ。\n",
    "\n",
    "### オリジナルの流れ（yasstakeの理解）\n",
    "1. 学習\n",
    "   1. ４本足を取引所から収集\n",
    "   2. ４本足から特徴量を作成\n",
    "   3. ４本足からATR/2だけ上下に指値を出した時、約定するかどうかを判定\n",
    "   4. ATR/2で上下に指値をだした場合の利益率を売り・買いそれぞれでbuy_y, sell_yとして計算\n",
    "   5. Lightgbm２つのモデルを作り特徴量から利益率を学習\n",
    "\n",
    "2. バックテスト\n",
    "   1. 特徴量から２つのモデルで予測した売りの利益率、買いの利益率を比較し利益率の高い方へ指値を出す。\n",
    "   2. 指値で約定したかどうかを判定しバックテストを実施。\n",
    "\n",
    "\n",
    "### 今回の実装\n",
    "\n",
    "学習フェーズはBinanceMarketからohlcvを取得し、オリジナルの通りの特徴量を作成。Feeは固定で設定。\n",
    "\n",
    "Lightgbmの学習は、とりあえず全部学習（＝つまり学習したデータと同じものであとでバックテストするのであんまり良くない）\n",
    "\n",
    "バックテスト部分は、RustyBot用に全面書き換え。逐次Tickで約定判定。\n",
    "（勇者はそのまま、dry_run, real_runへと進める）\n"
   ]
  },
  {
   "cell_type": "code",
   "execution_count": null,
   "metadata": {
    "colab": {
     "base_uri": "https://localhost:8080/"
    },
    "id": "dbCcopnjnw65",
    "outputId": "334285ac-5bab-4993-8f59-05b1db41765e"
   },
   "outputs": [],
   "source": [
    "! pip install rbot"
   ]
  },
  {
   "cell_type": "code",
   "execution_count": null,
   "metadata": {
    "colab": {
     "base_uri": "https://localhost:8080/"
    },
    "id": "P4TSkUfoiW-v",
    "outputId": "187891dd-3d42-4524-d409-034bb4a6f688"
   },
   "outputs": [],
   "source": [
    "! pip install joblib\n",
    "! pip install lightgbm\n",
    "! pip install matplotlib\n",
    "# ! pip install numba   Python3.12では動かないので使わない。\n",
    "! pip install numpy\n",
    "! pip install pandas\n",
    "! pip install scipy\n",
    "! pip install scikit-learn\n",
    "! pip install seaborn"
   ]
  },
  {
   "cell_type": "code",
   "execution_count": null,
   "metadata": {
    "colab": {
     "base_uri": "https://localhost:8080/"
    },
    "id": "_z38RavVLZq-",
    "outputId": "3920864f-65cd-4a3c-fa37-6169f2aadc4e"
   },
   "outputs": [],
   "source": [
    "# ta-libは、talib本体（C言語）とPythonラッパーのインストールが必要です。\n",
    "# 本体のバイナリはLinux（Colab)の場合は、下記のようにしてインストールします。\n",
    "# Mac/Windowsの場合は公式サイトをみて独自インストールをしてください。https://ta-lib.org/install/\n",
    "# Linux Colab Only\n",
    "import sys\n",
    "\n",
    "if 'google.colab' in sys.modules:\n",
    "    url = 'https://anaconda.org/conda-forge/libta-lib/0.4.0/download/linux-64/libta-lib-0.4.0-h166bdaf_1.tar.bz2'\n",
    "    !curl -L $url | tar xj -C /usr/lib/x86_64-linux-gnu/ lib --strip-components=1\n",
    "    url = 'https://anaconda.org/conda-forge/ta-lib/0.4.19/download/linux-64/ta-lib-0.4.19-py310hde88566_4.tar.bz2'\n",
    "    !curl -L $url | tar xj -C /usr/local/lib/python3.10/dist-packages/ lib/python3.10/site-packages/talib --strip-components=3\n"
   ]
  },
  {
   "cell_type": "code",
   "execution_count": null,
   "metadata": {
    "id": "wDR_VpTsnw66"
   },
   "outputs": [],
   "source": [
    "import math\n",
    "\n",
    "import joblib\n",
    "import lightgbm as lgb\n",
    "import matplotlib.pyplot as plt\n",
    "# import numba\n",
    "import numpy as np\n",
    "import pandas as pd\n",
    "from scipy.stats import ttest_1samp\n",
    "import seaborn as sns\n",
    "import talib\n",
    "\n",
    "from sklearn.ensemble import BaggingRegressor\n",
    "from sklearn.linear_model import RidgeCV\n",
    "from sklearn.model_selection import cross_val_score, KFold, TimeSeriesSplit"
   ]
  },
  {
   "cell_type": "code",
   "execution_count": null,
   "metadata": {
    "id": "uPvs0kvWnw67"
   },
   "outputs": [],
   "source": [
    "# 4本足(ohlcv)から特徴量を計算する関数です。\n",
    "# 4本足のデータフレームを受け取り、特徴量を計算して返します。\n",
    "\n",
    "def calc_features(df):\n",
    "    open = df['open']\n",
    "    high = df['high']\n",
    "    low = df['low']\n",
    "    close = df['close']\n",
    "    volume = df['volume']\n",
    "\n",
    "    orig_columns = df.columns\n",
    "\n",
    "    hilo = (high - low) / 2\n",
    "    # 価格(hilo または close)を引いた後、価格(close)で割ることで標準化\n",
    "    df['BBANDS_upperband'], df['BBANDS_middleband'], df['BBANDS_lowerband'] = talib.BBANDS(close, timeperiod=5, nbdevup=2, nbdevdn=2, matype=0)\n",
    "    df['BBANDS_upperband'] = (df['BBANDS_upperband'] - hilo) / close\n",
    "    df['BBANDS_middleband'] = (df['BBANDS_middleband'] - hilo) / close\n",
    "    df['BBANDS_lowerband'] = (df['BBANDS_lowerband'] - hilo) / close\n",
    "    df['DEMA'] = (talib.DEMA(close, timeperiod=30) - hilo) / close\n",
    "    df['EMA'] = (talib.EMA(close, timeperiod=30) - hilo) / close\n",
    "    df['HT_TRENDLINE'] = (talib.HT_TRENDLINE(close) - hilo) / close\n",
    "    df['KAMA'] = (talib.KAMA(close, timeperiod=30) - hilo) / close\n",
    "    df['MA'] = (talib.MA(close, timeperiod=30, matype=0) - hilo) / close\n",
    "    df['MIDPOINT'] = (talib.MIDPOINT(close, timeperiod=14) - hilo) / close\n",
    "    df['SMA'] = (talib.SMA(close, timeperiod=30) - hilo) / close\n",
    "    df['T3'] = (talib.T3(close, timeperiod=5, vfactor=0) - hilo) / close\n",
    "    df['TEMA'] = (talib.TEMA(close, timeperiod=30) - hilo) / close\n",
    "    df['TRIMA'] = (talib.TRIMA(close, timeperiod=30) - hilo) / close\n",
    "    df['WMA'] = (talib.WMA(close, timeperiod=30) - hilo) / close\n",
    "    df['LINEARREG'] = (talib.LINEARREG(close, timeperiod=14) - close) / close\n",
    "    df['LINEARREG_INTERCEPT'] = (talib.LINEARREG_INTERCEPT(close, timeperiod=14) - close) / close\n",
    "\n",
    "\n",
    "    # 価格(close)で割ることで標準化\n",
    "    df['AD'] = talib.AD(high, low, close, volume) / close\n",
    "    df['ADOSC'] = talib.ADOSC(high, low, close, volume, fastperiod=3, slowperiod=10) / close\n",
    "    df['APO'] = talib.APO(close, fastperiod=12, slowperiod=26, matype=0) / close\n",
    "    df['HT_PHASOR_inphase'], df['HT_PHASOR_quadrature'] = talib.HT_PHASOR(close)\n",
    "    df['HT_PHASOR_inphase'] /= close\n",
    "    df['HT_PHASOR_quadrature'] /= close\n",
    "    df['LINEARREG_SLOPE'] = talib.LINEARREG_SLOPE(close, timeperiod=14) / close\n",
    "    df['MACD_macd'], df['MACD_macdsignal'], df['MACD_macdhist'] = talib.MACD(close, fastperiod=12, slowperiod=26, signalperiod=9)\n",
    "    df['MACD_macd'] /= close\n",
    "    df['MACD_macdsignal'] /= close\n",
    "    df['MACD_macdhist'] /= close\n",
    "    df['MINUS_DM'] = talib.MINUS_DM(high, low, timeperiod=14) / close\n",
    "    df['MOM'] = talib.MOM(close, timeperiod=10) / close\n",
    "    df['OBV'] = talib.OBV(close, volume) / close\n",
    "    df['PLUS_DM'] = talib.PLUS_DM(high, low, timeperiod=14) / close\n",
    "    df['STDDEV'] = talib.STDDEV(close, timeperiod=5, nbdev=1) / close\n",
    "    df['TRANGE'] = talib.TRANGE(high, low, close) / close\n",
    "\n",
    "\n",
    "    df['ADX'] = talib.ADX(high, low, close, timeperiod=14)\n",
    "    df['ADXR'] = talib.ADXR(high, low, close, timeperiod=14)\n",
    "    df['AROON_aroondown'], df['AROON_aroonup'] = talib.AROON(high, low, timeperiod=14)\n",
    "    df['AROONOSC'] = talib.AROONOSC(high, low, timeperiod=14)\n",
    "    df['BOP'] = talib.BOP(open, high, low, close)\n",
    "    df['CCI'] = talib.CCI(high, low, close, timeperiod=14)\n",
    "    df['DX'] = talib.DX(high, low, close, timeperiod=14)\n",
    "    # skip MACDEXT MACDFIX たぶん同じなので\n",
    "    df['MFI'] = talib.MFI(high, low, close, volume, timeperiod=14)\n",
    "    df['MINUS_DI'] = talib.MINUS_DI(high, low, close, timeperiod=14)\n",
    "    df['PLUS_DI'] = talib.PLUS_DI(high, low, close, timeperiod=14)\n",
    "    df['RSI'] = talib.RSI(close, timeperiod=14)\n",
    "    df['STOCH_slowk'], df['STOCH_slowd'] = talib.STOCH(high, low, close, fastk_period=5, slowk_period=3, slowk_matype=0, slowd_period=3, slowd_matype=0)\n",
    "    df['STOCHF_fastk'], df['STOCHF_fastd'] = talib.STOCHF(high, low, close, fastk_period=5, fastd_period=3, fastd_matype=0)\n",
    "    df['STOCHRSI_fastk'], df['STOCHRSI_fastd'] = talib.STOCHRSI(close, timeperiod=14, fastk_period=5, fastd_period=3, fastd_matype=0)\n",
    "    df['TRIX'] = talib.TRIX(close, timeperiod=30)\n",
    "    df['ULTOSC'] = talib.ULTOSC(high, low, close, timeperiod1=7, timeperiod2=14, timeperiod3=28)\n",
    "    df['WILLR'] = talib.WILLR(high, low, close, timeperiod=14)\n",
    "\n",
    "    df['ATR'] = talib.ATR(high, low, close, timeperiod=14)\n",
    "    df['NATR'] = talib.NATR(high, low, close, timeperiod=14)\n",
    "\n",
    "    df['HT_DCPERIOD'] = talib.HT_DCPERIOD(close)\n",
    "    df['HT_DCPHASE'] = talib.HT_DCPHASE(close)\n",
    "    df['HT_SINE_sine'], df['HT_SINE_leadsine'] = talib.HT_SINE(close)\n",
    "    df['HT_TRENDMODE'] = talib.HT_TRENDMODE(close)\n",
    "\n",
    "    df['BETA'] = talib.BETA(high, low, timeperiod=5)\n",
    "    df['CORREL'] = talib.CORREL(high, low, timeperiod=30)\n",
    "\n",
    "    df['LINEARREG_ANGLE'] = talib.LINEARREG_ANGLE(close, timeperiod=14)\n",
    "    return df\n"
   ]
  },
  {
   "cell_type": "code",
   "execution_count": null,
   "metadata": {
    "colab": {
     "base_uri": "https://localhost:8080/"
    },
    "id": "RiEsRJcJZfTI",
    "outputId": "b25e0fe6-504c-43d3-d8f2-69bed84dc750"
   },
   "outputs": [],
   "source": [
    "# calc_featuresで作った特徴量から、利用する特徴量をリストにします。\n",
    "# あとで df[features] とすることで、特徴量を抽出できます。\n",
    "\n",
    "features = sorted([\n",
    "    'ADX',\n",
    "    'ADXR',\n",
    "    'APO',\n",
    "    'AROON_aroondown',\n",
    "    'AROON_aroonup',\n",
    "    'AROONOSC',\n",
    "    'CCI',\n",
    "    'DX',\n",
    "    'MACD_macd',\n",
    "    'MACD_macdsignal',\n",
    "    'MACD_macdhist',\n",
    "    'MFI',\n",
    "#     'MINUS_DI',\n",
    "#     'MINUS_DM',\n",
    "    'MOM',\n",
    "#     'PLUS_DI',\n",
    "#     'PLUS_DM',\n",
    "    'RSI',\n",
    "    'STOCH_slowk',\n",
    "    'STOCH_slowd',\n",
    "    'STOCHF_fastk',\n",
    "#     'STOCHRSI_fastd',\n",
    "    'ULTOSC',\n",
    "    'WILLR',\n",
    "#     'ADOSC',\n",
    "#     'NATR',\n",
    "    'HT_DCPERIOD',\n",
    "    'HT_DCPHASE',\n",
    "    'HT_PHASOR_inphase',\n",
    "    'HT_PHASOR_quadrature',\n",
    "    'HT_TRENDMODE',\n",
    "    'BETA',\n",
    "    'LINEARREG',\n",
    "    'LINEARREG_ANGLE',\n",
    "    'LINEARREG_INTERCEPT',\n",
    "    'LINEARREG_SLOPE',\n",
    "    'STDDEV',\n",
    "    'BBANDS_upperband',\n",
    "    'BBANDS_middleband',\n",
    "    'BBANDS_lowerband',\n",
    "    'DEMA',\n",
    "    'EMA',\n",
    "    'HT_TRENDLINE',\n",
    "    'KAMA',\n",
    "    'MA',\n",
    "    'MIDPOINT',\n",
    "    'T3',\n",
    "    'TEMA',\n",
    "    'TRIMA',\n",
    "    'WMA',\n",
    "])\n",
    "\n",
    "print(features)"
   ]
  },
  {
   "cell_type": "code",
   "execution_count": null,
   "metadata": {
    "colab": {
     "base_uri": "https://localhost:8080/"
    },
    "id": "VrlToZalnw68",
    "outputId": "499f1af4-706b-4a81-e43e-ef6f2528c18a"
   },
   "outputs": [],
   "source": [
    "# RBOTのインストール\n",
    "# DBの場所はColabの場合はGoolgeDriveにしてあります。\n",
    "# ローカルの場合は空きがあるばしょを指定してください。（指定しないとMacだと Library/Application Support/以下のディレクトリになります。）\n",
    "\n",
    "from rbot import BinanceConfig\n",
    "from rbot import BinanceMarket\n",
    "\n",
    "config = BinanceConfig.BTCUSDT\n",
    "\n",
    "import sys\n",
    "\n",
    "if 'google.colab' in sys.modules:\n",
    "  from google.colab import drive\n",
    "  drive.mount('/content/drive')\n",
    "\n",
    "  # DBの保存先をGoogle Driveに変更する\n",
    "  config = BinanceConfig.BTCUSDT\n",
    "  config.db_base_dir = '/content/drive/MyDrive'\n",
    "\n",
    "# 超巨大DBができあがるので空いているでディスクを指定してください。\n",
    "#config.db_base_dir = './'\n",
    "\n",
    "market = BinanceMarket(config)"
   ]
  },
  {
   "cell_type": "code",
   "execution_count": null,
   "metadata": {
    "colab": {
     "base_uri": "https://localhost:8080/"
    },
    "id": "xkq-lusBMNNm",
    "outputId": "800be192-f69a-4c73-c295-28c7b7c29910"
   },
   "outputs": [],
   "source": [
    "# 50日分一気にダウンロードすると結構時間がかかります。50日で６GBほどのDBができあがります。\n",
    "# Colabではエラーになるかもしれません。その場合は、日数を減らすか少しづつ日数を増やしていってください（差分でダウンロードされます）\n",
    "market.download(ndays=50, verbose=True, archive_only=True)"
   ]
  },
  {
   "cell_type": "code",
   "execution_count": null,
   "metadata": {
    "colab": {
     "base_uri": "https://localhost:8080/",
     "height": 872
    },
    "id": "FJ8Xbesonw68",
    "outputId": "b2e78f53-1e8e-4cf4-bcb6-c6900e58502f"
   },
   "outputs": [],
   "source": [
    "# 4本足データを作成します。（これまた案外時間のかかる処理です）\n",
    "ohlcv = market.ohlcv(0, 0, 60*15)\n",
    "ohlcv"
   ]
  },
  {
   "cell_type": "code",
   "execution_count": null,
   "metadata": {
    "id": "ZefsiosYnw68"
   },
   "outputs": [],
   "source": [
    "# talibが使えるように、polarsのデータフレームをpandasのデータフレームに変換します。\n",
    "ohlc_df = ohlcv.to_pandas()"
   ]
  },
  {
   "cell_type": "code",
   "execution_count": null,
   "metadata": {
    "id": "tpvnTALtnw68"
   },
   "outputs": [],
   "source": [
    "# 4本足データから特徴量を計算します。\n",
    "df = calc_features(ohlc_df)"
   ]
  },
  {
   "cell_type": "code",
   "execution_count": null,
   "metadata": {
    "id": "i5Z47LiCnw68"
   },
   "outputs": [],
   "source": [
    "# Binanceの手数料を設定します。一律0.01%としています。\n",
    "df['fee'] = 0.01 * 0.01"
   ]
  },
  {
   "cell_type": "markdown",
   "metadata": {
    "id": "65GNtVa0GWKO"
   },
   "source": [
    "## yの計算\n",
    "\n",
    "yasstake コメント\n",
    "\n",
    "yの計算のキモは以下の部分。FEPがちょっと正確に理解していないけれど、現在価格±ATRの指値での約定想定価格とすると、\n",
    "y_buyは、以下を計算している。\n",
    "* 約定した場合は、 (売った想定価格／買った価格) - 1 * 往復の手数料\n",
    "* 約定しなかった場合は\n",
    "```\n",
    "# yを計算\n",
    "df['y_buy'] = np.where(\n",
    "    df['buy_executed'],\n",
    "    df['sell_fep'].shift(-horizon) / df['buy_price'] - 1 - 2 * fee,\n",
    "    0\n",
    ")\n",
    "```\n",
    "つまり利益率を計算している（０が±０）らしい。\n"
   ]
  },
  {
   "cell_type": "code",
   "execution_count": null,
   "metadata": {
    "colab": {
     "base_uri": "https://localhost:8080/",
     "height": 1000
    },
    "id": "V1hjG-a_nw69",
    "outputId": "fedfa70a-2109-492f-b327-cac52f57a124"
   },
   "outputs": [],
   "source": [
    "#@numba.njit\n",
    "def calc_force_entry_price(entry_price=None, lo=None, pips=None):\n",
    "    y = entry_price.copy()\n",
    "    y[:] = np.nan\n",
    "    force_entry_time = entry_price.copy()\n",
    "    force_entry_time[:] = np.nan\n",
    "    for i in range(entry_price.size):\n",
    "        for j in range(i + 1, entry_price.size):\n",
    "            if round(lo[j] / pips) < round(entry_price[j - 1] / pips):\n",
    "                y[i] = entry_price[j - 1]\n",
    "                force_entry_time[i] = j - i\n",
    "                break\n",
    "    return y, force_entry_time\n",
    "\n",
    "# 呼び値 (取引所、取引ペアごとに異なるので、適切に設定してください)\n",
    "pips = 1\n",
    "\n",
    "# ATRで指値距離を計算します\n",
    "limit_price_dist = df['ATR'] * 0.5\n",
    "limit_price_dist = np.maximum(1, (limit_price_dist / pips).round().fillna(1)) * pips\n",
    "\n",
    "# 終値から両側にlimit_price_distだけ離れたところに、買い指値と売り指値を出します\n",
    "df['buy_price'] = df['close'] - limit_price_dist\n",
    "df['sell_price'] = df['close'] + limit_price_dist\n",
    "\n",
    "# Force Entry Priceの計算\n",
    "df['buy_fep'], df['buy_fet'] = calc_force_entry_price(\n",
    "    entry_price=df['buy_price'].values,\n",
    "    lo=df['low'].values,\n",
    "    pips=pips,\n",
    ")\n",
    "\n",
    "# calc_force_entry_priceは入力と出力をマイナスにすれば売りに使えます\n",
    "df['sell_fep'], df['sell_fet'] = calc_force_entry_price(\n",
    "    entry_price=-df['sell_price'].values,\n",
    "    lo=-df['high'].values, # 売りのときは高値\n",
    "    pips=pips,\n",
    ")\n",
    "df['sell_fep'] *= -1\n",
    "\n",
    "horizon = 1 # エントリーしてからエグジットを始めるまでの待ち時間 (1以上である必要がある)\n",
    "fee = df['fee'] # maker手数料\n",
    "\n",
    "# 指値が約定したかどうか (0, 1)\n",
    "df['buy_executed'] = ((df['buy_price'] / pips).round() > (df['low'].shift(-1) / pips).round()).astype('float64')\n",
    "df['sell_executed'] = ((df['sell_price'] / pips).round() < (df['high'].shift(-1) / pips).round()).astype('float64')\n",
    "\n",
    "# yを計算\n",
    "df['y_buy'] = np.where(\n",
    "    df['buy_executed'],\n",
    "    df['sell_fep'].shift(-horizon) / df['buy_price'] - 1 - 2 * fee,\n",
    "    0\n",
    ")\n",
    "df['y_sell'] = np.where(\n",
    "    df['sell_executed'],\n",
    "    -(df['buy_fep'].shift(-horizon) / df['sell_price'] - 1) - 2 * fee,\n",
    "    0\n",
    ")\n",
    "\n",
    "# バックテストで利用する取引コストを計算\n",
    "df['buy_cost'] = np.where(\n",
    "    df['buy_executed'],\n",
    "    df['buy_price'] / df['close'] - 1 + fee,\n",
    "    0\n",
    ")\n",
    "df['sell_cost'] = np.where(\n",
    "    df['sell_executed'],\n",
    "    -(df['sell_price'] / df['close'] - 1) + fee,\n",
    "    0\n",
    ")\n",
    "\n",
    "print('約定確率を可視化。時期によって約定確率が大きく変わると良くない。')\n",
    "df['buy_executed'].rolling(1000).mean().plot(label='買い')\n",
    "df['sell_executed'].rolling(1000).mean().plot(label='売り')\n",
    "plt.title('約定確率の推移')\n",
    "plt.legend(bbox_to_anchor=(1.05, 1))\n",
    "plt.show()\n",
    "\n",
    "print('エグジットまでの時間分布を可視化。長すぎるとロングしているだけとかショートしているだけになるので良くない。')\n",
    "df['buy_fet'].rolling(1000).mean().plot(label='買い')\n",
    "df['sell_fet'].rolling(1000).mean().plot(label='売り')\n",
    "plt.title('エグジットまでの平均時間推移')\n",
    "plt.legend(bbox_to_anchor=(1.2, 1))\n",
    "plt.show()\n",
    "\n",
    "df['buy_fet'].hist(alpha=0.3, label='買い')\n",
    "df['sell_fet'].hist(alpha=0.3, label='売り')\n",
    "plt.title('エグジットまでの時間分布')\n",
    "plt.legend(bbox_to_anchor=(1.2, 1))\n",
    "plt.show()\n",
    "\n",
    "print('毎時刻、この執行方法でトレードした場合の累積リターン')\n",
    "df['y_buy'].cumsum().plot(label='買い')\n",
    "df['y_sell'].cumsum().plot(label='売り')\n",
    "plt.title('累積リターン')\n",
    "plt.legend(bbox_to_anchor=(1.05, 1))\n",
    "plt.show()\n",
    "\n",
    "df.to_pickle('df_y.pkl')"
   ]
  },
  {
   "cell_type": "code",
   "execution_count": null,
   "metadata": {
    "colab": {
     "base_uri": "https://localhost:8080/",
     "height": 419
    },
    "id": "s8SFFmq4GWKP",
    "outputId": "1a78c613-79ef-4eba-bdc4-4d859914b3db"
   },
   "outputs": [],
   "source": [
    "df[['buy_fep', 'sell_fep', 'buy_executed', 'sell_executed', 'buy_price', 'sell_price']]"
   ]
  },
  {
   "cell_type": "markdown",
   "metadata": {
    "id": "zWhr-ZFQZLym"
   },
   "source": [
    "## モデルの学習"
   ]
  },
  {
   "cell_type": "markdown",
   "metadata": {
    "id": "RSv4rREAavJX"
   },
   "source": [
    "## ここからRustyBotの書き方(yasstake)\n",
    "\n",
    "というよりも理解できなかったあたりを独自解釈で修正。\n",
    "\n",
    "Yは約定したときの想定利益率を計算しているようだ。\n",
    "そして、y_buyとy_sellを別にモデルで学習させている。"
   ]
  },
  {
   "cell_type": "code",
   "execution_count": null,
   "metadata": {
    "colab": {
     "base_uri": "https://localhost:8080/",
     "height": 159
    },
    "id": "knlz1esNcrPy",
    "outputId": "cfbe1a1e-4688-42af-fa8f-123ce71d5be0"
   },
   "outputs": [],
   "source": [
    "# 買いのときのY（利益率）予測するモデルを学習\n",
    "buy_model = lgb.LGBMRegressor(n_jobs=-1, random_state=1)\n",
    "\n",
    "buy_model.fit(df[features], df['y_buy'])"
   ]
  },
  {
   "cell_type": "code",
   "execution_count": null,
   "metadata": {
    "colab": {
     "base_uri": "https://localhost:8080/",
     "height": 159
    },
    "id": "5JoRgtjbc8YM",
    "outputId": "86b704e0-f10d-4807-c95d-a5135e93ac7e"
   },
   "outputs": [],
   "source": [
    "# 売りのときのY（利益率）予測するモデルを学習\n",
    "sell_model =  lgb.LGBMRegressor(n_jobs=-1, random_state=1)\n",
    "\n",
    "sell_model.fit(df[features], df['y_sell'])"
   ]
  },
  {
   "cell_type": "markdown",
   "metadata": {
    "id": "_TCqvathqq_M"
   },
   "source": [
    "## Agentの定義\n",
    "\n",
    "1. `on_init`の中で１５分刻みで`on_clock`を呼び出すようにする。\n",
    "2. on_clockでは、学習に使ったのと同じ幅の１５分足で１日分のohlcvを取得。\n",
    "3. calc_featuresでohlcvから特徴量を計算\n",
    "4. 売り、買いの２つのモデルでpredictして想定利益率を予測。\n",
    "5. 売りと買いを比べて有利なほうで、現在価格からATRの半分離れた距離に指し値を出す"
   ]
  },
  {
   "cell_type": "code",
   "execution_count": null,
   "metadata": {
    "id": "SZaiLDEUZWs2"
   },
   "outputs": [],
   "source": [
    "class MLBot:\n",
    "  def __init__(self, sell_model, buy_model):\n",
    "    self.sell_model = sell_model\n",
    "    self.buy_model = buy_model\n",
    "\n",
    "    self.ORDER_SIZE = 0.01\n",
    "    self.POSITION_LIMIT = 0.09\n",
    "\n",
    "    self.EXPIRE=60*60*3   # 3h\n",
    "\n",
    "\n",
    "  def on_init(self, session):\n",
    "    session.clock_interval_sec = 60 * 15   # 15分刻み\n",
    "\n",
    "  def on_clock(self, session, clock):\n",
    "    if session.expire_order(self.EXPIRE):\n",
    "      return\n",
    "\n",
    "    ohlcv = session.ohlcv(60*15, 4*24).to_pandas()      # 1日分の４本足を作成（15分x４＊２４本）\n",
    "    f = calc_features(ohlcv)                            #学習時と同じ特徴量を作成\n",
    "\n",
    "    x = f[features].tail(1) # 予測には最新の１本のみ採用\n",
    "    sell_indicator = self.sell_model.predict(x)\n",
    "    session.log_indicator(\"sell_indicator\", sell_indicator)\n",
    "\n",
    "    buy_indicator = self.buy_model.predict(x)\n",
    "    session.log_indicator(\"buy_indicator\", buy_indicator)\n",
    "\n",
    "    # ATRで指値距離を計算します\n",
    "    limit_price_dist = f['ATR'].tail(1)\n",
    "\n",
    "    limit_price_dist = limit_price_dist.iloc[0] * 0.5\n",
    "    close_price = f['close'].tail(1)\n",
    "\n",
    "    close_price = close_price.iloc[0]\n",
    "\n",
    "    session.log_indicator('ATR', f['ATR'].tail(1).iloc[0])\n",
    "\n",
    "    if buy_indicator < sell_indicator:\n",
    "      if session.buy_orders:\n",
    "        return\n",
    "\n",
    "      buy_price = close_price - limit_price_dist\n",
    "\n",
    "      if session.position < self.POSITION_LIMIT:\n",
    "        if math.isnan(buy_price):\n",
    "          return\n",
    "\n",
    "        #print(\"Buy\", buy_price, self.ORDER_SIZE, \"/\", limit_price_dist, close_price)\n",
    "        session.limit_order(\"Buy\", buy_price, self.ORDER_SIZE)\n",
    "\n",
    "    elif sell_indicator < buy_indicator:\n",
    "      if session.sell_orders:\n",
    "        return\n",
    "\n",
    "      sell_price = close_price + limit_price_dist\n",
    "      #print(\"SELL\", sell_price)\n",
    "\n",
    "      if -self.POSITION_LIMIT < session.position:\n",
    "        if math.isnan(sell_price):\n",
    "          return\n",
    "        #print(\"Sell\", sell_price, self.ORDER_SIZE,  \"/\", limit_price_dist, close_price)\n",
    "        session.limit_order(\"Sell\", sell_price, self.ORDER_SIZE)\n",
    "\n",
    "\n",
    "\n",
    "\n",
    "agent = MLBot(sell_model, buy_model)\n",
    "\n"
   ]
  },
  {
   "cell_type": "code",
   "execution_count": null,
   "metadata": {
    "id": "j0eIPKImfuv6"
   },
   "outputs": [],
   "source": [
    "from rbot import Runner\n",
    "from rbot import NOW, DAYS\n",
    "\n",
    "runner = Runner()\n",
    "\n",
    "# とりあえず５日分バックテスト\n",
    "session = runner.back_test(market=market, agent=agent, verbose=True, start_time=NOW()-DAYS(5), end_time=0)\n",
    "\n",
    "# すごく時間がかかりますが、全データ版はこちら\n",
    "#session = runner.back_test(market=market, agent=agent, verbose=True, start_time=0, end_time=0)"
   ]
  },
  {
   "cell_type": "code",
   "execution_count": null,
   "metadata": {
    "colab": {
     "base_uri": "https://localhost:8080/",
     "height": 1000
    },
    "id": "JEcjOYXvjn7d",
    "outputId": "ee710026-54eb-4646-eac5-f1588d6728ae"
   },
   "outputs": [],
   "source": [
    "log = session.log\n",
    "orders = log.orders\n",
    "orders"
   ]
  },
  {
   "cell_type": "code",
   "execution_count": null,
   "metadata": {
    "colab": {
     "base_uri": "https://localhost:8080/"
    },
    "id": "Ipr5m3zKjpmy",
    "outputId": "930c7799-0661-4549-f821-3c45f43f2098"
   },
   "outputs": [],
   "source": [
    "# 最終想定損益\n",
    "orders['sum_profit'][-1]"
   ]
  },
  {
   "cell_type": "code",
   "execution_count": null,
   "metadata": {
    "colab": {
     "base_uri": "https://localhost:8080/"
    },
    "id": "5T2foLRE-X3q",
    "outputId": "9cb056c1-4a89-439b-b769-fe445cd1575d"
   },
   "outputs": [],
   "source": [
    "# 手数料なし想定損益\n",
    "orders['profit'].sum()"
   ]
  },
  {
   "cell_type": "code",
   "execution_count": null,
   "metadata": {
    "id": "uJYmTMki_LpI"
   },
   "outputs": [],
   "source": [
    "ohlcv = market.ohlcv(runner.start_timestamp, runner.last_timestamp, 60*15)"
   ]
  },
  {
   "cell_type": "code",
   "execution_count": null,
   "metadata": {
    "colab": {
     "base_uri": "https://localhost:8080/",
     "height": 817
    },
    "id": "G1NNx6wN-cjv",
    "outputId": "48605ccb-07ea-4f91-ea09-48dbbbd5b47b"
   },
   "outputs": [],
   "source": [
    "# バックテスト結果の可視化\n",
    "\n",
    "# 数千件のデータを可視化するときは、plotlyを使うと便利。\n",
    "# https://plotly.com/python/\n",
    "# ただし約定データが万を超えると、ブラウザが重くなるので注意。一部データ切り取りなどが必要。\n",
    "\n",
    "import plotly.graph_objects as go\n",
    "from plotly.subplots import make_subplots\n",
    "\n",
    "fig = make_subplots(rows=4, cols=1, shared_xaxes=True, vertical_spacing=0.1, row_heights=[0.1, 0.1, 0.1, 0.6],\n",
    "                    subplot_titles=(\"sell/buy indicator\", \"psudo-position\", \"psudo-profit\", \"candlestick\"))\n",
    "\n",
    "# row 1 (indicator)\n",
    "sell_indicator = log['sell_indicator']\n",
    "fig.add_trace(go.Scatter(x=sell_indicator['timestamp'], y=sell_indicator['sell_indicator'], name=\"sell_indicator\"), row=1, col=1)\n",
    "\n",
    "buy_indicator = log['buy_indicator']\n",
    "fig.add_trace(go.Scatter(x=buy_indicator['timestamp'], y=buy_indicator['buy_indicator'], name=\"buy_indicator\"), row=1, col=1)\n",
    "\n",
    "\n",
    "# row 2 (position)\n",
    "fig.add_trace(go.Scatter(x=orders['update_time'], y=orders['position'], name=\"position\", line=dict(shape='hv')), row=2, col=1)\n",
    "\n",
    "# row 3 (profit)\n",
    "profit = orders['sum_profit']\n",
    "fig.add_trace(go.Scatter(x=orders['update_time'], y=orders['sum_profit'], name=\"profit\", line=dict(shape='hv')), row=3, col=1)\n",
    "\n",
    "# row 4 (candlestick)\n",
    "fig.add_candlestick(x=ohlcv['timestamp'], open=ohlcv['open'], high=ohlcv['high'], low=ohlcv['low'], close=ohlcv['close'], row=4, col=1)\n",
    "\n",
    "# row 4 (order)\n",
    "buy_orders = orders.filter((orders['order_side'] == 'Buy') & (orders['status'] == 'New'))\n",
    "fig.add_trace(go.Scatter(x=buy_orders['update_time'], y=buy_orders['order_price'], mode='markers', marker=dict(symbol='arrow-up', color='red', size=10), name=\"buy\"), row=4, col=1)\n",
    "\n",
    "buy_orders = orders.filter((orders['order_side'] == 'Buy') & (orders['status'] == 'Filled'))\n",
    "fig.add_trace(go.Scatter(x=buy_orders['update_time'], y=buy_orders['order_price'], mode='markers', marker=dict(symbol='cross-thin-open', color='red', size=10), name=\"buy filled\"), row=4, col=1)\n",
    "\n",
    "buy_orders = orders.filter((orders['order_side'] == 'Buy') & (orders['status'] == 'Canceled'))\n",
    "fig.add_trace(go.Scatter(x=buy_orders['update_time'], y=buy_orders['order_price'], mode='markers', marker=dict(symbol='x-thin-open', color='red', size=10), name=\"buy canceled\"), row=4, col=1)\n",
    "\n",
    "\n",
    "sell_orders = orders.filter((orders['order_side'] == 'Sell') & (orders['status'] == 'New'))\n",
    "fig.add_trace(go.Scatter(x=sell_orders['update_time'], y=sell_orders['order_price'], mode='markers', marker=dict(symbol='arrow-down', color='blue', size=10), name=\"sell\"), row=4, col=1)\n",
    "\n",
    "sell_orders = orders.filter((orders['order_side'] == 'Sell') & (orders['status'] == 'Filled'))\n",
    "fig.add_trace(go.Scatter(x=sell_orders['update_time'], y=sell_orders['order_price'], mode='markers', marker=dict(symbol='cross-thin-open', color='blue', size=10), name=\"sell filled\"), row=4, col=1)\n",
    "\n",
    "sell_orders = orders.filter((orders['order_side'] == 'Sell') & (orders['status'] == 'Canceled'))\n",
    "fig.add_trace(go.Scatter(x=sell_orders['update_time'], y=sell_orders['order_price'], mode='markers', marker=dict(symbol='x-thin-open', color='blue', size=10), name=\"sell canceled\"), row=4, col=1)\n",
    "\n",
    "fig.update_layout(height=800, title_text=\"MLBOT Backtest Result\")"
   ]
  },
  {
   "cell_type": "code",
   "execution_count": null,
   "metadata": {
    "colab": {
     "base_uri": "https://localhost:8080/",
     "height": 447
    },
    "id": "YoXVaEKHjs4T",
    "outputId": "79367a0b-8ad1-4fb7-b8cf-790ab67cf9bf"
   },
   "outputs": [],
   "source": [
    "sell_i = log[\"sell_indicator\"]\n",
    "buy_i = log[\"buy_indicator\"]\n",
    "\n",
    "plt.plot(sell_i['timestamp'], sell_i['sell_indicator'])\n",
    "plt.plot(buy_i['timestamp'], buy_i['buy_indicator'])"
   ]
  },
  {
   "cell_type": "code",
   "execution_count": null,
   "metadata": {
    "id": "Qeh8JEJtvFWu"
   },
   "outputs": [],
   "source": []
  }
 ],
 "metadata": {
  "colab": {
   "include_colab_link": true,
   "provenance": [],
   "toc_visible": true
  },
  "kernelspec": {
   "display_name": "Python 3",
   "name": "python3"
  },
  "language_info": {
   "codemirror_mode": {
    "name": "ipython",
    "version": 3
   },
   "file_extension": ".py",
   "mimetype": "text/x-python",
   "name": "python",
   "nbconvert_exporter": "python",
   "pygments_lexer": "ipython3",
   "version": "3.12.1"
  }
 },
 "nbformat": 4,
 "nbformat_minor": 0
}
