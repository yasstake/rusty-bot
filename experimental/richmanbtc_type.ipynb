{
 "cells": [
  {
   "cell_type": "markdown",
   "metadata": {},
   "source": [
    "[mlbotの初心者向けチュートリアル](https://github.com/richmanbtc/mlbot_tutorial/blob/master/work/tutorial.ipynb)\n",
    "をベースにRusyBot用に修正\n"
   ]
  },
  {
   "cell_type": "code",
   "execution_count": null,
   "metadata": {},
   "outputs": [],
   "source": [
    "! pip install rbot"
   ]
  },
  {
   "cell_type": "code",
   "execution_count": null,
   "metadata": {},
   "outputs": [],
   "source": [
    "! pip install joblib\n",
    "! pip install lightgbm\n",
    "! pip install matplotlib\n",
    "# ! pip install numba\n",
    "! pip install numpy\n",
    "! pip install pandas\n",
    "! pip install scipy\n",
    "! pip install scikit-learn\n",
    "! pip install seaborn\n",
    "! pip install ta-lib\n",
    "! pip install ta\n",
    "\n",
    "import math\n",
    "\n",
    "import joblib\n",
    "import lightgbm as lgb\n",
    "import matplotlib.pyplot as plt\n",
    "#import numba\n",
    "import numpy as np\n",
    "import pandas as pd\n",
    "from scipy.stats import ttest_1samp\n",
    "import seaborn as sns\n",
    "import talib\n",
    "\n",
    "from sklearn.ensemble import BaggingRegressor\n",
    "from sklearn.linear_model import RidgeCV\n",
    "from sklearn.model_selection import cross_val_score, KFold, TimeSeriesSplit"
   ]
  },
  {
   "cell_type": "code",
   "execution_count": null,
   "metadata": {},
   "outputs": [],
   "source": [
    "def calc_features(df):\n",
    "    open = df['open']\n",
    "    high = df['high']\n",
    "    low = df['low']\n",
    "    close = df['close']\n",
    "    volume = df['volume']\n",
    "    \n",
    "    orig_columns = df.columns\n",
    "\n",
    "    hilo = (high - low) / 2\n",
    "    # 価格(hilo または close)を引いた後、価格(close)で割ることで標準化\n",
    "    df['BBANDS_upperband'], df['BBANDS_middleband'], df['BBANDS_lowerband'] = talib.BBANDS(close, timeperiod=5, nbdevup=2, nbdevdn=2, matype=0)\n",
    "    df['BBANDS_upperband'] = (df['BBANDS_upperband'] - hilo) / close\n",
    "    df['BBANDS_middleband'] = (df['BBANDS_middleband'] - hilo) / close\n",
    "    df['BBANDS_lowerband'] = (df['BBANDS_lowerband'] - hilo) / close\n",
    "    df['DEMA'] = (talib.DEMA(close, timeperiod=30) - hilo) / close\n",
    "    df['EMA'] = (talib.EMA(close, timeperiod=30) - hilo) / close\n",
    "    df['HT_TRENDLINE'] = (talib.HT_TRENDLINE(close) - hilo) / close\n",
    "    df['KAMA'] = (talib.KAMA(close, timeperiod=30) - hilo) / close\n",
    "    df['MA'] = (talib.MA(close, timeperiod=30, matype=0) - hilo) / close\n",
    "    df['MIDPOINT'] = (talib.MIDPOINT(close, timeperiod=14) - hilo) / close\n",
    "    df['SMA'] = (talib.SMA(close, timeperiod=30) - hilo) / close\n",
    "    df['T3'] = (talib.T3(close, timeperiod=5, vfactor=0) - hilo) / close\n",
    "    df['TEMA'] = (talib.TEMA(close, timeperiod=30) - hilo) / close\n",
    "    df['TRIMA'] = (talib.TRIMA(close, timeperiod=30) - hilo) / close\n",
    "    df['WMA'] = (talib.WMA(close, timeperiod=30) - hilo) / close\n",
    "    df['LINEARREG'] = (talib.LINEARREG(close, timeperiod=14) - close) / close\n",
    "    df['LINEARREG_INTERCEPT'] = (talib.LINEARREG_INTERCEPT(close, timeperiod=14) - close) / close\n",
    "\n",
    "\n",
    "    # 価格(close)で割ることで標準化\n",
    "    df['AD'] = talib.AD(high, low, close, volume) / close\n",
    "    df['ADOSC'] = talib.ADOSC(high, low, close, volume, fastperiod=3, slowperiod=10) / close\n",
    "    df['APO'] = talib.APO(close, fastperiod=12, slowperiod=26, matype=0) / close\n",
    "    df['HT_PHASOR_inphase'], df['HT_PHASOR_quadrature'] = talib.HT_PHASOR(close)\n",
    "    df['HT_PHASOR_inphase'] /= close\n",
    "    df['HT_PHASOR_quadrature'] /= close\n",
    "    df['LINEARREG_SLOPE'] = talib.LINEARREG_SLOPE(close, timeperiod=14) / close\n",
    "    df['MACD_macd'], df['MACD_macdsignal'], df['MACD_macdhist'] = talib.MACD(close, fastperiod=12, slowperiod=26, signalperiod=9)\n",
    "    df['MACD_macd'] /= close\n",
    "    df['MACD_macdsignal'] /= close\n",
    "    df['MACD_macdhist'] /= close\n",
    "    df['MINUS_DM'] = talib.MINUS_DM(high, low, timeperiod=14) / close\n",
    "    df['MOM'] = talib.MOM(close, timeperiod=10) / close\n",
    "    df['OBV'] = talib.OBV(close, volume) / close\n",
    "    df['PLUS_DM'] = talib.PLUS_DM(high, low, timeperiod=14) / close\n",
    "    df['STDDEV'] = talib.STDDEV(close, timeperiod=5, nbdev=1) / close\n",
    "    df['TRANGE'] = talib.TRANGE(high, low, close) / close\n",
    "\n",
    "\n",
    "    df['ADX'] = talib.ADX(high, low, close, timeperiod=14)\n",
    "    df['ADXR'] = talib.ADXR(high, low, close, timeperiod=14)\n",
    "    df['AROON_aroondown'], df['AROON_aroonup'] = talib.AROON(high, low, timeperiod=14)\n",
    "    df['AROONOSC'] = talib.AROONOSC(high, low, timeperiod=14)\n",
    "    df['BOP'] = talib.BOP(open, high, low, close)\n",
    "    df['CCI'] = talib.CCI(high, low, close, timeperiod=14)\n",
    "    df['DX'] = talib.DX(high, low, close, timeperiod=14)\n",
    "    # skip MACDEXT MACDFIX たぶん同じなので\n",
    "    df['MFI'] = talib.MFI(high, low, close, volume, timeperiod=14)\n",
    "    df['MINUS_DI'] = talib.MINUS_DI(high, low, close, timeperiod=14)\n",
    "    df['PLUS_DI'] = talib.PLUS_DI(high, low, close, timeperiod=14)\n",
    "    df['RSI'] = talib.RSI(close, timeperiod=14)\n",
    "    df['STOCH_slowk'], df['STOCH_slowd'] = talib.STOCH(high, low, close, fastk_period=5, slowk_period=3, slowk_matype=0, slowd_period=3, slowd_matype=0)\n",
    "    df['STOCHF_fastk'], df['STOCHF_fastd'] = talib.STOCHF(high, low, close, fastk_period=5, fastd_period=3, fastd_matype=0)\n",
    "    df['STOCHRSI_fastk'], df['STOCHRSI_fastd'] = talib.STOCHRSI(close, timeperiod=14, fastk_period=5, fastd_period=3, fastd_matype=0)\n",
    "    df['TRIX'] = talib.TRIX(close, timeperiod=30)\n",
    "    df['ULTOSC'] = talib.ULTOSC(high, low, close, timeperiod1=7, timeperiod2=14, timeperiod3=28)\n",
    "    df['WILLR'] = talib.WILLR(high, low, close, timeperiod=14)\n",
    "\n",
    "    df['ATR'] = talib.ATR(high, low, close, timeperiod=14)\n",
    "    df['NATR'] = talib.NATR(high, low, close, timeperiod=14)\n",
    "\n",
    "    df['HT_DCPERIOD'] = talib.HT_DCPERIOD(close)\n",
    "    df['HT_DCPHASE'] = talib.HT_DCPHASE(close)\n",
    "    df['HT_SINE_sine'], df['HT_SINE_leadsine'] = talib.HT_SINE(close)\n",
    "    df['HT_TRENDMODE'] = talib.HT_TRENDMODE(close)\n",
    "\n",
    "    df['BETA'] = talib.BETA(high, low, timeperiod=5)\n",
    "    df['CORREL'] = talib.CORREL(high, low, timeperiod=30)\n",
    "\n",
    "    df['LINEARREG_ANGLE'] = talib.LINEARREG_ANGLE(close, timeperiod=14)\n",
    "    return df\n"
   ]
  },
  {
   "cell_type": "code",
   "execution_count": null,
   "metadata": {},
   "outputs": [],
   "source": [
    "from rbot import BinanceConfig\n",
    "from rbot import BinanceMarket\n",
    "\n",
    "market = BinanceMarket(BinanceConfig.BTCUSDT)\n",
    "market.download(ndays=1)\n"
   ]
  },
  {
   "cell_type": "code",
   "execution_count": null,
   "metadata": {},
   "outputs": [],
   "source": [
    "ohlcv = market.ohlcv(0, 0, 60*15)"
   ]
  },
  {
   "cell_type": "code",
   "execution_count": null,
   "metadata": {},
   "outputs": [],
   "source": [
    "ohlc_df = ohlcv.to_pandas()"
   ]
  },
  {
   "cell_type": "code",
   "execution_count": null,
   "metadata": {},
   "outputs": [],
   "source": [
    "df = calc_features(ohlc_df)"
   ]
  },
  {
   "cell_type": "code",
   "execution_count": null,
   "metadata": {},
   "outputs": [],
   "source": [
    "df"
   ]
  },
  {
   "cell_type": "code",
   "execution_count": null,
   "metadata": {},
   "outputs": [],
   "source": []
  }
 ],
 "metadata": {
  "kernelspec": {
   "display_name": ".venv",
   "language": "python",
   "name": "python3"
  },
  "language_info": {
   "codemirror_mode": {
    "name": "ipython",
    "version": 3
   },
   "file_extension": ".py",
   "mimetype": "text/x-python",
   "name": "python",
   "nbconvert_exporter": "python",
   "pygments_lexer": "ipython3",
   "version": "3.12.1"
  }
 },
 "nbformat": 4,
 "nbformat_minor": 2
}
