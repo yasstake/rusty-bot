{
 "cells": [
  {
   "cell_type": "markdown",
   "metadata": {
    "id": "2GXyvxWa4szl"
   },
   "source": [
    "<a target=\"_blank\" href=\"https://colab.research.google.com/github/yasstake/rusty-bot/blob/main/manual/session.ipynb\">\n",
    "  <img src=\"https://colab.research.google.com/assets/colab-badge.svg\" alt=\"Open In Colab\"/>\n",
    "</a>"
   ]
  },
  {
   "cell_type": "markdown",
   "metadata": {
    "id": "BGZB9UiH4gyn"
   },
   "source": [
    "# Sessionクラス解説\n",
    "\n",
    "[api 一覧はこちら](./manual.ipynb)\n",
    "\n",
    "Session クラスはAgentの各イベント(on_tick, on_clock, on_update)時に引数として送られてきます。\n",
    "\n",
    "内部に現在時刻 `timestamp`を保持することによりバックテスト、フォーワードテスト、本番どれであっても同一処理のAgent(BOT)が動作するようになっています。\n",
    "\n",
    "このSessionのインスタンスを利用してAgent内の取引ロジックを開発してください。\n",
    "使えるプロパティ／メソッドについて説明します。\n",
    "\n",
    "このマニュアルではSessionオブジェクトを生成してテストしていますが、実際にはユーザがSessionオブジェクトを直接自分で生成することはなく、フレームワーク側で生成しAgentに送られます。\n",
    "\n",
    "## プロパティ\n",
    "\n",
    "### 実行状況表すプロパティ\n",
    "\n",
    "* `timestamp` 現在時刻をUnixtime(us)で保存取得します。\n",
    "* `execute_mode` 現在の実行モードを返す。`Real`(本番), `Dummy`(バックテスト), `Dry`(フォーワードテスト）のどれかが得られる。\n",
    "\n",
    "### 市況を示すプロパティ\n",
    "* `board` Marketの板情報(`bit`, `ask`)でまとめて取得する\n",
    "* `last_price` 直近の約定履歴から想定される`bit`, `ask`の最良値（`bit`, `ask`)でまとめて取得する。板情報が取れないときに代わりに利用する。\n",
    "\n",
    "### 自分のオーダー表すプロパティ\n",
    "* `buy_orders` 板にある未約定買いオーダー（一覧）\n",
    "* `buy_order_amount` 板にある未約定買いオーダー注文量合計\n",
    "* `sell_orders` 板にある未約定売りオーダー（一覧）\n",
    "* `sell_order_amount` 板にある未約定売りオーダー注文量合計\n",
    "\n",
    "### 仮想ポジション・利益を表すプロパティ\n",
    "セッションがはじまってからのポジション・利益を取得する。\n",
    "* `position` 仮想ポジション\n",
    "\n",
    "### ログクラスを取得するプロパティ\n",
    "実行終了後、ログを分析するためにセッションからログを取り出すプロパティ\n",
    "\n",
    "* `log` 実行結果が入ったLoggerクラスのオブジェクトが取得できる。利用方法は[ログクラスマニュアル 参照](./logger.ipynb)\n",
    "\n",
    "## メソッド\n",
    "\n",
    "### 市況を得るメソッド\n",
    "\n",
    "#### ローソク足\n",
    "使い方\n",
    "```\n",
    "session.ohlcv(\n",
    "    interval=60,    # 足の幅を秒数で指定\n",
    "    count=5         # 足の本数を指定\n",
    ")\n",
    "```\n",
    "\n",
    "戻り値：　OHLCVの値がPolarsのDataFrame形式で得られる。\n",
    "\n",
    "---\n",
    "\n",
    "### オーダーメソッド\n",
    "\n",
    "#### 成り行き注文(market_order)\n",
    "使い方\n",
    "```\n",
    "session.market_order(\n",
    "    side='Buy',     # 売り`Buy`, 買い`Sell`を指定\n",
    "    size=0.01       # オーダーサイズを指定\n",
    ")\n",
    "```\n",
    "戻り値：作成されたオーダーオブジェクト（板の状況にあわせ分割された結果が配列になってきます）\n",
    "\n",
    "\n",
    "#### 指値注文(limit_order)\n",
    "使い方\n",
    "```\n",
    "session.limit_order(\n",
    "    side='Buy',     # 売り`Buy`, 買い`Sell`を指定    \n",
    "    price=40000,    # 指値を指定\n",
    "    size=0.01       # オーダーサイズを指定\n",
    ")\n",
    "```\n",
    "戻り値：作成されたオーダーオブジェクト（１行のみですが、他のオーダメソッドにあわせ配列形式）\n",
    "\n",
    "#### キャンセルオーダー(cancel_order)\n",
    "使い方\n",
    "```\n",
    "session.cancel_order(\n",
    "    order_id='order_id_0001'    #オーダIDを文字列で指定。\n",
    ")\n",
    "```\n",
    "\n",
    "戻り値：キャンセルされたオーダオブジェクト（１行のみですが、他のオーダメソッドにあわせ配列形式）\n",
    "\n",
    "#### 期限切れ(expire_order)\n",
    "使い方\n",
    "```\n",
    "session.expire_order(\n",
    "    ttl_sec=60*10       #期限切れにする期間を秒で指定（この例では10分以上前のオーダをキャンセル）\n",
    ")\n",
    "```\n",
    "\n",
    "戻り値(bool)\n",
    "* `true` 期限切れがオーダーあった場合\n",
    "* `false`　期限切れオーダーがなかった場合\n"
   ]
  },
  {
   "cell_type": "markdown",
   "metadata": {
    "id": "5sCQJO0e4gyx"
   },
   "source": [
    "## 以下テストを兼ねたSessionオブジェクトの内部動作確認\n",
    "\n",
    "通常ユーザはSessionクラスを生成しません。Agentにおくられてきたオブジェクトを利用するだけですが以下テスト・説明のためSessionクラス単独で生成し動作させています。"
   ]
  },
  {
   "cell_type": "code",
   "execution_count": null,
   "metadata": {},
   "outputs": [],
   "source": [
    "# 必要ライブラリのインストール\n",
    "! pip install --upgrade pip\n",
    "\n",
    "# rbotがbot frameworkになります。PyPiに登録されているので、pipでインストールできます。\n",
    "# まだ開発初期段階なので、インターフェースが変わる可能性があります。\n",
    "! pip install --upgrade rbot"
   ]
  },
  {
   "cell_type": "code",
   "execution_count": null,
   "metadata": {},
   "outputs": [],
   "source": [
    "# 関連ライブラリのインストール\n",
    "! pip install pyarrow\n",
    "! pip install polars\n",
    "! pip install plotly\n",
    "! pip install nbformat\n",
    "! pip install numpy\n",
    "! pip install pandas\n",
    "! pip install json2html"
   ]
  },
  {
   "cell_type": "markdown",
   "metadata": {
    "id": "fQ_HqmM545vv"
   },
   "source": []
  },
  {
   "cell_type": "code",
   "execution_count": null,
   "metadata": {},
   "outputs": [],
   "source": [
    "import rbot\n",
    "\n",
    "# バージョン確認\n",
    "\n",
    "print(\"version =\", rbot.__version__)"
   ]
  },
  {
   "cell_type": "code",
   "execution_count": null,
   "metadata": {},
   "outputs": [],
   "source": [
    "# 必要ライブラリのインポート\n",
    "\n",
    "from rbot import Session\n",
    "from rbot import Runner\n",
    "from rbot import Binance\n",
    "from rbot import BinanceConfig\n",
    "from rbot import ExecuteMode\n",
    "from rbot import NOW, HHMM, SEC, time_string\n",
    "\n",
    "\n",
    "from rbot import init_log"
   ]
  },
  {
   "cell_type": "code",
   "execution_count": null,
   "metadata": {},
   "outputs": [],
   "source": [
    "from IPython.display import HTML\n",
    "from json2html import json2html\n",
    "import json"
   ]
  },
  {
   "cell_type": "code",
   "execution_count": null,
   "metadata": {},
   "outputs": [],
   "source": [
    "# binance marketオープン\n",
    "\n",
    "exchange = Binance(production=False)\n",
    "\n",
    "config = BinanceConfig.BTCUSDT\n",
    "\n",
    "market = exchange.open_market(config)\n",
    "\n",
    "\n",
    "market"
   ]
  },
  {
   "cell_type": "code",
   "execution_count": null,
   "metadata": {},
   "outputs": [],
   "source": [
    "# Sessionで動かすbotを作成します。\n",
    "\n",
    "class DummyAgent:\n",
    "    def on_init(self, session):\n",
    "        session.clock_interval_sec = 60     # 60秒ごとにon_clockが呼ばれる\n",
    "        \n",
    "    def on_clock(self, session, clock):\n",
    "        print(\"現在時刻\", session.timestamp, time_string(session.timestamp))\n",
    "        print(\"実行モード\", session.execute_mode)\n",
    "    \n",
    "        if session.execute_mode == \"Dry\":\n",
    "            print(\"Dryモードではいた情報が取れるので表示します\")\n",
    "            bit, ask = session.board\n",
    "            print(\"板情報\", bit, ask)\n",
    "            \n",
    "        bit_edge, ask_edge = session.last_price\n",
    "        print(\"最終約定価格\", bit_edge, ask_edge)\n",
    "        print(\"\")        \n"
   ]
  },
  {
   "cell_type": "code",
   "execution_count": null,
   "metadata": {},
   "outputs": [],
   "source": [
    "runner = Runner()\n",
    "\n",
    "agent = DummyAgent()\n",
    "\n",
    "runner.back_test(exchange=exchange, agent=agent, market=market, execute_time=300)   # 300秒間実行"
   ]
  },
  {
   "cell_type": "code",
   "execution_count": null,
   "metadata": {},
   "outputs": [],
   "source": [
    "class SimpleOrderAgent:\n",
    "    def __init__(self):\n",
    "        self.index = 0\n",
    "        \n",
    "    def on_init(self, session):\n",
    "        session.clock_interval_sec = 60*10      # 10分ごとに呼び出される\n",
    "        print(\"実行モード\", session.execute_mode)\n",
    "        \n",
    "    def on_clock(self, session, clock):\n",
    "        print(\"---------------------------\")\n",
    "        print(\"現在時刻\", session.timestamp, time_string(session.timestamp))\n",
    "        print(\"売り注文\", session.sell_orders)\n",
    "        print(\"買い注文\", session.buy_orders)\n",
    "        print(\"ポジション\", session.position)\n",
    "\n",
    "        self.index += 1\n",
    "        \n",
    "        if self.index == 1:\n",
    "            print(\"成り行き注文テスト(売り)\")\n",
    "            buy_order = session.market_order(\"Buy\", 0.001)\n",
    "            print(\"buy_order\", buy_order)\n",
    "\n",
    "        elif self.index == 2:\n",
    "            print(\"成り行き注文テスト(買い)\")\n",
    "            sell_order= session.market_order(\"Sell\", 0.001)\n",
    "            print(\"sell_order\", sell_order)\n",
    "            \n",
    "            print(\"指値注文テスト\")            \n",
    "            pass    \n",
    "        elif self.index == 3:\n",
    "            print(\"指値注文テスト\")\n",
    "            bit, ask = session.last_price\n",
    "            buy_order = session.limit_order(\"Buy\", bit-100, 0.001)\n",
    "            print(\"buy_order\", buy_order)\n",
    "            \n",
    "            sell_order = session.limit_order(\"Sell\", ask+100, 0.001)\n",
    "            print(\"sell_order\", sell_order)\n",
    "\n",
    "        elif self.index == 4:\n",
    "            print(\"Cancelテスト(SELL)\")\n",
    "            if session.sell_orders:\n",
    "                order = session.sell_orders[0]\n",
    "                cancel_order = session.cancel_order(order.order_id)\n",
    "                print(\"cancel_order=\", cancel_order)\n",
    "\n",
    "        elif self.index == 5:\n",
    "            print(\"Exipreテスト1\")\n",
    "            \n",
    "            if session.expire_order(60*30): # 30分前の注文をキャンセル\n",
    "                print(\"expire_order exist\")\n",
    "            else:\n",
    "                print(\"expire_order not exist\")\n",
    "\n",
    "        elif self.index == 6:\n",
    "            print(\"Exipreテスト2\")\n",
    "            \n",
    "            if session.expire_order(60*10): # 10分前の注文をキャンセル\n",
    "                print(\"expire_order exist\")\n",
    "            else:\n",
    "                print(\"expire_order not exist\")\n",
    "        \n",
    "        print(\"---------------------------\")        \n",
    "    \n",
    "    def on_update(self, session, update):\n",
    "        print(\"更新情報\", update)"
   ]
  },
  {
   "cell_type": "code",
   "execution_count": null,
   "metadata": {},
   "outputs": [],
   "source": [
    "runner = Runner()\n",
    "\n",
    "agent = SimpleOrderAgent()\n",
    "\n",
    "runner.back_test(exchange=exchange, agent=agent, market=market, execute_time=30000)   # 300秒間実行"
   ]
  },
  {
   "cell_type": "code",
   "execution_count": null,
   "metadata": {
    "id": "I9X67h8K5ujT"
   },
   "outputs": [],
   "source": []
  }
 ],
 "metadata": {
  "colab": {
   "provenance": []
  },
  "kernelspec": {
   "display_name": "Python 3",
   "language": "python",
   "name": "python3"
  },
  "language_info": {
   "codemirror_mode": {
    "name": "ipython",
    "version": 3
   },
   "file_extension": ".py",
   "mimetype": "text/x-python",
   "name": "python",
   "nbconvert_exporter": "python",
   "pygments_lexer": "ipython3",
   "version": "3.11.6"
  },
  "vscode": {
   "interpreter": {
    "hash": "eda7e54fe21129b67f77862937907ee926f057597a3e2fa1e18ac955e40912b3"
   }
  }
 },
 "nbformat": 4,
 "nbformat_minor": 0
}
