{
 "cells": [
  {
   "cell_type": "markdown",
   "metadata": {
    "colab_type": "text",
    "id": "view-in-github"
   },
   "source": [
    "<a href=\"https://colab.research.google.com/github/yasstake/rusty-bot/blob/main/manual/binance_order.ipynb\" target=\"_parent\"><img src=\"https://colab.research.google.com/assets/colab-badge.svg\" alt=\"Open In Colab\"/></a>"
   ]
  },
  {
   "cell_type": "markdown",
   "metadata": {
    "id": "hkkD-cZeUwuw"
   },
   "source": [
    "# Binance用オーダー発行API\n",
    "\n",
    "`Binance`クラスは、以下の機能を提供します。\n",
    "\n",
    "* オーダーの発行・キャンセル（REST API)　KEYとSECRETの設定が必要です。\n",
    "\n",
    "また通過ペアーの設定は`BinanceConfig`クラスに定義してあります。パラーメータを修正することで任意の通過ペアーに対応可能ですが、テスト完了して提供しているものは以下になります。\n",
    "* `BinanceConfig.BTCUSDT` 本番用BTCUSDTペアー（現物）\n",
    "\n",
    "\n",
    "## 本サンプルの機能\n",
    "\n",
    "本サンプルでは以下を行います。\n",
    "\n",
    "* オーダーの発行(Limit, Market)\n",
    "* オーダーの検索\n",
    "* オーダーのキャンセル\n",
    "* 資産残高の確認\n",
    "\n",
    "### 利用している関数\n",
    "* オーダー発行\n",
    "  * `limit_order(side, price, size)` リミットオーダーの発行\n",
    "  * `market_order(side, size)`　マーケットオーダーの発行\n",
    "* オーダー状況確認\n",
    "  * `order_status`　オーダーステータスの確認（約定済みも含めた直近のもの）\n",
    "  * `open_orders`　未約定一覧\n",
    "* オーダーキャンセル\n",
    "  * `cancel_order(order_id)`　指定したIDのオーダキャンセル\n",
    "  * `cancel_all_orders()`　未約定のオーダーのキャンセル\n",
    "* アカウント情報\n",
    "  * `account`　アカウント情報（残高など）\n",
    "\n",
    "## API KEYについて（注：まずはテストネットで試してください）\n",
    "動作させるためにはAPI KEYが必要です。\n",
    "ローカル環境では、以下の値を環境変数に指定してください。\n",
    "* BINANCE_API_KEY   APIキー\n",
    "* BINANCE_API_SERECT  シークレット\n",
    "\n",
    "Google Clabでは、`userdata`に設定し、`os.enviromnemt`で環境変数に設定してください。（`userdata`はColabのページの左側ツールバーにある🔑マークをクリック）。"
   ]
  },
  {
   "cell_type": "markdown",
   "metadata": {
    "id": "NoPGieGZUwuy"
   },
   "source": [
    "## 必要ライブラリのインストール\n",
    "\n",
    "`rbot`がBotFrameWorkの本体です。必要なライブラリを合わせてインストールします。インストール後ランタイムの再起動が必要になる場合があります。"
   ]
  },
  {
   "cell_type": "code",
   "execution_count": null,
   "metadata": {
    "colab": {
     "base_uri": "https://localhost:8080/"
    },
    "id": "Aeg-iHJxUwuy",
    "outputId": "b4c351da-a442-4b23-9c81-efa9900aa110"
   },
   "outputs": [],
   "source": [
    "# 必要ライブラリのインストール\n",
    "! pip install --upgrade pip\n",
    "\n",
    "# rbotがbot frameworkになります。PyPiに登録されているので、pipでインストールできます。\n",
    "# まだ開発初期段階なので、インターフェースが変わる可能性があります。そのためバージョン指定しています。\n",
    "! pip install --upgrade rbot"
   ]
  },
  {
   "cell_type": "code",
   "execution_count": null,
   "metadata": {
    "id": "a8nwsKcfUwuz"
   },
   "outputs": [],
   "source": [
    "# 必要ライブラリのインストール。環境によっては要・不要があるので適宜修正してください。\n",
    "! pip install json2html"
   ]
  },
  {
   "cell_type": "markdown",
   "metadata": {
    "id": "9xzt1ljYUwuz"
   },
   "source": [
    "## Python コード本体\n",
    "\n",
    "### 必要ライブラリのインポート"
   ]
  },
  {
   "cell_type": "code",
   "execution_count": null,
   "metadata": {
    "colab": {
     "base_uri": "https://localhost:8080/"
    },
    "id": "S4j1aSE4Uwuz",
    "outputId": "749aab78-53d4-4f53-9d86-c33966c0a385"
   },
   "outputs": [],
   "source": [
    "import rbot\n",
    "# Binanceクラスは、BinanceのAPIを利用して、取引所へオーダ発行を行うクラス\n",
    "from rbot import Binance\n",
    "\n",
    "# BinanceConfigクラスは、BinanceMarketクラスのコンストラクタに渡す設定クラス\n",
    "from rbot import BinanceConfig\n",
    "\n",
    "from rbot import init_log, init_debug_log\n",
    "#init_debug_log()\n",
    "\n",
    "print(\"rbot version =\", rbot.__version__)"
   ]
  },
  {
   "cell_type": "code",
   "execution_count": null,
   "metadata": {
    "id": "lN2FrFtiUwuz"
   },
   "outputs": [],
   "source": [
    "# 必要ライブラリーのインポート\n",
    "from json2html import *\n",
    "from IPython.display import HTML"
   ]
  },
  {
   "cell_type": "markdown",
   "metadata": {
    "id": "YYxvJbCOUwuz"
   },
   "source": [
    "### Binanceオブジェクトの生成\n",
    "\n",
    "`Binance`の引数`production`に本番の場合は`True`、テストネットの場合は`False`を入れて生成します。"
   ]
  },
  {
   "cell_type": "code",
   "execution_count": null,
   "metadata": {
    "id": "crd_UkiLUwu0"
   },
   "outputs": [],
   "source": [
    "# Google Colabの場合は、userdataからAPIキーを取得\n",
    "# 通常は、環境変数に設定してください。\n",
    "if 'google.colab' in str(get_ipython()):\n",
    "    from google.colab import userdata\n",
    "    \n",
    "    # Google Colabの場合は、APIキーを入力してください。\n",
    "    import os\n",
    "    \n",
    "    os.environ['BINANCE_API_KEY'] = userdata.get(\"BINANCE_API_KEY\")\n",
    "    os.environ['BINANCE_API_SECRET'] = userdata.get(\"BINANCE_API_SECRET\")\n",
    "\n",
    "\n",
    "# Binanceクラスのインスタンスを生成. production=Falseでテストネットを利用します。\n",
    "exchange  = Binance(production=False)"
   ]
  },
  {
   "cell_type": "markdown",
   "metadata": {
    "id": "UOUcnYjiUwu0"
   },
   "source": [
    "## オーダー発行テスト\n",
    "\n",
    "### Limit order"
   ]
  },
  {
   "cell_type": "code",
   "execution_count": null,
   "metadata": {
    "id": "3uYDDNDzUwu0"
   },
   "outputs": [],
   "source": [
    "# 現在のアカウント情報を取り出す\n",
    "account = exchange.account\n",
    "\n",
    "HTML(json2html.convert(account.__str__()))"
   ]
  },
  {
   "cell_type": "code",
   "execution_count": null,
   "metadata": {
    "colab": {
     "base_uri": "https://localhost:8080/"
    },
    "id": "EFeuqANLUwu0",
    "outputId": "a64b2892-cb6f-4fc0-afb3-92d3bf0aa443"
   },
   "outputs": [],
   "source": [
    "# accountにはすべての通貨の残高が入っているので、BTCとUSDTの残高を表示する\n",
    "print(\"BTC 残高 =\", account['BTC'])\n",
    "print(\"USDT残高 =\", account['USDT'])"
   ]
  },
  {
   "cell_type": "code",
   "execution_count": null,
   "metadata": {},
   "outputs": [],
   "source": [
    "# 有効な価格でオーダーを出すために、市場価格を取得する\n",
    "\n",
    "config = BinanceConfig.BTCUSDT\n",
    "\n",
    "market = exchange.open_market(config)\n",
    "market.start_market_stream()\n",
    "\n",
    "#market.board\n",
    "\n",
    "\n",
    "bid_edge, ask_edge = market.edge_price\n",
    "\n",
    "print(\"bid_edge =\", bid_edge)\n",
    "print(\"ask_edge =\", ask_edge)"
   ]
  },
  {
   "cell_type": "code",
   "execution_count": null,
   "metadata": {},
   "outputs": [],
   "source": [
    "# もういちどedge_priceを取得すると、最新の価格が取得できる.\n",
    "bid_edge, ask_edge = market.edge_price\n",
    "\n",
    "print(\"bid_edge =\", bid_edge)\n",
    "print(\"ask_edge =\", ask_edge)"
   ]
  },
  {
   "cell_type": "code",
   "execution_count": null,
   "metadata": {
    "colab": {
     "base_uri": "https://localhost:8080/",
     "height": 88
    },
    "id": "6Bmf4bFzUwu0",
    "outputId": "74ebe796-9090-4502-b9c3-b9031615eceb"
   },
   "outputs": [],
   "source": [
    "# オーダーを有効にするフラグをセットする（ディフォルトではオーダー機能はDisableされていてエラーになる）\n",
    "exchange.enable_order_with_my_own_risk = True\n",
    "\n",
    "# 板より５００ドル安いところへ0.0001BTCの買い注文を出す\n",
    "buy_limit_order = exchange.limit_order(config, \"BUY\", bid_edge - 500, 0.001)\n",
    "\n",
    "HTML(json2html.convert(buy_limit_order.__str__()))"
   ]
  },
  {
   "cell_type": "code",
   "execution_count": null,
   "metadata": {
    "colab": {
     "base_uri": "https://localhost:8080/",
     "height": 88
    },
    "id": "vLYnyIPXUwu0",
    "outputId": "2a957d7a-3ca1-440d-c29f-3a1ea5d6715f"
   },
   "outputs": [],
   "source": [
    "# 未約定のオーダーを表示する。\n",
    "open_order = exchange.get_open_orders(config)\n",
    "\n",
    "HTML(json2html.convert(open_order.__str__()))"
   ]
  },
  {
   "cell_type": "code",
   "execution_count": null,
   "metadata": {
    "colab": {
     "base_uri": "https://localhost:8080/",
     "height": 88
    },
    "id": "Cms-Qt84Uwu0",
    "outputId": "2b521a24-9485-4480-84de-47f84585e7b7"
   },
   "outputs": [],
   "source": [
    "# 板より５００ドル高いところへ0.0001BTCの売り注文を出す\n",
    "sell_limit_order = exchange.limit_order(config, \"SELL\", ask_edge + 500, 0.001)\n",
    "\n",
    "HTML(json2html.convert(sell_limit_order.__str__()))"
   ]
  },
  {
   "cell_type": "code",
   "execution_count": null,
   "metadata": {
    "colab": {
     "base_uri": "https://localhost:8080/",
     "height": 88
    },
    "id": "z3yCHSNMUwu1",
    "outputId": "3d771d63-9f01-4f15-975d-2ab58a092e44"
   },
   "outputs": [],
   "source": [
    "# 未約定のオーダーを表示する。オーダーが１つ増えているはず（合計２つ）(BINANCE TESTNETでは最初の１つしか表示されない問題あり)\n",
    "open_order = exchange.get_open_orders(config)\n",
    "\n",
    "HTML(json2html.convert(open_order.__str__()))"
   ]
  },
  {
   "cell_type": "code",
   "execution_count": null,
   "metadata": {
    "colab": {
     "base_uri": "https://localhost:8080/"
    },
    "id": "uTZrp5lrUwu1",
    "outputId": "ef6f7c4e-c0a6-49ef-f522-ed8f1be1c889"
   },
   "outputs": [],
   "source": [
    "# 最新の残高を確認。注文中の資産がLockされているはず。\n",
    "account = exchange.account\n",
    "print(\"BTC 残高 =\", account['BTC'])\n",
    "print(\"USDT残高 =\", account['USDT'])"
   ]
  },
  {
   "cell_type": "code",
   "execution_count": null,
   "metadata": {
    "colab": {
     "base_uri": "https://localhost:8080/"
    },
    "id": "jnreLKm0Uwu1",
    "outputId": "1d19b49a-f614-45fe-dc63-bb86542a5b0b"
   },
   "outputs": [],
   "source": [
    "# 買いオーダーをキャンセルする\n",
    "\n",
    "id_to_cancel = buy_limit_order[0].order_id\n",
    "\n",
    "print(\"キャンセルするオーダーID =\", id_to_cancel)\n",
    "\n",
    "exchange.cancel_order(config, id_to_cancel)"
   ]
  },
  {
   "cell_type": "code",
   "execution_count": null,
   "metadata": {
    "colab": {
     "base_uri": "https://localhost:8080/",
     "height": 88
    },
    "id": "zips5gKZUwu1",
    "outputId": "6df36192-aaf6-4687-c3e2-9c524f16f7f9"
   },
   "outputs": [],
   "source": [
    "# キャンセルしたオーダーがなくなっていることを確認する。\n",
    "open_order = exchange.get_open_orders(config)\n",
    "\n",
    "HTML(json2html.convert(open_order.__str__()))"
   ]
  },
  {
   "cell_type": "code",
   "execution_count": null,
   "metadata": {
    "colab": {
     "base_uri": "https://localhost:8080/"
    },
    "id": "V56nScSGUwu1",
    "outputId": "c82509ce-cca9-45fb-d97b-7f927cc1a5b1"
   },
   "outputs": [],
   "source": [
    "# 最新の残高を確認。キャンセルされた分の資産のLockが解放される。\n",
    "account = exchange.account\n",
    "print(\"BTC 残高 =\", account['BTC'])\n",
    "print(\"USDT残高 =\", account['USDT'])"
   ]
  },
  {
   "cell_type": "code",
   "execution_count": null,
   "metadata": {},
   "outputs": [],
   "source": [
    "# 売りオーダーをキャンセルする\n",
    "id_to_cancel = sell_limit_order[0].order_id\n",
    "\n",
    "print(\"キャンセルするオーダーID =\", id_to_cancel)\n",
    "\n",
    "exchange.cancel_order(config, id_to_cancel)"
   ]
  },
  {
   "cell_type": "code",
   "execution_count": null,
   "metadata": {},
   "outputs": [],
   "source": [
    "# キャンセルしたオーダーがなくなっていることを確認する。\n",
    "open_order = exchange.get_open_orders(config)\n",
    "\n",
    "HTML(json2html.convert(open_order.__str__()))"
   ]
  },
  {
   "cell_type": "code",
   "execution_count": null,
   "metadata": {},
   "outputs": [],
   "source": [
    "# 最新の残高を確認。Lock が解放されていることを確認する。  \n",
    "account = exchange.account\n",
    "print(\"BTC 残高 =\", account['BTC'])\n",
    "print(\"USDT残高 =\", account['USDT'])"
   ]
  },
  {
   "cell_type": "markdown",
   "metadata": {
    "id": "wjTzfMwpUwu1"
   },
   "source": [
    "## Market order"
   ]
  },
  {
   "cell_type": "code",
   "execution_count": null,
   "metadata": {
    "colab": {
     "base_uri": "https://localhost:8080/",
     "height": 88
    },
    "id": "s2CqjpUHUwu1",
    "outputId": "b728d3d8-25c9-47f3-b3ba-7eedf6d7889a"
   },
   "outputs": [],
   "source": [
    "# market orderを出す\n",
    "\n",
    "market_order = exchange.market_order(config, \"BUY\", 0.001)   # 0.001BTCを市場価格で買う\n",
    "HTML(json2html.convert(market_order.__str__()))"
   ]
  },
  {
   "cell_type": "code",
   "execution_count": null,
   "metadata": {
    "colab": {
     "base_uri": "https://localhost:8080/"
    },
    "id": "nvvd-buOUwu1",
    "outputId": "e713c4f3-3b8a-4ed6-fcc7-3c61af605828"
   },
   "outputs": [],
   "source": [
    "# 最新の残高を確認。約定した分だけBTCが増えて、USDTの残高が減っているはず。\n",
    "account = exchange.account\n",
    "print(\"BTC 残高 =\", account['BTC'])\n",
    "print(\"USDT残高 =\", account['USDT'])"
   ]
  }
 ],
 "metadata": {
  "colab": {
   "include_colab_link": true,
   "provenance": []
  },
  "kernelspec": {
   "display_name": "Python 3",
   "language": "python",
   "name": "python3"
  },
  "language_info": {
   "codemirror_mode": {
    "name": "ipython",
    "version": 3
   },
   "file_extension": ".py",
   "mimetype": "text/x-python",
   "name": "python",
   "nbconvert_exporter": "python",
   "pygments_lexer": "ipython3",
   "version": "3.11.6"
  }
 },
 "nbformat": 4,
 "nbformat_minor": 0
}
