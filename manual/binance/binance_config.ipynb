{
  "cells": [
    {
      "cell_type": "markdown",
      "metadata": {
        "id": "dPekVJUK306u"
      },
      "source": [
        "# BinanceConfigクラス\n",
        "\n",
        "[api一覧はこちら](../manual.ipynb)\n",
        "\n",
        "Binanceの設定ファイルです。\n",
        "今のところ、\n",
        "* BTCUSDT 本番用\n",
        "のみサポートしています。\n",
        "\n",
        "プロパティは書き込み可能なため、Binanceの取り扱い通貨にあわせて変更することができます。"
      ]
    },
    {
      "cell_type": "code",
      "execution_count": 1,
      "metadata": {
        "id": "PE522lHF306w",
        "outputId": "7a8929e7-f7cd-475b-f41a-2553e36480fc",
        "colab": {
          "base_uri": "https://localhost:8080/"
        }
      },
      "outputs": [
        {
          "output_type": "stream",
          "name": "stdout",
          "text": [
            "Requirement already satisfied: rbot in /usr/local/lib/python3.10/dist-packages (0.3.4)\n",
            "Requirement already satisfied: json2html in /usr/local/lib/python3.10/dist-packages (1.3.0)\n"
          ]
        }
      ],
      "source": [
        "! pip install rbot\n",
        "! pip install json2html"
      ]
    },
    {
      "cell_type": "code",
      "execution_count": 2,
      "metadata": {
        "id": "_YPcO5rG306x"
      },
      "outputs": [],
      "source": [
        "from rbot import BinanceConfig\n",
        "from json2html import *\n",
        "from IPython.display import HTML"
      ]
    },
    {
      "cell_type": "code",
      "execution_count": 3,
      "metadata": {
        "id": "T-BCahWT306x",
        "outputId": "30fe91ff-2150-47d0-e362-08da1fe63071",
        "colab": {
          "base_uri": "https://localhost:8080/",
          "height": 69
        }
      },
      "outputs": [
        {
          "output_type": "execute_result",
          "data": {
            "text/plain": [
              "'{\"exchange_name\":\"BINANCE\",\"trade_category\":\"SPOT\",\"trade_symbol\":\"BTCUSDT\",\"price_unit\":\"0.5\",\"price_scale\":2,\"size_unit\":\"0.001\",\"size_scale\":4,\"maker_fee\":\"0.0001\",\"taker_fee\":\"0.0001\",\"price_type\":\"Home\",\"fee_type\":\"Home\",\"home_currency\":\"USDT\",\"foreign_currency\":\"BTC\",\"market_order_price_slip\":\"0.5\",\"board_depth\":1000,\"public_subscribe_channel\":[\"btcusdt@trade\",\"btcusdt@depth@100ms\"]}'"
            ],
            "application/vnd.google.colaboratory.intrinsic+json": {
              "type": "string"
            }
          },
          "metadata": {},
          "execution_count": 3
        }
      ],
      "source": [
        "# BTC-USDTペアーの定義\n",
        "BinanceConfig.BTCUSDT.__repr__()"
      ]
    },
    {
      "cell_type": "code",
      "execution_count": 4,
      "metadata": {
        "id": "zmIjuReU306x",
        "outputId": "521b3c6b-a44b-4afb-b8e4-a6007424a848",
        "colab": {
          "base_uri": "https://localhost:8080/",
          "height": 418
        }
      },
      "outputs": [
        {
          "output_type": "execute_result",
          "data": {
            "text/plain": [
              "<IPython.core.display.HTML object>"
            ],
            "text/html": [
              "<table border=\"1\"><tr><th>exchange_name</th><td>BINANCE</td></tr><tr><th>trade_category</th><td>SPOT</td></tr><tr><th>trade_symbol</th><td>BTCUSDT</td></tr><tr><th>price_unit</th><td>0.5</td></tr><tr><th>price_scale</th><td>2</td></tr><tr><th>size_unit</th><td>0.001</td></tr><tr><th>size_scale</th><td>4</td></tr><tr><th>maker_fee</th><td>0.0001</td></tr><tr><th>taker_fee</th><td>0.0001</td></tr><tr><th>price_type</th><td>Home</td></tr><tr><th>fee_type</th><td>Home</td></tr><tr><th>home_currency</th><td>USDT</td></tr><tr><th>foreign_currency</th><td>BTC</td></tr><tr><th>market_order_price_slip</th><td>0.5</td></tr><tr><th>board_depth</th><td>1000</td></tr><tr><th>public_subscribe_channel</th><td><ul><li>btcusdt@trade</li><li>btcusdt@depth@100ms</li></ul></td></tr></table>"
            ]
          },
          "metadata": {},
          "execution_count": 4
        }
      ],
      "source": [
        "# 中身を表示します。\n",
        "HTML(json2html.convert(json = BinanceConfig.BTCUSDT.__repr__()))"
      ]
    },
    {
      "cell_type": "markdown",
      "metadata": {
        "id": "zevKrGxR306y"
      },
      "source": [
        "## あたらしい通過ペアーへの対応\n",
        "\n",
        "各項目を上書きすることで新しい通過ペアーをつくることができます。たとえばBTC-USDCペアーを以下のように作成します。"
      ]
    },
    {
      "cell_type": "code",
      "execution_count": 5,
      "metadata": {
        "id": "K58olh53306y",
        "outputId": "67375283-be2a-4df5-b605-d0d9d6c42046",
        "colab": {
          "base_uri": "https://localhost:8080/",
          "height": 418
        }
      },
      "outputs": [
        {
          "output_type": "execute_result",
          "data": {
            "text/plain": [
              "<IPython.core.display.HTML object>"
            ],
            "text/html": [
              "<table border=\"1\"><tr><th>exchange_name</th><td>BINANCE</td></tr><tr><th>trade_category</th><td>SPOT</td></tr><tr><th>trade_symbol</th><td>BTCUSDC</td></tr><tr><th>price_unit</th><td>0.5</td></tr><tr><th>price_scale</th><td>2</td></tr><tr><th>size_unit</th><td>0.001</td></tr><tr><th>size_scale</th><td>4</td></tr><tr><th>maker_fee</th><td>0.0001</td></tr><tr><th>taker_fee</th><td>0.0001</td></tr><tr><th>price_type</th><td>Home</td></tr><tr><th>fee_type</th><td>Home</td></tr><tr><th>home_currency</th><td>USDC</td></tr><tr><th>foreign_currency</th><td>BTC</td></tr><tr><th>market_order_price_slip</th><td>0.5</td></tr><tr><th>board_depth</th><td>1000</td></tr><tr><th>public_subscribe_channel</th><td><ul><li>btcusdt@trade</li><li>btcusdt@depth@100ms</li></ul></td></tr></table>"
            ]
          },
          "metadata": {},
          "execution_count": 5
        }
      ],
      "source": [
        "BTCUSDC = BinanceConfig.BTCUSDT\n",
        "\n",
        "BTCUSDC.trade_symbol = \"BTCUSDC\"\n",
        "BTCUSDC.home_currency = \"USDC\"\n",
        "BTCUSDC.foreign_currency = \"BTC\"\n",
        "public_subscribe_channel = [\"btcudsc@trade\", \"btcudsc@depth@100ms\"]\n",
        "\n",
        "HTML(json2html.convert(json=BTCUSDC.__repr__()))"
      ]
    },
    {
      "cell_type": "code",
      "execution_count": 5,
      "metadata": {
        "id": "_dziGJGp306y"
      },
      "outputs": [],
      "source": []
    }
  ],
  "metadata": {
    "kernelspec": {
      "display_name": ".venv",
      "language": "python",
      "name": "python3"
    },
    "language_info": {
      "codemirror_mode": {
        "name": "ipython",
        "version": 3
      },
      "file_extension": ".py",
      "mimetype": "text/x-python",
      "name": "python",
      "nbconvert_exporter": "python",
      "pygments_lexer": "ipython3",
      "version": "3.11.6"
    },
    "colab": {
      "provenance": []
    }
  },
  "nbformat": 4,
  "nbformat_minor": 0
}