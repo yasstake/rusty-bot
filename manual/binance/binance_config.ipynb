{
 "cells": [
  {
   "cell_type": "markdown",
   "metadata": {},
   "source": [
    "# BinanceConfigクラス\n",
    "\n",
    "[api一覧はこちら](./manual.ipynb)\n",
    "\n",
    "Binanceの設定ファイルです。\n",
    "今のところ、\n",
    "* BTCUSDT 本番用\n",
    "のみサポートしています。\n",
    "\n",
    "プロパティは書き込み可能なため、Binanceの取り扱い通貨にあわせて変更することができます。"
   ]
  },
  {
   "cell_type": "code",
   "execution_count": null,
   "metadata": {},
   "outputs": [],
   "source": [
    "! pip rbot\n",
    "! pip install rbot\n",
    "! pip install json2html"
   ]
  },
  {
   "cell_type": "code",
   "execution_count": null,
   "metadata": {},
   "outputs": [],
   "source": [
    "from rbot import BinanceConfig\n",
    "from json2html import *\n",
    "from IPython.display import HTML"
   ]
  },
  {
   "cell_type": "code",
   "execution_count": null,
   "metadata": {},
   "outputs": [],
   "source": [
    "# BTC-USDTペアーの定義\n",
    "BinanceConfig.BTCUSDT.__repr__()"
   ]
  },
  {
   "cell_type": "code",
   "execution_count": null,
   "metadata": {},
   "outputs": [],
   "source": [
    "# 中身を表示します。\n",
    "HTML(json2html.convert(json = BinanceConfig.BTCUSDT.__repr__()))"
   ]
  },
  {
   "cell_type": "markdown",
   "metadata": {},
   "source": [
    "## あたらしい通過ペアーへの対応\n",
    "\n",
    "各項目を上書きすることで新しい通過ペアーをつくることができます。たとえばBTC-USDCペアーを以下のように作成します。"
   ]
  },
  {
   "cell_type": "code",
   "execution_count": null,
   "metadata": {},
   "outputs": [],
   "source": [
    "BTCUSDC = BinanceConfig.BTCUSDT\n",
    "\n",
    "BTCUSDC.trade_symbol = \"BTCUSDC\"\n",
    "BTCUSDC.home_currency = \"USDC\"\n",
    "BTCUSDC.foreign_currency = \"BTC\"\n",
    "public_subscribe_channel = [\"btcudsc@trade\", \"btcudsc@depth@100ms\"]\n",
    "\n",
    "HTML(json2html.convert(json=BTCUSDC.__repr__()))"
   ]
  },
  {
   "cell_type": "code",
   "execution_count": null,
   "metadata": {},
   "outputs": [],
   "source": []
  }
 ],
 "metadata": {
  "kernelspec": {
   "display_name": ".venv",
   "language": "python",
   "name": "python3"
  },
  "language_info": {
   "codemirror_mode": {
    "name": "ipython",
    "version": 3
   },
   "file_extension": ".py",
   "mimetype": "text/x-python",
   "name": "python",
   "nbconvert_exporter": "python",
   "pygments_lexer": "ipython3",
   "version": "3.11.6"
  }
 },
 "nbformat": 4,
 "nbformat_minor": 2
}
