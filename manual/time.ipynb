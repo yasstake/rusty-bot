{
 "cells": [
  {
   "cell_type": "markdown",
   "metadata": {
    "id": "dQoP2GzF3QHt"
   },
   "source": [
    "<a target=\"_blank\" href=\"https://colab.research.google.com/github/yasstake/rusty-bot/blob/main/manual/time.ipynb\">\n",
    "  <img src=\"https://colab.research.google.com/assets/colab-badge.svg\" alt=\"Open In Colab\"/>\n",
    "</a>"
   ]
  },
  {
   "cell_type": "markdown",
   "metadata": {
    "id": "UlduhzZp3OIg"
   },
   "source": [
    "# rbotの提供する時刻ユーティリティについて\n",
    "\n",
    "[List of APIs](./manual.ipynb)\n",
    "\n",
    "パッケージrbot内では、時刻についてはUTCからの経過時間(μs)で統一されています。\n",
    "\n",
    "（例外は、ohlcvなどに使う「期間」についての秒、ログの`download`で使う日数となります）\n",
    "\n",
    "μsでの表現は、コンピュータ処理には便利ですが人間にはわかりにくいのでヘルパー関数を提供しています。以下動かしながら説明します。\n",
    "\n",
    "### 一覧\n",
    "\n",
    "* `time_string(timestamp)` timestampをわかりやすい文字列へ変換する\n",
    "* `NOW()`\n",
    "* `DAYS_BEFORE(ndays)`　現在のndaysで指定した日付前のタイムスタンプ\n",
    "\n",
    "* `DAYS(ndays)` ndaysで指定したの期間をμsで表現\n",
    "* `HHMM(hh, mm)` hh時、mm分の期間をμsで表現\n",
    "* `MIN(min)` minで指定された分をμsで表現\n",
    "* `SEC(sec)` secで指定された秒をμsで表現"
   ]
  },
  {
   "cell_type": "markdown",
   "metadata": {
    "id": "DNET84zk3jU7"
   },
   "source": [
    "## パッケージインストール"
   ]
  },
  {
   "cell_type": "code",
   "execution_count": null,
   "metadata": {
    "colab": {
     "base_uri": "https://localhost:8080/"
    },
    "id": "wOPhbLiE3UNL",
    "outputId": "381811de-808b-4dc0-8539-aa5f86957ba2"
   },
   "outputs": [],
   "source": [
    "! pip install --upgrade pip\n",
    "\n",
    "! pip install rbot"
   ]
  },
  {
   "cell_type": "markdown",
   "metadata": {
    "id": "dyNKk-sr3bMD"
   },
   "source": [
    "## 動かしながら使い方説明"
   ]
  },
  {
   "cell_type": "code",
   "execution_count": null,
   "metadata": {},
   "outputs": [],
   "source": [
    "import rbot\n",
    "\n",
    "# バージョン確認\n",
    "\n",
    "print(\"version =\", rbot.__version__)"
   ]
  },
  {
   "cell_type": "code",
   "execution_count": null,
   "metadata": {
    "colab": {
     "base_uri": "https://localhost:8080/"
    },
    "id": "ZPSvdmzo3OIj",
    "outputId": "8ad310b9-1a00-49e2-ac97-a2c3c2268714"
   },
   "outputs": [],
   "source": [
    "from rbot import time_string\n",
    "\n",
    "# 時刻は、エポック日からの経過時間をμsで表したもので表現します。\n",
    "# 0の場合は、1970年1月1日午前0時0分0秒を表します。\n",
    "\n",
    "print(time_string(0))"
   ]
  },
  {
   "cell_type": "code",
   "execution_count": null,
   "metadata": {
    "colab": {
     "base_uri": "https://localhost:8080/"
    },
    "id": "q0YUZA4j3OIk",
    "outputId": "8f2e42eb-a6b3-45aa-db33-bbcda9c37dd2"
   },
   "outputs": [],
   "source": [
    "from rbot import NOW\n",
    "\n",
    "# 現在時刻を取得し表示します。\n",
    "\n",
    "time_now = NOW()\n",
    "print('現在時刻: ', time_now)\n",
    "print('文字表現: ', time_string(time_now))"
   ]
  },
  {
   "cell_type": "code",
   "execution_count": null,
   "metadata": {
    "colab": {
     "base_uri": "https://localhost:8080/"
    },
    "id": "tgN7jE5L3OIk",
    "outputId": "f3a080ab-5ea9-4856-f5dd-d19256feaa88"
   },
   "outputs": [],
   "source": [
    "from rbot import DAYS_BEFORE\n",
    "\n",
    "# 昨日(24H前）の時刻を取得し表示します。\n",
    "\n",
    "last_day = DAYS_BEFORE(1)\n",
    "print('昨日：', last_day, ' / ', time_string(last_day))"
   ]
  },
  {
   "cell_type": "code",
   "execution_count": null,
   "metadata": {
    "colab": {
     "base_uri": "https://localhost:8080/"
    },
    "id": "egdqmYLz3OIk",
    "outputId": "a4653df5-e6bb-4ade-ccde-5d13a221194e"
   },
   "outputs": [],
   "source": [
    "# 期間を表現する関数です。\n",
    "# 時刻に足したり引いたりすることができます。\n",
    "\n",
    "from rbot import DAYS\n",
    "print('24時間は ', DAYS(1), 'μs')  \n",
    "\n",
    "from rbot import HHMM\n",
    "print('9時間と10分間は ', HHMM(9, 10), 'μs')\n",
    "\n",
    "from rbot import MIN\n",
    "print('10分間は ', MIN(10), 'μs')\n",
    "\n",
    "from rbot import SEC\n",
    "print('1秒間は ', SEC(1), 'μs')\n",
    "\n",
    "# 1時間後の時刻を表示します。\n",
    "now = NOW()\n",
    "print('現在時刻:', time_string(now), ', 1時間後は', time_string(now + HHMM(1, 0)))"
   ]
  },
  {
   "cell_type": "code",
   "execution_count": null,
   "metadata": {},
   "outputs": [],
   "source": []
  }
 ],
 "metadata": {
  "colab": {
   "provenance": []
  },
  "kernelspec": {
   "display_name": "venv",
   "language": "python",
   "name": "python3"
  },
  "language_info": {
   "codemirror_mode": {
    "name": "ipython",
    "version": 3
   },
   "file_extension": ".py",
   "mimetype": "text/x-python",
   "name": "python",
   "nbconvert_exporter": "python",
   "pygments_lexer": "ipython3",
   "version": "3.11.6"
  },
  "vscode": {
   "interpreter": {
    "hash": "e69bbd470bf1393b14609a6bb37f84ea05c8b778927caf2a584647f90d922fc5"
   }
  }
 },
 "nbformat": 4,
 "nbformat_minor": 0
}
