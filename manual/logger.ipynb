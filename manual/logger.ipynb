{
 "cells": [
  {
   "cell_type": "markdown",
   "metadata": {},
   "source": [
    "# Logger ユーティリティ\n",
    "\n",
    "[List of APIs](./manual.ipynb)\n",
    "\n",
    "Botの動作中の状況を保存するクラスです。\n",
    "\n",
    "RunnerでAgentを動かしたあとに得られるセッションクラスからlogプロパティで取り出すことができます。\n",
    "また、Runnerで実行時にログファイルに保存しておいて、あとからロードして分析することもできます。\n",
    "\n",
    "以下はログファイルを読み込むサンプルです。"
   ]
  },
  {
   "cell_type": "code",
   "execution_count": null,
   "metadata": {},
   "outputs": [],
   "source": [
    "# 必要ライブラリのインストール\n",
    "! pip install --upgrade pip\n",
    "\n",
    "# rbotがbot frameworkになります。PyPiに登録されているので、pipでインストールできます。\n",
    "# まだ開発初期段階なので、インターフェースが変わる可能性があります。\n",
    "! pip install --upgrade rbot"
   ]
  },
  {
   "cell_type": "code",
   "execution_count": null,
   "metadata": {},
   "outputs": [],
   "source": [
    "# 関連ライブラリのインストール\n",
    "! pip install pyarrow\n",
    "! pip install polars\n",
    "! pip install plotly\n",
    "! pip install nbformat\n",
    "! pip install numpy\n",
    "! pip install pandas\n",
    "! pip install json2html"
   ]
  },
  {
   "cell_type": "code",
   "execution_count": null,
   "metadata": {},
   "outputs": [],
   "source": [
    "from rbot import Logger\n",
    "\n",
    "import polars as pl"
   ]
  },
  {
   "cell_type": "code",
   "execution_count": null,
   "metadata": {},
   "outputs": [],
   "source": [
    "logger = Logger()               # Loggerオブジェクトの作成\n",
    "\n",
    "logger.restore(\"./bot.log\")    # サンプルログファイルの読み込み\n",
    "                                #(サンプルログファイル`bot.log`はgithubの同じディレクトリにおいてあります)"
   ]
  },
  {
   "cell_type": "markdown",
   "metadata": {},
   "source": [
    "## オーダー情報の取り出し\n",
    "\n",
    "`Logger.orders`プロパティでオーダー状況が取り出せます。各カラムの説明は以下。\n",
    "\n",
    "#### オーダー概要\n",
    "* `log_id`  ログの通し番号\n",
    "* `symbol`  取引通過ペアー\n",
    "* `update_time` 更新時間\n",
    "* `create_time` 作成時間\n",
    "* `status`  オーダー状況（以下の値を取る）\n",
    "  * `New`　新規\n",
    "  * `PartiallyFilled`　一部約定\n",
    "  * `Filled`　約定済\n",
    "  * `Canceled`　キャンセル\n",
    "\n",
    "#### オーダー情報（作成時の情報が維持される）\n",
    "* `order_id`　オーダーID\n",
    "* `client_order_id` クライアント作成のID\n",
    "* `order_side` 売り・買い種別（以下の値を取る）\n",
    "  * `Buy`\n",
    "  * `Sell`\n",
    "* `order_type`　オーダ種別（以下の値を取る）\n",
    "  * `Limit`\n",
    "  * `Market`\n",
    "* `order_price`　指値\n",
    "* `order_size`　注文サイズ\n",
    "\n",
    "#### トランザクション情報（トランザクション結果が反映される）\n",
    "* `transaction_id`　トランザクションID\n",
    "* `execute_price` 約定価格\n",
    "* `execute_size`　約定サイズ\n",
    "* `quote_vol`　見積もりサイズ（ホーム側のサイズ）\n",
    "* `commission`　手数料\n",
    "* `commistion_asset`　手数料通貨\n",
    "* `is_maker`　Makerの場合はTrue\n",
    "* `message` オーダメッセージ（未実装）\n",
    "* `commision_home`　ホーム通貨での手数料\n",
    "* `commision_foreign`　フォーリン通貨での手数料\n",
    "\n",
    "#### アカウント情報（オーダーによって生じた残高の変化[差分]）\n",
    "* `home_change` ホーム残高の変化\n",
    "* `foreign_change`　フォーリン残高の変化\n",
    "* `free_home_change`　ホームの利用可能残高の変化\n",
    "* `free_foreign_change`　フォーリンの利用残高の変化\n",
    "* `lock_home_change`　ホームのロック（板に置いた状態）残高の変化\n",
    "* `lock_foreign_change`　フォーリンのロック（板に置いた状態）残高の変化\n",
    "\n",
    "#### セッション開始からの仮想ポジション・損益（現物にはポジションはないが仮想的に計算）\n",
    "* `open_position`　オープンされたポジション数\n",
    "* `close_position`　クローズされたポジション数\n",
    "* `position`　ポジションサイズ\n",
    "* `profit`　利益（手数料含まず）\n",
    "* `fee`　手数料\n",
    "* `total_profit`　手数料を含む利益\n",
    "\n"
   ]
  },
  {
   "cell_type": "code",
   "execution_count": null,
   "metadata": {},
   "outputs": [],
   "source": [
    "logger.orders.head(5)"
   ]
  },
  {
   "cell_type": "markdown",
   "metadata": {},
   "source": [
    "## インジケータの取り出し\n",
    "\n",
    "Agentから`session.log_indicator(\"key\", value)`で保存したインジケータを取り出すことができます。Logger[`key`]で取り出せます。取り出したデータはPolarsのDataFrame形式になっています。"
   ]
  },
  {
   "cell_type": "code",
   "execution_count": null,
   "metadata": {},
   "outputs": [],
   "source": [
    "# session.log_indicator(\"range\", 123.4) で記録した指標を取得。\n",
    "\n",
    "logger['range'].head(5)"
   ]
  },
  {
   "cell_type": "code",
   "execution_count": null,
   "metadata": {},
   "outputs": [],
   "source": []
  }
 ],
 "metadata": {
  "kernelspec": {
   "display_name": "venv",
   "language": "python",
   "name": "python3"
  },
  "language_info": {
   "codemirror_mode": {
    "name": "ipython",
    "version": 3
   },
   "file_extension": ".py",
   "mimetype": "text/x-python",
   "name": "python",
   "nbconvert_exporter": "python",
   "pygments_lexer": "ipython3",
   "version": "3.11.6"
  }
 },
 "nbformat": 4,
 "nbformat_minor": 2
}
