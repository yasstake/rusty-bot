{
 "cells": [
  {
   "cell_type": "markdown",
   "metadata": {},
   "source": [
    "# BybitConfigクラス\n",
    "\n",
    "[api一覧はこちら](bybit_market.ipynb./manual.ipynb)\n",
    "\n",
    "Bybitの設定ファイルです。\n",
    "今のところ、\n",
    "* BTCUSDT 本番用\n",
    "のみサポートしています。\n",
    "\n",
    "プロパティは書き込み可能なため、取り扱い通貨にあわせて変更することができます。"
   ]
  },
  {
   "cell_type": "code",
   "execution_count": null,
   "metadata": {},
   "outputs": [],
   "source": [
    "! pip install -i https://test.pypi.org/simple/ rbot==0.3.3\n",
    "! pip install json2html"
   ]
  },
  {
   "cell_type": "code",
   "execution_count": null,
   "metadata": {},
   "outputs": [],
   "source": [
    "from rbot import BybitConfig\n",
    "from json2html import *\n",
    "from IPython.display import HTML"
   ]
  },
  {
   "cell_type": "code",
   "execution_count": null,
   "metadata": {},
   "outputs": [],
   "source": [
    "# BTC-USDTペアーの定義\n",
    "BybitConfig.BTCUSDT.__repr__()"
   ]
  },
  {
   "cell_type": "code",
   "execution_count": null,
   "metadata": {},
   "outputs": [],
   "source": [
    "# 中身を表示します。\n",
    "HTML(json2html.convert(json = BybitConfig.BTCUSDT.__repr__()))"
   ]
  },
  {
   "cell_type": "markdown",
   "metadata": {},
   "source": [
    "## あたらしい通過ペアーへの対応\n",
    "\n",
    "各項目を上書きすることで新しい通過ペアーをつくることができます。たとえばETH-USDTペアーを以下のように作成します。"
   ]
  },
  {
   "cell_type": "code",
   "execution_count": null,
   "metadata": {},
   "outputs": [],
   "source": [
    "ETHUSDT = BybitConfig.BTCUSDT\n",
    "\n",
    "ETHUSDT.trade_symbol = \"ETHSDT\"\n",
    "ETHUSDT.foreign_currency = \"ETH\"\n",
    "ETHUSDT.home_currency = \"USDT\"\n",
    "ETHUSDT.public_subscribe_channel = [\"publicTrade.ETHUSDT\", \"orderbook.200.ETHUSDT\"]\n",
    "\n",
    "HTML(json2html.convert(json=ETHUSDT.__repr__()))"
   ]
  },
  {
   "cell_type": "code",
   "execution_count": null,
   "metadata": {},
   "outputs": [],
   "source": []
  }
 ],
 "metadata": {
  "kernelspec": {
   "display_name": ".venv",
   "language": "python",
   "name": "python3"
  },
  "language_info": {
   "codemirror_mode": {
    "name": "ipython",
    "version": 3
   },
   "file_extension": ".py",
   "mimetype": "text/x-python",
   "name": "python",
   "nbconvert_exporter": "python",
   "pygments_lexer": "ipython3",
   "version": "3.11.6"
  }
 },
 "nbformat": 4,
 "nbformat_minor": 2
}
