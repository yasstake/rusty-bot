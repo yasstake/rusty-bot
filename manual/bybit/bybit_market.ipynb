{
 "cells": [
  {
   "cell_type": "markdown",
   "metadata": {
    "colab_type": "text",
    "id": "view-in-github"
   },
   "source": [
    "<a href=\"https://colab.research.google.com/github/yasstake/rusty-bot/blob/rbot_version_3/manual/bybit/bybit_market.ipynb\" target=\"_parent\"><img src=\"https://colab.research.google.com/assets/colab-badge.svg\" alt=\"Open In Colab\"/></a>"
   ]
  },
  {
   "cell_type": "markdown",
   "metadata": {
    "id": "S2X_PDv4OoOM"
   },
   "source": [
    "# Bybit用データ蓄積クラスを使ったサンプル\n",
    "\n",
    "`Bybit`は、通過ペアー毎に以下の機能を提供します。\n",
    "\n",
    "* 蓄積用データベースの生成（Sqlite)\n",
    "* 約定データのダウンロードと更新\n",
    "  * 過去データのダウンロード(Binance Webサイト)\n",
    "  * リアルタイム更新(WebSocket)\n",
    "* 約定データのDBからの取得と足の作成\n",
    "  * 任意の期間の足の作成(`ohlcv`メソッド)\n",
    "  * VAP(Value At Price)の計算(`vap`メソッド)\n",
    "\n",
    "また通過ペアーの設定は`BybitConfig`クラスに定義してあります。パラーメータを修正することで任意の通過ペアーに対応可能ですが、テスト完了して提供しているものは以下になります。\n",
    "* `BybytConfig.BTCUSDT` BTCUSDTペアー（Perpetual）\n",
    "\n",
    "また注意点としてはDBに書き込めるのは１プロセスのみとなります。複数プロセスが立ち上がっているとエラーになったりロックがかかりフリーズする場合があります。\n",
    "\n",
    "## 本サンプルの機能\n",
    "\n",
    "本サンプルでは以下を行います。フレームワークがかなりの部分やってくれるのでシンプルに実行できることがわかると思います。\n",
    "\n",
    "* BTCUSDTペアーの設定で`BybitMarket`オブジェクトを生成する\n",
    "* 過去データのダウンロード\n",
    "* OHLCVの作成とPlotlyによる描画\n",
    "* VAP(Value At Price)の作成と描画\n",
    "* WebSocketによるリアルタイムデータの受信（板情報）"
   ]
  },
  {
   "cell_type": "markdown",
   "metadata": {
    "id": "eKl74VLQOoOO"
   },
   "source": [
    "## 必要ライブラリのインストール\n",
    "\n",
    "`rbot`がBotFrameWorkの本体です。必要なライブラリを合わせてインストールします。２回目は実行不要です。"
   ]
  },
  {
   "cell_type": "code",
   "execution_count": null,
   "metadata": {
    "colab": {
     "base_uri": "https://localhost:8080/"
    },
    "id": "ZQY5TY_UOoOO",
    "outputId": "a8538279-0eea-425e-8bc1-0a3885f25748"
   },
   "outputs": [],
   "source": [
    "# 必要ライブラリのインストール\n",
    "! pip install --upgrade pip\n",
    "\n",
    "# rbotがbot frameworkになります。PyPiに登録されているので、pipでインストールできます。\n",
    "# まだ開発初期段階なので、インターフェースが変わる可能性があります。\n",
    "# ! pip install --upgrade rbot\n",
    "! pip install rbot"
   ]
  },
  {
   "cell_type": "code",
   "execution_count": null,
   "metadata": {
    "colab": {
     "base_uri": "https://localhost:8080/"
    },
    "id": "yRtjZqqqOoOP",
    "outputId": "92d12af8-350f-4182-f0c7-3af7d04cea55"
   },
   "outputs": [],
   "source": [
    "# 必要ライブラリのインストール。環境によっては要・不要があるので適宜修正してください。\n",
    "! pip install json2html\n",
    "! pip install plotly\n",
    "! pip install nbformat\n",
    "! pip install pandas\n",
    "! pip install polars\n",
    "! pip install pyarrow\n",
    "! pip install --upgrade ipywidgets\n",
    "! pip install --upgrade ipympl"
   ]
  },
  {
   "cell_type": "markdown",
   "metadata": {
    "id": "WXIR_AQ2OoOP"
   },
   "source": [
    "## Python コード本体\n",
    "\n",
    "### 必要ライブラリのインポート"
   ]
  },
  {
   "cell_type": "code",
   "execution_count": null,
   "metadata": {
    "colab": {
     "base_uri": "https://localhost:8080/"
    },
    "id": "HMQRZ_T-OoOP",
    "outputId": "3fd17b49-eea7-4eaa-be4e-5488ac931880"
   },
   "outputs": [],
   "source": [
    "import rbot\n",
    "# BybitMarketクラスは、BybitのAPIを利用して、取引所の情報を取得するクラス\n",
    "from rbot import Bybit\n",
    "\n",
    "# BybitConfigクラスは、BinanceMarketクラスのコンストラクタに渡す設定クラス\n",
    "from rbot import BybitConfig\n",
    "from rbot import init_log, init_debug_log\n",
    "#init_debug_log()\n",
    "\n",
    "print(\"rbot version =\", rbot.__version__)"
   ]
  },
  {
   "cell_type": "code",
   "execution_count": null,
   "metadata": {
    "id": "eXOGnVMOOoOP"
   },
   "outputs": [],
   "source": [
    "# 必要ライブラリーのインポート\n",
    "from json2html import *\n",
    "from IPython.display import HTML"
   ]
  },
  {
   "cell_type": "markdown",
   "metadata": {
    "id": "GdrisFgZOoOP"
   },
   "source": [
    "### BybitMarketオブジェクトの生成\n",
    "\n",
    "#### Clab向けディレクトリ設定\n",
    "\n",
    "`RBOT_DB_ROOT`にDBの場所を指定することができます。指定しない場合は、システムディレクトリ(`Library/Application Suport/net.takibi.rbot/DB`など)に作られます。marketオブジェクトの`file_name`プロパティで確認できます。\n"
   ]
  },
  {
   "cell_type": "code",
   "execution_count": null,
   "metadata": {
    "colab": {
     "base_uri": "https://localhost:8080/"
    },
    "id": "wXdAi4L1_Cl0",
    "outputId": "e84ab20d-0af7-4bf9-e5e1-11b54755b550"
   },
   "outputs": [],
   "source": [
    "# Google Colabの場合は、GoogleDriveにDBをつくります。\n",
    "if 'google.colab' in str(get_ipython()):\n",
    "    # Google Driveをマウントする\n",
    "    from google.colab import drive\n",
    "    drive.mount('/content/drive')\n",
    "\n",
    "    # DBの保存先をGoogle Driveに変更する\n",
    "    import os\n",
    "    os.environ['RBOT_DB_ROOT'] = '/content/drive/MyDrive'    # MyDrive以下を指定しましたが適宜変更ください\n"
   ]
  },
  {
   "cell_type": "markdown",
   "metadata": {
    "id": "6R6gbiJy_Cl0"
   },
   "source": [
    "#### 引数にBybitConfigを設定してオブジェクトを生成します。"
   ]
  },
  {
   "cell_type": "code",
   "execution_count": null,
   "metadata": {
    "colab": {
     "base_uri": "https://localhost:8080/",
     "height": 122
    },
    "id": "oAT3memu_Cl0",
    "outputId": "db3d3675-94f5-4481-8dc5-816f30087675"
   },
   "outputs": [],
   "source": [
    "# BinanceMarketクラスのインスタンスを生成(BTCUSDT現物取引の設定)\n",
    "config = BybitConfig.BTCUSDT\n",
    "\n",
    "# Binanceの本番ネットへ接続する。\n",
    "exchange  = Bybit(production=True)\n",
    "market = exchange.open_market(config)\n",
    "\n",
    "# BinanceMarketのインスタンスを表示すると格納されているデータの情報が表示されます。\n",
    "market\n"
   ]
  },
  {
   "cell_type": "code",
   "execution_count": null,
   "metadata": {
    "id": "ps-RIzrE_Cl0"
   },
   "outputs": [],
   "source": [
    "# DBの場所を確認するには以下のプロパティを読み出す。\n",
    "\n",
    "# market.file_name"
   ]
  },
  {
   "cell_type": "markdown",
   "metadata": {
    "id": "x42g_Nf6_Cl0"
   },
   "source": [
    "### 約定ログのダウンロード"
   ]
  },
  {
   "cell_type": "code",
   "execution_count": null,
   "metadata": {
    "colab": {
     "base_uri": "https://localhost:8080/"
    },
    "id": "_qodhsnOOoOQ",
    "outputId": "b976d02f-1a05-4fba-b73c-254370bacffd"
   },
   "outputs": [],
   "source": [
    "# 過去１日分のデータをダウンロード。ダウンロードしたデータは、marketオブジェクトの属性に格納される。\n",
    "# Trueを指定すると、再ダウンロードを行う。Falseの場合はローカルに保存されている場合は、再ダウンロードを行わない。\n",
    "# 比較的時間がかかる処理です。終わるまで少々お待ちください。完了すると取り込まれたレコード数が表示されます。\n",
    "market.download_archive(\n",
    "    ndays=1,        # 過去何日分のデータをダウンロードするか\n",
    "    force=False,    # Trueを指定すると、再ダウンロードを行う。Falseの場合はローカルに保存されている場合は、再ダウンロードを行わない。\n",
    "    verbose=True    # Trueを指定すると、ダウンロードの進捗状況を表示する。\n",
    ")"
   ]
  },
  {
   "cell_type": "code",
   "execution_count": null,
   "metadata": {
    "id": "xcC2oLQ9_Cl1"
   },
   "outputs": [],
   "source": [
    "# アーカイブ以外のデータを削除する。\n",
    "market.expire_unfix_data(force=True)"
   ]
  },
  {
   "cell_type": "code",
   "execution_count": null,
   "metadata": {
    "colab": {
     "base_uri": "https://localhost:8080/",
     "height": 251
    },
    "id": "m-ocWQ-r_Cl1",
    "outputId": "cc09ec67-8819-40a1-a8c2-6cccd7b7c8e4"
   },
   "outputs": [],
   "source": [
    "# 直近のデータをダウンロード（1000件)\n",
    "market.download_latest()"
   ]
  },
  {
   "cell_type": "code",
   "execution_count": null,
   "metadata": {
    "id": "rklUxv0g_Cl1"
   },
   "outputs": [],
   "source": [
    "# ダウンロードされていない最新のブロックGAPをダウンロードする。\n",
    "# Bybitでは、直近１日の約定データが提供されていないので、Klines（１分足）をつかっています。\n",
    "# そのため、直近の１日については１分足よりも細かなデータは利用できません。\n",
    "\n",
    "market.download_gap(verbose=True)"
   ]
  },
  {
   "cell_type": "code",
   "execution_count": null,
   "metadata": {
    "colab": {
     "base_uri": "https://localhost:8080/",
     "height": 122
    },
    "id": "DNGu3rNG_Cl1",
    "outputId": "ba2b455d-cf32-4771-a6c6-54df8a8f1a6f"
   },
   "outputs": [],
   "source": [
    "market"
   ]
  },
  {
   "cell_type": "markdown",
   "metadata": {
    "id": "0dmPSWFvOoOQ"
   },
   "source": [
    "### OHLCVの計算\n",
    "\n",
    "ohlcvメソッドを使うと任意の時間足でローソク足をつくることができます。戻り値はPolarsのDataFrame型です。\n",
    "\n",
    "#### `ohlcv`メソッド\n",
    "\n",
    "```\n",
    "BybitMarket#ohlcv(\n",
    "    start_time=0, # 開始時刻(UNIX時間[us]) 0の場合はDBにある最初のレコードから\n",
    "    end_time=0, # 終了時刻(UNIX時間[us])　 0の場合はDBにある最後のレコードまで\n",
    "    window_sec=60 #OHLCV足の時間幅(秒)\n",
    ")\n",
    "```\n"
   ]
  },
  {
   "cell_type": "code",
   "execution_count": null,
   "metadata": {
    "id": "mS7TLwGOOoOQ"
   },
   "outputs": [],
   "source": [
    "# データベースすべての期間,１分足でOHLCVを計算する。\n",
    "# 初回はメモリーにロードするために時間がかかります。\n",
    "ohlcv = market.ohlcv(\n",
    "    start_time=0,\n",
    "    end_time=0,\n",
    "    window_sec=60\n",
    ")"
   ]
  },
  {
   "cell_type": "code",
   "execution_count": null,
   "metadata": {
    "colab": {
     "base_uri": "https://localhost:8080/",
     "height": 255
    },
    "id": "wTw8zcL2OoOQ",
    "outputId": "f426cd2b-2ed3-47be-cab9-1db9a4ff5bee"
   },
   "outputs": [],
   "source": [
    "# ohlcvはpolarsのDataFrameオブジェクトとして格納されている。\n",
    "ohlcv.head()"
   ]
  },
  {
   "cell_type": "markdown",
   "metadata": {
    "id": "-VkgCFStOoOQ"
   },
   "source": [
    "### (参考)Pandasへの変換\n",
    "\n",
    "Polarsの情報はまだ不足気味。また他のライブラリとの互換性の問題でPandasを使いたい場合は、Polarsのデータフレームオブジェクトの`to_pandas`メソッドで簡単にPandasへ変換することができます。このとき`use_pyarrow_extension_array`を`True`に指定するとデータのコピーが発生せず高速です。"
   ]
  },
  {
   "cell_type": "code",
   "execution_count": null,
   "metadata": {
    "id": "kQ1jm2UtOoOQ"
   },
   "outputs": [],
   "source": [
    "# polarsからpandasへ変換する。\n",
    "pd_ohlcv = ohlcv.to_pandas(use_pyarrow_extension_array=True)"
   ]
  },
  {
   "cell_type": "code",
   "execution_count": null,
   "metadata": {
    "colab": {
     "base_uri": "https://localhost:8080/",
     "height": 206
    },
    "id": "kdznt1DFOoOT",
    "outputId": "ec3031c6-87e3-4d22-d68b-0a0cc292abd4"
   },
   "outputs": [],
   "source": [
    "pd_ohlcv.head()"
   ]
  },
  {
   "cell_type": "markdown",
   "metadata": {
    "id": "b1a1AmXdOoOT"
   },
   "source": [
    "## Plotlyでローソク足を表示する。\n",
    "\n",
    "Plotlyを使うと簡単にローソク足を表示できます。polarsのデータそのままで表示可能です。"
   ]
  },
  {
   "cell_type": "code",
   "execution_count": null,
   "metadata": {
    "colab": {
     "base_uri": "https://localhost:8080/",
     "height": 542
    },
    "id": "2qfgoMnxOoOT",
    "outputId": "10a5ba2f-27ce-416a-a0af-1d621fec4022"
   },
   "outputs": [],
   "source": [
    "# OHLCVの表示\n",
    "import plotly.graph_objects as go\n",
    "from plotly.subplots import make_subplots\n",
    "\n",
    "fig = make_subplots(rows=2, cols=1, shared_xaxes=True, vertical_spacing=0.02, row_width=[0.2, 0.7])\n",
    "\n",
    "fig.add_trace(\n",
    "        go.Candlestick(\n",
    "            x=ohlcv['timestamp'],\n",
    "            open=ohlcv['open'],\n",
    "            high=ohlcv['high'],\n",
    "            low=ohlcv['low'],\n",
    "            close=ohlcv['close'],\n",
    "\n",
    "        ),\n",
    "        row=1, col=1\n",
    ")\n",
    "\n",
    "fig.add_trace(\n",
    "        go.Bar(\n",
    "            x=ohlcv['timestamp'],\n",
    "            y=ohlcv['volume'],\n",
    "        ),\n",
    "        row=2, col=1\n",
    ")\n",
    "\n",
    "#fig.update_layout(layout_xaxis_rangeslider_visible=False)\n",
    "\n",
    "fig\n"
   ]
  },
  {
   "cell_type": "markdown",
   "metadata": {
    "id": "aRkeNx_XOoOT"
   },
   "source": [
    "### VAP(Volume At Price)の計算\n",
    "\n",
    "`BinanceMarket#vap`で指定した期間のVAPを計算します。\n",
    "\n",
    "```\n",
    "BinanceMarket#vap(\n",
    "    start_time = 0, # start_time: 開始時刻(UNIX時間[us]) 0の場合はDBにある最初のレコードから\n",
    "    end_time = 0, # end_time:終了時刻(UNIX時間[us]) 0の場合はDBの最終レコードまで\n",
    "    price_unit = 1 #価格をまとめる単位\n",
    ")\n",
    "```"
   ]
  },
  {
   "cell_type": "code",
   "execution_count": null,
   "metadata": {
    "id": "XDPFUadHOoOT"
   },
   "outputs": [],
   "source": [
    "vap = market.vap(start_time=0, end_time=0, price_unit=1)"
   ]
  },
  {
   "cell_type": "code",
   "execution_count": null,
   "metadata": {
    "colab": {
     "base_uri": "https://localhost:8080/",
     "height": 882
    },
    "id": "YIQp7AFoOoOT",
    "outputId": "29b22ae7-cee4-4daf-bcfb-1be3cd8a64e4"
   },
   "outputs": [],
   "source": [
    "vap"
   ]
  },
  {
   "cell_type": "code",
   "execution_count": null,
   "metadata": {
    "colab": {
     "base_uri": "https://localhost:8080/",
     "height": 542
    },
    "id": "iW65v2JIOoOT",
    "outputId": "1e490778-e4c1-4754-d303-2b511d7810f5"
   },
   "outputs": [],
   "source": [
    "fig = go.Figure(\n",
    "    data=[\n",
    "        go.Scatter(\n",
    "            x=vap['sell_volume'],\n",
    "            y=vap['price'],\n",
    "            fill='tozerox',\n",
    "            name='sell'\n",
    "        ),\n",
    "        go.Scatter(\n",
    "            x=vap['sell_volume'] + vap['buy_volume'],\n",
    "            y=vap['price'],\n",
    "            fill='tonextx',\n",
    "            name='buy'\n",
    "        ),\n",
    "    ],\n",
    "    layout=go.Layout(barmode='stack')\n",
    ")\n",
    "\n",
    "fig"
   ]
  },
  {
   "cell_type": "markdown",
   "metadata": {
    "id": "0iNc_KjiOoOU"
   },
   "source": [
    "## WebSocketによるリアルタイム情報取得\n",
    "(注：ColabではWebSocketが動きません。ローカル環境で試してください）\n",
    "\n",
    "なお、同時にTick（約定）情報もDBへリアルタイムに更新されていきます。\n",
    "そのため２回目にOHLCV取得すると、リアルタイム分とバッチダウンロード分の間にギャップができます。\n",
    "ここを埋めるAPIもあるのですが、また別途。"
   ]
  },
  {
   "cell_type": "code",
   "execution_count": null,
   "metadata": {
    "id": "mwYVEoZ7OoOU"
   },
   "outputs": [],
   "source": [
    "# WebSocketデータの受信開始\n",
    "market.start_market_stream()\n",
    "\n",
    "from time import sleep\n",
    "sleep(1)"
   ]
  },
  {
   "cell_type": "code",
   "execution_count": null,
   "metadata": {
    "id": "M-MMqYRLOoOU"
   },
   "outputs": [],
   "source": [
    "\n",
    "from time import sleep\n",
    "import plotly.graph_objects as go\n",
    "\n",
    "def trim(bids, asks):\n",
    "    ask_spred =  asks['price'][-1] - asks['price'][0]\n",
    "    bids_spred = bids['price'][0] - bids['price'][-1]\n",
    "\n",
    "    if ask_spred < bids_spred:\n",
    "        edge = bids['price'][0]\n",
    "        bids = bids.filter(bids['price'] > edge - ask_spred * 3)\n",
    "    else:\n",
    "        edge = asks['price'][0]\n",
    "        asks = asks.filter(asks['price'] < edge + bids_spred * 3)\n",
    "\n",
    "    return bids, asks\n",
    "\n",
    "fig = go.FigureWidget()\n",
    "\n",
    "bids, asks = market.board\n",
    "bids, asks = trim(bids, asks)\n",
    "\n",
    "fig.add_scatter(\n",
    "    x=bids['price'],\n",
    "    y=bids['sum'],\n",
    "    name='bids',\n",
    "    marker_color='blue'\n",
    ")\n",
    "\n",
    "fig.add_scatter(\n",
    "    x=asks['price'],\n",
    "    y=asks['sum'],\n",
    "    name='asks',\n",
    "    marker_color='red'\n",
    ")\n",
    "\n",
    "fig.layout.title = 'Bybit BTCUSDT Order Book'\n",
    "fig"
   ]
  },
  {
   "cell_type": "code",
   "execution_count": null,
   "metadata": {
    "id": "PuhtULU6OoOU"
   },
   "outputs": [],
   "source": [
    "# 0.1秒ごとに板情報を更新する（１００回ループ）\n",
    "\n",
    "for i in range(1000):\n",
    "    bids, asks = market.board\n",
    "    bids, asks = trim(bids, asks)\n",
    "    bids_edge = bids['price'][0]\n",
    "    asks_edge = asks['price'][0]\n",
    "\n",
    "    fig.layout.title = f'Bybit BTCUSDT Order Book (bids_edge={bids_edge}, asks_edge={asks_edge})'\n",
    "\n",
    "    fig.data[0].x = bids['price']\n",
    "    fig.data[0].y = bids['sum']\n",
    "    fig.data[1].x = asks['price']\n",
    "    fig.data[1].y = asks['sum']\n",
    "    sleep(0.1)\n",
    "\n",
    "\n",
    "\n",
    "\n"
   ]
  },
  {
   "cell_type": "code",
   "execution_count": null,
   "metadata": {},
   "outputs": [],
   "source": [
    "bids"
   ]
  },
  {
   "cell_type": "markdown",
   "metadata": {
    "id": "EMm9iU5ZOoOU"
   },
   "source": [
    "# 以後テスト用"
   ]
  },
  {
   "cell_type": "code",
   "execution_count": null,
   "metadata": {
    "id": "27hwMgQnOoOU"
   },
   "outputs": [],
   "source": [
    "# VAP内の縦横計算の確認\n",
    "\n",
    "vap_sum = vap.sum()\n",
    "\n",
    "print(vap_sum)\n",
    "\n",
    "vap_sell_sum = vap_sum['sell_volume'][0]\n",
    "vap_buy_sum = vap_sum['buy_volume'][0]\n",
    "vap_volume_sum = vap_sum['volume'][0]\n",
    "\n",
    "print('vap_sell_volume: ', vap_sell_sum)\n",
    "print('vap_buy_volume: ', vap_buy_sum)\n",
    "print('vap_volume: ', vap_volume_sum)\n",
    "\n",
    "if vap_sell_sum + vap_buy_sum != vap_volume_sum:\n",
    "    print('error')\n",
    "else:\n",
    "    print('OK')\n"
   ]
  },
  {
   "cell_type": "code",
   "execution_count": null,
   "metadata": {
    "id": "l5h7yzPuOoOU"
   },
   "outputs": [],
   "source": [
    "#　合計値がOHLCVとVAPで一致することを確認する。\n",
    "ohlcvv = market.ohlcvv(start_time=0, end_time=0, window_sec=60)\n",
    "\n",
    "sum = ohlcvv['volume'].sum()\n",
    "\n",
    "sum1 = ohlcv['volume'].sum()\n",
    "sum2 = vap['buy_volume'].sum() + vap['sell_volume'].sum()\n",
    "\n",
    "print(f'OHLCVVの合計値: {sum}')\n",
    "print(f'OHLCVの合計値: {sum1}')\n",
    "print(f'VAPの合計値: {sum2}')\n"
   ]
  },
  {
   "cell_type": "code",
   "execution_count": null,
   "metadata": {
    "id": "4zarqtGn_Cl3"
   },
   "outputs": [],
   "source": []
  }
 ],
 "metadata": {
  "colab": {
   "include_colab_link": true,
   "provenance": []
  },
  "kernelspec": {
   "display_name": "Python 3",
   "language": "python",
   "name": "python3"
  },
  "language_info": {
   "codemirror_mode": {
    "name": "ipython",
    "version": 3
   },
   "file_extension": ".py",
   "mimetype": "text/x-python",
   "name": "python",
   "nbconvert_exporter": "python",
   "pygments_lexer": "ipython3",
   "version": "3.11.6"
  }
 },
 "nbformat": 4,
 "nbformat_minor": 0
}
