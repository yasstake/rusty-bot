{
  "cells": [
    {
      "cell_type": "markdown",
      "metadata": {
        "id": "view-in-github",
        "colab_type": "text"
      },
      "source": [
        "<a href=\"https://colab.research.google.com/github/yasstake/rusty-bot/blob/rbot_version_3/manual/bybit/bybit_market.ipynb\" target=\"_parent\"><img src=\"https://colab.research.google.com/assets/colab-badge.svg\" alt=\"Open In Colab\"/></a>"
      ]
    },
    {
      "cell_type": "markdown",
      "metadata": {
        "id": "S2X_PDv4OoOM"
      },
      "source": [
        "# Bybit用データ蓄積クラスを使ったサンプル\n",
        "\n",
        "`Bybit`は、通過ペアー毎に以下の機能を提供します。\n",
        "\n",
        "* 蓄積用データベースの生成（Sqlite)\n",
        "* 約定データのダウンロードと更新\n",
        "  * 過去データのダウンロード(Binance Webサイト)\n",
        "  * リアルタイム更新(WebSocket)\n",
        "* 約定データのDBからの取得と足の作成\n",
        "  * 任意の期間の足の作成(`ohlcv`メソッド)\n",
        "  * VAP(Value At Price)の計算(`vap`メソッド)\n",
        "\n",
        "また通過ペアーの設定は`BybitConfig`クラスに定義してあります。パラーメータを修正することで任意の通過ペアーに対応可能ですが、テスト完了して提供しているものは以下になります。\n",
        "* `BybytConfig.BTCUSDT` BTCUSDTペアー（Perpetual）\n",
        "\n",
        "また注意点としてはDBに書き込めるのは１プロセスのみとなります。複数プロセスが立ち上がっているとエラーになったりロックがかかりフリーズする場合があります。\n",
        "\n",
        "## 本サンプルの機能\n",
        "\n",
        "本サンプルでは以下を行います。フレームワークがかなりの部分やってくれるのでシンプルに実行できることがわかると思います。\n",
        "\n",
        "* BTCUSDTペアーの設定で`BybitMarket`オブジェクトを生成する\n",
        "* 過去データのダウンロード\n",
        "* OHLCVの作成とPlotlyによる描画\n",
        "* VAP(Value At Price)の作成と描画\n",
        "* WebSocketによるリアルタイムデータの受信（板情報）"
      ]
    },
    {
      "cell_type": "markdown",
      "metadata": {
        "id": "eKl74VLQOoOO"
      },
      "source": [
        "## 必要ライブラリのインストール\n",
        "\n",
        "`rbot`がBotFrameWorkの本体です。必要なライブラリを合わせてインストールします。２回目は実行不要です。"
      ]
    },
    {
      "cell_type": "code",
      "execution_count": 1,
      "metadata": {
        "colab": {
          "base_uri": "https://localhost:8080/"
        },
        "id": "ZQY5TY_UOoOO",
        "outputId": "a8538279-0eea-425e-8bc1-0a3885f25748"
      },
      "outputs": [
        {
          "output_type": "stream",
          "name": "stdout",
          "text": [
            "Requirement already satisfied: pip in /usr/local/lib/python3.10/dist-packages (23.1.2)\n",
            "Collecting pip\n",
            "  Downloading pip-24.0-py3-none-any.whl (2.1 MB)\n",
            "\u001b[2K     \u001b[90m━━━━━━━━━━━━━━━━━━━━━━━━━━━━━━━━━━━━━━━━\u001b[0m \u001b[32m2.1/2.1 MB\u001b[0m \u001b[31m8.0 MB/s\u001b[0m eta \u001b[36m0:00:00\u001b[0m\n",
            "\u001b[?25hInstalling collected packages: pip\n",
            "  Attempting uninstall: pip\n",
            "    Found existing installation: pip 23.1.2\n",
            "    Uninstalling pip-23.1.2:\n",
            "      Successfully uninstalled pip-23.1.2\n",
            "Successfully installed pip-24.0\n",
            "Looking in indexes: https://test.pypi.org/simple/\n",
            "Collecting rbot\n",
            "  Downloading https://test-files.pythonhosted.org/packages/f9/6d/50ded07336f9a60cf896b9ceac8b67564e9f6316fe885c94be13960fb2ec/rbot-0.3.2-cp38-abi3-manylinux_2_17_x86_64.manylinux2014_x86_64.whl.metadata (436 bytes)\n",
            "Downloading https://test-files.pythonhosted.org/packages/f9/6d/50ded07336f9a60cf896b9ceac8b67564e9f6316fe885c94be13960fb2ec/rbot-0.3.2-cp38-abi3-manylinux_2_17_x86_64.manylinux2014_x86_64.whl (17.6 MB)\n",
            "\u001b[2K   \u001b[90m━━━━━━━━━━━━━━━━━━━━━━━━━━━━━━━━━━━━━━━━\u001b[0m \u001b[32m17.6/17.6 MB\u001b[0m \u001b[31m10.5 MB/s\u001b[0m eta \u001b[36m0:00:00\u001b[0m\n",
            "\u001b[?25hInstalling collected packages: rbot\n",
            "Successfully installed rbot-0.3.2\n",
            "\u001b[33mWARNING: Running pip as the 'root' user can result in broken permissions and conflicting behaviour with the system package manager. It is recommended to use a virtual environment instead: https://pip.pypa.io/warnings/venv\u001b[0m\u001b[33m\n",
            "\u001b[0m"
          ]
        }
      ],
      "source": [
        "# 必要ライブラリのインストール\n",
        "! pip install --upgrade pip\n",
        "\n",
        "# rbotがbot frameworkになります。PyPiに登録されているので、pipでインストールできます。\n",
        "# まだ開発初期段階なので、インターフェースが変わる可能性があります。\n",
        "! pip install -i https://test.pypi.org/simple/ rbot\n",
        "#! pip install --upgrade rbot"
      ]
    },
    {
      "cell_type": "code",
      "execution_count": 2,
      "metadata": {
        "id": "yRtjZqqqOoOP",
        "outputId": "92d12af8-350f-4182-f0c7-3af7d04cea55",
        "colab": {
          "base_uri": "https://localhost:8080/"
        }
      },
      "outputs": [
        {
          "output_type": "stream",
          "name": "stdout",
          "text": [
            "Collecting json2html\n",
            "  Downloading json2html-1.3.0.tar.gz (7.0 kB)\n",
            "  Preparing metadata (setup.py) ... \u001b[?25l\u001b[?25hdone\n",
            "Building wheels for collected packages: json2html\n",
            "  Building wheel for json2html (setup.py) ... \u001b[?25l\u001b[?25hdone\n",
            "  Created wheel for json2html: filename=json2html-1.3.0-py3-none-any.whl size=7593 sha256=bf1f05a31cd03c3d47e6cffbc7ddf85e0ed2c036d46d2453024f40d6fd07c167\n",
            "  Stored in directory: /root/.cache/pip/wheels/e0/d8/b3/6f83a04ab0ec00e691de794d108286bb0f8bcdf4ade19afb57\n",
            "Successfully built json2html\n",
            "Installing collected packages: json2html\n",
            "Successfully installed json2html-1.3.0\n",
            "\u001b[33mWARNING: Running pip as the 'root' user can result in broken permissions and conflicting behaviour with the system package manager. It is recommended to use a virtual environment instead: https://pip.pypa.io/warnings/venv\u001b[0m\u001b[33m\n",
            "\u001b[0mRequirement already satisfied: plotly in /usr/local/lib/python3.10/dist-packages (5.15.0)\n",
            "Requirement already satisfied: tenacity>=6.2.0 in /usr/local/lib/python3.10/dist-packages (from plotly) (8.2.3)\n",
            "Requirement already satisfied: packaging in /usr/local/lib/python3.10/dist-packages (from plotly) (24.0)\n",
            "\u001b[33mWARNING: Running pip as the 'root' user can result in broken permissions and conflicting behaviour with the system package manager. It is recommended to use a virtual environment instead: https://pip.pypa.io/warnings/venv\u001b[0m\u001b[33m\n",
            "\u001b[0mRequirement already satisfied: nbformat in /usr/local/lib/python3.10/dist-packages (5.10.3)\n",
            "Requirement already satisfied: fastjsonschema in /usr/local/lib/python3.10/dist-packages (from nbformat) (2.19.1)\n",
            "Requirement already satisfied: jsonschema>=2.6 in /usr/local/lib/python3.10/dist-packages (from nbformat) (4.19.2)\n",
            "Requirement already satisfied: jupyter-core in /usr/local/lib/python3.10/dist-packages (from nbformat) (5.7.2)\n",
            "Requirement already satisfied: traitlets>=5.1 in /usr/local/lib/python3.10/dist-packages (from nbformat) (5.7.1)\n",
            "Requirement already satisfied: attrs>=22.2.0 in /usr/local/lib/python3.10/dist-packages (from jsonschema>=2.6->nbformat) (23.2.0)\n",
            "Requirement already satisfied: jsonschema-specifications>=2023.03.6 in /usr/local/lib/python3.10/dist-packages (from jsonschema>=2.6->nbformat) (2023.12.1)\n",
            "Requirement already satisfied: referencing>=0.28.4 in /usr/local/lib/python3.10/dist-packages (from jsonschema>=2.6->nbformat) (0.34.0)\n",
            "Requirement already satisfied: rpds-py>=0.7.1 in /usr/local/lib/python3.10/dist-packages (from jsonschema>=2.6->nbformat) (0.18.0)\n",
            "Requirement already satisfied: platformdirs>=2.5 in /usr/local/lib/python3.10/dist-packages (from jupyter-core->nbformat) (4.2.0)\n",
            "\u001b[33mWARNING: Running pip as the 'root' user can result in broken permissions and conflicting behaviour with the system package manager. It is recommended to use a virtual environment instead: https://pip.pypa.io/warnings/venv\u001b[0m\u001b[33m\n",
            "\u001b[0mRequirement already satisfied: pandas in /usr/local/lib/python3.10/dist-packages (1.5.3)\n",
            "Requirement already satisfied: python-dateutil>=2.8.1 in /usr/local/lib/python3.10/dist-packages (from pandas) (2.8.2)\n",
            "Requirement already satisfied: pytz>=2020.1 in /usr/local/lib/python3.10/dist-packages (from pandas) (2023.4)\n",
            "Requirement already satisfied: numpy>=1.21.0 in /usr/local/lib/python3.10/dist-packages (from pandas) (1.25.2)\n",
            "Requirement already satisfied: six>=1.5 in /usr/local/lib/python3.10/dist-packages (from python-dateutil>=2.8.1->pandas) (1.16.0)\n",
            "\u001b[33mWARNING: Running pip as the 'root' user can result in broken permissions and conflicting behaviour with the system package manager. It is recommended to use a virtual environment instead: https://pip.pypa.io/warnings/venv\u001b[0m\u001b[33m\n",
            "\u001b[0mRequirement already satisfied: polars in /usr/local/lib/python3.10/dist-packages (0.20.2)\n",
            "\u001b[33mWARNING: Running pip as the 'root' user can result in broken permissions and conflicting behaviour with the system package manager. It is recommended to use a virtual environment instead: https://pip.pypa.io/warnings/venv\u001b[0m\u001b[33m\n",
            "\u001b[0mRequirement already satisfied: pyarrow in /usr/local/lib/python3.10/dist-packages (14.0.2)\n",
            "Requirement already satisfied: numpy>=1.16.6 in /usr/local/lib/python3.10/dist-packages (from pyarrow) (1.25.2)\n",
            "\u001b[33mWARNING: Running pip as the 'root' user can result in broken permissions and conflicting behaviour with the system package manager. It is recommended to use a virtual environment instead: https://pip.pypa.io/warnings/venv\u001b[0m\u001b[33m\n",
            "\u001b[0mRequirement already satisfied: ipywidgets in /usr/local/lib/python3.10/dist-packages (7.7.1)\n",
            "Collecting ipywidgets\n",
            "  Downloading ipywidgets-8.1.2-py3-none-any.whl.metadata (2.4 kB)\n",
            "Collecting comm>=0.1.3 (from ipywidgets)\n",
            "  Downloading comm-0.2.2-py3-none-any.whl.metadata (3.7 kB)\n",
            "Requirement already satisfied: ipython>=6.1.0 in /usr/local/lib/python3.10/dist-packages (from ipywidgets) (7.34.0)\n",
            "Requirement already satisfied: traitlets>=4.3.1 in /usr/local/lib/python3.10/dist-packages (from ipywidgets) (5.7.1)\n",
            "Collecting widgetsnbextension~=4.0.10 (from ipywidgets)\n",
            "  Downloading widgetsnbextension-4.0.10-py3-none-any.whl.metadata (1.6 kB)\n",
            "Requirement already satisfied: jupyterlab-widgets~=3.0.10 in /usr/local/lib/python3.10/dist-packages (from ipywidgets) (3.0.10)\n",
            "Requirement already satisfied: setuptools>=18.5 in /usr/local/lib/python3.10/dist-packages (from ipython>=6.1.0->ipywidgets) (67.7.2)\n",
            "Collecting jedi>=0.16 (from ipython>=6.1.0->ipywidgets)\n",
            "  Downloading jedi-0.19.1-py2.py3-none-any.whl.metadata (22 kB)\n",
            "Requirement already satisfied: decorator in /usr/local/lib/python3.10/dist-packages (from ipython>=6.1.0->ipywidgets) (4.4.2)\n",
            "Requirement already satisfied: pickleshare in /usr/local/lib/python3.10/dist-packages (from ipython>=6.1.0->ipywidgets) (0.7.5)\n",
            "Requirement already satisfied: prompt-toolkit!=3.0.0,!=3.0.1,<3.1.0,>=2.0.0 in /usr/local/lib/python3.10/dist-packages (from ipython>=6.1.0->ipywidgets) (3.0.43)\n",
            "Requirement already satisfied: pygments in /usr/local/lib/python3.10/dist-packages (from ipython>=6.1.0->ipywidgets) (2.16.1)\n",
            "Requirement already satisfied: backcall in /usr/local/lib/python3.10/dist-packages (from ipython>=6.1.0->ipywidgets) (0.2.0)\n",
            "Requirement already satisfied: matplotlib-inline in /usr/local/lib/python3.10/dist-packages (from ipython>=6.1.0->ipywidgets) (0.1.6)\n",
            "Requirement already satisfied: pexpect>4.3 in /usr/local/lib/python3.10/dist-packages (from ipython>=6.1.0->ipywidgets) (4.9.0)\n",
            "Requirement already satisfied: parso<0.9.0,>=0.8.3 in /usr/local/lib/python3.10/dist-packages (from jedi>=0.16->ipython>=6.1.0->ipywidgets) (0.8.3)\n",
            "Requirement already satisfied: ptyprocess>=0.5 in /usr/local/lib/python3.10/dist-packages (from pexpect>4.3->ipython>=6.1.0->ipywidgets) (0.7.0)\n",
            "Requirement already satisfied: wcwidth in /usr/local/lib/python3.10/dist-packages (from prompt-toolkit!=3.0.0,!=3.0.1,<3.1.0,>=2.0.0->ipython>=6.1.0->ipywidgets) (0.2.13)\n",
            "Downloading ipywidgets-8.1.2-py3-none-any.whl (139 kB)\n",
            "\u001b[2K   \u001b[90m━━━━━━━━━━━━━━━━━━━━━━━━━━━━━━━━━━━━━━━━\u001b[0m \u001b[32m139.4/139.4 kB\u001b[0m \u001b[31m6.8 MB/s\u001b[0m eta \u001b[36m0:00:00\u001b[0m\n",
            "\u001b[?25hDownloading comm-0.2.2-py3-none-any.whl (7.2 kB)\n",
            "Downloading widgetsnbextension-4.0.10-py3-none-any.whl (2.3 MB)\n",
            "\u001b[2K   \u001b[90m━━━━━━━━━━━━━━━━━━━━━━━━━━━━━━━━━━━━━━━━\u001b[0m \u001b[32m2.3/2.3 MB\u001b[0m \u001b[31m48.4 MB/s\u001b[0m eta \u001b[36m0:00:00\u001b[0m\n",
            "\u001b[?25hDownloading jedi-0.19.1-py2.py3-none-any.whl (1.6 MB)\n",
            "\u001b[2K   \u001b[90m━━━━━━━━━━━━━━━━━━━━━━━━━━━━━━━━━━━━━━━━\u001b[0m \u001b[32m1.6/1.6 MB\u001b[0m \u001b[31m59.7 MB/s\u001b[0m eta \u001b[36m0:00:00\u001b[0m\n",
            "\u001b[?25hInstalling collected packages: widgetsnbextension, jedi, comm, ipywidgets\n",
            "  Attempting uninstall: widgetsnbextension\n",
            "    Found existing installation: widgetsnbextension 3.6.6\n",
            "    Uninstalling widgetsnbextension-3.6.6:\n",
            "      Successfully uninstalled widgetsnbextension-3.6.6\n",
            "  Attempting uninstall: ipywidgets\n",
            "    Found existing installation: ipywidgets 7.7.1\n",
            "    Uninstalling ipywidgets-7.7.1:\n",
            "      Successfully uninstalled ipywidgets-7.7.1\n",
            "Successfully installed comm-0.2.2 ipywidgets-8.1.2 jedi-0.19.1 widgetsnbextension-4.0.10\n",
            "\u001b[33mWARNING: Running pip as the 'root' user can result in broken permissions and conflicting behaviour with the system package manager. It is recommended to use a virtual environment instead: https://pip.pypa.io/warnings/venv\u001b[0m\u001b[33m\n",
            "\u001b[0mCollecting ipympl\n",
            "  Downloading ipympl-0.9.3-py2.py3-none-any.whl.metadata (1.3 kB)\n",
            "Requirement already satisfied: ipython<9 in /usr/local/lib/python3.10/dist-packages (from ipympl) (7.34.0)\n",
            "Requirement already satisfied: numpy in /usr/local/lib/python3.10/dist-packages (from ipympl) (1.25.2)\n",
            "Requirement already satisfied: ipython-genutils in /usr/local/lib/python3.10/dist-packages (from ipympl) (0.2.0)\n",
            "Requirement already satisfied: pillow in /usr/local/lib/python3.10/dist-packages (from ipympl) (9.4.0)\n",
            "Requirement already satisfied: traitlets<6 in /usr/local/lib/python3.10/dist-packages (from ipympl) (5.7.1)\n",
            "Requirement already satisfied: ipywidgets<9,>=7.6.0 in /usr/local/lib/python3.10/dist-packages (from ipympl) (8.1.2)\n",
            "Requirement already satisfied: matplotlib<4,>=3.4.0 in /usr/local/lib/python3.10/dist-packages (from ipympl) (3.7.1)\n",
            "Requirement already satisfied: setuptools>=18.5 in /usr/local/lib/python3.10/dist-packages (from ipython<9->ipympl) (67.7.2)\n",
            "Requirement already satisfied: jedi>=0.16 in /usr/local/lib/python3.10/dist-packages (from ipython<9->ipympl) (0.19.1)\n",
            "Requirement already satisfied: decorator in /usr/local/lib/python3.10/dist-packages (from ipython<9->ipympl) (4.4.2)\n",
            "Requirement already satisfied: pickleshare in /usr/local/lib/python3.10/dist-packages (from ipython<9->ipympl) (0.7.5)\n",
            "Requirement already satisfied: prompt-toolkit!=3.0.0,!=3.0.1,<3.1.0,>=2.0.0 in /usr/local/lib/python3.10/dist-packages (from ipython<9->ipympl) (3.0.43)\n",
            "Requirement already satisfied: pygments in /usr/local/lib/python3.10/dist-packages (from ipython<9->ipympl) (2.16.1)\n",
            "Requirement already satisfied: backcall in /usr/local/lib/python3.10/dist-packages (from ipython<9->ipympl) (0.2.0)\n",
            "Requirement already satisfied: matplotlib-inline in /usr/local/lib/python3.10/dist-packages (from ipython<9->ipympl) (0.1.6)\n",
            "Requirement already satisfied: pexpect>4.3 in /usr/local/lib/python3.10/dist-packages (from ipython<9->ipympl) (4.9.0)\n",
            "Requirement already satisfied: comm>=0.1.3 in /usr/local/lib/python3.10/dist-packages (from ipywidgets<9,>=7.6.0->ipympl) (0.2.2)\n",
            "Requirement already satisfied: widgetsnbextension~=4.0.10 in /usr/local/lib/python3.10/dist-packages (from ipywidgets<9,>=7.6.0->ipympl) (4.0.10)\n",
            "Requirement already satisfied: jupyterlab-widgets~=3.0.10 in /usr/local/lib/python3.10/dist-packages (from ipywidgets<9,>=7.6.0->ipympl) (3.0.10)\n",
            "Requirement already satisfied: contourpy>=1.0.1 in /usr/local/lib/python3.10/dist-packages (from matplotlib<4,>=3.4.0->ipympl) (1.2.0)\n",
            "Requirement already satisfied: cycler>=0.10 in /usr/local/lib/python3.10/dist-packages (from matplotlib<4,>=3.4.0->ipympl) (0.12.1)\n",
            "Requirement already satisfied: fonttools>=4.22.0 in /usr/local/lib/python3.10/dist-packages (from matplotlib<4,>=3.4.0->ipympl) (4.50.0)\n",
            "Requirement already satisfied: kiwisolver>=1.0.1 in /usr/local/lib/python3.10/dist-packages (from matplotlib<4,>=3.4.0->ipympl) (1.4.5)\n",
            "Requirement already satisfied: packaging>=20.0 in /usr/local/lib/python3.10/dist-packages (from matplotlib<4,>=3.4.0->ipympl) (24.0)\n",
            "Requirement already satisfied: pyparsing>=2.3.1 in /usr/local/lib/python3.10/dist-packages (from matplotlib<4,>=3.4.0->ipympl) (3.1.2)\n",
            "Requirement already satisfied: python-dateutil>=2.7 in /usr/local/lib/python3.10/dist-packages (from matplotlib<4,>=3.4.0->ipympl) (2.8.2)\n",
            "Requirement already satisfied: parso<0.9.0,>=0.8.3 in /usr/local/lib/python3.10/dist-packages (from jedi>=0.16->ipython<9->ipympl) (0.8.3)\n",
            "Requirement already satisfied: ptyprocess>=0.5 in /usr/local/lib/python3.10/dist-packages (from pexpect>4.3->ipython<9->ipympl) (0.7.0)\n",
            "Requirement already satisfied: wcwidth in /usr/local/lib/python3.10/dist-packages (from prompt-toolkit!=3.0.0,!=3.0.1,<3.1.0,>=2.0.0->ipython<9->ipympl) (0.2.13)\n",
            "Requirement already satisfied: six>=1.5 in /usr/local/lib/python3.10/dist-packages (from python-dateutil>=2.7->matplotlib<4,>=3.4.0->ipympl) (1.16.0)\n",
            "Downloading ipympl-0.9.3-py2.py3-none-any.whl (511 kB)\n",
            "\u001b[2K   \u001b[90m━━━━━━━━━━━━━━━━━━━━━━━━━━━━━━━━━━━━━━━━\u001b[0m \u001b[32m511.6/511.6 kB\u001b[0m \u001b[31m7.2 MB/s\u001b[0m eta \u001b[36m0:00:00\u001b[0m\n",
            "\u001b[?25hInstalling collected packages: ipympl\n",
            "Successfully installed ipympl-0.9.3\n",
            "\u001b[33mWARNING: Running pip as the 'root' user can result in broken permissions and conflicting behaviour with the system package manager. It is recommended to use a virtual environment instead: https://pip.pypa.io/warnings/venv\u001b[0m\u001b[33m\n",
            "\u001b[0m"
          ]
        }
      ],
      "source": [
        "# 必要ライブラリのインストール。環境によっては要・不要があるので適宜修正してください。\n",
        "! pip install json2html\n",
        "! pip install plotly\n",
        "! pip install nbformat\n",
        "! pip install pandas\n",
        "! pip install polars\n",
        "! pip install pyarrow\n",
        "! pip install --upgrade ipywidgets\n",
        "! pip install --upgrade ipympl"
      ]
    },
    {
      "cell_type": "markdown",
      "metadata": {
        "id": "WXIR_AQ2OoOP"
      },
      "source": [
        "## Python コード本体\n",
        "\n",
        "### 必要ライブラリのインポート"
      ]
    },
    {
      "cell_type": "code",
      "execution_count": 3,
      "metadata": {
        "colab": {
          "base_uri": "https://localhost:8080/"
        },
        "id": "HMQRZ_T-OoOP",
        "outputId": "3fd17b49-eea7-4eaa-be4e-5488ac931880"
      },
      "outputs": [
        {
          "output_type": "stream",
          "name": "stdout",
          "text": [
            "rbot version = 0.3.2\n"
          ]
        }
      ],
      "source": [
        "import rbot\n",
        "# BybitMarketクラスは、BybitのAPIを利用して、取引所の情報を取得するクラス\n",
        "from rbot import Bybit\n",
        "\n",
        "# BybitConfigクラスは、BinanceMarketクラスのコンストラクタに渡す設定クラス\n",
        "from rbot import BybitConfig\n",
        "from rbot import init_log, init_debug_log\n",
        "#init_debug_log()\n",
        "\n",
        "print(\"rbot version =\", rbot.__version__)"
      ]
    },
    {
      "cell_type": "code",
      "execution_count": 4,
      "metadata": {
        "id": "eXOGnVMOOoOP"
      },
      "outputs": [],
      "source": [
        "# 必要ライブラリーのインポート\n",
        "from json2html import *\n",
        "from IPython.display import HTML"
      ]
    },
    {
      "cell_type": "markdown",
      "metadata": {
        "id": "GdrisFgZOoOP"
      },
      "source": [
        "### BybitMarketオブジェクトの生成\n",
        "\n",
        "#### Clab向けディレクトリ設定\n",
        "\n",
        "`RBOT_DB_ROOT`にDBの場所を指定することができます。指定しない場合は、システムディレクトリ(`Library/Application Suport/net.takibi.rbot/DB`など)に作られます。marketオブジェクトの`file_name`プロパティで確認できます。\n"
      ]
    },
    {
      "cell_type": "code",
      "execution_count": 5,
      "metadata": {
        "id": "wXdAi4L1_Cl0",
        "outputId": "e84ab20d-0af7-4bf9-e5e1-11b54755b550",
        "colab": {
          "base_uri": "https://localhost:8080/"
        }
      },
      "outputs": [
        {
          "output_type": "stream",
          "name": "stdout",
          "text": [
            "Mounted at /content/drive\n"
          ]
        }
      ],
      "source": [
        "# Google Colabの場合は、GoogleDriveにDBをつくります。\n",
        "if 'google.colab' in str(get_ipython()):\n",
        "    # Google Driveをマウントする\n",
        "    from google.colab import drive\n",
        "    drive.mount('/content/drive')\n",
        "\n",
        "    # DBの保存先をGoogle Driveに変更する\n",
        "    import os\n",
        "    os.environ['RBOT_DB_ROOT'] = '/content/drive/MyDrive'    # MyDrive以下を指定しましたが適宜変更ください\n"
      ]
    },
    {
      "cell_type": "markdown",
      "metadata": {
        "id": "6R6gbiJy_Cl0"
      },
      "source": [
        "#### 引数にBybitConfigを設定してオブジェクトを生成します。"
      ]
    },
    {
      "cell_type": "code",
      "execution_count": 6,
      "metadata": {
        "id": "oAT3memu_Cl0",
        "outputId": "db3d3675-94f5-4481-8dc5-816f30087675",
        "colab": {
          "base_uri": "https://localhost:8080/",
          "height": 122
        }
      },
      "outputs": [
        {
          "output_type": "execute_result",
          "data": {
            "text/plain": [
              "<BybitMarket at 0x7977dc3364f0>"
            ],
            "text/html": [
              "\n",
              "            <table>\n",
              "            <caption>Trade Database info table</caption>\n",
              "            <tr><th>start</th><th>end</th></tr>\n",
              "            <tr><td>0</td><td>0</td></tr>\n",
              "            <tr><td>\"1970-01-01T00:00:00.000000\"</td><td>\"1970-01-01T00:00:00.000000\"</td></tr>\n",
              "            <tr><td><b>days=</b></td><td>0</td></tr>                \n",
              "            </table>                \n",
              "            "
            ]
          },
          "metadata": {},
          "execution_count": 6
        }
      ],
      "source": [
        "# BinanceMarketクラスのインスタンスを生成(BTCUSDT現物取引の設定)\n",
        "config = BybitConfig.BTCUSDT\n",
        "\n",
        "# Binanceの本番ネットへ接続する。\n",
        "exchange  = Bybit(production=True)\n",
        "market = exchange.open_market(config)\n",
        "\n",
        "# BinanceMarketのインスタンスを表示すると格納されているデータの情報が表示されます。\n",
        "market\n"
      ]
    },
    {
      "cell_type": "code",
      "execution_count": 7,
      "metadata": {
        "id": "ps-RIzrE_Cl0"
      },
      "outputs": [],
      "source": [
        "# DBの場所を確認するには以下のプロパティを読み出す。\n",
        "\n",
        "# market.file_name"
      ]
    },
    {
      "cell_type": "markdown",
      "metadata": {
        "id": "x42g_Nf6_Cl0"
      },
      "source": [
        "### 約定ログのダウンロード"
      ]
    },
    {
      "cell_type": "code",
      "execution_count": 8,
      "metadata": {
        "colab": {
          "base_uri": "https://localhost:8080/"
        },
        "id": "_qodhsnOOoOQ",
        "outputId": "b976d02f-1a05-4fba-b73c-254370bacffd"
      },
      "outputs": [
        {
          "output_type": "execute_result",
          "data": {
            "text/plain": [
              "2134906"
            ]
          },
          "metadata": {},
          "execution_count": 8
        }
      ],
      "source": [
        "# 過去１日分のデータをダウンロード。ダウンロードしたデータは、marketオブジェクトの属性に格納される。\n",
        "# Trueを指定すると、再ダウンロードを行う。Falseの場合はローカルに保存されている場合は、再ダウンロードを行わない。\n",
        "# 比較的時間がかかる処理です。終わるまで少々お待ちください。完了すると取り込まれたレコード数が表示されます。\n",
        "market.download_archive(\n",
        "    ndays=1,        # 過去何日分のデータをダウンロードするか\n",
        "    force=False,    # Trueを指定すると、再ダウンロードを行う。Falseの場合はローカルに保存されている場合は、再ダウンロードを行わない。\n",
        "    verbose=True    # Trueを指定すると、ダウンロードの進捗状況を表示する。\n",
        ")"
      ]
    },
    {
      "cell_type": "code",
      "execution_count": 9,
      "metadata": {
        "id": "xcC2oLQ9_Cl1"
      },
      "outputs": [],
      "source": [
        "# アーカイブ以外のデータを削除する。\n",
        "market.expire_unfix_data(force=True)"
      ]
    },
    {
      "cell_type": "code",
      "execution_count": 10,
      "metadata": {
        "id": "m-ocWQ-r_Cl1",
        "outputId": "cc09ec67-8819-40a1-a8c2-6cccd7b7c8e4",
        "colab": {
          "base_uri": "https://localhost:8080/",
          "height": 251
        }
      },
      "outputs": [
        {
          "output_type": "error",
          "ename": "RuntimeError",
          "evalue": "get_recent_trades: server=BybitServerConfig { production: true, rest_server: \"https://api.bybit.com\", public_ws: \"wss://stream.bybit.com/v5/public\", private_ws: \"wss://stream.bybit.com/v5/private\", history_web_base: \"https://public.bybit.com\", api_key: ********, api_secret: ******** } / path=\"/v5/market/recent-trade\" / params=\"category=linear&symbol=BTCUSDT&limit=1000\"\n\nCaused by:\n    0: rest_get error: https://api.bybit.com//v5/market/recent-trade?category=linear&symbol=BTCUSDT&limit=1000\n    1: Response code = 403 / download size Some(986) / method(GET) / URL = https://api.bybit.com/v5/market/recent-trade?category=linear&symbol=BTCUSDT&limit=1000 / path = ",
          "traceback": [
            "\u001b[0;31m---------------------------------------------------------------------------\u001b[0m",
            "\u001b[0;31mRuntimeError\u001b[0m                              Traceback (most recent call last)",
            "\u001b[0;32m<ipython-input-10-961c3671e556>\u001b[0m in \u001b[0;36m<cell line: 2>\u001b[0;34m()\u001b[0m\n\u001b[1;32m      1\u001b[0m \u001b[0;31m# 直近のデータをダウンロード（1000件)\u001b[0m\u001b[0;34m\u001b[0m\u001b[0;34m\u001b[0m\u001b[0m\n\u001b[0;32m----> 2\u001b[0;31m \u001b[0mmarket\u001b[0m\u001b[0;34m.\u001b[0m\u001b[0mdownload_latest\u001b[0m\u001b[0;34m(\u001b[0m\u001b[0;34m)\u001b[0m\u001b[0;34m\u001b[0m\u001b[0;34m\u001b[0m\u001b[0m\n\u001b[0m",
            "\u001b[0;31mRuntimeError\u001b[0m: get_recent_trades: server=BybitServerConfig { production: true, rest_server: \"https://api.bybit.com\", public_ws: \"wss://stream.bybit.com/v5/public\", private_ws: \"wss://stream.bybit.com/v5/private\", history_web_base: \"https://public.bybit.com\", api_key: ********, api_secret: ******** } / path=\"/v5/market/recent-trade\" / params=\"category=linear&symbol=BTCUSDT&limit=1000\"\n\nCaused by:\n    0: rest_get error: https://api.bybit.com//v5/market/recent-trade?category=linear&symbol=BTCUSDT&limit=1000\n    1: Response code = 403 / download size Some(986) / method(GET) / URL = https://api.bybit.com/v5/market/recent-trade?category=linear&symbol=BTCUSDT&limit=1000 / path = "
          ]
        }
      ],
      "source": [
        "# 直近のデータをダウンロード（1000件)\n",
        "market.download_latest()"
      ]
    },
    {
      "cell_type": "code",
      "execution_count": null,
      "metadata": {
        "id": "rklUxv0g_Cl1"
      },
      "outputs": [],
      "source": [
        "# ダウンロードされていない最新のブロックGAPをダウンロードする。\n",
        "# Bybitでは、直近１日の約定データが提供されていないので、Klines（１分足）をつかっています。\n",
        "# そのため、直近の１日については１分足よりも細かなデータは利用できません。\n",
        "\n",
        "market.download_gap(verbose=True)"
      ]
    },
    {
      "cell_type": "code",
      "execution_count": 11,
      "metadata": {
        "id": "DNGu3rNG_Cl1",
        "outputId": "ba2b455d-cf32-4771-a6c6-54df8a8f1a6f",
        "colab": {
          "base_uri": "https://localhost:8080/",
          "height": 122
        }
      },
      "outputs": [
        {
          "output_type": "execute_result",
          "data": {
            "text/plain": [
              "<BybitMarket at 0x7977dc3364f0>"
            ],
            "text/html": [
              "\n",
              "            <table>\n",
              "            <caption>Trade Database info table</caption>\n",
              "            <tr><th>start</th><th>end</th></tr>\n",
              "            <tr><td>1711497600616600</td><td>1711517644074500</td></tr>\n",
              "            <tr><td>\"2024-03-27T00:00:00.616600\"</td><td>\"2024-03-27T05:34:04.074500\"</td></tr>\n",
              "            <tr><td><b>days=</b></td><td>0</td></tr>                \n",
              "            </table>                \n",
              "            "
            ]
          },
          "metadata": {},
          "execution_count": 11
        }
      ],
      "source": [
        "market"
      ]
    },
    {
      "cell_type": "markdown",
      "metadata": {
        "id": "0dmPSWFvOoOQ"
      },
      "source": [
        "### OHLCVの計算\n",
        "\n",
        "ohlcvメソッドを使うと任意の時間足でローソク足をつくることができます。戻り値はPolarsのDataFrame型です。\n",
        "\n",
        "#### `ohlcv`メソッド\n",
        "\n",
        "```\n",
        "BybitMarket#ohlcv(\n",
        "    start_time=0, # 開始時刻(UNIX時間[us]) 0の場合はDBにある最初のレコードから\n",
        "    end_time=0, # 終了時刻(UNIX時間[us])　 0の場合はDBにある最後のレコードまで\n",
        "    window_sec=60 #OHLCV足の時間幅(秒)\n",
        ")\n",
        "```\n"
      ]
    },
    {
      "cell_type": "code",
      "execution_count": 12,
      "metadata": {
        "id": "mS7TLwGOOoOQ"
      },
      "outputs": [],
      "source": [
        "# データベースすべての期間,１分足でOHLCVを計算する。\n",
        "# 初回はメモリーにロードするために時間がかかります。\n",
        "ohlcv = market.ohlcv(\n",
        "    start_time=0,\n",
        "    end_time=0,\n",
        "    window_sec=60\n",
        ")"
      ]
    },
    {
      "cell_type": "code",
      "execution_count": 13,
      "metadata": {
        "colab": {
          "base_uri": "https://localhost:8080/",
          "height": 255
        },
        "id": "wTw8zcL2OoOQ",
        "outputId": "f426cd2b-2ed3-47be-cab9-1db9a4ff5bee"
      },
      "outputs": [
        {
          "output_type": "execute_result",
          "data": {
            "text/plain": [
              "shape: (5, 7)\n",
              "┌─────────────────────┬─────────┬─────────┬─────────┬─────────┬────────┬───────┐\n",
              "│ timestamp           ┆ open    ┆ high    ┆ low     ┆ close   ┆ volume ┆ count │\n",
              "│ ---                 ┆ ---     ┆ ---     ┆ ---     ┆ ---     ┆ ---    ┆ ---   │\n",
              "│ datetime[μs]        ┆ f64     ┆ f64     ┆ f64     ┆ f64     ┆ f64    ┆ u32   │\n",
              "╞═════════════════════╪═════════╪═════════╪═════════╪═════════╪════════╪═══════╡\n",
              "│ 2024-03-27 00:00:00 ┆ 70046.0 ┆ 70064.4 ┆ 70035.3 ┆ 70035.4 ┆ 66.98  ┆ 733   │\n",
              "│ 2024-03-27 00:01:00 ┆ 70035.3 ┆ 70074.7 ┆ 70035.3 ┆ 70051.8 ┆ 54.879 ┆ 739   │\n",
              "│ 2024-03-27 00:02:00 ┆ 70051.7 ┆ 70051.8 ┆ 70022.8 ┆ 70051.7 ┆ 39.026 ┆ 437   │\n",
              "│ 2024-03-27 00:03:00 ┆ 70051.8 ┆ 70097.7 ┆ 70051.7 ┆ 70087.3 ┆ 42.186 ┆ 476   │\n",
              "│ 2024-03-27 00:04:00 ┆ 70087.3 ┆ 70087.3 ┆ 70041.5 ┆ 70069.9 ┆ 41.548 ┆ 521   │\n",
              "└─────────────────────┴─────────┴─────────┴─────────┴─────────┴────────┴───────┘"
            ],
            "text/html": [
              "<div><style>\n",
              ".dataframe > thead > tr,\n",
              ".dataframe > tbody > tr {\n",
              "  text-align: right;\n",
              "  white-space: pre-wrap;\n",
              "}\n",
              "</style>\n",
              "<small>shape: (5, 7)</small><table border=\"1\" class=\"dataframe\"><thead><tr><th>timestamp</th><th>open</th><th>high</th><th>low</th><th>close</th><th>volume</th><th>count</th></tr><tr><td>datetime[μs]</td><td>f64</td><td>f64</td><td>f64</td><td>f64</td><td>f64</td><td>u32</td></tr></thead><tbody><tr><td>2024-03-27 00:00:00</td><td>70046.0</td><td>70064.4</td><td>70035.3</td><td>70035.4</td><td>66.98</td><td>733</td></tr><tr><td>2024-03-27 00:01:00</td><td>70035.3</td><td>70074.7</td><td>70035.3</td><td>70051.8</td><td>54.879</td><td>739</td></tr><tr><td>2024-03-27 00:02:00</td><td>70051.7</td><td>70051.8</td><td>70022.8</td><td>70051.7</td><td>39.026</td><td>437</td></tr><tr><td>2024-03-27 00:03:00</td><td>70051.8</td><td>70097.7</td><td>70051.7</td><td>70087.3</td><td>42.186</td><td>476</td></tr><tr><td>2024-03-27 00:04:00</td><td>70087.3</td><td>70087.3</td><td>70041.5</td><td>70069.9</td><td>41.548</td><td>521</td></tr></tbody></table></div>"
            ]
          },
          "metadata": {},
          "execution_count": 13
        }
      ],
      "source": [
        "# ohlcvはpolarsのDataFrameオブジェクトとして格納されている。\n",
        "ohlcv.head()"
      ]
    },
    {
      "cell_type": "markdown",
      "metadata": {
        "id": "-VkgCFStOoOQ"
      },
      "source": [
        "### (参考)Pandasへの変換\n",
        "\n",
        "Polarsの情報はまだ不足気味。また他のライブラリとの互換性の問題でPandasを使いたい場合は、Polarsのデータフレームオブジェクトの`to_pandas`メソッドで簡単にPandasへ変換することができます。このとき`use_pyarrow_extension_array`を`True`に指定するとデータのコピーが発生せず高速です。"
      ]
    },
    {
      "cell_type": "code",
      "execution_count": 14,
      "metadata": {
        "id": "kQ1jm2UtOoOQ"
      },
      "outputs": [],
      "source": [
        "# polarsからpandasへ変換する。\n",
        "pd_ohlcv = ohlcv.to_pandas(use_pyarrow_extension_array=True)"
      ]
    },
    {
      "cell_type": "code",
      "execution_count": 15,
      "metadata": {
        "colab": {
          "base_uri": "https://localhost:8080/",
          "height": 206
        },
        "id": "kdznt1DFOoOT",
        "outputId": "ec3031c6-87e3-4d22-d68b-0a0cc292abd4"
      },
      "outputs": [
        {
          "output_type": "execute_result",
          "data": {
            "text/plain": [
              "             timestamp    open    high     low   close             volume  \\\n",
              "0  2024-03-27 00:00:00 70046.0 70064.4 70035.3 70035.4  66.98000000000008   \n",
              "1  2024-03-27 00:01:00 70035.3 70074.7 70035.3 70051.8  54.87900000000007   \n",
              "2  2024-03-27 00:02:00 70051.7 70051.8 70022.8 70051.7 39.026000000000025   \n",
              "3  2024-03-27 00:03:00 70051.8 70097.7 70051.7 70087.3 42.185999999999986   \n",
              "4  2024-03-27 00:04:00 70087.3 70087.3 70041.5 70069.9  41.54800000000003   \n",
              "\n",
              "  count  \n",
              "0   733  \n",
              "1   739  \n",
              "2   437  \n",
              "3   476  \n",
              "4   521  "
            ],
            "text/html": [
              "\n",
              "  <div id=\"df-438c9632-e881-4e27-a5c9-b17998157353\" class=\"colab-df-container\">\n",
              "    <div>\n",
              "<style scoped>\n",
              "    .dataframe tbody tr th:only-of-type {\n",
              "        vertical-align: middle;\n",
              "    }\n",
              "\n",
              "    .dataframe tbody tr th {\n",
              "        vertical-align: top;\n",
              "    }\n",
              "\n",
              "    .dataframe thead th {\n",
              "        text-align: right;\n",
              "    }\n",
              "</style>\n",
              "<table border=\"1\" class=\"dataframe\">\n",
              "  <thead>\n",
              "    <tr style=\"text-align: right;\">\n",
              "      <th></th>\n",
              "      <th>timestamp</th>\n",
              "      <th>open</th>\n",
              "      <th>high</th>\n",
              "      <th>low</th>\n",
              "      <th>close</th>\n",
              "      <th>volume</th>\n",
              "      <th>count</th>\n",
              "    </tr>\n",
              "  </thead>\n",
              "  <tbody>\n",
              "    <tr>\n",
              "      <th>0</th>\n",
              "      <td>2024-03-27 00:00:00</td>\n",
              "      <td>70046.0</td>\n",
              "      <td>70064.4</td>\n",
              "      <td>70035.3</td>\n",
              "      <td>70035.4</td>\n",
              "      <td>66.98000000000008</td>\n",
              "      <td>733</td>\n",
              "    </tr>\n",
              "    <tr>\n",
              "      <th>1</th>\n",
              "      <td>2024-03-27 00:01:00</td>\n",
              "      <td>70035.3</td>\n",
              "      <td>70074.7</td>\n",
              "      <td>70035.3</td>\n",
              "      <td>70051.8</td>\n",
              "      <td>54.87900000000007</td>\n",
              "      <td>739</td>\n",
              "    </tr>\n",
              "    <tr>\n",
              "      <th>2</th>\n",
              "      <td>2024-03-27 00:02:00</td>\n",
              "      <td>70051.7</td>\n",
              "      <td>70051.8</td>\n",
              "      <td>70022.8</td>\n",
              "      <td>70051.7</td>\n",
              "      <td>39.026000000000025</td>\n",
              "      <td>437</td>\n",
              "    </tr>\n",
              "    <tr>\n",
              "      <th>3</th>\n",
              "      <td>2024-03-27 00:03:00</td>\n",
              "      <td>70051.8</td>\n",
              "      <td>70097.7</td>\n",
              "      <td>70051.7</td>\n",
              "      <td>70087.3</td>\n",
              "      <td>42.185999999999986</td>\n",
              "      <td>476</td>\n",
              "    </tr>\n",
              "    <tr>\n",
              "      <th>4</th>\n",
              "      <td>2024-03-27 00:04:00</td>\n",
              "      <td>70087.3</td>\n",
              "      <td>70087.3</td>\n",
              "      <td>70041.5</td>\n",
              "      <td>70069.9</td>\n",
              "      <td>41.54800000000003</td>\n",
              "      <td>521</td>\n",
              "    </tr>\n",
              "  </tbody>\n",
              "</table>\n",
              "</div>\n",
              "    <div class=\"colab-df-buttons\">\n",
              "\n",
              "  <div class=\"colab-df-container\">\n",
              "    <button class=\"colab-df-convert\" onclick=\"convertToInteractive('df-438c9632-e881-4e27-a5c9-b17998157353')\"\n",
              "            title=\"Convert this dataframe to an interactive table.\"\n",
              "            style=\"display:none;\">\n",
              "\n",
              "  <svg xmlns=\"http://www.w3.org/2000/svg\" height=\"24px\" viewBox=\"0 -960 960 960\">\n",
              "    <path d=\"M120-120v-720h720v720H120Zm60-500h600v-160H180v160Zm220 220h160v-160H400v160Zm0 220h160v-160H400v160ZM180-400h160v-160H180v160Zm440 0h160v-160H620v160ZM180-180h160v-160H180v160Zm440 0h160v-160H620v160Z\"/>\n",
              "  </svg>\n",
              "    </button>\n",
              "\n",
              "  <style>\n",
              "    .colab-df-container {\n",
              "      display:flex;\n",
              "      gap: 12px;\n",
              "    }\n",
              "\n",
              "    .colab-df-convert {\n",
              "      background-color: #E8F0FE;\n",
              "      border: none;\n",
              "      border-radius: 50%;\n",
              "      cursor: pointer;\n",
              "      display: none;\n",
              "      fill: #1967D2;\n",
              "      height: 32px;\n",
              "      padding: 0 0 0 0;\n",
              "      width: 32px;\n",
              "    }\n",
              "\n",
              "    .colab-df-convert:hover {\n",
              "      background-color: #E2EBFA;\n",
              "      box-shadow: 0px 1px 2px rgba(60, 64, 67, 0.3), 0px 1px 3px 1px rgba(60, 64, 67, 0.15);\n",
              "      fill: #174EA6;\n",
              "    }\n",
              "\n",
              "    .colab-df-buttons div {\n",
              "      margin-bottom: 4px;\n",
              "    }\n",
              "\n",
              "    [theme=dark] .colab-df-convert {\n",
              "      background-color: #3B4455;\n",
              "      fill: #D2E3FC;\n",
              "    }\n",
              "\n",
              "    [theme=dark] .colab-df-convert:hover {\n",
              "      background-color: #434B5C;\n",
              "      box-shadow: 0px 1px 3px 1px rgba(0, 0, 0, 0.15);\n",
              "      filter: drop-shadow(0px 1px 2px rgba(0, 0, 0, 0.3));\n",
              "      fill: #FFFFFF;\n",
              "    }\n",
              "  </style>\n",
              "\n",
              "    <script>\n",
              "      const buttonEl =\n",
              "        document.querySelector('#df-438c9632-e881-4e27-a5c9-b17998157353 button.colab-df-convert');\n",
              "      buttonEl.style.display =\n",
              "        google.colab.kernel.accessAllowed ? 'block' : 'none';\n",
              "\n",
              "      async function convertToInteractive(key) {\n",
              "        const element = document.querySelector('#df-438c9632-e881-4e27-a5c9-b17998157353');\n",
              "        const dataTable =\n",
              "          await google.colab.kernel.invokeFunction('convertToInteractive',\n",
              "                                                    [key], {});\n",
              "        if (!dataTable) return;\n",
              "\n",
              "        const docLinkHtml = 'Like what you see? Visit the ' +\n",
              "          '<a target=\"_blank\" href=https://colab.research.google.com/notebooks/data_table.ipynb>data table notebook</a>'\n",
              "          + ' to learn more about interactive tables.';\n",
              "        element.innerHTML = '';\n",
              "        dataTable['output_type'] = 'display_data';\n",
              "        await google.colab.output.renderOutput(dataTable, element);\n",
              "        const docLink = document.createElement('div');\n",
              "        docLink.innerHTML = docLinkHtml;\n",
              "        element.appendChild(docLink);\n",
              "      }\n",
              "    </script>\n",
              "  </div>\n",
              "\n",
              "\n",
              "<div id=\"df-30a1ec01-32c9-4bcc-bedc-29b510d27909\">\n",
              "  <button class=\"colab-df-quickchart\" onclick=\"quickchart('df-30a1ec01-32c9-4bcc-bedc-29b510d27909')\"\n",
              "            title=\"Suggest charts\"\n",
              "            style=\"display:none;\">\n",
              "\n",
              "<svg xmlns=\"http://www.w3.org/2000/svg\" height=\"24px\"viewBox=\"0 0 24 24\"\n",
              "     width=\"24px\">\n",
              "    <g>\n",
              "        <path d=\"M19 3H5c-1.1 0-2 .9-2 2v14c0 1.1.9 2 2 2h14c1.1 0 2-.9 2-2V5c0-1.1-.9-2-2-2zM9 17H7v-7h2v7zm4 0h-2V7h2v10zm4 0h-2v-4h2v4z\"/>\n",
              "    </g>\n",
              "</svg>\n",
              "  </button>\n",
              "\n",
              "<style>\n",
              "  .colab-df-quickchart {\n",
              "      --bg-color: #E8F0FE;\n",
              "      --fill-color: #1967D2;\n",
              "      --hover-bg-color: #E2EBFA;\n",
              "      --hover-fill-color: #174EA6;\n",
              "      --disabled-fill-color: #AAA;\n",
              "      --disabled-bg-color: #DDD;\n",
              "  }\n",
              "\n",
              "  [theme=dark] .colab-df-quickchart {\n",
              "      --bg-color: #3B4455;\n",
              "      --fill-color: #D2E3FC;\n",
              "      --hover-bg-color: #434B5C;\n",
              "      --hover-fill-color: #FFFFFF;\n",
              "      --disabled-bg-color: #3B4455;\n",
              "      --disabled-fill-color: #666;\n",
              "  }\n",
              "\n",
              "  .colab-df-quickchart {\n",
              "    background-color: var(--bg-color);\n",
              "    border: none;\n",
              "    border-radius: 50%;\n",
              "    cursor: pointer;\n",
              "    display: none;\n",
              "    fill: var(--fill-color);\n",
              "    height: 32px;\n",
              "    padding: 0;\n",
              "    width: 32px;\n",
              "  }\n",
              "\n",
              "  .colab-df-quickchart:hover {\n",
              "    background-color: var(--hover-bg-color);\n",
              "    box-shadow: 0 1px 2px rgba(60, 64, 67, 0.3), 0 1px 3px 1px rgba(60, 64, 67, 0.15);\n",
              "    fill: var(--button-hover-fill-color);\n",
              "  }\n",
              "\n",
              "  .colab-df-quickchart-complete:disabled,\n",
              "  .colab-df-quickchart-complete:disabled:hover {\n",
              "    background-color: var(--disabled-bg-color);\n",
              "    fill: var(--disabled-fill-color);\n",
              "    box-shadow: none;\n",
              "  }\n",
              "\n",
              "  .colab-df-spinner {\n",
              "    border: 2px solid var(--fill-color);\n",
              "    border-color: transparent;\n",
              "    border-bottom-color: var(--fill-color);\n",
              "    animation:\n",
              "      spin 1s steps(1) infinite;\n",
              "  }\n",
              "\n",
              "  @keyframes spin {\n",
              "    0% {\n",
              "      border-color: transparent;\n",
              "      border-bottom-color: var(--fill-color);\n",
              "      border-left-color: var(--fill-color);\n",
              "    }\n",
              "    20% {\n",
              "      border-color: transparent;\n",
              "      border-left-color: var(--fill-color);\n",
              "      border-top-color: var(--fill-color);\n",
              "    }\n",
              "    30% {\n",
              "      border-color: transparent;\n",
              "      border-left-color: var(--fill-color);\n",
              "      border-top-color: var(--fill-color);\n",
              "      border-right-color: var(--fill-color);\n",
              "    }\n",
              "    40% {\n",
              "      border-color: transparent;\n",
              "      border-right-color: var(--fill-color);\n",
              "      border-top-color: var(--fill-color);\n",
              "    }\n",
              "    60% {\n",
              "      border-color: transparent;\n",
              "      border-right-color: var(--fill-color);\n",
              "    }\n",
              "    80% {\n",
              "      border-color: transparent;\n",
              "      border-right-color: var(--fill-color);\n",
              "      border-bottom-color: var(--fill-color);\n",
              "    }\n",
              "    90% {\n",
              "      border-color: transparent;\n",
              "      border-bottom-color: var(--fill-color);\n",
              "    }\n",
              "  }\n",
              "</style>\n",
              "\n",
              "  <script>\n",
              "    async function quickchart(key) {\n",
              "      const quickchartButtonEl =\n",
              "        document.querySelector('#' + key + ' button');\n",
              "      quickchartButtonEl.disabled = true;  // To prevent multiple clicks.\n",
              "      quickchartButtonEl.classList.add('colab-df-spinner');\n",
              "      try {\n",
              "        const charts = await google.colab.kernel.invokeFunction(\n",
              "            'suggestCharts', [key], {});\n",
              "      } catch (error) {\n",
              "        console.error('Error during call to suggestCharts:', error);\n",
              "      }\n",
              "      quickchartButtonEl.classList.remove('colab-df-spinner');\n",
              "      quickchartButtonEl.classList.add('colab-df-quickchart-complete');\n",
              "    }\n",
              "    (() => {\n",
              "      let quickchartButtonEl =\n",
              "        document.querySelector('#df-30a1ec01-32c9-4bcc-bedc-29b510d27909 button');\n",
              "      quickchartButtonEl.style.display =\n",
              "        google.colab.kernel.accessAllowed ? 'block' : 'none';\n",
              "    })();\n",
              "  </script>\n",
              "</div>\n",
              "    </div>\n",
              "  </div>\n"
            ],
            "application/vnd.google.colaboratory.intrinsic+json": {
              "type": "dataframe",
              "variable_name": "pd_ohlcv",
              "summary": "{\n  \"name\": \"pd_ohlcv\",\n  \"rows\": 365,\n  \"fields\": [\n    {\n      \"column\": \"timestamp\",\n      \"properties\": {\n        \"dtype\": \"timestamp[us][pyarrow]\",\n        \"num_unique_values\": 365,\n        \"samples\": [\n          \"2024-03-27 03:13:00\",\n          \"2024-03-27 00:33:00\",\n          \"2024-03-27 00:15:00\"\n        ],\n        \"semantic_type\": \"\",\n        \"description\": \"\"\n      }\n    },\n    {\n      \"column\": \"open\",\n      \"properties\": {\n        \"dtype\": \"double[pyarrow]\",\n        \"num_unique_values\": 341,\n        \"samples\": [\n          70565.0,\n          70371.3,\n          70404.3\n        ],\n        \"semantic_type\": \"\",\n        \"description\": \"\"\n      }\n    },\n    {\n      \"column\": \"high\",\n      \"properties\": {\n        \"dtype\": \"double[pyarrow]\",\n        \"num_unique_values\": 328,\n        \"samples\": [\n          70422.4,\n          70411.1,\n          70433.7\n        ],\n        \"semantic_type\": \"\",\n        \"description\": \"\"\n      }\n    },\n    {\n      \"column\": \"low\",\n      \"properties\": {\n        \"dtype\": \"double[pyarrow]\",\n        \"num_unique_values\": 335,\n        \"samples\": [\n          70035.4,\n          70376.1,\n          70748.0\n        ],\n        \"semantic_type\": \"\",\n        \"description\": \"\"\n      }\n    },\n    {\n      \"column\": \"close\",\n      \"properties\": {\n        \"dtype\": \"double[pyarrow]\",\n        \"num_unique_values\": 344,\n        \"samples\": [\n          70593.9,\n          70392.5,\n          70430.5\n        ],\n        \"semantic_type\": \"\",\n        \"description\": \"\"\n      }\n    },\n    {\n      \"column\": \"volume\",\n      \"properties\": {\n        \"dtype\": \"double[pyarrow]\",\n        \"num_unique_values\": 365,\n        \"samples\": [\n          79.12500000000006,\n          274.1760000000005,\n          13.554999999999986\n        ],\n        \"semantic_type\": \"\",\n        \"description\": \"\"\n      }\n    },\n    {\n      \"column\": \"count\",\n      \"properties\": {\n        \"dtype\": \"uint32[pyarrow]\",\n        \"num_unique_values\": 300,\n        \"samples\": [\n          546,\n          409,\n          226\n        ],\n        \"semantic_type\": \"\",\n        \"description\": \"\"\n      }\n    }\n  ]\n}"
            }
          },
          "metadata": {},
          "execution_count": 15
        }
      ],
      "source": [
        "pd_ohlcv.head()"
      ]
    },
    {
      "cell_type": "markdown",
      "metadata": {
        "id": "b1a1AmXdOoOT"
      },
      "source": [
        "## Plotlyでローソク足を表示する。\n",
        "\n",
        "Plotlyを使うと簡単にローソク足を表示できます。polarsのデータそのままで表示可能です。"
      ]
    },
    {
      "cell_type": "code",
      "execution_count": 16,
      "metadata": {
        "colab": {
          "base_uri": "https://localhost:8080/",
          "height": 542
        },
        "id": "2qfgoMnxOoOT",
        "outputId": "10a5ba2f-27ce-416a-a0af-1d621fec4022"
      },
      "outputs": [
        {
          "output_type": "display_data",
          "data": {
            "text/html": [
              "<html>\n",
              "<head><meta charset=\"utf-8\" /></head>\n",
              "<body>\n",
              "    <div>            <script src=\"https://cdnjs.cloudflare.com/ajax/libs/mathjax/2.7.5/MathJax.js?config=TeX-AMS-MML_SVG\"></script><script type=\"text/javascript\">if (window.MathJax && window.MathJax.Hub && window.MathJax.Hub.Config) {window.MathJax.Hub.Config({SVG: {font: \"STIX-Web\"}});}</script>                <script type=\"text/javascript\">window.PlotlyConfig = {MathJaxConfig: 'local'};</script>\n",
              "        <script charset=\"utf-8\" src=\"https://cdn.plot.ly/plotly-2.24.1.min.js\"></script>                <div id=\"836c3a54-6484-458d-aae6-e3da5b2dfcd7\" class=\"plotly-graph-div\" style=\"height:525px; width:100%;\"></div>            <script type=\"text/javascript\">                                    window.PLOTLYENV=window.PLOTLYENV || {};                                    if (document.getElementById(\"836c3a54-6484-458d-aae6-e3da5b2dfcd7\")) {                    Plotly.newPlot(                        \"836c3a54-6484-458d-aae6-e3da5b2dfcd7\",                        [{\"close\":[70035.4,70051.8,70051.7,70087.3,70069.9,70086.1,70035.9,69988.0,69992.3,70003.7,69934.5,69924.0,69892.3,69988.2,69974.7,70006.2,69996.3,69957.6,69992.0,70051.0,70098.0,70140.0,70033.3,70067.9,70038.1,70059.9,70136.9,70172.2,70186.0,70180.3,70090.1,70190.0,70210.1,70329.4,70314.9,70320.1,70350.2,70352.1,70375.3,70495.4,70503.0,70497.8,70417.4,70476.4,70537.2,70430.0,70424.1,70470.0,70458.0,70480.9,70470.0,70472.0,70499.9,70542.0,70560.4,70540.2,70620.9,70776.3,70706.9,70711.9,70680.9,70691.0,70625.4,70582.8,70580.4,70597.1,70553.7,70551.5,70599.9,70612.0,70585.1,70697.4,70724.0,70767.5,70762.0,70738.2,70786.8,70778.8,70748.5,70637.9,70654.8,70687.3,70641.7,70612.4,70572.2,70609.1,70554.8,70523.6,70556.5,70528.5,70549.9,70567.7,70580.1,70590.1,70590.0,70614.7,70611.3,70635.0,70608.0,70568.5,70626.3,70587.5,70545.0,70564.0,70533.6,70522.9,70445.9,70461.0,70460.0,70430.1,70411.9,70410.0,70411.0,70395.4,70404.2,70471.2,70301.0,70371.3,70400.5,70403.5,70365.9,70412.8,70371.5,70353.7,70349.9,70293.6,70296.2,70334.0,70332.9,70328.4,70371.3,70358.1,70299.1,70292.0,70289.9,70288.2,70267.5,70268.1,70269.1,70268.9,70267.9,70368.8,70345.4,70364.0,70390.7,70423.5,70447.8,70467.0,70475.8,70460.6,70455.8,70461.2,70495.0,70555.0,70500.0,70464.0,70422.9,70410.1,70400.0,70392.5,70404.9,70392.7,70429.9,70441.1,70448.5,70456.5,70409.6,70423.8,70458.1,70529.8,70620.9,70589.2,70574.1,70598.1,70582.8,70583.3,70599.9,70570.0,70619.5,70643.2,70626.0,70610.1,70633.4,70650.9,70667.5,70716.6,70670.6,70682.5,70661.4,70655.5,70632.9,70600.0,70595.9,70591.9,70585.0,70646.7,70662.7,70618.3,70600.2,70593.9,70559.3,70598.6,70573.2,70615.9,70620.0,70586.4,70572.7,70562.0,70576.6,70544.9,70580.6,70578.8,70551.7,70516.3,70499.2,70476.0,70497.8,70467.1,70443.5,70488.8,70442.8,70441.9,70430.7,70435.9,70421.2,70494.9,70440.3,70501.3,70488.7,70544.1,70495.9,70430.5,70480.8,70498.6,70410.4,70418.5,70426.0,70448.0,70459.2,70444.3,70442.6,70459.1,70457.1,70478.9,70456.4,70488.9,70521.0,70546.9,70478.6,70480.5,70411.5,70398.0,70400.0,70362.0,70344.4,70334.5,70368.1,70368.4,70366.9,70336.2,70377.8,70359.0,70358.1,70330.1,70353.3,70373.8,70411.0,70403.7,70426.8,70397.7,70394.1,70345.0,70405.3,70426.0,70418.2,70382.7,70366.1,70395.3,70480.0,70458.5,70466.2,70375.2,70375.3,70399.9,70404.3,70397.9,70386.4,70392.2,70367.9,70313.9,70238.7,70151.5,70138.3,70151.0,70211.3,70160.4,70159.9,70192.9,70230.2,70257.2,70254.8,70276.2,70280.0,70287.0,70345.4,70294.7,70297.9,70313.8,70313.4,70315.0,70373.4,70391.8,70411.7,70386.0,70407.2,70456.9,70430.0,70425.5,70448.9,70437.1,70477.9,70476.1,70492.6,70472.0,70492.3,70435.1,70455.2,70437.1,70420.7,70409.4,70424.3,70417.4,70480.1,70479.9,70487.0,70495.9,70526.1,70526.1,70543.7,70516.6,70541.8,70554.9,70565.0,70540.6,70509.9,70467.7,70494.7,70455.3,70491.2,70500.0,70478.9,70475.3,70450.9,70470.7,70453.1,70470.1,70524.4,70529.2,70550.1,70533.3,70491.5,70484.0,70533.3,70519.7,70558.2],\"high\":[70064.4,70074.7,70051.8,70097.7,70087.3,70099.9,70086.1,70036.0,70020.5,70008.9,70003.7,69955.4,69934.6,69991.7,70015.9,70008.4,70006.1,69996.2,69999.0,70064.8,70123.0,70147.6,70140.0,70076.4,70067.8,70079.3,70147.7,70174.6,70191.2,70189.9,70180.4,70190.0,70254.0,70330.0,70333.3,70344.0,70370.0,70361.9,70380.0,70645.4,70566.1,70516.6,70516.8,70480.0,70540.0,70537.1,70460.0,70470.0,70500.0,70480.9,70490.0,70498.0,70500.0,70550.0,70583.5,70572.6,70708.3,70781.9,70814.2,70740.9,70723.0,70706.7,70690.9,70654.0,70586.1,70630.0,70594.2,70562.7,70600.0,70650.0,70623.4,70705.1,70749.4,70829.5,70780.0,70769.4,70789.5,70790.0,70790.0,70755.0,70677.4,70695.0,70720.0,70673.4,70637.1,70625.8,70609.1,70554.9,70568.7,70559.9,70556.6,70590.0,70625.8,70620.0,70590.0,70620.0,70634.9,70699.7,70650.6,70610.0,70630.0,70630.0,70595.8,70589.6,70574.7,70546.5,70523.0,70471.3,70466.0,70460.0,70442.0,70423.4,70430.0,70412.9,70412.9,70471.2,70500.4,70376.1,70406.2,70411.1,70450.0,70440.7,70428.8,70387.7,70357.2,70349.9,70296.2,70348.4,70349.5,70361.8,70384.3,70383.9,70363.5,70310.5,70323.5,70309.6,70329.6,70295.9,70294.0,70290.1,70286.4,70368.8,70400.0,70383.6,70392.0,70488.3,70457.9,70501.0,70499.4,70475.4,70482.0,70473.8,70495.0,70555.0,70555.0,70518.0,70464.0,70431.3,70430.0,70399.9,70405.0,70408.0,70446.1,70449.9,70448.5,70491.9,70456.6,70460.9,70472.5,70559.0,70661.2,70648.4,70594.3,70613.9,70598.1,70587.0,70600.0,70599.9,70642.4,70645.1,70691.0,70630.0,70634.0,70658.2,70672.0,70716.7,70750.0,70697.0,70682.6,70667.3,70718.4,70631.4,70600.1,70599.6,70607.3,70685.9,70662.7,70662.7,70620.4,70613.9,70603.3,70598.7,70599.7,70615.9,70639.5,70620.0,70603.7,70580.9,70585.3,70576.5,70589.8,70609.5,70598.8,70563.5,70540.0,70510.6,70497.9,70497.8,70467.2,70488.8,70488.9,70442.7,70477.3,70438.6,70450.0,70494.9,70547.1,70514.4,70513.9,70550.0,70544.0,70491.7,70487.7,70498.6,70504.4,70429.2,70462.1,70452.7,70463.5,70459.2,70481.9,70461.3,70493.5,70497.6,70485.1,70508.3,70540.0,70547.0,70547.0,70502.8,70480.4,70420.9,70422.4,70400.1,70375.0,70357.2,70387.4,70424.1,70368.4,70379.5,70384.6,70377.8,70373.1,70358.1,70353.4,70373.8,70411.0,70419.5,70430.0,70426.7,70408.2,70394.1,70405.3,70433.7,70433.7,70442.2,70382.7,70407.7,70486.5,70480.0,70466.2,70466.2,70393.5,70400.0,70418.0,70413.4,70404.1,70408.4,70414.6,70368.0,70313.9,70238.7,70171.6,70162.6,70229.1,70211.5,70181.1,70192.9,70230.2,70257.3,70265.7,70276.2,70298.0,70292.5,70381.2,70345.5,70304.7,70313.8,70314.5,70315.0,70396.6,70400.1,70415.7,70419.4,70410.4,70457.2,70457.0,70430.2,70449.0,70450.0,70485.4,70483.9,70499.1,70499.4,70493.4,70492.3,70455.2,70454.1,70437.2,70421.0,70427.6,70424.4,70494.6,70488.0,70497.7,70495.9,70527.3,70540.6,70550.0,70543.8,70541.9,70555.0,70596.6,70565.1,70540.6,70510.0,70506.5,70496.6,70491.3,70506.8,70500.0,70481.8,70477.7,70480.0,70470.6,70470.1,70531.7,70531.0,70558.3,70550.0,70533.3,70500.0,70541.0,70533.6,70558.2],\"low\":[70035.3,70035.3,70022.8,70051.7,70041.5,70069.9,70006.6,69986.1,69987.8,69992.3,69901.6,69913.6,69892.3,69889.0,69965.6,69948.0,69971.0,69891.6,69949.3,69983.4,70050.9,70097.9,70033.2,70019.6,70023.1,70020.5,70035.4,70130.3,70159.3,70173.1,70090.0,70090.0,70190.0,70176.9,70253.0,70292.0,70306.1,70334.9,70348.3,70369.9,70411.0,70420.0,70415.6,70407.5,70479.9,70430.0,70400.0,70378.5,70442.8,70443.4,70463.0,70459.9,70460.0,70499.9,70539.0,70540.2,70514.2,70601.3,70700.0,70700.2,70674.1,70669.6,70622.1,70554.4,70552.8,70580.4,70537.6,70485.6,70526.7,70599.9,70571.6,70585.0,70680.0,70724.0,70717.4,70676.5,70712.3,70770.0,70748.0,70632.1,70618.8,70648.5,70629.1,70605.9,70553.1,70541.2,70539.3,70493.3,70521.5,70520.4,70493.4,70550.0,70559.6,70580.1,70568.1,70589.9,70606.8,70611.2,70565.8,70554.2,70568.4,70580.0,70544.9,70530.0,70530.0,70522.0,70443.7,70400.7,70436.3,70389.2,70396.0,70391.8,70400.0,70376.1,70376.4,70376.1,70300.9,70220.5,70362.1,70389.0,70353.7,70353.2,70371.4,70344.3,70314.8,70292.0,70240.0,70250.0,70291.5,70325.5,70328.3,70348.0,70278.7,70271.6,70280.7,70274.8,70267.3,70225.3,70258.4,70258.0,70258.1,70267.9,70344.9,70299.2,70336.1,70390.7,70423.4,70447.7,70467.0,70435.0,70452.9,70438.0,70446.5,70494.9,70500.0,70458.0,70422.9,70404.9,70394.0,70375.1,70365.0,70373.9,70384.2,70429.9,70438.0,70438.7,70372.5,70407.3,70427.9,70432.1,70512.7,70575.7,70563.5,70558.8,70571.6,70560.6,70555.0,70566.2,70569.9,70613.2,70582.2,70610.0,70604.3,70616.5,70646.6,70667.5,70657.1,70643.5,70643.5,70630.3,70632.9,70567.4,70573.2,70542.4,70580.1,70589.5,70614.9,70598.7,70589.2,70587.6,70555.0,70559.2,70573.2,70569.1,70594.0,70574.2,70562.4,70562.0,70561.6,70539.6,70544.9,70578.7,70544.0,70502.6,70473.6,70470.2,70460.1,70432.3,70436.9,70443.4,70442.7,70432.0,70430.7,70420.0,70421.2,70416.3,70427.5,70440.2,70487.3,70488.6,70467.0,70430.4,70400.2,70456.7,70400.0,70380.0,70408.6,70397.4,70427.4,70418.2,70428.2,70410.0,70450.0,70454.5,70440.0,70441.1,70475.2,70520.9,70478.5,70478.5,70410.0,70390.0,70398.0,70350.6,70339.1,70320.1,70317.8,70368.0,70366.8,70334.3,70321.6,70310.0,70350.0,70324.1,70326.0,70320.1,70358.5,70380.0,70390.8,70391.7,70392.0,70345.0,70345.0,70405.2,70405.3,70366.0,70323.2,70366.1,70395.4,70443.6,70444.0,70370.0,70367.6,70375.2,70399.9,70382.9,70382.3,70381.0,70362.1,70310.9,70229.5,70151.5,70101.0,70100.0,70132.1,70159.6,70155.0,70153.5,70184.8,70230.0,70220.5,70212.3,70264.1,70257.4,70291.5,70280.1,70262.4,70289.1,70298.5,70298.9,70314.9,70366.7,70384.7,70383.2,70360.1,70407.1,70430.0,70406.5,70425.5,70403.1,70436.0,70464.0,70468.1,70468.0,70472.0,70435.0,70434.8,70434.0,70397.3,70396.8,70408.6,70396.7,70417.3,70442.1,70462.5,70486.9,70490.8,70500.0,70518.8,70500.1,70516.6,70507.1,70533.9,70525.3,70494.2,70454.4,70457.8,70455.3,70445.8,70476.3,70478.9,70460.2,70450.8,70430.9,70432.2,70431.7,70470.0,70511.2,70529.1,70533.3,70491.5,70469.2,70469.2,70504.2,70510.5],\"open\":[70046.0,70035.3,70051.7,70051.8,70087.3,70069.9,70086.1,70036.0,69988.1,69992.4,70003.6,69934.5,69925.2,69892.4,69988.2,69974.7,70006.1,69996.2,69957.6,69991.9,70050.9,70098.0,70140.0,70033.2,70067.8,70038.1,70058.8,70136.1,70172.1,70185.9,70180.3,70090.0,70191.2,70210.0,70329.3,70314.9,70320.1,70350.3,70352.2,70375.3,70495.4,70503.0,70496.3,70417.5,70479.9,70537.1,70430.0,70424.1,70470.0,70458.0,70480.8,70469.9,70472.1,70500.0,70541.9,70560.5,70540.2,70617.0,70776.3,70706.8,70710.9,70681.0,70690.9,70625.3,70582.8,70580.4,70594.2,70553.7,70551.6,70600.0,70612.1,70585.0,70700.0,70724.0,70767.5,70762.0,70736.3,70786.8,70778.8,70748.5,70637.9,70654.8,70687.3,70641.9,70612.4,70572.2,70609.1,70554.8,70523.7,70556.5,70528.5,70550.0,70567.6,70580.2,70590.0,70590.0,70614.6,70611.3,70635.0,70610.0,70568.4,70626.2,70587.5,70544.9,70564.3,70533.6,70522.9,70445.9,70461.0,70460.0,70430.0,70410.2,70410.1,70406.3,70395.4,70404.3,70471.2,70301.0,70371.3,70400.5,70403.4,70363.3,70412.8,70371.5,70353.8,70349.9,70296.2,70296.2,70334.0,70332.9,70328.4,70371.3,70358.0,70299.1,70295.9,70289.8,70288.2,70271.1,70268.0,70269.1,70268.8,70267.9,70368.8,70345.5,70364.0,70390.7,70423.5,70447.8,70467.0,70475.4,70460.5,70454.9,70461.1,70494.9,70554.9,70500.0,70464.0,70422.0,70410.1,70399.9,70392.5,70404.9,70391.4,70430.0,70441.0,70448.4,70456.6,70412.7,70427.9,70458.1,70529.7,70621.0,70589.2,70574.0,70598.1,70582.8,70583.2,70599.9,70569.9,70619.5,70643.2,70625.9,70610.0,70633.4,70650.9,70667.5,70716.6,70670.5,70682.5,70661.3,70655.6,70631.4,70600.1,70596.0,70592.0,70589.5,70644.5,70662.6,70618.4,70600.2,70593.9,70559.4,70598.7,70570.5,70615.9,70620.0,70586.4,70572.6,70562.0,70576.5,70544.9,70580.7,70578.7,70551.8,70516.2,70499.1,70472.0,70497.8,70467.1,70443.4,70488.9,70442.7,70442.0,70430.7,70436.0,70421.2,70494.9,70440.3,70501.3,70488.7,70544.0,70491.6,70430.6,70480.8,70498.6,70410.4,70418.5,70426.0,70448.0,70459.2,70444.4,70442.5,70454.2,70456.5,70485.1,70456.3,70488.8,70521.0,70546.9,70478.6,70480.4,70411.5,70398.0,70400.1,70362.1,70344.5,70334.5,70368.1,70368.4,70366.8,70336.3,70377.8,70359.1,70358.0,70330.9,70353.4,70373.7,70411.0,70403.7,70426.7,70397.5,70394.0,70345.1,70405.3,70426.1,70418.1,70382.7,70366.2,70395.4,70480.0,70458.4,70466.2,70375.2,70375.3,70400.0,70402.1,70397.9,70386.4,70392.2,70368.0,70313.9,70238.6,70151.5,70142.7,70150.9,70211.4,70160.3,70159.9,70192.9,70230.2,70257.2,70253.2,70276.2,70280.0,70291.6,70345.5,70294.7,70300.0,70313.7,70313.4,70314.9,70375.3,70391.8,70411.6,70385.9,70407.1,70457.0,70430.1,70425.5,70449.0,70437.0,70477.9,70476.0,70492.5,70472.0,70492.2,70435.1,70454.0,70437.1,70420.8,70409.5,70424.4,70417.4,70488.0,70477.9,70487.0,70495.9,70526.0,70526.2,70543.7,70516.6,70541.8,70554.9,70565.0,70540.5,70510.0,70466.6,70494.6,70455.3,70491.3,70499.9,70479.0,70475.3,70450.9,70470.6,70453.0,70470.0,70524.4,70529.1,70550.0,70533.3,70491.5,70484.0,70533.3,70519.7],\"x\":[\"2024-03-27T00:00:00.000000\",\"2024-03-27T00:01:00.000000\",\"2024-03-27T00:02:00.000000\",\"2024-03-27T00:03:00.000000\",\"2024-03-27T00:04:00.000000\",\"2024-03-27T00:05:00.000000\",\"2024-03-27T00:06:00.000000\",\"2024-03-27T00:07:00.000000\",\"2024-03-27T00:08:00.000000\",\"2024-03-27T00:09:00.000000\",\"2024-03-27T00:10:00.000000\",\"2024-03-27T00:11:00.000000\",\"2024-03-27T00:12:00.000000\",\"2024-03-27T00:13:00.000000\",\"2024-03-27T00:14:00.000000\",\"2024-03-27T00:15:00.000000\",\"2024-03-27T00:16:00.000000\",\"2024-03-27T00:17:00.000000\",\"2024-03-27T00:18:00.000000\",\"2024-03-27T00:19:00.000000\",\"2024-03-27T00:20:00.000000\",\"2024-03-27T00:21:00.000000\",\"2024-03-27T00:22:00.000000\",\"2024-03-27T00:23:00.000000\",\"2024-03-27T00:24:00.000000\",\"2024-03-27T00:25:00.000000\",\"2024-03-27T00:26:00.000000\",\"2024-03-27T00:27:00.000000\",\"2024-03-27T00:28:00.000000\",\"2024-03-27T00:29:00.000000\",\"2024-03-27T00:30:00.000000\",\"2024-03-27T00:31:00.000000\",\"2024-03-27T00:32:00.000000\",\"2024-03-27T00:33:00.000000\",\"2024-03-27T00:34:00.000000\",\"2024-03-27T00:35:00.000000\",\"2024-03-27T00:36:00.000000\",\"2024-03-27T00:37:00.000000\",\"2024-03-27T00:38:00.000000\",\"2024-03-27T00:39:00.000000\",\"2024-03-27T00:40:00.000000\",\"2024-03-27T00:41:00.000000\",\"2024-03-27T00:42:00.000000\",\"2024-03-27T00:43:00.000000\",\"2024-03-27T00:44:00.000000\",\"2024-03-27T00:45:00.000000\",\"2024-03-27T00:46:00.000000\",\"2024-03-27T00:47:00.000000\",\"2024-03-27T00:48:00.000000\",\"2024-03-27T00:49:00.000000\",\"2024-03-27T00:50:00.000000\",\"2024-03-27T00:51:00.000000\",\"2024-03-27T00:52:00.000000\",\"2024-03-27T00:53:00.000000\",\"2024-03-27T00:54:00.000000\",\"2024-03-27T00:55:00.000000\",\"2024-03-27T00:56:00.000000\",\"2024-03-27T00:57:00.000000\",\"2024-03-27T00:58:00.000000\",\"2024-03-27T00:59:00.000000\",\"2024-03-27T01:00:00.000000\",\"2024-03-27T01:01:00.000000\",\"2024-03-27T01:02:00.000000\",\"2024-03-27T01:03:00.000000\",\"2024-03-27T01:04:00.000000\",\"2024-03-27T01:05:00.000000\",\"2024-03-27T01:06:00.000000\",\"2024-03-27T01:07:00.000000\",\"2024-03-27T01:08:00.000000\",\"2024-03-27T01:09:00.000000\",\"2024-03-27T01:10:00.000000\",\"2024-03-27T01:11:00.000000\",\"2024-03-27T01:12:00.000000\",\"2024-03-27T01:13:00.000000\",\"2024-03-27T01:14:00.000000\",\"2024-03-27T01:15:00.000000\",\"2024-03-27T01:16:00.000000\",\"2024-03-27T01:17:00.000000\",\"2024-03-27T01:18:00.000000\",\"2024-03-27T01:19:00.000000\",\"2024-03-27T01:20:00.000000\",\"2024-03-27T01:21:00.000000\",\"2024-03-27T01:22:00.000000\",\"2024-03-27T01:23:00.000000\",\"2024-03-27T01:24:00.000000\",\"2024-03-27T01:25:00.000000\",\"2024-03-27T01:26:00.000000\",\"2024-03-27T01:27:00.000000\",\"2024-03-27T01:28:00.000000\",\"2024-03-27T01:29:00.000000\",\"2024-03-27T01:30:00.000000\",\"2024-03-27T01:31:00.000000\",\"2024-03-27T01:32:00.000000\",\"2024-03-27T01:33:00.000000\",\"2024-03-27T01:34:00.000000\",\"2024-03-27T01:35:00.000000\",\"2024-03-27T01:36:00.000000\",\"2024-03-27T01:37:00.000000\",\"2024-03-27T01:38:00.000000\",\"2024-03-27T01:39:00.000000\",\"2024-03-27T01:40:00.000000\",\"2024-03-27T01:41:00.000000\",\"2024-03-27T01:42:00.000000\",\"2024-03-27T01:43:00.000000\",\"2024-03-27T01:44:00.000000\",\"2024-03-27T01:45:00.000000\",\"2024-03-27T01:46:00.000000\",\"2024-03-27T01:47:00.000000\",\"2024-03-27T01:48:00.000000\",\"2024-03-27T01:49:00.000000\",\"2024-03-27T01:50:00.000000\",\"2024-03-27T01:51:00.000000\",\"2024-03-27T01:52:00.000000\",\"2024-03-27T01:53:00.000000\",\"2024-03-27T01:54:00.000000\",\"2024-03-27T01:55:00.000000\",\"2024-03-27T01:56:00.000000\",\"2024-03-27T01:57:00.000000\",\"2024-03-27T01:58:00.000000\",\"2024-03-27T01:59:00.000000\",\"2024-03-27T02:00:00.000000\",\"2024-03-27T02:01:00.000000\",\"2024-03-27T02:02:00.000000\",\"2024-03-27T02:03:00.000000\",\"2024-03-27T02:04:00.000000\",\"2024-03-27T02:05:00.000000\",\"2024-03-27T02:06:00.000000\",\"2024-03-27T02:07:00.000000\",\"2024-03-27T02:08:00.000000\",\"2024-03-27T02:09:00.000000\",\"2024-03-27T02:10:00.000000\",\"2024-03-27T02:11:00.000000\",\"2024-03-27T02:12:00.000000\",\"2024-03-27T02:13:00.000000\",\"2024-03-27T02:14:00.000000\",\"2024-03-27T02:15:00.000000\",\"2024-03-27T02:16:00.000000\",\"2024-03-27T02:17:00.000000\",\"2024-03-27T02:18:00.000000\",\"2024-03-27T02:19:00.000000\",\"2024-03-27T02:20:00.000000\",\"2024-03-27T02:21:00.000000\",\"2024-03-27T02:22:00.000000\",\"2024-03-27T02:23:00.000000\",\"2024-03-27T02:24:00.000000\",\"2024-03-27T02:25:00.000000\",\"2024-03-27T02:26:00.000000\",\"2024-03-27T02:27:00.000000\",\"2024-03-27T02:28:00.000000\",\"2024-03-27T02:29:00.000000\",\"2024-03-27T02:30:00.000000\",\"2024-03-27T02:31:00.000000\",\"2024-03-27T02:32:00.000000\",\"2024-03-27T02:33:00.000000\",\"2024-03-27T02:34:00.000000\",\"2024-03-27T02:35:00.000000\",\"2024-03-27T02:36:00.000000\",\"2024-03-27T02:37:00.000000\",\"2024-03-27T02:38:00.000000\",\"2024-03-27T02:39:00.000000\",\"2024-03-27T02:40:00.000000\",\"2024-03-27T02:41:00.000000\",\"2024-03-27T02:42:00.000000\",\"2024-03-27T02:43:00.000000\",\"2024-03-27T02:44:00.000000\",\"2024-03-27T02:45:00.000000\",\"2024-03-27T02:46:00.000000\",\"2024-03-27T02:47:00.000000\",\"2024-03-27T02:48:00.000000\",\"2024-03-27T02:49:00.000000\",\"2024-03-27T02:50:00.000000\",\"2024-03-27T02:51:00.000000\",\"2024-03-27T02:52:00.000000\",\"2024-03-27T02:53:00.000000\",\"2024-03-27T02:54:00.000000\",\"2024-03-27T02:55:00.000000\",\"2024-03-27T02:56:00.000000\",\"2024-03-27T02:57:00.000000\",\"2024-03-27T02:58:00.000000\",\"2024-03-27T02:59:00.000000\",\"2024-03-27T03:00:00.000000\",\"2024-03-27T03:01:00.000000\",\"2024-03-27T03:02:00.000000\",\"2024-03-27T03:03:00.000000\",\"2024-03-27T03:04:00.000000\",\"2024-03-27T03:05:00.000000\",\"2024-03-27T03:06:00.000000\",\"2024-03-27T03:07:00.000000\",\"2024-03-27T03:08:00.000000\",\"2024-03-27T03:09:00.000000\",\"2024-03-27T03:10:00.000000\",\"2024-03-27T03:11:00.000000\",\"2024-03-27T03:12:00.000000\",\"2024-03-27T03:13:00.000000\",\"2024-03-27T03:14:00.000000\",\"2024-03-27T03:15:00.000000\",\"2024-03-27T03:16:00.000000\",\"2024-03-27T03:17:00.000000\",\"2024-03-27T03:18:00.000000\",\"2024-03-27T03:19:00.000000\",\"2024-03-27T03:20:00.000000\",\"2024-03-27T03:21:00.000000\",\"2024-03-27T03:22:00.000000\",\"2024-03-27T03:23:00.000000\",\"2024-03-27T03:24:00.000000\",\"2024-03-27T03:25:00.000000\",\"2024-03-27T03:26:00.000000\",\"2024-03-27T03:27:00.000000\",\"2024-03-27T03:28:00.000000\",\"2024-03-27T03:29:00.000000\",\"2024-03-27T03:30:00.000000\",\"2024-03-27T03:31:00.000000\",\"2024-03-27T03:32:00.000000\",\"2024-03-27T03:33:00.000000\",\"2024-03-27T03:34:00.000000\",\"2024-03-27T03:35:00.000000\",\"2024-03-27T03:36:00.000000\",\"2024-03-27T03:37:00.000000\",\"2024-03-27T03:38:00.000000\",\"2024-03-27T03:39:00.000000\",\"2024-03-27T03:40:00.000000\",\"2024-03-27T03:41:00.000000\",\"2024-03-27T03:42:00.000000\",\"2024-03-27T03:43:00.000000\",\"2024-03-27T03:44:00.000000\",\"2024-03-27T03:45:00.000000\",\"2024-03-27T03:46:00.000000\",\"2024-03-27T03:47:00.000000\",\"2024-03-27T03:48:00.000000\",\"2024-03-27T03:49:00.000000\",\"2024-03-27T03:50:00.000000\",\"2024-03-27T03:51:00.000000\",\"2024-03-27T03:52:00.000000\",\"2024-03-27T03:53:00.000000\",\"2024-03-27T03:54:00.000000\",\"2024-03-27T03:55:00.000000\",\"2024-03-27T03:56:00.000000\",\"2024-03-27T03:57:00.000000\",\"2024-03-27T03:58:00.000000\",\"2024-03-27T03:59:00.000000\",\"2024-03-27T04:00:00.000000\",\"2024-03-27T04:01:00.000000\",\"2024-03-27T04:02:00.000000\",\"2024-03-27T04:03:00.000000\",\"2024-03-27T04:04:00.000000\",\"2024-03-27T04:05:00.000000\",\"2024-03-27T04:06:00.000000\",\"2024-03-27T04:07:00.000000\",\"2024-03-27T04:08:00.000000\",\"2024-03-27T04:09:00.000000\",\"2024-03-27T04:10:00.000000\",\"2024-03-27T04:11:00.000000\",\"2024-03-27T04:12:00.000000\",\"2024-03-27T04:13:00.000000\",\"2024-03-27T04:14:00.000000\",\"2024-03-27T04:15:00.000000\",\"2024-03-27T04:16:00.000000\",\"2024-03-27T04:17:00.000000\",\"2024-03-27T04:18:00.000000\",\"2024-03-27T04:19:00.000000\",\"2024-03-27T04:20:00.000000\",\"2024-03-27T04:21:00.000000\",\"2024-03-27T04:22:00.000000\",\"2024-03-27T04:23:00.000000\",\"2024-03-27T04:24:00.000000\",\"2024-03-27T04:25:00.000000\",\"2024-03-27T04:26:00.000000\",\"2024-03-27T04:27:00.000000\",\"2024-03-27T04:28:00.000000\",\"2024-03-27T04:29:00.000000\",\"2024-03-27T04:30:00.000000\",\"2024-03-27T04:31:00.000000\",\"2024-03-27T04:32:00.000000\",\"2024-03-27T04:33:00.000000\",\"2024-03-27T04:34:00.000000\",\"2024-03-27T04:35:00.000000\",\"2024-03-27T04:36:00.000000\",\"2024-03-27T04:37:00.000000\",\"2024-03-27T04:38:00.000000\",\"2024-03-27T04:39:00.000000\",\"2024-03-27T04:40:00.000000\",\"2024-03-27T04:41:00.000000\",\"2024-03-27T04:42:00.000000\",\"2024-03-27T04:43:00.000000\",\"2024-03-27T04:44:00.000000\",\"2024-03-27T04:45:00.000000\",\"2024-03-27T04:46:00.000000\",\"2024-03-27T04:47:00.000000\",\"2024-03-27T04:48:00.000000\",\"2024-03-27T04:49:00.000000\",\"2024-03-27T04:50:00.000000\",\"2024-03-27T04:51:00.000000\",\"2024-03-27T04:52:00.000000\",\"2024-03-27T04:53:00.000000\",\"2024-03-27T04:54:00.000000\",\"2024-03-27T04:55:00.000000\",\"2024-03-27T04:56:00.000000\",\"2024-03-27T04:57:00.000000\",\"2024-03-27T04:58:00.000000\",\"2024-03-27T04:59:00.000000\",\"2024-03-27T05:00:00.000000\",\"2024-03-27T05:01:00.000000\",\"2024-03-27T05:02:00.000000\",\"2024-03-27T05:03:00.000000\",\"2024-03-27T05:04:00.000000\",\"2024-03-27T05:05:00.000000\",\"2024-03-27T05:06:00.000000\",\"2024-03-27T05:07:00.000000\",\"2024-03-27T05:08:00.000000\",\"2024-03-27T05:09:00.000000\",\"2024-03-27T05:10:00.000000\",\"2024-03-27T05:11:00.000000\",\"2024-03-27T05:12:00.000000\",\"2024-03-27T05:13:00.000000\",\"2024-03-27T05:14:00.000000\",\"2024-03-27T05:15:00.000000\",\"2024-03-27T05:16:00.000000\",\"2024-03-27T05:17:00.000000\",\"2024-03-27T05:18:00.000000\",\"2024-03-27T05:19:00.000000\",\"2024-03-27T05:20:00.000000\",\"2024-03-27T05:21:00.000000\",\"2024-03-27T05:22:00.000000\",\"2024-03-27T05:23:00.000000\",\"2024-03-27T05:24:00.000000\",\"2024-03-27T05:25:00.000000\",\"2024-03-27T05:26:00.000000\",\"2024-03-27T05:27:00.000000\",\"2024-03-27T05:28:00.000000\",\"2024-03-27T05:29:00.000000\",\"2024-03-27T05:30:00.000000\",\"2024-03-27T05:31:00.000000\",\"2024-03-27T05:32:00.000000\",\"2024-03-27T05:33:00.000000\",\"2024-03-27T05:34:00.000000\",\"2024-03-27T05:35:00.000000\",\"2024-03-27T05:36:00.000000\",\"2024-03-27T05:37:00.000000\",\"2024-03-27T05:38:00.000000\",\"2024-03-27T05:39:00.000000\",\"2024-03-27T05:40:00.000000\",\"2024-03-27T05:41:00.000000\",\"2024-03-27T05:42:00.000000\",\"2024-03-27T05:43:00.000000\",\"2024-03-27T05:44:00.000000\",\"2024-03-27T05:45:00.000000\",\"2024-03-27T05:46:00.000000\",\"2024-03-27T05:47:00.000000\",\"2024-03-27T05:48:00.000000\",\"2024-03-27T05:49:00.000000\",\"2024-03-27T05:50:00.000000\",\"2024-03-27T05:51:00.000000\",\"2024-03-27T05:52:00.000000\",\"2024-03-27T05:53:00.000000\",\"2024-03-27T05:54:00.000000\",\"2024-03-27T05:55:00.000000\",\"2024-03-27T05:56:00.000000\",\"2024-03-27T05:57:00.000000\",\"2024-03-27T05:58:00.000000\",\"2024-03-27T05:59:00.000000\",\"2024-03-27T06:00:00.000000\",\"2024-03-27T06:01:00.000000\",\"2024-03-27T06:02:00.000000\",\"2024-03-27T06:03:00.000000\",\"2024-03-27T06:04:00.000000\"],\"type\":\"candlestick\",\"xaxis\":\"x\",\"yaxis\":\"y\"},{\"x\":[\"2024-03-27T00:00:00.000000\",\"2024-03-27T00:01:00.000000\",\"2024-03-27T00:02:00.000000\",\"2024-03-27T00:03:00.000000\",\"2024-03-27T00:04:00.000000\",\"2024-03-27T00:05:00.000000\",\"2024-03-27T00:06:00.000000\",\"2024-03-27T00:07:00.000000\",\"2024-03-27T00:08:00.000000\",\"2024-03-27T00:09:00.000000\",\"2024-03-27T00:10:00.000000\",\"2024-03-27T00:11:00.000000\",\"2024-03-27T00:12:00.000000\",\"2024-03-27T00:13:00.000000\",\"2024-03-27T00:14:00.000000\",\"2024-03-27T00:15:00.000000\",\"2024-03-27T00:16:00.000000\",\"2024-03-27T00:17:00.000000\",\"2024-03-27T00:18:00.000000\",\"2024-03-27T00:19:00.000000\",\"2024-03-27T00:20:00.000000\",\"2024-03-27T00:21:00.000000\",\"2024-03-27T00:22:00.000000\",\"2024-03-27T00:23:00.000000\",\"2024-03-27T00:24:00.000000\",\"2024-03-27T00:25:00.000000\",\"2024-03-27T00:26:00.000000\",\"2024-03-27T00:27:00.000000\",\"2024-03-27T00:28:00.000000\",\"2024-03-27T00:29:00.000000\",\"2024-03-27T00:30:00.000000\",\"2024-03-27T00:31:00.000000\",\"2024-03-27T00:32:00.000000\",\"2024-03-27T00:33:00.000000\",\"2024-03-27T00:34:00.000000\",\"2024-03-27T00:35:00.000000\",\"2024-03-27T00:36:00.000000\",\"2024-03-27T00:37:00.000000\",\"2024-03-27T00:38:00.000000\",\"2024-03-27T00:39:00.000000\",\"2024-03-27T00:40:00.000000\",\"2024-03-27T00:41:00.000000\",\"2024-03-27T00:42:00.000000\",\"2024-03-27T00:43:00.000000\",\"2024-03-27T00:44:00.000000\",\"2024-03-27T00:45:00.000000\",\"2024-03-27T00:46:00.000000\",\"2024-03-27T00:47:00.000000\",\"2024-03-27T00:48:00.000000\",\"2024-03-27T00:49:00.000000\",\"2024-03-27T00:50:00.000000\",\"2024-03-27T00:51:00.000000\",\"2024-03-27T00:52:00.000000\",\"2024-03-27T00:53:00.000000\",\"2024-03-27T00:54:00.000000\",\"2024-03-27T00:55:00.000000\",\"2024-03-27T00:56:00.000000\",\"2024-03-27T00:57:00.000000\",\"2024-03-27T00:58:00.000000\",\"2024-03-27T00:59:00.000000\",\"2024-03-27T01:00:00.000000\",\"2024-03-27T01:01:00.000000\",\"2024-03-27T01:02:00.000000\",\"2024-03-27T01:03:00.000000\",\"2024-03-27T01:04:00.000000\",\"2024-03-27T01:05:00.000000\",\"2024-03-27T01:06:00.000000\",\"2024-03-27T01:07:00.000000\",\"2024-03-27T01:08:00.000000\",\"2024-03-27T01:09:00.000000\",\"2024-03-27T01:10:00.000000\",\"2024-03-27T01:11:00.000000\",\"2024-03-27T01:12:00.000000\",\"2024-03-27T01:13:00.000000\",\"2024-03-27T01:14:00.000000\",\"2024-03-27T01:15:00.000000\",\"2024-03-27T01:16:00.000000\",\"2024-03-27T01:17:00.000000\",\"2024-03-27T01:18:00.000000\",\"2024-03-27T01:19:00.000000\",\"2024-03-27T01:20:00.000000\",\"2024-03-27T01:21:00.000000\",\"2024-03-27T01:22:00.000000\",\"2024-03-27T01:23:00.000000\",\"2024-03-27T01:24:00.000000\",\"2024-03-27T01:25:00.000000\",\"2024-03-27T01:26:00.000000\",\"2024-03-27T01:27:00.000000\",\"2024-03-27T01:28:00.000000\",\"2024-03-27T01:29:00.000000\",\"2024-03-27T01:30:00.000000\",\"2024-03-27T01:31:00.000000\",\"2024-03-27T01:32:00.000000\",\"2024-03-27T01:33:00.000000\",\"2024-03-27T01:34:00.000000\",\"2024-03-27T01:35:00.000000\",\"2024-03-27T01:36:00.000000\",\"2024-03-27T01:37:00.000000\",\"2024-03-27T01:38:00.000000\",\"2024-03-27T01:39:00.000000\",\"2024-03-27T01:40:00.000000\",\"2024-03-27T01:41:00.000000\",\"2024-03-27T01:42:00.000000\",\"2024-03-27T01:43:00.000000\",\"2024-03-27T01:44:00.000000\",\"2024-03-27T01:45:00.000000\",\"2024-03-27T01:46:00.000000\",\"2024-03-27T01:47:00.000000\",\"2024-03-27T01:48:00.000000\",\"2024-03-27T01:49:00.000000\",\"2024-03-27T01:50:00.000000\",\"2024-03-27T01:51:00.000000\",\"2024-03-27T01:52:00.000000\",\"2024-03-27T01:53:00.000000\",\"2024-03-27T01:54:00.000000\",\"2024-03-27T01:55:00.000000\",\"2024-03-27T01:56:00.000000\",\"2024-03-27T01:57:00.000000\",\"2024-03-27T01:58:00.000000\",\"2024-03-27T01:59:00.000000\",\"2024-03-27T02:00:00.000000\",\"2024-03-27T02:01:00.000000\",\"2024-03-27T02:02:00.000000\",\"2024-03-27T02:03:00.000000\",\"2024-03-27T02:04:00.000000\",\"2024-03-27T02:05:00.000000\",\"2024-03-27T02:06:00.000000\",\"2024-03-27T02:07:00.000000\",\"2024-03-27T02:08:00.000000\",\"2024-03-27T02:09:00.000000\",\"2024-03-27T02:10:00.000000\",\"2024-03-27T02:11:00.000000\",\"2024-03-27T02:12:00.000000\",\"2024-03-27T02:13:00.000000\",\"2024-03-27T02:14:00.000000\",\"2024-03-27T02:15:00.000000\",\"2024-03-27T02:16:00.000000\",\"2024-03-27T02:17:00.000000\",\"2024-03-27T02:18:00.000000\",\"2024-03-27T02:19:00.000000\",\"2024-03-27T02:20:00.000000\",\"2024-03-27T02:21:00.000000\",\"2024-03-27T02:22:00.000000\",\"2024-03-27T02:23:00.000000\",\"2024-03-27T02:24:00.000000\",\"2024-03-27T02:25:00.000000\",\"2024-03-27T02:26:00.000000\",\"2024-03-27T02:27:00.000000\",\"2024-03-27T02:28:00.000000\",\"2024-03-27T02:29:00.000000\",\"2024-03-27T02:30:00.000000\",\"2024-03-27T02:31:00.000000\",\"2024-03-27T02:32:00.000000\",\"2024-03-27T02:33:00.000000\",\"2024-03-27T02:34:00.000000\",\"2024-03-27T02:35:00.000000\",\"2024-03-27T02:36:00.000000\",\"2024-03-27T02:37:00.000000\",\"2024-03-27T02:38:00.000000\",\"2024-03-27T02:39:00.000000\",\"2024-03-27T02:40:00.000000\",\"2024-03-27T02:41:00.000000\",\"2024-03-27T02:42:00.000000\",\"2024-03-27T02:43:00.000000\",\"2024-03-27T02:44:00.000000\",\"2024-03-27T02:45:00.000000\",\"2024-03-27T02:46:00.000000\",\"2024-03-27T02:47:00.000000\",\"2024-03-27T02:48:00.000000\",\"2024-03-27T02:49:00.000000\",\"2024-03-27T02:50:00.000000\",\"2024-03-27T02:51:00.000000\",\"2024-03-27T02:52:00.000000\",\"2024-03-27T02:53:00.000000\",\"2024-03-27T02:54:00.000000\",\"2024-03-27T02:55:00.000000\",\"2024-03-27T02:56:00.000000\",\"2024-03-27T02:57:00.000000\",\"2024-03-27T02:58:00.000000\",\"2024-03-27T02:59:00.000000\",\"2024-03-27T03:00:00.000000\",\"2024-03-27T03:01:00.000000\",\"2024-03-27T03:02:00.000000\",\"2024-03-27T03:03:00.000000\",\"2024-03-27T03:04:00.000000\",\"2024-03-27T03:05:00.000000\",\"2024-03-27T03:06:00.000000\",\"2024-03-27T03:07:00.000000\",\"2024-03-27T03:08:00.000000\",\"2024-03-27T03:09:00.000000\",\"2024-03-27T03:10:00.000000\",\"2024-03-27T03:11:00.000000\",\"2024-03-27T03:12:00.000000\",\"2024-03-27T03:13:00.000000\",\"2024-03-27T03:14:00.000000\",\"2024-03-27T03:15:00.000000\",\"2024-03-27T03:16:00.000000\",\"2024-03-27T03:17:00.000000\",\"2024-03-27T03:18:00.000000\",\"2024-03-27T03:19:00.000000\",\"2024-03-27T03:20:00.000000\",\"2024-03-27T03:21:00.000000\",\"2024-03-27T03:22:00.000000\",\"2024-03-27T03:23:00.000000\",\"2024-03-27T03:24:00.000000\",\"2024-03-27T03:25:00.000000\",\"2024-03-27T03:26:00.000000\",\"2024-03-27T03:27:00.000000\",\"2024-03-27T03:28:00.000000\",\"2024-03-27T03:29:00.000000\",\"2024-03-27T03:30:00.000000\",\"2024-03-27T03:31:00.000000\",\"2024-03-27T03:32:00.000000\",\"2024-03-27T03:33:00.000000\",\"2024-03-27T03:34:00.000000\",\"2024-03-27T03:35:00.000000\",\"2024-03-27T03:36:00.000000\",\"2024-03-27T03:37:00.000000\",\"2024-03-27T03:38:00.000000\",\"2024-03-27T03:39:00.000000\",\"2024-03-27T03:40:00.000000\",\"2024-03-27T03:41:00.000000\",\"2024-03-27T03:42:00.000000\",\"2024-03-27T03:43:00.000000\",\"2024-03-27T03:44:00.000000\",\"2024-03-27T03:45:00.000000\",\"2024-03-27T03:46:00.000000\",\"2024-03-27T03:47:00.000000\",\"2024-03-27T03:48:00.000000\",\"2024-03-27T03:49:00.000000\",\"2024-03-27T03:50:00.000000\",\"2024-03-27T03:51:00.000000\",\"2024-03-27T03:52:00.000000\",\"2024-03-27T03:53:00.000000\",\"2024-03-27T03:54:00.000000\",\"2024-03-27T03:55:00.000000\",\"2024-03-27T03:56:00.000000\",\"2024-03-27T03:57:00.000000\",\"2024-03-27T03:58:00.000000\",\"2024-03-27T03:59:00.000000\",\"2024-03-27T04:00:00.000000\",\"2024-03-27T04:01:00.000000\",\"2024-03-27T04:02:00.000000\",\"2024-03-27T04:03:00.000000\",\"2024-03-27T04:04:00.000000\",\"2024-03-27T04:05:00.000000\",\"2024-03-27T04:06:00.000000\",\"2024-03-27T04:07:00.000000\",\"2024-03-27T04:08:00.000000\",\"2024-03-27T04:09:00.000000\",\"2024-03-27T04:10:00.000000\",\"2024-03-27T04:11:00.000000\",\"2024-03-27T04:12:00.000000\",\"2024-03-27T04:13:00.000000\",\"2024-03-27T04:14:00.000000\",\"2024-03-27T04:15:00.000000\",\"2024-03-27T04:16:00.000000\",\"2024-03-27T04:17:00.000000\",\"2024-03-27T04:18:00.000000\",\"2024-03-27T04:19:00.000000\",\"2024-03-27T04:20:00.000000\",\"2024-03-27T04:21:00.000000\",\"2024-03-27T04:22:00.000000\",\"2024-03-27T04:23:00.000000\",\"2024-03-27T04:24:00.000000\",\"2024-03-27T04:25:00.000000\",\"2024-03-27T04:26:00.000000\",\"2024-03-27T04:27:00.000000\",\"2024-03-27T04:28:00.000000\",\"2024-03-27T04:29:00.000000\",\"2024-03-27T04:30:00.000000\",\"2024-03-27T04:31:00.000000\",\"2024-03-27T04:32:00.000000\",\"2024-03-27T04:33:00.000000\",\"2024-03-27T04:34:00.000000\",\"2024-03-27T04:35:00.000000\",\"2024-03-27T04:36:00.000000\",\"2024-03-27T04:37:00.000000\",\"2024-03-27T04:38:00.000000\",\"2024-03-27T04:39:00.000000\",\"2024-03-27T04:40:00.000000\",\"2024-03-27T04:41:00.000000\",\"2024-03-27T04:42:00.000000\",\"2024-03-27T04:43:00.000000\",\"2024-03-27T04:44:00.000000\",\"2024-03-27T04:45:00.000000\",\"2024-03-27T04:46:00.000000\",\"2024-03-27T04:47:00.000000\",\"2024-03-27T04:48:00.000000\",\"2024-03-27T04:49:00.000000\",\"2024-03-27T04:50:00.000000\",\"2024-03-27T04:51:00.000000\",\"2024-03-27T04:52:00.000000\",\"2024-03-27T04:53:00.000000\",\"2024-03-27T04:54:00.000000\",\"2024-03-27T04:55:00.000000\",\"2024-03-27T04:56:00.000000\",\"2024-03-27T04:57:00.000000\",\"2024-03-27T04:58:00.000000\",\"2024-03-27T04:59:00.000000\",\"2024-03-27T05:00:00.000000\",\"2024-03-27T05:01:00.000000\",\"2024-03-27T05:02:00.000000\",\"2024-03-27T05:03:00.000000\",\"2024-03-27T05:04:00.000000\",\"2024-03-27T05:05:00.000000\",\"2024-03-27T05:06:00.000000\",\"2024-03-27T05:07:00.000000\",\"2024-03-27T05:08:00.000000\",\"2024-03-27T05:09:00.000000\",\"2024-03-27T05:10:00.000000\",\"2024-03-27T05:11:00.000000\",\"2024-03-27T05:12:00.000000\",\"2024-03-27T05:13:00.000000\",\"2024-03-27T05:14:00.000000\",\"2024-03-27T05:15:00.000000\",\"2024-03-27T05:16:00.000000\",\"2024-03-27T05:17:00.000000\",\"2024-03-27T05:18:00.000000\",\"2024-03-27T05:19:00.000000\",\"2024-03-27T05:20:00.000000\",\"2024-03-27T05:21:00.000000\",\"2024-03-27T05:22:00.000000\",\"2024-03-27T05:23:00.000000\",\"2024-03-27T05:24:00.000000\",\"2024-03-27T05:25:00.000000\",\"2024-03-27T05:26:00.000000\",\"2024-03-27T05:27:00.000000\",\"2024-03-27T05:28:00.000000\",\"2024-03-27T05:29:00.000000\",\"2024-03-27T05:30:00.000000\",\"2024-03-27T05:31:00.000000\",\"2024-03-27T05:32:00.000000\",\"2024-03-27T05:33:00.000000\",\"2024-03-27T05:34:00.000000\",\"2024-03-27T05:35:00.000000\",\"2024-03-27T05:36:00.000000\",\"2024-03-27T05:37:00.000000\",\"2024-03-27T05:38:00.000000\",\"2024-03-27T05:39:00.000000\",\"2024-03-27T05:40:00.000000\",\"2024-03-27T05:41:00.000000\",\"2024-03-27T05:42:00.000000\",\"2024-03-27T05:43:00.000000\",\"2024-03-27T05:44:00.000000\",\"2024-03-27T05:45:00.000000\",\"2024-03-27T05:46:00.000000\",\"2024-03-27T05:47:00.000000\",\"2024-03-27T05:48:00.000000\",\"2024-03-27T05:49:00.000000\",\"2024-03-27T05:50:00.000000\",\"2024-03-27T05:51:00.000000\",\"2024-03-27T05:52:00.000000\",\"2024-03-27T05:53:00.000000\",\"2024-03-27T05:54:00.000000\",\"2024-03-27T05:55:00.000000\",\"2024-03-27T05:56:00.000000\",\"2024-03-27T05:57:00.000000\",\"2024-03-27T05:58:00.000000\",\"2024-03-27T05:59:00.000000\",\"2024-03-27T06:00:00.000000\",\"2024-03-27T06:01:00.000000\",\"2024-03-27T06:02:00.000000\",\"2024-03-27T06:03:00.000000\",\"2024-03-27T06:04:00.000000\"],\"y\":[66.98000000000008,54.87900000000007,39.026000000000025,42.185999999999986,41.54800000000003,24.89799999999999,48.49299999999997,46.45100000000001,33.609999999999985,27.145999999999994,142.26600000000022,63.44100000000009,77.50600000000006,39.941000000000074,41.13199999999999,13.554999999999986,21.045999999999978,33.72300000000002,19.127999999999993,96.52300000000002,89.31200000000007,48.316999999999936,40.85600000000001,36.79899999999999,31.872999999999998,21.563000000000002,130.96500000000034,31.58900000000003,28.900999999999996,37.11099999999999,125.15100000000015,100.78700000000013,116.77100000000007,274.1760000000005,142.83700000000016,111.70400000000002,115.14700000000036,63.24600000000005,82.81800000000007,787.3379999999902,434.7319999999986,324.2119999999992,143.69700000000032,135.98599999999982,120.8870000000003,137.79699999999997,79.09499999999997,80.83700000000012,92.464,59.27700000000005,30.02799999999999,46.321999999999996,26.744999999999997,54.85799999999999,143.7570000000004,24.57400000000001,302.32000000000085,348.227000000001,189.71600000000052,138.74400000000006,115.06400000000019,107.67200000000001,67.99400000000007,142.86400000000023,58.810999999999964,46.48599999999998,26.57299999999998,84.4550000000001,57.27500000000002,82.93700000000021,62.51499999999997,75.05499999999995,173.77500000000012,156.86900000000009,96.0849999999999,107.68100000000001,84.61700000000006,37.67600000000003,47.517999999999994,163.68599999999998,103.50500000000001,64.59700000000007,66.79400000000001,46.90100000000001,169.60300000000026,86.30100000000007,140.16000000000028,132.95200000000034,51.934999999999974,32.13700000000001,65.88999999999997,62.67199999999997,52.662000000000006,17.811999999999987,8.114999999999997,14.84299999999999,14.169999999999987,50.933000000000035,26.97799999999999,23.157999999999987,11.656000000000002,26.738999999999976,12.227999999999987,52.775,8.484999999999992,41.687999999999974,97.85500000000012,180.44400000000053,90.17599999999993,156.95900000000017,136.54200000000003,30.095999999999997,24.979999999999983,95.10099999999997,24.231999999999964,89.11999999999998,390.398,320.8610000000011,99.57200000000033,38.53700000000002,125.84799999999997,52.234000000000044,38.120999999999995,7.014999999999987,34.26799999999999,27.91400000000001,46.07100000000006,78.90199999999999,45.05200000000002,35.394999999999996,50.73699999999996,56.266000000000034,236.8399999999997,45.575000000000024,20.12499999999999,22.924,38.81399999999999,64.2440000000001,29.27099999999998,27.467000000000002,22.880999999999993,61.43100000000002,144.05300000000008,87.82400000000004,82.98599999999999,163.97900000000027,16.462999999999994,68.24899999999998,51.734,31.965999999999994,50.003000000000014,26.67099999999999,26.461999999999996,60.79999999999998,56.89900000000005,27.252999999999993,23.006999999999984,18.64699999999999,22.555999999999997,56.16599999999997,36.865000000000016,16.714999999999993,10.136,10.836999999999996,2.9479999999999995,41.661000000000016,72.33100000000003,53.50399999999999,20.520999999999994,143.1400000000005,333.86000000000024,67.04300000000002,33.71900000000002,42.959999999999994,15.094999999999997,17.15199999999999,30.034999999999982,12.602000000000004,29.35299999999998,31.242999999999995,165.4580000000007,25.333999999999985,32.417000000000016,63.76700000000004,12.557999999999971,192.01099999999886,116.77000000000015,52.61599999999993,29.045,37.787,47.88900000000001,76.3570000000001,17.524999999999984,79.12500000000006,20.255,37.24799999999996,20.216999999999977,24.696999999999964,15.676999999999994,30.338999999999984,28.436999999999987,28.777999999999984,8.343999999999998,14.370999999999997,28.567999999999977,12.691999999999997,8.062999999999994,20.777999999999988,10.402999999999995,15.352999999999982,23.60799999999996,19.365999999999993,9.107000000000001,94.49000000000015,80.66299999999998,57.49900000000001,29.07599999999998,39.99300000000005,23.902000000000058,18.875999999999994,15.157999999999994,13.581999999999994,29.547000000000008,19.637,25.506999999999994,41.458,149.83600000000007,101.07099999999997,16.57499999999999,36.019000000000034,87.74600000000005,61.68000000000004,81.46600000000026,34.641,197.28000000000046,88.03700000000012,128.84100000000004,110.55800000000005,142.81699999999992,123.15399999999997,82.92000000000004,92.74900000000004,43.45399999999998,47.691,42.428,67.596,20.555999999999983,21.791999999999987,27.133000000000003,11.424,77.93899999999995,96.97800000000002,16.882999999999996,102.04400000000015,73.89600000000004,99.20900000000006,91.75800000000014,138.82900000000012,9.367999999999997,31.740000000000013,20.364999999999974,81.58100000000016,8.73599999999999,12.119999999999996,11.495999999999988,19.120999999999995,21.319999999999986,24.486999999999977,18.848999999999997,11.949,9.013999999999996,16.373999999999995,20.554000000000002,13.79299999999998,12.54399999999999,80.71400000000011,34.278,29.502999999999993,33.25599999999999,33.56599999999999,14.335999999999999,14.788999999999994,8.518999999999998,5.794999999999997,5.911999999999999,13.982999999999995,3.3939999999999966,16.581,14.133,20.605999999999977,99.31100000000012,343.1199999999984,131.963000000001,127.9290000000001,50.398000000000025,42.15199999999999,42.38600000000139,21.782999999999987,110.08600000000021,24.304999999999996,131.2860000000005,37.885,31.55999999999998,12.275999999999996,323.86400000000003,25.25699999999999,43.78900000000001,24.092999999999993,14.918999999999993,5.426999999999997,63.83199999999995,30.006999999999984,32.425999999999995,26.043000000000003,38.03300000000002,49.57400000000003,25.775000000000006,19.97999999999999,10.231,20.656999999999982,66.75599999999994,17.365999999999993,38.65100000000001,33.47599999999998,11.098999999999997,15.667999999999987,22.770000000000003,7.849999999999996,18.115999999999975,18.696,5.532999999999998,8.447999999999995,34.381999999999984,28.249999999999975,14.123999999999846,7.338999999999986,147.62299999999956,34.568000000000005,42.324999999999996,32.245000000000005,9.945999999999989,18.409999999999997,74.32000000000016,21.264999999999993,13.852999999999998,39.177999999999955,11.425999999999991,17.684,9.692999999999994,12.790999999999999,6.554999999999993,4.824999999999996,9.238999999999994,13.272999999999996,9.318999999999996,10.768999999999998,22.208000000000002,3.3089999999999957,14.500999999999992,12.28799999999999,11.595999999999993,5.7299999999999915,8.084999999999992,11.966999999999993,15.498999999999985],\"type\":\"bar\",\"xaxis\":\"x2\",\"yaxis\":\"y2\"}],                        {\"template\":{\"data\":{\"histogram2dcontour\":[{\"type\":\"histogram2dcontour\",\"colorbar\":{\"outlinewidth\":0,\"ticks\":\"\"},\"colorscale\":[[0.0,\"#0d0887\"],[0.1111111111111111,\"#46039f\"],[0.2222222222222222,\"#7201a8\"],[0.3333333333333333,\"#9c179e\"],[0.4444444444444444,\"#bd3786\"],[0.5555555555555556,\"#d8576b\"],[0.6666666666666666,\"#ed7953\"],[0.7777777777777778,\"#fb9f3a\"],[0.8888888888888888,\"#fdca26\"],[1.0,\"#f0f921\"]]}],\"choropleth\":[{\"type\":\"choropleth\",\"colorbar\":{\"outlinewidth\":0,\"ticks\":\"\"}}],\"histogram2d\":[{\"type\":\"histogram2d\",\"colorbar\":{\"outlinewidth\":0,\"ticks\":\"\"},\"colorscale\":[[0.0,\"#0d0887\"],[0.1111111111111111,\"#46039f\"],[0.2222222222222222,\"#7201a8\"],[0.3333333333333333,\"#9c179e\"],[0.4444444444444444,\"#bd3786\"],[0.5555555555555556,\"#d8576b\"],[0.6666666666666666,\"#ed7953\"],[0.7777777777777778,\"#fb9f3a\"],[0.8888888888888888,\"#fdca26\"],[1.0,\"#f0f921\"]]}],\"heatmap\":[{\"type\":\"heatmap\",\"colorbar\":{\"outlinewidth\":0,\"ticks\":\"\"},\"colorscale\":[[0.0,\"#0d0887\"],[0.1111111111111111,\"#46039f\"],[0.2222222222222222,\"#7201a8\"],[0.3333333333333333,\"#9c179e\"],[0.4444444444444444,\"#bd3786\"],[0.5555555555555556,\"#d8576b\"],[0.6666666666666666,\"#ed7953\"],[0.7777777777777778,\"#fb9f3a\"],[0.8888888888888888,\"#fdca26\"],[1.0,\"#f0f921\"]]}],\"heatmapgl\":[{\"type\":\"heatmapgl\",\"colorbar\":{\"outlinewidth\":0,\"ticks\":\"\"},\"colorscale\":[[0.0,\"#0d0887\"],[0.1111111111111111,\"#46039f\"],[0.2222222222222222,\"#7201a8\"],[0.3333333333333333,\"#9c179e\"],[0.4444444444444444,\"#bd3786\"],[0.5555555555555556,\"#d8576b\"],[0.6666666666666666,\"#ed7953\"],[0.7777777777777778,\"#fb9f3a\"],[0.8888888888888888,\"#fdca26\"],[1.0,\"#f0f921\"]]}],\"contourcarpet\":[{\"type\":\"contourcarpet\",\"colorbar\":{\"outlinewidth\":0,\"ticks\":\"\"}}],\"contour\":[{\"type\":\"contour\",\"colorbar\":{\"outlinewidth\":0,\"ticks\":\"\"},\"colorscale\":[[0.0,\"#0d0887\"],[0.1111111111111111,\"#46039f\"],[0.2222222222222222,\"#7201a8\"],[0.3333333333333333,\"#9c179e\"],[0.4444444444444444,\"#bd3786\"],[0.5555555555555556,\"#d8576b\"],[0.6666666666666666,\"#ed7953\"],[0.7777777777777778,\"#fb9f3a\"],[0.8888888888888888,\"#fdca26\"],[1.0,\"#f0f921\"]]}],\"surface\":[{\"type\":\"surface\",\"colorbar\":{\"outlinewidth\":0,\"ticks\":\"\"},\"colorscale\":[[0.0,\"#0d0887\"],[0.1111111111111111,\"#46039f\"],[0.2222222222222222,\"#7201a8\"],[0.3333333333333333,\"#9c179e\"],[0.4444444444444444,\"#bd3786\"],[0.5555555555555556,\"#d8576b\"],[0.6666666666666666,\"#ed7953\"],[0.7777777777777778,\"#fb9f3a\"],[0.8888888888888888,\"#fdca26\"],[1.0,\"#f0f921\"]]}],\"mesh3d\":[{\"type\":\"mesh3d\",\"colorbar\":{\"outlinewidth\":0,\"ticks\":\"\"}}],\"scatter\":[{\"fillpattern\":{\"fillmode\":\"overlay\",\"size\":10,\"solidity\":0.2},\"type\":\"scatter\"}],\"parcoords\":[{\"type\":\"parcoords\",\"line\":{\"colorbar\":{\"outlinewidth\":0,\"ticks\":\"\"}}}],\"scatterpolargl\":[{\"type\":\"scatterpolargl\",\"marker\":{\"colorbar\":{\"outlinewidth\":0,\"ticks\":\"\"}}}],\"bar\":[{\"error_x\":{\"color\":\"#2a3f5f\"},\"error_y\":{\"color\":\"#2a3f5f\"},\"marker\":{\"line\":{\"color\":\"#E5ECF6\",\"width\":0.5},\"pattern\":{\"fillmode\":\"overlay\",\"size\":10,\"solidity\":0.2}},\"type\":\"bar\"}],\"scattergeo\":[{\"type\":\"scattergeo\",\"marker\":{\"colorbar\":{\"outlinewidth\":0,\"ticks\":\"\"}}}],\"scatterpolar\":[{\"type\":\"scatterpolar\",\"marker\":{\"colorbar\":{\"outlinewidth\":0,\"ticks\":\"\"}}}],\"histogram\":[{\"marker\":{\"pattern\":{\"fillmode\":\"overlay\",\"size\":10,\"solidity\":0.2}},\"type\":\"histogram\"}],\"scattergl\":[{\"type\":\"scattergl\",\"marker\":{\"colorbar\":{\"outlinewidth\":0,\"ticks\":\"\"}}}],\"scatter3d\":[{\"type\":\"scatter3d\",\"line\":{\"colorbar\":{\"outlinewidth\":0,\"ticks\":\"\"}},\"marker\":{\"colorbar\":{\"outlinewidth\":0,\"ticks\":\"\"}}}],\"scattermapbox\":[{\"type\":\"scattermapbox\",\"marker\":{\"colorbar\":{\"outlinewidth\":0,\"ticks\":\"\"}}}],\"scatterternary\":[{\"type\":\"scatterternary\",\"marker\":{\"colorbar\":{\"outlinewidth\":0,\"ticks\":\"\"}}}],\"scattercarpet\":[{\"type\":\"scattercarpet\",\"marker\":{\"colorbar\":{\"outlinewidth\":0,\"ticks\":\"\"}}}],\"carpet\":[{\"aaxis\":{\"endlinecolor\":\"#2a3f5f\",\"gridcolor\":\"white\",\"linecolor\":\"white\",\"minorgridcolor\":\"white\",\"startlinecolor\":\"#2a3f5f\"},\"baxis\":{\"endlinecolor\":\"#2a3f5f\",\"gridcolor\":\"white\",\"linecolor\":\"white\",\"minorgridcolor\":\"white\",\"startlinecolor\":\"#2a3f5f\"},\"type\":\"carpet\"}],\"table\":[{\"cells\":{\"fill\":{\"color\":\"#EBF0F8\"},\"line\":{\"color\":\"white\"}},\"header\":{\"fill\":{\"color\":\"#C8D4E3\"},\"line\":{\"color\":\"white\"}},\"type\":\"table\"}],\"barpolar\":[{\"marker\":{\"line\":{\"color\":\"#E5ECF6\",\"width\":0.5},\"pattern\":{\"fillmode\":\"overlay\",\"size\":10,\"solidity\":0.2}},\"type\":\"barpolar\"}],\"pie\":[{\"automargin\":true,\"type\":\"pie\"}]},\"layout\":{\"autotypenumbers\":\"strict\",\"colorway\":[\"#636efa\",\"#EF553B\",\"#00cc96\",\"#ab63fa\",\"#FFA15A\",\"#19d3f3\",\"#FF6692\",\"#B6E880\",\"#FF97FF\",\"#FECB52\"],\"font\":{\"color\":\"#2a3f5f\"},\"hovermode\":\"closest\",\"hoverlabel\":{\"align\":\"left\"},\"paper_bgcolor\":\"white\",\"plot_bgcolor\":\"#E5ECF6\",\"polar\":{\"bgcolor\":\"#E5ECF6\",\"angularaxis\":{\"gridcolor\":\"white\",\"linecolor\":\"white\",\"ticks\":\"\"},\"radialaxis\":{\"gridcolor\":\"white\",\"linecolor\":\"white\",\"ticks\":\"\"}},\"ternary\":{\"bgcolor\":\"#E5ECF6\",\"aaxis\":{\"gridcolor\":\"white\",\"linecolor\":\"white\",\"ticks\":\"\"},\"baxis\":{\"gridcolor\":\"white\",\"linecolor\":\"white\",\"ticks\":\"\"},\"caxis\":{\"gridcolor\":\"white\",\"linecolor\":\"white\",\"ticks\":\"\"}},\"coloraxis\":{\"colorbar\":{\"outlinewidth\":0,\"ticks\":\"\"}},\"colorscale\":{\"sequential\":[[0.0,\"#0d0887\"],[0.1111111111111111,\"#46039f\"],[0.2222222222222222,\"#7201a8\"],[0.3333333333333333,\"#9c179e\"],[0.4444444444444444,\"#bd3786\"],[0.5555555555555556,\"#d8576b\"],[0.6666666666666666,\"#ed7953\"],[0.7777777777777778,\"#fb9f3a\"],[0.8888888888888888,\"#fdca26\"],[1.0,\"#f0f921\"]],\"sequentialminus\":[[0.0,\"#0d0887\"],[0.1111111111111111,\"#46039f\"],[0.2222222222222222,\"#7201a8\"],[0.3333333333333333,\"#9c179e\"],[0.4444444444444444,\"#bd3786\"],[0.5555555555555556,\"#d8576b\"],[0.6666666666666666,\"#ed7953\"],[0.7777777777777778,\"#fb9f3a\"],[0.8888888888888888,\"#fdca26\"],[1.0,\"#f0f921\"]],\"diverging\":[[0,\"#8e0152\"],[0.1,\"#c51b7d\"],[0.2,\"#de77ae\"],[0.3,\"#f1b6da\"],[0.4,\"#fde0ef\"],[0.5,\"#f7f7f7\"],[0.6,\"#e6f5d0\"],[0.7,\"#b8e186\"],[0.8,\"#7fbc41\"],[0.9,\"#4d9221\"],[1,\"#276419\"]]},\"xaxis\":{\"gridcolor\":\"white\",\"linecolor\":\"white\",\"ticks\":\"\",\"title\":{\"standoff\":15},\"zerolinecolor\":\"white\",\"automargin\":true,\"zerolinewidth\":2},\"yaxis\":{\"gridcolor\":\"white\",\"linecolor\":\"white\",\"ticks\":\"\",\"title\":{\"standoff\":15},\"zerolinecolor\":\"white\",\"automargin\":true,\"zerolinewidth\":2},\"scene\":{\"xaxis\":{\"backgroundcolor\":\"#E5ECF6\",\"gridcolor\":\"white\",\"linecolor\":\"white\",\"showbackground\":true,\"ticks\":\"\",\"zerolinecolor\":\"white\",\"gridwidth\":2},\"yaxis\":{\"backgroundcolor\":\"#E5ECF6\",\"gridcolor\":\"white\",\"linecolor\":\"white\",\"showbackground\":true,\"ticks\":\"\",\"zerolinecolor\":\"white\",\"gridwidth\":2},\"zaxis\":{\"backgroundcolor\":\"#E5ECF6\",\"gridcolor\":\"white\",\"linecolor\":\"white\",\"showbackground\":true,\"ticks\":\"\",\"zerolinecolor\":\"white\",\"gridwidth\":2}},\"shapedefaults\":{\"line\":{\"color\":\"#2a3f5f\"}},\"annotationdefaults\":{\"arrowcolor\":\"#2a3f5f\",\"arrowhead\":0,\"arrowwidth\":1},\"geo\":{\"bgcolor\":\"white\",\"landcolor\":\"#E5ECF6\",\"subunitcolor\":\"white\",\"showland\":true,\"showlakes\":true,\"lakecolor\":\"white\"},\"title\":{\"x\":0.05},\"mapbox\":{\"style\":\"light\"}}},\"xaxis\":{\"anchor\":\"y\",\"domain\":[0.0,1.0],\"matches\":\"x2\",\"showticklabels\":false},\"yaxis\":{\"anchor\":\"x\",\"domain\":[0.2377777777777778,1.0]},\"xaxis2\":{\"anchor\":\"y2\",\"domain\":[0.0,1.0]},\"yaxis2\":{\"anchor\":\"x2\",\"domain\":[0.0,0.21777777777777782]}},                        {\"responsive\": true}                    ).then(function(){\n",
              "                            \n",
              "var gd = document.getElementById('836c3a54-6484-458d-aae6-e3da5b2dfcd7');\n",
              "var x = new MutationObserver(function (mutations, observer) {{\n",
              "        var display = window.getComputedStyle(gd).display;\n",
              "        if (!display || display === 'none') {{\n",
              "            console.log([gd, 'removed!']);\n",
              "            Plotly.purge(gd);\n",
              "            observer.disconnect();\n",
              "        }}\n",
              "}});\n",
              "\n",
              "// Listen for the removal of the full notebook cells\n",
              "var notebookContainer = gd.closest('#notebook-container');\n",
              "if (notebookContainer) {{\n",
              "    x.observe(notebookContainer, {childList: true});\n",
              "}}\n",
              "\n",
              "// Listen for the clearing of the current output cell\n",
              "var outputEl = gd.closest('.output');\n",
              "if (outputEl) {{\n",
              "    x.observe(outputEl, {childList: true});\n",
              "}}\n",
              "\n",
              "                        })                };                            </script>        </div>\n",
              "</body>\n",
              "</html>"
            ]
          },
          "metadata": {}
        }
      ],
      "source": [
        "# OHLCVの表示\n",
        "import plotly.graph_objects as go\n",
        "from plotly.subplots import make_subplots\n",
        "\n",
        "fig = make_subplots(rows=2, cols=1, shared_xaxes=True, vertical_spacing=0.02, row_width=[0.2, 0.7])\n",
        "\n",
        "fig.add_trace(\n",
        "        go.Candlestick(\n",
        "            x=ohlcv['timestamp'],\n",
        "            open=ohlcv['open'],\n",
        "            high=ohlcv['high'],\n",
        "            low=ohlcv['low'],\n",
        "            close=ohlcv['close'],\n",
        "\n",
        "        ),\n",
        "        row=1, col=1\n",
        ")\n",
        "\n",
        "fig.add_trace(\n",
        "        go.Bar(\n",
        "            x=ohlcv['timestamp'],\n",
        "            y=ohlcv['volume'],\n",
        "        ),\n",
        "        row=2, col=1\n",
        ")\n",
        "\n",
        "#fig.update_layout(layout_xaxis_rangeslider_visible=False)\n",
        "\n",
        "fig\n"
      ]
    },
    {
      "cell_type": "markdown",
      "metadata": {
        "id": "aRkeNx_XOoOT"
      },
      "source": [
        "### VAP(Volume At Price)の計算\n",
        "\n",
        "`BinanceMarket#vap`で指定した期間のVAPを計算します。\n",
        "\n",
        "```\n",
        "BinanceMarket#vap(\n",
        "    start_time = 0, # start_time: 開始時刻(UNIX時間[us]) 0の場合はDBにある最初のレコードから\n",
        "    end_time = 0, # end_time:終了時刻(UNIX時間[us]) 0の場合はDBの最終レコードまで\n",
        "    price_unit = 1 #価格をまとめる単位\n",
        ")\n",
        "```"
      ]
    },
    {
      "cell_type": "code",
      "execution_count": 17,
      "metadata": {
        "id": "XDPFUadHOoOT"
      },
      "outputs": [],
      "source": [
        "vap = market.vap(start_time=0, end_time=0, price_unit=1)"
      ]
    },
    {
      "cell_type": "code",
      "execution_count": 18,
      "metadata": {
        "colab": {
          "base_uri": "https://localhost:8080/",
          "height": 882
        },
        "id": "YIQp7AFoOoOT",
        "outputId": "29b22ae7-cee4-4daf-bcfb-1be3cd8a64e4"
      },
      "outputs": [
        {
          "output_type": "execute_result",
          "data": {
            "text/plain": [
              "shape: (941, 4)\n",
              "┌─────────┬────────────┬─────────────┬────────┐\n",
              "│ price   ┆ buy_volume ┆ sell_volume ┆ volume │\n",
              "│ ---     ┆ ---        ┆ ---         ┆ ---    │\n",
              "│ f64     ┆ f64        ┆ f64         ┆ f64    │\n",
              "╞═════════╪════════════╪═════════════╪════════╡\n",
              "│ 69889.0 ┆ 3.034      ┆ 0.306       ┆ 3.34   │\n",
              "│ 69890.0 ┆ 0.0        ┆ 0.92        ┆ 0.92   │\n",
              "│ 69891.0 ┆ 0.002      ┆ 0.085       ┆ 0.087  │\n",
              "│ 69892.0 ┆ 6.778      ┆ 4.999       ┆ 11.777 │\n",
              "│ …       ┆ …          ┆ …           ┆ …      │\n",
              "│ 70826.0 ┆ 1.388      ┆ 0.0         ┆ 1.388  │\n",
              "│ 70827.0 ┆ 0.947      ┆ 0.0         ┆ 0.947  │\n",
              "│ 70828.0 ┆ 0.367      ┆ 0.0         ┆ 0.367  │\n",
              "│ 70829.0 ┆ 0.915      ┆ 0.542       ┆ 1.457  │\n",
              "└─────────┴────────────┴─────────────┴────────┘"
            ],
            "text/html": [
              "<div><style>\n",
              ".dataframe > thead > tr,\n",
              ".dataframe > tbody > tr {\n",
              "  text-align: right;\n",
              "  white-space: pre-wrap;\n",
              "}\n",
              "</style>\n",
              "<small>shape: (941, 4)</small><table border=\"1\" class=\"dataframe\"><thead><tr><th>price</th><th>buy_volume</th><th>sell_volume</th><th>volume</th></tr><tr><td>f64</td><td>f64</td><td>f64</td><td>f64</td></tr></thead><tbody><tr><td>69889.0</td><td>3.034</td><td>0.306</td><td>3.34</td></tr><tr><td>69890.0</td><td>0.0</td><td>0.92</td><td>0.92</td></tr><tr><td>69891.0</td><td>0.002</td><td>0.085</td><td>0.087</td></tr><tr><td>69892.0</td><td>6.778</td><td>4.999</td><td>11.777</td></tr><tr><td>69893.0</td><td>0.701</td><td>0.339</td><td>1.04</td></tr><tr><td>69894.0</td><td>0.0</td><td>0.248</td><td>0.248</td></tr><tr><td>69895.0</td><td>0.0</td><td>0.026</td><td>0.026</td></tr><tr><td>69896.0</td><td>5.37</td><td>0.088</td><td>5.458</td></tr><tr><td>69897.0</td><td>1.279</td><td>1.755</td><td>3.034</td></tr><tr><td>69898.0</td><td>2.317</td><td>5.583</td><td>7.9</td></tr><tr><td>69899.0</td><td>0.305</td><td>1.502</td><td>1.807</td></tr><tr><td>69900.0</td><td>2.132</td><td>4.824</td><td>6.956</td></tr><tr><td>&hellip;</td><td>&hellip;</td><td>&hellip;</td><td>&hellip;</td></tr><tr><td>70818.0</td><td>0.262</td><td>0.004</td><td>0.266</td></tr><tr><td>70819.0</td><td>0.026</td><td>0.052</td><td>0.078</td></tr><tr><td>70820.0</td><td>0.149</td><td>0.011</td><td>0.16</td></tr><tr><td>70821.0</td><td>0.771</td><td>0.0</td><td>0.771</td></tr><tr><td>70822.0</td><td>1.627</td><td>0.007</td><td>1.634</td></tr><tr><td>70823.0</td><td>3.13</td><td>0.0</td><td>3.13</td></tr><tr><td>70824.0</td><td>0.843</td><td>0.312</td><td>1.155</td></tr><tr><td>70825.0</td><td>2.177</td><td>0.0</td><td>2.177</td></tr><tr><td>70826.0</td><td>1.388</td><td>0.0</td><td>1.388</td></tr><tr><td>70827.0</td><td>0.947</td><td>0.0</td><td>0.947</td></tr><tr><td>70828.0</td><td>0.367</td><td>0.0</td><td>0.367</td></tr><tr><td>70829.0</td><td>0.915</td><td>0.542</td><td>1.457</td></tr></tbody></table></div>"
            ]
          },
          "metadata": {},
          "execution_count": 18
        }
      ],
      "source": [
        "vap"
      ]
    },
    {
      "cell_type": "code",
      "execution_count": 19,
      "metadata": {
        "colab": {
          "base_uri": "https://localhost:8080/",
          "height": 542
        },
        "id": "iW65v2JIOoOT",
        "outputId": "1e490778-e4c1-4754-d303-2b511d7810f5"
      },
      "outputs": [
        {
          "output_type": "display_data",
          "data": {
            "text/html": [
              "<html>\n",
              "<head><meta charset=\"utf-8\" /></head>\n",
              "<body>\n",
              "    <div>            <script src=\"https://cdnjs.cloudflare.com/ajax/libs/mathjax/2.7.5/MathJax.js?config=TeX-AMS-MML_SVG\"></script><script type=\"text/javascript\">if (window.MathJax && window.MathJax.Hub && window.MathJax.Hub.Config) {window.MathJax.Hub.Config({SVG: {font: \"STIX-Web\"}});}</script>                <script type=\"text/javascript\">window.PlotlyConfig = {MathJaxConfig: 'local'};</script>\n",
              "        <script charset=\"utf-8\" src=\"https://cdn.plot.ly/plotly-2.24.1.min.js\"></script>                <div id=\"deae7fa7-cbe2-4081-8233-85d35e3849da\" class=\"plotly-graph-div\" style=\"height:525px; width:100%;\"></div>            <script type=\"text/javascript\">                                    window.PLOTLYENV=window.PLOTLYENV || {};                                    if (document.getElementById(\"deae7fa7-cbe2-4081-8233-85d35e3849da\")) {                    Plotly.newPlot(                        \"deae7fa7-cbe2-4081-8233-85d35e3849da\",                        [{\"fill\":\"tozerox\",\"name\":\"sell\",\"x\":[0.30600000000000005,0.92,0.085,4.998999999999997,0.3390000000000001,0.24800000000000003,0.026000000000000002,0.088,1.7550000000000001,5.582999999999999,1.5019999999999998,4.823999999999997,5.986,1.757999999999999,4.8809999999999985,0.8970000000000001,2.9759999999999995,2.083999999999999,2.958999999999999,8.567000000000002,2.9519999999999986,3.1410000000000005,2.7989999999999995,4.5299999999999985,3.2499999999999982,5.0889999999999995,5.587000000000001,1.9999999999999998,3.878,5.052999999999998,5.952,7.187,2.2899999999999996,18.547999999999988,11.658999999999994,5.265999999999998,7.2280000000000015,4.091,2.859999999999998,2.0029999999999992,7.226999999999997,7.790999999999994,2.7799999999999985,5.303999999999999,4.886,9.812999999999994,0.12400000000000001,2.8409999999999993,0.21399999999999997,0.517,0.128,0.523,0.8270000000000001,0.099,0.03,3.1529999999999996,0.036000000000000004,0.06700000000000002,11.774999999999997,0.9320000000000002,8.940999999999994,2.129999999999999,0.3450000000000001,2.6999999999999993,1.043,3.735999999999996,0.6600000000000001,0.436,2.662999999999998,0.24800000000000003,0.9500000000000001,2.6599999999999966,1.337,0.31600000000000006,0.8690000000000001,0.155,0.26800000000000007,0.465,1.7209999999999999,3.7919999999999985,1.176,0.9270000000000002,0.21000000000000002,0.18200000000000002,0.645,1.2689999999999997,0.34700000000000003,0.7600000000000002,1.8230000000000002,0.7650000000000002,1.0849999999999995,2.237,1.2469999999999997,0.28900000000000003,0.9510000000000001,1.256,1.652,2.1959999999999997,0.9190000000000003,8.73199999999999,8.780999999999977,10.735999999999999,17.268,8.706999999999997,3.7969999999999993,3.7889999999999975,1.8059999999999992,16.325999999999972,0.885,3.7890000000000006,10.464000000000002,33.96000000000008,15.157999999999996,1.9489999999999992,11.340999999999998,2.0149999999999997,2.2279999999999998,7.4389999999999965,2.3469999999999995,15.428999999999995,6.320999999999998,25.182000000000013,6.979999999999999,24.846999999999994,8.319999999999997,16.604999999999993,10.337000000000002,7.862999999999999,3.8410000000000006,4.638999999999997,3.8819999999999992,8.741,4.528999999999999,7.214,17.52799999999999,3.785999999999998,1.9559999999999997,4.467999999999998,1.9669999999999996,1.0769999999999997,1.9759999999999995,8.266,5.104999999999998,18.517999999999997,4.186999999999999,5.249000000000001,3.217999999999998,0.832,0.9850000000000003,8.448999999999995,4.670000000000001,21.527,4.4220000000000015,6.7109999999999985,5.105999999999996,2.2439999999999993,2.7309999999999985,6.7470000000000026,4.298,5.201,2.8029999999999986,17.067999999999998,10.794999999999993,10.900999999999998,10.556999999999997,7.8699999999999966,7.845999999999999,4.753999999999998,5.926999999999999,13.920999999999987,9.058,13.649999999999999,7.6450000000000005,7.550999999999995,28.134999999999994,6.199999999999995,3.1879999999999993,6.278999999999997,4.5159999999999965,3.661,6.161999999999996,8.284999999999997,2.5529999999999986,1.1549999999999998,3.885,2.0079999999999987,1.805999999999999,2.283999999999999,8.488999999999994,2.215999999999999,1.9369999999999994,6.547999999999999,7.324000000000002,2.1979999999999986,1.2449999999999997,0.8550000000000002,1.7989999999999993,1.1639999999999995,8.845,1.6499999999999997,2.005999999999999,4.805999999999992,10.444000000000003,4.499999999999998,7.9019999999999975,3.047999999999999,1.155,0.8830000000000001,2.931999999999998,1.0810000000000002,6.2109999999999985,30.586000000000023,16.8,2.9149999999999974,19.144000000000005,10.577999999999996,5.050999999999999,10.356,3.9999999999999987,4.654999999999999,6.221999999999998,14.711999999999982,11.941999999999997,3.4109999999999965,1.8379999999999992,7.582999999999992,12.791999999999994,4.678999999999998,4.607999999999995,6.821999999999997,5.744,8.102999999999994,2.569999999999999,2.873999999999997,4.934,1.501,0.9760000000000002,2.680999999999998,2.5489999999999995,5.085,2.270999999999999,4.479999999999997,13.931,11.544999999999995,11.693999999999994,3.6549999999999994,10.074999999999998,14.457,5.1789999999999985,4.322,11.595999999999993,5.293999999999997,2.5370000000000004,7.804999999999998,1.9819999999999995,8.853999999999992,5.992999999999999,3.449999999999998,10.433,7.045000000000001,5.944999999999996,34.11700000000003,6.815000000000003,1.8349999999999995,1.6319999999999992,2.527999999999999,9.249000000000002,9.201000000000002,8.819999999999993,3.1739999999999964,10.675999999999995,19.135000000000016,4.812999999999998,12.346000000000002,2.0779999999999994,8.339000000000002,5.467999999999996,18.56499999999974,10.831999999999997,4.865999999999998,12.584999999999997,9.382000000000005,6.209999999999996,7.5630000000000015,10.776999999999992,15.230999999999996,12.971,4.819,10.313000000000002,3.5289999999999973,12.227999999999998,10.969999999999988,14.468999999999994,5.7509999999999994,8.021999999999998,3.1519999999999997,5.587999999999999,8.36,9.692999999999996,10.027,4.332,8.004000000000003,6.646000000000001,9.63,4.4799999999999995,2.707,10.986,7.322000000000001,3.532999999999999,3.316999999999999,9.058000000000007,24.527999999999995,10.35999999999999,5.801999999999998,6.984000000000001,10.627999999999995,4.132999999999998,6.008000000000001,7.944,8.987999999999994,10.556,12.808999999999996,13.789999999999996,4.111999999999999,8.379,4.6489999999999965,5.6080000000000005,12.043999999999993,4.545999999999999,7.595999999999999,3.0470000000000006,16.99799999999998,14.018999999999993,10.344,3.5149999999999983,5.608,4.488000000000001,2.9929999999999994,7.178000000000001,7.2499999999999964,9.449999999999992,13.617999999999997,4.238999999999998,5.689,12.560999999999993,8.584,5.409000000000001,10.869999999999994,7.648999999999997,7.418999999999997,6.465999999999999,4.476000000000001,4.4369999999999985,8.298999999999998,8.103,4.038999999999997,7.869,5.157999999999997,1.8290000000000002,4.964999999999999,6.659999999999998,28.794999999999998,9.307999999999991,7.551999999999994,6.475,6.483000000000001,6.494,97.85100000000004,7.605999999999994,29.292000000000034,10.984999999999994,14.442000000000002,3.8399999999999985,4.554999999999997,9.091,8.1,8.584999999999996,8.67699999999999,17.050999999999988,8.384999999999993,4.807,10.70599999999999,8.661,16.464,8.759000000000002,8.364000000000003,17.740999999999996,12.855000000000002,11.037999999999997,15.965999999999994,15.886000000000003,18.96600000000001,16.741999999999997,11.759999999999996,11.851999999999997,12.158999999999997,125.34900000000003,24.09100000000001,12.155999999999988,24.532000000000025,11.857999999999986,15.483999999999988,7.6459999999999955,17.30499999999999,10.517999999999994,4.994999999999998,20.52400000000001,11.47299999999999,7.818999999999996,6.320999999999999,20.35000000000002,47.00400000000003,13.261,7.1030000000000015,6.059000000000001,23.775000000000002,15.973000000000003,13.528999999999991,19.375000000000004,10.276999999999997,21.19199999999998,28.90800000000001,15.434999999999995,14.831999999999995,29.016,17.538000000000004,13.235999999999997,16.327999999999992,20.239999999999995,18.274999999999995,17.214999999999993,44.08599999999997,14.118999999999994,14.409999999999995,31.034000000000006,10.834999999999994,20.35099999999998,16.30500000000001,11.610999999999995,24.642000000000007,6.497,28.588000000000008,24.903000000000034,10.238999999999999,27.212000000000028,21.883999999999983,18.608,16.079999999999995,26.965000000000007,12.292999999999992,16.77399999999999,33.35000000000002,18.589999999999986,25.665999999999986,20.752000000000006,11.914000000000003,25.086000000000002,16.397000000000002,23.06199999999998,24.128000000000007,25.015999999999988,49.66299999999999,25.06399999999999,30.25899999999999,22.150999999999982,22.65499999999998,30.488000000000007,28.705000000000023,28.831000000000014,25.459000000000007,16.441000000000003,26.63300000000005,14.130000000000008,24.116000000000014,18.70199999999997,10.282000000000002,20.619,32.092999999999996,15.994999999999996,32.53099999999998,28.822000000000024,33.34700000000003,24.210000000000043,28.465000000000014,40.092999999999996,21.461999999999996,22.32699999999999,14.503999999999987,30.473000000000013,20.910000000000018,29.108,32.53,28.718999999999983,29.066000000000024,22.261000000000017,43.97699999999995,39.183000000000064,25.767000000000078,14.938999999999995,28.706000000000046,22.87700000000002,57.879999999999995,28.85999999999998,37.92000000000005,27.859000000000016,29.273000000000035,29.246999999999975,18.19699999999999,16.828999999999994,19.44099999999999,39.15300000000004,131.93000000000055,54.103000000000065,23.37900000000002,34.196999999999996,20.479000000000013,20.406000000000006,27.628999999999998,46.64900000000014,16.38599999999999,26.799999999999976,59.26699999999993,43.34900000000003,26.05000000000002,22.34199999999999,25.239000000000008,22.979999999999997,30.20100000000005,19.01,31.34800000000002,31.611999999999995,50.67199999999998,35.402000000000015,30.923000000000012,33.72600000000002,29.17700000000004,27.011,13.31399999999999,23.162999999999993,26.030000000000037,23.75499999999998,77.32800000000006,29.872,48.544000000000004,28.823,47.52399999999999,54.225999999999964,44.90600000000005,38.102,21.241000000000014,30.04900000000003,74.43000000000023,27.14800000000002,44.302999999999976,38.76,24.46200000000002,34.894000000000034,26.912000000000017,40.46200000000002,49.03500000000006,34.27800000000003,55.61300000000005,24.607000000000042,46.6360000000001,43.09299999999998,46.101999999999904,26.967000000000024,50.32000000000005,22.60699999999999,31.225000000000005,41.49000000000008,58.634999999999955,38.410000000000025,26.49100000000002,37.50600000000006,42.75200000000003,26.421999999999993,42.90299999999998,71.28800000000003,18.74399999999999,41.568000000000055,29.059000000000047,24.651000000000007,35.67500000000004,25.215999999999994,22.31399999999999,28.418999999999997,31.62300000000005,18.019999999999996,40.858000000000004,32.96199999999999,49.89800000000001,27.960000000000022,29.431000000000004,23.68,22.94800000000005,15.867999999999999,18.501999999999995,12.992999999999988,22.38400000000003,19.738,29.47999999999997,27.01199999999999,26.898000000000046,32.339000000000034,30.795000000000027,25.633000000000003,8.115999999999994,19.145999999999997,14.046999999999997,33.23700000000002,45.64000000000005,19.002999999999993,27.814000000000007,11.737999999999994,26.06200000000001,17.29999999999999,21.875000000000014,15.677,17.75000000000001,19.186999999999987,14.356999999999985,8.88499999999999,21.38300000000002,25.799,17.939999999999998,20.302999999999987,32.004,20.448000000000015,12.480999999999991,18.71999999999999,47.174999999999876,10.331999999999995,11.130999999999942,28.64000000000071,19.873999999999988,22.118000000000006,13.623999999999992,20.22100000000002,12.81199999999999,22.15500000000001,26.452000000000027,12.259999999999998,15.971999999999996,16.834999999999987,21.226,8.492999999999993,16.397,34.84200000000005,18.766000000000012,28.112000000000005,46.58300000000003,37.346,16.973000000000003,19.818000000000012,28.787999999999997,25.230000000000008,21.208,27.667999999999992,19.221999999999998,20.177999999999997,22.320999999999994,13.374999999999986,13.500999999999989,14.785000000000002,23.979,18.70900000000002,13.576999999999984,21.446000000000005,15.693999999999997,24.30200000000001,16.85,7.741999999999999,22.85000000000001,16.33599999999999,8.084000000000001,17.071999999999996,12.83899999999998,12.738999999999994,20.795,20.95900000000002,32.39200000000003,15.046999999999981,15.703999999999983,18.901000000000007,17.943999999999985,34.71600000000007,19.742999999999995,20.264000000000003,15.67999999999999,34.216,28.303999999999995,10.358999999999995,24.772000000000016,16.738999999999994,13.592999999999988,15.790999999999984,24.440000000000037,17.55900000000001,12.59099999999999,17.819999999999993,17.217999999999996,15.081999999999994,16.960999999999984,6.8029999999999955,7.598999999999998,16.143000000000008,4.669999999999999,8.875999999999998,21.073,17.598000000000006,24.517000000000024,4.965999999999995,10.317999999999998,3.0959999999999956,7.413999999999999,11.092999999999995,19.812000000000005,10.131999999999998,24.429000000000006,15.252999999999991,15.251000000000001,15.912999999999998,14.724999999999985,22.170000000000005,13.61099999999999,18.703000000000003,15.018999999999991,6.562999999999999,12.093999999999996,16.48299999999999,28.816999999999997,14.41099999999999,9.765999999999996,9.865999999999996,9.631999999999998,24.912000000000027,5.968000000000001,6.263000000000001,18.141999999999992,9.674999999999992,15.045999999999987,3.843999999999999,7.383999999999998,7.311999999999992,11.562999999999986,9.983999999999993,10.150999999999994,20.977000000000004,6.132999999999998,7.372999999999997,12.793999999999999,10.044999999999995,8.489999999999998,15.104000000000001,8.034000000000002,19.050999999999988,20.17800000000001,9.131999999999994,18.669000000000008,17.610999999999997,16.97599999999999,8.959999999999996,8.362999999999992,5.434999999999998,5.457999999999993,24.149000000000004,6.072000000000002,23.646,6.985999999999997,13.590999999999989,17.733,12.424000000000003,11.154999999999996,10.434999999999992,11.14,8.330999999999996,13.248999999999995,15.222999999999999,25.200000000000028,3.0960000000000005,9.470999999999997,2.0469999999999993,9.271999999999993,5.660999999999994,6.520999999999993,1.7239999999999998,5.739999999999996,12.899,2.0159999999999987,16.943999999999996,21.894000000000002,2.7819999999999987,7.821000000000003,5.300999999999997,2.481999999999998,3.368999999999998,2.362999999999999,10.15299999999999,12.863999999999995,7.009000000000001,14.829999999999993,7.184999999999997,13.72499999999999,2.949999999999999,7.214999999999995,10.862999999999989,8.322999999999993,8.102000000000004,4.436999999999999,22.665,50.226,7.493999999999996,12.220999999999997,1.0720000000000003,6.034999999999998,5.525,10.217999999999996,8.316999999999995,9.242999999999997,4.544999999999998,7.697000000000003,25.300999999999984,3.046999999999999,7.233999999999999,7.709000000000005,9.765999999999995,11.856999999999998,6.227,7.1739999999999995,8.691999999999993,10.934999999999999,7.045999999999998,27.89099999999998,5.440999999999998,5.642999999999998,13.013999999999998,6.193999999999997,4.373999999999999,3.5089999999999986,6.132000000000001,7.135,5.8549999999999995,5.877,8.044,1.6089999999999993,5.164999999999998,7.2449999999999966,9.024,2.304,3.189,1.5559999999999994,6.029,2.5,2.0149999999999997,4.949999999999998,0.23800000000000004,1.236,1.5669999999999995,3.8259999999999996,1.4729999999999999,6.892999999999997,1.6999999999999982,5.015999999999997,1.9649999999999994,3.1759999999999997,6.274999999999998,0.669,2.374999999999999,3.6899999999999995,8.613999999999999,0.9290000000000003,1.5129999999999995,3.2659999999999987,1.5799999999999996,1.8759999999999997,2.4419999999999984,1.4539999999999995,1.660999999999999,6.816999999999998,3.535999999999999,8.856999999999994,5.790999999999999,1.6869999999999998,3.768999999999997,1.8609999999999995,5.707,4.241,3.832999999999999,1.5649999999999995,3.975,2.201,1.292,11.212,2.923999999999998,2.069999999999998,2.6159999999999997,4.603999999999999,1.6819999999999995,3.6289999999999996,4.202,0.163,0.015,1.4129999999999998,0.17700000000000002,5.339999999999992,1.3729999999999998,0.1,1.3509999999999993,0.6950000000000001,6.162999999999996,1.212,0.7709999999999999,0.573,0.308,0.932,0.297,0.788,0.0,2.4049999999999994,1.059,3.2779999999999987,1.995,0.18000000000000002,0.37700000000000006,0.003,0.0,0.05399999999999999,0.0,0.004,0.052,0.011,0.0,0.007,0.0,0.312,0.0,0.0,0.0,0.0,0.542],\"y\":[69889.0,69890.0,69891.0,69892.0,69893.0,69894.0,69895.0,69896.0,69897.0,69898.0,69899.0,69900.0,69901.0,69902.0,69903.0,69904.0,69905.0,69906.0,69907.0,69908.0,69909.0,69910.0,69911.0,69912.0,69913.0,69914.0,69915.0,69916.0,69917.0,69918.0,69919.0,69920.0,69921.0,69922.0,69923.0,69924.0,69925.0,69926.0,69927.0,69928.0,69929.0,69930.0,69931.0,69932.0,69933.0,69934.0,69935.0,69936.0,69937.0,69938.0,69939.0,69940.0,69941.0,69942.0,69943.0,69944.0,69945.0,69946.0,69947.0,69948.0,69949.0,69950.0,69951.0,69952.0,69953.0,69954.0,69955.0,69956.0,69957.0,69958.0,69959.0,69960.0,69961.0,69962.0,69963.0,69964.0,69965.0,69966.0,69967.0,69968.0,69969.0,69970.0,69971.0,69972.0,69973.0,69974.0,69975.0,69976.0,69977.0,69978.0,69979.0,69980.0,69981.0,69982.0,69983.0,69984.0,69985.0,69986.0,69987.0,69988.0,69989.0,69990.0,69991.0,69992.0,69993.0,69994.0,69995.0,69996.0,69997.0,69998.0,69999.0,70000.0,70001.0,70002.0,70003.0,70004.0,70005.0,70006.0,70007.0,70008.0,70009.0,70010.0,70011.0,70012.0,70013.0,70014.0,70015.0,70016.0,70017.0,70018.0,70019.0,70020.0,70021.0,70022.0,70023.0,70024.0,70025.0,70026.0,70027.0,70028.0,70029.0,70030.0,70031.0,70032.0,70033.0,70034.0,70035.0,70036.0,70037.0,70038.0,70039.0,70040.0,70041.0,70042.0,70043.0,70044.0,70045.0,70046.0,70047.0,70048.0,70049.0,70050.0,70051.0,70052.0,70053.0,70054.0,70055.0,70056.0,70057.0,70058.0,70059.0,70060.0,70061.0,70062.0,70063.0,70064.0,70065.0,70066.0,70067.0,70068.0,70069.0,70070.0,70071.0,70072.0,70073.0,70074.0,70075.0,70076.0,70077.0,70078.0,70079.0,70080.0,70081.0,70082.0,70083.0,70084.0,70085.0,70086.0,70087.0,70088.0,70089.0,70090.0,70091.0,70092.0,70093.0,70094.0,70095.0,70096.0,70097.0,70098.0,70099.0,70100.0,70101.0,70102.0,70103.0,70104.0,70105.0,70106.0,70107.0,70108.0,70109.0,70110.0,70111.0,70112.0,70113.0,70114.0,70115.0,70116.0,70117.0,70118.0,70119.0,70120.0,70121.0,70122.0,70123.0,70124.0,70125.0,70126.0,70127.0,70128.0,70129.0,70130.0,70131.0,70132.0,70133.0,70134.0,70135.0,70136.0,70137.0,70138.0,70139.0,70140.0,70141.0,70142.0,70143.0,70144.0,70145.0,70146.0,70147.0,70148.0,70149.0,70150.0,70151.0,70152.0,70153.0,70154.0,70155.0,70156.0,70157.0,70158.0,70159.0,70160.0,70161.0,70162.0,70163.0,70164.0,70165.0,70166.0,70167.0,70168.0,70169.0,70170.0,70171.0,70172.0,70173.0,70174.0,70175.0,70176.0,70177.0,70178.0,70179.0,70180.0,70181.0,70182.0,70183.0,70184.0,70185.0,70186.0,70187.0,70188.0,70189.0,70190.0,70191.0,70192.0,70193.0,70194.0,70195.0,70196.0,70197.0,70198.0,70199.0,70200.0,70201.0,70202.0,70203.0,70204.0,70205.0,70206.0,70207.0,70208.0,70209.0,70210.0,70211.0,70212.0,70213.0,70214.0,70215.0,70216.0,70217.0,70218.0,70219.0,70220.0,70221.0,70222.0,70223.0,70224.0,70225.0,70226.0,70227.0,70228.0,70229.0,70230.0,70231.0,70232.0,70233.0,70234.0,70235.0,70236.0,70237.0,70238.0,70239.0,70240.0,70241.0,70242.0,70243.0,70244.0,70245.0,70246.0,70247.0,70248.0,70249.0,70250.0,70251.0,70252.0,70253.0,70254.0,70255.0,70256.0,70257.0,70258.0,70259.0,70260.0,70261.0,70262.0,70263.0,70264.0,70265.0,70266.0,70267.0,70268.0,70269.0,70270.0,70271.0,70272.0,70273.0,70274.0,70275.0,70276.0,70277.0,70278.0,70279.0,70280.0,70281.0,70282.0,70283.0,70284.0,70285.0,70286.0,70287.0,70288.0,70289.0,70290.0,70291.0,70292.0,70293.0,70294.0,70295.0,70296.0,70297.0,70298.0,70299.0,70300.0,70301.0,70302.0,70303.0,70304.0,70305.0,70306.0,70307.0,70308.0,70309.0,70310.0,70311.0,70312.0,70313.0,70314.0,70315.0,70316.0,70317.0,70318.0,70319.0,70320.0,70321.0,70322.0,70323.0,70324.0,70325.0,70326.0,70327.0,70328.0,70329.0,70330.0,70331.0,70332.0,70333.0,70334.0,70335.0,70336.0,70337.0,70338.0,70339.0,70340.0,70341.0,70342.0,70343.0,70344.0,70345.0,70346.0,70347.0,70348.0,70349.0,70350.0,70351.0,70352.0,70353.0,70354.0,70355.0,70356.0,70357.0,70358.0,70359.0,70360.0,70361.0,70362.0,70363.0,70364.0,70365.0,70366.0,70367.0,70368.0,70369.0,70370.0,70371.0,70372.0,70373.0,70374.0,70375.0,70376.0,70377.0,70378.0,70379.0,70380.0,70381.0,70382.0,70383.0,70384.0,70385.0,70386.0,70387.0,70388.0,70389.0,70390.0,70391.0,70392.0,70393.0,70394.0,70395.0,70396.0,70397.0,70398.0,70399.0,70400.0,70401.0,70402.0,70403.0,70404.0,70405.0,70406.0,70407.0,70408.0,70409.0,70410.0,70411.0,70412.0,70413.0,70414.0,70415.0,70416.0,70417.0,70418.0,70419.0,70420.0,70421.0,70422.0,70423.0,70424.0,70425.0,70426.0,70427.0,70428.0,70429.0,70430.0,70431.0,70432.0,70433.0,70434.0,70435.0,70436.0,70437.0,70438.0,70439.0,70440.0,70441.0,70442.0,70443.0,70444.0,70445.0,70446.0,70447.0,70448.0,70449.0,70450.0,70451.0,70452.0,70453.0,70454.0,70455.0,70456.0,70457.0,70458.0,70459.0,70460.0,70461.0,70462.0,70463.0,70464.0,70465.0,70466.0,70467.0,70468.0,70469.0,70470.0,70471.0,70472.0,70473.0,70474.0,70475.0,70476.0,70477.0,70478.0,70479.0,70480.0,70481.0,70482.0,70483.0,70484.0,70485.0,70486.0,70487.0,70488.0,70489.0,70490.0,70491.0,70492.0,70493.0,70494.0,70495.0,70496.0,70497.0,70498.0,70499.0,70500.0,70501.0,70502.0,70503.0,70504.0,70505.0,70506.0,70507.0,70508.0,70509.0,70510.0,70511.0,70512.0,70513.0,70514.0,70515.0,70516.0,70517.0,70518.0,70519.0,70520.0,70521.0,70522.0,70523.0,70524.0,70525.0,70526.0,70527.0,70528.0,70529.0,70530.0,70531.0,70532.0,70533.0,70534.0,70535.0,70536.0,70537.0,70538.0,70539.0,70540.0,70541.0,70542.0,70543.0,70544.0,70545.0,70546.0,70547.0,70548.0,70549.0,70550.0,70551.0,70552.0,70553.0,70554.0,70555.0,70556.0,70557.0,70558.0,70559.0,70560.0,70561.0,70562.0,70563.0,70564.0,70565.0,70566.0,70567.0,70568.0,70569.0,70570.0,70571.0,70572.0,70573.0,70574.0,70575.0,70576.0,70577.0,70578.0,70579.0,70580.0,70581.0,70582.0,70583.0,70584.0,70585.0,70586.0,70587.0,70588.0,70589.0,70590.0,70591.0,70592.0,70593.0,70594.0,70595.0,70596.0,70597.0,70598.0,70599.0,70600.0,70601.0,70602.0,70603.0,70604.0,70605.0,70606.0,70607.0,70608.0,70609.0,70610.0,70611.0,70612.0,70613.0,70614.0,70615.0,70616.0,70617.0,70618.0,70619.0,70620.0,70621.0,70622.0,70623.0,70624.0,70625.0,70626.0,70627.0,70628.0,70629.0,70630.0,70631.0,70632.0,70633.0,70634.0,70635.0,70636.0,70637.0,70638.0,70639.0,70640.0,70641.0,70642.0,70643.0,70644.0,70645.0,70646.0,70647.0,70648.0,70649.0,70650.0,70651.0,70652.0,70653.0,70654.0,70655.0,70656.0,70657.0,70658.0,70659.0,70660.0,70661.0,70662.0,70663.0,70664.0,70665.0,70666.0,70667.0,70668.0,70669.0,70670.0,70671.0,70672.0,70673.0,70674.0,70675.0,70676.0,70677.0,70678.0,70679.0,70680.0,70681.0,70682.0,70683.0,70684.0,70685.0,70686.0,70687.0,70688.0,70689.0,70690.0,70691.0,70692.0,70693.0,70694.0,70695.0,70696.0,70697.0,70698.0,70699.0,70700.0,70701.0,70702.0,70703.0,70704.0,70705.0,70706.0,70707.0,70708.0,70709.0,70710.0,70711.0,70712.0,70713.0,70714.0,70715.0,70716.0,70717.0,70718.0,70719.0,70720.0,70721.0,70722.0,70723.0,70724.0,70725.0,70726.0,70727.0,70728.0,70729.0,70730.0,70731.0,70732.0,70733.0,70734.0,70735.0,70736.0,70737.0,70738.0,70739.0,70740.0,70741.0,70742.0,70743.0,70744.0,70745.0,70746.0,70747.0,70748.0,70749.0,70750.0,70751.0,70752.0,70753.0,70754.0,70755.0,70756.0,70757.0,70758.0,70759.0,70760.0,70761.0,70762.0,70763.0,70764.0,70765.0,70766.0,70767.0,70768.0,70769.0,70770.0,70771.0,70772.0,70773.0,70774.0,70775.0,70776.0,70777.0,70778.0,70779.0,70780.0,70781.0,70782.0,70783.0,70784.0,70785.0,70786.0,70787.0,70788.0,70789.0,70790.0,70791.0,70792.0,70793.0,70794.0,70795.0,70796.0,70797.0,70798.0,70799.0,70800.0,70801.0,70802.0,70803.0,70804.0,70805.0,70806.0,70807.0,70808.0,70809.0,70810.0,70811.0,70812.0,70813.0,70814.0,70815.0,70816.0,70817.0,70818.0,70819.0,70820.0,70821.0,70822.0,70823.0,70824.0,70825.0,70826.0,70827.0,70828.0,70829.0],\"type\":\"scatter\"},{\"fill\":\"tonextx\",\"name\":\"buy\",\"x\":[3.339999999999999,0.92,0.08700000000000001,11.776999999999994,1.04,0.24800000000000003,0.026000000000000002,5.458000000000001,3.034,7.899999999999999,1.807,6.955999999999997,6.752,3.4049999999999985,5.027999999999999,1.0220000000000002,2.9759999999999995,2.5419999999999994,2.958999999999999,8.693000000000001,3.6259999999999986,3.9970000000000008,2.8559999999999994,5.389999999999999,5.463999999999997,6.3709999999999996,5.954000000000001,2.693,6.034,5.657999999999998,7.139,12.352,2.4619999999999997,19.591999999999988,16.48999999999999,6.4739999999999975,7.500000000000002,5.184,4.402999999999997,2.781999999999999,8.070999999999996,9.950999999999993,3.671999999999999,6.385999999999999,5.4350000000000005,14.487999999999992,0.12400000000000001,6.688999999999998,0.21599999999999997,1.089,0.28600000000000003,0.547,1.513,0.101,0.06,3.6149999999999998,0.9600000000000001,1.149,12.574999999999998,1.8410000000000002,12.662999999999993,4.716999999999999,0.9090000000000001,5.821999999999997,1.6789999999999998,5.000999999999996,0.7430000000000001,0.479,4.931999999999997,0.45600000000000007,0.9770000000000001,2.8639999999999968,1.444,0.4650000000000001,1.7350000000000003,0.232,1.1750000000000003,0.56,3.1069999999999998,3.9569999999999985,1.299,1.5010000000000003,0.8670000000000002,0.267,0.88,1.6779999999999997,0.587,0.9240000000000003,1.9250000000000003,1.0440000000000003,1.1429999999999996,6.018999999999999,1.2669999999999997,0.963,1.3490000000000002,3.6719999999999997,3.077,2.6359999999999997,1.8170000000000004,14.280999999999988,11.378999999999978,14.032,18.314,10.182999999999996,5.710999999999999,7.753999999999998,6.7669999999999995,24.85699999999997,2.872,5.6240000000000006,21.027,68.77300000000012,17.743999999999996,3.169999999999999,14.837999999999996,3.794999999999999,2.635,10.684999999999995,4.536,23.72099999999999,11.156999999999996,36.68799999999992,19.653000000000006,42.91400000000003,11.795999999999976,26.820000000000192,13.873,12.436,4.057,11.921999999999997,7.844999999999998,12.008999999999997,5.589999999999999,8.402000000000001,18.77799999999999,6.154999999999999,3.031999999999999,8.700999999999997,4.999999999999999,1.4689999999999999,2.1479999999999997,11.724999999999998,6.343999999999998,24.56199999999999,4.8759999999999994,6.334000000000001,12.060999999999993,4.7620000000000005,2.2350000000000003,18.397999999999993,5.687000000000001,21.672,4.660000000000002,7.629999999999998,8.559999999999995,10.76,4.257999999999999,10.705000000000004,7.916,15.974000000000004,5.423999999999998,29.618999999999986,14.82599999999999,13.679999999999998,24.686999999999998,13.707999999999995,11.357999999999997,12.108999999999995,7.401999999999998,26.675999999999988,21.322999999999993,35.172999999999995,12.806999999999999,15.138999999999992,33.17999999999999,16.98699999999999,8.021999999999998,15.222999999999992,14.828000000000554,10.073000000000093,14.334000000000124,11.914999999999988,16.480999999999995,4.07,5.211,4.671999999999997,3.976999999999972,10.465000000000115,12.681999999999992,7.131999999999996,3.494999999999999,16.917999999999996,15.288,5.871999999999997,3.3059999999999996,2.8969999999999994,8.163999999999996,8.299999999999997,12.09,3.8099999999999987,4.807999999999998,18.734999999999992,15.545000000000002,6.242999999999998,11.967999999999998,19.665999999999997,6.0349999999999975,9.253,8.681999999999997,2.155,12.777999999999995,50.054,26.816,7.163999999999995,37.03200000000001,24.46999999999999,8.136,17.012,9.316000000000004,10.129999999999999,11.591999999999995,21.507999999999978,15.389999999999995,19.842999999999993,4.675,16.364999999999984,37.664,16.347999999999995,29.67299999999998,21.040999999999997,11.209,16.449999999999996,4.368999999999997,5.531999999999996,16.069000000000234,5.390999999999995,4.512999999999999,12.049999999999994,9.52,7.526,9.426,13.681999999999988,32.56600000000001,15.50699999999999,17.850999999999992,5.458999999999999,21.296000000000003,20.552999999999997,18.775999999999996,7.728999999999999,18.968999999999987,23.770000000000007,9.772,26.955,5.398999999999998,19.582999999999984,23.718999999999998,8.502999999999993,23.884999999999998,15.202000000000233,16.526999999999994,51.59800000000003,14.077000000000002,11.527,4.631999999999999,8.989999999999998,16.706000000000017,14.334000000000001,18.889999999999993,9.18699999999999,19.200999999999993,31.200000000000017,5.329999999999998,19.271,5.066999999999999,8.821000000000002,9.259999999999994,29.897999999999733,16.721999999999994,6.758999999999998,14.348999999999997,20.685000000000002,10.276999999999994,9.442000000000002,18.98899999999999,36.08600000000002,16.396,10.651999999999996,13.186000000000002,5.247999999999996,16.156999999999996,31.382999999999996,17.667999999999992,9.148,10.955999999999998,7.287999999999997,6.799999999999999,11.873999999999999,11.210999999999997,11.306999999999999,10.908,15.150000000000006,15.139999999999999,15.666,5.396,8.048000000000002,15.517,10.536000000000001,5.4209999999999985,5.1789999999999985,14.467000000000006,43.01,19.85099999999998,8.936999999999998,11.014999999999999,15.868999999999996,5.665999999999999,12.002999999999997,10.424,17.798000000000002,14.311999999999998,17.61199999999999,22.85499999999999,11.310999999999998,10.770999999999999,10.879999999999995,12.510000000000002,21.446999999999996,9.508999999999997,12.330999999999996,21.551999999999992,33.723,22.960999999999984,20.462000000000003,12.092,11.593,12.304000000000002,8.037999999999997,9.102,12.829999999999995,12.52999999999999,24.680999999999997,23.145,8.120000000000001,14.332999999999993,14.629999999999997,8.531,15.053999999999993,14.741,22.797000000000004,24.930000000000007,19.285,9.923999999999996,17.841999999999995,14.425999999999997,9.710999999999997,23.502,14.636999999999983,7.267999999999999,12.201,12.377999999999997,44.925,14.50399999999999,11.017999999999994,18.858999999999995,12.193999999999999,13.296999999999993,109.43900000000004,12.90399999999999,32.631000000000036,19.02599999999999,39.73100000000004,8.698999999999993,14.504999999999992,21.318999999999992,13.708,19.69099999999999,18.17599999999998,23.663999999999984,16.38099999999999,13.332999999999995,25.856999999999985,17.458999999999996,28.32999999999999,15.214,20.348999999999997,30.796,26.422999999999988,23.666000000000004,33.66999999999999,24.989000000000004,36.47300000000001,24.623999999999995,18.894999999999996,19.53899999999999,19.820999999999998,136.50000000000003,44.391000000000034,21.30999999999999,38.059000000000005,22.93499999999998,35.60499999999999,28.259000000000007,26.307999999999986,23.033999999999985,16.23199999999998,39.16900000000003,20.946999999999992,23.118999999999996,16.80299999999999,46.13100000000001,94.31100000000006,17.265,19.778999999999996,23.617999999999977,33.858999999999995,25.146999999999995,34.80499999999998,28.633999999999993,24.499999999999982,40.30499999999997,54.57800000000001,28.50400000000001,35.34799999999999,42.17699999999999,36.583999999999996,26.15399999999999,29.037999999999982,30.734999999999985,34.27199999999999,53.52299999999998,86.75099999999998,22.979999999999986,32.413,52.55899999999999,25.39899999999998,32.01899999999996,36.364999999999995,32.322999999999986,45.385000000000005,38.91299999999998,65.214,48.229000000000035,31.829,48.50900000000003,42.61599999999999,34.048,38.57200000000003,47.681999999999995,29.238,44.76999999999998,75.64800000000004,40.26000000000002,44.39399999999998,71.67400000000006,51.65899999999999,46.297000000000004,37.961,42.71099999999997,51.44800000000001,41.51399999999998,107.2760000000001,37.410999999999966,50.115999999999985,46.06699999999998,34.65399999999997,37.332,39.65100000000002,38.608000000000004,46.93600000000002,44.554000000000016,56.79500000000007,36.94500000000001,47.147000000000006,36.352999999999945,25.736999999999995,40.122999999999976,52.464,46.062000000000026,63.723000000000056,44.48300000000002,76.68800000000007,50.47300000000004,44.723,71.26000000000002,58.93300000000001,54.84300000000001,43.638999999999996,50.33300000000001,49.633000000000024,48.86600000000001,67.07700000000001,45.57899999999998,57.028000000000034,49.724000000000004,70.28199999999995,70.30800000000008,40.058000000000064,39.44699999999998,68.13600000000005,76.31000000000002,112.45199999999994,44.46399999999998,62.18100000000007,48.941,54.73800000000007,49.84699999999998,47.60600000000004,35.606,53.414,60.802000000000035,220.57400000000104,87.67500000000011,40.98200000000003,70.89900000000004,44.51700000000003,46.736999999999995,76.262,89.40100000000018,67.505,52.75299999999999,110.13699999999987,69.71100000000001,53.45900000000006,47.78899999999999,58.664000000000016,58.67800000000002,79.78800000000007,39.102999999999994,53.029000000000025,65.82800000000002,89.77799999999998,80.043,64.78099999999999,60.62500000000002,64.17400000000004,61.71200000000003,29.062999999999963,51.583,54.73300000000005,39.72699999999995,114.35700000000008,58.20000000000003,87.714,59.402,105.33200000000004,94.91200000000002,84.51600000000013,69.05199999999999,74.61999999999992,49.73200000000003,133.1770000000003,57.805000000000035,96.72099999999995,79.13800000000003,74.65799999999996,65.52400000000004,47.54400000000004,68.32500000000002,79.84200000000011,65.80500000000002,128.9500000000001,50.182000000000045,75.85900000000018,68.95699999999997,74.02499999999993,67.64200000000002,102.52299999999998,59.54999999999997,60.52200000000004,86.23200000000008,122.79300000000003,57.48300000000004,45.576000000000015,68.75700000000008,86.69200000000004,48.50099999999999,77.66599999999997,118.875,46.32599999999999,80.85500000000008,96.54400000000007,56.24000000000002,62.16300000000004,67.11299999999994,59.57099999999993,46.95599999999998,53.66100000000006,61.53700000000001,88.87800000000007,67.49099999999996,127.61800000000005,66.37600000000003,50.730999999999995,54.138000000000005,67.65000000000003,36.06399999999998,41.611000000000104,28.58999999999968,53.48200000000005,34.48199999999998,92.3679999999999,58.61000000000003,49.159000000000084,51.14600000000007,62.08900000000006,49.609,30.12700000000001,40.94700000000002,37.774,63.14000000000004,221.67400000000023,38.53699999999999,55.801,16.796999999999993,52.53500000000003,28.884999999999977,44.637000000000036,30.115999999999993,29.23400000000001,38.246999999999986,41.513999999999996,18.11699999999999,33.648,42.92099999999999,35.126000000000005,38.93600000000001,57.92500000000001,38.114000000000004,35.422000000000004,39.078,93.41599999999991,21.360999999999997,16.251999999999942,53.0480000000007,29.364999999999974,31.757,31.381,40.664000000000044,34.81500000000004,31.551000000000005,72.36800000000005,29.402,42.56100000000002,40.658000000000015,45.35900000000002,23.529999999999994,40.46100000000001,76.14000000000007,37.72500000000001,63.315000000000026,91.11200000000002,63.195999999999984,50.81000000000002,54.704000000000015,59.19600000000002,49.24200000000001,32.84999999999998,51.068999999999996,33.614,38.968000000000025,57.75700000000006,45.39000000000001,36.05399999999999,30.29800000000001,54.265,58.18400000000007,32.50999999999998,35.90399999999999,33.58500000000001,48.251000000000026,55.458000000000006,23.978999999999992,44.02900000000004,24.053999999999988,21.038999999999987,51.01400000000002,34.909000000000006,30.215999999999983,75.75899999999999,33.68700000000001,53.556000000000026,48.296000000000014,35.835999999999984,28.659000000000006,53.36099999999999,60.450000000000074,42.22600000000003,44.377,37.02300000000002,49.425999999999995,73.91899999999997,18.849999999999987,46.54900000000003,33.442999999999984,24.872999999999983,25.364999999999977,45.49700000000004,25.85500000000001,25.64299999999998,33.69199999999999,51.45,23.510999999999992,32.550999999999966,23.292999999999992,16.624000000000002,26.581000000000003,22.576999999999995,33.155999999999985,31.98299999999999,27.188000000000002,91.5039999999999,24.55399999999999,16.734999999999996,13.355999999999995,13.317999999999998,16.75999999999999,29.515000000000008,45.02500000000002,30.787000000000003,30.91599999999999,52.44600000000001,24.717999999999996,22.435999999999982,39.788000000000004,28.793999999999986,31.209999999999994,26.40799999999998,18.21699999999999,25.58999999999999,58.18500000000005,80.58399999999999,36.94499999999999,26.559999999999995,14.472999999999995,31.498999999999995,39.03900000000002,14.591999999999995,18.094999999999995,27.65299999999999,16.428999999999988,41.641999999999975,24.024999999999995,16.30199999999999,14.97699999999999,24.869999999999983,26.421999999999983,23.974999999999987,36.43299999999999,19.22599999999999,24.674,38.416,21.932999999999993,18.93499999999999,30.610999999999994,21.06800000000001,36.252999999999986,28.83100000000001,22.094999999999988,30.993999999999996,22.871999999999996,40.99300000000001,22.729999999999993,25.318999999999974,15.888999999999992,25.298999999999992,47.824,22.160999999999994,43.39399999999999,25.813999999999997,40.034,60.11600000000004,26.976999999999997,26.152999999999984,20.569999999999993,21.62099999999999,14.646999999999991,24.84199999999997,27.444999999999986,31.593000000000025,11.600999999999997,31.371000000000006,7.545,27.834000000000003,14.392999999999995,22.881,7.309999999999997,15.14599999999999,27.273999999999987,9.125999999999996,25.879999999999992,72.21600000000001,9.028999999999996,14.876999999999999,15.252999999999993,20.837000000000007,12.453,20.796999999999997,27.60199999999997,32.82199999999999,17.255000000000003,46.72400000000004,15.412999999999997,27.19099999999998,15.581999999999997,22.47499999999998,28.360999999999983,20.74699999999999,14.14,16.092,39.954999999999984,211.65000000000012,19.849999999999984,24.86399999999999,11.733999999999998,23.235999999999997,28.528000000000006,25.212999999999987,22.204999999999988,24.98099999999998,12.507999999999997,22.161999999999992,42.66899999999997,11.548999999999992,13.634999999999998,18.08999999999999,20.055999999999987,24.481999999999996,9.945999999999998,20.022,15.887999999999991,23.306999999999984,13.189999999999998,34.44699999999998,8.781999999999996,11.611999999999995,18.779999999999998,17.85799999999999,18.80999999999996,10.101999999999997,14.249999999999993,22.502,11.948999999999995,13.516000000000002,25.97,5.954,9.423999999999996,16.249999999999993,20.880999999999993,7.276,5.860999999999999,8.687,14.21599999999999,10.809999999999999,5.948999999999999,15.897999999999989,3.1940000000000004,6.898999999999999,7.18,14.157999999999998,7.2139999999999995,19.817999999999977,6.350999999999996,8.044999999999998,3.497999999999999,5.298,9.780999999999995,2.3569999999999993,7.203999999999997,13.517999999999997,14.733,8.158999999999999,6.778999999999998,9.038999999999998,5.330999999999998,3.639999999999999,7.063999999999997,8.278999999999996,7.829999999999997,22.170000000000005,12.376000000000003,25.763000000000005,9.820999999999998,5.337,15.010999999999997,15.85300000000001,18.028000000000002,10.893999999999998,18.851999999999997,6.244999999999998,13.013999999999994,27.705000000000002,4.617,15.336999999999998,3.685999999999998,4.365999999999996,6.6979999999999995,15.379999999999997,6.342999999999999,6.048999999999998,19.725000000000005,11.453000000000001,3.0269999999999997,5.188999999999998,2.394999999999999,10.044999999999995,7.164999999999997,1.9579999999999997,4.905999999999998,9.401999999999996,11.630999999999995,11.994000000000003,5.618999999999999,4.4559999999999995,3.5800000000000005,7.324999999999998,4.9159999999999995,4.674999999999999,2.6969999999999996,13.799,3.6239999999999997,7.4659999999999975,6.191,4.021999999999999,2.3590000000000004,0.9980000000000001,2.521,1.1729999999999998,0.007,0.266,0.078,0.16000000000000003,0.771,1.634,3.1299999999999994,1.155,2.176999999999999,1.3879999999999995,0.947,0.36700000000000005,1.4569999999999999],\"y\":[69889.0,69890.0,69891.0,69892.0,69893.0,69894.0,69895.0,69896.0,69897.0,69898.0,69899.0,69900.0,69901.0,69902.0,69903.0,69904.0,69905.0,69906.0,69907.0,69908.0,69909.0,69910.0,69911.0,69912.0,69913.0,69914.0,69915.0,69916.0,69917.0,69918.0,69919.0,69920.0,69921.0,69922.0,69923.0,69924.0,69925.0,69926.0,69927.0,69928.0,69929.0,69930.0,69931.0,69932.0,69933.0,69934.0,69935.0,69936.0,69937.0,69938.0,69939.0,69940.0,69941.0,69942.0,69943.0,69944.0,69945.0,69946.0,69947.0,69948.0,69949.0,69950.0,69951.0,69952.0,69953.0,69954.0,69955.0,69956.0,69957.0,69958.0,69959.0,69960.0,69961.0,69962.0,69963.0,69964.0,69965.0,69966.0,69967.0,69968.0,69969.0,69970.0,69971.0,69972.0,69973.0,69974.0,69975.0,69976.0,69977.0,69978.0,69979.0,69980.0,69981.0,69982.0,69983.0,69984.0,69985.0,69986.0,69987.0,69988.0,69989.0,69990.0,69991.0,69992.0,69993.0,69994.0,69995.0,69996.0,69997.0,69998.0,69999.0,70000.0,70001.0,70002.0,70003.0,70004.0,70005.0,70006.0,70007.0,70008.0,70009.0,70010.0,70011.0,70012.0,70013.0,70014.0,70015.0,70016.0,70017.0,70018.0,70019.0,70020.0,70021.0,70022.0,70023.0,70024.0,70025.0,70026.0,70027.0,70028.0,70029.0,70030.0,70031.0,70032.0,70033.0,70034.0,70035.0,70036.0,70037.0,70038.0,70039.0,70040.0,70041.0,70042.0,70043.0,70044.0,70045.0,70046.0,70047.0,70048.0,70049.0,70050.0,70051.0,70052.0,70053.0,70054.0,70055.0,70056.0,70057.0,70058.0,70059.0,70060.0,70061.0,70062.0,70063.0,70064.0,70065.0,70066.0,70067.0,70068.0,70069.0,70070.0,70071.0,70072.0,70073.0,70074.0,70075.0,70076.0,70077.0,70078.0,70079.0,70080.0,70081.0,70082.0,70083.0,70084.0,70085.0,70086.0,70087.0,70088.0,70089.0,70090.0,70091.0,70092.0,70093.0,70094.0,70095.0,70096.0,70097.0,70098.0,70099.0,70100.0,70101.0,70102.0,70103.0,70104.0,70105.0,70106.0,70107.0,70108.0,70109.0,70110.0,70111.0,70112.0,70113.0,70114.0,70115.0,70116.0,70117.0,70118.0,70119.0,70120.0,70121.0,70122.0,70123.0,70124.0,70125.0,70126.0,70127.0,70128.0,70129.0,70130.0,70131.0,70132.0,70133.0,70134.0,70135.0,70136.0,70137.0,70138.0,70139.0,70140.0,70141.0,70142.0,70143.0,70144.0,70145.0,70146.0,70147.0,70148.0,70149.0,70150.0,70151.0,70152.0,70153.0,70154.0,70155.0,70156.0,70157.0,70158.0,70159.0,70160.0,70161.0,70162.0,70163.0,70164.0,70165.0,70166.0,70167.0,70168.0,70169.0,70170.0,70171.0,70172.0,70173.0,70174.0,70175.0,70176.0,70177.0,70178.0,70179.0,70180.0,70181.0,70182.0,70183.0,70184.0,70185.0,70186.0,70187.0,70188.0,70189.0,70190.0,70191.0,70192.0,70193.0,70194.0,70195.0,70196.0,70197.0,70198.0,70199.0,70200.0,70201.0,70202.0,70203.0,70204.0,70205.0,70206.0,70207.0,70208.0,70209.0,70210.0,70211.0,70212.0,70213.0,70214.0,70215.0,70216.0,70217.0,70218.0,70219.0,70220.0,70221.0,70222.0,70223.0,70224.0,70225.0,70226.0,70227.0,70228.0,70229.0,70230.0,70231.0,70232.0,70233.0,70234.0,70235.0,70236.0,70237.0,70238.0,70239.0,70240.0,70241.0,70242.0,70243.0,70244.0,70245.0,70246.0,70247.0,70248.0,70249.0,70250.0,70251.0,70252.0,70253.0,70254.0,70255.0,70256.0,70257.0,70258.0,70259.0,70260.0,70261.0,70262.0,70263.0,70264.0,70265.0,70266.0,70267.0,70268.0,70269.0,70270.0,70271.0,70272.0,70273.0,70274.0,70275.0,70276.0,70277.0,70278.0,70279.0,70280.0,70281.0,70282.0,70283.0,70284.0,70285.0,70286.0,70287.0,70288.0,70289.0,70290.0,70291.0,70292.0,70293.0,70294.0,70295.0,70296.0,70297.0,70298.0,70299.0,70300.0,70301.0,70302.0,70303.0,70304.0,70305.0,70306.0,70307.0,70308.0,70309.0,70310.0,70311.0,70312.0,70313.0,70314.0,70315.0,70316.0,70317.0,70318.0,70319.0,70320.0,70321.0,70322.0,70323.0,70324.0,70325.0,70326.0,70327.0,70328.0,70329.0,70330.0,70331.0,70332.0,70333.0,70334.0,70335.0,70336.0,70337.0,70338.0,70339.0,70340.0,70341.0,70342.0,70343.0,70344.0,70345.0,70346.0,70347.0,70348.0,70349.0,70350.0,70351.0,70352.0,70353.0,70354.0,70355.0,70356.0,70357.0,70358.0,70359.0,70360.0,70361.0,70362.0,70363.0,70364.0,70365.0,70366.0,70367.0,70368.0,70369.0,70370.0,70371.0,70372.0,70373.0,70374.0,70375.0,70376.0,70377.0,70378.0,70379.0,70380.0,70381.0,70382.0,70383.0,70384.0,70385.0,70386.0,70387.0,70388.0,70389.0,70390.0,70391.0,70392.0,70393.0,70394.0,70395.0,70396.0,70397.0,70398.0,70399.0,70400.0,70401.0,70402.0,70403.0,70404.0,70405.0,70406.0,70407.0,70408.0,70409.0,70410.0,70411.0,70412.0,70413.0,70414.0,70415.0,70416.0,70417.0,70418.0,70419.0,70420.0,70421.0,70422.0,70423.0,70424.0,70425.0,70426.0,70427.0,70428.0,70429.0,70430.0,70431.0,70432.0,70433.0,70434.0,70435.0,70436.0,70437.0,70438.0,70439.0,70440.0,70441.0,70442.0,70443.0,70444.0,70445.0,70446.0,70447.0,70448.0,70449.0,70450.0,70451.0,70452.0,70453.0,70454.0,70455.0,70456.0,70457.0,70458.0,70459.0,70460.0,70461.0,70462.0,70463.0,70464.0,70465.0,70466.0,70467.0,70468.0,70469.0,70470.0,70471.0,70472.0,70473.0,70474.0,70475.0,70476.0,70477.0,70478.0,70479.0,70480.0,70481.0,70482.0,70483.0,70484.0,70485.0,70486.0,70487.0,70488.0,70489.0,70490.0,70491.0,70492.0,70493.0,70494.0,70495.0,70496.0,70497.0,70498.0,70499.0,70500.0,70501.0,70502.0,70503.0,70504.0,70505.0,70506.0,70507.0,70508.0,70509.0,70510.0,70511.0,70512.0,70513.0,70514.0,70515.0,70516.0,70517.0,70518.0,70519.0,70520.0,70521.0,70522.0,70523.0,70524.0,70525.0,70526.0,70527.0,70528.0,70529.0,70530.0,70531.0,70532.0,70533.0,70534.0,70535.0,70536.0,70537.0,70538.0,70539.0,70540.0,70541.0,70542.0,70543.0,70544.0,70545.0,70546.0,70547.0,70548.0,70549.0,70550.0,70551.0,70552.0,70553.0,70554.0,70555.0,70556.0,70557.0,70558.0,70559.0,70560.0,70561.0,70562.0,70563.0,70564.0,70565.0,70566.0,70567.0,70568.0,70569.0,70570.0,70571.0,70572.0,70573.0,70574.0,70575.0,70576.0,70577.0,70578.0,70579.0,70580.0,70581.0,70582.0,70583.0,70584.0,70585.0,70586.0,70587.0,70588.0,70589.0,70590.0,70591.0,70592.0,70593.0,70594.0,70595.0,70596.0,70597.0,70598.0,70599.0,70600.0,70601.0,70602.0,70603.0,70604.0,70605.0,70606.0,70607.0,70608.0,70609.0,70610.0,70611.0,70612.0,70613.0,70614.0,70615.0,70616.0,70617.0,70618.0,70619.0,70620.0,70621.0,70622.0,70623.0,70624.0,70625.0,70626.0,70627.0,70628.0,70629.0,70630.0,70631.0,70632.0,70633.0,70634.0,70635.0,70636.0,70637.0,70638.0,70639.0,70640.0,70641.0,70642.0,70643.0,70644.0,70645.0,70646.0,70647.0,70648.0,70649.0,70650.0,70651.0,70652.0,70653.0,70654.0,70655.0,70656.0,70657.0,70658.0,70659.0,70660.0,70661.0,70662.0,70663.0,70664.0,70665.0,70666.0,70667.0,70668.0,70669.0,70670.0,70671.0,70672.0,70673.0,70674.0,70675.0,70676.0,70677.0,70678.0,70679.0,70680.0,70681.0,70682.0,70683.0,70684.0,70685.0,70686.0,70687.0,70688.0,70689.0,70690.0,70691.0,70692.0,70693.0,70694.0,70695.0,70696.0,70697.0,70698.0,70699.0,70700.0,70701.0,70702.0,70703.0,70704.0,70705.0,70706.0,70707.0,70708.0,70709.0,70710.0,70711.0,70712.0,70713.0,70714.0,70715.0,70716.0,70717.0,70718.0,70719.0,70720.0,70721.0,70722.0,70723.0,70724.0,70725.0,70726.0,70727.0,70728.0,70729.0,70730.0,70731.0,70732.0,70733.0,70734.0,70735.0,70736.0,70737.0,70738.0,70739.0,70740.0,70741.0,70742.0,70743.0,70744.0,70745.0,70746.0,70747.0,70748.0,70749.0,70750.0,70751.0,70752.0,70753.0,70754.0,70755.0,70756.0,70757.0,70758.0,70759.0,70760.0,70761.0,70762.0,70763.0,70764.0,70765.0,70766.0,70767.0,70768.0,70769.0,70770.0,70771.0,70772.0,70773.0,70774.0,70775.0,70776.0,70777.0,70778.0,70779.0,70780.0,70781.0,70782.0,70783.0,70784.0,70785.0,70786.0,70787.0,70788.0,70789.0,70790.0,70791.0,70792.0,70793.0,70794.0,70795.0,70796.0,70797.0,70798.0,70799.0,70800.0,70801.0,70802.0,70803.0,70804.0,70805.0,70806.0,70807.0,70808.0,70809.0,70810.0,70811.0,70812.0,70813.0,70814.0,70815.0,70816.0,70817.0,70818.0,70819.0,70820.0,70821.0,70822.0,70823.0,70824.0,70825.0,70826.0,70827.0,70828.0,70829.0],\"type\":\"scatter\"}],                        {\"barmode\":\"stack\",\"template\":{\"data\":{\"histogram2dcontour\":[{\"type\":\"histogram2dcontour\",\"colorbar\":{\"outlinewidth\":0,\"ticks\":\"\"},\"colorscale\":[[0.0,\"#0d0887\"],[0.1111111111111111,\"#46039f\"],[0.2222222222222222,\"#7201a8\"],[0.3333333333333333,\"#9c179e\"],[0.4444444444444444,\"#bd3786\"],[0.5555555555555556,\"#d8576b\"],[0.6666666666666666,\"#ed7953\"],[0.7777777777777778,\"#fb9f3a\"],[0.8888888888888888,\"#fdca26\"],[1.0,\"#f0f921\"]]}],\"choropleth\":[{\"type\":\"choropleth\",\"colorbar\":{\"outlinewidth\":0,\"ticks\":\"\"}}],\"histogram2d\":[{\"type\":\"histogram2d\",\"colorbar\":{\"outlinewidth\":0,\"ticks\":\"\"},\"colorscale\":[[0.0,\"#0d0887\"],[0.1111111111111111,\"#46039f\"],[0.2222222222222222,\"#7201a8\"],[0.3333333333333333,\"#9c179e\"],[0.4444444444444444,\"#bd3786\"],[0.5555555555555556,\"#d8576b\"],[0.6666666666666666,\"#ed7953\"],[0.7777777777777778,\"#fb9f3a\"],[0.8888888888888888,\"#fdca26\"],[1.0,\"#f0f921\"]]}],\"heatmap\":[{\"type\":\"heatmap\",\"colorbar\":{\"outlinewidth\":0,\"ticks\":\"\"},\"colorscale\":[[0.0,\"#0d0887\"],[0.1111111111111111,\"#46039f\"],[0.2222222222222222,\"#7201a8\"],[0.3333333333333333,\"#9c179e\"],[0.4444444444444444,\"#bd3786\"],[0.5555555555555556,\"#d8576b\"],[0.6666666666666666,\"#ed7953\"],[0.7777777777777778,\"#fb9f3a\"],[0.8888888888888888,\"#fdca26\"],[1.0,\"#f0f921\"]]}],\"heatmapgl\":[{\"type\":\"heatmapgl\",\"colorbar\":{\"outlinewidth\":0,\"ticks\":\"\"},\"colorscale\":[[0.0,\"#0d0887\"],[0.1111111111111111,\"#46039f\"],[0.2222222222222222,\"#7201a8\"],[0.3333333333333333,\"#9c179e\"],[0.4444444444444444,\"#bd3786\"],[0.5555555555555556,\"#d8576b\"],[0.6666666666666666,\"#ed7953\"],[0.7777777777777778,\"#fb9f3a\"],[0.8888888888888888,\"#fdca26\"],[1.0,\"#f0f921\"]]}],\"contourcarpet\":[{\"type\":\"contourcarpet\",\"colorbar\":{\"outlinewidth\":0,\"ticks\":\"\"}}],\"contour\":[{\"type\":\"contour\",\"colorbar\":{\"outlinewidth\":0,\"ticks\":\"\"},\"colorscale\":[[0.0,\"#0d0887\"],[0.1111111111111111,\"#46039f\"],[0.2222222222222222,\"#7201a8\"],[0.3333333333333333,\"#9c179e\"],[0.4444444444444444,\"#bd3786\"],[0.5555555555555556,\"#d8576b\"],[0.6666666666666666,\"#ed7953\"],[0.7777777777777778,\"#fb9f3a\"],[0.8888888888888888,\"#fdca26\"],[1.0,\"#f0f921\"]]}],\"surface\":[{\"type\":\"surface\",\"colorbar\":{\"outlinewidth\":0,\"ticks\":\"\"},\"colorscale\":[[0.0,\"#0d0887\"],[0.1111111111111111,\"#46039f\"],[0.2222222222222222,\"#7201a8\"],[0.3333333333333333,\"#9c179e\"],[0.4444444444444444,\"#bd3786\"],[0.5555555555555556,\"#d8576b\"],[0.6666666666666666,\"#ed7953\"],[0.7777777777777778,\"#fb9f3a\"],[0.8888888888888888,\"#fdca26\"],[1.0,\"#f0f921\"]]}],\"mesh3d\":[{\"type\":\"mesh3d\",\"colorbar\":{\"outlinewidth\":0,\"ticks\":\"\"}}],\"scatter\":[{\"fillpattern\":{\"fillmode\":\"overlay\",\"size\":10,\"solidity\":0.2},\"type\":\"scatter\"}],\"parcoords\":[{\"type\":\"parcoords\",\"line\":{\"colorbar\":{\"outlinewidth\":0,\"ticks\":\"\"}}}],\"scatterpolargl\":[{\"type\":\"scatterpolargl\",\"marker\":{\"colorbar\":{\"outlinewidth\":0,\"ticks\":\"\"}}}],\"bar\":[{\"error_x\":{\"color\":\"#2a3f5f\"},\"error_y\":{\"color\":\"#2a3f5f\"},\"marker\":{\"line\":{\"color\":\"#E5ECF6\",\"width\":0.5},\"pattern\":{\"fillmode\":\"overlay\",\"size\":10,\"solidity\":0.2}},\"type\":\"bar\"}],\"scattergeo\":[{\"type\":\"scattergeo\",\"marker\":{\"colorbar\":{\"outlinewidth\":0,\"ticks\":\"\"}}}],\"scatterpolar\":[{\"type\":\"scatterpolar\",\"marker\":{\"colorbar\":{\"outlinewidth\":0,\"ticks\":\"\"}}}],\"histogram\":[{\"marker\":{\"pattern\":{\"fillmode\":\"overlay\",\"size\":10,\"solidity\":0.2}},\"type\":\"histogram\"}],\"scattergl\":[{\"type\":\"scattergl\",\"marker\":{\"colorbar\":{\"outlinewidth\":0,\"ticks\":\"\"}}}],\"scatter3d\":[{\"type\":\"scatter3d\",\"line\":{\"colorbar\":{\"outlinewidth\":0,\"ticks\":\"\"}},\"marker\":{\"colorbar\":{\"outlinewidth\":0,\"ticks\":\"\"}}}],\"scattermapbox\":[{\"type\":\"scattermapbox\",\"marker\":{\"colorbar\":{\"outlinewidth\":0,\"ticks\":\"\"}}}],\"scatterternary\":[{\"type\":\"scatterternary\",\"marker\":{\"colorbar\":{\"outlinewidth\":0,\"ticks\":\"\"}}}],\"scattercarpet\":[{\"type\":\"scattercarpet\",\"marker\":{\"colorbar\":{\"outlinewidth\":0,\"ticks\":\"\"}}}],\"carpet\":[{\"aaxis\":{\"endlinecolor\":\"#2a3f5f\",\"gridcolor\":\"white\",\"linecolor\":\"white\",\"minorgridcolor\":\"white\",\"startlinecolor\":\"#2a3f5f\"},\"baxis\":{\"endlinecolor\":\"#2a3f5f\",\"gridcolor\":\"white\",\"linecolor\":\"white\",\"minorgridcolor\":\"white\",\"startlinecolor\":\"#2a3f5f\"},\"type\":\"carpet\"}],\"table\":[{\"cells\":{\"fill\":{\"color\":\"#EBF0F8\"},\"line\":{\"color\":\"white\"}},\"header\":{\"fill\":{\"color\":\"#C8D4E3\"},\"line\":{\"color\":\"white\"}},\"type\":\"table\"}],\"barpolar\":[{\"marker\":{\"line\":{\"color\":\"#E5ECF6\",\"width\":0.5},\"pattern\":{\"fillmode\":\"overlay\",\"size\":10,\"solidity\":0.2}},\"type\":\"barpolar\"}],\"pie\":[{\"automargin\":true,\"type\":\"pie\"}]},\"layout\":{\"autotypenumbers\":\"strict\",\"colorway\":[\"#636efa\",\"#EF553B\",\"#00cc96\",\"#ab63fa\",\"#FFA15A\",\"#19d3f3\",\"#FF6692\",\"#B6E880\",\"#FF97FF\",\"#FECB52\"],\"font\":{\"color\":\"#2a3f5f\"},\"hovermode\":\"closest\",\"hoverlabel\":{\"align\":\"left\"},\"paper_bgcolor\":\"white\",\"plot_bgcolor\":\"#E5ECF6\",\"polar\":{\"bgcolor\":\"#E5ECF6\",\"angularaxis\":{\"gridcolor\":\"white\",\"linecolor\":\"white\",\"ticks\":\"\"},\"radialaxis\":{\"gridcolor\":\"white\",\"linecolor\":\"white\",\"ticks\":\"\"}},\"ternary\":{\"bgcolor\":\"#E5ECF6\",\"aaxis\":{\"gridcolor\":\"white\",\"linecolor\":\"white\",\"ticks\":\"\"},\"baxis\":{\"gridcolor\":\"white\",\"linecolor\":\"white\",\"ticks\":\"\"},\"caxis\":{\"gridcolor\":\"white\",\"linecolor\":\"white\",\"ticks\":\"\"}},\"coloraxis\":{\"colorbar\":{\"outlinewidth\":0,\"ticks\":\"\"}},\"colorscale\":{\"sequential\":[[0.0,\"#0d0887\"],[0.1111111111111111,\"#46039f\"],[0.2222222222222222,\"#7201a8\"],[0.3333333333333333,\"#9c179e\"],[0.4444444444444444,\"#bd3786\"],[0.5555555555555556,\"#d8576b\"],[0.6666666666666666,\"#ed7953\"],[0.7777777777777778,\"#fb9f3a\"],[0.8888888888888888,\"#fdca26\"],[1.0,\"#f0f921\"]],\"sequentialminus\":[[0.0,\"#0d0887\"],[0.1111111111111111,\"#46039f\"],[0.2222222222222222,\"#7201a8\"],[0.3333333333333333,\"#9c179e\"],[0.4444444444444444,\"#bd3786\"],[0.5555555555555556,\"#d8576b\"],[0.6666666666666666,\"#ed7953\"],[0.7777777777777778,\"#fb9f3a\"],[0.8888888888888888,\"#fdca26\"],[1.0,\"#f0f921\"]],\"diverging\":[[0,\"#8e0152\"],[0.1,\"#c51b7d\"],[0.2,\"#de77ae\"],[0.3,\"#f1b6da\"],[0.4,\"#fde0ef\"],[0.5,\"#f7f7f7\"],[0.6,\"#e6f5d0\"],[0.7,\"#b8e186\"],[0.8,\"#7fbc41\"],[0.9,\"#4d9221\"],[1,\"#276419\"]]},\"xaxis\":{\"gridcolor\":\"white\",\"linecolor\":\"white\",\"ticks\":\"\",\"title\":{\"standoff\":15},\"zerolinecolor\":\"white\",\"automargin\":true,\"zerolinewidth\":2},\"yaxis\":{\"gridcolor\":\"white\",\"linecolor\":\"white\",\"ticks\":\"\",\"title\":{\"standoff\":15},\"zerolinecolor\":\"white\",\"automargin\":true,\"zerolinewidth\":2},\"scene\":{\"xaxis\":{\"backgroundcolor\":\"#E5ECF6\",\"gridcolor\":\"white\",\"linecolor\":\"white\",\"showbackground\":true,\"ticks\":\"\",\"zerolinecolor\":\"white\",\"gridwidth\":2},\"yaxis\":{\"backgroundcolor\":\"#E5ECF6\",\"gridcolor\":\"white\",\"linecolor\":\"white\",\"showbackground\":true,\"ticks\":\"\",\"zerolinecolor\":\"white\",\"gridwidth\":2},\"zaxis\":{\"backgroundcolor\":\"#E5ECF6\",\"gridcolor\":\"white\",\"linecolor\":\"white\",\"showbackground\":true,\"ticks\":\"\",\"zerolinecolor\":\"white\",\"gridwidth\":2}},\"shapedefaults\":{\"line\":{\"color\":\"#2a3f5f\"}},\"annotationdefaults\":{\"arrowcolor\":\"#2a3f5f\",\"arrowhead\":0,\"arrowwidth\":1},\"geo\":{\"bgcolor\":\"white\",\"landcolor\":\"#E5ECF6\",\"subunitcolor\":\"white\",\"showland\":true,\"showlakes\":true,\"lakecolor\":\"white\"},\"title\":{\"x\":0.05},\"mapbox\":{\"style\":\"light\"}}}},                        {\"responsive\": true}                    ).then(function(){\n",
              "                            \n",
              "var gd = document.getElementById('deae7fa7-cbe2-4081-8233-85d35e3849da');\n",
              "var x = new MutationObserver(function (mutations, observer) {{\n",
              "        var display = window.getComputedStyle(gd).display;\n",
              "        if (!display || display === 'none') {{\n",
              "            console.log([gd, 'removed!']);\n",
              "            Plotly.purge(gd);\n",
              "            observer.disconnect();\n",
              "        }}\n",
              "}});\n",
              "\n",
              "// Listen for the removal of the full notebook cells\n",
              "var notebookContainer = gd.closest('#notebook-container');\n",
              "if (notebookContainer) {{\n",
              "    x.observe(notebookContainer, {childList: true});\n",
              "}}\n",
              "\n",
              "// Listen for the clearing of the current output cell\n",
              "var outputEl = gd.closest('.output');\n",
              "if (outputEl) {{\n",
              "    x.observe(outputEl, {childList: true});\n",
              "}}\n",
              "\n",
              "                        })                };                            </script>        </div>\n",
              "</body>\n",
              "</html>"
            ]
          },
          "metadata": {}
        }
      ],
      "source": [
        "fig = go.Figure(\n",
        "    data=[\n",
        "        go.Scatter(\n",
        "            x=vap['sell_volume'],\n",
        "            y=vap['price'],\n",
        "            fill='tozerox',\n",
        "            name='sell'\n",
        "        ),\n",
        "        go.Scatter(\n",
        "            x=vap['sell_volume'] + vap['buy_volume'],\n",
        "            y=vap['price'],\n",
        "            fill='tonextx',\n",
        "            name='buy'\n",
        "        ),\n",
        "    ],\n",
        "    layout=go.Layout(barmode='stack')\n",
        ")\n",
        "\n",
        "fig"
      ]
    },
    {
      "cell_type": "markdown",
      "metadata": {
        "id": "0iNc_KjiOoOU"
      },
      "source": [
        "## WebSocketによるリアルタイム情報取得\n",
        "(注：ColabではWebSocketが動きません。ローカル環境で試してください）\n",
        "\n",
        "なお、同時にTick（約定）情報もDBへリアルタイムに更新されていきます。\n",
        "そのため２回目にOHLCV取得すると、リアルタイム分とバッチダウンロード分の間にギャップができます。\n",
        "ここを埋めるAPIもあるのですが、また別途。"
      ]
    },
    {
      "cell_type": "code",
      "execution_count": null,
      "metadata": {
        "id": "mwYVEoZ7OoOU"
      },
      "outputs": [],
      "source": [
        "# WebSocketデータの受信開始\n",
        "market.start_market_stream()\n",
        "\n",
        "from time import sleep\n",
        "sleep(1)"
      ]
    },
    {
      "cell_type": "code",
      "execution_count": null,
      "metadata": {
        "id": "M-MMqYRLOoOU"
      },
      "outputs": [],
      "source": [
        "\n",
        "from time import sleep\n",
        "import plotly.graph_objects as go\n",
        "\n",
        "def trim(bids, asks):\n",
        "    ask_spred =  asks['price'][-1] - asks['price'][0]\n",
        "    bids_spred = bids['price'][0] - bids['price'][-1]\n",
        "\n",
        "    if ask_spred < bids_spred:\n",
        "        edge = bids['price'][0]\n",
        "        bids = bids.filter(bids['price'] > edge - ask_spred * 3)\n",
        "    else:\n",
        "        edge = asks['price'][0]\n",
        "        asks = asks.filter(asks['price'] < edge + bids_spred * 3)\n",
        "\n",
        "    return bids, asks\n",
        "\n",
        "fig = go.FigureWidget()\n",
        "\n",
        "bids, asks = market.board\n",
        "bids, asks = trim(bids, asks)\n",
        "\n",
        "fig.add_scatter(\n",
        "    x=bids['price'],\n",
        "    y=bids['sum'],\n",
        "    name='bids',\n",
        "    marker_color='blue'\n",
        ")\n",
        "\n",
        "fig.add_scatter(\n",
        "    x=asks['price'],\n",
        "    y=asks['sum'],\n",
        "    name='asks',\n",
        "    marker_color='red'\n",
        ")\n",
        "\n",
        "fig.layout.title = 'Bybit BTCUSDT Order Book'\n",
        "fig"
      ]
    },
    {
      "cell_type": "code",
      "execution_count": null,
      "metadata": {
        "id": "PuhtULU6OoOU"
      },
      "outputs": [],
      "source": [
        "# 0.1秒ごとに板情報を更新する（１００回ループ）\n",
        "\n",
        "for i in range(1000):\n",
        "    bids, asks = market.board\n",
        "    bids, asks = trim(bids, asks)\n",
        "    bids_edge = bids['price'][0]\n",
        "    asks_edge = asks['price'][0]\n",
        "\n",
        "    fig.layout.title = f'Bybit BTCUSDT Order Book (bids_edge={bids_edge}, asks_edge={asks_edge})'\n",
        "\n",
        "    fig.data[0].x = bids['price']\n",
        "    fig.data[0].y = bids['sum']\n",
        "    fig.data[1].x = asks['price']\n",
        "    fig.data[1].y = asks['sum']\n",
        "    sleep(0.1)\n",
        "\n",
        "\n",
        "\n",
        "\n"
      ]
    },
    {
      "cell_type": "markdown",
      "metadata": {
        "id": "EMm9iU5ZOoOU"
      },
      "source": [
        "# 以後テスト用"
      ]
    },
    {
      "cell_type": "code",
      "execution_count": null,
      "metadata": {
        "id": "27hwMgQnOoOU"
      },
      "outputs": [],
      "source": [
        "# VAP内の縦横計算の確認\n",
        "\n",
        "vap_sum = vap.sum()\n",
        "\n",
        "print(vap_sum)\n",
        "\n",
        "vap_sell_sum = vap_sum['sell_volume'][0]\n",
        "vap_buy_sum = vap_sum['buy_volume'][0]\n",
        "vap_volume_sum = vap_sum['volume'][0]\n",
        "\n",
        "print('vap_sell_volume: ', vap_sell_sum)\n",
        "print('vap_buy_volume: ', vap_buy_sum)\n",
        "print('vap_volume: ', vap_volume_sum)\n",
        "\n",
        "if vap_sell_sum + vap_buy_sum != vap_volume_sum:\n",
        "    print('error')\n",
        "else:\n",
        "    print('OK')\n"
      ]
    },
    {
      "cell_type": "code",
      "execution_count": null,
      "metadata": {
        "id": "l5h7yzPuOoOU"
      },
      "outputs": [],
      "source": [
        "#　合計値がOHLCVとVAPで一致することを確認する。\n",
        "ohlcvv = market.ohlcvv(start_time=0, end_time=0, window_sec=60)\n",
        "\n",
        "sum = ohlcvv['volume'].sum()\n",
        "\n",
        "sum1 = ohlcv['volume'].sum()\n",
        "sum2 = vap['buy_volume'].sum() + vap['sell_volume'].sum()\n",
        "\n",
        "print(f'OHLCVVの合計値: {sum}')\n",
        "print(f'OHLCVの合計値: {sum1}')\n",
        "print(f'VAPの合計値: {sum2}')\n"
      ]
    },
    {
      "cell_type": "code",
      "execution_count": null,
      "metadata": {
        "id": "4zarqtGn_Cl3"
      },
      "outputs": [],
      "source": []
    }
  ],
  "metadata": {
    "colab": {
      "provenance": [],
      "include_colab_link": true
    },
    "kernelspec": {
      "display_name": "Python 3",
      "language": "python",
      "name": "python3"
    },
    "language_info": {
      "codemirror_mode": {
        "name": "ipython",
        "version": 3
      },
      "file_extension": ".py",
      "mimetype": "text/x-python",
      "name": "python",
      "nbconvert_exporter": "python",
      "pygments_lexer": "ipython3",
      "version": "3.11.6"
    }
  },
  "nbformat": 4,
  "nbformat_minor": 0
}