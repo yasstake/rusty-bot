{
 "cells": [
  {
   "cell_type": "markdown",
   "metadata": {},
   "source": [
    "# rusty-bot(rbot)　API reference\n",
    "\n",
    "* Common API\n",
    "  * [Session class](./session.ipynb)\n",
    "  * [Logger class](./logger.ipynb)\n",
    "  * [time utility](./time.ipynb)\n",
    "\n",
    "* Exchange API\n",
    "  * Binance\n",
    "    * [BinanceMarket (market information)](./binance/binance_market.ipynb)\n",
    "    * [BinanceMarket (place order)](./binance/binance_order.ipynb)\n",
    "    * [BinanceConfig ](./binance/binance_config.ipynb)\n",
    "  * Bybit\n",
    "    * [BybitMarket (market information)](./bybit/bybit_market.ipynb)\n",
    "    * [BybitMarket (place order)](./bybit/bybit_order.ipynb)\n",
    "    * [BybitConfig](./bybit/bybit_config.ipynb)\n"
   ]
  },
  {
   "cell_type": "code",
   "execution_count": null,
   "metadata": {},
   "outputs": [],
   "source": []
  }
 ],
 "metadata": {
  "language_info": {
   "name": "python"
  }
 },
 "nbformat": 4,
 "nbformat_minor": 2
}
